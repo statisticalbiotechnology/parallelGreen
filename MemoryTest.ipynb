{
 "cells": [
  {
   "cell_type": "code",
   "execution_count": 1,
   "metadata": {},
   "outputs": [],
   "source": [
    "from significance_of_mean_cuda import significance_of_mean_cuda\n",
    "from utils import getdf\n",
    "import numpy as np\n",
    "import time\n",
    "import multiprocessing\n",
    "import concurrent.futures as cf\n",
    "import matplotlib.pyplot as plt\n",
    "import numpy as np\n",
    "from scipy.stats import truncnorm\n",
    "import matplotlib.pyplot as plt\n",
    "from IPython.display import Image\n",
    "import sklearn\n",
    "import time\n",
    "from scipy.stats import ttest_ind, ttest_rel, chisquare, ks_2samp\n",
    "import pandas as pd\n",
    "import seaborn as sns\n",
    "\n",
    "import matplotlib as mpl\n",
    "\n",
    "mpl.rcParams['text.usetex'] = False  # not really needed\n",
    "\n",
    "from scipy import stats\n",
    "from scipy.stats import mannwhitneyu\n",
    "import pickle\n",
    "import matplotlib.pyplot as plt"
   ]
  },
  {
   "cell_type": "markdown",
   "metadata": {},
   "source": [
    "### Calibration-plot"
   ]
  },
  {
   "cell_type": "code",
   "execution_count": 2,
   "metadata": {},
   "outputs": [],
   "source": [
    "def sns_plot(df, save_name=None):\n",
    "    #sns.set(font_scale=1.5)\n",
    "    sns.set(style=\"white\")\n",
    "    sns.set_context(\"talk\")\n",
    "    c1, c2 = df.columns\n",
    "    low = min(min(df[c1]), min(df[c2]))\n",
    "    hi = max(max(df[c1]), max(df[c2]))\n",
    "    \n",
    "    g=sns.lmplot(x=c1, y =c2, data=df, \n",
    "                  fit_reg=False, height=7, truncate=True, scatter_kws={\"s\": 15})\n",
    "    \n",
    "    g.set(xscale=\"log\", yscale=\"log\")\n",
    "    axes = g.axes\n",
    "    g.set(ylim=(low,hi), xlim=(low,hi))\n",
    "    plt.plot([low,hi],[low,hi], \"k\", linewidth=1)\n",
    "    sns.set_style(\"ticks\")\n",
    "    sns.despine()\n",
    "    g.fig.tight_layout()\n",
    "    if save_name:\n",
    "        g.savefig(save_name)"
   ]
  },
  {
   "cell_type": "code",
   "execution_count": 3,
   "metadata": {},
   "outputs": [],
   "source": [
    "def multiple_plot(df, save_name):\n",
    "    #sns.set(font_scale=1.5)\n",
    "    sns.set(style=\"white\")\n",
    "    sns.set_context(\"talk\")\n",
    "    low = min(df[\"Theoretical p-value\"])\n",
    "    hi = max(df[\"Theoretical p-value\"])\n",
    "    g=sns.lmplot(x='Theoretical p-value', y ='Observed p-value', data=df, \n",
    "                  fit_reg=False, height=7, truncate=True, scatter_kws={\"s\": 15}, hue=\"Test\")\n",
    "    \n",
    "    g.set(xscale=\"log\", yscale=\"log\")\n",
    "    axes = g.axes\n",
    "    g.set(ylim=(low,hi), xlim=(low,hi))\n",
    "    plt.plot([low,hi],[low,hi], \"k\", linewidth=1)\n",
    "    sns.set_style(\"ticks\")\n",
    "    sns.despine()\n",
    "    g.fig.tight_layout()\n",
    "    g.savefig(save_name)"
   ]
  },
  {
   "cell_type": "code",
   "execution_count": 4,
   "metadata": {},
   "outputs": [],
   "source": [
    "def exactTest(A,B, bins=10, one_side=True):\n",
    "    SGM = significance_of_mean_cuda(bins, dtype_v=np.uint64,dtype_A=np.float64)\n",
    "    SGM.run(np.asarray(A),np.asarray(B))\n",
    "    if one_side:\n",
    "        return SGM.get_p_values()\n",
    "    else:\n",
    "        return [ 2*p for p in SGM.get_p_values()]\n",
    "        #return [2 * min( p, (1-p)) for p in SGM.get_p_values()]\n",
    "\n",
    "def MWU(A, B, one_side=True):\n",
    "    p_mw = list()\n",
    "    for a,b in zip(A, B):\n",
    "        if one_side:\n",
    "            p_mw.append(mannwhitneyu(a,b, alternative=\"less\")[1])\n",
    "        else:\n",
    "            p_mw.append(mannwhitneyu(a,b, alternative=\"two-sided\")[1])\n",
    "    return p_mw\n",
    "\n",
    "def ttests(A,B, one_side=True):\n",
    "    p_t = list()\n",
    "    for x, y in zip(A, B):\n",
    "        t, p = ttest_ind(y, x)\n",
    "        if one_side:\n",
    "            p = p/2\n",
    "            if t<0:\n",
    "                p = 1-p\n",
    "        p_t.append(p)\n",
    "    return p_t\n"
   ]
  },
  {
   "cell_type": "code",
   "execution_count": 5,
   "metadata": {},
   "outputs": [],
   "source": [
    "def runTestInBatch(Abatch, Bbatch, sample_n, w):\n",
    "    allPval = list()\n",
    "    batchSize = len(Abatch)\n",
    "    for j in range(0, batchSize, sample_n):\n",
    "        Abatch_div = Abatch[j:j+sample_n]\n",
    "        Bbatch_div = Bbatch[j:j+sample_n]\n",
    "        pExactListNorm = exactTest(Abatch_div, Bbatch_div, w, True)\n",
    "        allPval.append(pExactListNorm)\n",
    "    return allPval\n",
    "\n",
    "def getTimeSeries(setNList, sampleNList, NwList, batchsize, sampleRangeMax):\n",
    "    ALLTimeList = list()\n",
    "    for set_n, sample_n, w in zip(setNList, sampleNList, NwList):\n",
    "        allTimes = list()\n",
    "        AN, BN = [np.random.normal(0,1,set_n) for i in range(sampleRangeMax)], [np.random.normal(0,1,set_n) for i in range(sampleRangeMax)]\n",
    "        for i in range(0, len(AN), batchsize):\n",
    "            Abatch = AN[:i+batchsize]\n",
    "            Bbatch = BN[:i+batchsize]\n",
    "            print(\"Batch len {}\".format(len(Abatch)))\n",
    "        \n",
    "            start = time.time()\n",
    "            allPval = runTestInBatch(Abatch, Bbatch, sample_n, w)\n",
    "            print(allPval)\n",
    "            end = time.time()\n",
    "            dt = end - start\n",
    "            print(dt)\n",
    "            allTimes.append(dt)\n",
    "            print(\"------------\")\n",
    "        ALLTimeList.append(allTimes)\n",
    "    return ALLTimeList\n",
    "        \n",
    "    \n",
    "\n",
    "    \n",
    "\n",
    "    \n",
    "    "
   ]
  },
  {
   "cell_type": "code",
   "execution_count": 6,
   "metadata": {},
   "outputs": [],
   "source": [
    "def preparePandas(timeData, sampleSizes, experimentName=None):\n",
    "    preparePd = list()\n",
    "    for time, sample in zip(timeData, sampleSizes):\n",
    "        if experimentName:\n",
    "            preparePd.append([str(experimentName),time, sample])\n",
    "        else:\n",
    "            preparePd.append([time, sample])\n",
    "    return preparePd"
   ]
  },
  {
   "cell_type": "code",
   "execution_count": 7,
   "metadata": {},
   "outputs": [],
   "source": [
    "def timePlotSNS(df,binVar=False, log=False, path=None):\n",
    "    fig, ax = plt.subplots()\n",
    "\n",
    "    sns.set(style=\"white\")\n",
    "    sns.set_context(\"talk\")\n",
    "    \n",
    "    \n",
    "    \n",
    "    pdData = df\n",
    "    \n",
    "    palette = dict(zip(set(df.Experiment), [\"r\", \"g\", \"b\"]))\n",
    "    \n",
    "    x = pdData[\"time(s)\"].values\n",
    "    \n",
    "    if log:        \n",
    "        MAX = max(x)\n",
    "        MIN = min(x)\n",
    "        \n",
    "\n",
    "\n",
    "        RANGE = np.arange(np.floor(MIN), np.ceil(MAX))\n",
    "        snsPlot = sns.lineplot(x=\"Sample size\", y=\"time(s)\",\n",
    "             hue=\"Experiment\",\n",
    "             data=pdData, palette=palette)#.set(yticks = RANGE, yticklabels=10**RANGE)\n",
    "        plt.yticks(RANGE, 10.0**RANGE)\n",
    "        \n",
    "        \n",
    "    else:\n",
    "        snsPlot = sns.lineplot(x=\"Sample size\", y=\"time(s)\",\n",
    "             hue=\"Experiment\",\n",
    "             data=pdData,palette=palette)\n",
    "    \n",
    "    if binVar:\n",
    "        plt.xlabel(r\"$n$\")\n",
    "        \n",
    "    else:\n",
    "        plt.xlabel(r\"$n$\")\n",
    "    \n",
    "    \n",
    "    \n",
    "    plt.legend(loc='upper left')\n",
    "    handles, labels = ax.get_legend_handles_labels()\n",
    "    ax.legend(handles=handles[1:], labels=labels[1:])\n",
    "    \n",
    "\n",
    "    plt.setp(snsPlot.get_legend().get_texts(), fontsize='12')\n",
    "    \n",
    "    sns.despine()\n",
    "    plt.tight_layout()\n",
    "    plt.gcf().subplots_adjust(left=0.30)\n"
   ]
  },
  {
   "cell_type": "code",
   "execution_count": 8,
   "metadata": {},
   "outputs": [],
   "source": [
    "def getPATH(path, suffix, prefix):\n",
    "    return path + '/'+ suffix + '/' + prefix"
   ]
  },
  {
   "cell_type": "code",
   "execution_count": 9,
   "metadata": {},
   "outputs": [],
   "source": [
    "path = \"figures/paralellVsFastApprox\""
   ]
  },
  {
   "cell_type": "markdown",
   "metadata": {},
   "source": [
    "# Set size 20 and sample size 10000"
   ]
  },
  {
   "cell_type": "code",
   "execution_count": 10,
   "metadata": {},
   "outputs": [],
   "source": [
    "import numpy as np\n",
    "from significance_of_mean_cuda import significance_of_mean_cuda\n",
    "from scipy.stats import mannwhitneyu, ttest_ind\n",
    "import pandas as pd\n",
    "import seaborn as sns\n",
    "import matplotlib.pyplot as plt\n",
    "from utils import getdf"
   ]
  },
  {
   "cell_type": "code",
   "execution_count": null,
   "metadata": {},
   "outputs": [],
   "source": [
    "np.random.seed(10)"
   ]
  },
  {
   "cell_type": "code",
   "execution_count": null,
   "metadata": {},
   "outputs": [],
   "source": [
    "setN = [500,500,500]\n",
    "sampleN = [2,20,4]\n",
    "W = [2000,200,1000]\n",
    "batchsize = 1\n",
    "sampleRangeMax =24"
   ]
  },
  {
   "cell_type": "code",
   "execution_count": null,
   "metadata": {},
   "outputs": [],
   "source": [
    "setN = [500]\n",
    "sampleN = [2]\n",
    "W = [2000]\n",
    "batchsize = 1\n",
    "sampleRangeMax =1"
   ]
  },
  {
   "cell_type": "code",
   "execution_count": null,
   "metadata": {},
   "outputs": [],
   "source": [
    "P = getTimeSeries(setN, sampleN, W, 100, sampleRangeMax)"
   ]
  },
  {
   "cell_type": "code",
   "execution_count": null,
   "metadata": {},
   "outputs": [],
   "source": [
    "P"
   ]
  },
  {
   "cell_type": "code",
   "execution_count": null,
   "metadata": {},
   "outputs": [],
   "source": []
  },
  {
   "cell_type": "code",
   "execution_count": null,
   "metadata": {},
   "outputs": [],
   "source": [
    "#pickle.dump(ALLTime2, open(\"data/memeroytest/LargeSetSize\", \"wb\"))\n",
    "LargeSetSize = pickle.load(open(\"data/memeroytest/LargeSetSize\", \"rb\"))"
   ]
  },
  {
   "cell_type": "code",
   "execution_count": null,
   "metadata": {},
   "outputs": [],
   "source": [
    "AN, BN = [np.random.normal(0,1,setN[0]) for i in range(sampleRangeMax)], [np.random.normal(0,1,setN[0]) for i in range(sampleRangeMax)]\n",
    "batchList = list()\n",
    "for i in range(0, len(AN), 1):\n",
    "    Abatch = AN[:i+1]\n",
    "    batchList.append(len(Abatch))"
   ]
  },
  {
   "cell_type": "code",
   "execution_count": null,
   "metadata": {},
   "outputs": [],
   "source": [
    "data_0 = preparePandas(batchList, LargeSetSize[0], \"$n_{w}=2000$\")\n",
    "data_1 = preparePandas(batchList, LargeSetSize[1], \"$n_{w}=200$\")\n",
    "data_2 = preparePandas(batchList, LargeSetSize[2], \"$n_{w}=1000$\")"
   ]
  },
  {
   "cell_type": "code",
   "execution_count": null,
   "metadata": {},
   "outputs": [],
   "source": [
    "data = data_0 + data_1 + data_2\n",
    "pdData = pd.DataFrame(data, columns=['Experiment','Sample size', 'time(s)',])"
   ]
  },
  {
   "cell_type": "code",
   "execution_count": null,
   "metadata": {},
   "outputs": [],
   "source": [
    "x0, y0 = getScatterData(sampleN[0],LargeSetSize[0], sampleRangeMax, 1)\n",
    "x1, y1 = getScatterData(sampleN[1],LargeSetSize[1], sampleRangeMax, 1)\n",
    "x2, y2 = getScatterData(sampleN[2],LargeSetSize[2], sampleRangeMax, 1)"
   ]
  },
  {
   "cell_type": "code",
   "execution_count": null,
   "metadata": {},
   "outputs": [],
   "source": [
    "timePlotSNS(pdData, log=False)\n",
    "plt.scatter(y0, x0, marker=\"o\", color=\"g\")\n",
    "plt.scatter(y1, x1, marker=\"o\", color=\"r\")\n",
    "plt.scatter(y2, x2, marker=\"o\", color=\"b\")\n",
    "plt.savefig(\"figures/memoryPlot/largeN\")"
   ]
  },
  {
   "cell_type": "code",
   "execution_count": null,
   "metadata": {},
   "outputs": [],
   "source": []
  },
  {
   "cell_type": "code",
   "execution_count": null,
   "metadata": {},
   "outputs": [],
   "source": [
    "plt.plot(batchList, LargeSetSize[0])\n",
    "plt.plot(batchList, LargeSetSize[1])\n",
    "plt.plot(batchList, LargeSetSize[2])"
   ]
  },
  {
   "cell_type": "code",
   "execution_count": null,
   "metadata": {},
   "outputs": [],
   "source": [
    "#data_0 = preparePandas(batchList, ALLTime2[0], \"nw=2000\")\n",
    "#data_1 = preparePandas(batchList, ALLTime2[1], \"nw=200\")\n",
    "#data_2 = preparePandas(batchList, ALLTime2[2], \"nw=1000\")\n",
    "\n",
    "data_0 = preparePandas(batchList, np.log10(ALLTime2[0]), \"nw=2000\")\n",
    "data_1 = preparePandas(batchList, np.log10(ALLTime2[1]), \"nw=200\")\n",
    "data_2 = preparePandas(batchList, np.log10(ALLTime2[2]), \"nw=1000\")"
   ]
  },
  {
   "cell_type": "code",
   "execution_count": null,
   "metadata": {},
   "outputs": [],
   "source": [
    "#data = data_0 + data_1 + data_2\n",
    "data = data_0 + data_2"
   ]
  },
  {
   "cell_type": "code",
   "execution_count": null,
   "metadata": {},
   "outputs": [],
   "source": [
    "pdData = pd.DataFrame(data, columns=['Experiment','Sample size', 'time(s)',])"
   ]
  },
  {
   "cell_type": "code",
   "execution_count": null,
   "metadata": {},
   "outputs": [],
   "source": [
    "timePlotSNS(pdData, log=True)"
   ]
  },
  {
   "cell_type": "code",
   "execution_count": null,
   "metadata": {},
   "outputs": [],
   "source": []
  },
  {
   "cell_type": "code",
   "execution_count": null,
   "metadata": {},
   "outputs": [],
   "source": [
    "batchList = list()\n",
    "for i in range(0, len(AN), batchsize):\n",
    "    Abatch = AN[:i+batchsize]\n",
    "    batchList.append(len(Abatch))"
   ]
  },
  {
   "cell_type": "code",
   "execution_count": null,
   "metadata": {},
   "outputs": [],
   "source": [
    "batchsize = 100\n",
    "\n"
   ]
  },
  {
   "cell_type": "code",
   "execution_count": null,
   "metadata": {},
   "outputs": [],
   "source": [
    "setN = [40,40,40]\n",
    "sampleN = [400,2500,650]\n",
    "W = [1250,200,800]\n",
    "sampleRangeMax= 2700\n",
    "#setN = [40]\n",
    "#sampleN = [400]\n",
    "#W = [1250]"
   ]
  },
  {
   "cell_type": "code",
   "execution_count": null,
   "metadata": {},
   "outputs": [],
   "source": [
    "#ALLTimeList = getTimeSeries(setN, sampleN, W, 100, sampleRangeMax)"
   ]
  },
  {
   "cell_type": "code",
   "execution_count": null,
   "metadata": {},
   "outputs": [],
   "source": [
    "AN, BN = [np.random.normal(0,1,setN[0]) for i in range(sampleRangeMax)], [np.random.normal(0,1,setN[0]) for i in range(sampleRangeMax)]\n",
    "\n"
   ]
  },
  {
   "cell_type": "code",
   "execution_count": null,
   "metadata": {},
   "outputs": [],
   "source": [
    "batchList = list()\n",
    "for i in range(0, len(AN), 100):\n",
    "    Abatch = AN[:i+100]\n",
    "    batchList.append(len(Abatch))"
   ]
  },
  {
   "cell_type": "code",
   "execution_count": null,
   "metadata": {},
   "outputs": [],
   "source": [
    "data_0 = preparePandas(batchList, ALLTimeList[0], \"$n_{w}=1250$\")\n",
    "data_1 = preparePandas(batchList, ALLTimeList[1], \"$n_{w}=200$\")\n",
    "data_2 = preparePandas(batchList, ALLTimeList[2], \"$n_{w}=800$\")"
   ]
  },
  {
   "cell_type": "code",
   "execution_count": null,
   "metadata": {},
   "outputs": [],
   "source": [
    "data = data_0 + data_1 + data_2\n",
    "pdData = pd.DataFrame(data, columns=['Experiment','Sample size', 'time(s)',])"
   ]
  },
  {
   "cell_type": "code",
   "execution_count": null,
   "metadata": {},
   "outputs": [],
   "source": [
    "x0, y0 = getScatterData(sampleN[0],ALLTimeList[0], sampleRangeMax, 100)\n",
    "x1, y1 = getScatterData(sampleN[1],ALLTimeList[1], sampleRangeMax, 100)\n",
    "x2, y2 = getScatterData(sampleN[2],ALLTimeList[2], sampleRangeMax, 100)"
   ]
  },
  {
   "cell_type": "code",
   "execution_count": null,
   "metadata": {},
   "outputs": [],
   "source": [
    "!pwd"
   ]
  },
  {
   "cell_type": "code",
   "execution_count": null,
   "metadata": {},
   "outputs": [],
   "source": [
    "\n",
    "timePlotSNS(pdData, log=False)\n",
    "plt.scatter(y0, x0, marker=\"o\", color=\"b\")\n",
    "plt.scatter(y1, x1, marker=\"o\", color=\"r\")\n",
    "plt.scatter(y2, x2, marker=\"o\", color=\"g\")\n",
    "plt.savefig(\"figures/memoryPlot/smallN\")"
   ]
  },
  {
   "cell_type": "code",
   "execution_count": null,
   "metadata": {},
   "outputs": [],
   "source": [
    "def getScatterData(sN,tList, maxRange, batchSize):\n",
    "    y=list()\n",
    "    x=list()\n",
    "    for i, j in enumerate(range(0, maxRange, batchSize)):\n",
    "        if j % sN ==0 and j!=0:\n",
    "            y.append(j)\n",
    "            x.append(tList[i-1])\n",
    "    return x, y\n",
    "    \n",
    "    "
   ]
  },
  {
   "cell_type": "code",
   "execution_count": null,
   "metadata": {},
   "outputs": [],
   "source": [
    "x0, y0 = getScatterData(sampleN[0],ALLTimeList[0], sampleRangeMax, 100)\n",
    "x1, y1 = getScatterData(sampleN[1],ALLTimeList[1], sampleRangeMax, 100)\n",
    "x2, y2 = getScatterData(sampleN[2],ALLTimeList[2], sampleRangeMax, 100)"
   ]
  },
  {
   "cell_type": "code",
   "execution_count": null,
   "metadata": {},
   "outputs": [],
   "source": []
  },
  {
   "cell_type": "code",
   "execution_count": 93,
   "metadata": {},
   "outputs": [],
   "source": [
    "A, B = [np.random.normal(0,1,515) for i in range(1)], [np.random.normal(0,1,515) for i in range(1)]\n"
   ]
  },
  {
   "cell_type": "code",
   "execution_count": 107,
   "metadata": {},
   "outputs": [
    {
     "name": "stdout",
     "output_type": "stream",
     "text": [
      "This data requires 244.94726400000002 MiB on the GPU.\n"
     ]
    },
    {
     "data": {
      "text/plain": [
       "array([0.24908181])"
      ]
     },
     "execution_count": 107,
     "metadata": {},
     "output_type": "execute_result"
    }
   ],
   "source": [
    "SGM = significance_of_mean_cuda(100, dtype_v=np.uint64,dtype_A=np.float64)\n",
    "SGM.run(np.asarray(A),np.asarray(B))\n",
    "SGM.get_p_values()"
   ]
  },
  {
   "cell_type": "code",
   "execution_count": 108,
   "metadata": {},
   "outputs": [
    {
     "data": {
      "text/plain": [
       "array([2.23884673e+305])"
      ]
     },
     "execution_count": 108,
     "metadata": {},
     "output_type": "execute_result"
    }
   ],
   "source": [
    "max(SGM.numerator)"
   ]
  },
  {
   "cell_type": "code",
   "execution_count": 109,
   "metadata": {},
   "outputs": [
    {
     "data": {
      "text/plain": [
       "1.7976931348623157e+308"
      ]
     },
     "execution_count": 109,
     "metadata": {},
     "output_type": "execute_result"
    }
   ],
   "source": [
    "sys.float_info.max"
   ]
  },
  {
   "cell_type": "code",
   "execution_count": 103,
   "metadata": {},
   "outputs": [],
   "source": [
    "#|A|=520, bins = 300, 8.77112071e+307"
   ]
  },
  {
   "cell_type": "code",
   "execution_count": null,
   "metadata": {},
   "outputs": [],
   "source": []
  },
  {
   "cell_type": "code",
   "execution_count": null,
   "metadata": {},
   "outputs": [],
   "source": []
  },
  {
   "cell_type": "code",
   "execution_count": null,
   "metadata": {},
   "outputs": [],
   "source": [
    "\n",
    "y=list()\n",
    "x=list()\n",
    "for i, j in enumerate(range(0, sampleRangeMax, 100)):\n",
    "    if j % sampleN[0]==0 and j!=0:\n",
    "        y.append(j)\n",
    "        x.append(ALLTimeList[0][i-1])\n",
    "    "
   ]
  },
  {
   "cell_type": "code",
   "execution_count": null,
   "metadata": {},
   "outputs": [],
   "source": [
    "y"
   ]
  },
  {
   "cell_type": "code",
   "execution_count": null,
   "metadata": {},
   "outputs": [],
   "source": [
    "x"
   ]
  },
  {
   "cell_type": "code",
   "execution_count": null,
   "metadata": {},
   "outputs": [],
   "source": [
    "\n",
    "AN, BN = [np.random.normal(0,1,set_n) for i in range(sample_n)], [np.random.normal(0,1,set_n) for i in range(sample_n)]\n"
   ]
  },
  {
   "cell_type": "markdown",
   "metadata": {},
   "source": [
    "# Exact test"
   ]
  },
  {
   "cell_type": "code",
   "execution_count": null,
   "metadata": {},
   "outputs": [],
   "source": [
    "%time pExactListNorm = exactTest(BN,AN, 1000, True)\n",
    "#pDfExact = getdf(pExactListNorm, sample_n, \"parallelized shift\")\n",
    "#my_scatter_plot(pDfExact,\"figures/calibration/largeSample_10000_20/e_norm_0_1_50\")"
   ]
  },
  {
   "cell_type": "code",
   "execution_count": null,
   "metadata": {},
   "outputs": [],
   "source": [
    "pExactListNorm"
   ]
  },
  {
   "cell_type": "markdown",
   "metadata": {},
   "source": [
    "# Mann-Whitney"
   ]
  },
  {
   "cell_type": "code",
   "execution_count": null,
   "metadata": {},
   "outputs": [],
   "source": [
    "pMWUListNorm = MWU(AN, BN, True)\n",
    "#pDfMW = getdf(pMWUListNorm, sample_n, \"MWU\")\n",
    "#my_scatter_plot(pDfMW,\"figures/calibration/largeSample_10000_20/mw_norm_0_1_50\")"
   ]
  },
  {
   "cell_type": "markdown",
   "metadata": {},
   "source": [
    "# ttest"
   ]
  },
  {
   "cell_type": "code",
   "execution_count": null,
   "metadata": {},
   "outputs": [],
   "source": [
    "pTtestListNorm = ttests(AN, BN, True)\n",
    "#pDfTtest = getdf(pTtestListNorm, sample_n, \"t test\")\n",
    "#my_scatter_plot(pDfTtest,\"figures/calibration/largeSample_10000_20/t_norm_0_1_50\")"
   ]
  },
  {
   "cell_type": "code",
   "execution_count": null,
   "metadata": {},
   "outputs": [],
   "source": [
    "#multiple_plot(pd.concat((pDfTtest, pDfMW, pDfExact)), \"figures/calibration/largeSample_10000_20/allTests_0_1_50\")"
   ]
  },
  {
   "cell_type": "code",
   "execution_count": null,
   "metadata": {},
   "outputs": [],
   "source": [
    "dataExactTtestNorm = pd.DataFrame(data={'parallelized': pExactListNorm, 'ttest': pTtestListNorm})\n",
    "dataMWUTtestNorm = pd.DataFrame(data={'MWU': pMWUListNorm, 'ttest': pTtestListNorm})\n",
    "dataEaxactMWUNorm = pd.DataFrame(data={'parallelized': pExactListNorm, 'MWU': pMWUListNorm})"
   ]
  },
  {
   "cell_type": "code",
   "execution_count": null,
   "metadata": {},
   "outputs": [],
   "source": [
    "sns_plot(dataExactTtestNorm)"
   ]
  },
  {
   "cell_type": "code",
   "execution_count": null,
   "metadata": {},
   "outputs": [],
   "source": [
    "sns_plot(dataEaxactMWUNorm)"
   ]
  },
  {
   "cell_type": "code",
   "execution_count": null,
   "metadata": {},
   "outputs": [],
   "source": [
    "sns_plot(dataMWUTtestNorm)"
   ]
  },
  {
   "cell_type": "markdown",
   "metadata": {},
   "source": [
    "# $log N(0,2)$"
   ]
  },
  {
   "cell_type": "code",
   "execution_count": null,
   "metadata": {},
   "outputs": [],
   "source": [
    "std = 2"
   ]
  },
  {
   "cell_type": "code",
   "execution_count": null,
   "metadata": {},
   "outputs": [],
   "source": [
    "ALn, BLn = [np.random.lognormal(0,std,set_n) for i in range(sample_n)], [np.random.lognormal(0,std,set_n) for i in range(sample_n)]\n"
   ]
  },
  {
   "cell_type": "markdown",
   "metadata": {},
   "source": [
    "# Exact test"
   ]
  },
  {
   "cell_type": "code",
   "execution_count": null,
   "metadata": {},
   "outputs": [],
   "source": [
    "pExactListLog = exactTest(BLn,ALn, 50, True)\n",
    "#pDfExact = getdf(pExactListLog, sample_n, \"parallelized shift\")\n",
    "#my_scatter_plot(pDfExact,\"figures/calibration/largeSample_10000_20/e_Lnorm_0_1_50\")"
   ]
  },
  {
   "cell_type": "markdown",
   "metadata": {},
   "source": [
    "# Mann Whitney"
   ]
  },
  {
   "cell_type": "code",
   "execution_count": null,
   "metadata": {},
   "outputs": [],
   "source": [
    "pMWUListLog = MWU(ALn, BLn, True)\n",
    "#pDfMW = getdf(pMWUListLog, sample_n, \"MWU\")\n",
    "#my_scatter_plot(pDfMW,\"figures/calibration/largeSample_10000_20/mw_Lnorm_0_1_50\")"
   ]
  },
  {
   "cell_type": "markdown",
   "metadata": {},
   "source": [
    "# ttest"
   ]
  },
  {
   "cell_type": "code",
   "execution_count": null,
   "metadata": {},
   "outputs": [],
   "source": [
    "pTtestListLog = ttests(ALn, BLn, True)\n",
    "#pDfTtest = getdf(pTtestListLog, sample_n, \"t test\")\n",
    "#my_scatter_plot(pDfTtest,\"figures/calibration/largeSample_10000_20/t_Lnorm_0_1_50\")"
   ]
  },
  {
   "cell_type": "code",
   "execution_count": null,
   "metadata": {},
   "outputs": [],
   "source": [
    "#multiple_plot(pd.concat((pDfTtest, pDfMW, pDfExact)), \"figures/calibration/largeSample_10000_20/allTests_Lnorm_0_1_50\")"
   ]
  },
  {
   "cell_type": "code",
   "execution_count": null,
   "metadata": {},
   "outputs": [],
   "source": [
    "dataExactTtestLog = pd.DataFrame(data={'parallelized': pExactListLog, 'ttest': pTtestListLog})\n",
    "dataMWUTtestLog = pd.DataFrame(data={'MWU': pMWUListLog, 'ttest': pTtestListLog})\n",
    "dataEaxactMWULog = pd.DataFrame(data={'parallelized': pExactListLog, 'MWU': pMWUListLog})"
   ]
  },
  {
   "cell_type": "code",
   "execution_count": null,
   "metadata": {},
   "outputs": [],
   "source": [
    "sns_plot(dataExactTtestLog)"
   ]
  },
  {
   "cell_type": "code",
   "execution_count": null,
   "metadata": {},
   "outputs": [],
   "source": [
    "sns_plot(dataEaxactMWULog)"
   ]
  },
  {
   "cell_type": "code",
   "execution_count": null,
   "metadata": {},
   "outputs": [],
   "source": [
    "sns_plot(dataMWUTtestLog)"
   ]
  },
  {
   "cell_type": "code",
   "execution_count": null,
   "metadata": {},
   "outputs": [],
   "source": []
  }
 ],
 "metadata": {
  "kernelspec": {
   "display_name": "Python kth-cluster",
   "language": "python",
   "name": "kth-cluster"
  },
  "language_info": {
   "codemirror_mode": {
    "name": "ipython",
    "version": 3
   },
   "file_extension": ".py",
   "mimetype": "text/x-python",
   "name": "python",
   "nbconvert_exporter": "python",
   "pygments_lexer": "ipython3",
   "version": "3.6.9"
  }
 },
 "nbformat": 4,
 "nbformat_minor": 2
}
