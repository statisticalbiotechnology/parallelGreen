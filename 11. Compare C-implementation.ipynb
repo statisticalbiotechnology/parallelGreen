{
 "cells": [
  {
   "cell_type": "code",
   "execution_count": 1,
   "metadata": {},
   "outputs": [],
   "source": [
    "import numpy as np\n",
    "import time\n",
    "import pandas as pd\n",
    "\n"
   ]
  },
  {
   "cell_type": "code",
   "execution_count": 7,
   "metadata": {},
   "outputs": [],
   "source": [
    "from permutationTest import coinShiftInt,coinShiftFloat, GreenInt, GreenFloat, GreenFloatCuda,GreenIntCuda\n"
   ]
  },
  {
   "cell_type": "code",
   "execution_count": 8,
   "metadata": {},
   "outputs": [],
   "source": [
    "np.random.seed(10)\n",
    "n = 200\n",
    "n_samples = 5\n",
    "A = np.asarray([np.random.randint(0,n,n,dtype=np.int32) for _ in range(n_samples)])\n",
    "B = np.asarray([np.random.randint(0,n,n,dtype=np.int32) for _ in range(n_samples)])"
   ]
  },
  {
   "cell_type": "code",
   "execution_count": 9,
   "metadata": {},
   "outputs": [
    {
     "name": "stdout",
     "output_type": "stream",
     "text": [
      "[0.22811788 0.91310021 0.75868212 0.63274077 0.70694501]\n",
      "CPU times: user 481 ms, sys: 88.3 ms, total: 570 ms\n",
      "Wall time: 585 ms\n"
     ]
    }
   ],
   "source": [
    "%%time \n",
    "\n",
    "print(GreenIntCuda(A, B))\n"
   ]
  },
  {
   "cell_type": "code",
   "execution_count": 10,
   "metadata": {},
   "outputs": [
    {
     "name": "stdout",
     "output_type": "stream",
     "text": [
      "[0.22811788 0.91310021 0.75868212 0.63274077 0.70694501]\n",
      "CPU times: user 9.02 s, sys: 116 ms, total: 9.13 s\n",
      "Wall time: 9.1 s\n"
     ]
    }
   ],
   "source": [
    "%%time \n",
    "\n",
    "print(GreenInt(A, B))\n"
   ]
  },
  {
   "cell_type": "code",
   "execution_count": 11,
   "metadata": {},
   "outputs": [
    {
     "name": "stdout",
     "output_type": "stream",
     "text": [
      "[0.22811788 0.91310021 0.75868212 0.63274077 0.70694501]\n",
      "CPU times: user 24.1 s, sys: 139 ms, total: 24.2 s\n",
      "Wall time: 3.11 s\n"
     ]
    }
   ],
   "source": [
    "%%time \n",
    "\n",
    "print(GreenInt(A, B,multiThread=True))"
   ]
  },
  {
   "cell_type": "code",
   "execution_count": 12,
   "metadata": {},
   "outputs": [
    {
     "name": "stdout",
     "output_type": "stream",
     "text": [
      "[0.22811788 0.91310021 0.75868212 0.63274077 0.47043136]\n",
      "CPU times: user 8.9 s, sys: 120 ms, total: 9.02 s\n",
      "Wall time: 8.97 s\n"
     ]
    }
   ],
   "source": [
    "%%time \n",
    "\n",
    "print(GreenFloat(A, B,n))"
   ]
  },
  {
   "cell_type": "code",
   "execution_count": 13,
   "metadata": {},
   "outputs": [
    {
     "name": "stdout",
     "output_type": "stream",
     "text": [
      "[0.22811788 0.91310021 0.75868212 0.63274077 0.47043136]\n",
      "CPU times: user 453 ms, sys: 24 ms, total: 477 ms\n",
      "Wall time: 475 ms\n"
     ]
    }
   ],
   "source": [
    "%%time \n",
    "print(GreenFloatCuda(A, B, n))\n"
   ]
  },
  {
   "cell_type": "code",
   "execution_count": 14,
   "metadata": {},
   "outputs": [
    {
     "name": "stdout",
     "output_type": "stream",
     "text": [
      "[0.22811788 0.91310021 0.75868212 0.63274077 0.70694501]\n",
      "CPU times: user 2.84 s, sys: 92.1 ms, total: 2.93 s\n",
      "Wall time: 2.91 s\n"
     ]
    }
   ],
   "source": [
    "%%time \n",
    "print(coinShiftInt(A, B))\n"
   ]
  },
  {
   "cell_type": "code",
   "execution_count": 15,
   "metadata": {},
   "outputs": [
    {
     "name": "stdout",
     "output_type": "stream",
     "text": [
      "[0.22811788 0.91310021 0.75868212 0.63274077 0.47043136]\n",
      "CPU times: user 2.84 s, sys: 84.2 ms, total: 2.92 s\n",
      "Wall time: 2.91 s\n"
     ]
    }
   ],
   "source": [
    "%%time \n",
    "print(coinShiftFloat(A, B,n))\n"
   ]
  },
  {
   "cell_type": "code",
   "execution_count": null,
   "metadata": {},
   "outputs": [],
   "source": [
    "coinShift(*PreProcessoinShift(A[0], B[0]))"
   ]
  },
  {
   "cell_type": "code",
   "execution_count": null,
   "metadata": {},
   "outputs": [],
   "source": []
  },
  {
   "cell_type": "code",
   "execution_count": null,
   "metadata": {},
   "outputs": [],
   "source": []
  },
  {
   "cell_type": "code",
   "execution_count": null,
   "metadata": {},
   "outputs": [],
   "source": [
    "%time GreenIntCuda(A[0], B[0])"
   ]
  },
  {
   "cell_type": "code",
   "execution_count": null,
   "metadata": {},
   "outputs": [],
   "source": [
    "%time print(GreenIntCuda(A, B))\n",
    "\n"
   ]
  },
  {
   "cell_type": "code",
   "execution_count": null,
   "metadata": {},
   "outputs": [],
   "source": [
    "from significance_of_mean_cuda import significance_of_mean_cuda"
   ]
  },
  {
   "cell_type": "code",
   "execution_count": null,
   "metadata": {},
   "outputs": [],
   "source": [
    "%%time \n",
    "SGM = significance_of_mean_cuda(5,dtype_v=np.uint64,dtype_A=np.float64)\n",
    "SGM.run(A,B)"
   ]
  },
  {
   "cell_type": "code",
   "execution_count": null,
   "metadata": {},
   "outputs": [],
   "source": [
    "SGM.p_values"
   ]
  },
  {
   "cell_type": "code",
   "execution_count": null,
   "metadata": {},
   "outputs": [],
   "source": [
    "GreenIntDataPreProcess()"
   ]
  },
  {
   "cell_type": "code",
   "execution_count": null,
   "metadata": {},
   "outputs": [],
   "source": [
    "A.shape"
   ]
  },
  {
   "cell_type": "code",
   "execution_count": null,
   "metadata": {},
   "outputs": [],
   "source": [
    "A[0][np.newaxis,:].shape"
   ]
  },
  {
   "cell_type": "code",
   "execution_count": null,
   "metadata": {},
   "outputs": [],
   "source": [
    "import numpy as np\n",
    "import time\n",
    "import pandas as pd\n",
    "import random"
   ]
  },
  {
   "cell_type": "code",
   "execution_count": null,
   "metadata": {},
   "outputs": [],
   "source": [
    "from permutationTestC import GrennPdistOpenMP, GrennPdist, coinShiftPdist"
   ]
  },
  {
   "cell_type": "code",
   "execution_count": null,
   "metadata": {},
   "outputs": [],
   "source": [
    "from permutationTestCuda import greenCUDAMultipleSamples, greenCUDA"
   ]
  },
  {
   "cell_type": "code",
   "execution_count": null,
   "metadata": {},
   "outputs": [],
   "source": [
    "def getDataCoinShift(A,B):\n",
    "    scores = np.concatenate((A,B))\n",
    "    n = scores.shape[0]\n",
    "    m = A.shape[0]\n",
    "\n",
    "    add = np.min(scores - 1)\n",
    "    scores = scores - add\n",
    "\n",
    "    m_b = sum(np.sort(scores)[(n - m) :n])\n",
    "\n",
    "    score_a = np.ones(n, dtype=np.int32)\n",
    "\n",
    "\n",
    "    im_a = m\n",
    "    im_b = m_b\n",
    "\n",
    "    return score_a,scores,im_a, im_b \n",
    "\n",
    "def getDataGreen(A,B):\n",
    "    x = A\n",
    "    y = B\n",
    "    m = x.shape[0]\n",
    "    n = y.shape[0]\n",
    "    \n",
    "    z = np.concatenate((A,B))\n",
    "    z.sort()\n",
    "    z = z - min(z)\n",
    "    S = z[m:].sum()\n",
    "      \n",
    "    return z, m, n, S\n",
    "\n",
    "def get_p(pdist,a):\n",
    "    p = pdist[(a-min(a)).sum():].sum()\n",
    "    p = 2 * min( p, (1-p))\n",
    "    return p"
   ]
  },
  {
   "cell_type": "code",
   "execution_count": null,
   "metadata": {},
   "outputs": [],
   "source": [
    "def coinPy(iscore_a, iscore_b, im_a, im_b):\n",
    "    s_a = 0\n",
    "    s_b = 0\n",
    "    \n",
    "    sum_a = 0\n",
    "    sum_b = 0\n",
    "    msum = 0.0\n",
    "    size_a = iscore_a.shape[0]\n",
    "    size_b = iscore_b.shape[0]\n",
    "    \n",
    "    n = size_a\n",
    "\n",
    "    for i in range(n):\n",
    "        sum_a += iscore_a[i];\n",
    "        sum_b += iscore_b[i];\n",
    "\n",
    "\n",
    "    \n",
    "\n",
    "    sum_a = min(sum_a, im_a);\n",
    "    sum_b = min(sum_b, im_b);\n",
    "\n",
    "    dH = np.zeros((sum_a + 1) * (sum_b + 1))\n",
    "\n",
    "    dH[0] = 1.0;\n",
    "\n",
    "    for k in range(n):\n",
    "        s_a += iscore_a[k];\n",
    "        s_b += iscore_b[k];\n",
    "        #for i in range(min(im_a, s_a), iscore_a[k]-1,-1):\n",
    "        for j in range(min(im_b,s_b), iscore_b[k]-1,-1):\n",
    "\n",
    "            #for j in range(min(im_b,s_b), iscore_b[k]-1,-1):\n",
    "            for i in shuffle(list(range(min(im_a, s_a), iscore_a[k]-1,-1))):\n",
    "                isb = i * (sum_b + 1)\n",
    "                dH[isb + j] += dH[(i - iscore_a[k]) * (sum_b + 1) + (j - iscore_b[k])];\n",
    "\n",
    "\n",
    "\n",
    "    isb = im_a * (sum_b + 1);\n",
    "        \n",
    "    dx = np.zeros(sum_b)\n",
    "        \n",
    "    isb = im_a * (sum_b + 1)\n",
    "    \n",
    "    print(dH)\n",
    "    for j in range(sum_b):\n",
    "            \n",
    "        dx[j] = dH[isb + j + 1];\n",
    "        msum += dx[j];\n",
    "                \n",
    "    result = list()\n",
    "    for j in range(sum_b):\n",
    "        result.append(dx[j]/msum)\n",
    "    return result\n",
    "    "
   ]
  },
  {
   "cell_type": "code",
   "execution_count": null,
   "metadata": {},
   "outputs": [],
   "source": []
  },
  {
   "cell_type": "code",
   "execution_count": null,
   "metadata": {},
   "outputs": [],
   "source": [
    "np.random.seed(3)\n",
    "n = 3\n",
    "A = np.asarray([np.random.randint(0,n,n,dtype=np.int32) for _ in range(5)])\n",
    "B = np.asarray([np.random.randint(0,n,n,dtype=np.int32) for _ in range(5)])\n",
    "#A = A_list[0]\n",
    "#B = B_list[0]"
   ]
  },
  {
   "cell_type": "code",
   "execution_count": null,
   "metadata": {},
   "outputs": [],
   "source": [
    "def GreenPvalFloat(pdist, A, n_samples, bins):\n",
    "        \"\"\"Calculate p-value for each sub-array\n",
    "        Args:\n",
    "            Z (array): The necessary part of the array to calculate sample p-values.\n",
    "            n_samples (int): The total number of samples.\n",
    "            S(int): Sum up to :m.\n",
    "            A(array): The Values from sample A.\n",
    "            bins(array): Bins for digitization.\n",
    "        Returns:\n",
    "            p-values\n",
    "        \"\"\"\n",
    "        P = np.zeros(n_samples)\n",
    "        for i, (a,b) in enumerate(zip(A,bins)):\n",
    "            a_ = np.digitize(a, b).astype(np.int32) - 1\n",
    "            p = np.sum(pdist[i,int(sum(a_)):])\n",
    "            P[i] = 2 * min( p, (1-p))\n",
    "                \n",
    "        return P\n",
    "\n",
    "def get_digitized_score(X, bins):\n",
    "    \"\"\"Digitize the values for each sample.\n",
    "        Args:\n",
    "            X (array): Concatenated sample from original samples A and B.\n",
    "            bins(int): The number of bins to divide the sample values.\n",
    "        Returns:\n",
    "            digitized array\n",
    "    \"\"\"\n",
    "    digitized = np.zeros(X.shape, dtype=np.int32)\n",
    "    for i, (x,b) in enumerate(zip(X,bins)):\n",
    "        digitized[i,:] = np.digitize(x, b).astype(np.int32) - 1\n",
    "    return digitized\n",
    "    \n",
    "def _get_digitized_score(X, bins):\n",
    "        \"\"\"Digitize the values for each sample.\n",
    "        Args:\n",
    "            X (array): Concatenated sample from original samples A and B.\n",
    "            bins(int): The number of bins to divide the sample values.\n",
    "        Returns:\n",
    "            digitized array\n",
    "        \"\"\"\n",
    "        digitized = np.zeros(X.shape,dtype=np.int32)\n",
    "        for i, (x,b) in enumerate(zip(X,bins)):\n",
    "            digitized[i,:] = np.digitize(x, b).astype(np.int32) - 1\n",
    "        return digitized\n",
    "    \n",
    "def GreenFloatDataPreProcess(A, B, num_bin):\n",
    "        \"\"\"Run method on the GPU.\n",
    "        Args:\n",
    "            A (array): Samples A.\n",
    "            B (array): Samples B.\n",
    "        Returns:\n",
    "             p-values\n",
    "        \"\"\"\n",
    "        \n",
    "        m = A.shape[1]\n",
    "        n = B.shape[1]\n",
    "\n",
    "        n_samples = A.shape[0]\n",
    "\n",
    "        X = np.concatenate([A,B],axis=1)\n",
    "        X.sort()\n",
    "\n",
    "        bins = np.asarray([np.linspace(np.min(x), np.max(x), int(num_bin)) for x in X])\n",
    "\n",
    "\n",
    "\n",
    "        digitized = _get_digitized_score(X, bins)\n",
    "\n",
    "\n",
    "        S = np.sum(digitized[:, m:], axis=1).astype(np.int32)\n",
    "        return digitized.ravel(), m, n, S.max(), n_samples, bins\n",
    "\n",
    "def GreenFloatCuda(A,B, num_bin, return_dperm=False):\n",
    "    aDim, bDim = A.ndim,B.ndim\n",
    "    assert aDim == bDim, \"A and B does not have same dimensions!\"\n",
    "    \n",
    "    if aDim == 1:\n",
    "        A = A.reshape(1,-1)\n",
    "        B = B.reshape(1,-1)\n",
    "    a_n, b_n = A.shape[0], B.shape[0]\n",
    "    assert a_n == b_n, \"A and B does not have the same amount of experiments!\"\n",
    "    \n",
    "    z, n, m, S, n_samples, bins =  run(A, B, num_bin)\n",
    "    \n",
    "    \n",
    "        \n",
    "    pdist = np.array(greenCUDAMultipleSamples(z, n, m, S, n_samples)).reshape(n_samples, S+1)\n",
    "    \n",
    "\n",
    "    \n",
    "    p_values = GreenPvalFloat(pdist, A, n_samples, bins)\n",
    "        \n",
    "    if return_dperm:\n",
    "        return p_values, pdist\n",
    "    else:\n",
    "        return p_values\n",
    "    \n",
    "    \n",
    "    \n",
    "        "
   ]
  },
  {
   "cell_type": "code",
   "execution_count": null,
   "metadata": {},
   "outputs": [],
   "source": []
  },
  {
   "cell_type": "code",
   "execution_count": null,
   "metadata": {},
   "outputs": [],
   "source": [
    "def GreenPvalInt(pdist, sums, n_samples):\n",
    "    p_vals = np.zeros(n_samples)\n",
    "    \n",
    "    for i, s in enumerate(sums):\n",
    "        p = pdist[i,s:].sum()\n",
    "        p_vals[i] = 2 * min( p, (1-p))\n",
    "    return p_vals\n",
    "\n",
    "def GreenIntDataPreProcess(A,B):\n",
    "    m = A.shape[1]\n",
    "    n = B.shape[1]\n",
    "    \n",
    "    A_n_samples = A.shape[0]\n",
    "    B_n_samples = B.shape[0]\n",
    "    \n",
    "    assert A_n_samples == B_n_samples, \"A and B does not have same experiments!\"\n",
    "    n_samples = A_n_samples\n",
    "\n",
    "    \n",
    "    z = np.concatenate((A,B),axis=1)\n",
    "    z.sort(1)\n",
    "    z -= z.min(1, keepdims=True)\n",
    "    S = max(z[:,m:].sum(1, keepdims=True))[0]\n",
    "      \n",
    "    return z.ravel(), m, n, S, n_samples\n",
    "\n",
    "\n",
    "def GreenIntCuda(A,B, return_dperm=False):\n",
    "    aDim, bDim = A.ndim,B.ndim\n",
    "    assert aDim == bDim, \"A and B does not have same dimensions!\"\n",
    "    \n",
    "    if aDim == 1:\n",
    "        A = A.reshape(1,-1)\n",
    "        B = B.reshape(1,-1)\n",
    "    a_n, b_n = A.shape[0], B.shape[0]\n",
    "    assert a_n == b_n, \"A and B does not have the same amount of experiments!\"\n",
    "    \n",
    "    z, n, m, S, n_samples =  GreenIntDataPreProcess(A,B)\n",
    "    \n",
    "\n",
    "    pdist = np.array(greenCUDAMultipleSamples(z, n, m, S, n_samples)).reshape(n_samples, S+1)\n",
    "    \n",
    "\n",
    "\n",
    "    \n",
    "    sums = (A - A.min(1, keepdims=True)).sum(1)\n",
    "    \n",
    "    p_values = GreenPvalInt(pdist, sums, n_samples)\n",
    "        \n",
    "    if return_dperm:\n",
    "        return p_values, pdist\n",
    "    else:\n",
    "        return p_values\n",
    "    \n",
    "    \n",
    "    \n",
    "        "
   ]
  },
  {
   "cell_type": "code",
   "execution_count": null,
   "metadata": {},
   "outputs": [],
   "source": [
    "k = 3"
   ]
  },
  {
   "cell_type": "code",
   "execution_count": null,
   "metadata": {
    "scrolled": true
   },
   "outputs": [],
   "source": [
    "%time pdist = GreenFloatCuda(A,B,3)"
   ]
  },
  {
   "cell_type": "code",
   "execution_count": null,
   "metadata": {},
   "outputs": [],
   "source": [
    "pdist"
   ]
  },
  {
   "cell_type": "code",
   "execution_count": null,
   "metadata": {},
   "outputs": [],
   "source": [
    "%time pdist = GreenIntCuda(A,B)"
   ]
  },
  {
   "cell_type": "code",
   "execution_count": null,
   "metadata": {},
   "outputs": [],
   "source": [
    "pdist"
   ]
  },
  {
   "cell_type": "code",
   "execution_count": null,
   "metadata": {},
   "outputs": [],
   "source": []
  },
  {
   "cell_type": "code",
   "execution_count": null,
   "metadata": {},
   "outputs": [],
   "source": [
    "\n",
    "a, b = A[k], B[k]\n",
    "%time p_valus = get_p(np.array(greenCUDA(*getDataGreen(a,b))),a)"
   ]
  },
  {
   "cell_type": "code",
   "execution_count": null,
   "metadata": {},
   "outputs": [],
   "source": [
    "p_valus"
   ]
  },
  {
   "cell_type": "code",
   "execution_count": null,
   "metadata": {},
   "outputs": [],
   "source": [
    "p_valus"
   ]
  },
  {
   "cell_type": "code",
   "execution_count": null,
   "metadata": {},
   "outputs": [],
   "source": [
    "get_p(np.array(greenCUDA(*getDataGreen(A[4],B[4]))), A[0])"
   ]
  },
  {
   "cell_type": "code",
   "execution_count": null,
   "metadata": {},
   "outputs": [],
   "source": [
    "p_valus"
   ]
  },
  {
   "cell_type": "code",
   "execution_count": null,
   "metadata": {},
   "outputs": [],
   "source": []
  },
  {
   "cell_type": "code",
   "execution_count": null,
   "metadata": {},
   "outputs": [],
   "source": [
    "get_p(p_dist,A[1])"
   ]
  },
  {
   "cell_type": "code",
   "execution_count": null,
   "metadata": {},
   "outputs": [],
   "source": [
    "z.ravel()"
   ]
  },
  {
   "cell_type": "code",
   "execution_count": null,
   "metadata": {},
   "outputs": [],
   "source": [
    "z.ravel().shape"
   ]
  },
  {
   "cell_type": "code",
   "execution_count": null,
   "metadata": {},
   "outputs": [],
   "source": [
    "A.shape"
   ]
  },
  {
   "cell_type": "code",
   "execution_count": null,
   "metadata": {},
   "outputs": [],
   "source": [
    "z = np.concatenate((A,B),axis=1)"
   ]
  },
  {
   "cell_type": "code",
   "execution_count": null,
   "metadata": {},
   "outputs": [],
   "source": [
    "z.sort(1)"
   ]
  },
  {
   "cell_type": "code",
   "execution_count": null,
   "metadata": {},
   "outputs": [],
   "source": [
    "z -= z.min(1, keepdims=True)"
   ]
  },
  {
   "cell_type": "code",
   "execution_count": null,
   "metadata": {},
   "outputs": [],
   "source": [
    "S = max(z[:,2:].sum(1, keepdims=True))[0]"
   ]
  },
  {
   "cell_type": "code",
   "execution_count": null,
   "metadata": {},
   "outputs": [],
   "source": [
    "S"
   ]
  },
  {
   "cell_type": "code",
   "execution_count": null,
   "metadata": {},
   "outputs": [],
   "source": [
    "min(z)"
   ]
  },
  {
   "cell_type": "code",
   "execution_count": null,
   "metadata": {},
   "outputs": [],
   "source": [
    "minVal = z.min(1, keepdims=True)"
   ]
  },
  {
   "cell_type": "code",
   "execution_count": null,
   "metadata": {},
   "outputs": [],
   "source": [
    "z - minVal"
   ]
  },
  {
   "cell_type": "code",
   "execution_count": null,
   "metadata": {},
   "outputs": [],
   "source": []
  },
  {
   "cell_type": "code",
   "execution_count": null,
   "metadata": {},
   "outputs": [],
   "source": [
    "minVal.shape"
   ]
  },
  {
   "cell_type": "code",
   "execution_count": null,
   "metadata": {},
   "outputs": [],
   "source": [
    "minVal"
   ]
  },
  {
   "cell_type": "code",
   "execution_count": null,
   "metadata": {},
   "outputs": [],
   "source": [
    "z - minVal"
   ]
  },
  {
   "cell_type": "code",
   "execution_count": null,
   "metadata": {},
   "outputs": [],
   "source": [
    "np.subtract(z,minVal, axis=1)"
   ]
  },
  {
   "cell_type": "code",
   "execution_count": null,
   "metadata": {},
   "outputs": [],
   "source": [
    "z - minVal"
   ]
  },
  {
   "cell_type": "code",
   "execution_count": null,
   "metadata": {},
   "outputs": [],
   "source": [
    "minVal.shape"
   ]
  },
  {
   "cell_type": "code",
   "execution_count": null,
   "metadata": {},
   "outputs": [],
   "source": [
    "x1 = np.arange(9.0).reshape((3, 3))\n",
    "x2 = np.arange(3.0)"
   ]
  },
  {
   "cell_type": "code",
   "execution_count": null,
   "metadata": {},
   "outputs": [],
   "source": [
    "x1.shape"
   ]
  },
  {
   "cell_type": "code",
   "execution_count": null,
   "metadata": {},
   "outputs": [],
   "source": [
    "x2.shape"
   ]
  },
  {
   "cell_type": "code",
   "execution_count": null,
   "metadata": {},
   "outputs": [],
   "source": [
    "GreenCuda(A)"
   ]
  },
  {
   "cell_type": "code",
   "execution_count": null,
   "metadata": {},
   "outputs": [],
   "source": [
    "z.min(1)"
   ]
  },
  {
   "cell_type": "code",
   "execution_count": null,
   "metadata": {},
   "outputs": [],
   "source": [
    "getDataGreen(A,B)"
   ]
  },
  {
   "cell_type": "code",
   "execution_count": null,
   "metadata": {},
   "outputs": [],
   "source": [
    "getDataCoinShift(A,B)"
   ]
  },
  {
   "cell_type": "code",
   "execution_count": null,
   "metadata": {},
   "outputs": [],
   "source": [
    "x = coinPy(*getDataCoinShift(A,B))"
   ]
  },
  {
   "cell_type": "code",
   "execution_count": null,
   "metadata": {},
   "outputs": [],
   "source": [
    "x"
   ]
  },
  {
   "cell_type": "code",
   "execution_count": null,
   "metadata": {},
   "outputs": [],
   "source": [
    "coinShiftPdist(*getDataCoinShift(A,B))"
   ]
  },
  {
   "cell_type": "code",
   "execution_count": null,
   "metadata": {},
   "outputs": [],
   "source": []
  },
  {
   "cell_type": "code",
   "execution_count": null,
   "metadata": {},
   "outputs": [],
   "source": [
    "def shuffle(ix):\n",
    "    random.shuffle(ix)\n",
    "    return ix"
   ]
  },
  {
   "cell_type": "code",
   "execution_count": null,
   "metadata": {},
   "outputs": [],
   "source": [
    "shuffle(list(range(20, min(2, 1)-1,-1)))"
   ]
  },
  {
   "cell_type": "code",
   "execution_count": null,
   "metadata": {},
   "outputs": [],
   "source": [
    "all_time_coinC = list()\n",
    "all_time_greenC = list()\n",
    "all_time_greenMTC = list()\n",
    "all_time_greenNumba = list()\n",
    "all_time_coinR = list()\n",
    "N = [50,100,150]\n",
    "for n in N:\n",
    "    time_coinC = list()\n",
    "    time_greenC = list()\n",
    "    time_greenMTC = list()\n",
    "    time_greenNumba = list()\n",
    "    time_coinR = list()\n",
    "\n",
    "    A_list = np.asarray([np.random.randint(0,n,n,dtype=np.int32) for _ in range(1)])\n",
    "    B_list = np.asarray([np.random.randint(0,n,n,dtype=np.int32) for _ in range(1)])\n",
    "    for A,B in zip(A_list,B_list):\n",
    "        start = time.time()\n",
    "        d0 = np.array(coinShiftPdist(*getDataCoinShift(A,B)))\n",
    "        end = time.time()\n",
    "        time_coinC.append(end - start)\n",
    "\n",
    "    \n",
    "       \n",
    "\n",
    "    \n",
    "    \n",
    "        start = time.time()\n",
    "        d2 = np.array(GrennPdistOpenMP(*getDataGreen(A,B)))\n",
    "        end = time.time()\n",
    "        time_greenMTC.append(end - start)\n",
    "\n",
    "    \n",
    "\n",
    "    \n",
    "    \n",
    "        \n",
    "        \n",
    "    all_time_coinC.append(time_coinC)\n",
    "\n",
    "    all_time_greenMTC.append(time_greenMTC)\n",
    "\n",
    "\n",
    "\n",
    "    "
   ]
  },
  {
   "cell_type": "code",
   "execution_count": null,
   "metadata": {},
   "outputs": [],
   "source": [
    "import matplotlib.pyplot as plt"
   ]
  },
  {
   "cell_type": "code",
   "execution_count": null,
   "metadata": {},
   "outputs": [],
   "source": [
    "mean_time_coinC = np.mean(all_time_coinC,1)\n",
    "\n",
    "mean_time_greenMTC = np.mean(all_time_greenMTC,1)\n"
   ]
  },
  {
   "cell_type": "code",
   "execution_count": null,
   "metadata": {},
   "outputs": [],
   "source": [
    "all_time_coinC"
   ]
  },
  {
   "cell_type": "code",
   "execution_count": null,
   "metadata": {},
   "outputs": [],
   "source": [
    "plt.plot(N,mean_time_coinC, label=\"Coin C\")\n",
    "\n",
    "plt.plot(N,mean_time_greenMTC, label=\"GreenOpenMP C\")\n",
    "\n",
    "\n",
    "plt.legend(loc=\"upper left\")\n",
    "plt.xlabel(\"N\")\n",
    "plt.ylabel(\"Time(s)\")"
   ]
  },
  {
   "cell_type": "code",
   "execution_count": null,
   "metadata": {},
   "outputs": [],
   "source": []
  }
 ],
 "metadata": {
  "kernelspec": {
   "display_name": "Python (terran3)",
   "language": "python",
   "name": "terran3"
  },
  "language_info": {
   "codemirror_mode": {
    "name": "ipython",
    "version": 3
   },
   "file_extension": ".py",
   "mimetype": "text/x-python",
   "name": "python",
   "nbconvert_exporter": "python",
   "pygments_lexer": "ipython3",
   "version": "3.6.10"
  }
 },
 "nbformat": 4,
 "nbformat_minor": 2
}
