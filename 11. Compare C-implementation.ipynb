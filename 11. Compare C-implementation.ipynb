{
 "cells": [
  {
   "cell_type": "code",
   "execution_count": 200,
   "metadata": {},
   "outputs": [],
   "source": [
    "import numpy as np\n",
    "import time\n",
    "import pandas as pd"
   ]
  },
  {
   "cell_type": "code",
   "execution_count": 13,
   "metadata": {},
   "outputs": [],
   "source": [
    "from permutationTest import GrennPdistOpenMP, GrennPdist, coinShiftPdist"
   ]
  },
  {
   "cell_type": "code",
   "execution_count": 3,
   "metadata": {},
   "outputs": [],
   "source": [
    "from significance_of_mean_cuda import significance_of_mean_cuda"
   ]
  },
  {
   "cell_type": "code",
   "execution_count": 231,
   "metadata": {},
   "outputs": [],
   "source": [
    "import time"
   ]
  },
  {
   "cell_type": "code",
   "execution_count": null,
   "metadata": {},
   "outputs": [],
   "source": [
    "import numpy as np"
   ]
  },
  {
   "cell_type": "code",
   "execution_count": 72,
   "metadata": {},
   "outputs": [],
   "source": [
    "def getDataCoinShift(A,B):\n",
    "    scores = np.concatenate((A,B))\n",
    "    n = scores.shape[0]\n",
    "    m = A.shape[0]\n",
    "\n",
    "    add = np.min(scores - 1)\n",
    "    scores = scores - add\n",
    "\n",
    "    m_b = sum(np.sort(scores)[(n - m) :n])\n",
    "\n",
    "    score_a = np.ones(n, dtype=np.int32)\n",
    "\n",
    "\n",
    "    im_a = m\n",
    "    im_b = m_b\n",
    "\n",
    "    return score_a,scores,im_a, im_b \n",
    "\n",
    "def getDataGreen(A,B):\n",
    "    x = A\n",
    "    y = B\n",
    "    m = x.shape[0]\n",
    "    n = y.shape[0]\n",
    "    \n",
    "    z = np.concatenate((A,B))\n",
    "    z.sort()\n",
    "    z = z - min(z)\n",
    "    S = z[m:].sum()\n",
    "      \n",
    "    return z, m, n, S\n",
    "\n",
    "def get_p(pdist,a):\n",
    "    p = pdist[(a-min(a)).sum():].sum()\n",
    "    p = 2 * min( p, (1-p))\n",
    "    return p"
   ]
  },
  {
   "cell_type": "code",
   "execution_count": 258,
   "metadata": {},
   "outputs": [
    {
     "name": "stdout",
     "output_type": "stream",
     "text": [
      "This data requires 1.3560079999999999 MiB on the GPU.\n",
      "This data requires 1.523208 MiB on the GPU.\n",
      "This data requires 1.4064079999999999 MiB on the GPU.\n",
      "This data requires 1.4568079999999999 MiB on the GPU.\n",
      "This data requires 1.562408 MiB on the GPU.\n",
      "This data requires 11.916808 MiB on the GPU.\n",
      "This data requires 11.360007999999999 MiB on the GPU.\n",
      "This data requires 12.192008 MiB on the GPU.\n",
      "This data requires 11.987207999999999 MiB on the GPU.\n",
      "This data requires 12.078408 MiB on the GPU.\n",
      "This data requires 40.094408 MiB on the GPU.\n",
      "This data requires 42.520808 MiB on the GPU.\n",
      "This data requires 39.240008 MiB on the GPU.\n",
      "This data requires 40.092008 MiB on the GPU.\n",
      "This data requires 41.973608000000006 MiB on the GPU.\n",
      "This data requires 91.916808 MiB on the GPU.\n",
      "This data requires 97.452808 MiB on the GPU.\n",
      "This data requires 96.316808 MiB on the GPU.\n",
      "This data requires 95.292808 MiB on the GPU.\n",
      "This data requires 95.331208 MiB on the GPU.\n",
      "This data requires 187.592008 MiB on the GPU.\n",
      "This data requires 187.076008 MiB on the GPU.\n",
      "This data requires 187.248008 MiB on the GPU.\n",
      "This data requires 180.500008 MiB on the GPU.\n",
      "This data requires 192.544008 MiB on the GPU.\n",
      "This data requires 324.89280799999995 MiB on the GPU.\n",
      "This data requires 324.05760799999996 MiB on the GPU.\n",
      "This data requires 309.00480799999997 MiB on the GPU.\n",
      "This data requires 317.899208 MiB on the GPU.\n",
      "This data requires 318.81120799999997 MiB on the GPU.\n",
      "This data requires 509.700808 MiB on the GPU.\n",
      "This data requires 497.655208 MiB on the GPU.\n",
      "This data requires 515.3848079999999 MiB on the GPU.\n",
      "This data requires 507.438408 MiB on the GPU.\n",
      "This data requires 492.77200799999997 MiB on the GPU.\n",
      "This data requires 779.0976079999999 MiB on the GPU.\n",
      "This data requires 761.990408 MiB on the GPU.\n",
      "This data requires 766.643208 MiB on the GPU.\n",
      "This data requires 760.934408 MiB on the GPU.\n",
      "This data requires 773.312008 MiB on the GPU.\n",
      "This data requires 1091.167208 MiB on the GPU.\n",
      "This data requires 1085.680808 MiB on the GPU.\n",
      "This data requires 1083.081608 MiB on the GPU.\n",
      "This data requires 1087.768808 MiB on the GPU.\n",
      "This data requires 1107.532808 MiB on the GPU.\n",
      "This data requires 1519.456008 MiB on the GPU.\n",
      "This data requires 1510.688008 MiB on the GPU.\n",
      "This data requires 1500.752008 MiB on the GPU.\n",
      "This data requires 1480.544008 MiB on the GPU.\n",
      "This data requires 1510.856008 MiB on the GPU.\n"
     ]
    }
   ],
   "source": [
    "all_time_coinC = list()\n",
    "all_time_greenC = list()\n",
    "all_time_greenMTC = list()\n",
    "all_time_greenNumba = list()\n",
    "all_time_coinR = list()\n",
    "N = [50,100,150,200,250,300,350,400,450,500]\n",
    "for n in N:\n",
    "    time_coinC = list()\n",
    "    time_greenC = list()\n",
    "    time_greenMTC = list()\n",
    "    time_greenNumba = list()\n",
    "    time_coinR = list()\n",
    "\n",
    "    A_list = np.asarray([np.random.randint(0,n,n,dtype=np.int32) for _ in range(5)])\n",
    "    B_list = np.asarray([np.random.randint(0,n,n,dtype=np.int32) for _ in range(5)])\n",
    "    for A,B in zip(A_list,B_list):\n",
    "        start = time.time()\n",
    "        d0 = np.array(coinShiftPdist(*getDataCoinShift(A,B)))\n",
    "        end = time.time()\n",
    "        time_coinC.append(end - start)\n",
    "\n",
    "    \n",
    "        start = time.time()\n",
    "        d1 = GrennPdist(*getDataGreen(A,B))\n",
    "        end = time.time()\n",
    "        time_greenC.append(end - start)\n",
    "\n",
    "    \n",
    "    \n",
    "        start = time.time()\n",
    "        d2 = np.array(GrennPdistOpenMP(*getDataGreen(A,B)))\n",
    "        end = time.time()\n",
    "        time_greenMTC.append(end - start)\n",
    "\n",
    "    \n",
    "        start = time.time()\n",
    "        SGM = significance_of_mean_cuda(dtype_v=np.uint64,dtype_A=np.float64)\n",
    "        SGM.run(A[np.newaxis,:],B[np.newaxis,:])\n",
    "        end = time.time()\n",
    "        time_greenNumba.append(end - start)\n",
    "\n",
    "    \n",
    "    \n",
    "        start = time.time()\n",
    "        p = coinExact(np.array(A)[np.newaxis,...], np.array(B)[np.newaxis,...])\n",
    "        end = time.time()\n",
    "        time_coinR.append(end - start)\n",
    "        \n",
    "    all_time_coinC.append(time_coinC)\n",
    "    all_time_greenC.append(time_greenC)\n",
    "    all_time_greenMTC.append(time_greenMTC)\n",
    "    all_time_greenNumba.append(time_greenNumba)\n",
    "    all_time_coinR.append(time_coinR)\n",
    "\n",
    "    "
   ]
  },
  {
   "cell_type": "code",
   "execution_count": 259,
   "metadata": {},
   "outputs": [],
   "source": [
    "mean_time_coinC = np.mean(all_time_coinC,axis=1)\n",
    "mean_time_greenC = np.mean(all_time_greenC,axis=1)\n",
    "mean_time_greenMTC = np.mean(all_time_greenMTC,axis=1)\n",
    "mean_time_greenNumba = np.mean(all_time_greenNumba,axis=1)\n",
    "mean_time_coinR = np.mean(all_time_coinR,axis=1)"
   ]
  },
  {
   "cell_type": "code",
   "execution_count": 260,
   "metadata": {},
   "outputs": [],
   "source": [
    "import matplotlib.pyplot as plt"
   ]
  },
  {
   "cell_type": "code",
   "execution_count": 265,
   "metadata": {},
   "outputs": [
    {
     "data": {
      "text/plain": [
       "Text(0, 0.5, 'Time(s)')"
      ]
     },
     "execution_count": 265,
     "metadata": {},
     "output_type": "execute_result"
    },
    {
     "data": {
      "image/png": "[encoded data removed]",
      "text/plain": [
       "<Figure size 432x288 with 1 Axes>"
      ]
     },
     "metadata": {
      "needs_background": "light"
     },
     "output_type": "display_data"
    }
   ],
   "source": [
    "plt.plot(N,mean_time_coinC, label=\"Coin C\")\n",
    "plt.plot(N,mean_time_greenC, label=\"Green C\")\n",
    "plt.plot(N,mean_time_greenMTC, label=\"GreenOpenMP C\")\n",
    "plt.plot(N,mean_time_greenNumba, label=\"Numba Python\")\n",
    "plt.plot(N,mean_time_coinR, label=\"Coin R\")\n",
    "plt.legend(loc=\"upper left\")\n",
    "plt.xlabel(\"N\")\n",
    "plt.ylabel(\"Time(s)\")"
   ]
  },
  {
   "cell_type": "code",
   "execution_count": null,
   "metadata": {},
   "outputs": [],
   "source": []
  }
 ],
 "metadata": {
  "kernelspec": {
   "display_name": "Python (terran3)",
   "language": "python",
   "name": "terran3"
  },
  "language_info": {
   "codemirror_mode": {
    "name": "ipython",
    "version": 3
   },
   "file_extension": ".py",
   "mimetype": "text/x-python",
   "name": "python",
   "nbconvert_exporter": "python",
   "pygments_lexer": "ipython3",
   "version": "3.6.10"
  }
 },
 "nbformat": 4,
 "nbformat_minor": 2
}
