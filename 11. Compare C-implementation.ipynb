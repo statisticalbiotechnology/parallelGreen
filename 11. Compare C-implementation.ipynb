{
 "cells": [
  {
   "cell_type": "code",
   "execution_count": null,
   "metadata": {},
   "outputs": [],
   "source": [
    "import numpy as np\n",
    "import time\n",
    "import pandas as pd"
   ]
  },
  {
   "cell_type": "code",
   "execution_count": null,
   "metadata": {},
   "outputs": [],
   "source": [
    "from permutationTest import GrennPdistOpenMP, GrennPdist, coinShiftPdist"
   ]
  },
  {
   "cell_type": "code",
   "execution_count": null,
   "metadata": {},
   "outputs": [],
   "source": [
    "from permutationTestCuda import greenCUDA"
   ]
  },
  {
   "cell_type": "code",
   "execution_count": null,
   "metadata": {},
   "outputs": [],
   "source": [
    "#from significance_of_mean_cuda import significance_of_mean_cuda"
   ]
  },
  {
   "cell_type": "code",
   "execution_count": null,
   "metadata": {},
   "outputs": [],
   "source": [
    "import time"
   ]
  },
  {
   "cell_type": "code",
   "execution_count": null,
   "metadata": {},
   "outputs": [],
   "source": [
    "import numpy as np"
   ]
  },
  {
   "cell_type": "code",
   "execution_count": null,
   "metadata": {},
   "outputs": [],
   "source": [
    "def getDataCoinShift(A,B):\n",
    "    scores = np.concatenate((A,B))\n",
    "    n = scores.shape[0]\n",
    "    m = A.shape[0]\n",
    "\n",
    "    add = np.min(scores - 1)\n",
    "    scores = scores - add\n",
    "\n",
    "    m_b = sum(np.sort(scores)[(n - m) :n])\n",
    "\n",
    "    score_a = np.ones(n, dtype=np.int32)\n",
    "\n",
    "\n",
    "    im_a = m\n",
    "    im_b = m_b\n",
    "\n",
    "    return score_a,scores,im_a, im_b \n",
    "\n",
    "def getDataGreen(A,B):\n",
    "    x = A\n",
    "    y = B\n",
    "    m = x.shape[0]\n",
    "    n = y.shape[0]\n",
    "    \n",
    "    z = np.concatenate((A,B))\n",
    "    z.sort()\n",
    "    z = z - min(z)\n",
    "    S = z[m:].sum()\n",
    "      \n",
    "    return z, m, n, S\n",
    "\n",
    "def get_p(pdist,a):\n",
    "    p = pdist[(a-min(a)).sum():].sum()\n",
    "    p = 2 * min( p, (1-p))\n",
    "    return p"
   ]
  },
  {
   "cell_type": "code",
   "execution_count": 8,
   "metadata": {},
   "outputs": [],
   "source": [
    "all_time_coinC = list()\n",
    "all_time_greenC = list()\n",
    "all_time_greenMTC = list()\n",
    "all_time_greenNumba = list()\n",
    "all_time_coinR = list()\n",
    "N = [50,100,150,200,250,300,350,400,450,500]\n",
    "for n in N:\n",
    "    time_coinC = list()\n",
    "    time_greenC = list()\n",
    "    time_greenMTC = list()\n",
    "    time_greenNumba = list()\n",
    "    time_coinR = list()\n",
    "\n",
    "    A_list = np.asarray([np.random.randint(0,n,n,dtype=np.int32) for _ in range(1)])\n",
    "    B_list = np.asarray([np.random.randint(0,n,n,dtype=np.int32) for _ in range(1)])\n",
    "    for A,B in zip(A_list,B_list):\n",
    "        start = time.time()\n",
    "        d0 = np.array(coinShiftPdist(*getDataCoinShift(A,B)))\n",
    "        end = time.time()\n",
    "        time_coinC.append(end - start)\n",
    "\n",
    "    \n",
    "        start = time.time()\n",
    "        d1 = GrennPdist(*getDataGreen(A,B))\n",
    "        end = time.time()\n",
    "        time_greenC.append(end - start)\n",
    "\n",
    "    \n",
    "    \n",
    "        start = time.time()\n",
    "        d2 = np.array(GrennPdistOpenMP(*getDataGreen(A,B)))\n",
    "        end = time.time()\n",
    "        time_greenMTC.append(end - start)\n",
    "\n",
    "    \n",
    "        start = time.time()\n",
    "        d2 = np.array(greenCUDA(*getDataGreen(A,B)))\n",
    "        end = time.time()\n",
    "        time_greenNumba.append(end - start)\n",
    "\n",
    "    \n",
    "    \n",
    "        \n",
    "        \n",
    "    all_time_coinC.append(time_coinC)\n",
    "    all_time_greenC.append(time_greenC)\n",
    "    all_time_greenMTC.append(time_greenMTC)\n",
    "    all_time_greenNumba.append(time_greenNumba)\n",
    "\n",
    "\n",
    "    "
   ]
  },
  {
   "cell_type": "code",
   "execution_count": 12,
   "metadata": {},
   "outputs": [],
   "source": [
    "import matplotlib.pyplot as plt"
   ]
  },
  {
   "cell_type": "code",
   "execution_count": 15,
   "metadata": {},
   "outputs": [],
   "source": [
    "mean_time_coinC = np.mean(all_time_coinC,1)\n",
    "mean_time_greenC = np.mean(all_time_greenC,1)\n",
    "mean_time_greenMTC = np.mean(all_time_greenMTC,1)\n",
    "mean_time_greenNumba = np.mean(all_time_greenNumba,1)"
   ]
  },
  {
   "cell_type": "code",
   "execution_count": 16,
   "metadata": {},
   "outputs": [
    {
     "data": {
      "text/plain": [
       "Text(0, 0.5, 'Time(s)')"
      ]
     },
     "execution_count": 16,
     "metadata": {},
     "output_type": "execute_result"
    },
    {
     "data": {
      "image/png": "[encoded data removed]",
      "text/plain": [
       "<Figure size 432x288 with 1 Axes>"
      ]
     },
     "metadata": {
      "needs_background": "light"
     },
     "output_type": "display_data"
    }
   ],
   "source": [
    "plt.plot(N,mean_time_coinC, label=\"Coin C\")\n",
    "plt.plot(N,mean_time_greenC, label=\"Green C\")\n",
    "plt.plot(N,mean_time_greenMTC, label=\"GreenOpenMP C\")\n",
    "plt.plot(N,mean_time_greenNumba, label=\"Green CUDA\")\n",
    "\n",
    "plt.legend(loc=\"upper left\")\n",
    "plt.xlabel(\"N\")\n",
    "plt.ylabel(\"Time(s)\")"
   ]
  },
  {
   "cell_type": "code",
   "execution_count": null,
   "metadata": {},
   "outputs": [],
   "source": []
  }
 ],
 "metadata": {
  "kernelspec": {
   "display_name": "Python (terran3)",
   "language": "python",
   "name": "terran3"
  },
  "language_info": {
   "codemirror_mode": {
    "name": "ipython",
    "version": 3
   },
   "file_extension": ".py",
   "mimetype": "text/x-python",
   "name": "python",
   "nbconvert_exporter": "python",
   "pygments_lexer": "ipython3",
   "version": "3.6.10"
  }
 },
 "nbformat": 4,
 "nbformat_minor": 2
}
