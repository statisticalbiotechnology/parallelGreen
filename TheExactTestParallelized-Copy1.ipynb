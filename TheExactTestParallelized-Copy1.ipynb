{
 "cells": [
  {
   "cell_type": "code",
   "execution_count": 685,
   "metadata": {},
   "outputs": [],
   "source": [
    "import numpy as np\n",
    "from numba import cuda\n",
    "import time\n",
    "import matplotlib.pyplot as plt\n",
    "from utils import significance_of_mean\n",
    "import seaborn as sns\n",
    "import pandas as pd\n",
    "\n",
    "\n",
    "plt.rcParams['text.latex.preamble']=[r\"\\usepackage{amsmath}\"]"
   ]
  },
  {
   "cell_type": "code",
   "execution_count": 345,
   "metadata": {},
   "outputs": [],
   "source": [
    "from scipy.stats import ttest_ind"
   ]
  },
  {
   "cell_type": "markdown",
   "metadata": {},
   "source": [
    "### Synthetic data"
   ]
  },
  {
   "cell_type": "markdown",
   "metadata": {},
   "source": [
    "Generating some random data."
   ]
  },
  {
   "cell_type": "code",
   "execution_count": 589,
   "metadata": {},
   "outputs": [],
   "source": [
    "np.random.seed(1)\n",
    "#A = np.asarray([np.random.randint(0,3,5) for _ in range(1)])\n",
    "#B = np.asarray([np.random.randint(5,15,5) for _ in range(1)])\n",
    "A = np.asarray([[1,3]])\n",
    "B = np.asarray([[0,1]])\n",
    "\n"
   ]
  },
  {
   "cell_type": "code",
   "execution_count": null,
   "metadata": {},
   "outputs": [],
   "source": []
  },
  {
   "cell_type": "code",
   "execution_count": 590,
   "metadata": {},
   "outputs": [],
   "source": [
    "x = list(A[0])\n",
    "y = list(B[0])\n"
   ]
  },
  {
   "cell_type": "markdown",
   "metadata": {},
   "source": [
    "$\\bf{x}=[3, 4, 0, 1, 3]$, $\\bf{y}=[0, 0, 1, 4, 4]$, and $\\bf{z}=[0, 0, 0, 1, 1, 3, 3, 4, 4, 4]$ with sizes $m=5$, $n=5$, and $m+n=10$, respecitvely. The possible sums $s$ of a $m$-combination from $z$ ranges between $0\\leq s \\leq 18$."
   ]
  },
  {
   "cell_type": "markdown",
   "metadata": {},
   "source": [
    "# \\# $j$-combinations s.t. their elements sum is equal to $s$."
   ]
  },
  {
   "cell_type": "markdown",
   "metadata": {},
   "source": [
    "Here is the exact algorithm outline in the article."
   ]
  },
  {
   "cell_type": "code",
   "execution_count": 668,
   "metadata": {},
   "outputs": [],
   "source": [
    "def getNumerator(x, y, dtype):\n",
    "    x = [0] + x \n",
    "    m = len(x)\n",
    "    n = len(y)\n",
    "    z = x + y;z.sort()\n",
    "    #z = x + y;\n",
    "    S = sum(z[m:])\n",
    "    dtype = np.uint16\n",
    "    print(S)\n",
    "    print(z)\n",
    "\n",
    "    N = np.zeros([S + 1, m ], dtype)\n",
    "    N_old = N.copy()\n",
    "    \n",
    "    for i in range(1,(m+n)+1):\n",
    "        for j in range(1,m +1):\n",
    "            for s in range( S+1):\n",
    "                if s==0 and j-1==0:\n",
    "                    N[s,j-1] = 1\n",
    "                elif i < j:\n",
    "                    N[s,j-1] = 0\n",
    "                elif j > 1 and z[i-1] <= s:\n",
    "                    N[s,j-1] = N_old[s - z[i -1], j-2] + N_old[s,j-1]\n",
    "                elif j > 1 and z[i-1] > s:\n",
    "                    N[s,j-1] = N_old[s,j-1]\n",
    "        print(N)\n",
    "        N_old = N.copy()\n",
    "        \n",
    "    return N_old[:,-1]"
   ]
  },
  {
   "cell_type": "code",
   "execution_count": 669,
   "metadata": {},
   "outputs": [
    {
     "name": "stdout",
     "output_type": "stream",
     "text": [
      "4\n",
      "[0, 0, 1, 1, 3]\n",
      "[[1 0 0]\n",
      " [0 0 0]\n",
      " [0 0 0]\n",
      " [0 0 0]\n",
      " [0 0 0]]\n",
      "[[1 1 0]\n",
      " [0 0 0]\n",
      " [0 0 0]\n",
      " [0 0 0]\n",
      " [0 0 0]]\n",
      "[[1 1 0]\n",
      " [0 1 1]\n",
      " [0 0 0]\n",
      " [0 0 0]\n",
      " [0 0 0]]\n",
      "[[1 1 0]\n",
      " [0 2 2]\n",
      " [0 0 1]\n",
      " [0 0 0]\n",
      " [0 0 0]]\n",
      "[[1 1 0]\n",
      " [0 2 2]\n",
      " [0 0 1]\n",
      " [0 1 1]\n",
      " [0 0 2]]\n"
     ]
    }
   ],
   "source": [
    "Nsm = getNumerator(x,y, np.float64)"
   ]
  },
  {
   "cell_type": "markdown",
   "metadata": {},
   "source": [
    "From the calculated $N(s,m)$ the sought of $p$-value can be calculated: $P(s_{\\text{obs}} \\leq S |x, y)=\\sum _{s=s_{obs}}^{\\mathcal{S}}\\frac{N(s,m)}{{m+n \\choose m}}$"
   ]
  },
  {
   "cell_type": "code",
   "execution_count": 670,
   "metadata": {},
   "outputs": [],
   "source": [
    "def pValue(Numerator, sample):\n",
    "    return (Numerator.astype(float) / np.sum(Numerator).astype(float))[sum(sample):].sum()"
   ]
  },
  {
   "cell_type": "code",
   "execution_count": 744,
   "metadata": {},
   "outputs": [],
   "source": [
    "dist = (Nsm / np.sum(Nsm))"
   ]
  },
  {
   "cell_type": "code",
   "execution_count": 745,
   "metadata": {},
   "outputs": [
    {
     "data": {
      "text/plain": [
       "array([0.        , 0.33333333, 0.16666667, 0.16666667, 0.33333333])"
      ]
     },
     "execution_count": 745,
     "metadata": {},
     "output_type": "execute_result"
    }
   ],
   "source": [
    "dist"
   ]
  },
  {
   "cell_type": "code",
   "execution_count": 673,
   "metadata": {},
   "outputs": [
    {
     "data": {
      "text/plain": [
       "0.3333333333333333"
      ]
     },
     "execution_count": 673,
     "metadata": {},
     "output_type": "execute_result"
    }
   ],
   "source": [
    "pValue(Nsm, x)"
   ]
  },
  {
   "cell_type": "code",
   "execution_count": 674,
   "metadata": {},
   "outputs": [
    {
     "data": {
      "text/plain": [
       "0.6666666666666667"
      ]
     },
     "execution_count": 674,
     "metadata": {},
     "output_type": "execute_result"
    }
   ],
   "source": [
    "1 - pValue(Nsm, x)"
   ]
  },
  {
   "cell_type": "code",
   "execution_count": 675,
   "metadata": {},
   "outputs": [
    {
     "data": {
      "text/plain": [
       "Ttest_indResult(statistic=1.3416407864998738, pvalue=0.3117527983883147)"
      ]
     },
     "execution_count": 675,
     "metadata": {},
     "output_type": "execute_result"
    }
   ],
   "source": [
    "ttest_ind(x,y)"
   ]
  },
  {
   "cell_type": "code",
   "execution_count": 676,
   "metadata": {},
   "outputs": [
    {
     "data": {
      "text/plain": [
       "array([0, 2, 1, 1, 2], dtype=uint16)"
      ]
     },
     "execution_count": 676,
     "metadata": {},
     "output_type": "execute_result"
    }
   ],
   "source": [
    "Nsm"
   ]
  },
  {
   "cell_type": "code",
   "execution_count": 677,
   "metadata": {},
   "outputs": [],
   "source": [
    "data = [[i,n] for i, n in enumerate(Nsm)]"
   ]
  },
  {
   "cell_type": "code",
   "execution_count": 662,
   "metadata": {},
   "outputs": [],
   "source": [
    "df = pd.DataFrame(data,columns=[\"Sum\", \"Number of 2-combinations\"])"
   ]
  },
  {
   "cell_type": "code",
   "execution_count": 663,
   "metadata": {},
   "outputs": [
    {
     "data": {
      "image/png": "[encoded data removed]",
      "text/plain": [
       "<Figure size 1152x720 with 1 Axes>"
      ]
     },
     "metadata": {},
     "output_type": "display_data"
    }
   ],
   "source": [
    "plt.figure(figsize=(16, 10))\n",
    "barP = sns.barplot(x=\"Sum\", y=\"Number of 2-combinations\", data=df, color=\"yellow\")\n",
    "sns.set(style=\"white\")\n",
    "sns.set_context(\"talk\")\n"
   ]
  },
  {
   "cell_type": "code",
   "execution_count": 725,
   "metadata": {},
   "outputs": [],
   "source": [
    "data = [[i,n, \"1\"] if i < 4 else [i,n, \"2\"] for i, n in enumerate(dist)]"
   ]
  },
  {
   "cell_type": "code",
   "execution_count": 737,
   "metadata": {},
   "outputs": [],
   "source": [
    "clr = [\"lightblue\", \"lightblue\", \"lightblue\", \"blue\"]"
   ]
  },
  {
   "cell_type": "code",
   "execution_count": 726,
   "metadata": {},
   "outputs": [],
   "source": [
    "df = pd.DataFrame(data,columns=[\"Sum\", \"Probability (%)\", \"color\"])"
   ]
  },
  {
   "cell_type": "code",
   "execution_count": 727,
   "metadata": {},
   "outputs": [
    {
     "name": "stdout",
     "output_type": "stream",
     "text": [
      "mkdir: cannot create directory ‘figures/exampleFigure’: File exists\r\n"
     ]
    }
   ],
   "source": [
    "!mkdir \"figures/exampleFigure\""
   ]
  },
  {
   "cell_type": "code",
   "execution_count": 728,
   "metadata": {},
   "outputs": [
    {
     "name": "stdout",
     "output_type": "stream",
     "text": [
      "ls: cannot access 'figures/exampleFigure/distribution': No such file or directory\r\n"
     ]
    }
   ],
   "source": [
    "!ls \"figures/exampleFigure/distribution\""
   ]
  },
  {
   "cell_type": "code",
   "execution_count": 731,
   "metadata": {},
   "outputs": [
    {
     "data": {
      "text/plain": [
       "[[0, 0.0, '1'],\n",
       " [1, 0.3333333333333333, '1'],\n",
       " [2, 0.16666666666666666, '1'],\n",
       " [3, 0.16666666666666666, '1'],\n",
       " [4, 0.3333333333333333, '2']]"
      ]
     },
     "execution_count": 731,
     "metadata": {},
     "output_type": "execute_result"
    }
   ],
   "source": [
    "data"
   ]
  },
  {
   "cell_type": "code",
   "execution_count": 741,
   "metadata": {},
   "outputs": [],
   "source": [
    "clr = [\"lightblue\", \"lightblue\", \"lightblue\",\"lightblue\", \"blue\"]"
   ]
  },
  {
   "cell_type": "code",
   "execution_count": 743,
   "metadata": {},
   "outputs": [
    {
     "data": {
      "text/plain": [
       "array([0, 2, 1, 1, 2], dtype=uint16)"
      ]
     },
     "execution_count": 743,
     "metadata": {},
     "output_type": "execute_result"
    }
   ],
   "source": [
    "Nsm"
   ]
  },
  {
   "cell_type": "code",
   "execution_count": 750,
   "metadata": {},
   "outputs": [
    {
     "data": {
      "image/png": "[encoded data removed]",
      "text/plain": [
       "<Figure size 1152x720 with 1 Axes>"
      ]
     },
     "metadata": {},
     "output_type": "display_data"
    }
   ],
   "source": [
    "plt.figure(figsize=(16, 10))\n",
    "#barP = sns.barplot(x=\"Sum\", y=\"Probability (%)\", data=df ,hue=\"color\", palette ={\"1\":\"lightblue\", \"2\":\"blue\"})\n",
    "\n",
    "barP = sns.barplot(x=list(range(len(Nsm))), \n",
    "                   y=dist, \n",
    "                   palette =clr)\n",
    "sns.set(style=\"white\")\n",
    "sns.set_context(\"talk\")\n",
    "\n",
    "\n",
    "plt.xlabel(r\"$\\gamma _{6}-protein\\ (mg/l)$\", fontsize=35)\n",
    "plt.ylabel(r\"$Probability$\",fontsize=35)\n",
    "plt.xticks(size = 25)\n",
    "plt.yticks(size = 25)\n",
    "\n",
    "plt.savefig(\"figures/exampleFigure/distribution\")"
   ]
  },
  {
   "cell_type": "code",
   "execution_count": 730,
   "metadata": {},
   "outputs": [],
   "source": [
    "import operator as op\n",
    "from functools import reduce\n",
    "\n",
    "def ncr(n, r):\n",
    "    r = min(r, n-r)\n",
    "    numer = reduce(op.mul, range(n, n-r, -1), 1)\n",
    "    denom = reduce(op.mul, range(1, r+1), 1)\n",
    "    return numer / denom"
   ]
  },
  {
   "cell_type": "code",
   "execution_count": 716,
   "metadata": {},
   "outputs": [
    {
     "data": {
      "text/plain": [
       "6.0"
      ]
     },
     "execution_count": 716,
     "metadata": {},
     "output_type": "execute_result"
    }
   ],
   "source": [
    "ncr(4,2)"
   ]
  },
  {
   "cell_type": "code",
   "execution_count": 717,
   "metadata": {},
   "outputs": [
    {
     "data": {
      "text/plain": [
       "6"
      ]
     },
     "execution_count": 717,
     "metadata": {},
     "output_type": "execute_result"
    }
   ],
   "source": [
    "Nsm.sum()"
   ]
  },
  {
   "cell_type": "code",
   "execution_count": 718,
   "metadata": {},
   "outputs": [
    {
     "data": {
      "text/plain": [
       "0.3333333333333333"
      ]
     },
     "execution_count": 718,
     "metadata": {},
     "output_type": "execute_result"
    }
   ],
   "source": [
    "2/6"
   ]
  },
  {
   "cell_type": "markdown",
   "metadata": {},
   "source": [
    "The $p-value=0.464$"
   ]
  },
  {
   "cell_type": "markdown",
   "metadata": {},
   "source": [
    "# Parallelization of algorithm"
   ]
  },
  {
   "cell_type": "markdown",
   "metadata": {},
   "source": [
    "It is the two inner for-loops that can parallelized i.e., by keeping $i$ constant, $j$ and $s$ is paralellizible. Let's write those two loops in Numba."
   ]
  },
  {
   "cell_type": "code",
   "execution_count": 8,
   "metadata": {},
   "outputs": [],
   "source": [
    "@cuda.jit(\"(u8[:,:], u8[:,:], u8, u8[:],u8)\")\n",
    "def fill_array_u4_v_u2(X1,X2, i_, z_,S):\n",
    "    n = X1.shape[0]\n",
    "    m = X1.shape[1]\n",
    "\n",
    "    s, j = cuda.grid(2)\n",
    "    \n",
    "    if j >= m + 1 or s > S or j < 1:\n",
    "        return\n",
    "    \n",
    "    if s==0 and int(j-1)==0:\n",
    "        X2[s,j -1] = 1\n",
    "    \n",
    "    if i_ < j:\n",
    "        X2[s, j - 1] = 0\n",
    "        \n",
    "    elif j>1 and z_[i_ - 1] <= s:\n",
    "        X2[s, j - 1] = X1[s - int(z_[i_ - 1]), j - 2] + X1[s, j - 1]\n",
    "    \n",
    "    elif j>1 and z_[i_ - 1] > s:\n",
    "        X2[s, j-1] = X1[s,j-1]\n",
    "    "
   ]
  },
  {
   "cell_type": "markdown",
   "metadata": {},
   "source": [
    "The getNumerator can now be rewritten with this new function to get it parallelized."
   ]
  },
  {
   "cell_type": "code",
   "execution_count": 9,
   "metadata": {},
   "outputs": [],
   "source": [
    "def getNumeratorParallelized(A0, A1, dA0, dA1, m, n, S, dz, threadsperblock, blockspergrid, stream):\n",
    "    for i in range(1, (m+n) + 1):\n",
    "        fill_array_u4_v_u2[blockspergrid, threadsperblock, stream](dA0, dA1, np.uint64(i), dz, S)\n",
    "        \n",
    "        \n",
    "        tmp = dA0\n",
    "        dA0 = dA1\n",
    "        dA1 = tmp\n",
    "        \n",
    "        \n",
    "        \n",
    "    dA0.to_host(stream)\n",
    "\n",
    "    \n",
    "    return A1[:,-1]"
   ]
  },
  {
   "cell_type": "markdown",
   "metadata": {},
   "source": [
    "Here is some necessary initial step to use the GPU: Initiate array to write, and threadblocks and blockgrids on the GPU."
   ]
  },
  {
   "cell_type": "code",
   "execution_count": 10,
   "metadata": {},
   "outputs": [],
   "source": [
    "def runParalellized(x, y):\n",
    "    x = [0] + x \n",
    "    m = len(x)\n",
    "    n = len(y)\n",
    "    z = x + y;z.sort()\n",
    "    S = sum(z[m:])\n",
    "    dtype = np.uint64\n",
    "    \n",
    "    z = np.array(z, dtype)\n",
    "    \n",
    "    A0 = np.zeros([int(S) + 1, m], np.uint64)\n",
    "    NN, NM = A0[:, :].shape\n",
    "        \n",
    "    threadsperblock = (64, 4)\n",
    "    blockspergrid = (int(np.ceil((NN)/ threadsperblock[0])),\n",
    "                     int(np.ceil(NM/threadsperblock[1] + 1))\n",
    "                    )\n",
    "            \n",
    "    A1 = np.zeros([int(S) + 1, m], np.uint64)\n",
    "    \n",
    "    stream = cuda.stream()\n",
    "    dz, dA0, dA1 = cuda.to_device(z, stream), cuda.to_device(A0, stream), cuda.to_device(A1, stream)\n",
    "    \n",
    "    return getNumeratorParallelized(A0,A1, dA0, dA1, m, n, S, dz, threadsperblock, blockspergrid, stream)\n",
    "    "
   ]
  },
  {
   "cell_type": "code",
   "execution_count": 11,
   "metadata": {},
   "outputs": [],
   "source": [
    "NsmP = runParalellized(x,y)"
   ]
  },
  {
   "cell_type": "markdown",
   "metadata": {},
   "source": [
    "Verify so they yield the same answer."
   ]
  },
  {
   "cell_type": "code",
   "execution_count": 13,
   "metadata": {},
   "outputs": [
    {
     "data": {
      "text/plain": [
       "True"
      ]
     },
     "execution_count": 13,
     "metadata": {},
     "output_type": "execute_result"
    }
   ],
   "source": [
    "np.allclose(NsmP, Nsm)"
   ]
  },
  {
   "cell_type": "code",
   "execution_count": null,
   "metadata": {},
   "outputs": [],
   "source": []
  }
 ],
 "metadata": {
  "kernelspec": {
   "display_name": "Python kth-cluster",
   "language": "python",
   "name": "kth-cluster"
  },
  "language_info": {
   "codemirror_mode": {
    "name": "ipython",
    "version": 3
   },
   "file_extension": ".py",
   "mimetype": "text/x-python",
   "name": "python",
   "nbconvert_exporter": "python",
   "pygments_lexer": "ipython3",
   "version": "3.6.9"
  }
 },
 "nbformat": 4,
 "nbformat_minor": 2
}
