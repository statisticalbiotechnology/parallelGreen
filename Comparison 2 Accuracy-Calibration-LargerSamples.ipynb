{
 "cells": [
  {
   "cell_type": "code",
   "execution_count": 1,
   "metadata": {},
   "outputs": [],
   "source": [
    "from significance_of_mean_cuda import significance_of_mean_cuda\n",
    "from utils import getdf\n",
    "import numpy as np\n",
    "import time\n",
    "import multiprocessing\n",
    "import concurrent.futures as cf\n",
    "import matplotlib.pyplot as plt\n",
    "import numpy as np\n",
    "from scipy.stats import truncnorm\n",
    "import matplotlib.pyplot as plt\n",
    "from IPython.display import Image\n",
    "import sklearn\n",
    "import time\n",
    "from scipy.stats import ttest_ind, ttest_rel, chisquare, ks_2samp\n",
    "import pandas as pd\n",
    "import seaborn as sns\n",
    "\n",
    "import matplotlib as mpl\n",
    "\n",
    "mpl.rcParams['text.usetex'] = False  # not really needed\n",
    "\n",
    "from scipy import stats\n",
    "from scipy.stats import mannwhitneyu"
   ]
  },
  {
   "cell_type": "markdown",
   "metadata": {},
   "source": [
    "### Calibration-plot"
   ]
  },
  {
   "cell_type": "code",
   "execution_count": null,
   "metadata": {},
   "outputs": [],
   "source": [
    "def sns_plot(df, save_name=None):\n",
    "    #sns.set(font_scale=1.5)\n",
    "    sns.set(style=\"white\")\n",
    "    sns.set_context(\"talk\")\n",
    "    c1, c2 = df.columns\n",
    "    low = min(min(df[c1]), min(df[c2]))\n",
    "    hi = max(max(df[c1]), max(df[c2]))\n",
    "    \n",
    "    g=sns.lmplot(x=c1, y =c2, data=df, \n",
    "                  fit_reg=False, height=7, truncate=True, scatter_kws={\"s\": 15})\n",
    "    \n",
    "    g.set(xscale=\"log\", yscale=\"log\")\n",
    "    axes = g.axes\n",
    "    g.set(ylim=(low,hi), xlim=(low,hi))\n",
    "    plt.plot([low,hi],[low,hi], \"k\", linewidth=1)\n",
    "    sns.set_style(\"ticks\")\n",
    "    sns.despine()\n",
    "    g.fig.tight_layout()\n",
    "    if save_name:\n",
    "        g.savefig(save_name)"
   ]
  },
  {
   "cell_type": "code",
   "execution_count": null,
   "metadata": {},
   "outputs": [],
   "source": [
    "def multiple_plot(df, save_name):\n",
    "    #sns.set(font_scale=1.5)\n",
    "    sns.set(style=\"white\")\n",
    "    sns.set_context(\"talk\")\n",
    "    low = min(df[\"Theoretical p-value\"])\n",
    "    hi = max(df[\"Theoretical p-value\"])\n",
    "    g=sns.lmplot(x='Theoretical p-value', y ='Observed p-value', data=df, \n",
    "                  fit_reg=False, height=7, truncate=True, scatter_kws={\"s\": 15}, hue=\"Test\")\n",
    "    \n",
    "    g.set(xscale=\"log\", yscale=\"log\")\n",
    "    axes = g.axes\n",
    "    g.set(ylim=(low,hi), xlim=(low,hi))\n",
    "    plt.plot([low,hi],[low,hi], \"k\", linewidth=1)\n",
    "    sns.set_style(\"ticks\")\n",
    "    sns.despine()\n",
    "    g.fig.tight_layout()\n",
    "    g.savefig(save_name)"
   ]
  },
  {
   "cell_type": "code",
   "execution_count": null,
   "metadata": {},
   "outputs": [],
   "source": [
    "def exactTest(A,B, bins=10, one_side=True):\n",
    "    SGM = significance_of_mean_cuda(bins, dtype_v=np.uint32,dtype_A=np.float64)\n",
    "    SGM.run(np.asarray(A),np.asarray(B))\n",
    "    if one_side:\n",
    "        return SGM.get_p_values()\n",
    "    else:\n",
    "        return [ 2*p for p in SGM.get_p_values()]\n",
    "        #return [2 * min( p, (1-p)) for p in SGM.get_p_values()]\n",
    "\n",
    "def MWU(A, B, one_side=True):\n",
    "    p_mw = list()\n",
    "    for a,b in zip(A, B):\n",
    "        if one_side:\n",
    "            p_mw.append(mannwhitneyu(a,b, alternative=\"less\")[1])\n",
    "        else:\n",
    "            p_mw.append(mannwhitneyu(a,b, alternative=\"two-sided\")[1])\n",
    "    return p_mw\n",
    "\n",
    "def ttests(A,B, one_side=True):\n",
    "    p_t = list()\n",
    "    for x, y in zip(A, B):\n",
    "        t, p = ttest_ind(y, x)\n",
    "        if one_side:\n",
    "            p = p/2\n",
    "            if t<0:\n",
    "                p = 1-p\n",
    "        p_t.append(p)\n",
    "    return p_t\n"
   ]
  },
  {
   "cell_type": "code",
   "execution_count": null,
   "metadata": {},
   "outputs": [],
   "source": [
    "def getPATH(path, suffix, prefix):\n",
    "    return path + '/'+ suffix + '/' + prefix"
   ]
  },
  {
   "cell_type": "code",
   "execution_count": null,
   "metadata": {},
   "outputs": [],
   "source": [
    "path = \"figures/paralellVsFastApprox\""
   ]
  },
  {
   "cell_type": "markdown",
   "metadata": {},
   "source": [
    "# Set size 20 and sample size 10000"
   ]
  },
  {
   "cell_type": "code",
   "execution_count": null,
   "metadata": {},
   "outputs": [],
   "source": [
    "import numpy as np\n",
    "from significance_of_mean_cuda import significance_of_mean_cuda\n",
    "from scipy.stats import mannwhitneyu, ttest_ind\n",
    "import pandas as pd\n",
    "import seaborn as sns\n",
    "import matplotlib.pyplot as plt\n",
    "from utils import getdf"
   ]
  },
  {
   "cell_type": "code",
   "execution_count": null,
   "metadata": {},
   "outputs": [],
   "source": [
    "np.random.seed(10)"
   ]
  },
  {
   "cell_type": "code",
   "execution_count": null,
   "metadata": {},
   "outputs": [],
   "source": [
    "set_n = 20\n",
    "sample_n = 20_000"
   ]
  },
  {
   "cell_type": "markdown",
   "metadata": {},
   "source": [
    "# $N(0,1)$"
   ]
  },
  {
   "cell_type": "code",
   "execution_count": null,
   "metadata": {},
   "outputs": [],
   "source": [
    "\n",
    "AN, BN = [np.random.normal(0,1,set_n) for i in range(sample_n)], [np.random.normal(0,1,set_n) for i in range(sample_n)]\n"
   ]
  },
  {
   "cell_type": "markdown",
   "metadata": {},
   "source": [
    "# Exact test"
   ]
  },
  {
   "cell_type": "code",
   "execution_count": null,
   "metadata": {},
   "outputs": [],
   "source": [
    "pExactListNorm = exactTest(BN,AN, 50, True)\n",
    "#pDfExact = getdf(pExactListNorm, sample_n, \"parallelized shift\")\n",
    "#my_scatter_plot(pDfExact,\"figures/calibration/largeSample_10000_20/e_norm_0_1_50\")"
   ]
  },
  {
   "cell_type": "markdown",
   "metadata": {},
   "source": [
    "# Mann-Whitney"
   ]
  },
  {
   "cell_type": "code",
   "execution_count": null,
   "metadata": {},
   "outputs": [],
   "source": [
    "pMWUListNorm = MWU(AN, BN, True)\n",
    "#pDfMW = getdf(pMWUListNorm, sample_n, \"MWU\")\n",
    "#my_scatter_plot(pDfMW,\"figures/calibration/largeSample_10000_20/mw_norm_0_1_50\")"
   ]
  },
  {
   "cell_type": "markdown",
   "metadata": {},
   "source": [
    "# ttest"
   ]
  },
  {
   "cell_type": "code",
   "execution_count": null,
   "metadata": {},
   "outputs": [],
   "source": [
    "pTtestListNorm = ttests(AN, BN, True)\n",
    "#pDfTtest = getdf(pTtestListNorm, sample_n, \"t test\")\n",
    "#my_scatter_plot(pDfTtest,\"figures/calibration/largeSample_10000_20/t_norm_0_1_50\")"
   ]
  },
  {
   "cell_type": "code",
   "execution_count": null,
   "metadata": {},
   "outputs": [],
   "source": [
    "#multiple_plot(pd.concat((pDfTtest, pDfMW, pDfExact)), \"figures/calibration/largeSample_10000_20/allTests_0_1_50\")"
   ]
  },
  {
   "cell_type": "code",
   "execution_count": null,
   "metadata": {},
   "outputs": [],
   "source": [
    "dataExactTtestNorm = pd.DataFrame(data={'parallelized': pExactListNorm, 'ttest': pTtestListNorm})\n",
    "dataMWUTtestNorm = pd.DataFrame(data={'MWU': pMWUListNorm, 'ttest': pTtestListNorm})\n",
    "dataEaxactMWUNorm = pd.DataFrame(data={'parallelized': pExactListNorm, 'MWU': pMWUListNorm})"
   ]
  },
  {
   "cell_type": "code",
   "execution_count": null,
   "metadata": {},
   "outputs": [],
   "source": [
    "sns_plot(dataExactTtestNorm)"
   ]
  },
  {
   "cell_type": "code",
   "execution_count": null,
   "metadata": {},
   "outputs": [],
   "source": [
    "sns_plot(dataEaxactMWUNorm)"
   ]
  },
  {
   "cell_type": "code",
   "execution_count": null,
   "metadata": {},
   "outputs": [],
   "source": [
    "sns_plot(dataMWUTtestNorm)"
   ]
  },
  {
   "cell_type": "markdown",
   "metadata": {},
   "source": [
    "# $log N(0,2)$"
   ]
  },
  {
   "cell_type": "code",
   "execution_count": null,
   "metadata": {},
   "outputs": [],
   "source": [
    "std = 2"
   ]
  },
  {
   "cell_type": "code",
   "execution_count": null,
   "metadata": {},
   "outputs": [],
   "source": [
    "ALn, BLn = [np.random.lognormal(0,std,set_n) for i in range(sample_n)], [np.random.lognormal(0,std,set_n) for i in range(sample_n)]\n"
   ]
  },
  {
   "cell_type": "markdown",
   "metadata": {},
   "source": [
    "# Exact test"
   ]
  },
  {
   "cell_type": "code",
   "execution_count": null,
   "metadata": {},
   "outputs": [],
   "source": [
    "pExactListLog = exactTest(BLn,ALn, 50, True)\n",
    "#pDfExact = getdf(pExactListLog, sample_n, \"parallelized shift\")\n",
    "#my_scatter_plot(pDfExact,\"figures/calibration/largeSample_10000_20/e_Lnorm_0_1_50\")"
   ]
  },
  {
   "cell_type": "markdown",
   "metadata": {},
   "source": [
    "# Mann Whitney"
   ]
  },
  {
   "cell_type": "code",
   "execution_count": null,
   "metadata": {},
   "outputs": [],
   "source": [
    "pMWUListLog = MWU(ALn, BLn, True)\n",
    "#pDfMW = getdf(pMWUListLog, sample_n, \"MWU\")\n",
    "#my_scatter_plot(pDfMW,\"figures/calibration/largeSample_10000_20/mw_Lnorm_0_1_50\")"
   ]
  },
  {
   "cell_type": "markdown",
   "metadata": {},
   "source": [
    "# ttest"
   ]
  },
  {
   "cell_type": "code",
   "execution_count": null,
   "metadata": {},
   "outputs": [],
   "source": [
    "pTtestListLog = ttests(ALn, BLn, True)\n",
    "#pDfTtest = getdf(pTtestListLog, sample_n, \"t test\")\n",
    "#my_scatter_plot(pDfTtest,\"figures/calibration/largeSample_10000_20/t_Lnorm_0_1_50\")"
   ]
  },
  {
   "cell_type": "code",
   "execution_count": null,
   "metadata": {},
   "outputs": [],
   "source": [
    "#multiple_plot(pd.concat((pDfTtest, pDfMW, pDfExact)), \"figures/calibration/largeSample_10000_20/allTests_Lnorm_0_1_50\")"
   ]
  },
  {
   "cell_type": "code",
   "execution_count": null,
   "metadata": {},
   "outputs": [],
   "source": [
    "dataExactTtestLog = pd.DataFrame(data={'parallelized': pExactListLog, 'ttest': pTtestListLog})\n",
    "dataMWUTtestLog = pd.DataFrame(data={'MWU': pMWUListLog, 'ttest': pTtestListLog})\n",
    "dataEaxactMWULog = pd.DataFrame(data={'parallelized': pExactListLog, 'MWU': pMWUListLog})"
   ]
  },
  {
   "cell_type": "code",
   "execution_count": null,
   "metadata": {},
   "outputs": [],
   "source": [
    "sns_plot(dataExactTtestLog)"
   ]
  },
  {
   "cell_type": "code",
   "execution_count": null,
   "metadata": {},
   "outputs": [],
   "source": [
    "sns_plot(dataEaxactMWULog)"
   ]
  },
  {
   "cell_type": "code",
   "execution_count": null,
   "metadata": {},
   "outputs": [],
   "source": [
    "sns_plot(dataMWUTtestLog)"
   ]
  },
  {
   "cell_type": "code",
   "execution_count": null,
   "metadata": {},
   "outputs": [],
   "source": []
  }
 ],
 "metadata": {
  "kernelspec": {
   "display_name": "Python kth-cluster",
   "language": "python",
   "name": "kth-cluster"
  },
  "language_info": {
   "codemirror_mode": {
    "name": "ipython",
    "version": 3
   },
   "file_extension": ".py",
   "mimetype": "text/x-python",
   "name": "python",
   "nbconvert_exporter": "python",
   "pygments_lexer": "ipython3",
   "version": "3.6.9"
  }
 },
 "nbformat": 4,
 "nbformat_minor": 2
}
