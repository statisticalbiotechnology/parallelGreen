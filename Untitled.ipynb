{
 "cells": [
  {
   "cell_type": "code",
   "execution_count": 2,
   "metadata": {},
   "outputs": [],
   "source": [
    "import pandas as pd\n",
    "import numpy as np\n",
    "from significance_of_mean_cuda import significance_of_mean_cuda"
   ]
  },
  {
   "cell_type": "code",
   "execution_count": 3,
   "metadata": {},
   "outputs": [
    {
     "name": "stdout",
     "output_type": "stream",
     "text": [
      "CPTAC_BC_SupplementaryTable01.xlsx  CPTAC_BC_SupplementaryTable03.xlsx\r\n"
     ]
    }
   ],
   "source": [
    "!ls \"./data/nature18003-s2/\""
   ]
  },
  {
   "cell_type": "code",
   "execution_count": 4,
   "metadata": {},
   "outputs": [],
   "source": [
    "path = \"./data/nature18003-s2/\""
   ]
  },
  {
   "cell_type": "code",
   "execution_count": 5,
   "metadata": {},
   "outputs": [],
   "source": [
    "T1 = pd.read_excel(path + \"CPTAC_BC_SupplementaryTable01.xlsx\")\n",
    "T3 = pd.read_excel(path + \"CPTAC_BC_SupplementaryTable03.xlsx\")"
   ]
  },
  {
   "cell_type": "code",
   "execution_count": 6,
   "metadata": {},
   "outputs": [],
   "source": [
    "paiteint_id = T1.columns[0]\n",
    "stats_col = T1.columns[5: 5 + 3]"
   ]
  },
  {
   "cell_type": "code",
   "execution_count": 7,
   "metadata": {},
   "outputs": [],
   "source": [
    "all_lab = list()\n",
    "for r in T1[stats_col].iterrows():\n",
    "    all_lab += list(r[1].values)"
   ]
  },
  {
   "cell_type": "code",
   "execution_count": 8,
   "metadata": {},
   "outputs": [
    {
     "data": {
      "text/plain": [
       "['Indeterminate', 'Equivocal', 'Negative', 'Positive']"
      ]
     },
     "execution_count": 8,
     "metadata": {},
     "output_type": "execute_result"
    }
   ],
   "source": [
    "list(set(all_lab))"
   ]
  },
  {
   "cell_type": "code",
   "execution_count": 9,
   "metadata": {},
   "outputs": [],
   "source": [
    "skip_label = ['Indeterminate', 'Equivocal']"
   ]
  },
  {
   "cell_type": "code",
   "execution_count": 10,
   "metadata": {},
   "outputs": [
    {
     "data": {
      "text/html": [
       "<div>\n",
       "<style scoped>\n",
       "    .dataframe tbody tr th:only-of-type {\n",
       "        vertical-align: middle;\n",
       "    }\n",
       "\n",
       "    .dataframe tbody tr th {\n",
       "        vertical-align: top;\n",
       "    }\n",
       "\n",
       "    .dataframe thead th {\n",
       "        text-align: right;\n",
       "    }\n",
       "</style>\n",
       "<table border=\"1\" class=\"dataframe\">\n",
       "  <thead>\n",
       "    <tr style=\"text-align: right;\">\n",
       "      <th></th>\n",
       "      <th>Sample ID</th>\n",
       "      <th>TCGA ID</th>\n",
       "      <th>Biospecimen Barcode Side</th>\n",
       "      <th>UIUD</th>\n",
       "      <th>PAM50</th>\n",
       "      <th>ER Status</th>\n",
       "      <th>PR Status</th>\n",
       "      <th>HER2 Status</th>\n",
       "      <th>QC Status</th>\n",
       "      <th>Proteome Cluster (see Fig. 3b)</th>\n",
       "      <th>...</th>\n",
       "      <th>iTRAQReporterIon</th>\n",
       "      <th>CommonControl</th>\n",
       "      <th>GATA3 Mutation</th>\n",
       "      <th>PIK3CA Mutation</th>\n",
       "      <th>TP53 Mutation</th>\n",
       "      <th>PIK3CA missense mutation in helical domain all tumors</th>\n",
       "      <th>PIK3CA missense mutation in kinase domain all tumors</th>\n",
       "      <th>TP53 Nonsense/Frameshift all tumors</th>\n",
       "      <th>TP53 Missense mutation all tumors</th>\n",
       "      <th>TP53 missense mutations in DNA binding domain all tumors</th>\n",
       "    </tr>\n",
       "  </thead>\n",
       "  <tbody>\n",
       "    <tr>\n",
       "      <th>0</th>\n",
       "      <td>A2-A0CM</td>\n",
       "      <td>TCGA-A2-A0CM</td>\n",
       "      <td>TCGA-A2-A0CM-01A-11-A21V-30</td>\n",
       "      <td>330F7598-824C-4CD6-9303-A27FE74A6695</td>\n",
       "      <td>Basal</td>\n",
       "      <td>Negative</td>\n",
       "      <td>Negative</td>\n",
       "      <td>Negative</td>\n",
       "      <td>pass</td>\n",
       "      <td>1.0</td>\n",
       "      <td>...</td>\n",
       "      <td>116</td>\n",
       "      <td>YES</td>\n",
       "      <td>NaN</td>\n",
       "      <td>NaN</td>\n",
       "      <td>Frame_Shift_Del|Somatic|p.E204fs</td>\n",
       "      <td>0.0</td>\n",
       "      <td>0.0</td>\n",
       "      <td>1.0</td>\n",
       "      <td>NaN</td>\n",
       "      <td>NaN</td>\n",
       "    </tr>\n",
       "    <tr>\n",
       "      <th>1</th>\n",
       "      <td>A2-A0D2</td>\n",
       "      <td>TCGA-A2-A0D2</td>\n",
       "      <td>TCGA-A2-A0D2-01A-12-A21W-30</td>\n",
       "      <td>308CCD79-C164-4397-92BC-A1CD243C8E7D</td>\n",
       "      <td>Basal</td>\n",
       "      <td>Negative</td>\n",
       "      <td>Negative</td>\n",
       "      <td>Negative</td>\n",
       "      <td>pass</td>\n",
       "      <td>1.0</td>\n",
       "      <td>...</td>\n",
       "      <td>114</td>\n",
       "      <td>NO</td>\n",
       "      <td>NaN</td>\n",
       "      <td>NaN</td>\n",
       "      <td>Frame_Shift_Del|Somatic|p.P318fs</td>\n",
       "      <td>0.0</td>\n",
       "      <td>0.0</td>\n",
       "      <td>1.0</td>\n",
       "      <td>NaN</td>\n",
       "      <td>NaN</td>\n",
       "    </tr>\n",
       "    <tr>\n",
       "      <th>2</th>\n",
       "      <td>A2-A0EQ</td>\n",
       "      <td>TCGA-A2-A0EQ</td>\n",
       "      <td>TCGA-A2-A0EQ-01A-41-A21W-30</td>\n",
       "      <td>04217F65-2907-478B-B0C5-EB65370198DA</td>\n",
       "      <td>Her2</td>\n",
       "      <td>Negative</td>\n",
       "      <td>Negative</td>\n",
       "      <td>Positive</td>\n",
       "      <td>pass</td>\n",
       "      <td>1.0</td>\n",
       "      <td>...</td>\n",
       "      <td>116</td>\n",
       "      <td>NO</td>\n",
       "      <td>NaN</td>\n",
       "      <td>Missense_Mutation|Somatic|p.H1047R</td>\n",
       "      <td>In_Frame_Del|Somatic|p.IY162in_frame_delN</td>\n",
       "      <td>NaN</td>\n",
       "      <td>1.0</td>\n",
       "      <td>NaN</td>\n",
       "      <td>NaN</td>\n",
       "      <td>NaN</td>\n",
       "    </tr>\n",
       "    <tr>\n",
       "      <th>3</th>\n",
       "      <td>A2-A0EV</td>\n",
       "      <td>TCGA-A2-A0EV</td>\n",
       "      <td>TCGA-A2-A0EV-01A-41-A21V-30</td>\n",
       "      <td>38F98E5F-7FA4-4C89-8D81-516CF865BEEB</td>\n",
       "      <td>LumA</td>\n",
       "      <td>Positive</td>\n",
       "      <td>Positive</td>\n",
       "      <td>Negative</td>\n",
       "      <td>pass</td>\n",
       "      <td>3.0</td>\n",
       "      <td>...</td>\n",
       "      <td>114</td>\n",
       "      <td>NO</td>\n",
       "      <td>NaN</td>\n",
       "      <td>In_Frame_Ins|Somatic|p.E469in_frame_insDK</td>\n",
       "      <td>NaN</td>\n",
       "      <td>NaN</td>\n",
       "      <td>NaN</td>\n",
       "      <td>0.0</td>\n",
       "      <td>0.0</td>\n",
       "      <td>0.0</td>\n",
       "    </tr>\n",
       "    <tr>\n",
       "      <th>4</th>\n",
       "      <td>A2-A0EX</td>\n",
       "      <td>TCGA-A2-A0EX</td>\n",
       "      <td>TCGA-A2-A0EX-01A-41-A21V-30</td>\n",
       "      <td>78271500-147B-40C5-B789-0CF0C7CDBCE2</td>\n",
       "      <td>LumA</td>\n",
       "      <td>Positive</td>\n",
       "      <td>Positive</td>\n",
       "      <td>Negative</td>\n",
       "      <td>pass</td>\n",
       "      <td>3.0</td>\n",
       "      <td>...</td>\n",
       "      <td>116</td>\n",
       "      <td>NO</td>\n",
       "      <td>NaN</td>\n",
       "      <td>Missense_Mutation|Somatic|p.E545K</td>\n",
       "      <td>NaN</td>\n",
       "      <td>1.0</td>\n",
       "      <td>NaN</td>\n",
       "      <td>0.0</td>\n",
       "      <td>0.0</td>\n",
       "      <td>0.0</td>\n",
       "    </tr>\n",
       "  </tbody>\n",
       "</table>\n",
       "<p>5 rows × 24 columns</p>\n",
       "</div>"
      ],
      "text/plain": [
       "  Sample ID       TCGA ID     Biospecimen Barcode Side  \\\n",
       "0   A2-A0CM  TCGA-A2-A0CM  TCGA-A2-A0CM-01A-11-A21V-30   \n",
       "1   A2-A0D2  TCGA-A2-A0D2  TCGA-A2-A0D2-01A-12-A21W-30   \n",
       "2   A2-A0EQ  TCGA-A2-A0EQ  TCGA-A2-A0EQ-01A-41-A21W-30   \n",
       "3   A2-A0EV  TCGA-A2-A0EV  TCGA-A2-A0EV-01A-41-A21V-30   \n",
       "4   A2-A0EX  TCGA-A2-A0EX  TCGA-A2-A0EX-01A-41-A21V-30   \n",
       "\n",
       "                                   UIUD  PAM50 ER Status PR Status  \\\n",
       "0  330F7598-824C-4CD6-9303-A27FE74A6695  Basal  Negative  Negative   \n",
       "1  308CCD79-C164-4397-92BC-A1CD243C8E7D  Basal  Negative  Negative   \n",
       "2  04217F65-2907-478B-B0C5-EB65370198DA   Her2  Negative  Negative   \n",
       "3  38F98E5F-7FA4-4C89-8D81-516CF865BEEB   LumA  Positive  Positive   \n",
       "4  78271500-147B-40C5-B789-0CF0C7CDBCE2   LumA  Positive  Positive   \n",
       "\n",
       "  HER2 Status QC Status  Proteome Cluster (see Fig. 3b)  ...  \\\n",
       "0    Negative      pass                             1.0  ...   \n",
       "1    Negative      pass                             1.0  ...   \n",
       "2    Positive      pass                             1.0  ...   \n",
       "3    Negative      pass                             3.0  ...   \n",
       "4    Negative      pass                             3.0  ...   \n",
       "\n",
       "   iTRAQReporterIon  CommonControl GATA3 Mutation  \\\n",
       "0               116            YES            NaN   \n",
       "1               114             NO            NaN   \n",
       "2               116             NO            NaN   \n",
       "3               114             NO            NaN   \n",
       "4               116             NO            NaN   \n",
       "\n",
       "                             PIK3CA Mutation  \\\n",
       "0                                        NaN   \n",
       "1                                        NaN   \n",
       "2         Missense_Mutation|Somatic|p.H1047R   \n",
       "3  In_Frame_Ins|Somatic|p.E469in_frame_insDK   \n",
       "4          Missense_Mutation|Somatic|p.E545K   \n",
       "\n",
       "                               TP53 Mutation  \\\n",
       "0           Frame_Shift_Del|Somatic|p.E204fs   \n",
       "1           Frame_Shift_Del|Somatic|p.P318fs   \n",
       "2  In_Frame_Del|Somatic|p.IY162in_frame_delN   \n",
       "3                                        NaN   \n",
       "4                                        NaN   \n",
       "\n",
       "  PIK3CA missense mutation in helical domain all tumors  \\\n",
       "0                                                0.0      \n",
       "1                                                0.0      \n",
       "2                                                NaN      \n",
       "3                                                NaN      \n",
       "4                                                1.0      \n",
       "\n",
       "  PIK3CA missense mutation in kinase domain all tumors  \\\n",
       "0                                                0.0     \n",
       "1                                                0.0     \n",
       "2                                                1.0     \n",
       "3                                                NaN     \n",
       "4                                                NaN     \n",
       "\n",
       "  TP53 Nonsense/Frameshift all tumors TP53 Missense mutation all tumors  \\\n",
       "0                                 1.0                               NaN   \n",
       "1                                 1.0                               NaN   \n",
       "2                                 NaN                               NaN   \n",
       "3                                 0.0                               0.0   \n",
       "4                                 0.0                               0.0   \n",
       "\n",
       "   TP53 missense mutations in DNA binding domain all tumors  \n",
       "0                                                NaN         \n",
       "1                                                NaN         \n",
       "2                                                NaN         \n",
       "3                                                0.0         \n",
       "4                                                0.0         \n",
       "\n",
       "[5 rows x 24 columns]"
      ]
     },
     "execution_count": 10,
     "metadata": {},
     "output_type": "execute_result"
    }
   ],
   "source": [
    "T1.head()"
   ]
  },
  {
   "cell_type": "code",
   "execution_count": 11,
   "metadata": {},
   "outputs": [],
   "source": [
    "mask1 = [True if (len(set(r[1].values) & set(skip_label)) == 0) else False for r in T1[stats_col].iterrows()]"
   ]
  },
  {
   "cell_type": "code",
   "execution_count": 12,
   "metadata": {},
   "outputs": [],
   "source": [
    "T1 = T1[mask1]\n",
    "T1.reset_index(drop=True, inplace=True)"
   ]
  },
  {
   "cell_type": "code",
   "execution_count": 13,
   "metadata": {},
   "outputs": [],
   "source": [
    "mask2 = [all([True if v=='Negative' else False for v in r[1].values] ) for r in T1[stats_col].iterrows()]"
   ]
  },
  {
   "cell_type": "code",
   "execution_count": 14,
   "metadata": {},
   "outputs": [],
   "source": [
    "T1_TNP = T1[np.array(mask2)]\n",
    "T1_TNP.reset_index(drop=True, inplace=True)\n",
    "\n",
    "T1_not_TNP = T1[~np.array(mask2)]\n",
    "T1_not_TNP.reset_index(drop=True, inplace=True)"
   ]
  },
  {
   "cell_type": "code",
   "execution_count": 15,
   "metadata": {},
   "outputs": [],
   "source": [
    "TNPpateintIds = T1_TNP[paiteint_id].values\n",
    "NotTNPpateintIds = T1_not_TNP[paiteint_id].values"
   ]
  },
  {
   "cell_type": "code",
   "execution_count": 16,
   "metadata": {},
   "outputs": [],
   "source": [
    "def getpatientId(ids):\n",
    "    patitentList = list()\n",
    "    for i in ids:\n",
    "        p_id = T3[T3.columns[[i in c for c in T3.columns]]].columns\n",
    "        patitentList += list(p_id)\n",
    "    return patitentList"
   ]
  },
  {
   "cell_type": "code",
   "execution_count": 17,
   "metadata": {},
   "outputs": [],
   "source": [
    "only_patientDf = T3[getpatientId(NotTNPpateintIds) + getpatientId(TNPpateintIds)]"
   ]
  },
  {
   "cell_type": "code",
   "execution_count": 18,
   "metadata": {},
   "outputs": [
    {
     "name": "stderr",
     "output_type": "stream",
     "text": [
      "/home/ekvall/anaconda3/envs/kth-cluster/lib/python3.6/site-packages/ipykernel_launcher.py:1: SettingWithCopyWarning: \n",
      "A value is trying to be set on a copy of a slice from a DataFrame\n",
      "\n",
      "See the caveats in the documentation: http://pandas.pydata.org/pandas-docs/stable/user_guide/indexing.html#returning-a-view-versus-a-copy\n",
      "  \"\"\"Entry point for launching an IPython kernel.\n"
     ]
    }
   ],
   "source": [
    "only_patientDf.dropna(inplace=True)"
   ]
  },
  {
   "cell_type": "code",
   "execution_count": 19,
   "metadata": {},
   "outputs": [],
   "source": [
    "NotTNP_df =  only_patientDf[getpatientId(NotTNPpateintIds)]\n",
    "TNP_df =  only_patientDf[getpatientId(TNPpateintIds)]"
   ]
  },
  {
   "cell_type": "code",
   "execution_count": 20,
   "metadata": {},
   "outputs": [
    {
     "data": {
      "text/plain": [
       "(8051, 80)"
      ]
     },
     "execution_count": 20,
     "metadata": {},
     "output_type": "execute_result"
    }
   ],
   "source": [
    "NotTNP_df.shape"
   ]
  },
  {
   "cell_type": "code",
   "execution_count": 21,
   "metadata": {},
   "outputs": [
    {
     "data": {
      "text/plain": [
       "(8051, 26)"
      ]
     },
     "execution_count": 21,
     "metadata": {},
     "output_type": "execute_result"
    }
   ],
   "source": [
    "TNP_df.shape"
   ]
  },
  {
   "cell_type": "code",
   "execution_count": 22,
   "metadata": {},
   "outputs": [],
   "source": [
    "NotTNP_Arr, TNP_Arr =NotTNP_df.values, TNP_df.values"
   ]
  },
  {
   "cell_type": "code",
   "execution_count": null,
   "metadata": {},
   "outputs": [],
   "source": [
    "A, B = [np.random.normal(0,1,20) for i in range(20)], [np.random.normal(0,1,80) for i in range(20)]"
   ]
  },
  {
   "cell_type": "code",
   "execution_count": null,
   "metadata": {},
   "outputs": [],
   "source": [
    "A, B = np.asarray(A), np.asarray(B)"
   ]
  },
  {
   "cell_type": "code",
   "execution_count": null,
   "metadata": {},
   "outputs": [],
   "source": [
    "SGM = significance_of_mean_cuda(40, dtype_v=np.uint32,dtype_A=np.float64)\n",
    "SGM.run(TNP_Arr[:500], NotTNP_Arr[:500])"
   ]
  },
  {
   "cell_type": "code",
   "execution_count": null,
   "metadata": {},
   "outputs": [],
   "source": [
    "SGM.p_values"
   ]
  },
  {
   "cell_type": "code",
   "execution_count": 23,
   "metadata": {},
   "outputs": [],
   "source": [
    "def runSGMBatch(A, B, batch_size=50):\n",
    "    total_count = B.shape[0]\n",
    "    chunks = (total_count - 1) // batch_size + 1\n",
    "    \n",
    "    SGM = significance_of_mean_cuda(40, dtype_v=np.uint32,dtype_A=np.float64)\n",
    "    P_values = list()\n",
    "    for i in range(chunks):\n",
    "        A_batch = A[i*batch_size:(i+1)*batch_size]\n",
    "        B_batch = B[i*batch_size:(i+1)*batch_size]\n",
    "        \n",
    "        SGM.run(A_batch, B_batch)\n",
    "        \n",
    "        P_values.append(SGM.p_values)\n",
    "    \n",
    "    return P_values\n",
    "        "
   ]
  },
  {
   "cell_type": "code",
   "execution_count": 26,
   "metadata": {},
   "outputs": [
    {
     "ename": "MemoryError",
     "evalue": "",
     "output_type": "error",
     "traceback": [
      "\u001b[0;31m---------------------------------------------------------------------------\u001b[0m",
      "\u001b[0;31mMemoryError\u001b[0m                               Traceback (most recent call last)",
      "\u001b[0;32m<ipython-input-26-be75d12675b5>\u001b[0m in \u001b[0;36m<module>\u001b[0;34m\u001b[0m\n\u001b[0;32m----> 1\u001b[0;31m \u001b[0mP\u001b[0m \u001b[0;34m=\u001b[0m \u001b[0mrunSGMBatch\u001b[0m\u001b[0;34m(\u001b[0m\u001b[0mTNP_Arr\u001b[0m\u001b[0;34m,\u001b[0m \u001b[0mNotTNP_Arr\u001b[0m\u001b[0;34m,\u001b[0m \u001b[0;36m300\u001b[0m\u001b[0;34m)\u001b[0m\u001b[0;34m\u001b[0m\u001b[0;34m\u001b[0m\u001b[0m\n\u001b[0m",
      "\u001b[0;32m<ipython-input-23-bf8bf36ee65f>\u001b[0m in \u001b[0;36mrunSGMBatch\u001b[0;34m(A, B, batch_size)\u001b[0m\n\u001b[1;32m      9\u001b[0m         \u001b[0mB_batch\u001b[0m \u001b[0;34m=\u001b[0m \u001b[0mB\u001b[0m\u001b[0;34m[\u001b[0m\u001b[0mi\u001b[0m\u001b[0;34m*\u001b[0m\u001b[0mbatch_size\u001b[0m\u001b[0;34m:\u001b[0m\u001b[0;34m(\u001b[0m\u001b[0mi\u001b[0m\u001b[0;34m+\u001b[0m\u001b[0;36m1\u001b[0m\u001b[0;34m)\u001b[0m\u001b[0;34m*\u001b[0m\u001b[0mbatch_size\u001b[0m\u001b[0;34m]\u001b[0m\u001b[0;34m\u001b[0m\u001b[0;34m\u001b[0m\u001b[0m\n\u001b[1;32m     10\u001b[0m \u001b[0;34m\u001b[0m\u001b[0m\n\u001b[0;32m---> 11\u001b[0;31m         \u001b[0mSGM\u001b[0m\u001b[0;34m.\u001b[0m\u001b[0mrun\u001b[0m\u001b[0;34m(\u001b[0m\u001b[0mA_batch\u001b[0m\u001b[0;34m,\u001b[0m \u001b[0mB_batch\u001b[0m\u001b[0;34m)\u001b[0m\u001b[0;34m\u001b[0m\u001b[0;34m\u001b[0m\u001b[0m\n\u001b[0m\u001b[1;32m     12\u001b[0m \u001b[0;34m\u001b[0m\u001b[0m\n\u001b[1;32m     13\u001b[0m         \u001b[0mP_values\u001b[0m\u001b[0;34m.\u001b[0m\u001b[0mappend\u001b[0m\u001b[0;34m(\u001b[0m\u001b[0mSGM\u001b[0m\u001b[0;34m.\u001b[0m\u001b[0mp_values\u001b[0m\u001b[0;34m)\u001b[0m\u001b[0;34m\u001b[0m\u001b[0;34m\u001b[0m\u001b[0m\n",
      "\u001b[0;32m~/realFastPerm/parallelizedShiftExactPermTest/significance_of_mean_cuda.py\u001b[0m in \u001b[0;36mrun\u001b[0;34m(self, A, B, midP)\u001b[0m\n\u001b[1;32m    203\u001b[0m         \u001b[0mS\u001b[0m \u001b[0;34m=\u001b[0m \u001b[0mnp\u001b[0m\u001b[0;34m.\u001b[0m\u001b[0msum\u001b[0m\u001b[0;34m(\u001b[0m\u001b[0mdigitized\u001b[0m\u001b[0;34m[\u001b[0m\u001b[0;34m:\u001b[0m\u001b[0;34m,\u001b[0m \u001b[0mm\u001b[0m\u001b[0;34m:\u001b[0m\u001b[0;34m]\u001b[0m\u001b[0;34m,\u001b[0m \u001b[0maxis\u001b[0m\u001b[0;34m=\u001b[0m\u001b[0;36m1\u001b[0m\u001b[0;34m)\u001b[0m\u001b[0;34m\u001b[0m\u001b[0;34m\u001b[0m\u001b[0m\n\u001b[1;32m    204\u001b[0m \u001b[0;34m\u001b[0m\u001b[0m\n\u001b[0;32m--> 205\u001b[0;31m         \u001b[0mself\u001b[0m\u001b[0;34m.\u001b[0m\u001b[0mnumerator\u001b[0m \u001b[0;34m=\u001b[0m \u001b[0mself\u001b[0m\u001b[0;34m.\u001b[0m\u001b[0m_exact_perm_numba_shift\u001b[0m\u001b[0;34m(\u001b[0m\u001b[0mint\u001b[0m\u001b[0;34m(\u001b[0m\u001b[0mm\u001b[0m\u001b[0;34m)\u001b[0m\u001b[0;34m,\u001b[0m \u001b[0mint\u001b[0m\u001b[0;34m(\u001b[0m\u001b[0mn\u001b[0m\u001b[0;34m)\u001b[0m\u001b[0;34m,\u001b[0m \u001b[0mS\u001b[0m\u001b[0;34m,\u001b[0m \u001b[0mdigitized\u001b[0m\u001b[0;34m)\u001b[0m\u001b[0;34m\u001b[0m\u001b[0;34m\u001b[0m\u001b[0m\n\u001b[0m\u001b[1;32m    206\u001b[0m         \u001b[0mself\u001b[0m\u001b[0;34m.\u001b[0m\u001b[0mp_values\u001b[0m \u001b[0;34m=\u001b[0m \u001b[0mself\u001b[0m\u001b[0;34m.\u001b[0m\u001b[0m_calculate_p_values\u001b[0m\u001b[0;34m(\u001b[0m\u001b[0mself\u001b[0m\u001b[0;34m.\u001b[0m\u001b[0mnumerator\u001b[0m\u001b[0;34m,\u001b[0m \u001b[0mn_samples\u001b[0m\u001b[0;34m,\u001b[0m \u001b[0mS\u001b[0m\u001b[0;34m,\u001b[0m \u001b[0mA\u001b[0m\u001b[0;34m,\u001b[0m \u001b[0mbins\u001b[0m\u001b[0;34m,\u001b[0m \u001b[0mmidP\u001b[0m\u001b[0;34m)\u001b[0m\u001b[0;34m\u001b[0m\u001b[0;34m\u001b[0m\u001b[0m\n\u001b[1;32m    207\u001b[0m \u001b[0;34m\u001b[0m\u001b[0m\n",
      "\u001b[0;32m~/realFastPerm/parallelizedShiftExactPermTest/significance_of_mean_cuda.py\u001b[0m in \u001b[0;36m_exact_perm_numba_shift\u001b[0;34m(self, m, n, S, z)\u001b[0m\n\u001b[1;32m    154\u001b[0m         \u001b[0mn_samples\u001b[0m \u001b[0;34m=\u001b[0m \u001b[0mz\u001b[0m\u001b[0;34m.\u001b[0m\u001b[0mshape\u001b[0m\u001b[0;34m[\u001b[0m\u001b[0;36m0\u001b[0m\u001b[0;34m]\u001b[0m\u001b[0;34m\u001b[0m\u001b[0;34m\u001b[0m\u001b[0m\n\u001b[1;32m    155\u001b[0m \u001b[0;34m\u001b[0m\u001b[0m\n\u001b[0;32m--> 156\u001b[0;31m         \u001b[0mA0\u001b[0m \u001b[0;34m=\u001b[0m \u001b[0mnp\u001b[0m\u001b[0;34m.\u001b[0m\u001b[0mzeros\u001b[0m\u001b[0;34m(\u001b[0m\u001b[0;34m[\u001b[0m\u001b[0mint\u001b[0m\u001b[0;34m(\u001b[0m\u001b[0mnp\u001b[0m\u001b[0;34m.\u001b[0m\u001b[0mmax\u001b[0m\u001b[0;34m(\u001b[0m\u001b[0mS\u001b[0m\u001b[0;34m)\u001b[0m\u001b[0;34m)\u001b[0m \u001b[0;34m+\u001b[0m \u001b[0;36m1\u001b[0m\u001b[0;34m,\u001b[0m \u001b[0mm\u001b[0m\u001b[0;34m,\u001b[0m \u001b[0mn_samples\u001b[0m\u001b[0;34m]\u001b[0m\u001b[0;34m,\u001b[0m \u001b[0mself\u001b[0m\u001b[0;34m.\u001b[0m\u001b[0mdtype_A\u001b[0m\u001b[0;34m)\u001b[0m\u001b[0;34m\u001b[0m\u001b[0;34m\u001b[0m\u001b[0m\n\u001b[0m\u001b[1;32m    157\u001b[0m \u001b[0;34m\u001b[0m\u001b[0m\n\u001b[1;32m    158\u001b[0m         \u001b[0mNN\u001b[0m\u001b[0;34m,\u001b[0m \u001b[0mNM\u001b[0m\u001b[0;34m,\u001b[0m \u001b[0m_\u001b[0m \u001b[0;34m=\u001b[0m \u001b[0mA0\u001b[0m\u001b[0;34m[\u001b[0m\u001b[0;34m:\u001b[0m\u001b[0;34m,\u001b[0m \u001b[0;34m:\u001b[0m\u001b[0;34m,\u001b[0m \u001b[0;34m:\u001b[0m\u001b[0;34m]\u001b[0m\u001b[0;34m.\u001b[0m\u001b[0mshape\u001b[0m\u001b[0;34m\u001b[0m\u001b[0;34m\u001b[0m\u001b[0m\n",
      "\u001b[0;31mMemoryError\u001b[0m: "
     ]
    }
   ],
   "source": [
    "P = runSGMBatch(TNP_Arr, NotTNP_Arr, 300)"
   ]
  },
  {
   "cell_type": "code",
   "execution_count": null,
   "metadata": {},
   "outputs": [],
   "source": []
  },
  {
   "cell_type": "code",
   "execution_count": null,
   "metadata": {},
   "outputs": [],
   "source": [
    "B.shape"
   ]
  },
  {
   "cell_type": "code",
   "execution_count": null,
   "metadata": {},
   "outputs": [],
   "source": [
    "A.shape"
   ]
  },
  {
   "cell_type": "code",
   "execution_count": null,
   "metadata": {},
   "outputs": [],
   "source": [
    "B.shape"
   ]
  },
  {
   "cell_type": "code",
   "execution_count": null,
   "metadata": {},
   "outputs": [],
   "source": [
    "NotTNP_Arr.shape"
   ]
  },
  {
   "cell_type": "code",
   "execution_count": null,
   "metadata": {},
   "outputs": [],
   "source": [
    "TNP_Arr.shape"
   ]
  },
  {
   "cell_type": "code",
   "execution_count": null,
   "metadata": {},
   "outputs": [],
   "source": []
  }
 ],
 "metadata": {
  "kernelspec": {
   "display_name": "Python kth-cluster",
   "language": "python",
   "name": "kth-cluster"
  },
  "language_info": {
   "codemirror_mode": {
    "name": "ipython",
    "version": 3
   },
   "file_extension": ".py",
   "mimetype": "text/x-python",
   "name": "python",
   "nbconvert_exporter": "python",
   "pygments_lexer": "ipython3",
   "version": "3.6.9"
  }
 },
 "nbformat": 4,
 "nbformat_minor": 2
}
