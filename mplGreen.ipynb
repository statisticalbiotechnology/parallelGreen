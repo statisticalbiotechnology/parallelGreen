{
 "cells": [
  {
   "cell_type": "code",
   "execution_count": 1,
   "metadata": {},
   "outputs": [],
   "source": [
    "import time\n",
    "import multiprocessing \n",
    "import numpy as np\n",
    "from multiprocessing import Pool, Array, Process"
   ]
  },
  {
   "cell_type": "code",
   "execution_count": 2,
   "metadata": {},
   "outputs": [],
   "source": [
    "import numpy as np\n",
    "from multiprocessing.pool import ThreadPool\n",
    "import itertools\n",
    "from multiprocessing import sharedctypes"
   ]
  },
  {
   "cell_type": "code",
   "execution_count": 3,
   "metadata": {},
   "outputs": [],
   "source": [
    "def multiprocessing_func(xLim, yLim, shared_array):\n",
    "    tmp = np.ctypeslib.as_array(shared_array)\n",
    "    \n",
    "    underLimX, upperLimX = xLim\n",
    "    underLimY, upperLimY = yLim\n",
    "    for i in range(underLimX, upperLimX):\n",
    "        for j in range(underLimY, upperLimY):\n",
    "            tmp[i,j]= i\n",
    "        \n",
    "    def run(self, X):\n",
    "        starttime = time.time()\n",
    "        processes = []\n",
    "        \n",
    "        x_len, y_len = X.shape\n",
    "        \n",
    "        result = np.ctypeslib.as_ctypes(np.zeros((x_len, y_len)))\n",
    "        shared_array = sharedctypes.RawArray(result._type_, result)\n",
    "        \n",
    "        cores = multiprocessing.cpu_count()\n",
    "\n",
    "        batchsize =  int(x_len / cores)\n",
    "        \n",
    "        \n",
    "        for underLim in range(0, x_len, batchsize):\n",
    "            if underLim + batchsize > x_len:\n",
    "                upperLim = x_len\n",
    "            else:\n",
    "                upperLim = underLim + batchsize\n",
    "                \n",
    "            p = multiprocessing.Process(target=multiprocessing_func, args=((underLim, upperLim),(0,y_len), shared_array))\n",
    "            processes.append(p)\n",
    "            p.start()\n",
    "        \n",
    "        for process in processes:\n",
    "            process.join()\n",
    "        \n",
    "        print('That took {} seconds'.format(time.time() - starttime))\n",
    "        return np.ctypeslib.as_array(shared_array)\n",
    "    "
   ]
  },
  {
   "cell_type": "code",
   "execution_count": 22,
   "metadata": {},
   "outputs": [],
   "source": [
    "def getNumeratorCPU2(m, n, S, z, dtype, cores=-1):\n",
    "    if cores == -1:\n",
    "        cores = multiprocessing.cpu_count()\n",
    "        \n",
    "    \n",
    "    N = np.zeros([S + 1, m], dtype)\n",
    "    N_old = N.copy()\n",
    "    \n",
    "    \n",
    "    N = np.ctypeslib.as_ctypes(np.zeros((S + 1, m)))\n",
    "    N_shared_array = sharedctypes.RawArray(N._type_, N)\n",
    "    \n",
    "    def multiprocessing_func(xLim, yLim, N_shared_array):\n",
    "        tmp = np.ctypeslib.as_array(N_shared_array)\n",
    "    \n",
    "        underLimX, upperLimX = xLim\n",
    "        underLimY, upperLimY = yLim\n",
    "\n",
    "    \n",
    "        for j in range(underLimY, upperLimY):\n",
    "            for s in range(underLimX, upperLimX):\n",
    "                if j >= m + 1 or s > S or j < 1:\n",
    "                    pass\n",
    "                elif s == 0 and int(j-1)==0:\n",
    "                    tmp[s,j-1] =  1\n",
    "                elif i < j:\n",
    "                    tmp[s, j - 1] = 0\n",
    "                elif j > 1 and z[i-1] <= s:\n",
    "                    tmp[s,j-1] = N_old[s - z[i -1], j-2] + N_old[s,j-1]\n",
    "                elif j > 1 and z[i-1] > s:\n",
    "                    tmp[s,j-1] = N_old[s,j-1]\n",
    "    \n",
    "    starttime = time.time()\n",
    "        \n",
    "    x_len, y_len = S + 1, m + 1\n",
    "\n",
    "    batchsize =  int(x_len / cores)\n",
    "        \n",
    "    for i in range(1,(m+n)+1): \n",
    "        processes = []\n",
    "        for underLim in range(0, x_len, batchsize):\n",
    "            if underLim + batchsize > x_len:\n",
    "                upperLim = x_len\n",
    "            else:\n",
    "                upperLim = underLim + batchsize\n",
    "                \n",
    "            p = multiprocessing.Process(target=multiprocessing_func, args=((underLim, upperLim),(0,y_len), N_shared_array))\n",
    "            processes.append(p)\n",
    "            p.start()\n",
    "        \n",
    "        for process in processes:\n",
    "            process.join()\n",
    "        \n",
    "        N_old = np.ctypeslib.as_array(N_shared_array).copy()\n",
    "        \n",
    "\n",
    "    return N_old[:,-1]"
   ]
  },
  {
   "cell_type": "code",
   "execution_count": null,
   "metadata": {},
   "outputs": [],
   "source": []
  },
  {
   "cell_type": "code",
   "execution_count": 23,
   "metadata": {},
   "outputs": [
    {
     "name": "stdout",
     "output_type": "stream",
     "text": [
      "CPU times: user 255 ms, sys: 413 ms, total: 667 ms\n",
      "Wall time: 42.3 s\n"
     ]
    }
   ],
   "source": [
    "%time D = getNumeratorCPU2(m+1, n, S, [0] + list(z), np.float64, 3)"
   ]
  },
  {
   "cell_type": "code",
   "execution_count": 24,
   "metadata": {},
   "outputs": [
    {
     "data": {
      "text/plain": [
       "array([0., 0., 0., ..., 0., 1., 2.])"
      ]
     },
     "execution_count": 24,
     "metadata": {},
     "output_type": "execute_result"
    }
   ],
   "source": [
    "D"
   ]
  },
  {
   "cell_type": "code",
   "execution_count": null,
   "metadata": {},
   "outputs": [],
   "source": [
    "m+n"
   ]
  },
  {
   "cell_type": "code",
   "execution_count": 5,
   "metadata": {},
   "outputs": [],
   "source": [
    "n =65\n",
    "upperL = 400\n",
    "\n",
    "np.random.seed(1)\n",
    "A = np.asarray([np.random.randint(0,upperL,n) for _ in range(1)])\n",
    "B = np.asarray([np.random.randint(0,upperL,n) for _ in range(1)])\n",
    "\n",
    "x = list(A[0])\n",
    "y = list(B[0])\n",
    "m = len(x)\n",
    "n = len(y)\n",
    "z = x + y;z.sort()\n",
    "S = sum(z[m:])\n",
    "dtype = np.uint16"
   ]
  },
  {
   "cell_type": "code",
   "execution_count": 7,
   "metadata": {},
   "outputs": [],
   "source": [
    "def getNumeratorCPU1(m, n, S, z, dtype):\n",
    "    N = np.zeros([S + 1, m], dtype)\n",
    "    N_old = N.copy()\n",
    "    \n",
    "    for i in range(1,(m+n)+1):\n",
    "        for j in range(0, m +1):\n",
    "            for s in range(0,S+1):\n",
    "                \n",
    "                if j >= m + 1 or s > S or j < 1:\n",
    "                    pass\n",
    "                elif s == 0 and int(j-1)==0:\n",
    "                    N[s,j-1] =  1\n",
    "                elif i < j:\n",
    "                    N[s, j - 1] = 0\n",
    "                elif j > 1 and z[i-1] <= s:\n",
    "                    N[s,j-1] = N_old[s - z[i -1], j-2] + N_old[s,j-1]\n",
    "                elif j > 1 and z[i-1] > s:\n",
    "                    N[s,j-1] = N_old[s,j-1]\n",
    "    \n",
    "        N_old = N.copy()\n",
    "\n",
    "\n",
    "        \n",
    "    return N_old"
   ]
  },
  {
   "cell_type": "code",
   "execution_count": 8,
   "metadata": {},
   "outputs": [
    {
     "name": "stdout",
     "output_type": "stream",
     "text": [
      "CPU times: user 2min 1s, sys: 0 ns, total: 2min 1s\n",
      "Wall time: 2min 1s\n"
     ]
    }
   ],
   "source": [
    "%time D2 = getNumeratorCPU1(m+1, n, S, [0]+list(z), np.float64)"
   ]
  },
  {
   "cell_type": "code",
   "execution_count": 9,
   "metadata": {},
   "outputs": [
    {
     "data": {
      "text/plain": [
       "True"
      ]
     },
     "execution_count": 9,
     "metadata": {},
     "output_type": "execute_result"
    }
   ],
   "source": [
    "np.all(D2 == D)"
   ]
  },
  {
   "cell_type": "code",
   "execution_count": null,
   "metadata": {},
   "outputs": [],
   "source": []
  },
  {
   "cell_type": "code",
   "execution_count": null,
   "metadata": {},
   "outputs": [],
   "source": [
    "D2[:,-1]"
   ]
  },
  {
   "cell_type": "code",
   "execution_count": null,
   "metadata": {},
   "outputs": [],
   "source": []
  },
  {
   "cell_type": "code",
   "execution_count": null,
   "metadata": {},
   "outputs": [],
   "source": []
  },
  {
   "cell_type": "code",
   "execution_count": null,
   "metadata": {},
   "outputs": [],
   "source": []
  },
  {
   "cell_type": "code",
   "execution_count": null,
   "metadata": {},
   "outputs": [],
   "source": []
  },
  {
   "cell_type": "code",
   "execution_count": null,
   "metadata": {},
   "outputs": [],
   "source": [
    "class test:\n",
    "    def __init__(self):\n",
    "        pass\n",
    "    \n",
    "    def fun(self, av, bv):\n",
    "        time.sleep(0.5)\n",
    "        return (av, bv)\n",
    "\n",
    "    def data_stream(self, a, b):\n",
    "        for i, av in enumerate(a):\n",
    "            for j, bv in enumerate(b):\n",
    "                yield (i, j), (av, bv)\n",
    "\n",
    "    def proxy(self, args):\n",
    "        self.arr[args[0][0], args[0][1]] = self.fun(*args[1])[0]\n",
    "        \n",
    "\n",
    "    def run(self, a,b, cores=7):\n",
    "        self.arr = np.zeros((len(a),len(b)))\n",
    "        pool = ThreadPool(processes=cores)\n",
    "        pool.map(self.proxy, self.data_stream(a, b))\n",
    "    \n",
    "        return self.arr\n",
    "    \n",
    "    "
   ]
  },
  {
   "cell_type": "code",
   "execution_count": null,
   "metadata": {},
   "outputs": [],
   "source": [
    "%time test().run(a,b)"
   ]
  },
  {
   "cell_type": "code",
   "execution_count": null,
   "metadata": {},
   "outputs": [],
   "source": [
    "def comp(a,b):\n",
    "    arr = np.zeros((len(a),len(b)))\n",
    "    for i, av in enumerate(a):\n",
    "        for j, bv in enumerate(b):\n",
    "            time.sleep(0.5)\n",
    "            arr[i,j] = av\n",
    "    return arr"
   ]
  },
  {
   "cell_type": "code",
   "execution_count": null,
   "metadata": {},
   "outputs": [],
   "source": [
    "a = range(100, 400, 50)\n",
    "b = range(100, 400, 50)"
   ]
  },
  {
   "cell_type": "code",
   "execution_count": null,
   "metadata": {},
   "outputs": [],
   "source": [
    "%time comp(list(a),list(b))"
   ]
  },
  {
   "cell_type": "code",
   "execution_count": null,
   "metadata": {},
   "outputs": [],
   "source": [
    "from multiprocessing import Pool\n",
    "from multiprocessing.pool import ThreadPool\n",
    "import time, pprint\n",
    "\n",
    "def fun(av, bv):\n",
    "    time.sleep(0.5)\n",
    "    return (av, bv)\n",
    "\n",
    "def data_stream(a, b):\n",
    "    for i, av in enumerate(a):\n",
    "        for j, bv in enumerate(b):\n",
    "            yield (i, j), (av, bv)\n",
    "\n",
    "def proxy(args):\n",
    "    return args[0], fun(*args[1])\n",
    "\n"
   ]
  },
  {
   "cell_type": "code",
   "execution_count": null,
   "metadata": {},
   "outputs": [],
   "source": [
    "def main1():\n",
    "    a = range(100, 400, 100)\n",
    "    b = range(100, 400, 100)\n",
    "    Y = {}\n",
    "\n",
    "    pool = Pool(processes=1)\n",
    "    results = pool.map(proxy, data_stream(a, b))\n",
    "    \n",
    "    return results\n",
    "    \n",
    "    "
   ]
  },
  {
   "cell_type": "code",
   "execution_count": null,
   "metadata": {},
   "outputs": [],
   "source": [
    "def main2():\n",
    "    a = range(100, 400, 100)\n",
    "    b = range(100, 400, 100)\n",
    "    Y = {}\n",
    "\n",
    "    return proxy(data_stream(a, b))\n",
    "    "
   ]
  },
  {
   "cell_type": "code",
   "execution_count": null,
   "metadata": {},
   "outputs": [],
   "source": [
    "%time main1()"
   ]
  },
  {
   "cell_type": "code",
   "execution_count": null,
   "metadata": {},
   "outputs": [],
   "source": [
    "%time main2()"
   ]
  },
  {
   "cell_type": "code",
   "execution_count": null,
   "metadata": {},
   "outputs": [],
   "source": []
  },
  {
   "cell_type": "code",
   "execution_count": null,
   "metadata": {},
   "outputs": [],
   "source": [
    "list(data_stream(a, b))"
   ]
  },
  {
   "cell_type": "code",
   "execution_count": null,
   "metadata": {},
   "outputs": [],
   "source": [
    "proxy(list(data_stream(a, b)))"
   ]
  },
  {
   "cell_type": "code",
   "execution_count": null,
   "metadata": {},
   "outputs": [],
   "source": []
  },
  {
   "cell_type": "code",
   "execution_count": null,
   "metadata": {},
   "outputs": [],
   "source": []
  },
  {
   "cell_type": "code",
   "execution_count": null,
   "metadata": {},
   "outputs": [],
   "source": [
    "a = range(100, 400, 100)\n",
    "b = range(100, 400, 100)\n",
    "Y = {}\n",
    "\n",
    "pool = Pool(processes=4)\n",
    "results = pool.map(proxy, data_stream(a, b))\n",
    "for k,v in results:\n",
    "    Y[k] = v\n",
    "\n",
    "pprint.pprint(Y)"
   ]
  },
  {
   "cell_type": "code",
   "execution_count": null,
   "metadata": {},
   "outputs": [],
   "source": [
    " mp.freeze_support()"
   ]
  },
  {
   "cell_type": "code",
   "execution_count": null,
   "metadata": {},
   "outputs": [],
   "source": [
    "%time main(10)"
   ]
  },
  {
   "cell_type": "code",
   "execution_count": null,
   "metadata": {},
   "outputs": [],
   "source": [
    "%time proxy(list(data_stream(a, b)))"
   ]
  },
  {
   "cell_type": "code",
   "execution_count": null,
   "metadata": {},
   "outputs": [],
   "source": []
  },
  {
   "cell_type": "code",
   "execution_count": null,
   "metadata": {},
   "outputs": [],
   "source": [
    "class test2:\n",
    "    def __init__(self):\n",
    "        pass\n",
    "    \n",
    "    def fun(self, av, bv):\n",
    "        y = x*x\n",
    "        time.sleep(2)\n",
    "        return y\n",
    "    \n",
    "    def data_stream(self, a, b):\n",
    "        for i, av in enumerate(a):\n",
    "            for j, bv in enumerate(b):\n",
    "                yield (i, j), (av, bv)\n",
    "                \n",
    "    def proxy(self, args):\n",
    "        self.arr[args[0][0], args[0][1]] = self.fun(*args[1])\n",
    "    \n",
    "    def multiprocessing_func(x,s):\n",
    "        print(s)\n",
    "        y = x*x\n",
    "        time.sleep(2)\n",
    "        print('{} squared results in a/an {} number'.format(x, basic_func(y)))\n",
    "    \n",
    "        \n",
    "    def run(self):\n",
    "        starttime = time.time()\n",
    "        processes = []\n",
    "        for i in range(0,10):\n",
    "            p = multiprocessing.Process(target=multiprocessing_func, args=(i,\"hello\"))\n",
    "            processes.append(p)\n",
    "            p.start()\n",
    "        \n",
    "        for process in processes:\n",
    "            process.join()\n",
    "        \n",
    "        print('That took {} seconds'.format(time.time() - starttime))\n",
    "    \n",
    "    \n",
    "    "
   ]
  },
  {
   "cell_type": "code",
   "execution_count": null,
   "metadata": {},
   "outputs": [],
   "source": [
    "test2().run()"
   ]
  },
  {
   "cell_type": "code",
   "execution_count": null,
   "metadata": {},
   "outputs": [],
   "source": []
  },
  {
   "cell_type": "code",
   "execution_count": null,
   "metadata": {},
   "outputs": [],
   "source": []
  },
  {
   "cell_type": "code",
   "execution_count": null,
   "metadata": {},
   "outputs": [],
   "source": [
    "import time\n",
    "import multiprocessing \n",
    "\n",
    "def fun(self, av, bv):\n",
    "    y = x*x\n",
    "    time.sleep(2)\n",
    "    return y\n",
    "\n",
    "def basic_func(x):\n",
    "    if x == 0:\n",
    "        return 'zero'\n",
    "    elif x%2 == 0:\n",
    "        return 'even'\n",
    "    else:\n",
    "        return 'odd'\n",
    "\n",
    "def multiprocessing_func(x,s):\n",
    "    print(s)\n",
    "    y = x*x\n",
    "    time.sleep(2)\n",
    "    print('{} squared results in a/an {} number'.format(x, basic_func(y)))\n",
    "    \n",
    "if __name__ == '__main__':\n",
    "    starttime = time.time()\n",
    "    processes = []\n",
    "    for i in range(0,10):\n",
    "        p = multiprocessing.Process(target=multiprocessing_func, args=(i,))\n",
    "        processes.append(p)\n",
    "        p.start()\n",
    "        \n",
    "    for process in processes:\n",
    "        process.join()\n",
    "        \n",
    "    print('That took {} seconds'.format(time.time() - starttime))"
   ]
  },
  {
   "cell_type": "code",
   "execution_count": null,
   "metadata": {},
   "outputs": [],
   "source": [
    "def fun(I, J):\n",
    "    for i in range(I):\n",
    "        for j in range(J):\n",
    "            pass\n",
    "    print(\"Finnished\")"
   ]
  },
  {
   "cell_type": "code",
   "execution_count": null,
   "metadata": {},
   "outputs": [],
   "source": [
    "n=10_000"
   ]
  },
  {
   "cell_type": "code",
   "execution_count": null,
   "metadata": {},
   "outputs": [],
   "source": [
    "%time fun(n, n)"
   ]
  },
  {
   "cell_type": "code",
   "execution_count": null,
   "metadata": {},
   "outputs": [],
   "source": [
    "import itertools"
   ]
  },
  {
   "cell_type": "code",
   "execution_count": null,
   "metadata": {},
   "outputs": [],
   "source": [
    "window_idxs = [(i, j) for i, j in\n",
    "               itertools.product(range(0, n),\n",
    "                                 range(0, n))]"
   ]
  },
  {
   "cell_type": "code",
   "execution_count": null,
   "metadata": {},
   "outputs": [],
   "source": [
    "len(window_idxs)"
   ]
  },
  {
   "cell_type": "code",
   "execution_count": null,
   "metadata": {},
   "outputs": [],
   "source": []
  },
  {
   "cell_type": "code",
   "execution_count": null,
   "metadata": {},
   "outputs": [],
   "source": []
  },
  {
   "cell_type": "code",
   "execution_count": null,
   "metadata": {},
   "outputs": [],
   "source": [
    "import time\n",
    "import multiprocessing \n",
    "\n",
    "def fun(self, av, bv):\n",
    "    y = x*x\n",
    "    time.sleep(2)\n",
    "    return y\n",
    "\n",
    "def basic_func(x):\n",
    "    if x == 0:\n",
    "        return 'zero'\n",
    "    elif x%2 == 0:\n",
    "        return 'even'\n",
    "    else:\n",
    "        return 'odd'\n",
    "\n",
    "def multiprocessing_func(x):\n",
    "    y = x*x\n",
    "    time.sleep(2)\n",
    "    print('{} squared results in a/an {} number'.format(x, basic_func(y)))\n",
    "    \n",
    "if __name__ == '__main__':\n",
    "    starttime = time.time()\n",
    "    processes = []\n",
    "    for i in range(0,10):\n",
    "        multiprocessing_func(i)\n",
    "       \n",
    "        \n",
    "    for process in processes:\n",
    "        process.join()\n",
    "        \n",
    "    print('That took {} seconds'.format(time.time() - starttime))"
   ]
  },
  {
   "cell_type": "code",
   "execution_count": null,
   "metadata": {},
   "outputs": [],
   "source": []
  },
  {
   "cell_type": "code",
   "execution_count": null,
   "metadata": {},
   "outputs": [],
   "source": [
    "class test:\n",
    "    def __init__(self):\n",
    "        pass\n",
    "    \n",
    "    def fun(self, av, bv):\n",
    "        time.sleep(0.1)\n",
    "        return (av, bv)\n",
    "\n",
    "    def data_stream(self, a, b):\n",
    "        for i, av in enumerate(a):\n",
    "            for j, bv in enumerate(b):\n",
    "                yield (i, j), (av, bv)\n",
    "\n",
    "    def proxy(self, args):\n",
    "        self.arr[args[0][0], args[0][1]] = self.fun(*args[1])[0]\n",
    "        #print(args[0])\n",
    "        #print(args[1])\n",
    "        #return args[0], self.fun(*args[1])\n",
    "\n",
    "    def run(self, a,b, cores=7):\n",
    "        self.arr = np.zeros((len(a),len(b)))\n",
    "        pool = ThreadPool(processes=cores)\n",
    "        pool.map(self.proxy, self.data_stream(a, b))\n",
    "    \n",
    "        return self.arr\n",
    "    \n",
    "    "
   ]
  },
  {
   "cell_type": "code",
   "execution_count": null,
   "metadata": {},
   "outputs": [],
   "source": []
  },
  {
   "cell_type": "code",
   "execution_count": null,
   "metadata": {},
   "outputs": [],
   "source": []
  },
  {
   "cell_type": "code",
   "execution_count": null,
   "metadata": {},
   "outputs": [],
   "source": []
  },
  {
   "cell_type": "code",
   "execution_count": null,
   "metadata": {},
   "outputs": [],
   "source": []
  },
  {
   "cell_type": "code",
   "execution_count": null,
   "metadata": {},
   "outputs": [],
   "source": []
  },
  {
   "cell_type": "code",
   "execution_count": null,
   "metadata": {},
   "outputs": [],
   "source": []
  },
  {
   "cell_type": "code",
   "execution_count": null,
   "metadata": {},
   "outputs": [],
   "source": []
  }
 ],
 "metadata": {
  "kernelspec": {
   "display_name": "Python (terran3)",
   "language": "python",
   "name": "terran3"
  },
  "language_info": {
   "codemirror_mode": {
    "name": "ipython",
    "version": 3
   },
   "file_extension": ".py",
   "mimetype": "text/x-python",
   "name": "python",
   "nbconvert_exporter": "python",
   "pygments_lexer": "ipython3",
   "version": "3.6.10"
  }
 },
 "nbformat": 4,
 "nbformat_minor": 2
}
