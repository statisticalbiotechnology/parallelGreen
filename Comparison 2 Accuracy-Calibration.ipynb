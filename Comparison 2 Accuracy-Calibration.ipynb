{
 "cells": [
  {
   "cell_type": "code",
   "execution_count": 1,
   "metadata": {},
   "outputs": [],
   "source": [
    "from significance_of_mean_cuda import significance_of_mean_cuda\n",
    "from utils import significance_of_mean, getdf, my_scatter_plot\n",
    "import numpy as np\n",
    "import time\n",
    "import multiprocessing\n",
    "import concurrent.futures as cf\n",
    "import matplotlib.pyplot as plt\n",
    "import numpy as np\n",
    "from scipy.stats import truncnorm\n",
    "import matplotlib.pyplot as plt\n",
    "from IPython.display import Image\n",
    "\n",
    "import time\n",
    "from scipy.stats import ttest_ind, ttest_rel, chisquare, ks_2samp\n",
    "import pandas as pd\n",
    "import seaborn as sns\n",
    "\n",
    "import matplotlib as mpl\n",
    "\n",
    "mpl.rcParams['text.usetex'] = False  # not really needed\n",
    "\n",
    "from scipy import stats\n",
    "from scipy.stats import mannwhitneyu"
   ]
  },
  {
   "cell_type": "code",
   "execution_count": 2,
   "metadata": {},
   "outputs": [],
   "source": [
    "def p_value_calc(args):\n",
    "    a,b, bins = args\n",
    "    p=significance_of_mean(a,b, bins)[0]\n",
    "    return p"
   ]
  },
  {
   "cell_type": "markdown",
   "metadata": {},
   "source": [
    "### Load data from MC approximation of permutation test"
   ]
  },
  {
   "cell_type": "code",
   "execution_count": 3,
   "metadata": {},
   "outputs": [],
   "source": [
    "def loadMcResult(sampleShape, mean):\n",
    "    X_list = list()\n",
    "    y_list = list()\n",
    "    p_val_list = list()\n",
    "    time_listMc = list()\n",
    "    for S in sampleShape:\n",
    "        X = pd.read_csv(\"dataFastPerm/uniform/data_{}/X_{}.csv\".format(mean, S))\n",
    "        Y = pd.read_csv(\"dataFastPerm/uniform/data_{}/y_{}.csv\".format(mean, S))\n",
    "        p_val = pd.read_csv(\"dataFastPerm/uniform/data_{}/error_{}.csv\".format(mean, S))\n",
    "        timeMc = pd.read_csv(\"dataFastPerm/uniform/data_{}/Time_{}.csv\".format(mean, S))\n",
    "    \n",
    "    \n",
    "        X.columns = range(X.shape[1])\n",
    "        Y.columns = range(Y.shape[1])\n",
    "        p_val.columns = range(p_val.shape[1])\n",
    "        timeMc.columns = range(timeMc.shape[1])\n",
    "    \n",
    "    \n",
    "        X_list.append([np.array(x.split(\" \")[1:]).astype(float) for x in X[0].values])\n",
    "        y_list.append([np.array(y.split(\" \")[1:]).astype(float) for y in Y[0].values])\n",
    "        p_val_list.append(np.array([float(p[0].split(\" \")[1]) for p in p_val.values]))\n",
    "        time_listMc.append([float(t[0].split(\" \")[1]) for t in timeMc.values])\n",
    "    \n",
    "    return X_list, y_list, p_val_list, time_listMc"
   ]
  },
  {
   "cell_type": "markdown",
   "metadata": {},
   "source": [
    "### Get p-value for the the parallelized permutation test"
   ]
  },
  {
   "cell_type": "code",
   "execution_count": 4,
   "metadata": {},
   "outputs": [],
   "source": [
    "def run_test(X,Y,bins, parallel=True, midP=False):\n",
    "\n",
    "    \n",
    "    \n",
    "    if parallel:\n",
    "        #Exact test\n",
    "        SGM = significance_of_mean_cuda(bins, dtype_v=np.uint32,dtype_A=np.float64)\n",
    "        SGM.run(X.reshape(1,-1),Y.reshape(1,-1), midP)\n",
    "        p_val = SGM.p_values[0]\n",
    "    else:\n",
    "        p_val = p_value_calc([list(X), list(Y), bins])\n",
    "\n",
    "    return p_val"
   ]
  },
  {
   "cell_type": "markdown",
   "metadata": {},
   "source": [
    "### Get all p-values from the prallelized exact test from the same data as the MC version"
   ]
  },
  {
   "cell_type": "code",
   "execution_count": 5,
   "metadata": {},
   "outputs": [],
   "source": [
    "def shiftMethod(X_list, y_list, bins, parallel=True, midP=False):\n",
    "    pe_list = list()\n",
    "    TIME = list()\n",
    "\n",
    "    for Xp, yp in zip(X_list, y_list):\n",
    "        Xp = np.asarray(Xp).T\n",
    "        yp = np.asarray(yp).T\n",
    "        \n",
    "        p_e = list()\n",
    "        time_list = list()\n",
    "    \n",
    "        for x, y in zip(Xp, yp):\n",
    "            \n",
    "            start = time.time()\n",
    "            p_e.append(run_test(y, x, bins, parallel, midP))\n",
    "            end = time.time()\n",
    "        \n",
    "            time_list.append(end - start)\n",
    "    \n",
    "        pe_list.append(p_e)\n",
    "        TIME.append(time_list)\n",
    "    \n",
    "    return pe_list, TIME\n",
    "    "
   ]
  },
  {
   "cell_type": "code",
   "execution_count": 6,
   "metadata": {},
   "outputs": [],
   "source": [
    "def ttest(X_list, y_list):\n",
    "    pt_list = list()\n",
    "\n",
    "    for Xp, yp in zip(X_list, y_list):\n",
    "        Xp = np.asarray(Xp).T\n",
    "        yp = np.asarray(yp).T\n",
    "        \n",
    "        p_t = list()\n",
    "    \n",
    "        for x, y in zip(Xp, yp):\n",
    "            \n",
    "            t, p = ttest_ind(y, x)\n",
    "            p = p/2\n",
    "            if t<0:\n",
    "                p = 1-p\n",
    "       \n",
    "            p_t.append(p)\n",
    "            \n",
    "        pt_list.append(p_t)\n",
    "\n",
    "    \n",
    "    return pt_list\n",
    "    "
   ]
  },
  {
   "cell_type": "code",
   "execution_count": 7,
   "metadata": {},
   "outputs": [],
   "source": [
    "def mannWhitney(X_list, y_list, alternative=\"less\"):\n",
    "    assert alternative in [\"less\",\"greater\",\"two-tail\"]\n",
    "    pmw_list = list()\n",
    "\n",
    "    for Xp, yp in zip(X_list, y_list):\n",
    "        Xp = np.asarray(Xp).T\n",
    "        yp = np.asarray(yp).T\n",
    "        \n",
    "        p_mw = list()\n",
    "    \n",
    "        for x, y in zip(Xp, yp):\n",
    "            \n",
    "\n",
    "            p = mannwhitneyu(x, y, alternative=alternative)[1]\n",
    "            \n",
    "            \n",
    "            p_mw.append(p)\n",
    "            \n",
    "        pmw_list.append(p_mw)\n",
    "\n",
    "    \n",
    "    return pmw_list"
   ]
  },
  {
   "cell_type": "markdown",
   "metadata": {},
   "source": [
    "### Compare parallelized and MC version"
   ]
  },
  {
   "cell_type": "markdown",
   "metadata": {},
   "source": [
    "### Calibration-plot"
   ]
  },
  {
   "cell_type": "code",
   "execution_count": 8,
   "metadata": {},
   "outputs": [],
   "source": [
    "from scipy import stats\n",
    "def r2(x, y):\n",
    "    return stats.pearsonr(x, y)[0] ** 2\n",
    "\n",
    "def my_scatter_plot(df,save_name):\n",
    "    sns.set(style=\"white\")\n",
    "    sns.set_context(\"talk\")\n",
    "    low = min(df[\"Theoretical p-value\"])\n",
    "    hi = max(df[\"Theoretical p-value\"])\n",
    "    f, ax = plt.subplots(figsize=(7, 7))\n",
    "    ax.set(xscale=\"log\", yscale=\"log\")\n",
    "    \n",
    "    err2 = r2(df[\"Observed p-value\"], pDf[\"Theoretical p-value\"])\n",
    "    \n",
    "    g=sns.regplot(x='Theoretical p-value', y ='Observed p-value', data=df,  ax=ax, fit_reg=False, \n",
    "                  scatter_kws={\"s\": 5})\n",
    "    g.plot([low,hi], [low,hi], 'k-', linewidth=.5)\n",
    "    \n",
    "    sns.despine()\n",
    "    plt.title(\"Pearson correlation coefficient : {}\".format(np.around(err2,6)))\n",
    "    f.tight_layout()\n",
    "    f.savefig(save_name)"
   ]
  },
  {
   "cell_type": "code",
   "execution_count": 9,
   "metadata": {},
   "outputs": [],
   "source": [
    "def getPATH(path, suffix, prefix):\n",
    "    return path + '/'+ suffix + '/' + prefix"
   ]
  },
  {
   "cell_type": "code",
   "execution_count": 10,
   "metadata": {},
   "outputs": [],
   "source": [
    "path = \"figures/paralellVsFastApprox\""
   ]
  },
  {
   "cell_type": "markdown",
   "metadata": {},
   "source": [
    "## Sample sizes of X and Y"
   ]
  },
  {
   "cell_type": "code",
   "execution_count": 11,
   "metadata": {},
   "outputs": [],
   "source": [
    "sampleShape = [10,50,100,150,200,250,300]"
   ]
  },
  {
   "cell_type": "markdown",
   "metadata": {},
   "source": [
    "# Calibration: with $X \\sim N(5.0,1)$ and $Y\\sim N(5.0,1)$"
   ]
  },
  {
   "cell_type": "markdown",
   "metadata": {},
   "source": [
    "## Load data"
   ]
  },
  {
   "cell_type": "code",
   "execution_count": 12,
   "metadata": {},
   "outputs": [],
   "source": [
    "mean=5"
   ]
  },
  {
   "cell_type": "code",
   "execution_count": 13,
   "metadata": {},
   "outputs": [],
   "source": [
    "X_list_, y_list_, p_val_list_, time_listMc_ = loadMcResult(sampleShape, mean)"
   ]
  },
  {
   "cell_type": "code",
   "execution_count": null,
   "metadata": {},
   "outputs": [],
   "source": [
    "pe_list_, TIME_ = shiftMethod(np.asarray(X_list_), np.asarray(y_list_), 40)\n"
   ]
  },
  {
   "cell_type": "markdown",
   "metadata": {},
   "source": [
    "# $|n|=|m|=10$"
   ]
  },
  {
   "cell_type": "markdown",
   "metadata": {},
   "source": [
    "## Parallelized exact test"
   ]
  },
  {
   "cell_type": "code",
   "execution_count": null,
   "metadata": {},
   "outputs": [],
   "source": [
    "pDf = getdf(pe_list_[0], 1000)\n",
    "my_scatter_plot(pDf,\"figures/normal_calibration\")"
   ]
  },
  {
   "cell_type": "markdown",
   "metadata": {},
   "source": [
    "## Fast approximation"
   ]
  },
  {
   "cell_type": "code",
   "execution_count": null,
   "metadata": {},
   "outputs": [],
   "source": [
    "pDf = getdf(p_val_list_[0], 1000)\n",
    "my_scatter_plot(pDf,\"figures/normal_calibration\")"
   ]
  },
  {
   "cell_type": "markdown",
   "metadata": {},
   "source": [
    "## Mann Whitney"
   ]
  },
  {
   "cell_type": "code",
   "execution_count": null,
   "metadata": {},
   "outputs": [],
   "source": [
    "pmw_list5_2 = mannWhitney(np.asarray(X_list_), np.asarray(y_list_))"
   ]
  },
  {
   "cell_type": "code",
   "execution_count": null,
   "metadata": {},
   "outputs": [],
   "source": [
    "pDf = getdf(pmw_list5_2[0], 1000)\n",
    "my_scatter_plot(pDf,\"figures/normal_calibration\")"
   ]
  },
  {
   "cell_type": "markdown",
   "metadata": {},
   "source": [
    "## t-test"
   ]
  },
  {
   "cell_type": "code",
   "execution_count": null,
   "metadata": {},
   "outputs": [],
   "source": [
    "pt_list5_2 = ttest(np.asarray(X_list_), np.asarray(y_list_))"
   ]
  },
  {
   "cell_type": "code",
   "execution_count": null,
   "metadata": {},
   "outputs": [],
   "source": [
    "pDf = getdf(pt_list5_2[0], 1000)\n",
    "my_scatter_plot(pDf,\"figures/normal_calibration\")"
   ]
  },
  {
   "cell_type": "markdown",
   "metadata": {},
   "source": [
    "# $|n|=|m|=50$"
   ]
  },
  {
   "cell_type": "markdown",
   "metadata": {},
   "source": [
    "## Parallelized exact test"
   ]
  },
  {
   "cell_type": "code",
   "execution_count": null,
   "metadata": {},
   "outputs": [],
   "source": [
    "pDf = getdf(pe_list_[1], 1000)\n",
    "my_scatter_plot(pDf,\"figures/normal_calibration\")"
   ]
  },
  {
   "cell_type": "markdown",
   "metadata": {},
   "source": [
    "## Fast approximation"
   ]
  },
  {
   "cell_type": "code",
   "execution_count": null,
   "metadata": {},
   "outputs": [],
   "source": [
    "pDf = getdf(p_val_list_[1], 1000)\n",
    "my_scatter_plot(pDf,\"figures/normal_calibration\")"
   ]
  },
  {
   "cell_type": "markdown",
   "metadata": {},
   "source": [
    "## Mann whitney"
   ]
  },
  {
   "cell_type": "code",
   "execution_count": null,
   "metadata": {},
   "outputs": [],
   "source": [
    "pDf = getdf(pmw_list5_2[1], 1000)\n",
    "my_scatter_plot(pDf,\"figures/normal_calibration\")"
   ]
  },
  {
   "cell_type": "markdown",
   "metadata": {},
   "source": [
    "## t-test"
   ]
  },
  {
   "cell_type": "code",
   "execution_count": null,
   "metadata": {},
   "outputs": [],
   "source": [
    "pDf = getdf(pt_list5_2[1], 1000)\n",
    "my_scatter_plot(pDf,\"figures/normal_calibration\")"
   ]
  },
  {
   "cell_type": "markdown",
   "metadata": {},
   "source": [
    "# $|n|=|m|=100$"
   ]
  },
  {
   "cell_type": "markdown",
   "metadata": {},
   "source": [
    "## Parallelized exact test"
   ]
  },
  {
   "cell_type": "code",
   "execution_count": null,
   "metadata": {},
   "outputs": [],
   "source": [
    "pDf = getdf(pe_list_[2], 1000)\n",
    "my_scatter_plot(pDf,\"figures/normal_calibration\")"
   ]
  },
  {
   "cell_type": "markdown",
   "metadata": {},
   "source": [
    "## Fast approximations"
   ]
  },
  {
   "cell_type": "code",
   "execution_count": null,
   "metadata": {},
   "outputs": [],
   "source": [
    "pDf = getdf(p_val_list_[2], 1000)\n",
    "my_scatter_plot(pDf,\"figures/normal_calibration\")"
   ]
  },
  {
   "cell_type": "markdown",
   "metadata": {},
   "source": [
    "## Mann Whitney"
   ]
  },
  {
   "cell_type": "code",
   "execution_count": null,
   "metadata": {},
   "outputs": [],
   "source": [
    "pDf = getdf(pmw_list5_2[2], 1000)\n",
    "my_scatter_plot(pDf,\"figures/normal_calibration\")"
   ]
  },
  {
   "cell_type": "markdown",
   "metadata": {},
   "source": [
    "## t-test"
   ]
  },
  {
   "cell_type": "code",
   "execution_count": null,
   "metadata": {},
   "outputs": [],
   "source": [
    "pDf = getdf(pt_list5_2[2], 1000)\n",
    "my_scatter_plot(pDf,\"figures/normal_calibration\")"
   ]
  },
  {
   "cell_type": "markdown",
   "metadata": {},
   "source": [
    "# $|n|=|m|=150$"
   ]
  },
  {
   "cell_type": "markdown",
   "metadata": {},
   "source": [
    "## Parallelized exact test"
   ]
  },
  {
   "cell_type": "code",
   "execution_count": null,
   "metadata": {},
   "outputs": [],
   "source": [
    "pDf = getdf(pe_list_[3], 1000)\n",
    "my_scatter_plot(pDf,\"figures/normal_calibration\")"
   ]
  },
  {
   "cell_type": "markdown",
   "metadata": {},
   "source": [
    "## Fast approximation"
   ]
  },
  {
   "cell_type": "code",
   "execution_count": null,
   "metadata": {},
   "outputs": [],
   "source": [
    "pDf = getdf(p_val_list_[3], 1000)\n",
    "my_scatter_plot(pDf,\"figures/normal_calibration\")"
   ]
  },
  {
   "cell_type": "markdown",
   "metadata": {},
   "source": [
    "## Mann Whitney"
   ]
  },
  {
   "cell_type": "code",
   "execution_count": null,
   "metadata": {},
   "outputs": [],
   "source": [
    "pDf = getdf(pmw_list5_2[3], 1000)\n",
    "my_scatter_plot(pDf,\"figures/normal_calibration\")"
   ]
  },
  {
   "cell_type": "markdown",
   "metadata": {},
   "source": [
    "## t-test"
   ]
  },
  {
   "cell_type": "code",
   "execution_count": null,
   "metadata": {},
   "outputs": [],
   "source": [
    "pDf = getdf(pt_list5_2[3], 1000)\n",
    "my_scatter_plot(pDf,\"figures/normal_calibration\")"
   ]
  },
  {
   "cell_type": "markdown",
   "metadata": {},
   "source": [
    "# $|n|=|m|=200$"
   ]
  },
  {
   "cell_type": "markdown",
   "metadata": {},
   "source": [
    "## Parallelized exact test"
   ]
  },
  {
   "cell_type": "code",
   "execution_count": null,
   "metadata": {},
   "outputs": [],
   "source": [
    "pDf = getdf(pe_list_[4], 1000)\n",
    "my_scatter_plot(pDf,\"figures/normal_calibration\")"
   ]
  },
  {
   "cell_type": "markdown",
   "metadata": {},
   "source": [
    "## Fast approximation"
   ]
  },
  {
   "cell_type": "code",
   "execution_count": null,
   "metadata": {},
   "outputs": [],
   "source": [
    "pDf = getdf(p_val_list_[4], 1000)\n",
    "my_scatter_plot(pDf,\"figures/normal_calibration\")"
   ]
  },
  {
   "cell_type": "markdown",
   "metadata": {},
   "source": [
    "## Mann Whitney"
   ]
  },
  {
   "cell_type": "code",
   "execution_count": null,
   "metadata": {},
   "outputs": [],
   "source": [
    "pDf = getdf(pmw_list5_2[4], 1000)\n",
    "my_scatter_plot(pDf,\"figures/normal_calibration\")"
   ]
  },
  {
   "cell_type": "markdown",
   "metadata": {},
   "source": [
    "## t-test"
   ]
  },
  {
   "cell_type": "code",
   "execution_count": null,
   "metadata": {},
   "outputs": [],
   "source": [
    "pDf = getdf(pt_list5_2[4], 1000)\n",
    "my_scatter_plot(pDf,\"figures/normal_calibration\")"
   ]
  },
  {
   "cell_type": "markdown",
   "metadata": {},
   "source": [
    "## $|n|=|m|=250$\n"
   ]
  },
  {
   "cell_type": "markdown",
   "metadata": {},
   "source": [
    "## Parallelized exact test"
   ]
  },
  {
   "cell_type": "code",
   "execution_count": null,
   "metadata": {},
   "outputs": [],
   "source": [
    "pDf = getdf(pe_list_[5], 1000)\n",
    "my_scatter_plot(pDf,\"figures/normal_calibration\")"
   ]
  },
  {
   "cell_type": "markdown",
   "metadata": {},
   "source": [
    "## Fast approximation"
   ]
  },
  {
   "cell_type": "code",
   "execution_count": null,
   "metadata": {},
   "outputs": [],
   "source": [
    "pDf = getdf(p_val_list_[5], 1000)\n",
    "my_scatter_plot(pDf,\"figures/normal_calibration\")"
   ]
  },
  {
   "cell_type": "markdown",
   "metadata": {},
   "source": [
    "## Mann Whitney"
   ]
  },
  {
   "cell_type": "code",
   "execution_count": null,
   "metadata": {},
   "outputs": [],
   "source": [
    "pDf = getdf(pmw_list5_2[5], 1000)\n",
    "my_scatter_plot(pDf,\"figures/normal_calibration\")"
   ]
  },
  {
   "cell_type": "markdown",
   "metadata": {},
   "source": [
    "## t-test"
   ]
  },
  {
   "cell_type": "code",
   "execution_count": null,
   "metadata": {},
   "outputs": [],
   "source": [
    "pDf = getdf(pt_list5_2[5], 1000)\n",
    "my_scatter_plot(pDf,\"figures/normal_calibration\")"
   ]
  },
  {
   "cell_type": "markdown",
   "metadata": {},
   "source": [
    "## $|n|=|m|=300$\n"
   ]
  },
  {
   "cell_type": "markdown",
   "metadata": {},
   "source": [
    "## Parallelized exact test"
   ]
  },
  {
   "cell_type": "code",
   "execution_count": null,
   "metadata": {},
   "outputs": [],
   "source": [
    "pDf = getdf(pe_list_[6], 1000)\n",
    "my_scatter_plot(pDf,\"figures/normal_calibration\")"
   ]
  },
  {
   "cell_type": "markdown",
   "metadata": {},
   "source": [
    "## Fast approximation"
   ]
  },
  {
   "cell_type": "code",
   "execution_count": null,
   "metadata": {},
   "outputs": [],
   "source": [
    "pDf = getdf(p_val_list_[6], 1000)\n",
    "my_scatter_plot(pDf,\"figures/normal_calibration\")"
   ]
  },
  {
   "cell_type": "markdown",
   "metadata": {},
   "source": [
    "## Mann Whitney"
   ]
  },
  {
   "cell_type": "code",
   "execution_count": null,
   "metadata": {},
   "outputs": [],
   "source": [
    "pDf = getdf(pmw_list5_2[6], 1000)\n",
    "my_scatter_plot(pDf,\"figures/normal_calibration\")"
   ]
  },
  {
   "cell_type": "markdown",
   "metadata": {},
   "source": [
    "## t-test"
   ]
  },
  {
   "cell_type": "code",
   "execution_count": null,
   "metadata": {},
   "outputs": [],
   "source": [
    "pDf = getdf(pt_list5_2[6], 1000)\n",
    "my_scatter_plot(pDf,\"figures/normal_calibration\")"
   ]
  }
 ],
 "metadata": {
  "kernelspec": {
   "display_name": "Python kth-cluster",
   "language": "python",
   "name": "kth-cluster"
  },
  "language_info": {
   "codemirror_mode": {
    "name": "ipython",
    "version": 3
   },
   "file_extension": ".py",
   "mimetype": "text/x-python",
   "name": "python",
   "nbconvert_exporter": "python",
   "pygments_lexer": "ipython3",
   "version": "3.6.9"
  }
 },
 "nbformat": 4,
 "nbformat_minor": 2
}
