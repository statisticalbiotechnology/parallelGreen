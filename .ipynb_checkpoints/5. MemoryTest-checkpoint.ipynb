{
 "cells": [
  {
   "cell_type": "code",
   "execution_count": 1,
   "metadata": {},
   "outputs": [],
   "source": [
    "from utils2 import exactTest, preparePandas, memoryPlotSNS\n",
    "import numpy as np\n",
    "import time\n",
    "import pickle\n",
    "import pandas as pd\n",
    "import matplotlib.pyplot as plt\n",
    "import seaborn as sns"
   ]
  },
  {
   "cell_type": "code",
   "execution_count": 2,
   "metadata": {},
   "outputs": [],
   "source": [
    "def runTestInBatch(Abatch, Bbatch, sample_n, w):\n",
    "    allPval = list()\n",
    "    batchSize = len(Abatch)\n",
    "    for j in range(0, batchSize, sample_n):\n",
    "        Abatch_div = Abatch[j:j+sample_n]\n",
    "        Bbatch_div = Bbatch[j:j+sample_n]\n",
    "        pExactListNorm = exactTest(Abatch_div, Bbatch_div, w, True)\n",
    "        allPval.append(pExactListNorm)\n",
    "    return allPval\n",
    "\n",
    "def getTimeSeries(setNList, sampleNList, NwList, batchsize, sampleRangeMax):\n",
    "    ALLTimeList = list()\n",
    "    for set_n, sample_n, w in zip(setNList, sampleNList, NwList):\n",
    "        allTimes = list()\n",
    "        AN, BN = [np.random.normal(0,1,set_n) for i in range(sampleRangeMax)], [np.random.normal(0,1,set_n) for i in range(sampleRangeMax)]\n",
    "        for i in range(0, len(AN), batchsize):\n",
    "            Abatch = AN[:i+batchsize]\n",
    "            Bbatch = BN[:i+batchsize]\n",
    "            print(\"Batch len {}\".format(len(Abatch)))\n",
    "        \n",
    "            start = time.time()\n",
    "            allPval = runTestInBatch(Abatch, Bbatch, sample_n, w)\n",
    "            end = time.time()\n",
    "            dt = end - start\n",
    "            allTimes.append(dt)\n",
    "            print(\"------------\")\n",
    "        ALLTimeList.append(allTimes)\n",
    "    return ALLTimeList\n",
    "    \n",
    "def getScatterData(sN,tList, maxRange, batchSize):\n",
    "    y=list()\n",
    "    x=list()\n",
    "    for i, j in enumerate(range(0, maxRange, batchSize)):\n",
    "        if j % sN ==0 and j!=0:\n",
    "            y.append(j)\n",
    "            x.append(tList[i-1])\n",
    "    return x, y\n",
    "\n",
    "def getXrangeData(setSize, maxRange, batchS):\n",
    "    AN, BN = [np.random.normal(0,1,setSize) for i in range(maxRange)], [np.random.normal(0,1,setSize) for i in range(maxRange)]\n",
    "    batchList = list()\n",
    "    for i in range(0, len(AN), batchS):\n",
    "        Abatch = AN[:i+batchS]\n",
    "        batchList.append(len(Abatch))\n",
    "\n",
    "    return batchList"
   ]
  },
  {
   "cell_type": "code",
   "execution_count": null,
   "metadata": {},
   "outputs": [],
   "source": []
  },
  {
   "cell_type": "code",
   "execution_count": null,
   "metadata": {},
   "outputs": [],
   "source": []
  },
  {
   "cell_type": "code",
   "execution_count": 3,
   "metadata": {},
   "outputs": [],
   "source": [
    "def getPATH(path, suffix, prefix):\n",
    "    return path + '/'+ suffix + '/' + prefix"
   ]
  },
  {
   "cell_type": "code",
   "execution_count": 4,
   "metadata": {},
   "outputs": [],
   "source": [
    "path = \"figures/paralellVsFastApprox\""
   ]
  },
  {
   "cell_type": "markdown",
   "metadata": {},
   "source": [
    "# Set size 500 and sample size up to 24"
   ]
  },
  {
   "cell_type": "code",
   "execution_count": 5,
   "metadata": {},
   "outputs": [],
   "source": [
    "setN = [500,500,500]\n",
    "sampleN = [2,20,4]\n",
    "W = [2000,200,1000]\n",
    "batchsize = 1\n",
    "sampleRangeMax =24"
   ]
  },
  {
   "cell_type": "code",
   "execution_count": 6,
   "metadata": {},
   "outputs": [],
   "source": [
    "#LargeSetSize = getTimeSeries(setN, sampleN, W, batchsize, sampleRangeMax)"
   ]
  },
  {
   "cell_type": "code",
   "execution_count": 7,
   "metadata": {},
   "outputs": [],
   "source": [
    "#pickle.dump(ALLTime2, open(\"data/memeroytest/LargeSetSize\", \"wb\"))\n",
    "LargeSetSize = pickle.load(open(\"data/memeroytest/LargeSetSize\", \"rb\"))"
   ]
  },
  {
   "cell_type": "code",
   "execution_count": 8,
   "metadata": {},
   "outputs": [],
   "source": [
    "batchList = getXrangeData(setN[0], sampleRangeMax, batchsize)"
   ]
  },
  {
   "cell_type": "code",
   "execution_count": 9,
   "metadata": {},
   "outputs": [],
   "source": [
    "data_0 = preparePandas(batchList, LargeSetSize[0], \"$n_{w}=2000$\")\n",
    "data_1 = preparePandas(batchList, LargeSetSize[1], \"$n_{w}=200$\")\n",
    "data_2 = preparePandas(batchList, LargeSetSize[2], \"$n_{w}=1000$\")"
   ]
  },
  {
   "cell_type": "code",
   "execution_count": 10,
   "metadata": {},
   "outputs": [],
   "source": [
    "data = data_0 + data_1 + data_2\n",
    "pdData = pd.DataFrame(data, columns=['Experiment','Sample size', 'time(s)',])"
   ]
  },
  {
   "cell_type": "code",
   "execution_count": 11,
   "metadata": {},
   "outputs": [],
   "source": [
    "x0, y0 = getScatterData(sampleN[0],LargeSetSize[0], sampleRangeMax, 1)\n",
    "x1, y1 = getScatterData(sampleN[1],LargeSetSize[1], sampleRangeMax, 1)\n",
    "x2, y2 = getScatterData(sampleN[2],LargeSetSize[2], sampleRangeMax, 1)"
   ]
  },
  {
   "cell_type": "code",
   "execution_count": 22,
   "metadata": {},
   "outputs": [
    {
     "data": {
      "image/png": "[encoded data removed]",
      "text/plain": [
       "<Figure size 432x288 with 1 Axes>"
      ]
     },
     "metadata": {},
     "output_type": "display_data"
    }
   ],
   "source": [
    "memoryPlotSNS(pdData, log=False)\n",
    "plt.scatter(y0, x0, marker=\"o\", color=\"r\")\n",
    "plt.scatter(y1, x1, marker=\"o\", color=\"b\")\n",
    "plt.scatter(y2, x2, marker=\"o\", color=\"g\")\n",
    "plt.savefig(\"figures/memoryPlot/largeN\")"
   ]
  },
  {
   "cell_type": "markdown",
   "metadata": {},
   "source": [
    "# Set size 40 and sample size up to 2700\n"
   ]
  },
  {
   "cell_type": "code",
   "execution_count": 13,
   "metadata": {},
   "outputs": [],
   "source": [
    "batchsize = 100\n",
    "setN = [40,40,40]\n",
    "sampleN = [400,2500,650]\n",
    "W = [1250,200,800]\n",
    "sampleRangeMax= 2700\n"
   ]
  },
  {
   "cell_type": "code",
   "execution_count": 14,
   "metadata": {},
   "outputs": [],
   "source": [
    "#ALLTimeList = getTimeSeries(setN, sampleN, W, batchsize, sampleRangeMax)"
   ]
  },
  {
   "cell_type": "code",
   "execution_count": 15,
   "metadata": {},
   "outputs": [],
   "source": [
    "#pickle.dump(ALLTimeList, open(\"data/memeroytest/smallSetSize\", \"wb\"))\n",
    "ALLTimeList = pickle.load(open(\"data/memeroytest/smallSetSize\", \"rb\"))"
   ]
  },
  {
   "cell_type": "code",
   "execution_count": 16,
   "metadata": {},
   "outputs": [],
   "source": [
    "batchList = getXrangeData(setN[0], sampleRangeMax, batchsize)\n"
   ]
  },
  {
   "cell_type": "code",
   "execution_count": 17,
   "metadata": {},
   "outputs": [],
   "source": [
    "data_0 = preparePandas(batchList, ALLTimeList[0], \"$n_{w}=1250$\")\n",
    "data_1 = preparePandas(batchList, ALLTimeList[1], \"$n_{w}=200$\")\n",
    "data_2 = preparePandas(batchList, ALLTimeList[2], \"$n_{w}=800$\")"
   ]
  },
  {
   "cell_type": "code",
   "execution_count": 18,
   "metadata": {},
   "outputs": [],
   "source": [
    "data = data_0 + data_1 + data_2\n",
    "pdData = pd.DataFrame(data, columns=['Experiment','Sample size', 'time(s)',])"
   ]
  },
  {
   "cell_type": "code",
   "execution_count": 19,
   "metadata": {},
   "outputs": [],
   "source": [
    "x0, y0 = getScatterData(sampleN[0],ALLTimeList[0], sampleRangeMax, 100)\n",
    "x1, y1 = getScatterData(sampleN[1],ALLTimeList[1], sampleRangeMax, 100)\n",
    "x2, y2 = getScatterData(sampleN[2],ALLTimeList[2], sampleRangeMax, 100)"
   ]
  },
  {
   "cell_type": "code",
   "execution_count": 21,
   "metadata": {},
   "outputs": [
    {
     "data": {
      "image/png": "[encoded data removed]",
      "text/plain": [
       "<Figure size 432x288 with 1 Axes>"
      ]
     },
     "metadata": {},
     "output_type": "display_data"
    }
   ],
   "source": [
    "\n",
    "memoryPlotSNS(pdData, log=False)\n",
    "plt.scatter(y0, x0, marker=\"o\", color=\"r\")\n",
    "plt.scatter(y1, x1, marker=\"o\", color=\"b\")\n",
    "plt.scatter(y2, x2, marker=\"o\", color=\"g\")\n",
    "plt.savefig(\"figures/memoryPlot/smallN\")"
   ]
  },
  {
   "cell_type": "code",
   "execution_count": null,
   "metadata": {},
   "outputs": [],
   "source": []
  }
 ],
 "metadata": {
  "kernelspec": {
   "display_name": "Python kth-cluster",
   "language": "python",
   "name": "kth-cluster"
  },
  "language_info": {
   "codemirror_mode": {
    "name": "ipython",
    "version": 3
   },
   "file_extension": ".py",
   "mimetype": "text/x-python",
   "name": "python",
   "nbconvert_exporter": "python",
   "pygments_lexer": "ipython3",
   "version": "3.6.9"
  }
 },
 "nbformat": 4,
 "nbformat_minor": 2
}
