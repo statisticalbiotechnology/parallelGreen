{
 "cells": [
  {
   "cell_type": "code",
   "execution_count": 1,
   "metadata": {},
   "outputs": [],
   "source": [
    "import pandas as pd\n",
    "import numpy as np\n",
    "from significance_of_mean_cuda import significance_of_mean_cuda"
   ]
  },
  {
   "cell_type": "code",
   "execution_count": 2,
   "metadata": {},
   "outputs": [
    {
     "name": "stdout",
     "output_type": "stream",
     "text": [
      "CPTAC_BC_SupplementaryTable01.xlsx  CPTAC_BC_SupplementaryTable03.xlsx\r\n"
     ]
    }
   ],
   "source": [
    "!ls \"./data/nature18003-s2/\""
   ]
  },
  {
   "cell_type": "code",
   "execution_count": 3,
   "metadata": {},
   "outputs": [],
   "source": [
    "path = \"./data/nature18003-s2/\""
   ]
  },
  {
   "cell_type": "code",
   "execution_count": 4,
   "metadata": {},
   "outputs": [],
   "source": [
    "T1 = pd.read_excel(path + \"CPTAC_BC_SupplementaryTable01.xlsx\")\n",
    "T3 = pd.read_excel(path + \"CPTAC_BC_SupplementaryTable03.xlsx\")"
   ]
  },
  {
   "cell_type": "code",
   "execution_count": 5,
   "metadata": {},
   "outputs": [],
   "source": [
    "paiteint_id = T1.columns[0]\n",
    "stats_col = T1.columns[5: 5 + 3]"
   ]
  },
  {
   "cell_type": "code",
   "execution_count": 6,
   "metadata": {},
   "outputs": [],
   "source": [
    "all_lab = list()\n",
    "for r in T1[stats_col].iterrows():\n",
    "    all_lab += list(r[1].values)"
   ]
  },
  {
   "cell_type": "code",
   "execution_count": 7,
   "metadata": {},
   "outputs": [
    {
     "data": {
      "text/plain": [
       "['Positive', 'Negative', 'Indeterminate', 'Equivocal']"
      ]
     },
     "execution_count": 7,
     "metadata": {},
     "output_type": "execute_result"
    }
   ],
   "source": [
    "list(set(all_lab))"
   ]
  },
  {
   "cell_type": "code",
   "execution_count": 8,
   "metadata": {},
   "outputs": [],
   "source": [
    "skip_label = ['Indeterminate', 'Equivocal']"
   ]
  },
  {
   "cell_type": "code",
   "execution_count": 9,
   "metadata": {},
   "outputs": [
    {
     "data": {
      "text/html": [
       "<div>\n",
       "<style scoped>\n",
       "    .dataframe tbody tr th:only-of-type {\n",
       "        vertical-align: middle;\n",
       "    }\n",
       "\n",
       "    .dataframe tbody tr th {\n",
       "        vertical-align: top;\n",
       "    }\n",
       "\n",
       "    .dataframe thead th {\n",
       "        text-align: right;\n",
       "    }\n",
       "</style>\n",
       "<table border=\"1\" class=\"dataframe\">\n",
       "  <thead>\n",
       "    <tr style=\"text-align: right;\">\n",
       "      <th></th>\n",
       "      <th>Sample ID</th>\n",
       "      <th>TCGA ID</th>\n",
       "      <th>Biospecimen Barcode Side</th>\n",
       "      <th>UIUD</th>\n",
       "      <th>PAM50</th>\n",
       "      <th>ER Status</th>\n",
       "      <th>PR Status</th>\n",
       "      <th>HER2 Status</th>\n",
       "      <th>QC Status</th>\n",
       "      <th>Proteome Cluster (see Fig. 3b)</th>\n",
       "      <th>...</th>\n",
       "      <th>iTRAQReporterIon</th>\n",
       "      <th>CommonControl</th>\n",
       "      <th>GATA3 Mutation</th>\n",
       "      <th>PIK3CA Mutation</th>\n",
       "      <th>TP53 Mutation</th>\n",
       "      <th>PIK3CA missense mutation in helical domain all tumors</th>\n",
       "      <th>PIK3CA missense mutation in kinase domain all tumors</th>\n",
       "      <th>TP53 Nonsense/Frameshift all tumors</th>\n",
       "      <th>TP53 Missense mutation all tumors</th>\n",
       "      <th>TP53 missense mutations in DNA binding domain all tumors</th>\n",
       "    </tr>\n",
       "  </thead>\n",
       "  <tbody>\n",
       "    <tr>\n",
       "      <th>0</th>\n",
       "      <td>A2-A0CM</td>\n",
       "      <td>TCGA-A2-A0CM</td>\n",
       "      <td>TCGA-A2-A0CM-01A-11-A21V-30</td>\n",
       "      <td>330F7598-824C-4CD6-9303-A27FE74A6695</td>\n",
       "      <td>Basal</td>\n",
       "      <td>Negative</td>\n",
       "      <td>Negative</td>\n",
       "      <td>Negative</td>\n",
       "      <td>pass</td>\n",
       "      <td>1.0</td>\n",
       "      <td>...</td>\n",
       "      <td>116</td>\n",
       "      <td>YES</td>\n",
       "      <td>NaN</td>\n",
       "      <td>NaN</td>\n",
       "      <td>Frame_Shift_Del|Somatic|p.E204fs</td>\n",
       "      <td>0.0</td>\n",
       "      <td>0.0</td>\n",
       "      <td>1.0</td>\n",
       "      <td>NaN</td>\n",
       "      <td>NaN</td>\n",
       "    </tr>\n",
       "    <tr>\n",
       "      <th>1</th>\n",
       "      <td>A2-A0D2</td>\n",
       "      <td>TCGA-A2-A0D2</td>\n",
       "      <td>TCGA-A2-A0D2-01A-12-A21W-30</td>\n",
       "      <td>308CCD79-C164-4397-92BC-A1CD243C8E7D</td>\n",
       "      <td>Basal</td>\n",
       "      <td>Negative</td>\n",
       "      <td>Negative</td>\n",
       "      <td>Negative</td>\n",
       "      <td>pass</td>\n",
       "      <td>1.0</td>\n",
       "      <td>...</td>\n",
       "      <td>114</td>\n",
       "      <td>NO</td>\n",
       "      <td>NaN</td>\n",
       "      <td>NaN</td>\n",
       "      <td>Frame_Shift_Del|Somatic|p.P318fs</td>\n",
       "      <td>0.0</td>\n",
       "      <td>0.0</td>\n",
       "      <td>1.0</td>\n",
       "      <td>NaN</td>\n",
       "      <td>NaN</td>\n",
       "    </tr>\n",
       "    <tr>\n",
       "      <th>2</th>\n",
       "      <td>A2-A0EQ</td>\n",
       "      <td>TCGA-A2-A0EQ</td>\n",
       "      <td>TCGA-A2-A0EQ-01A-41-A21W-30</td>\n",
       "      <td>04217F65-2907-478B-B0C5-EB65370198DA</td>\n",
       "      <td>Her2</td>\n",
       "      <td>Negative</td>\n",
       "      <td>Negative</td>\n",
       "      <td>Positive</td>\n",
       "      <td>pass</td>\n",
       "      <td>1.0</td>\n",
       "      <td>...</td>\n",
       "      <td>116</td>\n",
       "      <td>NO</td>\n",
       "      <td>NaN</td>\n",
       "      <td>Missense_Mutation|Somatic|p.H1047R</td>\n",
       "      <td>In_Frame_Del|Somatic|p.IY162in_frame_delN</td>\n",
       "      <td>NaN</td>\n",
       "      <td>1.0</td>\n",
       "      <td>NaN</td>\n",
       "      <td>NaN</td>\n",
       "      <td>NaN</td>\n",
       "    </tr>\n",
       "    <tr>\n",
       "      <th>3</th>\n",
       "      <td>A2-A0EV</td>\n",
       "      <td>TCGA-A2-A0EV</td>\n",
       "      <td>TCGA-A2-A0EV-01A-41-A21V-30</td>\n",
       "      <td>38F98E5F-7FA4-4C89-8D81-516CF865BEEB</td>\n",
       "      <td>LumA</td>\n",
       "      <td>Positive</td>\n",
       "      <td>Positive</td>\n",
       "      <td>Negative</td>\n",
       "      <td>pass</td>\n",
       "      <td>3.0</td>\n",
       "      <td>...</td>\n",
       "      <td>114</td>\n",
       "      <td>NO</td>\n",
       "      <td>NaN</td>\n",
       "      <td>In_Frame_Ins|Somatic|p.E469in_frame_insDK</td>\n",
       "      <td>NaN</td>\n",
       "      <td>NaN</td>\n",
       "      <td>NaN</td>\n",
       "      <td>0.0</td>\n",
       "      <td>0.0</td>\n",
       "      <td>0.0</td>\n",
       "    </tr>\n",
       "    <tr>\n",
       "      <th>4</th>\n",
       "      <td>A2-A0EX</td>\n",
       "      <td>TCGA-A2-A0EX</td>\n",
       "      <td>TCGA-A2-A0EX-01A-41-A21V-30</td>\n",
       "      <td>78271500-147B-40C5-B789-0CF0C7CDBCE2</td>\n",
       "      <td>LumA</td>\n",
       "      <td>Positive</td>\n",
       "      <td>Positive</td>\n",
       "      <td>Negative</td>\n",
       "      <td>pass</td>\n",
       "      <td>3.0</td>\n",
       "      <td>...</td>\n",
       "      <td>116</td>\n",
       "      <td>NO</td>\n",
       "      <td>NaN</td>\n",
       "      <td>Missense_Mutation|Somatic|p.E545K</td>\n",
       "      <td>NaN</td>\n",
       "      <td>1.0</td>\n",
       "      <td>NaN</td>\n",
       "      <td>0.0</td>\n",
       "      <td>0.0</td>\n",
       "      <td>0.0</td>\n",
       "    </tr>\n",
       "  </tbody>\n",
       "</table>\n",
       "<p>5 rows × 24 columns</p>\n",
       "</div>"
      ],
      "text/plain": [
       "  Sample ID       TCGA ID     Biospecimen Barcode Side  \\\n",
       "0   A2-A0CM  TCGA-A2-A0CM  TCGA-A2-A0CM-01A-11-A21V-30   \n",
       "1   A2-A0D2  TCGA-A2-A0D2  TCGA-A2-A0D2-01A-12-A21W-30   \n",
       "2   A2-A0EQ  TCGA-A2-A0EQ  TCGA-A2-A0EQ-01A-41-A21W-30   \n",
       "3   A2-A0EV  TCGA-A2-A0EV  TCGA-A2-A0EV-01A-41-A21V-30   \n",
       "4   A2-A0EX  TCGA-A2-A0EX  TCGA-A2-A0EX-01A-41-A21V-30   \n",
       "\n",
       "                                   UIUD  PAM50 ER Status PR Status  \\\n",
       "0  330F7598-824C-4CD6-9303-A27FE74A6695  Basal  Negative  Negative   \n",
       "1  308CCD79-C164-4397-92BC-A1CD243C8E7D  Basal  Negative  Negative   \n",
       "2  04217F65-2907-478B-B0C5-EB65370198DA   Her2  Negative  Negative   \n",
       "3  38F98E5F-7FA4-4C89-8D81-516CF865BEEB   LumA  Positive  Positive   \n",
       "4  78271500-147B-40C5-B789-0CF0C7CDBCE2   LumA  Positive  Positive   \n",
       "\n",
       "  HER2 Status QC Status  Proteome Cluster (see Fig. 3b)  ...  \\\n",
       "0    Negative      pass                             1.0  ...   \n",
       "1    Negative      pass                             1.0  ...   \n",
       "2    Positive      pass                             1.0  ...   \n",
       "3    Negative      pass                             3.0  ...   \n",
       "4    Negative      pass                             3.0  ...   \n",
       "\n",
       "   iTRAQReporterIon  CommonControl GATA3 Mutation  \\\n",
       "0               116            YES            NaN   \n",
       "1               114             NO            NaN   \n",
       "2               116             NO            NaN   \n",
       "3               114             NO            NaN   \n",
       "4               116             NO            NaN   \n",
       "\n",
       "                             PIK3CA Mutation  \\\n",
       "0                                        NaN   \n",
       "1                                        NaN   \n",
       "2         Missense_Mutation|Somatic|p.H1047R   \n",
       "3  In_Frame_Ins|Somatic|p.E469in_frame_insDK   \n",
       "4          Missense_Mutation|Somatic|p.E545K   \n",
       "\n",
       "                               TP53 Mutation  \\\n",
       "0           Frame_Shift_Del|Somatic|p.E204fs   \n",
       "1           Frame_Shift_Del|Somatic|p.P318fs   \n",
       "2  In_Frame_Del|Somatic|p.IY162in_frame_delN   \n",
       "3                                        NaN   \n",
       "4                                        NaN   \n",
       "\n",
       "  PIK3CA missense mutation in helical domain all tumors  \\\n",
       "0                                                0.0      \n",
       "1                                                0.0      \n",
       "2                                                NaN      \n",
       "3                                                NaN      \n",
       "4                                                1.0      \n",
       "\n",
       "  PIK3CA missense mutation in kinase domain all tumors  \\\n",
       "0                                                0.0     \n",
       "1                                                0.0     \n",
       "2                                                1.0     \n",
       "3                                                NaN     \n",
       "4                                                NaN     \n",
       "\n",
       "  TP53 Nonsense/Frameshift all tumors TP53 Missense mutation all tumors  \\\n",
       "0                                 1.0                               NaN   \n",
       "1                                 1.0                               NaN   \n",
       "2                                 NaN                               NaN   \n",
       "3                                 0.0                               0.0   \n",
       "4                                 0.0                               0.0   \n",
       "\n",
       "   TP53 missense mutations in DNA binding domain all tumors  \n",
       "0                                                NaN         \n",
       "1                                                NaN         \n",
       "2                                                NaN         \n",
       "3                                                0.0         \n",
       "4                                                0.0         \n",
       "\n",
       "[5 rows x 24 columns]"
      ]
     },
     "execution_count": 9,
     "metadata": {},
     "output_type": "execute_result"
    }
   ],
   "source": [
    "T1.head()"
   ]
  },
  {
   "cell_type": "code",
   "execution_count": 10,
   "metadata": {},
   "outputs": [],
   "source": [
    "mask1 = [True if (len(set(r[1].values) & set(skip_label)) == 0) else False for r in T1[stats_col].iterrows()]"
   ]
  },
  {
   "cell_type": "code",
   "execution_count": 11,
   "metadata": {},
   "outputs": [],
   "source": [
    "T1 = T1[mask1]\n",
    "T1.reset_index(drop=True, inplace=True)"
   ]
  },
  {
   "cell_type": "code",
   "execution_count": 12,
   "metadata": {},
   "outputs": [],
   "source": [
    "mask2 = [all([True if v=='Negative' else False for v in r[1].values] ) for r in T1[stats_col].iterrows()]"
   ]
  },
  {
   "cell_type": "code",
   "execution_count": 13,
   "metadata": {},
   "outputs": [],
   "source": [
    "T1_TNP = T1[np.array(mask2)]\n",
    "T1_TNP.reset_index(drop=True, inplace=True)\n",
    "\n",
    "T1_not_TNP = T1[~np.array(mask2)]\n",
    "T1_not_TNP.reset_index(drop=True, inplace=True)"
   ]
  },
  {
   "cell_type": "code",
   "execution_count": 14,
   "metadata": {},
   "outputs": [],
   "source": [
    "TNPpateintIds = T1_TNP[paiteint_id].values\n",
    "NotTNPpateintIds = T1_not_TNP[paiteint_id].values"
   ]
  },
  {
   "cell_type": "code",
   "execution_count": 15,
   "metadata": {},
   "outputs": [],
   "source": [
    "def getpatientId(ids):\n",
    "    patitentList = list()\n",
    "    for i in ids:\n",
    "        p_id = T3[T3.columns[[i in c for c in T3.columns]]].columns\n",
    "        patitentList += list(p_id)\n",
    "    return patitentList"
   ]
  },
  {
   "cell_type": "code",
   "execution_count": 16,
   "metadata": {},
   "outputs": [],
   "source": [
    "only_patientDf = T3[getpatientId(NotTNPpateintIds) + getpatientId(TNPpateintIds)]"
   ]
  },
  {
   "cell_type": "code",
   "execution_count": 17,
   "metadata": {},
   "outputs": [
    {
     "name": "stderr",
     "output_type": "stream",
     "text": [
      "/home/ekvall/anaconda3/envs/kth-cluster/lib/python3.6/site-packages/ipykernel_launcher.py:1: SettingWithCopyWarning: \n",
      "A value is trying to be set on a copy of a slice from a DataFrame\n",
      "\n",
      "See the caveats in the documentation: http://pandas.pydata.org/pandas-docs/stable/user_guide/indexing.html#returning-a-view-versus-a-copy\n",
      "  \"\"\"Entry point for launching an IPython kernel.\n"
     ]
    }
   ],
   "source": [
    "only_patientDf.dropna(inplace=True)"
   ]
  },
  {
   "cell_type": "code",
   "execution_count": 18,
   "metadata": {},
   "outputs": [],
   "source": [
    "NotTNP_df =  only_patientDf[getpatientId(NotTNPpateintIds)]\n",
    "TNP_df =  only_patientDf[getpatientId(TNPpateintIds)]"
   ]
  },
  {
   "cell_type": "code",
   "execution_count": 19,
   "metadata": {},
   "outputs": [
    {
     "data": {
      "text/plain": [
       "(8051, 80)"
      ]
     },
     "execution_count": 19,
     "metadata": {},
     "output_type": "execute_result"
    }
   ],
   "source": [
    "NotTNP_df.shape"
   ]
  },
  {
   "cell_type": "code",
   "execution_count": 20,
   "metadata": {},
   "outputs": [
    {
     "data": {
      "text/plain": [
       "(8051, 26)"
      ]
     },
     "execution_count": 20,
     "metadata": {},
     "output_type": "execute_result"
    }
   ],
   "source": [
    "TNP_df.shape"
   ]
  },
  {
   "cell_type": "code",
   "execution_count": 63,
   "metadata": {},
   "outputs": [],
   "source": [
    "NotTNP_Arr, TNP_Arr =NotTNP_df.values, TNP_df.values"
   ]
  },
  {
   "cell_type": "code",
   "execution_count": 43,
   "metadata": {},
   "outputs": [],
   "source": [
    "A, B = [np.random.normal(0,1,20) for i in range(20)], [np.random.normal(0,1,80) for i in range(20)]"
   ]
  },
  {
   "cell_type": "code",
   "execution_count": 44,
   "metadata": {},
   "outputs": [],
   "source": [
    "A, B = np.asarray(A), np.asarray(B)"
   ]
  },
  {
   "cell_type": "code",
   "execution_count": 71,
   "metadata": {},
   "outputs": [],
   "source": [
    "SGM = significance_of_mean_cuda(40, dtype_v=np.uint32,dtype_A=np.float64)\n",
    "SGM.run(TNP_Arr[:500], NotTNP_Arr[:500])"
   ]
  },
  {
   "cell_type": "code",
   "execution_count": 72,
   "metadata": {},
   "outputs": [
    {
     "data": {
      "text/plain": [
       "array([6.11930378e-01, 6.12180989e-01, 6.17918300e-01, 6.12503981e-01,\n",
       "       6.23615747e-01, 6.15104239e-01, 6.15129354e-01, 6.15129354e-01,\n",
       "       4.41459664e-01, 9.99999761e-01, 9.99854366e-01, 6.57552100e-03,\n",
       "       5.20613308e-02, 3.35288363e-02, 7.04019954e-02, 8.69383455e-01,\n",
       "       3.84431816e-02, 9.99310370e-01, 5.93248627e-01, 6.21191558e-01,\n",
       "       9.92482408e-01, 6.33662252e-01, 6.15773895e-01, 2.49162189e-01,\n",
       "       2.34276733e-01, 1.17882648e-03, 4.27285466e-01, 8.87118472e-06,\n",
       "       1.14241314e-03, 1.65573323e-01, 8.99231755e-02, 1.02885134e-01,\n",
       "       9.82875737e-02, 4.52751442e-02, 7.23513423e-02, 8.37540230e-01,\n",
       "       4.54491263e-01, 6.30316043e-02, 9.63029280e-03, 3.90552756e-01,\n",
       "       3.84941324e-02, 4.29733810e-01, 3.99517891e-02, 3.90986344e-01,\n",
       "       3.52985076e-01, 4.49107839e-01, 3.05603288e-02, 1.12375388e-02,\n",
       "       1.03552992e-02, 2.88528079e-04, 3.13160033e-04, 4.33102707e-04,\n",
       "       8.49284206e-01, 4.41923510e-01, 2.97108837e-01, 6.82948519e-01,\n",
       "       2.83081981e-02, 2.25897153e-03, 3.45453565e-02, 9.95529281e-01,\n",
       "       9.95772245e-01, 2.90301917e-01, 2.81609341e-01, 6.53740320e-05,\n",
       "       5.01002020e-05, 8.51697933e-03, 2.13382838e-02, 8.51697933e-03,\n",
       "       1.87238306e-04, 9.25438167e-01, 9.32954624e-01, 9.31394155e-01,\n",
       "       9.71508702e-01, 9.68405021e-01, 5.21457514e-02, 6.44855985e-01,\n",
       "       6.42132098e-01, 1.71942577e-03, 1.62309088e-03, 5.54102281e-01,\n",
       "       5.72814399e-02, 4.89379653e-01, 9.99662091e-01, 9.80275381e-02,\n",
       "       3.01539092e-01, 3.81868804e-01, 2.53913145e-01, 3.13344309e-01,\n",
       "       5.42219839e-01, 8.12398494e-01, 2.17165099e-03, 5.42508855e-01,\n",
       "       9.99973556e-01, 1.61451737e-01, 1.32753978e-01, 1.51469032e-01,\n",
       "       9.14058848e-01, 7.37724523e-05, 1.26253588e-05, 6.85459703e-06,\n",
       "       2.78999740e-02, 8.12884106e-01, 6.07458820e-01, 9.17942490e-01,\n",
       "       6.06631920e-01, 1.46546424e-02, 8.53349506e-01, 2.94697673e-01,\n",
       "       1.87971132e-01, 3.75753797e-01, 6.90046610e-01, 9.07636003e-01,\n",
       "       9.72876136e-01, 9.48458516e-02, 9.33129285e-01, 1.66146907e-02,\n",
       "       5.82478308e-01, 6.96496153e-01, 7.09457850e-01, 9.97541600e-01,\n",
       "       2.43016940e-01, 1.55208112e-01, 7.56291245e-02, 3.01155033e-02,\n",
       "       3.79208547e-01, 4.44714633e-01, 9.46832557e-01, 2.56366696e-01,\n",
       "       4.27678350e-02, 5.80131293e-02, 9.95320119e-01, 7.10708654e-02,\n",
       "       7.54121659e-01, 4.24284177e-01, 9.99999999e-01, 9.99999998e-01,\n",
       "       9.99700324e-01, 8.99636642e-01, 1.59634978e-01, 8.20318454e-01,\n",
       "       9.95230995e-01, 9.95245186e-01, 3.24627692e-05, 5.12838484e-05,\n",
       "       8.86998522e-01, 8.76601918e-01, 8.73171992e-01, 8.45177223e-02,\n",
       "       2.64927808e-02, 6.13680190e-05, 1.32717764e-02, 1.55750785e-01,\n",
       "       1.74860216e-01, 8.81007844e-01, 1.94883870e-01, 1.87043856e-01,\n",
       "       3.37460418e-01, 8.93917561e-02, 9.55336190e-01, 1.18747441e-01,\n",
       "       3.98722112e-01, 4.64797022e-01, 1.42364060e-03, 9.58458135e-01,\n",
       "       9.98102001e-01, 9.40240532e-01, 1.05707920e-03, 9.66981758e-01,\n",
       "       5.06030383e-01, 9.31079615e-01, 9.76883179e-01, 9.78282100e-01,\n",
       "       7.92875470e-04, 3.28990456e-04, 1.07203384e-03, 2.02743961e-05,\n",
       "       1.61766630e-01, 3.86905694e-02, 1.33927808e-03, 1.24108157e-03,\n",
       "       3.45992434e-08, 9.23303215e-04, 7.74382438e-05, 3.37567300e-06,\n",
       "       7.76238622e-01, 5.64863756e-02, 1.58648618e-01, 8.20566993e-03,\n",
       "       7.96926719e-01, 9.43102775e-02, 9.46632299e-01, 9.58447032e-01,\n",
       "       3.25687458e-01, 9.99736355e-01, 4.95731260e-01, 2.01775659e-04,\n",
       "       9.97755304e-01, 9.99439586e-01, 4.73721754e-01, 8.71341502e-01,\n",
       "       3.05875222e-01, 6.14161704e-01, 7.76917479e-03, 2.51172455e-03,\n",
       "       4.26842629e-01, 6.05871124e-02, 7.63882241e-01, 2.80051050e-01,\n",
       "       2.77500575e-01, 2.48364916e-01, 2.52261231e-01, 1.15354530e-02,\n",
       "       1.18788842e-02, 1.80805142e-01, 1.66286216e-01, 1.54646270e-01,\n",
       "       2.11055305e-01, 2.13816497e-01, 2.19145065e-01, 6.97171812e-01,\n",
       "       6.79672450e-01, 3.79833266e-01, 9.99804385e-01, 9.45332103e-01,\n",
       "       2.86101001e-01, 9.99836549e-01, 3.67767972e-01, 3.42686717e-01,\n",
       "       1.82585125e-02, 9.19784922e-01, 9.54717464e-01, 1.04271194e-01,\n",
       "       3.00179534e-01, 3.59156709e-01, 9.51610420e-01, 5.30627376e-01,\n",
       "       6.12738306e-03, 9.43652482e-03, 5.10143827e-04, 7.22056165e-02,\n",
       "       4.99211681e-01, 9.99768912e-01, 9.21333696e-01, 9.50598497e-03,\n",
       "       1.95860826e-01, 9.98048028e-01, 3.55869929e-02, 9.95561963e-01,\n",
       "       9.08680065e-01, 7.00391905e-01, 9.99999709e-01, 6.64756609e-02,\n",
       "       3.35404621e-01, 5.13521542e-01, 9.51346486e-01, 6.53996164e-01,\n",
       "       6.62784393e-01, 7.14925354e-01, 3.23187545e-02, 7.68007437e-01,\n",
       "       5.22073615e-03, 5.60073214e-01, 3.08613530e-01, 9.82539955e-01,\n",
       "       3.33330708e-05, 8.20396535e-01, 7.34771619e-01, 8.21390762e-01,\n",
       "       8.21390762e-01, 8.16469341e-01, 3.49342423e-02, 9.98263896e-01,\n",
       "       1.47155428e-01, 9.99948725e-01, 8.72009003e-01, 9.89232896e-01,\n",
       "       1.03558721e-01, 5.51839243e-05, 1.96308105e-01, 9.81061340e-02,\n",
       "       1.92283341e-04, 8.57939799e-02, 9.99999990e-01, 3.45320658e-06,\n",
       "       3.98664419e-01, 1.00000000e+00, 9.53980241e-02, 7.48725936e-02,\n",
       "       9.56532744e-02, 5.70931927e-01, 8.05139077e-01, 4.03800412e-01,\n",
       "       6.09069971e-01, 8.79048222e-02, 8.61708920e-06, 2.77376367e-02,\n",
       "       3.17500012e-02, 1.49017206e-01, 4.48983587e-02, 4.47468930e-01,\n",
       "       1.21848323e-01, 3.94673336e-01, 3.37177309e-01, 9.99932252e-01,\n",
       "       9.99717484e-01, 9.19793593e-01, 9.74147687e-01, 5.90363989e-01,\n",
       "       1.66213260e-02, 9.99864422e-01, 3.04953450e-01, 9.97838810e-01,\n",
       "       9.97728849e-01, 9.99956629e-01, 5.33560900e-02, 1.24523133e-03,\n",
       "       2.00753246e-02, 1.66574591e-01, 8.81647506e-01, 9.72936312e-01,\n",
       "       4.47516737e-01, 8.54743852e-01, 9.53007788e-01, 3.49132514e-05,\n",
       "       1.47585082e-02, 4.26369767e-01, 6.81594600e-01, 6.66570231e-01,\n",
       "       6.05803284e-04, 6.21906957e-02, 5.33373098e-01, 7.61351556e-04,\n",
       "       5.21673328e-02, 2.87218232e-02, 2.93838737e-02, 2.77630864e-02,\n",
       "       2.23446954e-02, 2.19674593e-02, 7.91881541e-01, 9.99966583e-01,\n",
       "       9.99976796e-01, 6.70750085e-01, 9.05964324e-01, 4.54847989e-01,\n",
       "       1.82713539e-01, 5.90808916e-01, 6.19488823e-01, 9.26833689e-05,\n",
       "       9.18474433e-01, 8.94100538e-01, 9.06228917e-01, 4.99050269e-01,\n",
       "       7.30755512e-01, 7.29097023e-01, 4.56093426e-01, 1.85270434e-05,\n",
       "       4.19221315e-05, 5.75374574e-01, 6.09139597e-01, 1.52362718e-01,\n",
       "       2.35569795e-02, 9.86427293e-01, 1.27869430e-01, 1.21549913e-02,\n",
       "       9.84166775e-01, 3.96155220e-01, 4.44703866e-01, 6.53723543e-03,\n",
       "       3.94281607e-01, 9.72985141e-01, 9.99999678e-01, 9.43042633e-01,\n",
       "       9.99217055e-01, 7.14095318e-02, 1.71081632e-01, 2.31117121e-04,\n",
       "       5.34644282e-01, 5.49440159e-01, 3.79212485e-01, 9.04000195e-01,\n",
       "       9.99341625e-01, 9.99302125e-01, 9.99415925e-01, 6.74266865e-01,\n",
       "       7.14114785e-01, 4.85079864e-01, 5.17464453e-01, 4.01812645e-01,\n",
       "       4.21944471e-01, 2.84519526e-01, 9.99467924e-01, 9.43726621e-01,\n",
       "       9.82412488e-01, 2.59705816e-01, 7.18785782e-01, 1.93160629e-01,\n",
       "       3.21423096e-02, 5.79515789e-01, 1.67330309e-01, 4.75981348e-01,\n",
       "       5.08810898e-01, 1.67576071e-01, 1.85464133e-01, 1.71089771e-01,\n",
       "       4.18312207e-02, 5.50161023e-02, 5.76552153e-02, 1.81776979e-02,\n",
       "       4.84948888e-01, 3.23404007e-02, 9.66365548e-03, 9.00323389e-01,\n",
       "       2.67808421e-01, 4.46785875e-01, 2.50068276e-01, 2.79091557e-01,\n",
       "       1.87391213e-01, 2.07706547e-01, 4.83695406e-01, 1.67359592e-01,\n",
       "       6.70919464e-03, 1.33601519e-01, 6.25090453e-03, 1.54273357e-01,\n",
       "       4.07670269e-07, 3.95211176e-07, 2.05586375e-02, 5.66174834e-01,\n",
       "       1.50076438e-01, 1.72097621e-01, 5.46388292e-01, 3.14925864e-01,\n",
       "       9.99995811e-01, 3.00537888e-01, 1.14794576e-02, 2.80461011e-01,\n",
       "       3.82584862e-01, 9.99628073e-01, 2.34692079e-01, 9.99639298e-01,\n",
       "       9.93872829e-01, 9.85819341e-01, 7.83555469e-01, 9.76036059e-01,\n",
       "       1.43263329e-05, 9.83150691e-01, 1.09674212e-06, 1.00792149e-04,\n",
       "       1.95955409e-04, 4.14953559e-02, 5.00772731e-02, 9.94507536e-01,\n",
       "       2.45750089e-01, 3.91430521e-01, 8.34755528e-01, 6.37469022e-01,\n",
       "       3.33864361e-05, 1.22990079e-02, 1.72188194e-02, 2.49454405e-01,\n",
       "       1.10111682e-01, 9.98339863e-01, 8.66958582e-01, 9.99838606e-02,\n",
       "       7.11017512e-01, 2.22522164e-02, 5.75911485e-02, 7.65219139e-02,\n",
       "       1.78392621e-01, 1.46958849e-01, 1.14857138e-01, 2.54699456e-01,\n",
       "       4.56917821e-01, 8.28620402e-02, 9.78681729e-01, 3.31856029e-03,\n",
       "       3.86430854e-05, 2.56053067e-04, 7.84787848e-03, 9.99999998e-01,\n",
       "       9.91698031e-01, 9.88933007e-01, 9.05782959e-02, 4.41236467e-02,\n",
       "       1.40843523e-02, 2.36429657e-02, 6.02202022e-01, 4.23624953e-02,\n",
       "       1.59574270e-03, 9.89999981e-01, 9.21362495e-01, 7.94634554e-01,\n",
       "       4.00738568e-01, 9.34186179e-01, 2.89395901e-01, 2.74105924e-01,\n",
       "       1.96362767e-01, 2.48975350e-01, 4.10560486e-02, 1.10269673e-01])"
      ]
     },
     "execution_count": 72,
     "metadata": {},
     "output_type": "execute_result"
    }
   ],
   "source": [
    "SGM.p_values"
   ]
  },
  {
   "cell_type": "code",
   "execution_count": 78,
   "metadata": {},
   "outputs": [],
   "source": [
    "def runSGMBatch(A, B, batch_size=50):\n",
    "    total_count = B.shape[0]\n",
    "    chunks = (total_count - 1) // batch_size + 1\n",
    "    \n",
    "    SGM = significance_of_mean_cuda(50, dtype_v=np.uint32,dtype_A=np.float64)\n",
    "    P_values = list()\n",
    "    for i in range(chunks):\n",
    "        A_batch = A[i*batch_size:(i+1)*batch_size]\n",
    "        B_batch = B[i*batch_size:(i+1)*batch_size]\n",
    "        \n",
    "        SGM.run(A_batch, B_batch)\n",
    "        \n",
    "        P_values.append(SGM.p_values)\n",
    "    \n",
    "    return P_values\n",
    "        "
   ]
  },
  {
   "cell_type": "code",
   "execution_count": null,
   "metadata": {},
   "outputs": [],
   "source": [
    "P = runSGMBatch(TNP_Arr, NotTNP_Arr, 300)"
   ]
  },
  {
   "cell_type": "code",
   "execution_count": null,
   "metadata": {},
   "outputs": [],
   "source": []
  },
  {
   "cell_type": "code",
   "execution_count": 73,
   "metadata": {},
   "outputs": [
    {
     "data": {
      "text/plain": [
       "(20, 80)"
      ]
     },
     "execution_count": 73,
     "metadata": {},
     "output_type": "execute_result"
    }
   ],
   "source": [
    "B.shape"
   ]
  },
  {
   "cell_type": "code",
   "execution_count": 47,
   "metadata": {},
   "outputs": [
    {
     "data": {
      "text/plain": [
       "(20, 20)"
      ]
     },
     "execution_count": 47,
     "metadata": {},
     "output_type": "execute_result"
    }
   ],
   "source": [
    "A.shape"
   ]
  },
  {
   "cell_type": "code",
   "execution_count": 48,
   "metadata": {},
   "outputs": [
    {
     "data": {
      "text/plain": [
       "(20, 80)"
      ]
     },
     "execution_count": 48,
     "metadata": {},
     "output_type": "execute_result"
    }
   ],
   "source": [
    "B.shape"
   ]
  },
  {
   "cell_type": "code",
   "execution_count": 49,
   "metadata": {},
   "outputs": [
    {
     "data": {
      "text/plain": [
       "(20, 80)"
      ]
     },
     "execution_count": 49,
     "metadata": {},
     "output_type": "execute_result"
    }
   ],
   "source": [
    "NotTNP_Arr.shape"
   ]
  },
  {
   "cell_type": "code",
   "execution_count": 50,
   "metadata": {},
   "outputs": [
    {
     "data": {
      "text/plain": [
       "(20, 26)"
      ]
     },
     "execution_count": 50,
     "metadata": {},
     "output_type": "execute_result"
    }
   ],
   "source": [
    "TNP_Arr.shape"
   ]
  },
  {
   "cell_type": "code",
   "execution_count": null,
   "metadata": {},
   "outputs": [],
   "source": []
  }
 ],
 "metadata": {
  "kernelspec": {
   "display_name": "Python kth-cluster",
   "language": "python",
   "name": "kth-cluster"
  },
  "language_info": {
   "codemirror_mode": {
    "name": "ipython",
    "version": 3
   },
   "file_extension": ".py",
   "mimetype": "text/x-python",
   "name": "python",
   "nbconvert_exporter": "python",
   "pygments_lexer": "ipython3",
   "version": "3.6.9"
  }
 },
 "nbformat": 4,
 "nbformat_minor": 2
}
