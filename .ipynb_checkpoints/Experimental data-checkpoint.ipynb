{
 "cells": [
  {
   "cell_type": "code",
   "execution_count": 67,
   "metadata": {},
   "outputs": [],
   "source": [
    "import pandas as pd\n",
    "import numpy as np\n",
    "from significance_of_mean_cuda import significance_of_mean_cuda\n",
    "import time\n",
    "from utils import MW, ttests\n",
    "import sklearn"
   ]
  },
  {
   "cell_type": "code",
   "execution_count": 2,
   "metadata": {},
   "outputs": [
    {
     "name": "stdout",
     "output_type": "stream",
     "text": [
      "CPTAC_BC_SupplementaryTable01.xlsx  CPTAC_BC_SupplementaryTable03.xlsx\r\n"
     ]
    }
   ],
   "source": [
    "!ls \"./data/nature18003-s2/\""
   ]
  },
  {
   "cell_type": "code",
   "execution_count": 3,
   "metadata": {},
   "outputs": [],
   "source": [
    "path = \"./data/nature18003-s2/\""
   ]
  },
  {
   "cell_type": "code",
   "execution_count": 4,
   "metadata": {},
   "outputs": [],
   "source": [
    "T1 = pd.read_excel(path + \"CPTAC_BC_SupplementaryTable01.xlsx\")\n",
    "T3 = pd.read_excel(path + \"CPTAC_BC_SupplementaryTable03.xlsx\")"
   ]
  },
  {
   "cell_type": "markdown",
   "metadata": {},
   "source": [
    "## Extract important column headings"
   ]
  },
  {
   "cell_type": "code",
   "execution_count": 5,
   "metadata": {},
   "outputs": [],
   "source": [
    "paiteint_id = T1.columns[0]\n",
    "stats_col = T1.columns[5: 5 + 3]"
   ]
  },
  {
   "cell_type": "markdown",
   "metadata": {},
   "source": [
    "### Patient column  "
   ]
  },
  {
   "cell_type": "code",
   "execution_count": 6,
   "metadata": {},
   "outputs": [
    {
     "data": {
      "text/plain": [
       "'Sample ID'"
      ]
     },
     "execution_count": 6,
     "metadata": {},
     "output_type": "execute_result"
    }
   ],
   "source": [
    "paiteint_id"
   ]
  },
  {
   "cell_type": "markdown",
   "metadata": {},
   "source": [
    "### Cancer phenotype coulmns"
   ]
  },
  {
   "cell_type": "code",
   "execution_count": 7,
   "metadata": {},
   "outputs": [
    {
     "data": {
      "text/plain": [
       "Index(['ER Status', 'PR Status', 'HER2 Status'], dtype='object')"
      ]
     },
     "execution_count": 7,
     "metadata": {},
     "output_type": "execute_result"
    }
   ],
   "source": [
    "stats_col"
   ]
  },
  {
   "cell_type": "markdown",
   "metadata": {},
   "source": [
    "### Check viable phenotype status"
   ]
  },
  {
   "cell_type": "code",
   "execution_count": 8,
   "metadata": {},
   "outputs": [],
   "source": [
    "all_lab = list()\n",
    "for r in T1[stats_col].iterrows():\n",
    "    all_lab += list(r[1].values)"
   ]
  },
  {
   "cell_type": "code",
   "execution_count": 9,
   "metadata": {},
   "outputs": [
    {
     "data": {
      "text/plain": [
       "['Equivocal', 'Positive', 'Indeterminate', 'Negative']"
      ]
     },
     "execution_count": 9,
     "metadata": {},
     "output_type": "execute_result"
    }
   ],
   "source": [
    "list(set(all_lab))"
   ]
  },
  {
   "cell_type": "markdown",
   "metadata": {},
   "source": [
    "### Let's drop patient with \"Equivocal\" and \"Indeterminate\" status"
   ]
  },
  {
   "cell_type": "code",
   "execution_count": 10,
   "metadata": {},
   "outputs": [],
   "source": [
    "drop_label = ['Indeterminate', 'Equivocal']"
   ]
  },
  {
   "cell_type": "code",
   "execution_count": 11,
   "metadata": {},
   "outputs": [
    {
     "data": {
      "text/html": [
       "<div>\n",
       "<style scoped>\n",
       "    .dataframe tbody tr th:only-of-type {\n",
       "        vertical-align: middle;\n",
       "    }\n",
       "\n",
       "    .dataframe tbody tr th {\n",
       "        vertical-align: top;\n",
       "    }\n",
       "\n",
       "    .dataframe thead th {\n",
       "        text-align: right;\n",
       "    }\n",
       "</style>\n",
       "<table border=\"1\" class=\"dataframe\">\n",
       "  <thead>\n",
       "    <tr style=\"text-align: right;\">\n",
       "      <th></th>\n",
       "      <th>Sample ID</th>\n",
       "      <th>TCGA ID</th>\n",
       "      <th>Biospecimen Barcode Side</th>\n",
       "      <th>UIUD</th>\n",
       "      <th>PAM50</th>\n",
       "      <th>ER Status</th>\n",
       "      <th>PR Status</th>\n",
       "      <th>HER2 Status</th>\n",
       "      <th>QC Status</th>\n",
       "      <th>Proteome Cluster (see Fig. 3b)</th>\n",
       "      <th>...</th>\n",
       "      <th>iTRAQReporterIon</th>\n",
       "      <th>CommonControl</th>\n",
       "      <th>GATA3 Mutation</th>\n",
       "      <th>PIK3CA Mutation</th>\n",
       "      <th>TP53 Mutation</th>\n",
       "      <th>PIK3CA missense mutation in helical domain all tumors</th>\n",
       "      <th>PIK3CA missense mutation in kinase domain all tumors</th>\n",
       "      <th>TP53 Nonsense/Frameshift all tumors</th>\n",
       "      <th>TP53 Missense mutation all tumors</th>\n",
       "      <th>TP53 missense mutations in DNA binding domain all tumors</th>\n",
       "    </tr>\n",
       "  </thead>\n",
       "  <tbody>\n",
       "    <tr>\n",
       "      <th>0</th>\n",
       "      <td>A2-A0CM</td>\n",
       "      <td>TCGA-A2-A0CM</td>\n",
       "      <td>TCGA-A2-A0CM-01A-11-A21V-30</td>\n",
       "      <td>330F7598-824C-4CD6-9303-A27FE74A6695</td>\n",
       "      <td>Basal</td>\n",
       "      <td>Negative</td>\n",
       "      <td>Negative</td>\n",
       "      <td>Negative</td>\n",
       "      <td>pass</td>\n",
       "      <td>1.0</td>\n",
       "      <td>...</td>\n",
       "      <td>116</td>\n",
       "      <td>YES</td>\n",
       "      <td>NaN</td>\n",
       "      <td>NaN</td>\n",
       "      <td>Frame_Shift_Del|Somatic|p.E204fs</td>\n",
       "      <td>0.0</td>\n",
       "      <td>0.0</td>\n",
       "      <td>1.0</td>\n",
       "      <td>NaN</td>\n",
       "      <td>NaN</td>\n",
       "    </tr>\n",
       "    <tr>\n",
       "      <th>1</th>\n",
       "      <td>A2-A0D2</td>\n",
       "      <td>TCGA-A2-A0D2</td>\n",
       "      <td>TCGA-A2-A0D2-01A-12-A21W-30</td>\n",
       "      <td>308CCD79-C164-4397-92BC-A1CD243C8E7D</td>\n",
       "      <td>Basal</td>\n",
       "      <td>Negative</td>\n",
       "      <td>Negative</td>\n",
       "      <td>Negative</td>\n",
       "      <td>pass</td>\n",
       "      <td>1.0</td>\n",
       "      <td>...</td>\n",
       "      <td>114</td>\n",
       "      <td>NO</td>\n",
       "      <td>NaN</td>\n",
       "      <td>NaN</td>\n",
       "      <td>Frame_Shift_Del|Somatic|p.P318fs</td>\n",
       "      <td>0.0</td>\n",
       "      <td>0.0</td>\n",
       "      <td>1.0</td>\n",
       "      <td>NaN</td>\n",
       "      <td>NaN</td>\n",
       "    </tr>\n",
       "    <tr>\n",
       "      <th>2</th>\n",
       "      <td>A2-A0EQ</td>\n",
       "      <td>TCGA-A2-A0EQ</td>\n",
       "      <td>TCGA-A2-A0EQ-01A-41-A21W-30</td>\n",
       "      <td>04217F65-2907-478B-B0C5-EB65370198DA</td>\n",
       "      <td>Her2</td>\n",
       "      <td>Negative</td>\n",
       "      <td>Negative</td>\n",
       "      <td>Positive</td>\n",
       "      <td>pass</td>\n",
       "      <td>1.0</td>\n",
       "      <td>...</td>\n",
       "      <td>116</td>\n",
       "      <td>NO</td>\n",
       "      <td>NaN</td>\n",
       "      <td>Missense_Mutation|Somatic|p.H1047R</td>\n",
       "      <td>In_Frame_Del|Somatic|p.IY162in_frame_delN</td>\n",
       "      <td>NaN</td>\n",
       "      <td>1.0</td>\n",
       "      <td>NaN</td>\n",
       "      <td>NaN</td>\n",
       "      <td>NaN</td>\n",
       "    </tr>\n",
       "    <tr>\n",
       "      <th>3</th>\n",
       "      <td>A2-A0EV</td>\n",
       "      <td>TCGA-A2-A0EV</td>\n",
       "      <td>TCGA-A2-A0EV-01A-41-A21V-30</td>\n",
       "      <td>38F98E5F-7FA4-4C89-8D81-516CF865BEEB</td>\n",
       "      <td>LumA</td>\n",
       "      <td>Positive</td>\n",
       "      <td>Positive</td>\n",
       "      <td>Negative</td>\n",
       "      <td>pass</td>\n",
       "      <td>3.0</td>\n",
       "      <td>...</td>\n",
       "      <td>114</td>\n",
       "      <td>NO</td>\n",
       "      <td>NaN</td>\n",
       "      <td>In_Frame_Ins|Somatic|p.E469in_frame_insDK</td>\n",
       "      <td>NaN</td>\n",
       "      <td>NaN</td>\n",
       "      <td>NaN</td>\n",
       "      <td>0.0</td>\n",
       "      <td>0.0</td>\n",
       "      <td>0.0</td>\n",
       "    </tr>\n",
       "    <tr>\n",
       "      <th>4</th>\n",
       "      <td>A2-A0EX</td>\n",
       "      <td>TCGA-A2-A0EX</td>\n",
       "      <td>TCGA-A2-A0EX-01A-41-A21V-30</td>\n",
       "      <td>78271500-147B-40C5-B789-0CF0C7CDBCE2</td>\n",
       "      <td>LumA</td>\n",
       "      <td>Positive</td>\n",
       "      <td>Positive</td>\n",
       "      <td>Negative</td>\n",
       "      <td>pass</td>\n",
       "      <td>3.0</td>\n",
       "      <td>...</td>\n",
       "      <td>116</td>\n",
       "      <td>NO</td>\n",
       "      <td>NaN</td>\n",
       "      <td>Missense_Mutation|Somatic|p.E545K</td>\n",
       "      <td>NaN</td>\n",
       "      <td>1.0</td>\n",
       "      <td>NaN</td>\n",
       "      <td>0.0</td>\n",
       "      <td>0.0</td>\n",
       "      <td>0.0</td>\n",
       "    </tr>\n",
       "  </tbody>\n",
       "</table>\n",
       "<p>5 rows × 24 columns</p>\n",
       "</div>"
      ],
      "text/plain": [
       "  Sample ID       TCGA ID     Biospecimen Barcode Side  \\\n",
       "0   A2-A0CM  TCGA-A2-A0CM  TCGA-A2-A0CM-01A-11-A21V-30   \n",
       "1   A2-A0D2  TCGA-A2-A0D2  TCGA-A2-A0D2-01A-12-A21W-30   \n",
       "2   A2-A0EQ  TCGA-A2-A0EQ  TCGA-A2-A0EQ-01A-41-A21W-30   \n",
       "3   A2-A0EV  TCGA-A2-A0EV  TCGA-A2-A0EV-01A-41-A21V-30   \n",
       "4   A2-A0EX  TCGA-A2-A0EX  TCGA-A2-A0EX-01A-41-A21V-30   \n",
       "\n",
       "                                   UIUD  PAM50 ER Status PR Status  \\\n",
       "0  330F7598-824C-4CD6-9303-A27FE74A6695  Basal  Negative  Negative   \n",
       "1  308CCD79-C164-4397-92BC-A1CD243C8E7D  Basal  Negative  Negative   \n",
       "2  04217F65-2907-478B-B0C5-EB65370198DA   Her2  Negative  Negative   \n",
       "3  38F98E5F-7FA4-4C89-8D81-516CF865BEEB   LumA  Positive  Positive   \n",
       "4  78271500-147B-40C5-B789-0CF0C7CDBCE2   LumA  Positive  Positive   \n",
       "\n",
       "  HER2 Status QC Status  Proteome Cluster (see Fig. 3b)  ...  \\\n",
       "0    Negative      pass                             1.0  ...   \n",
       "1    Negative      pass                             1.0  ...   \n",
       "2    Positive      pass                             1.0  ...   \n",
       "3    Negative      pass                             3.0  ...   \n",
       "4    Negative      pass                             3.0  ...   \n",
       "\n",
       "   iTRAQReporterIon  CommonControl GATA3 Mutation  \\\n",
       "0               116            YES            NaN   \n",
       "1               114             NO            NaN   \n",
       "2               116             NO            NaN   \n",
       "3               114             NO            NaN   \n",
       "4               116             NO            NaN   \n",
       "\n",
       "                             PIK3CA Mutation  \\\n",
       "0                                        NaN   \n",
       "1                                        NaN   \n",
       "2         Missense_Mutation|Somatic|p.H1047R   \n",
       "3  In_Frame_Ins|Somatic|p.E469in_frame_insDK   \n",
       "4          Missense_Mutation|Somatic|p.E545K   \n",
       "\n",
       "                               TP53 Mutation  \\\n",
       "0           Frame_Shift_Del|Somatic|p.E204fs   \n",
       "1           Frame_Shift_Del|Somatic|p.P318fs   \n",
       "2  In_Frame_Del|Somatic|p.IY162in_frame_delN   \n",
       "3                                        NaN   \n",
       "4                                        NaN   \n",
       "\n",
       "  PIK3CA missense mutation in helical domain all tumors  \\\n",
       "0                                                0.0      \n",
       "1                                                0.0      \n",
       "2                                                NaN      \n",
       "3                                                NaN      \n",
       "4                                                1.0      \n",
       "\n",
       "  PIK3CA missense mutation in kinase domain all tumors  \\\n",
       "0                                                0.0     \n",
       "1                                                0.0     \n",
       "2                                                1.0     \n",
       "3                                                NaN     \n",
       "4                                                NaN     \n",
       "\n",
       "  TP53 Nonsense/Frameshift all tumors TP53 Missense mutation all tumors  \\\n",
       "0                                 1.0                               NaN   \n",
       "1                                 1.0                               NaN   \n",
       "2                                 NaN                               NaN   \n",
       "3                                 0.0                               0.0   \n",
       "4                                 0.0                               0.0   \n",
       "\n",
       "   TP53 missense mutations in DNA binding domain all tumors  \n",
       "0                                                NaN         \n",
       "1                                                NaN         \n",
       "2                                                NaN         \n",
       "3                                                0.0         \n",
       "4                                                0.0         \n",
       "\n",
       "[5 rows x 24 columns]"
      ]
     },
     "execution_count": 11,
     "metadata": {},
     "output_type": "execute_result"
    }
   ],
   "source": [
    "T1.head()"
   ]
  },
  {
   "cell_type": "code",
   "execution_count": 12,
   "metadata": {},
   "outputs": [],
   "source": [
    "mask1 = [True if (len(set(r[1].values) & set(drop_label)) == 0) else False for r in T1[stats_col].iterrows()]\n",
    "T1 = T1[mask1]\n",
    "T1.reset_index(drop=True, inplace=True)"
   ]
  },
  {
   "cell_type": "markdown",
   "metadata": {},
   "source": [
    "### Let's divide the dataframe into two dataframes with triple negative (TN) and non-triple negative (NTN)"
   ]
  },
  {
   "cell_type": "code",
   "execution_count": 13,
   "metadata": {},
   "outputs": [],
   "source": [
    "mask2 = [all([True if v=='Negative' else False for v in r[1].values] ) for r in T1[stats_col].iterrows()]\n",
    "\n",
    "T1_TNP = T1[np.array(mask2)]\n",
    "T1_TNP.reset_index(drop=True, inplace=True)\n",
    "\n",
    "T1_not_TNP = T1[~np.array(mask2)]\n",
    "T1_not_TNP.reset_index(drop=True, inplace=True)\n",
    "\n"
   ]
  },
  {
   "cell_type": "markdown",
   "metadata": {},
   "source": [
    "### Obtain patient ids for NT and NTN"
   ]
  },
  {
   "cell_type": "code",
   "execution_count": 14,
   "metadata": {},
   "outputs": [],
   "source": [
    "TNPpateintIds = T1_TNP[paiteint_id].values\n",
    "NotTNPpateintIds = T1_not_TNP[paiteint_id].values"
   ]
  },
  {
   "cell_type": "markdown",
   "metadata": {},
   "source": [
    "### Remove genes (rows) containing NaN for both TN and NTN i.e., make sure all patients have same the gene when comparing."
   ]
  },
  {
   "cell_type": "code",
   "execution_count": 15,
   "metadata": {},
   "outputs": [],
   "source": [
    "def getpatientId(ids):\n",
    "    patitentList = list()\n",
    "    for i in ids:\n",
    "        p_id = T3[T3.columns[[i in c for c in T3.columns]]].columns\n",
    "        patitentList += list(p_id)\n",
    "    return patitentList"
   ]
  },
  {
   "cell_type": "code",
   "execution_count": 16,
   "metadata": {},
   "outputs": [],
   "source": [
    "only_patientDf = T3[getpatientId(NotTNPpateintIds) + getpatientId(TNPpateintIds)]"
   ]
  },
  {
   "cell_type": "code",
   "execution_count": 17,
   "metadata": {},
   "outputs": [
    {
     "name": "stderr",
     "output_type": "stream",
     "text": [
      "/home/ekvall/anaconda3/lib/python3.7/site-packages/ipykernel_launcher.py:1: SettingWithCopyWarning: \n",
      "A value is trying to be set on a copy of a slice from a DataFrame\n",
      "\n",
      "See the caveats in the documentation: http://pandas.pydata.org/pandas-docs/stable/indexing.html#indexing-view-versus-copy\n",
      "  \"\"\"Entry point for launching an IPython kernel.\n"
     ]
    }
   ],
   "source": [
    "only_patientDf.dropna(inplace=True)"
   ]
  },
  {
   "cell_type": "code",
   "execution_count": 18,
   "metadata": {},
   "outputs": [],
   "source": [
    "NotTNP_df =  only_patientDf[getpatientId(NotTNPpateintIds)]\n",
    "TNP_df =  only_patientDf[getpatientId(TNPpateintIds)]"
   ]
  },
  {
   "cell_type": "code",
   "execution_count": 19,
   "metadata": {},
   "outputs": [],
   "source": [
    "NotTNP_Arr, TNP_Arr =NotTNP_df.values, TNP_df.values"
   ]
  },
  {
   "cell_type": "code",
   "execution_count": 20,
   "metadata": {},
   "outputs": [
    {
     "data": {
      "text/plain": [
       "(8051, 80)"
      ]
     },
     "execution_count": 20,
     "metadata": {},
     "output_type": "execute_result"
    }
   ],
   "source": [
    "NotTNP_Arr.shape"
   ]
  },
  {
   "cell_type": "code",
   "execution_count": 21,
   "metadata": {},
   "outputs": [
    {
     "data": {
      "text/plain": [
       "(8051, 26)"
      ]
     },
     "execution_count": 21,
     "metadata": {},
     "output_type": "execute_result"
    }
   ],
   "source": [
    "TNP_Arr.shape"
   ]
  },
  {
   "cell_type": "markdown",
   "metadata": {},
   "source": [
    "### There are 80 patients without triple negative (NTN) and 26 patients with triple negtive (TN), and with a total of 8051 quantified genes."
   ]
  },
  {
   "cell_type": "markdown",
   "metadata": {},
   "source": [
    "# Experiment time"
   ]
  },
  {
   "cell_type": "markdown",
   "metadata": {},
   "source": [
    "## Let's start with a rather small binsize=8."
   ]
  },
  {
   "cell_type": "code",
   "execution_count": 152,
   "metadata": {},
   "outputs": [
    {
     "name": "stdout",
     "output_type": "stream",
     "text": [
      "3.1616718769073486\n"
     ]
    }
   ],
   "source": [
    "start = time.time()\n",
    "\n",
    "SGM = significance_of_mean_cuda(8, dtype_v=np.uint32,dtype_A=np.float64)\n",
    "SGM.run(TNP_Arr, NotTNP_Arr)\n",
    "P_e_list = list(1 - SGM.p_values)\n",
    "\n",
    "end = time.time()\n",
    "print(end - start)"
   ]
  },
  {
   "cell_type": "markdown",
   "metadata": {},
   "source": [
    "### Parallelized exact test takes ~3s"
   ]
  },
  {
   "cell_type": "code",
   "execution_count": 153,
   "metadata": {},
   "outputs": [
    {
     "name": "stdout",
     "output_type": "stream",
     "text": [
      "1.2535901069641113\n"
     ]
    }
   ],
   "source": [
    "start = time.time()\n",
    "\n",
    "P_mw_list = MW(TNP_Arr, NotTNP_Arr)\n",
    "\n",
    "end = time.time()\n",
    "print(end - start)"
   ]
  },
  {
   "cell_type": "markdown",
   "metadata": {},
   "source": [
    "### Mann-Whitney exact test takes ~1s"
   ]
  },
  {
   "cell_type": "code",
   "execution_count": 154,
   "metadata": {},
   "outputs": [
    {
     "name": "stdout",
     "output_type": "stream",
     "text": [
      "1.131826639175415\n"
     ]
    }
   ],
   "source": [
    "start = time.time()\n",
    "\n",
    "P_t_list = ttests(TNP_Arr, NotTNP_Arr)\n",
    "\n",
    "end = time.time()\n",
    "print(end - start)"
   ]
  },
  {
   "cell_type": "markdown",
   "metadata": {},
   "source": [
    "### Let's compare how close MannWhitney and exact test are compared to the t-test"
   ]
  },
  {
   "cell_type": "code",
   "execution_count": 155,
   "metadata": {},
   "outputs": [],
   "source": [
    "def diffAbs(a,b):\n",
    "    return np.abs(a - b)\n",
    "    \n",
    "\n",
    "def MAE(a,b):\n",
    "    return np.mean(np.abs(a - b))\n",
    "\n",
    "def relative_abolute_error(a,b):\n",
    "    return np.abs((a-b)/a)\n",
    "\n",
    "def mean_relative_abolute_error(a,b):\n",
    "    return np.mean(relative_abolute_error(a,b))"
   ]
  },
  {
   "cell_type": "code",
   "execution_count": 156,
   "metadata": {},
   "outputs": [],
   "source": [
    "P_mw, P_t, P_e = np.array(P_mw_list), np.array(P_t_list), np.array(P_e_list) "
   ]
  },
  {
   "cell_type": "code",
   "execution_count": 157,
   "metadata": {},
   "outputs": [
    {
     "data": {
      "text/plain": [
       "0.039"
      ]
     },
     "execution_count": 157,
     "metadata": {},
     "output_type": "execute_result"
    }
   ],
   "source": [
    "np.around(MAE(P_e, P_t), 3)"
   ]
  },
  {
   "cell_type": "code",
   "execution_count": 158,
   "metadata": {},
   "outputs": [
    {
     "data": {
      "text/plain": [
       "0.055"
      ]
     },
     "execution_count": 158,
     "metadata": {},
     "output_type": "execute_result"
    }
   ],
   "source": [
    "np.around(MAE(P_mw, P_t),3)"
   ]
  },
  {
   "cell_type": "markdown",
   "metadata": {},
   "source": [
    "# It seems that the exact test has slightly lower Mean Absolute Error (MAE) ,i.e, $MAE_{exact\\ test}\\approx 0.039$ and $MAE_{Mann-Whitney}\\approx 0.055$"
   ]
  },
  {
   "cell_type": "code",
   "execution_count": 159,
   "metadata": {},
   "outputs": [
    {
     "data": {
      "text/plain": [
       "389698.768"
      ]
     },
     "execution_count": 159,
     "metadata": {},
     "output_type": "execute_result"
    }
   ],
   "source": [
    "np.round(mean_relative_abolute_error(P_t, P_mw),3)"
   ]
  },
  {
   "cell_type": "code",
   "execution_count": 160,
   "metadata": {},
   "outputs": [
    {
     "data": {
      "text/plain": [
       "177.342"
      ]
     },
     "execution_count": 160,
     "metadata": {},
     "output_type": "execute_result"
    }
   ],
   "source": [
    "np.round(mean_relative_abolute_error(P_t, P_e),3)"
   ]
  },
  {
   "cell_type": "markdown",
   "metadata": {},
   "source": [
    "# The exact test seems to have much lower mean relative error (missing small $p$-values penalizes as much as missing high p-values)."
   ]
  },
  {
   "cell_type": "markdown",
   "metadata": {},
   "source": [
    "## Let's check what type of $p$-values that Mann-Whitney test misses"
   ]
  },
  {
   "cell_type": "code",
   "execution_count": 161,
   "metadata": {},
   "outputs": [],
   "source": [
    "rel_err = relative_abolute_error(P_t, P_mw)"
   ]
  },
  {
   "cell_type": "markdown",
   "metadata": {},
   "source": [
    "### t-test"
   ]
  },
  {
   "cell_type": "code",
   "execution_count": 162,
   "metadata": {},
   "outputs": [
    {
     "data": {
      "text/plain": [
       "array([1.18452058e-14, 1.01958742e-14, 1.55910462e-22, 1.72003584e-18])"
      ]
     },
     "execution_count": 162,
     "metadata": {},
     "output_type": "execute_result"
    }
   ],
   "source": [
    "P_t[rel_err>1000]"
   ]
  },
  {
   "cell_type": "markdown",
   "metadata": {},
   "source": [
    "### Mann-Whitney"
   ]
  },
  {
   "cell_type": "code",
   "execution_count": 163,
   "metadata": {},
   "outputs": [
    {
     "data": {
      "text/plain": [
       "array([3.95953722e-11, 3.09980303e-11, 4.88820808e-13, 3.76426971e-12])"
      ]
     },
     "execution_count": 163,
     "metadata": {},
     "output_type": "execute_result"
    }
   ],
   "source": [
    "P_mw[rel_err>1000]"
   ]
  },
  {
   "cell_type": "markdown",
   "metadata": {},
   "source": [
    "### Exact test"
   ]
  },
  {
   "cell_type": "code",
   "execution_count": 164,
   "metadata": {},
   "outputs": [
    {
     "data": {
      "text/plain": [
       "array([ 1.82964754e-13,  3.95905531e-13, -2.22044605e-16,  2.99760217e-15])"
      ]
     },
     "execution_count": 164,
     "metadata": {},
     "output_type": "execute_result"
    }
   ],
   "source": [
    "P_e[rel_err>1000]"
   ]
  },
  {
   "cell_type": "markdown",
   "metadata": {},
   "source": [
    "### It seems that the exact is pretty close to two $p$-values which MW-test struggles with."
   ]
  },
  {
   "cell_type": "markdown",
   "metadata": {},
   "source": [
    "## Let's check what type of $p$-values that Exact test misses"
   ]
  },
  {
   "cell_type": "code",
   "execution_count": 165,
   "metadata": {},
   "outputs": [],
   "source": [
    "rel_err2 = relative_abolute_error(P_t, P_e)"
   ]
  },
  {
   "cell_type": "markdown",
   "metadata": {},
   "source": [
    "### t-test"
   ]
  },
  {
   "cell_type": "code",
   "execution_count": 166,
   "metadata": {},
   "outputs": [
    {
     "data": {
      "text/plain": [
       "array([1.55910462e-22, 1.72003584e-18])"
      ]
     },
     "execution_count": 166,
     "metadata": {},
     "output_type": "execute_result"
    }
   ],
   "source": [
    "P_t[rel_err2>1000]"
   ]
  },
  {
   "cell_type": "markdown",
   "metadata": {},
   "source": [
    "### mw-test"
   ]
  },
  {
   "cell_type": "code",
   "execution_count": 167,
   "metadata": {},
   "outputs": [
    {
     "data": {
      "text/plain": [
       "array([4.88820808e-13, 3.76426971e-12])"
      ]
     },
     "execution_count": 167,
     "metadata": {},
     "output_type": "execute_result"
    }
   ],
   "source": [
    "P_mw[rel_err2>1000]"
   ]
  },
  {
   "cell_type": "markdown",
   "metadata": {},
   "source": [
    "### exact test"
   ]
  },
  {
   "cell_type": "code",
   "execution_count": 168,
   "metadata": {},
   "outputs": [
    {
     "data": {
      "text/plain": [
       "array([-2.22044605e-16,  2.99760217e-15])"
      ]
     },
     "execution_count": 168,
     "metadata": {},
     "output_type": "execute_result"
    }
   ],
   "source": [
    "P_e[rel_err2>1000]"
   ]
  },
  {
   "cell_type": "markdown",
   "metadata": {},
   "source": [
    "### It's the same $p$-values demonstrated above."
   ]
  },
  {
   "cell_type": "markdown",
   "metadata": {},
   "source": [
    "# Let's see if the residual between the exact test and the t-test by increasing the number of bins to $n_{bin}=16$."
   ]
  },
  {
   "cell_type": "code",
   "execution_count": 185,
   "metadata": {},
   "outputs": [
    {
     "name": "stdout",
     "output_type": "stream",
     "text": [
      "9.539236545562744\n"
     ]
    }
   ],
   "source": [
    "start = time.time()\n",
    "\n",
    "SGM = significance_of_mean_cuda(16, dtype_v=np.uint32,dtype_A=np.float64)\n",
    "SGM.run(TNP_Arr, NotTNP_Arr)\n",
    "P_e2_list = list(1 - SGM.p_values)\n",
    "\n",
    "end = time.time()\n",
    "print(end - start)"
   ]
  },
  {
   "cell_type": "code",
   "execution_count": 186,
   "metadata": {},
   "outputs": [],
   "source": [
    "P_e_2 =  np.array(P_e2_list) "
   ]
  },
  {
   "cell_type": "code",
   "execution_count": 193,
   "metadata": {},
   "outputs": [
    {
     "data": {
      "text/plain": [
       "0.019"
      ]
     },
     "execution_count": 193,
     "metadata": {},
     "output_type": "execute_result"
    }
   ],
   "source": [
    "np.around(MAE(P_t, P_e_2),3)"
   ]
  },
  {
   "cell_type": "code",
   "execution_count": 194,
   "metadata": {},
   "outputs": [
    {
     "data": {
      "text/plain": [
       "88.616"
      ]
     },
     "execution_count": 194,
     "metadata": {},
     "output_type": "execute_result"
    }
   ],
   "source": [
    "np.around(mean_relative_abolute_error(P_t, P_e_2),3)"
   ]
  },
  {
   "cell_type": "code",
   "execution_count": 189,
   "metadata": {},
   "outputs": [],
   "source": [
    "rel_err3 = relative_abolute_error(P_t, P_e_2)"
   ]
  },
  {
   "cell_type": "code",
   "execution_count": 190,
   "metadata": {},
   "outputs": [
    {
     "data": {
      "text/plain": [
       "array([4.88820808e-13])"
      ]
     },
     "execution_count": 190,
     "metadata": {},
     "output_type": "execute_result"
    }
   ],
   "source": [
    "P_mw[rel_err3>1000]"
   ]
  },
  {
   "cell_type": "code",
   "execution_count": 191,
   "metadata": {},
   "outputs": [
    {
     "data": {
      "text/plain": [
       "array([-2.22044605e-16])"
      ]
     },
     "execution_count": 191,
     "metadata": {},
     "output_type": "execute_result"
    }
   ],
   "source": [
    "P_e[rel_err3>1000]"
   ]
  },
  {
   "cell_type": "code",
   "execution_count": 192,
   "metadata": {},
   "outputs": [
    {
     "data": {
      "text/plain": [
       "array([1.55910462e-22])"
      ]
     },
     "execution_count": 192,
     "metadata": {},
     "output_type": "execute_result"
    }
   ],
   "source": [
    "P_t[rel_err3>1000]"
   ]
  },
  {
   "cell_type": "markdown",
   "metadata": {},
   "source": [
    "## The runtime has increased considerbly ~9s, but the error has also decreased considerbly."
   ]
  },
  {
   "cell_type": "code",
   "execution_count": null,
   "metadata": {},
   "outputs": [],
   "source": []
  }
 ],
 "metadata": {
  "kernelspec": {
   "display_name": "Python 3",
   "language": "python",
   "name": "python3"
  },
  "language_info": {
   "codemirror_mode": {
    "name": "ipython",
    "version": 3
   },
   "file_extension": ".py",
   "mimetype": "text/x-python",
   "name": "python",
   "nbconvert_exporter": "python",
   "pygments_lexer": "ipython3",
   "version": "3.7.3"
  }
 },
 "nbformat": 4,
 "nbformat_minor": 2
}
