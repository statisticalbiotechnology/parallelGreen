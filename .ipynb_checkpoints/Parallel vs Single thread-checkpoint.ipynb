{
 "cells": [
  {
   "cell_type": "code",
   "execution_count": 1,
   "metadata": {},
   "outputs": [],
   "source": [
    "from utils2 import *\n",
    "import time\n",
    "from significance_of_mean_cuda import significance_of_mean_cuda"
   ]
  },
  {
   "cell_type": "markdown",
   "metadata": {},
   "source": [
    "### Get synthetic data"
   ]
  },
  {
   "cell_type": "code",
   "execution_count": 6,
   "metadata": {},
   "outputs": [],
   "source": [
    "num_examples = 1\n",
    "N = [50,100, 150, 200, 250]\n",
    "s =  [10, 50, 100, 200]\n",
    "path = \"figures/parallelVsSingleThread\""
   ]
  },
  {
   "cell_type": "code",
   "execution_count": 4,
   "metadata": {},
   "outputs": [],
   "source": [
    "def runExperiment():\n",
    "    cpu1 = list()\n",
    "    gpu1 = list()\n",
    "    n = N[1]\n",
    "    for bins in s:\n",
    "        np.random.seed(42)\n",
    "        A = np.asarray([np.random.normal(0, 1, n) for _ in range(num_examples)])\n",
    "        B = np.asarray([np.random.normal(1, 1, n) for _ in range(num_examples)])\n",
    "\n",
    "        start = time.time()\n",
    "        SGM = significance_of_mean_cuda(bins,dtype_v=np.uint16,dtype_A=np.float64)\n",
    "        SGM.run(A,B)\n",
    "        p = SGM.get_p_values()\n",
    "        end = time.time()\n",
    "        t_gpu = end - start\n",
    "        gpu1.append(t_gpu)\n",
    "        print(\"GPU: \", t_gpu)\n",
    "    \n",
    "    \n",
    "        start = time.time()\n",
    "        P = calibration_test(A,B,bins)\n",
    "        end = time.time()\n",
    "        t_cpu = end - start\n",
    "        cpu1.append(t_cpu)\n",
    "        print(\"CPU1: \",t_cpu)\n",
    "    \n",
    "        print(np.allclose(p,P))\n",
    "    return cpu1, gpu1\n",
    "    "
   ]
  },
  {
   "cell_type": "code",
   "execution_count": null,
   "metadata": {},
   "outputs": [
    {
     "name": "stdout",
     "output_type": "stream",
     "text": [
      "This data requires 0.8294119999999999 MiB on the GPU.\n",
      "GPU:  0.035719871520996094\n",
      "CPU1:  0.14933228492736816\n",
      "True\n",
      "This data requires 4.8581 MiB on the GPU.\n",
      "GPU:  0.023515701293945312\n",
      "CPU1:  1.2780420780181885\n",
      "True\n",
      "This data requires 9.877396 MiB on the GPU.\n",
      "GPU:  0.03146958351135254\n"
     ]
    }
   ],
   "source": [
    "if __name__==\"__main__\":\n",
    "    cpu1, gpu1 = runExperiment()\n",
    "    timePlotSNS(np.array(gpu1), np.array(cpu1), np.array(s), log=False, path=getPATH(path, \"nonLog\"))\n",
    "    timePlotSNS(np.log10(np.array(gpu1)), np.log10(np.array(cpu1)), np.array(s), log=True, path=getPATH(path, \"Log\"))"
   ]
  },
  {
   "cell_type": "code",
   "execution_count": null,
   "metadata": {},
   "outputs": [],
   "source": []
  }
 ],
 "metadata": {
  "kernelspec": {
   "display_name": "Python kth-cluster",
   "language": "python",
   "name": "kth-cluster"
  },
  "language_info": {
   "codemirror_mode": {
    "name": "ipython",
    "version": 3
   },
   "file_extension": ".py",
   "mimetype": "text/x-python",
   "name": "python",
   "nbconvert_exporter": "python",
   "pygments_lexer": "ipython3",
   "version": "3.6.9"
  }
 },
 "nbformat": 4,
 "nbformat_minor": 2
}
