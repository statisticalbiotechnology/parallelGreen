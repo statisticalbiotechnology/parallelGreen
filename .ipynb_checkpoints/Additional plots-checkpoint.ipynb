{
 "cells": [
  {
   "cell_type": "code",
   "execution_count": 1,
   "metadata": {},
   "outputs": [],
   "source": [
    "import numpy as np\n",
    "from significance_of_mean_cuda import significance_of_mean_cuda\n",
    "from scipy.stats import mannwhitneyu, ttest_ind\n",
    "import pandas as pd\n",
    "import seaborn as sns\n",
    "import matplotlib.pyplot as plt\n",
    "from utils import qvalues, getdf\n",
    "\n"
   ]
  },
  {
   "cell_type": "code",
   "execution_count": 2,
   "metadata": {},
   "outputs": [
    {
     "name": "stderr",
     "output_type": "stream",
     "text": [
      "R[write to console]: Warning:\n",
      "R[write to console]:  namespace ‘pbdZMQ’ is not available and has been replaced\n",
      "by .GlobalEnv when processing object ‘.pbd_env’\n",
      "\n",
      "/home/ekvall/anaconda3/envs/my-r-env/lib/python3.7/site-packages/rpy2/robjects/pandas2ri.py:14: FutureWarning: pandas.core.index is deprecated and will be removed in a future version.  The public classes are available in the top-level namespace.\n",
      "  from pandas.core.index import Index as PandasIndex\n",
      "/home/ekvall/anaconda3/envs/my-r-env/lib/python3.7/site-packages/rpy2/robjects/pandas2ri.py:34: UserWarning: pandas >= 1.0 is not supported.\n",
      "  warnings.warn('pandas >= 1.0 is not supported.')\n"
     ]
    }
   ],
   "source": [
    "%load_ext cython\n",
    "%load_ext rpy2.ipython\n",
    "\n"
   ]
  },
  {
   "cell_type": "code",
   "execution_count": 3,
   "metadata": {},
   "outputs": [
    {
     "name": "stderr",
     "output_type": "stream",
     "text": [
      "R[write to console]: Loading required package: ggplot2\n",
      "\n",
      "R[write to console]: Installing package into ‘/usr/local/lib/R/site-library’\n",
      "(as ‘lib’ is unspecified)\n",
      "\n",
      "R[write to console]: trying URL 'https://cloud.r-project.org/src/contrib/devtools_2.2.2.tar.gz'\n",
      "\n",
      "R[write to console]: Content type 'application/x-gzip'\n",
      "R[write to console]:  length 375464 bytes (366 KB)\n",
      "\n",
      "R[write to console]: =\n",
      "R[write to console]: =\n",
      "R[write to console]: =\n",
      "R[write to console]: =\n",
      "R[write to console]: =\n",
      "R[write to console]: =\n",
      "R[write to console]: =\n",
      "R[write to console]: =\n",
      "R[write to console]: =\n",
      "R[write to console]: =\n",
      "R[write to console]: =\n",
      "R[write to console]: =\n",
      "R[write to console]: =\n",
      "R[write to console]: =\n",
      "R[write to console]: =\n",
      "R[write to console]: =\n",
      "R[write to console]: =\n",
      "R[write to console]: =\n",
      "R[write to console]: =\n",
      "R[write to console]: =\n",
      "R[write to console]: =\n",
      "R[write to console]: =\n",
      "R[write to console]: =\n",
      "R[write to console]: =\n",
      "R[write to console]: =\n",
      "R[write to console]: =\n",
      "R[write to console]: =\n",
      "R[write to console]: =\n",
      "R[write to console]: =\n",
      "R[write to console]: =\n",
      "R[write to console]: =\n",
      "R[write to console]: =\n",
      "R[write to console]: =\n",
      "R[write to console]: =\n",
      "R[write to console]: =\n",
      "R[write to console]: =\n",
      "R[write to console]: =\n",
      "R[write to console]: =\n",
      "R[write to console]: =\n",
      "R[write to console]: =\n",
      "R[write to console]: =\n",
      "R[write to console]: =\n",
      "R[write to console]: =\n",
      "R[write to console]: =\n",
      "R[write to console]: =\n",
      "R[write to console]: =\n",
      "R[write to console]: =\n",
      "R[write to console]: =\n",
      "R[write to console]: =\n",
      "R[write to console]: =\n",
      "R[write to console]: \n",
      "\n",
      "R[write to console]: downloaded 366 KB\n",
      "\n",
      "\n",
      "R[write to console]: \n",
      "\n",
      "R[write to console]: \n",
      "R[write to console]: The downloaded source packages are in\n",
      "\t‘/tmp/RtmpnA5rS7/downloaded_packages’\n",
      "R[write to console]: \n",
      "R[write to console]: \n",
      "\n",
      "R[write to console]: Loading required package: usethis\n",
      "\n",
      "R[write to console]: Skipping install of 'fastPerm' from a github remote, the SHA1 (639f37e1) has not changed since last install.\n",
      "  Use `force = TRUE` to force installation\n",
      "\n"
     ]
    }
   ],
   "source": [
    "%%R\n",
    "\n",
    "require(ggplot2)\n",
    "install.packages(\"devtools\")\n",
    "library(\"devtools\")\n",
    "install_github(\"bdsegal/fastPerm\")\n",
    "\n",
    "library(fastPerm)"
   ]
  },
  {
   "cell_type": "code",
   "execution_count": null,
   "metadata": {},
   "outputs": [],
   "source": []
  },
  {
   "cell_type": "code",
   "execution_count": null,
   "metadata": {},
   "outputs": [],
   "source": []
  },
  {
   "cell_type": "code",
   "execution_count": null,
   "metadata": {},
   "outputs": [],
   "source": []
  },
  {
   "cell_type": "code",
   "execution_count": null,
   "metadata": {},
   "outputs": [],
   "source": []
  },
  {
   "cell_type": "code",
   "execution_count": null,
   "metadata": {},
   "outputs": [],
   "source": []
  },
  {
   "cell_type": "code",
   "execution_count": 4,
   "metadata": {},
   "outputs": [],
   "source": [
    "np.random.seed(10)"
   ]
  },
  {
   "cell_type": "code",
   "execution_count": 5,
   "metadata": {},
   "outputs": [],
   "source": [
    "%%R\n",
    "    runFastPerm <- function(x,y,output, n_samples) {\n",
    "        e <- list(mode=\"vector\",length=n_samples)\n",
    "        for (i in 1:n_samples) {\n",
    "      \n",
    "            mStopDiffMean(x[[i]], y[[i]])\n",
    "            valX = fastPerm(x[[i]], y[[i]], testStat = diffMean)\n",
    "            \n",
    "            valX <-unlist(valX)\n",
    "\n",
    "      \n",
    "            output[[i]] <- as.numeric(valX[1])\n",
    "      \n",
    "            }\n",
    "    \n",
    "\n",
    "    return(output)\n",
    "\n",
    "\n",
    "    }"
   ]
  },
  {
   "cell_type": "code",
   "execution_count": 43,
   "metadata": {},
   "outputs": [],
   "source": [
    "def multiple_plot(df, save_name):\n",
    "    #sns.set(font_scale=1.5)\n",
    "\n",
    "    sns.set(style=\"white\")\n",
    "    sns.set_context(\"talk\")\n",
    "    low = min(df[\"Theoretical p-value\"])/2\n",
    "    hi = max(df[\"Theoretical p-value\"])\n",
    "    g=sns.lmplot(x='Theoretical p-value', y ='Observed p-value', data=df, \n",
    "                  fit_reg=False, height=7, truncate=True, scatter_kws={\"s\": 15}, hue=\"Test\")\n",
    "    \n",
    "    g.set(xscale=\"log\", yscale=\"log\")\n",
    "    g._legend.remove()\n",
    "\n",
    "\n",
    "    plt.xlabel(r'Theoretical $\\it{p}$ value', fontsize=24)\n",
    "    plt.ylabel(r'Observed $\\it{p}$ value', fontsize=24)\n",
    "    \n",
    "    axes = g.axes\n",
    "    g.set(ylim=(low,hi), xlim=(low,hi))\n",
    "    plt.plot([low,hi],[low,hi], \"k\", linewidth=1)\n",
    "    plt.plot([2 * low,2 * hi],[low,hi], \"--k\", linewidth=1)\n",
    "    plt.plot([low / 2,hi / 2],[low,hi], \"--k\", linewidth=1)\n",
    "    sns.set_style(\"ticks\")\n",
    "    sns.despine()\n",
    "    g.fig.tight_layout()\n",
    "    \n",
    "    \n",
    "    plt.legend().set_title('')\n",
    "    plt.legend(loc=2,prop={'size': 24})\n",
    "    plt.xticks(size = 24)\n",
    "    plt.yticks(size = 24)\n",
    "\n",
    "\n",
    "    \n",
    "    g.savefig(save_name)"
   ]
  },
  {
   "cell_type": "code",
   "execution_count": 15,
   "metadata": {},
   "outputs": [],
   "source": [
    "def sns_plot(df, save_name=None):\n",
    "    #sns.set(font_scale=1.5)\n",
    "    sns.set(style=\"white\")\n",
    "    sns.set_context(\"talk\")\n",
    "    c1, c2 = df.columns\n",
    "    low = min(min(df[c1]), min(df[c2]))\n",
    "    hi = max(max(df[c1]), max(df[c2]))\n",
    "    \n",
    "    g=sns.lmplot(x=c1, y =c2, data=df, \n",
    "                  fit_reg=False, height=7, truncate=True, scatter_kws={\"s\": 15})\n",
    "    \n",
    "    g.set(xscale=\"log\", yscale=\"log\")\n",
    "    axes = g.axes\n",
    "    g.set(ylim=(low,hi), xlim=(low,hi))\n",
    "    plt.plot([low,hi],[low,hi], \"k\", linewidth=1)\n",
    "    sns.set_style(\"ticks\")\n",
    "    sns.despine()\n",
    "    g.fig.tight_layout()\n",
    "    if save_name:\n",
    "        g.savefig(save_name)"
   ]
  },
  {
   "cell_type": "code",
   "execution_count": 16,
   "metadata": {},
   "outputs": [],
   "source": [
    "\n",
    "    \n",
    "def exactTest(A,B, bins=10, one_side=True):\n",
    "    SGM = significance_of_mean_cuda(bins, dtype_v=np.uint32,dtype_A=np.float64, )\n",
    "    SGM.run(np.asarray(A),np.asarray(B), midP=True)\n",
    "    if one_side:\n",
    "        return SGM.get_p_values()\n",
    "    else:\n",
    "        return [2 * min( p, (1-p)) for p in SGM.get_p_values()]\n",
    "\n",
    "def MWU(A, B, one_side=True):\n",
    "    p_mw = list()\n",
    "    for a,b in zip(A, B):\n",
    "        if one_side:\n",
    "            p_mw.append(mannwhitneyu(a,b, alternative=\"less\")[1])\n",
    "        else:\n",
    "            p_mw.append(mannwhitneyu(a,b, alternative=\"two-sided\")[1])\n",
    "    return p_mw\n",
    "\n",
    "def ttests(A,B, one_side=True):\n",
    "    p_t = list()\n",
    "    for x, y in zip(A, B):\n",
    "        t, p = ttest_ind(y, x)\n",
    "        if one_side:\n",
    "            p = p/2\n",
    "            if t<0:\n",
    "                p = 1-p\n",
    "        p_t.append(p)\n",
    "    return p_t\n"
   ]
  },
  {
   "cell_type": "code",
   "execution_count": 17,
   "metadata": {},
   "outputs": [],
   "source": [
    "def fastPerm(A,B):\n",
    "    print(A.shape)\n",
    "    x = pd.DataFrame(A, columns=list(range(A.shape[1]))).T\n",
    "    y = pd.DataFrame(B, columns=list(range(B.shape[1]))).T\n",
    "    n_samples = x.shape[1]\n",
    "    outputDf = pd.DataFrame(n_samples * [0], columns=[\"output\"]).T\n",
    "    \n",
    "    %R -i x\n",
    "    %R -i y\n",
    "    %R -i outputDf\n",
    "    %R -i n_samples\n",
    "    \n",
    "    \n",
    "    %R out <- runFastPerm(x,y, outputDf, n_samples)\n",
    "    \n",
    "    \n",
    "    %R -o out\n",
    "    return list(out.T[\"output\"].values)"
   ]
  },
  {
   "cell_type": "code",
   "execution_count": 18,
   "metadata": {},
   "outputs": [],
   "source": [
    "class createQvaluePlot:\n",
    "    def __init__(self, pExactList=None, pMWUList=None, pTtestList=None, pFastPermList=None):\n",
    "        if isinstance(pExactList, list):\n",
    "            self.df_e = qvalues(self.getPvalueDf(pExactList), pi0=None)\n",
    "        else:\n",
    "            self.df_e = None\n",
    "        \n",
    "        if isinstance(pMWUList, list):\n",
    "            self.df_mw = qvalues(self.getPvalueDf(pMWUList), pi0=None)\n",
    "        else:\n",
    "            self.df_mw = None\n",
    "        \n",
    "        if isinstance(pTtestList, list):\n",
    "            self.df_tt = qvalues(self.getPvalueDf(pTtestList), pi0=None)\n",
    "        else:\n",
    "            self.df_tt = None\n",
    "            \n",
    "        if isinstance(pFastPermList, list):\n",
    "            self.df_fp = qvalues(self.getPvalueDf(pFastPermList), pi0=None)\n",
    "        else:\n",
    "            self.df_fp = None\n",
    "            \n",
    "    \n",
    "    def getPvalueDf(self, pList):\n",
    "        return pd.DataFrame({\"p\":np.array(pList).copy()})\n",
    "    \n",
    "    def preparePandas(self, q_values, cumulative, test=\"Parallel Green\"):\n",
    "        preparePd = list()\n",
    "        for q, cum in zip(q_values, cumulative):\n",
    "            preparePd.append([q, cum, test])\n",
    "        return preparePd\n",
    "    \n",
    "    def filerByQval(self, df, treshold=0.1):\n",
    "        return df[\"q\"][df[\"q\"]<treshold]\n",
    "    \n",
    "    def getPlotData(self, df, test=\"Parallel Green\"):\n",
    "        values, base = np.histogram(df, bins=120)\n",
    "        cumulative = np.cumsum(values)\n",
    "        data = preparePandas(base[:-1], cumulative, test)\n",
    "        return data\n",
    "    \n",
    "    def createPlot(self):\n",
    "        D = None\n",
    "        if isinstance(self.df_e, pd.core.frame.DataFrame):\n",
    "            data_e = self.getPlotData(self.filerByQval(self.df_e), \"Parallel Green\")\n",
    "            if not D:\n",
    "                D = data_e\n",
    "            else:\n",
    "                D += data_e\n",
    "        \n",
    "        if isinstance(self.df_mw, pd.core.frame.DataFrame):\n",
    "            data_mw = self.getPlotData(self.filerByQval(self.df_mw), \"Mann–Whitney U-test\")\n",
    "            if not D:\n",
    "                D = data_mw\n",
    "            else:\n",
    "                D += data_mw\n",
    "\n",
    "        \n",
    "        if isinstance(self.df_tt, pd.core.frame.DataFrame):\n",
    "            data_tt = self.getPlotData(self.filerByQval(self.df_tt), \"$\\it{t}$-test\")\n",
    "            if not D:\n",
    "                D = data_tt\n",
    "            else:\n",
    "                D += data_tt\n",
    "            \n",
    "            \n",
    "        if isinstance(self.df_fp, pd.core.frame.DataFrame):\n",
    "            data_fp = self.getPlotData(self.filerByQval(self.df_fp), \"FastPerm\")\n",
    "            if not D:\n",
    "                D = data_fp\n",
    "            else:\n",
    "                D += data_fp\n",
    "\n",
    "        if D:\n",
    "            pdData = pd.DataFrame(D, columns=['%','n', 'Method'])\n",
    "            self.qPlot(pdData)\n",
    "    \n",
    "    def qPlot(self, df):\n",
    "        a4_dims = (11.7, 8.27)\n",
    "\n",
    "        fig, ax = plt.subplots(figsize=a4_dims)\n",
    "\n",
    "        sns.set(style=\"white\")\n",
    "        sns.set_context(\"talk\")\n",
    "\n",
    "        snsPlot = sns.lineplot(x=\"%\", y=\"n\",\n",
    "             hue=\"Method\",\n",
    "             data=df, ax=ax)\n",
    "\n",
    "        plt.ylabel(r\"$n_{proteins}$\",fontsize=20)\n",
    "        \n",
    "        \n",
    "        plt.xlabel(r\"$q-value\\ (\\%)$\",fontsize=15)\n",
    "\n",
    "        sns.set_style(\"ticks\")\n",
    "        sns.despine()\n",
    "        plt.tight_layout()\n",
    "        plt.savefig(\"figures/experiment/n_proteins\")"
   ]
  },
  {
   "cell_type": "code",
   "execution_count": 19,
   "metadata": {},
   "outputs": [],
   "source": [
    "def getSynteticData(func, setN=20, sampleN=2_000, mean=0, std=1):\n",
    "    np.random.seed(10)\n",
    "    AN, BN = [func(mean,std,setN) for i in range(sampleN)], [func(0,std,setN) for i in range(sampleN)]\n",
    "    return AN, BN"
   ]
  },
  {
   "cell_type": "code",
   "execution_count": 20,
   "metadata": {},
   "outputs": [],
   "source": [
    "from scipy import stats\n",
    "def r2(x, y):\n",
    "    #return stats.pearsonr(x, y)[0] ** 2\n",
    "    #return mean_squared_error(x,y)\n",
    "    z=(x-y)/y\n",
    "    z_abs = np.abs(z)\n",
    "    \n",
    "def my_scatter_plot(df):\n",
    "    sns.set(style=\"white\")\n",
    "    sns.set_context(\"talk\")\n",
    "    low = min(df[\"Theoretical p-value\"])\n",
    "    hi = max(df[\"Theoretical p-value\"])\n",
    "    f, ax = plt.subplots(figsize=(7, 7))\n",
    "    #ax.set(xscale=\"log\", yscale=\"log\")\n",
    "    \n",
    "    #err2 = r2(df[\"Observed p-value\"], df[\"Theoretical p-value\"])\n",
    "    \n",
    "    g=sns.regplot(x='Theoretical p-value', y ='Observed p-value', data=df,  ax=ax, fit_reg=False, \n",
    "                  scatter_kws={\"s\": 5})\n",
    "    g.plot([low,hi], [low,hi], 'k-', linewidth=.5)\n",
    "    \n",
    "    sns.despine()\n",
    "    #plt.title(\"Mean relative error : {}\".format(np.around(err2,6)))\n",
    "    f.tight_layout()\n"
   ]
  },
  {
   "cell_type": "code",
   "execution_count": 21,
   "metadata": {},
   "outputs": [],
   "source": [
    "def getPrediction(A,B):\n",
    "    Data = dict()\n",
    "    \n",
    "    Data[\"eList\"] = exactTest(B, A, 35, False)\n",
    "    Data[\"fpList\"] = fastPerm(np.array(A),np.array(B))\n",
    "    Data[\"mwuList\"] = MWU(A, B, False)\n",
    "    Data[\"ttList\"] = ttests(A, B, False)\n",
    "    \n",
    "    Data[\"eVttDf\"] = pd.DataFrame(data=\n",
    "                                  {'Parallel Green': Data[\"eList\"], 'Ttest': Data[\"ttList\"] })\n",
    "    Data[\"mwuVttDf\"] = pd.DataFrame(data={'Mann–Whitney U-test': Data[\"mwuList\"], 'Ttest': Data[\"ttList\"]})\n",
    "    Data[\"eVmwuDf\"] = pd.DataFrame(data={'Parallel Green': Data[\"eList\"], 'Mann–Whitney U-test': Data[\"mwuList\"]})\n",
    "\n",
    "    Data[\"eVfpDf\"] = pd.DataFrame(data={'Parallel Green': Data[\"eList\"], 'FastPerm': Data[\"fpList\"]})\n",
    "    Data[\"mwuVfpDf\"] = pd.DataFrame(data={'Mann–Whitney U-test': Data[\"mwuList\"], 'FastPerm': Data[\"fpList\"]})\n",
    "    Data[\"ttVfpDf\"] = pd.DataFrame(data={'Ttest': Data[\"ttList\"], 'FastPerm': Data[\"fpList\"]})\n",
    "                                                      \n",
    "    return Data\n",
    "\n",
    "    \n",
    "\n",
    "    "
   ]
  },
  {
   "cell_type": "markdown",
   "metadata": {},
   "source": [
    "# $A \\sim N(0,1)\\ and B \\sim N(0,1)$. $ |A|=20$ and $|B|=20$ with $2000$ samples."
   ]
  },
  {
   "cell_type": "code",
   "execution_count": 22,
   "metadata": {},
   "outputs": [
    {
     "name": "stdout",
     "output_type": "stream",
     "text": [
      "(20000, 20)\n",
      "CPU times: user 52min 45s, sys: 1.82 s, total: 52min 47s\n",
      "Wall time: 52min 46s\n"
     ]
    }
   ],
   "source": [
    "AN, BN = getSynteticData(np.random.normal,mean=0,sampleN=20_000)\n",
    "%time DataNormNoDiff = getPrediction(AN, BN)"
   ]
  },
  {
   "cell_type": "code",
   "execution_count": 32,
   "metadata": {},
   "outputs": [],
   "source": [
    "normfpDf = getdf(DataNormNoDiff[\"fpList\"], 20_000, \"FastPerm\")\n",
    "normexactDf = getdf(DataNormNoDiff[\"eList\"], 20_000, \"Parallel Green\")\n",
    "normttDf = getdf(DataNormNoDiff[\"ttList\"], 20_000, \"$\\it{T}$ test\")\n",
    "normmwuDf = getdf(DataNormNoDiff[\"mwuList\"], 20_000, \"Mann–Whitney $\\it{U}$ test\")"
   ]
  },
  {
   "cell_type": "code",
   "execution_count": 44,
   "metadata": {},
   "outputs": [
    {
     "data": {
      "image/png": "[encoded data removed]",
      "text/plain": [
       "<Figure size 722.236x504 with 1 Axes>"
      ]
     },
     "metadata": {},
     "output_type": "display_data"
    }
   ],
   "source": [
    "multiple_plot(pd.concat((normfpDf, normexactDf, normttDf, normmwuDf)), \"figures/calibration/largeSample_10000_20/allTests_0_1_50\")\n",
    "              \n",
    "              "
   ]
  },
  {
   "cell_type": "code",
   "execution_count": null,
   "metadata": {},
   "outputs": [],
   "source": [
    "sns_plot(DataNormNoDiff[\"eVttDf\"]) \n",
    "sns_plot(DataNormNoDiff[\"mwuVttDf\"])\n",
    "sns_plot(DataNormNoDiff[\"eVmwuDf\"])\n",
    "sns_plot(DataNormNoDiff[\"eVfpDf\"])\n",
    "sns_plot(DataNormNoDiff[\"ttVfpDf\"])\n",
    "sns_plot(DataNormNoDiff[\"mwuVfpDf\"])"
   ]
  },
  {
   "cell_type": "code",
   "execution_count": null,
   "metadata": {},
   "outputs": [],
   "source": [
    "\n",
    "createQvaluePlot(DataNormNoDiff[\"eList\"], \n",
    "                 DataNormNoDiff[\"mwuList\"], \n",
    "                 DataNormNoDiff[\"ttList\"],\n",
    "                 DataNormNoDiff[\"fpList\"]\n",
    "                ).createPlot()\n",
    "\n"
   ]
  },
  {
   "cell_type": "markdown",
   "metadata": {},
   "source": [
    "# $A \\sim N(0,1)\\ and B \\sim N(0.5,1)$. $ |A|=20$ and $|B|=20$ with $2000$ samples."
   ]
  },
  {
   "cell_type": "code",
   "execution_count": null,
   "metadata": {},
   "outputs": [],
   "source": [
    "AN, BN = getSynteticData(np.random.normal, mean=0.5, sampleN=8000)\n",
    "DataNormDiff = getPrediction(AN, BN)"
   ]
  },
  {
   "cell_type": "code",
   "execution_count": null,
   "metadata": {},
   "outputs": [],
   "source": []
  },
  {
   "cell_type": "code",
   "execution_count": null,
   "metadata": {},
   "outputs": [],
   "source": [
    "sns_plot(DataNormDiff[\"eVttDf\"]) \n",
    "sns_plot(DataNormDiff[\"mwuVttDf\"])\n",
    "sns_plot(DataNormDiff[\"eVmwuDf\"])\n",
    "sns_plot(DataNormDiff[\"eVfpDf\"])\n",
    "sns_plot(DataNormDiff[\"ttVfpDf\"])\n",
    "sns_plot(DataNormDiff[\"mwuVfpDf\"])"
   ]
  },
  {
   "cell_type": "code",
   "execution_count": null,
   "metadata": {},
   "outputs": [],
   "source": [
    "createQvaluePlot(DataNormDiff[\"eList\"], \n",
    "                 DataNormDiff[\"mwuList\"], \n",
    "                 DataNormDiff[\"ttList\"],\n",
    "                 DataNormDiff[\"fpList\"]\n",
    "                ).createPlot()\n",
    "\n"
   ]
  },
  {
   "cell_type": "markdown",
   "metadata": {},
   "source": [
    "# $A \\sim logN(0,1)\\ and B \\sim logN(0,1)$. $ |A|=20$ and $|B|=20$ with $2000$ samples."
   ]
  },
  {
   "cell_type": "code",
   "execution_count": 25,
   "metadata": {},
   "outputs": [
    {
     "name": "stdout",
     "output_type": "stream",
     "text": [
      "(20000, 20)\n"
     ]
    }
   ],
   "source": [
    "AN, BN = getSynteticData(np.random.lognormal, mean=0, sampleN=20_000)\n",
    "DataLogNormNonDiff = getPrediction(AN, BN)"
   ]
  },
  {
   "cell_type": "code",
   "execution_count": null,
   "metadata": {},
   "outputs": [],
   "source": [
    "sns_plot(DataLogNormNonDiff[\"eVttDf\"]) \n",
    "sns_plot(DataLogNormNonDiff[\"mwuVttDf\"])\n",
    "sns_plot(DataLogNormNonDiff[\"eVmwuDf\"])\n",
    "sns_plot(DataLogNormNonDiff[\"eVfpDf\"])\n",
    "sns_plot(DataLogNormNonDiff[\"ttVfpDf\"])\n",
    "sns_plot(DataLogNormNonDiff[\"mwuVfpDf\"])"
   ]
  },
  {
   "cell_type": "code",
   "execution_count": 41,
   "metadata": {},
   "outputs": [],
   "source": [
    "logfpDf = getdf(DataLogNormNonDiff[\"fpList\"], 20_000, \"FastPerm\")\n",
    "logexactDf = getdf(DataLogNormNonDiff[\"eList\"], 20_000, \"Parallel Green\")\n",
    "logttDf = getdf(DataLogNormNonDiff[\"ttList\"], 20_000, \"$\\it{T}$ test\")\n",
    "logmwuDf = getdf(DataLogNormNonDiff[\"mwuList\"], 20_000, \"Mann–Whitney $\\it{U}$ test\")"
   ]
  },
  {
   "cell_type": "code",
   "execution_count": 45,
   "metadata": {},
   "outputs": [
    {
     "data": {
      "image/png": "[encoded data removed]",
      "text/plain": [
       "<Figure size 722.236x504 with 1 Axes>"
      ]
     },
     "metadata": {},
     "output_type": "display_data"
    }
   ],
   "source": [
    "multiple_plot(pd.concat((logfpDf, logexactDf, logttDf, logmwuDf)), \"figures/calibration/largeSample_10000_20/allTestsLog_0_1_50\")\n"
   ]
  },
  {
   "cell_type": "code",
   "execution_count": null,
   "metadata": {},
   "outputs": [],
   "source": [
    "createQvaluePlot(DataLogNormNonDiff[\"eList\"], \n",
    "                 DataLogNormNonDiff[\"mwuList\"], \n",
    "                 DataLogNormNonDiff[\"ttList\"],\n",
    "                 DataLogNormNonDiff[\"fpList\"]\n",
    "                ).createPlot()\n",
    "\n"
   ]
  },
  {
   "cell_type": "markdown",
   "metadata": {},
   "source": [
    "# $A \\sim logN(0,1)\\ and B \\sim logN(0.5,1)$. $ |A|=20$ and $|B|=20$ with $2000$ samples."
   ]
  },
  {
   "cell_type": "code",
   "execution_count": null,
   "metadata": {},
   "outputs": [],
   "source": [
    "AN, BN = getSynteticData(np.random.lognormal, mean=0.5, sampleN=20_000)\n",
    "DataLogNormDiff = getPrediction(AN, BN)"
   ]
  },
  {
   "cell_type": "code",
   "execution_count": null,
   "metadata": {},
   "outputs": [],
   "source": [
    "sns_plot(DataLogNormDiff[\"eVttDf\"]) \n",
    "sns_plot(DataLogNormDiff[\"mwuVttDf\"])\n",
    "sns_plot(DataLogNormDiff[\"eVmwuDf\"])\n",
    "sns_plot(DataLogNormDiff[\"eVfpDf\"])\n",
    "sns_plot(DataLogNormDiff[\"ttVfpDf\"])\n",
    "sns_plot(DataLogNormDiff[\"mwuVfpDf\"])"
   ]
  },
  {
   "cell_type": "code",
   "execution_count": null,
   "metadata": {},
   "outputs": [],
   "source": [
    "createQvaluePlot(DataLogNormDiff[\"eList\"], \n",
    "                 DataLogNormDiff[\"mwuList\"], \n",
    "                 DataLogNormDiff[\"ttList\"],\n",
    "                 DataLogNormDiff[\"fpList\"]\n",
    "                ).createPlot()\n"
   ]
  },
  {
   "cell_type": "markdown",
   "metadata": {},
   "source": [
    "# Experiemntal data: There are 80 patients without triple negative (NTN) and 26 patients with triple negtive (TN), and with a total of 8051 quantified genes."
   ]
  },
  {
   "cell_type": "code",
   "execution_count": null,
   "metadata": {},
   "outputs": [],
   "source": [
    "NotTNP_df = pd.read_csv(\"data/notTNPdf\", index_col=0)\n",
    "TNP_df = pd.read_csv(\"data/TNPdf\", index_col=0)\n",
    "NotTNPList = [x for x in NotTNP_df.values]\n",
    "TNP_dfList = [x for x in TNP_df.values]"
   ]
  },
  {
   "cell_type": "code",
   "execution_count": null,
   "metadata": {},
   "outputs": [],
   "source": [
    "DataExperiemnt = getPrediction(NotTNPList, TNP_dfList)"
   ]
  },
  {
   "cell_type": "code",
   "execution_count": null,
   "metadata": {},
   "outputs": [],
   "source": [
    "sns_plot(DataExperiemnt[\"eVttDf\"]) \n",
    "sns_plot(DataExperiemnt[\"mwuVttDf\"])\n",
    "sns_plot(DataExperiemnt[\"eVmwuDf\"])\n",
    "sns_plot(DataExperiemnt[\"eVfpDf\"])\n",
    "sns_plot(DataExperiemnt[\"ttVfpDf\"])\n",
    "sns_plot(DataExperiemnt[\"mwuVfpDf\"])"
   ]
  },
  {
   "cell_type": "code",
   "execution_count": null,
   "metadata": {},
   "outputs": [],
   "source": [
    "createQvaluePlot(DataExperiemnt[\"eList\"], \n",
    "                 DataExperiemnt[\"mwuList\"], \n",
    "                 DataExperiemnt[\"ttList\"],\n",
    "                 DataExperiemnt[\"fpList\"]\n",
    "                ).createPlot()\n"
   ]
  },
  {
   "cell_type": "code",
   "execution_count": null,
   "metadata": {},
   "outputs": [],
   "source": []
  },
  {
   "cell_type": "code",
   "execution_count": null,
   "metadata": {},
   "outputs": [],
   "source": []
  },
  {
   "cell_type": "code",
   "execution_count": null,
   "metadata": {},
   "outputs": [],
   "source": [
    "pFastPermList = fastPerm(np.array(TNP_dfList),np.array(NotTNPList))\n",
    "pExactList = exactTest(TNP_dfList, NotTNPList, 30, False)\n",
    "pMWUList = MWU(NotTNPList, TNP_dfList, False)\n",
    "pTtestList = ttests(NotTNPList, TNP_dfList, False)"
   ]
  },
  {
   "cell_type": "code",
   "execution_count": null,
   "metadata": {},
   "outputs": [],
   "source": [
    "dataExactTtest = pd.DataFrame(data={'parallelized': pExactList, 'ttest': pTtestList})\n",
    "dataMWUTtest = pd.DataFrame(data={'MWU': pMWUList, 'ttest': pTtestList})\n",
    "dataEaxactMWU = pd.DataFrame(data={'parallelized': pExactList, 'MWU': pMWUList})\n",
    "\n",
    "dataExactFastPerm = pd.DataFrame(data={'parallelized': pExactList, 'fastPerm': pFastPermList})\n",
    "dataMWUFastPerm = pd.DataFrame(data={'MWU': pMWUList, 'fastPerm': pFastPermList})\n",
    "dataTtestastPerm = pd.DataFrame(data={'ttest': pTtestList, 'fastPerm': pFastPermList})\n"
   ]
  },
  {
   "cell_type": "code",
   "execution_count": null,
   "metadata": {},
   "outputs": [],
   "source": [
    "sns_plot(dataExactTtest)"
   ]
  },
  {
   "cell_type": "code",
   "execution_count": null,
   "metadata": {},
   "outputs": [],
   "source": [
    "sns_plot(dataEaxactMWU)"
   ]
  },
  {
   "cell_type": "code",
   "execution_count": null,
   "metadata": {},
   "outputs": [],
   "source": [
    "sns_plot(dataMWUTtest)\n"
   ]
  },
  {
   "cell_type": "code",
   "execution_count": null,
   "metadata": {},
   "outputs": [],
   "source": [
    "sns_plot(dataTtestastPerm)"
   ]
  },
  {
   "cell_type": "code",
   "execution_count": null,
   "metadata": {},
   "outputs": [],
   "source": [
    "sns_plot(dataMWUFastPerm)"
   ]
  },
  {
   "cell_type": "code",
   "execution_count": null,
   "metadata": {},
   "outputs": [],
   "source": []
  },
  {
   "cell_type": "code",
   "execution_count": null,
   "metadata": {},
   "outputs": [],
   "source": [
    "type(dataTtestastPerm)"
   ]
  },
  {
   "cell_type": "code",
   "execution_count": null,
   "metadata": {},
   "outputs": [],
   "source": [
    "\n",
    "\n",
    "        \n",
    "\n",
    "        \n",
    "        \n",
    "        \n",
    "    \n",
    "        \n",
    "        \n",
    "    "
   ]
  },
  {
   "cell_type": "code",
   "execution_count": null,
   "metadata": {},
   "outputs": [],
   "source": [
    "df_e = pd.DataFrame({\"p\":np.array(pExactList).copy()})\n",
    "df_mw = pd.DataFrame({\"p\":np.array(pMWUList).copy()})\n",
    "df_tt = pd.DataFrame({\"p\":np.array(pTtestList).copy()})\n",
    "df_fp = pd.DataFrame({\"p\":np.array(pFastPermList).copy() })\n",
    "\n",
    "df_e = qvalues(df_e, pi0=None)\n",
    "df_mw = qvalues(df_mw, pi0=None)\n",
    "df_tt = qvalues(df_tt, pi0=None)\n",
    "df_fp = qvalues(df_fp, pi0=None)"
   ]
  },
  {
   "cell_type": "code",
   "execution_count": null,
   "metadata": {},
   "outputs": [],
   "source": [
    "data_e = df_e[\"q\"][df_e[\"q\"]<0.1]\n",
    "data_mw = df_mw[\"q\"][df_mw[\"q\"]<0.1]\n",
    "data_tt = df_tt[\"q\"][df_tt[\"q\"]<0.1]\n",
    "data_fp = df_fp[\"q\"][df_fp[\"q\"]<0.1]\n"
   ]
  },
  {
   "cell_type": "code",
   "execution_count": null,
   "metadata": {},
   "outputs": [],
   "source": [
    "def preparePandas(q_values, cumulative, test=\"parallelized shift\"):\n",
    "    preparePd = list()\n",
    "    for q, cum in zip(q_values, cumulative):\n",
    "        preparePd.append([q, cum, test])\n",
    "    return preparePd"
   ]
  },
  {
   "cell_type": "code",
   "execution_count": null,
   "metadata": {},
   "outputs": [],
   "source": [
    "values, base = np.histogram(data_e, bins=120)\n",
    "cumulative = np.cumsum(values)\n",
    "exactData = preparePandas(base[:-1], cumulative)\n",
    "\n",
    "values, base = np.histogram(data_mw, bins=120)\n",
    "cumulative = np.cumsum(values)\n",
    "mwuData = preparePandas(base[:-1], cumulative, \"MWU\")\n",
    "\n",
    "values, base = np.histogram(data_tt, bins=120)\n",
    "cumulative = np.cumsum(values)\n",
    "ttData = preparePandas(base[:-1], cumulative, \"t test\")\n",
    "\n",
    "values, base = np.histogram(data_fp, bins=120)\n",
    "cumulative = np.cumsum(values)\n",
    "fpData = preparePandas(base[:-1], cumulative, \"fastPerm\")"
   ]
  },
  {
   "cell_type": "code",
   "execution_count": null,
   "metadata": {},
   "outputs": [],
   "source": [
    "D = exactData +  mwuData + ttData + fpData\n",
    "pdData = pd.DataFrame(D, columns=['%','n', 'Method'])"
   ]
  },
  {
   "cell_type": "code",
   "execution_count": null,
   "metadata": {},
   "outputs": [],
   "source": [
    "a4_dims = (11.7, 8.27)\n",
    "\n",
    "fig, ax = plt.subplots(figsize=a4_dims)\n",
    "\n",
    "sns.set(style=\"white\")\n",
    "sns.set_context(\"talk\")\n",
    "\n",
    "snsPlot = sns.lineplot(x=\"%\", y=\"n\",\n",
    "             hue=\"Method\",\n",
    "             data=pdData, ax=ax)\n",
    "\n",
    "plt.ylabel(r\"$n_{proteins}$\",fontsize=20)\n",
    "        \n",
    "        \n",
    "plt.xlabel(r\"$q-value\\ (\\%)$\",fontsize=15)\n",
    "\n",
    "sns.set_style(\"ticks\")\n",
    "sns.despine()\n",
    "plt.tight_layout()\n",
    "plt.savefig(\"figures/experiment/n_proteins\")\n"
   ]
  },
  {
   "cell_type": "code",
   "execution_count": null,
   "metadata": {},
   "outputs": [],
   "source": []
  },
  {
   "cell_type": "code",
   "execution_count": null,
   "metadata": {},
   "outputs": [],
   "source": [
    "np.random.seed(10)\n",
    "set_n = 20\n",
    "sample_n = 2_000\n",
    "AN, BN = [np.random.normal(0.5,1,set_n) for i in range(sample_n)], [np.random.normal(0,1,set_n) for i in range(sample_n)]"
   ]
  },
  {
   "cell_type": "code",
   "execution_count": null,
   "metadata": {},
   "outputs": [],
   "source": [
    "pFastPermListNormDiff = fastPerm(np.array(AN),np.array(BN))\n",
    "pExactListNormDiff = exactTest(BN, AN, 50, False)\n",
    "pMWUListNormDiff = MWU(AN, BN, False)\n",
    "pTtestListNormDiff = ttests(AN, BN, False)"
   ]
  },
  {
   "cell_type": "code",
   "execution_count": null,
   "metadata": {},
   "outputs": [],
   "source": [
    "dataExactTtestNormDiff = pd.DataFrame(data={'parallelized': pExactListNormDiff, 'ttest': pTtestListNormDiff})\n",
    "dataMWUTtestNormDiff = pd.DataFrame(data={'MWU': pMWUListNormDiff, 'ttest': pTtestListNormDiff})\n",
    "dataEaxactMWUNormDiff = pd.DataFrame(data={'parallelized': pExactListNormDiff, 'MWU': pMWUListNormDiff})\n",
    "\n",
    "dataExactFastPermNormDiff = pd.DataFrame(data={'parallelized': pExactListNormDiff, 'fastPerm': pFastPermListNormDiff})\n",
    "dataMWUFastPermNormDiff = pd.DataFrame(data={'MWU': pMWUListNormDiff, 'fastPerm': pFastPermListNormDiff})\n",
    "dataTtestastPermNormDiff = pd.DataFrame(data={'ttest': pTtestListNormDiff, 'fastPerm': pFastPermListNormDiff})\n"
   ]
  },
  {
   "cell_type": "code",
   "execution_count": null,
   "metadata": {},
   "outputs": [],
   "source": [
    "sns_plot(dataExactTtestNormDiff)"
   ]
  },
  {
   "cell_type": "code",
   "execution_count": null,
   "metadata": {},
   "outputs": [],
   "source": [
    "sns_plot(dataMWUTtestNormDiff)"
   ]
  },
  {
   "cell_type": "code",
   "execution_count": null,
   "metadata": {},
   "outputs": [],
   "source": [
    "sns_plot(dataEaxactMWUNormDiff)"
   ]
  },
  {
   "cell_type": "code",
   "execution_count": null,
   "metadata": {},
   "outputs": [],
   "source": [
    "sns_plot(dataExactFastPermNormDiff)"
   ]
  },
  {
   "cell_type": "code",
   "execution_count": null,
   "metadata": {},
   "outputs": [],
   "source": [
    "sns_plot(dataMWUFastPermNormDiff)"
   ]
  },
  {
   "cell_type": "code",
   "execution_count": null,
   "metadata": {},
   "outputs": [],
   "source": [
    "sns_plot(dataTtestastPermNormDiff)"
   ]
  },
  {
   "cell_type": "code",
   "execution_count": null,
   "metadata": {},
   "outputs": [],
   "source": [
    "Q = createQvaluePlot(pExactListNormDiff, pMWUListNormDiff, pTtestList, pFastPermListNormDiff).createPlot()\n",
    "Q.createPlot()"
   ]
  },
  {
   "cell_type": "code",
   "execution_count": null,
   "metadata": {},
   "outputs": [],
   "source": []
  },
  {
   "cell_type": "code",
   "execution_count": null,
   "metadata": {},
   "outputs": [],
   "source": [
    "set_n = 20\n",
    "sample_n = 2_000\n",
    "AN, BN = [np.random.lognormal(0,2,set_n) for i in range(sample_n)], [np.random.lognormal(0,2,set_n) for i in range(sample_n)]\n",
    "\n",
    "\n",
    "pFastPermListLogDiff = fastPerm(np.array(AN),np.array(BN))\n",
    "pExactListLogDiff = exactTest(BN, AN, 50, False)\n",
    "pMWUListLogDiff = MWU(AN, BN, False)\n",
    "pTtestListLogDiff = ttests(AN, BN, False)"
   ]
  },
  {
   "cell_type": "code",
   "execution_count": null,
   "metadata": {},
   "outputs": [],
   "source": [
    "keep_ix = np.array(pExactListLogDiff) > 10**-10"
   ]
  },
  {
   "cell_type": "code",
   "execution_count": null,
   "metadata": {},
   "outputs": [],
   "source": [
    "dataExactTtestLogDiff = pd.DataFrame(data={'parallelized': np.array(pExactListLogDiff)[keep_ix], 'ttest': np.array(pTtestListLogDiff)[keep_ix]})\n",
    "dataMWUTtestLogDiff = pd.DataFrame(data={'MWU': np.array(pMWUListLogDiff)[keep_ix], 'ttest': np.array(pTtestListLogDiff)[keep_ix]})\n",
    "dataEaxactMWULogDiff = pd.DataFrame(data={'parallelized': np.array(pExactListLogDiff)[keep_ix], 'MWU': np.array(pMWUListLogDiff)[keep_ix]})\n",
    "\n",
    "dataExactFastPermLogDiff = pd.DataFrame(data={'parallelized': np.array(pExactListLogDiff)[keep_ix], 'fastPerm': np.array(pFastPermListLogDiff)[keep_ix]})\n",
    "dataMWUFastPermLogDiff = pd.DataFrame(data={'MWU': np.array(pMWUListLogDiff)[keep_ix], 'fastPerm': np.array(pFastPermListLogDiff)[keep_ix]})\n",
    "dataTtestastPermLogDiff = pd.DataFrame(data={'ttest': np.array(pTtestListLogDiff)[keep_ix], 'fastPerm': np.array(pFastPermListLogDiff)[keep_ix]})\n"
   ]
  },
  {
   "cell_type": "code",
   "execution_count": null,
   "metadata": {},
   "outputs": [],
   "source": [
    "sns_plot(dataExactTtestLogDiff)"
   ]
  },
  {
   "cell_type": "code",
   "execution_count": null,
   "metadata": {},
   "outputs": [],
   "source": [
    "sns_plot(dataMWUTtestLogDiff)"
   ]
  },
  {
   "cell_type": "code",
   "execution_count": null,
   "metadata": {},
   "outputs": [],
   "source": [
    "sns_plot(dataEaxactMWULogDiff)"
   ]
  },
  {
   "cell_type": "code",
   "execution_count": null,
   "metadata": {},
   "outputs": [],
   "source": [
    "sns_plot(dataExactFastPermLogDiff)"
   ]
  },
  {
   "cell_type": "code",
   "execution_count": null,
   "metadata": {},
   "outputs": [],
   "source": [
    "sns_plot(dataMWUFastPermLogDiff)"
   ]
  },
  {
   "cell_type": "code",
   "execution_count": null,
   "metadata": {},
   "outputs": [],
   "source": [
    "sns_plot(dataTtestastPermLogDiff)"
   ]
  },
  {
   "cell_type": "code",
   "execution_count": null,
   "metadata": {},
   "outputs": [],
   "source": [
    "list(np.array(pFastPermListLogDiff)[keep_ix])"
   ]
  },
  {
   "cell_type": "code",
   "execution_count": null,
   "metadata": {},
   "outputs": [],
   "source": [
    "Q = createQvaluePlot(\n",
    "                     list(np.array(pMWUListLogDiff)[keep_ix]),\n",
    "                     list(np.array(pTtestListLogDiff)[keep_ix]))\n",
    "Q.createPlot()"
   ]
  },
  {
   "cell_type": "code",
   "execution_count": null,
   "metadata": {},
   "outputs": [],
   "source": []
  },
  {
   "cell_type": "code",
   "execution_count": null,
   "metadata": {},
   "outputs": [],
   "source": []
  }
 ],
 "metadata": {
  "kernelspec": {
   "display_name": "Python (my-r-env)",
   "language": "python",
   "name": "my-r-env"
  },
  "language_info": {
   "codemirror_mode": {
    "name": "ipython",
    "version": 3
   },
   "file_extension": ".py",
   "mimetype": "text/x-python",
   "name": "python",
   "nbconvert_exporter": "python",
   "pygments_lexer": "ipython3",
   "version": "3.7.6"
  }
 },
 "nbformat": 4,
 "nbformat_minor": 2
}
