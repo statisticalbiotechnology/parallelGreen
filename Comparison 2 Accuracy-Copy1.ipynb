{
 "cells": [
  {
   "cell_type": "code",
   "execution_count": 262,
   "metadata": {},
   "outputs": [],
   "source": [
    "from significance_of_mean_cuda import significance_of_mean_cuda\n",
    "import pandas as pd\n",
    "import numpy as np\n",
    "import time\n",
    "from scipy.stats import mannwhitneyu, ttest_ind\n",
    "import seaborn as sns\n",
    "import matplotlib.pyplot as plt\n",
    "from matplotlib import rc\n",
    "\n",
    "rc('text', usetex=True)\n",
    "plt.rcParams['text.latex.preamble']=[r\"\\usepackage{amsmath}\"]"
   ]
  },
  {
   "cell_type": "code",
   "execution_count": 2,
   "metadata": {},
   "outputs": [
    {
     "name": "stderr",
     "output_type": "stream",
     "text": [
      "R[write to console]: Warning:\n",
      "R[write to console]:  namespace ‘pbdZMQ’ is not available and has been replaced\n",
      "by .GlobalEnv when processing object ‘.pbd_env’\n",
      "\n",
      "/home/ekvall/anaconda3/envs/my-r-env/lib/python3.7/site-packages/rpy2/robjects/pandas2ri.py:14: FutureWarning: pandas.core.index is deprecated and will be removed in a future version.  The public classes are available in the top-level namespace.\n",
      "  from pandas.core.index import Index as PandasIndex\n",
      "/home/ekvall/anaconda3/envs/my-r-env/lib/python3.7/site-packages/rpy2/robjects/pandas2ri.py:34: UserWarning: pandas >= 1.0 is not supported.\n",
      "  warnings.warn('pandas >= 1.0 is not supported.')\n"
     ]
    }
   ],
   "source": [
    "%load_ext cython\n",
    "%load_ext rpy2.ipython\n",
    "\n"
   ]
  },
  {
   "cell_type": "code",
   "execution_count": 3,
   "metadata": {},
   "outputs": [
    {
     "name": "stderr",
     "output_type": "stream",
     "text": [
      "R[write to console]: Loading required package: ggplot2\n",
      "\n",
      "R[write to console]: Installing package into ‘/usr/local/lib/R/site-library’\n",
      "(as ‘lib’ is unspecified)\n",
      "\n",
      "R[write to console]: trying URL 'https://cloud.r-project.org/src/contrib/devtools_2.2.2.tar.gz'\n",
      "\n",
      "R[write to console]: Content type 'application/x-gzip'\n",
      "R[write to console]:  length 375464 bytes (366 KB)\n",
      "\n",
      "R[write to console]: =\n",
      "R[write to console]: =\n",
      "R[write to console]: =\n",
      "R[write to console]: =\n",
      "R[write to console]: =\n",
      "R[write to console]: =\n",
      "R[write to console]: =\n",
      "R[write to console]: =\n",
      "R[write to console]: =\n",
      "R[write to console]: =\n",
      "R[write to console]: =\n",
      "R[write to console]: =\n",
      "R[write to console]: =\n",
      "R[write to console]: =\n",
      "R[write to console]: =\n",
      "R[write to console]: =\n",
      "R[write to console]: =\n",
      "R[write to console]: =\n",
      "R[write to console]: =\n",
      "R[write to console]: =\n",
      "R[write to console]: =\n",
      "R[write to console]: =\n",
      "R[write to console]: =\n",
      "R[write to console]: =\n",
      "R[write to console]: =\n",
      "R[write to console]: =\n",
      "R[write to console]: =\n",
      "R[write to console]: =\n",
      "R[write to console]: =\n",
      "R[write to console]: =\n",
      "R[write to console]: =\n",
      "R[write to console]: =\n",
      "R[write to console]: =\n",
      "R[write to console]: =\n",
      "R[write to console]: =\n",
      "R[write to console]: =\n",
      "R[write to console]: =\n",
      "R[write to console]: =\n",
      "R[write to console]: =\n",
      "R[write to console]: =\n",
      "R[write to console]: =\n",
      "R[write to console]: =\n",
      "R[write to console]: =\n",
      "R[write to console]: =\n",
      "R[write to console]: =\n",
      "R[write to console]: =\n",
      "R[write to console]: =\n",
      "R[write to console]: =\n",
      "R[write to console]: =\n",
      "R[write to console]: =\n",
      "R[write to console]: \n",
      "\n",
      "R[write to console]: downloaded 366 KB\n",
      "\n",
      "\n",
      "R[write to console]: \n",
      "\n",
      "R[write to console]: \n",
      "R[write to console]: The downloaded source packages are in\n",
      "\t‘/tmp/RtmpZUi4Cs/downloaded_packages’\n",
      "R[write to console]: \n",
      "R[write to console]: \n",
      "\n",
      "R[write to console]: Loading required package: usethis\n",
      "\n",
      "R[write to console]: Skipping install of 'fastPerm' from a github remote, the SHA1 (639f37e1) has not changed since last install.\n",
      "  Use `force = TRUE` to force installation\n",
      "\n"
     ]
    }
   ],
   "source": [
    "%%R\n",
    "\n",
    "require(ggplot2)\n",
    "install.packages(\"devtools\")\n",
    "library(\"devtools\")\n",
    "install_github(\"bdsegal/fastPerm\")\n",
    "\n",
    "library(fastPerm)"
   ]
  },
  {
   "cell_type": "code",
   "execution_count": 4,
   "metadata": {},
   "outputs": [],
   "source": [
    "%%R\n",
    "    runFastPerm <- function(x,y,output, n_samples) {\n",
    "        e <- list(mode=\"vector\",length=n_samples)\n",
    "        for (i in 1:n_samples) {\n",
    "      \n",
    "            mStopDiffMean(x[[i]], y[[i]])\n",
    "            valX = fastPerm(x[[i]], y[[i]], testStat = diffMean)\n",
    "            \n",
    "            valX <-unlist(valX)\n",
    "\n",
    "      \n",
    "            output[[i]] <- as.numeric(valX[1])\n",
    "      \n",
    "            }\n",
    "    \n",
    "\n",
    "    return(output)\n",
    "\n",
    "\n",
    "    }"
   ]
  },
  {
   "cell_type": "code",
   "execution_count": 26,
   "metadata": {},
   "outputs": [],
   "source": [
    "def fastPerm(A,B):\n",
    "    x = pd.DataFrame(A, columns=list(range(A.shape[1]))).T\n",
    "    y = pd.DataFrame(B, columns=list(range(B.shape[1]))).T\n",
    "    n_samples = x.shape[1]\n",
    "    outputDf = pd.DataFrame(n_samples * [0], columns=[\"output\"]).T\n",
    "    \n",
    "    %R -i x\n",
    "    %R -i y\n",
    "    %R -i outputDf\n",
    "    %R -i n_samples\n",
    "    \n",
    "    \n",
    "    %R out <- runFastPerm(x,y, outputDf, n_samples)\n",
    "    \n",
    "    \n",
    "    %R -o out\n",
    "    return list(out.T[\"output\"].values)"
   ]
  },
  {
   "cell_type": "code",
   "execution_count": 6,
   "metadata": {},
   "outputs": [],
   "source": [
    "def exactTest(A,B, bins=10, one_side=False):\n",
    "    SGM = significance_of_mean_cuda(bins, dtype_v=np.uint32,dtype_A=np.float64, )\n",
    "    SGM.run(np.asarray(A),np.asarray(B), midP=True)\n",
    "    if one_side:\n",
    "        return SGM.get_p_values()\n",
    "    else:\n",
    "        return [2 * min( p, (1-p)) for p in SGM.get_p_values()]\n",
    "\n",
    "def MWU(A, B, one_side=False):\n",
    "    p_mw = list()\n",
    "    for a,b in zip(A, B):\n",
    "        if one_side:\n",
    "            p_mw.append(mannwhitneyu(a,b, alternative=\"less\")[1])\n",
    "        else:\n",
    "            p_mw.append(mannwhitneyu(a,b, alternative=\"two-sided\")[1])\n",
    "    return p_mw\n",
    "\n",
    "def ttests(A,B, one_side=False):\n",
    "    p_t = list()\n",
    "    for x, y in zip(A, B):\n",
    "        t, p = ttest_ind(y, x)\n",
    "        if one_side:\n",
    "            p = p/2\n",
    "            if t<0:\n",
    "                p = 1-p\n",
    "        p_t.append(p)\n",
    "    return p_t\n"
   ]
  },
  {
   "cell_type": "code",
   "execution_count": 7,
   "metadata": {},
   "outputs": [],
   "source": [
    "def getPrediction(A,B):\n",
    "    Data = dict()\n",
    "    \n",
    "    Data[\"eList\"] = exactTest(B, A, 35, False)\n",
    "    \n",
    "    print(  Data[\"eList\"])\n",
    "    Data[\"fpList\"] = fastPerm(np.array(A),np.array(B))\n",
    "    Data[\"mwuList\"] = MWU(A, B, False)\n",
    "    Data[\"ttList\"] = ttests(A, B, False)\n",
    "    print(  Data[\"ttList\"])\n",
    "    return Data"
   ]
  },
  {
   "cell_type": "code",
   "execution_count": 148,
   "metadata": {},
   "outputs": [],
   "source": [
    "def getSynteticData(func, setN=20, sampleN=2_000, mean=0, std=1,seed=1):\n",
    "    np.random.seed(seed)\n",
    "    AN, BN = [func(mean,std,setN) for i in range(sampleN)], [func(0,std,setN) for i in range(sampleN)]\n",
    "    return AN, BN"
   ]
  },
  {
   "cell_type": "code",
   "execution_count": 9,
   "metadata": {},
   "outputs": [],
   "source": [
    "def relError(Data):\n",
    "    pe_list = Data[\"eList\"] \n",
    "    p_fp_list = Data[\"fpList\"] \n",
    "    pmw_list = Data[\"mwuList\"] \n",
    "    pt_list = Data[\"ttList\"]\n",
    "    \n",
    "    errorDict = dict()\n",
    "    errorDict[\"eList\"] = list()\n",
    "    errorDict[\"fpList\"] = list()\n",
    "    errorDict[\"mwuList\"] = list()\n",
    "    for P_fp, P_e, P_t, P_mw in zip(p_fp_list, pe_list, pt_list, pmw_list):\n",
    "        print(P_fp)\n",
    "        print(P_e)\n",
    "        print(P_t)\n",
    "        print(P_mw)\n",
    "        errorDict[\"fpList\"].append((P_fp - P_t) / P_t)\n",
    "        errorDict[\"eList\"].append((P_e - P_t) / P_t)\n",
    "        errorDict[\"mwuList\"].append((P_mw - P_t) / P_t)\n",
    "    return errorDict\n",
    "        "
   ]
  },
  {
   "cell_type": "code",
   "execution_count": 316,
   "metadata": {},
   "outputs": [],
   "source": [
    "def preparePandas(timeData, sampleSizes,label=None):\n",
    "    preparePd = list()\n",
    "    for time, sample in zip(timeData, sampleSizes):\n",
    "        for t in time:\n",
    "            if label:\n",
    "                preparePd.append([t, sample, label])\n",
    "            else:\n",
    "                preparePd.append([t, sample])\n",
    "    return preparePd\n",
    "\n",
    "def SNSMultipleboxPlot(allEerrorList, Bin, allMWUList=None, allFPList=None, log=True, \n",
    "                       path=None, test_type=\"setSize\", relError=True):\n",
    "    \n",
    "    plt.figure(figsize=(16, 10))\n",
    "    \n",
    "    dataParallel = preparePandas(allEerrorList, Bin, \"Parallel shift method\")\n",
    "    \n",
    "    data= dataParallel\n",
    "    \n",
    "    if allFPList:\n",
    "        dataFastApprox = preparePandas(allFPList, Bin, \"FastPerm\")\n",
    "        data += dataFastApprox\n",
    "    if allMWUList:\n",
    "        MannWhitneyApprox = preparePandas(allMWUList, Bin, \"Mann–Whitney U-test\")\n",
    "        data += MannWhitneyApprox\n",
    "    \n",
    "    sns.set(style=\"white\")\n",
    "    sns.set_context(\"talk\")\n",
    "\n",
    "    pdData = pd.DataFrame(data, columns=['error','bins', 'Method'])\n",
    "    snsPlot = sns.boxplot(x=\"bins\", y=\"error\", data=pdData, hue=\"Method\")\n",
    "    \n",
    "    if relError:\n",
    "        plt.ylabel(r\"Relative error $\\big(|\\frac{p^{*}-p_{t}}{p_{t}}|)$\",fontsize=25)\n",
    "    else:\n",
    "        plt.ylabel(r\"$\\frac{p^{*}}{p_{t}}$\",fontsize=35)\n",
    "        \n",
    "    if test_type==\"windowSize\":\n",
    "        plt.xlabel(r\"$n_{w}$\",fontsize=25)\n",
    "    else:\n",
    "        plt.xlabel(r\"$n$\",fontsize=25)\n",
    "    \n",
    "    sns.set_style(\"ticks\")\n",
    "    sns.despine()\n",
    "    plt.tight_layout()\n",
    "    plt.gcf().subplots_adjust(left=0.10)\n",
    "\n",
    "    \n",
    "    \n",
    "    \n",
    "    if log:\n",
    "        if allFPList and allMWUList:\n",
    "            MAX = max(np.max(allEerrorList), np.max(allFPList), np.max(allMWUList))\n",
    "            MIN = min(np.min(allEerrorList), np.min(allFPList), np.min(allMWUList))\n",
    "        elif allFPList:\n",
    "            MAX = max(np.max(allEerrorList), np.max(allFPList))\n",
    "            MIN = min(np.min(allEerrorList), np.min(allFPList))\n",
    "        elif allMWUList:\n",
    "            MAX = max(np.max(allEerrorList), np.max(allMWUList))\n",
    "            MIN = min(np.min(allEerrorList), np.min(allMWUList))\n",
    "        else:\n",
    "            MAX = np.max(allEerrorList)\n",
    "            MIN = np.min(allEerrorList)\n",
    "            \n",
    "            \n",
    "        \n",
    "        RANGE = np.arange(np.floor(MIN), np.ceil(MAX))\n",
    "        plt.yticks(RANGE, 10.0**RANGE)\n",
    "        \n",
    "    \n",
    "\n",
    "    \n",
    "    if path:\n",
    "        fig = snsPlot.get_figure()\n",
    "        fig.savefig(path)"
   ]
  },
  {
   "cell_type": "code",
   "execution_count": 174,
   "metadata": {},
   "outputs": [],
   "source": [
    "setSize = [10,50,100,150,200,250,300]"
   ]
  },
  {
   "cell_type": "code",
   "execution_count": 260,
   "metadata": {},
   "outputs": [],
   "source": [
    "allEerrorList1, allFracList1 = list(), list()\n",
    "allMWUList1, allFracMWUList1 = list(), list()\n",
    "allFPList1, allFracFPList1 = list(), list()\n",
    "for setS in setSize:\n",
    "    Anorm0, Bnorm0 = getSynteticData(np.random.normal, mean=0.2, setN=setS,sampleN=50)\n",
    "    ptTest  = ttests(Anorm0, Bnorm0)\n",
    "    \n",
    "    peList = exactTest(Anorm0, Bnorm0, bins=30)\n",
    "    ExactErrorList = getErrors(peList, ptTest)\n",
    "    ExactFracList = getErrors(peList, ptTest, False) \n",
    "    allEerrorList1.append(np.log10(np.abs(ExactErrorList)))\n",
    "    allFracList1.append(np.log10(ExactFracList))\n",
    "    \n",
    "    pmwList = MWU(Anorm0, Bnorm0)\n",
    "    MWUErrorList = getErrors(pmwList, ptTest)\n",
    "    MWUFracList = getErrors(peList, ptTest, False) \n",
    "    allFracMWUList1.append(np.log10(MWUFracList))\n",
    "    allMWUList1.append(np.log10(np.abs(MWUErrorList)))\n",
    "    \n",
    "\n",
    "    ptfp = fastPerm(np.array(Anorm0), np.array(Bnorm0))\n",
    "    FPErrorList = getErrors(ptfp, ptTest)\n",
    "    FPFracList = getErrors(ptfp, ptTest, False)\n",
    "    allFPList1.append(np.log10(np.abs(FPErrorList)))\n",
    "    allFracFPList1.append(np.log10(FPFracList))"
   ]
  },
  {
   "cell_type": "code",
   "execution_count": 176,
   "metadata": {},
   "outputs": [],
   "source": [
    "k = 6"
   ]
  },
  {
   "cell_type": "code",
   "execution_count": 317,
   "metadata": {},
   "outputs": [
    {
     "data": {
      "image/png": "[encoded data removed]",
      "text/plain": [
       "<Figure size 1152x720 with 1 Axes>"
      ]
     },
     "metadata": {},
     "output_type": "display_data"
    }
   ],
   "source": [
    "SNSMultipleboxPlot(allFracList1[:k], setSize[:k], allFracMWUList1[:k], \n",
    "                   allFracFPList1[:k], \n",
    "                   relError=False,\n",
    "                   path=\"./figures/accuracy/mean_1\")"
   ]
  },
  {
   "cell_type": "code",
   "execution_count": 318,
   "metadata": {},
   "outputs": [
    {
     "data": {
      "image/png": "[encoded data removed]",
      "text/plain": [
       "<Figure size 1152x720 with 1 Axes>"
      ]
     },
     "metadata": {},
     "output_type": "display_data"
    }
   ],
   "source": [
    "SNSMultipleboxPlot(allEerrorList1[:k], setSize[:k], allMWUList1[:k], allFPList1[:k], path=\"./figures/accuracy/mean_1\")"
   ]
  },
  {
   "cell_type": "code",
   "execution_count": 264,
   "metadata": {},
   "outputs": [],
   "source": [
    "allEerrorList2, allFracList2 = list(), list()\n",
    "allMWUList2, allFracMWUList2 = list(), list()\n",
    "allFPList2, allFracFPList2 = list(), list()\n",
    "for setS in setSize:\n",
    "    Anorm0, Bnorm0 = getSynteticData(np.random.normal, mean=1.0, setN=setS,sampleN=50)\n",
    "    ptTest  = ttests(Anorm0, Bnorm0)\n",
    "    \n",
    "    peList = exactTest(Anorm0, Bnorm0, bins=30)\n",
    "    ExactErrorList = getErrors(peList, ptTest)\n",
    "    ExactFracList = getErrors(peList, ptTest, False) \n",
    "    allEerrorList2.append(np.log10(np.abs(ExactErrorList)))\n",
    "    allFracList2.append(np.log10(ExactFracList))\n",
    "    \n",
    "    pmwList = MWU(Anorm0, Bnorm0)\n",
    "    MWUErrorList = getErrors(pmwList, ptTest)\n",
    "    MWUFracList = getErrors(peList, ptTest, False) \n",
    "    allFracMWUList2.append(np.log10(MWUFracList))\n",
    "    allMWUList2.append(np.log10(np.abs(MWUErrorList)))\n",
    "    \n",
    "    \n",
    "    \n",
    "    ptfp = fastPerm(np.array(Anorm0), np.array(Bnorm0))\n",
    "    FPErrorList = getErrors(ptfp, ptTest)\n",
    "    FPFracList = getErrors(ptfp, ptTest, False)\n",
    "    allFPList2.append(np.log10(np.abs(FPErrorList)))\n",
    "    allFracFPList2.append(np.log10(FPFracList))"
   ]
  },
  {
   "cell_type": "code",
   "execution_count": 179,
   "metadata": {},
   "outputs": [],
   "source": [
    "k=6"
   ]
  },
  {
   "cell_type": "code",
   "execution_count": 319,
   "metadata": {},
   "outputs": [
    {
     "data": {
      "image/png": "[encoded data removed]",
      "text/plain": [
       "<Figure size 1152x720 with 1 Axes>"
      ]
     },
     "metadata": {},
     "output_type": "display_data"
    }
   ],
   "source": [
    "SNSMultipleboxPlot(allFracList2[:k], setSize[:k], allFracMWUList2[:k], \n",
    "                   allFracFPList2[:k], relError=False,path=\"./figures/accuracy/mean_1\")\n",
    "\n"
   ]
  },
  {
   "cell_type": "code",
   "execution_count": 320,
   "metadata": {},
   "outputs": [
    {
     "data": {
      "image/png": "[encoded data removed]",
      "text/plain": [
       "<Figure size 1152x720 with 1 Axes>"
      ]
     },
     "metadata": {},
     "output_type": "display_data"
    }
   ],
   "source": [
    "SNSMultipleboxPlot(allEerrorList2[:k], setSize[:k], allMWUList2[:k], allFPList2[:k], path=\"./figures/accuracy/mean_10\")"
   ]
  },
  {
   "cell_type": "code",
   "execution_count": 321,
   "metadata": {},
   "outputs": [],
   "source": [
    "N_w = list(range(10, 121,10))"
   ]
  },
  {
   "cell_type": "code",
   "execution_count": 322,
   "metadata": {},
   "outputs": [],
   "source": [
    "allEerrorNw, allEerrorNwFrac = list(), list()\n",
    "for n_w in N_w:\n",
    "    Anorm0, Bnorm0 = getSynteticData(np.random.normal, mean=1.0, setN=setS,sampleN=50)\n",
    "    ptTest  = ttests(Anorm0, Bnorm0)\n",
    "    \n",
    "    peList = exactTest(Anorm0, Bnorm0, bins=n_w)\n",
    "    ExactErrorList = getErrors(peList, ptTest)\n",
    "    ExactFracList = getErrors(peList, ptTest, False) \n",
    "    allEerrorNw.append(np.log10(np.abs(ExactErrorList)))\n",
    "    allEerrorNwFrac.append(np.log10(ExactFracList))\n",
    "    \n",
    "    "
   ]
  },
  {
   "cell_type": "code",
   "execution_count": 325,
   "metadata": {},
   "outputs": [
    {
     "data": {
      "image/png": "[encoded data removed]",
      "text/plain": [
       "<Figure size 1152x720 with 1 Axes>"
      ]
     },
     "metadata": {},
     "output_type": "display_data"
    }
   ],
   "source": [
    "SNSMultipleboxPlot(allEerrorNwFrac, N_w, test_type=\"windowSize\", relError=False,path=\"./figures/accuracy/windowSize\")"
   ]
  },
  {
   "cell_type": "code",
   "execution_count": 324,
   "metadata": {},
   "outputs": [
    {
     "data": {
      "image/png": "[encoded data removed]",
      "text/plain": [
       "<Figure size 1152x720 with 1 Axes>"
      ]
     },
     "metadata": {},
     "output_type": "display_data"
    }
   ],
   "source": [
    "SNSMultipleboxPlot(allEerrorNw, N_w, test_type=\"windowSize\", path=\"./figures/accuracy/windowSize\")"
   ]
  },
  {
   "cell_type": "code",
   "execution_count": null,
   "metadata": {},
   "outputs": [],
   "source": []
  },
  {
   "cell_type": "code",
   "execution_count": null,
   "metadata": {},
   "outputs": [],
   "source": []
  },
  {
   "cell_type": "code",
   "execution_count": null,
   "metadata": {},
   "outputs": [],
   "source": []
  },
  {
   "cell_type": "code",
   "execution_count": 28,
   "metadata": {},
   "outputs": [],
   "source": [
    "peList = exactTest(Anorm0, Bnorm0, bins=30)\n",
    "pmwList = MWU(Anorm0, Bnorm0)\n",
    "ptTest  = ttests(Anorm0, Bnorm0)\n",
    "ptfp = fastPerm(np.array(Anorm0), np.array(Bnorm0))"
   ]
  },
  {
   "cell_type": "code",
   "execution_count": 259,
   "metadata": {},
   "outputs": [],
   "source": [
    "def getErrors(pValList, pTtestList, rel=True):\n",
    "    relatvieErrorList = list()\n",
    "    for pv, pt in zip(pValList, pTtestList):\n",
    "        if rel:\n",
    "            relatvieErrorList.append(relError(pv, pt))\n",
    "        else:\n",
    "            relatvieErrorList.append(frac(pv, pt))\n",
    "            \n",
    "    return relatvieErrorList\n",
    "\n",
    "def relError(x,y):\n",
    "    return frac((x - y), y) \n",
    "def frac(x,y):\n",
    "    return x / y\n",
    "    \n",
    "        "
   ]
  },
  {
   "cell_type": "code",
   "execution_count": 256,
   "metadata": {},
   "outputs": [],
   "source": [
    "def predictAndAnalyze():\n",
    "    peList = exactTest(Anorm0, Bnorm0, bins=30)\n",
    "    "
   ]
  },
  {
   "cell_type": "code",
   "execution_count": null,
   "metadata": {},
   "outputs": [],
   "source": [
    "errorDictList = list()\n",
    "for setS in setSize:\n",
    "    Anorm0, Bnorm0 = getSynteticData(np.random.normal, mean=0.2, setN=setS,sampleN=50)\n",
    "    %time dataDict = getPrediction(Anorm0, Bnorm0)\n",
    "    errorDict = relError(dataDict)\n",
    "    errorDictList.append(errorDict)"
   ]
  },
  {
   "cell_type": "code",
   "execution_count": null,
   "metadata": {},
   "outputs": [],
   "source": [
    "SNSMultipleboxPlot(errorDictList, setSize)"
   ]
  },
  {
   "cell_type": "code",
   "execution_count": null,
   "metadata": {},
   "outputs": [
    {
     "name": "stdout",
     "output_type": "stream",
     "text": [
      "[5.412544112237683e-06, 5.412544112015638e-06, 5.412544112237683e-06, 5.412544112237683e-06, 5.412544112237683e-06, 5.412544112237683e-06, 5.412544112237683e-06, 5.412544112237683e-06, 5.412544112237683e-06, 5.412544112237683e-06, 5.412544112015638e-06, 5.412544112237683e-06, 5.412544112237683e-06, 5.412544112237683e-06, 5.412544112237683e-06, 5.4125441117935935e-06, 5.412544112237683e-06, 5.412544112237683e-06, 5.412544112459727e-06, 5.412544112237683e-06, 5.412544112237683e-06, 5.412544112237683e-06, 5.412544112237683e-06, 5.412544112237683e-06, 5.412544112237683e-06, 5.412544112237683e-06, 2.7062720561188414e-05, 5.412544112015638e-06, 5.412544112237683e-06, 5.412544112237683e-06, 5.412544112237683e-06, 5.412544112237683e-06, 5.412544112237683e-06, 5.412544112237683e-06, 5.412544112237683e-06, 5.412544112237683e-06, 5.412544112237683e-06, 5.412544112237683e-06, 5.412544112015638e-06, 5.412544112237683e-06, 5.412544112237683e-06, 5.412544112237683e-06, 5.412544112237683e-06, 5.412544112237683e-06, 5.412544112237683e-06, 5.412544112237683e-06, 5.412544112237683e-06, 5.412544112015638e-06, 5.412544112237683e-06, 5.412544112015638e-06]\n",
      "[2.1428120993292817e-11, 4.409866286927708e-11, 3.5746644391813026e-11, 8.306025043217486e-10, 2.4995216657515092e-09, 2.4974041414373984e-13, 4.140061220000023e-09, 7.333271215859771e-08, 9.962741819495758e-11, 7.376664002346612e-13, 1.0592631428419334e-08, 5.800250169763858e-09, 1.3646194549574006e-08, 1.1772237161244634e-09, 1.6003609032310652e-09, 2.151258657592435e-09, 4.352798769252992e-10, 5.579023161329981e-09, 3.767518576538445e-11, 2.9700170482316407e-11, 1.932596995397501e-08, 5.4240849107531015e-14, 2.0409649436330377e-09, 8.654777823130474e-09, 5.9641064092257345e-12, 1.201858824014922e-08, 1.3085228635823719e-06, 1.0688552897830291e-10, 3.286610060147001e-09, 1.0795603264819085e-12, 1.2562414107880985e-12, 4.947866012125246e-12, 5.711916374100927e-09, 2.023829844670473e-11, 4.973083499407792e-10, 2.1180562509128403e-11, 4.943023560300659e-10, 1.4906800573333546e-10, 5.117498535061523e-08, 5.130148607043866e-09, 4.615406343137055e-10, 8.425469351318384e-11, 1.4667038830248593e-09, 2.681326695099841e-08, 2.2434136599068607e-09, 6.196468015131252e-11, 5.381660347972736e-10, 6.827424055347442e-09, 2.2281164968200556e-09, 1.4233899818700524e-09]\n",
      "CPU times: user 838 ms, sys: 11.5 ms, total: 850 ms\n",
      "Wall time: 850 ms\n",
      "nan\n",
      "5.412544112237683e-06\n",
      "2.1428120993292817e-11\n",
      "0.00018267179110955002\n",
      "nan\n",
      "5.412544112015638e-06\n",
      "4.409866286927708e-11\n",
      "0.00018267179110955002\n",
      "nan\n",
      "5.412544112237683e-06\n",
      "3.5746644391813026e-11\n",
      "0.00018267179110955002\n",
      "nan\n",
      "5.412544112237683e-06\n",
      "8.306025043217486e-10\n",
      "0.00018267179110955002\n",
      "nan\n",
      "5.412544112237683e-06\n",
      "2.4995216657515092e-09\n",
      "0.00018267179110955002\n",
      "nan\n",
      "5.412544112237683e-06\n",
      "2.4974041414373984e-13\n",
      "0.00018267179110955002\n",
      "nan\n",
      "5.412544112237683e-06\n",
      "4.140061220000023e-09\n",
      "0.00018267179110955002\n",
      "nan\n",
      "5.412544112237683e-06\n",
      "7.333271215859771e-08\n",
      "0.00018267179110955002\n",
      "nan\n",
      "5.412544112237683e-06\n",
      "9.962741819495758e-11\n",
      "0.00018267179110955002\n",
      "nan\n",
      "5.412544112237683e-06\n",
      "7.376664002346612e-13\n",
      "0.00018267179110955002\n",
      "nan\n",
      "5.412544112015638e-06\n",
      "1.0592631428419334e-08\n",
      "0.00018267179110955002\n",
      "nan\n",
      "5.412544112237683e-06\n",
      "5.800250169763858e-09\n",
      "0.00018267179110955002\n",
      "nan\n",
      "5.412544112237683e-06\n",
      "1.3646194549574006e-08\n",
      "0.00018267179110955002\n",
      "nan\n",
      "5.412544112237683e-06\n",
      "1.1772237161244634e-09\n",
      "0.00018267179110955002\n",
      "nan\n",
      "5.412544112237683e-06\n",
      "1.6003609032310652e-09\n",
      "0.00018267179110955002\n",
      "nan\n",
      "5.4125441117935935e-06\n",
      "2.151258657592435e-09\n",
      "0.00018267179110955002\n",
      "nan\n",
      "5.412544112237683e-06\n",
      "4.352798769252992e-10\n",
      "0.00018267179110955002\n",
      "nan\n",
      "5.412544112237683e-06\n",
      "5.579023161329981e-09\n",
      "0.00018267179110955002\n",
      "nan\n",
      "5.412544112459727e-06\n",
      "3.767518576538445e-11\n",
      "0.00018267179110955002\n",
      "nan\n",
      "5.412544112237683e-06\n",
      "2.9700170482316407e-11\n",
      "0.00018267179110955002\n",
      "nan\n",
      "5.412544112237683e-06\n",
      "1.932596995397501e-08\n",
      "0.00018267179110955002\n",
      "nan\n",
      "5.412544112237683e-06\n",
      "5.4240849107531015e-14\n",
      "0.00018267179110955002\n",
      "nan\n",
      "5.412544112237683e-06\n",
      "2.0409649436330377e-09\n",
      "0.00018267179110955002\n",
      "nan\n",
      "5.412544112237683e-06\n",
      "8.654777823130474e-09\n",
      "0.00018267179110955002\n",
      "nan\n",
      "5.412544112237683e-06\n",
      "5.9641064092257345e-12\n",
      "0.00018267179110955002\n",
      "nan\n",
      "5.412544112237683e-06\n",
      "1.201858824014922e-08\n",
      "0.00018267179110955002\n",
      "3.07229515965672e-05\n",
      "2.7062720561188414e-05\n",
      "1.3085228635823719e-06\n",
      "0.00024612812790522973\n",
      "nan\n",
      "5.412544112015638e-06\n",
      "1.0688552897830291e-10\n",
      "0.00018267179110955002\n",
      "nan\n",
      "5.412544112237683e-06\n",
      "3.286610060147001e-09\n",
      "0.00018267179110955002\n",
      "nan\n",
      "5.412544112237683e-06\n",
      "1.0795603264819085e-12\n",
      "0.00018267179110955002\n",
      "nan\n",
      "5.412544112237683e-06\n",
      "1.2562414107880985e-12\n",
      "0.00018267179110955002\n",
      "nan\n",
      "5.412544112237683e-06\n",
      "4.947866012125246e-12\n",
      "0.00018267179110955002\n",
      "nan\n",
      "5.412544112237683e-06\n",
      "5.711916374100927e-09\n",
      "0.00018267179110955002\n",
      "nan\n",
      "5.412544112237683e-06\n",
      "2.023829844670473e-11\n",
      "0.00018267179110955002\n",
      "nan\n",
      "5.412544112237683e-06\n",
      "4.973083499407792e-10\n",
      "0.00018267179110955002\n",
      "nan\n",
      "5.412544112237683e-06\n",
      "2.1180562509128403e-11\n",
      "0.00018267179110955002\n",
      "nan\n",
      "5.412544112237683e-06\n",
      "4.943023560300659e-10\n",
      "0.00018267179110955002\n",
      "nan\n",
      "5.412544112237683e-06\n",
      "1.4906800573333546e-10\n",
      "0.00018267179110955002\n",
      "nan\n",
      "5.412544112015638e-06\n",
      "5.117498535061523e-08\n",
      "0.00018267179110955002\n",
      "nan\n",
      "5.412544112237683e-06\n",
      "5.130148607043866e-09\n",
      "0.00018267179110955002\n",
      "nan\n",
      "5.412544112237683e-06\n",
      "4.615406343137055e-10\n",
      "0.00018267179110955002\n",
      "nan\n",
      "5.412544112237683e-06\n",
      "8.425469351318384e-11\n",
      "0.00018267179110955002\n",
      "nan\n",
      "5.412544112237683e-06\n",
      "1.4667038830248593e-09\n",
      "0.00018267179110955002\n",
      "nan\n",
      "5.412544112237683e-06\n",
      "2.681326695099841e-08\n",
      "0.00018267179110955002\n",
      "nan\n",
      "5.412544112237683e-06\n",
      "2.2434136599068607e-09\n",
      "0.00018267179110955002\n",
      "nan\n",
      "5.412544112237683e-06\n",
      "6.196468015131252e-11\n",
      "0.00018267179110955002\n",
      "nan\n",
      "5.412544112237683e-06\n",
      "5.381660347972736e-10\n",
      "0.00018267179110955002\n",
      "nan\n",
      "5.412544112015638e-06\n",
      "6.827424055347442e-09\n",
      "0.00018267179110955002\n",
      "nan\n",
      "5.412544112237683e-06\n",
      "2.2281164968200556e-09\n",
      "0.00018267179110955002\n",
      "nan\n",
      "5.412544112015638e-06\n",
      "1.4233899818700524e-09\n",
      "0.00018267179110955002\n"
     ]
    },
    {
     "name": "stderr",
     "output_type": "stream",
     "text": [
      "/home/ekvall/anaconda3/envs/my-r-env/lib/python3.7/site-packages/ipykernel_launcher.py:16: RuntimeWarning: invalid value encountered in double_scalars\n",
      "  app.launch_new_instance()\n"
     ]
    },
    {
     "name": "stdout",
     "output_type": "stream",
     "text": [
      "[0.0, 0.0, 4.440892098500626e-16, 0.0, 0.0, 4.440892098500626e-16, 4.440892098500626e-16, 0.0, 2.220446049250313e-16, 2.220446049250313e-16, -4.440892098500626e-16, 2.220446049250313e-16, 2.220446049250313e-16, 0.0, 2.220446049250313e-16, 2.220446049250313e-16, 0.0, 0.0, 0.0, 0.0, 0.0, 0.0, 0.0, 2.220446049250313e-16, 0.0, 0.0, 2.220446049250313e-16, 4.440892098500626e-16, 4.440892098500626e-16, 0.0, 2.220446049250313e-16, 0.0, 2.220446049250313e-16, 0.0, 2.220446049250313e-16, 4.440892098500626e-16, 0.0, 2.220446049250313e-16, 0.0, 4.440892098500626e-16, 0.0, -4.440892098500626e-16, 0.0, 0.0, -4.440892098500626e-16, 0.0, 4.440892098500626e-16, 0.0, 0.0, 0.0]\n",
      "[2.2099563970227494e-41, 2.4507121762476006e-46, 1.9384019557436682e-45, 3.5406976183191206e-50, 1.7630360264093315e-41, 2.0840795996994665e-49, 1.9045682630583985e-46, 8.87077743788225e-45, 1.5974264701129185e-44, 1.9837398187927824e-42, 1.5221179486200482e-45, 1.0020111036966304e-46, 4.2351110836714856e-45, 3.142610018009287e-45, 1.0451088970143658e-41, 2.0525055686641687e-45, 4.494767616296067e-45, 8.998792257122245e-47, 6.4738733769679135e-46, 1.7363082253353528e-44, 1.6179250055403721e-44, 2.0596797754049388e-43, 1.6036959561695465e-49, 5.653853362239791e-42, 2.922139592604341e-42, 2.003308089463778e-49, 1.5718859112680046e-50, 3.992362964739372e-46, 1.775743354237323e-48, 3.085754892668835e-41, 9.567358124993208e-44, 5.925103975827199e-46, 8.992878156179385e-46, 3.183099662748621e-49, 1.968121231207054e-47, 2.1695365737577373e-45, 1.4952432319398284e-47, 1.3677302162238432e-48, 5.651907302087601e-45, 1.2741118384070817e-45, 1.011282789988881e-45, 9.018822421676288e-48, 5.741934650750062e-43, 3.2388077552248443e-47, 4.122729122464403e-46, 7.959532025074505e-45, 1.7640852802300082e-51, 1.0351955275020214e-41, 9.359101708567931e-48, 2.315704364759913e-44]\n",
      "CPU times: user 1.03 s, sys: 63.7 ms, total: 1.1 s\n",
      "Wall time: 1.1 s\n",
      "nan\n",
      "0.0\n",
      "2.2099563970227494e-41\n",
      "7.066071930388932e-18\n",
      "nan\n",
      "0.0\n",
      "2.4507121762476006e-46\n",
      "7.504054797180572e-18\n",
      "nan\n",
      "4.440892098500626e-16\n",
      "1.9384019557436682e-45\n",
      "7.066071930388932e-18\n",
      "nan\n",
      "0.0\n",
      "3.5406976183191206e-50\n",
      "7.066071930388932e-18\n",
      "nan\n",
      "0.0\n",
      "1.7630360264093315e-41\n",
      "7.066071930388932e-18\n",
      "nan\n",
      "4.440892098500626e-16\n",
      "2.0840795996994665e-49\n",
      "7.066071930388932e-18\n",
      "nan\n",
      "4.440892098500626e-16\n",
      "1.9045682630583985e-46\n",
      "7.066071930388932e-18\n",
      "3.18868921669925e-28\n",
      "0.0\n",
      "8.87077743788225e-45\n",
      "8.461955518444686e-18\n",
      "nan\n",
      "2.220446049250313e-16\n",
      "1.5974264701129185e-44\n",
      "7.066071930388932e-18\n",
      "nan\n",
      "2.220446049250313e-16\n",
      "1.9837398187927824e-42\n",
      "7.066071930388932e-18\n",
      "nan\n",
      "-4.440892098500626e-16\n",
      "1.5221179486200482e-45\n",
      "7.066071930388932e-18\n",
      "nan\n",
      "2.220446049250313e-16\n",
      "1.0020111036966304e-46\n",
      "7.066071930388932e-18\n",
      "nan\n",
      "2.220446049250313e-16\n",
      "4.2351110836714856e-45\n",
      "7.066071930388932e-18\n",
      "nan\n",
      "0.0\n",
      "3.142610018009287e-45\n",
      "7.066071930388932e-18\n",
      "nan\n",
      "2.220446049250313e-16\n",
      "1.0451088970143658e-41\n",
      "7.066071930388932e-18\n",
      "nan\n",
      "2.220446049250313e-16\n",
      "2.0525055686641687e-45\n",
      "7.066071930388932e-18\n",
      "nan\n",
      "0.0\n",
      "4.494767616296067e-45\n",
      "7.066071930388932e-18\n",
      "nan\n",
      "0.0\n",
      "8.998792257122245e-47\n",
      "7.066071930388932e-18\n",
      "nan\n",
      "0.0\n",
      "6.4738733769679135e-46\n",
      "7.066071930388932e-18\n",
      "nan\n",
      "0.0\n",
      "1.7363082253353528e-44\n",
      "7.066071930388932e-18\n",
      "nan\n",
      "0.0\n",
      "1.6179250055403721e-44\n",
      "7.066071930388932e-18\n",
      "nan\n",
      "0.0\n",
      "2.0596797754049388e-43\n",
      "7.968811575416599e-18\n",
      "nan\n",
      "0.0\n",
      "1.6036959561695465e-49\n",
      "7.066071930388932e-18\n",
      "nan\n",
      "2.220446049250313e-16\n",
      "5.653853362239791e-42\n",
      "7.066071930388932e-18\n",
      "nan\n",
      "0.0\n",
      "2.922139592604341e-42\n",
      "7.066071930388932e-18\n",
      "nan\n",
      "0.0\n",
      "2.003308089463778e-49\n",
      "7.066071930388932e-18\n",
      "nan\n",
      "2.220446049250313e-16\n",
      "1.5718859112680046e-50\n",
      "7.066071930388932e-18\n",
      "nan\n",
      "4.440892098500626e-16\n",
      "3.992362964739372e-46\n",
      "7.066071930388932e-18\n",
      "nan\n",
      "4.440892098500626e-16\n",
      "1.775743354237323e-48\n",
      "7.066071930388932e-18\n",
      "nan\n",
      "0.0\n",
      "3.085754892668835e-41\n",
      "7.066071930388932e-18\n",
      "nan\n",
      "2.220446049250313e-16\n",
      "9.567358124993208e-44\n",
      "7.504054797180572e-18\n",
      "nan\n",
      "0.0\n",
      "5.925103975827199e-46\n",
      "7.066071930388932e-18\n",
      "nan\n",
      "2.220446049250313e-16\n",
      "8.992878156179385e-46\n",
      "7.066071930388932e-18\n",
      "nan\n",
      "0.0\n",
      "3.183099662748621e-49\n",
      "7.066071930388932e-18\n",
      "nan\n",
      "2.220446049250313e-16\n",
      "1.968121231207054e-47\n",
      "7.066071930388932e-18\n",
      "nan\n",
      "4.440892098500626e-16\n",
      "2.1695365737577373e-45\n",
      "7.066071930388932e-18\n",
      "nan\n",
      "0.0\n",
      "1.4952432319398284e-47\n",
      "7.066071930388932e-18\n",
      "nan\n",
      "2.220446049250313e-16\n",
      "1.3677302162238432e-48\n",
      "7.066071930388932e-18\n",
      "nan\n",
      "0.0\n",
      "5.651907302087601e-45\n",
      "7.066071930388932e-18\n",
      "nan\n",
      "4.440892098500626e-16\n",
      "1.2741118384070817e-45\n",
      "7.066071930388932e-18\n",
      "nan\n",
      "0.0\n",
      "1.011282789988881e-45\n",
      "7.066071930388932e-18\n",
      "nan\n",
      "-4.440892098500626e-16\n",
      "9.018822421676288e-48\n",
      "7.066071930388932e-18\n",
      "nan\n",
      "0.0\n",
      "5.741934650750062e-43\n",
      "7.066071930388932e-18\n",
      "nan\n",
      "0.0\n",
      "3.2388077552248443e-47\n",
      "7.066071930388932e-18\n",
      "nan\n",
      "-4.440892098500626e-16\n",
      "4.122729122464403e-46\n",
      "7.066071930388932e-18\n",
      "nan\n",
      "0.0\n",
      "7.959532025074505e-45\n",
      "7.504054797180572e-18\n",
      "nan\n",
      "4.440892098500626e-16\n",
      "1.7640852802300082e-51\n",
      "7.066071930388932e-18\n",
      "nan\n",
      "0.0\n",
      "1.0351955275020214e-41\n",
      "7.066071930388932e-18\n",
      "nan\n",
      "0.0\n",
      "9.359101708567931e-48\n",
      "7.066071930388932e-18\n",
      "nan\n",
      "0.0\n",
      "2.315704364759913e-44\n",
      "7.066071930388932e-18\n",
      "[0.0, 0.0, 0.0, 0.0, 4.440892098500626e-16, 0.0, 0.0, 4.440892098500626e-16, 4.440892098500626e-16, 0.0, 0.0, -4.440892098500626e-16, 2.220446049250313e-16, 4.440892098500626e-16, 2.220446049250313e-16, 0.0, -4.440892098500626e-16, 2.220446049250313e-16, 4.440892098500626e-16, 2.220446049250313e-16, 0.0, 2.220446049250313e-16, 0.0, 0.0, 0.0, 0.0, -4.440892098500626e-16, 2.220446049250313e-16, 0.0, 0.0, 2.220446049250313e-16, -8.881784197001252e-16, 0.0, 0.0, 0.0, 0.0, 0.0, 0.0, 0.0, 2.220446049250313e-16, 0.0, 4.440892098500626e-16, 0.0, 2.220446049250313e-16, 0.0, 0.0, 0.0, -4.440892098500626e-16, 4.440892098500626e-16, 0.0]\n",
      "[5.70649568422218e-90, 1.3227284602546638e-94, 2.0006364591598824e-84, 1.1853543548731003e-99, 1.567140539341855e-89, 1.3419780979563473e-89, 9.237665702791302e-86, 6.157212590966497e-93, 9.529101773217193e-94, 3.0253635301017494e-86, 1.8762341947965517e-91, 1.0014478081357938e-88, 5.134453913802207e-91, 8.248481424650658e-87, 1.9293441538062252e-96, 1.2611366126360382e-84, 3.3628775178861996e-96, 4.570829309155608e-86, 1.8143520777738415e-89, 7.332946362820826e-86, 5.128153367851986e-84, 3.5822855618428865e-90, 8.78819750748896e-86, 7.937213059014586e-88, 5.02843143557795e-93, 2.33930856294058e-85, 6.936352283048091e-90, 8.505563031344439e-91, 5.55783805589187e-83, 9.704743262985268e-88, 1.1976116667130362e-85, 7.374083458423969e-85, 1.9541614936327305e-81, 5.6775630344312005e-86, 2.0581317770464764e-88, 1.306845923546889e-84, 4.2199152968991567e-91, 8.695280973520933e-85, 1.8932187301027755e-96, 2.3805286885922435e-89, 3.900076928206124e-89, 8.879570933051192e-89, 3.260255745286729e-86, 5.714099270530476e-93, 7.448756761478947e-91, 3.806294674310296e-92, 2.2513220369126974e-86, 2.78257764813041e-92, 1.6856728292204706e-91, 1.919949080615749e-89]\n",
      "CPU times: user 2.21 s, sys: 392 ms, total: 2.6 s\n",
      "Wall time: 2.6 s\n",
      "nan\n",
      "0.0\n",
      "5.70649568422218e-90\n",
      "2.562143669163401e-34\n",
      "nan\n",
      "0.0\n",
      "1.3227284602546638e-94\n",
      "2.562143669163401e-34\n",
      "nan\n",
      "0.0\n",
      "2.0006364591598824e-84\n",
      "2.9772381142870293e-34\n",
      "nan\n",
      "0.0\n",
      "1.1853543548731003e-99\n",
      "2.562143669163401e-34\n",
      "nan\n",
      "4.440892098500626e-16\n",
      "1.567140539341855e-89\n",
      "2.562143669163401e-34\n",
      "nan\n",
      "0.0\n",
      "1.3419780979563473e-89\n",
      "2.562143669163401e-34\n",
      "nan\n",
      "0.0\n",
      "9.237665702791302e-86\n",
      "2.8891939979927045e-34\n",
      "nan\n",
      "4.440892098500626e-16\n",
      "6.157212590966497e-93\n",
      "2.640284031487027e-34\n",
      "nan\n",
      "4.440892098500626e-16\n",
      "9.529101773217193e-94\n",
      "2.562143669163401e-34\n",
      "nan\n",
      "0.0\n",
      "3.0253635301017494e-86\n",
      "2.562143669163401e-34\n",
      "nan\n",
      "0.0\n",
      "1.8762341947965517e-91\n",
      "2.8037369279891326e-34\n",
      "nan\n",
      "-4.440892098500626e-16\n",
      "1.0014478081357938e-88\n",
      "2.640284031487027e-34\n",
      "nan\n",
      "2.220446049250313e-16\n",
      "5.134453913802207e-91\n",
      "2.562143669163401e-34\n",
      "nan\n",
      "4.440892098500626e-16\n",
      "8.248481424650658e-87\n",
      "2.7207913829411556e-34\n",
      "nan\n",
      "2.220446049250313e-16\n",
      "1.9293441538062252e-96\n",
      "2.562143669163401e-34\n",
      "nan\n",
      "0.0\n",
      "1.2611366126360382e-84\n",
      "2.562143669163401e-34\n",
      "nan\n",
      "-4.440892098500626e-16\n",
      "3.3628775178861996e-96\n",
      "2.562143669163401e-34\n",
      "nan\n",
      "2.220446049250313e-16\n",
      "4.570829309155608e-86\n",
      "2.7207913829411556e-34\n",
      "1.96667326989299e-56\n",
      "4.440892098500626e-16\n",
      "1.8143520777738415e-89\n",
      "3.2576821808361544e-34\n",
      "nan\n",
      "2.220446049250313e-16\n",
      "7.332946362820826e-86\n",
      "2.8037369279891326e-34\n",
      "nan\n",
      "0.0\n",
      "5.128153367851986e-84\n",
      "2.7207913829411556e-34\n",
      "nan\n",
      "2.220446049250313e-16\n",
      "3.5822855618428865e-90\n",
      "2.562143669163401e-34\n",
      "nan\n",
      "0.0\n",
      "8.78819750748896e-86\n",
      "2.640284031487027e-34\n",
      "nan\n",
      "0.0\n",
      "7.937213059014586e-88\n",
      "2.562143669163401e-34\n",
      "nan\n",
      "0.0\n",
      "5.02843143557795e-93\n",
      "2.562143669163401e-34\n",
      "nan\n",
      "0.0\n",
      "2.33930856294058e-85\n",
      "2.562143669163401e-34\n",
      "nan\n",
      "-4.440892098500626e-16\n",
      "6.936352283048091e-90\n",
      "2.562143669163401e-34\n",
      "nan\n",
      "2.220446049250313e-16\n",
      "8.505563031344439e-91\n",
      "2.8037369279891326e-34\n",
      "nan\n",
      "0.0\n",
      "5.55783805589187e-83\n",
      "2.8037369279891326e-34\n",
      "1.86440176250776e-57\n",
      "0.0\n",
      "9.704743262985268e-88\n",
      "2.8037369279891326e-34\n",
      "nan\n",
      "2.220446049250313e-16\n",
      "1.1976116667130362e-85\n",
      "2.7207913829411556e-34\n",
      "nan\n",
      "-8.881784197001252e-16\n",
      "7.374083458423969e-85\n",
      "2.8037369279891326e-34\n",
      "nan\n",
      "0.0\n",
      "1.9541614936327305e-81\n",
      "2.8891939979927045e-34\n",
      "nan\n",
      "0.0\n",
      "5.6775630344312005e-86\n",
      "2.562143669163401e-34\n",
      "nan\n",
      "0.0\n",
      "2.0581317770464764e-88\n",
      "2.7207913829411556e-34\n",
      "nan\n",
      "0.0\n",
      "1.306845923546889e-84\n",
      "2.562143669163401e-34\n",
      "nan\n",
      "0.0\n",
      "4.2199152968991567e-91\n",
      "2.562143669163401e-34\n",
      "1.86440176250776e-57\n",
      "0.0\n",
      "8.695280973520933e-85\n",
      "3.0679470531105663e-34\n",
      "nan\n",
      "0.0\n",
      "1.8932187301027755e-96\n",
      "2.562143669163401e-34\n",
      "nan\n",
      "2.220446049250313e-16\n",
      "2.3805286885922435e-89\n",
      "2.562143669163401e-34\n",
      "nan\n",
      "0.0\n",
      "3.900076928206124e-89\n",
      "2.562143669163401e-34\n",
      "nan\n",
      "4.440892098500626e-16\n",
      "8.879570933051192e-89\n",
      "2.562143669163401e-34\n",
      "nan\n",
      "0.0\n",
      "3.260255745286729e-86\n",
      "2.7207913829411556e-34\n",
      "nan\n",
      "2.220446049250313e-16\n",
      "5.714099270530476e-93\n",
      "2.562143669163401e-34\n",
      "nan\n",
      "0.0\n",
      "7.448756761478947e-91\n",
      "2.562143669163401e-34\n",
      "nan\n",
      "0.0\n",
      "3.806294674310296e-92\n",
      "2.562143669163401e-34\n",
      "nan\n",
      "0.0\n",
      "2.2513220369126974e-86\n",
      "3.0679470531105663e-34\n",
      "nan\n",
      "-4.440892098500626e-16\n",
      "2.78257764813041e-92\n",
      "2.562143669163401e-34\n",
      "nan\n",
      "4.440892098500626e-16\n",
      "1.6856728292204706e-91\n",
      "2.562143669163401e-34\n",
      "nan\n",
      "0.0\n",
      "1.919949080615749e-89\n",
      "2.562143669163401e-34\n"
     ]
    },
    {
     "name": "stdout",
     "output_type": "stream",
     "text": [
      "[0.0, 0.0, 4.440892098500626e-16, 0.0, 0.0, 2.220446049250313e-16, 0.0, 4.440892098500626e-16, 4.440892098500626e-16, 0.0, 0.0, 0.0, 0.0, 2.220446049250313e-16, -4.440892098500626e-16, 0.0, -4.440892098500626e-16, 0.0, 0.0, 2.220446049250313e-16, 0.0, 0.0, 0.0, 0.0, 0.0, 0.0, 0.0, 4.440892098500626e-16, 0.0, 0.0, 0.0, 0.0, 0.0, 0.0, 0.0, 4.440892098500626e-16, 0.0, -4.440892098500626e-16, 0.0, -4.440892098500626e-16, 4.440892098500626e-16, -4.440892098500626e-16, 0.0, 0.0, 0.0, 0.0, 0.0, 0.0, 0.0, 0.0]\n",
      "[5.346957864661823e-131, 4.2338627489022336e-131, 2.0413076009521016e-136, 2.6612510702288894e-128, 2.8934567278237227e-125, 1.9241428938257464e-134, 3.839231301527617e-138, 8.17585227753269e-127, 6.34146361723421e-140, 2.6342844721260916e-139, 6.396479649627623e-131, 5.542602048257783e-141, 1.4247506050826503e-138, 2.1332141919085515e-132, 1.9942180494894316e-136, 1.160139475817194e-139, 2.1400254198010505e-137, 3.535750815990893e-136, 1.4779227873837161e-137, 3.422431822363971e-134, 5.101936192068764e-131, 2.180608819193277e-125, 8.023823537779161e-144, 1.6662229217475547e-129, 7.386276781805606e-134, 1.960144229223286e-136, 7.225836389311908e-127, 1.2639141268185245e-127, 3.1961716037697776e-128, 5.125152339040575e-132, 3.793486245323307e-137, 9.14864696176231e-133, 3.4055332142726624e-136, 1.3411508427354678e-138, 4.640349440184716e-135, 2.6924454304189806e-131, 9.222118160700421e-130, 1.6798053881127248e-128, 6.488451655703219e-124, 2.350090668447745e-130, 1.154910989277074e-131, 2.8252671205289707e-128, 9.150615984688251e-122, 4.774830944702379e-136, 8.966643761793346e-125, 1.1579462767412412e-123, 1.5079020571486021e-134, 8.21722098698221e-122, 9.094391721399825e-129, 5.155667200689405e-133]\n",
      "CPU times: user 5.16 s, sys: 1.26 s, total: 6.42 s\n",
      "Wall time: 6.42 s\n",
      "nan\n",
      "0.0\n",
      "5.346957864661823e-131\n",
      "1.1012556781497328e-50\n",
      "nan\n",
      "0.0\n",
      "4.2338627489022336e-131\n",
      "1.1694109739781795e-50\n",
      "nan\n",
      "4.440892098500626e-16\n",
      "2.0413076009521016e-136\n",
      "1.0794278696650464e-50\n",
      "nan\n",
      "0.0\n",
      "2.6612510702288894e-128\n",
      "1.1012556781497328e-50\n",
      "nan\n",
      "0.0\n",
      "2.8934567278237227e-125\n",
      "1.266859476592891e-50\n",
      "nan\n",
      "2.220446049250313e-16\n",
      "1.9241428938257464e-134\n",
      "1.0794278696650464e-50\n",
      "nan\n",
      "0.0\n",
      "3.839231301527617e-138\n",
      "1.0794278696650464e-50\n",
      "nan\n",
      "4.440892098500626e-16\n",
      "8.17585227753269e-127\n",
      "1.2171646678869175e-50\n",
      "nan\n",
      "4.440892098500626e-16\n",
      "6.34146361723421e-140\n",
      "1.1694109739781795e-50\n",
      "nan\n",
      "0.0\n",
      "2.6342844721260916e-139\n",
      "1.0794278696650464e-50\n",
      "nan\n",
      "0.0\n",
      "6.396479649627623e-131\n",
      "1.0794278696650464e-50\n",
      "nan\n",
      "0.0\n",
      "5.542602048257783e-141\n",
      "1.1012556781497328e-50\n",
      "nan\n",
      "0.0\n",
      "1.4247506050826503e-138\n",
      "1.0794278696650464e-50\n",
      "nan\n",
      "2.220446049250313e-16\n",
      "2.1332141919085515e-132\n",
      "1.1462383369988798e-50\n",
      "nan\n",
      "-4.440892098500626e-16\n",
      "1.9942180494894316e-136\n",
      "1.0794278696650464e-50\n",
      "nan\n",
      "0.0\n",
      "1.160139475817194e-139\n",
      "1.0794278696650464e-50\n",
      "nan\n",
      "-4.440892098500626e-16\n",
      "2.1400254198010505e-137\n",
      "1.0794278696650464e-50\n",
      "nan\n",
      "0.0\n",
      "3.535750815990893e-136\n",
      "1.1694109739781795e-50\n",
      "nan\n",
      "0.0\n",
      "1.4779227873837161e-137\n",
      "1.0794278696650464e-50\n",
      "3.28462595747138e-86\n",
      "2.220446049250313e-16\n",
      "3.422431822363971e-134\n",
      "1.1930499699603235e-50\n",
      "nan\n",
      "0.0\n",
      "5.101936192068764e-131\n",
      "1.1462383369988798e-50\n",
      "nan\n",
      "0.0\n",
      "2.180608819193277e-125\n",
      "1.0794278696650464e-50\n",
      "nan\n",
      "0.0\n",
      "8.023823537779161e-144\n",
      "1.0794278696650464e-50\n",
      "nan\n",
      "0.0\n",
      "1.6662229217475547e-129\n",
      "1.1012556781497328e-50\n",
      "nan\n",
      "0.0\n",
      "7.386276781805606e-134\n",
      "1.0794278696650464e-50\n",
      "nan\n",
      "0.0\n",
      "1.960144229223286e-136\n",
      "1.292459219675338e-50\n",
      "nan\n",
      "0.0\n",
      "7.225836389311908e-127\n",
      "1.3452139405539497e-50\n",
      "3.28462595747138e-86\n",
      "4.440892098500626e-16\n",
      "1.2639141268185245e-127\n",
      "1.3185739369245345e-50\n",
      "nan\n",
      "0.0\n",
      "3.1961716037697776e-128\n",
      "1.1012556781497328e-50\n",
      "nan\n",
      "0.0\n",
      "5.125152339040575e-132\n",
      "1.0794278696650464e-50\n",
      "nan\n",
      "0.0\n",
      "3.793486245323307e-137\n",
      "1.1462383369988798e-50\n",
      "nan\n",
      "0.0\n",
      "9.14864696176231e-133\n",
      "1.3452139405539497e-50\n",
      "nan\n",
      "0.0\n",
      "3.4055332142726624e-136\n",
      "1.0794278696650464e-50\n",
      "nan\n",
      "0.0\n",
      "1.3411508427354678e-138\n",
      "1.1012556781497328e-50\n",
      "nan\n",
      "0.0\n",
      "4.640349440184716e-135\n",
      "1.1694109739781795e-50\n",
      "nan\n",
      "4.440892098500626e-16\n",
      "2.6924454304189806e-131\n",
      "1.0794278696650464e-50\n",
      "nan\n",
      "0.0\n",
      "9.222118160700421e-130\n",
      "1.1235228987654802e-50\n",
      "nan\n",
      "-4.440892098500626e-16\n",
      "1.6798053881127248e-128\n",
      "1.3185739369245345e-50\n",
      "3.28462595747138e-86\n",
      "0.0\n",
      "6.488451655703219e-124\n",
      "1.547312419815327e-50\n",
      "nan\n",
      "-4.440892098500626e-16\n",
      "2.350090668447745e-130\n",
      "1.2417645970105577e-50\n",
      "nan\n",
      "4.440892098500626e-16\n",
      "1.154910989277074e-131\n",
      "1.0794278696650464e-50\n",
      "nan\n",
      "-4.440892098500626e-16\n",
      "2.8252671205289707e-128\n",
      "1.1012556781497328e-50\n",
      "3.28462595747138e-86\n",
      "0.0\n",
      "9.150615984688251e-122\n",
      "1.292459219675338e-50\n",
      "nan\n",
      "0.0\n",
      "4.774830944702379e-136\n",
      "1.1235228987654802e-50\n",
      "nan\n",
      "0.0\n",
      "8.966643761793346e-125\n",
      "1.1012556781497328e-50\n",
      "nan\n",
      "0.0\n",
      "1.1579462767412412e-123\n",
      "1.0794278696650464e-50\n",
      "nan\n",
      "0.0\n",
      "1.5079020571486021e-134\n",
      "1.0794278696650464e-50\n",
      "nan\n",
      "0.0\n",
      "8.21722098698221e-122\n",
      "1.3185739369245345e-50\n",
      "nan\n",
      "0.0\n",
      "9.094391721399825e-129\n",
      "1.1235228987654802e-50\n",
      "nan\n",
      "0.0\n",
      "5.155667200689405e-133\n",
      "1.1930499699603235e-50\n",
      "[2.220446049250313e-16, 4.440892098500626e-16, 0.0, 0.0, 0.0, 0.0, 0.0, -4.440892098500626e-16, 2.220446049250313e-16, -4.440892098500626e-16, 0.0, 0.0, -4.440892098500626e-16, 0.0, 4.440892098500626e-16, 0.0, -8.881784197001252e-16, 2.220446049250313e-16, 0.0, 4.440892098500626e-16, 0.0, 4.440892098500626e-16, 0.0, 0.0, 0.0, 4.440892098500626e-16, -4.440892098500626e-16, 0.0, 0.0, 0.0, -4.440892098500626e-16, 0.0, 0.0, 0.0, -4.440892098500626e-16, 0.0, 0.0, 0.0, 0.0, 4.440892098500626e-16, 0.0, 0.0, 0.0, -4.440892098500626e-16, 0.0, 0.0, 0.0, 0.0, 0.0, 0.0]\n",
      "[1.1292019119016264e-182, 1.1792260792342999e-181, 2.285815625420652e-179, 2.370646953447203e-172, 1.8249009410787522e-196, 3.100551011042182e-180, 7.53952769173198e-180, 8.561972167899638e-176, 1.192172354088603e-174, 1.3698126698758113e-179, 2.4105837527705186e-181, 1.1803055280291598e-177, 2.174559652355979e-187, 2.223035345649643e-179, 3.92354132947198e-174, 8.010607496300895e-167, 2.6559666497974502e-173, 4.641304755244764e-171, 2.633033644274252e-171, 5.2678145808492784e-169, 2.567485759458022e-171, 1.2512534866554307e-172, 4.084816758012373e-186, 2.5399493351209597e-164, 4.1093136472420255e-178, 3.521697910737273e-181, 3.290314910554371e-174, 1.284346201182398e-173, 2.334111791403162e-177, 5.5335272230772014e-160, 2.7083547971260555e-180, 4.3320372506858165e-175, 5.429710004900811e-168, 8.585367367259968e-178, 1.8853400440552808e-166, 2.3588835947897124e-175, 2.7020622067815926e-169, 1.0316579066974664e-168, 4.540935148855495e-168, 8.022824530259677e-183, 3.963145308488989e-172, 3.5402672439450696e-168, 5.772813286706062e-177, 4.2897125946992744e-181, 3.9519500105172347e-187, 9.605535120338747e-177, 1.2772628877809175e-175, 1.2293544074087809e-177, 5.6924634218155e-181, 5.3359265732863295e-176]\n",
      "CPU times: user 10.9 s, sys: 2.93 s, total: 13.8 s\n",
      "Wall time: 13.8 s\n",
      "nan\n",
      "2.220446049250313e-16\n",
      "1.1292019119016264e-182\n",
      "4.9780888434878555e-67\n",
      "nan\n",
      "4.440892098500626e-16\n",
      "1.1792260792342999e-181\n",
      "5.3660320944558954e-67\n",
      "nan\n",
      "0.0\n",
      "2.285815625420652e-179\n",
      "5.0533736956310836e-67\n",
      "nan\n",
      "0.0\n",
      "2.370646953447203e-172\n",
      "4.830856390397399e-67\n",
      "nan\n",
      "0.0\n",
      "1.8249009410787522e-196\n",
      "4.830856390397399e-67\n",
      "nan\n",
      "0.0\n",
      "3.100551011042182e-180\n",
      "5.129793273788126e-67\n",
      "nan\n",
      "0.0\n",
      "7.53952769173198e-180\n",
      "5.5295176425092326e-67\n",
      "nan\n",
      "-4.440892098500626e-16\n",
      "8.561972167899638e-176\n",
      "5.784099996620971e-67\n",
      "nan\n",
      "2.220446049250313e-16\n",
      "1.192172354088603e-174\n",
      "5.129793273788126e-67\n",
      "5.80885368820588e-115\n",
      "-4.440892098500626e-16\n",
      "1.3698126698758113e-179\n",
      "5.2861050435052875e-67\n",
      "nan\n",
      "0.0\n",
      "2.4105837527705186e-181\n",
      "4.9780888434878555e-67\n",
      "nan\n",
      "0.0\n",
      "1.1803055280291598e-177\n",
      "4.903921923718317e-67\n",
      "nan\n",
      "-4.440892098500626e-16\n",
      "2.174559652355979e-187\n",
      "5.0533736956310836e-67\n",
      "nan\n",
      "0.0\n",
      "2.223035345649643e-179\n",
      "5.207364623009074e-67\n",
      "nan\n",
      "4.440892098500626e-16\n",
      "3.92354132947198e-174\n",
      "5.129793273788126e-67\n",
      "5.80885368820588e-115\n",
      "0.0\n",
      "8.010607496300895e-167\n",
      "5.871530569296763e-67\n",
      "nan\n",
      "-8.881784197001252e-16\n",
      "2.6559666497974502e-173\n",
      "5.871530569296763e-67\n",
      "nan\n",
      "2.220446049250313e-16\n",
      "4.641304755244764e-171\n",
      "5.697967068193072e-67\n",
      "nan\n",
      "0.0\n",
      "2.633033644274252e-171\n",
      "4.830856390397399e-67\n",
      "nan\n",
      "4.440892098500626e-16\n",
      "5.2678145808492784e-169\n",
      "5.697967068193072e-67\n",
      "5.80885368820588e-115\n",
      "0.0\n",
      "2.567485759458022e-171\n",
      "5.871530569296763e-67\n",
      "nan\n",
      "4.440892098500626e-16\n",
      "1.2512534866554307e-172\n",
      "4.9780888434878555e-67\n",
      "nan\n",
      "0.0\n",
      "4.084816758012373e-186\n",
      "4.830856390397399e-67\n",
      "5.80885368820588e-115\n",
      "0.0\n",
      "2.5399493351209597e-164\n",
      "7.463728352511594e-67\n",
      "nan\n",
      "0.0\n",
      "4.1093136472420255e-178\n",
      "5.447163597870108e-67\n",
      "nan\n",
      "4.440892098500626e-16\n",
      "3.521697910737273e-181\n",
      "4.830856390397399e-67\n",
      "nan\n",
      "-4.440892098500626e-16\n",
      "3.290314910554371e-174\n",
      "4.830856390397399e-67\n",
      "nan\n",
      "0.0\n",
      "1.284346201182398e-173\n",
      "5.0533736956310836e-67\n",
      "nan\n",
      "0.0\n",
      "2.334111791403162e-177\n",
      "5.0533736956310836e-67\n",
      "7.66983842527743e-113\n",
      "0.0\n",
      "5.5335272230772014e-160\n",
      "1.3791180553149505e-66\n",
      "nan\n",
      "-4.440892098500626e-16\n",
      "2.7083547971260555e-180\n",
      "4.9780888434878555e-67\n",
      "nan\n",
      "0.0\n",
      "4.3320372506858165e-175\n",
      "4.9780888434878555e-67\n",
      "nan\n",
      "0.0\n",
      "5.429710004900811e-168\n",
      "5.0533736956310836e-67\n",
      "nan\n",
      "0.0\n",
      "8.585367367259968e-178\n",
      "4.903921923718317e-67\n",
      "nan\n",
      "-4.440892098500626e-16\n",
      "1.8853400440552808e-166\n",
      "4.903921923718317e-67\n",
      "nan\n",
      "0.0\n",
      "2.3588835947897124e-175\n",
      "5.3660320944558954e-67\n",
      "nan\n",
      "0.0\n",
      "2.7020622067815926e-169\n",
      "5.5295176425092326e-67\n",
      "nan\n",
      "0.0\n",
      "1.0316579066974664e-168\n",
      "5.5295176425092326e-67\n",
      "nan\n",
      "0.0\n",
      "4.540935148855495e-168\n",
      "8.801330442870962e-67\n",
      "nan\n",
      "4.440892098500626e-16\n",
      "8.022824530259677e-183\n",
      "4.830856390397399e-67\n",
      "nan\n",
      "0.0\n",
      "3.963145308488989e-172\n",
      "5.6131125878640977e-67\n",
      "7.66983842527743e-113\n",
      "0.0\n",
      "3.5402672439450696e-168\n",
      "7.463728352511594e-67\n",
      "nan\n",
      "0.0\n",
      "5.772813286706062e-177\n",
      "5.0533736956310836e-67\n",
      "nan\n",
      "-4.440892098500626e-16\n",
      "4.2897125946992744e-181\n",
      "4.9780888434878555e-67\n",
      "nan\n",
      "0.0\n",
      "3.9519500105172347e-187\n",
      "6.521552507886731e-67\n",
      "nan\n",
      "0.0\n",
      "9.605535120338747e-177\n",
      "4.9780888434878555e-67\n",
      "nan\n",
      "0.0\n",
      "1.2772628877809175e-175\n",
      "4.9780888434878555e-67\n",
      "nan\n",
      "0.0\n",
      "1.2293544074087809e-177\n",
      "5.207364623009074e-67\n",
      "nan\n",
      "0.0\n",
      "5.6924634218155e-181\n",
      "6.620090681090067e-67\n",
      "nan\n",
      "0.0\n",
      "5.3359265732863295e-176\n",
      "4.830856390397399e-67\n"
     ]
    }
   ],
   "source": [
    "errorDictList = list()\n",
    "for setS in setSize:\n",
    "    Anorm1, Bnorm1 = getSynteticData(np.random.normal, mean=5.1, setN=setS,sampleN=50)\n",
    "    %time dataDict = getPrediction(Anorm1, Bnorm1)\n",
    "    errorDict = relError(dataDict)\n",
    "    errorDictList.append(errorDict)"
   ]
  },
  {
   "cell_type": "code",
   "execution_count": null,
   "metadata": {},
   "outputs": [],
   "source": [
    "SNSMultipleboxPlot(errorDictList, setSize)"
   ]
  },
  {
   "cell_type": "code",
   "execution_count": null,
   "metadata": {},
   "outputs": [],
   "source": [
    "[error[\"fpList\"] for error in errorDictList]"
   ]
  },
  {
   "cell_type": "code",
   "execution_count": null,
   "metadata": {},
   "outputs": [],
   "source": []
  },
  {
   "cell_type": "code",
   "execution_count": null,
   "metadata": {},
   "outputs": [],
   "source": [
    "preparePandas([error[\"eList\"] for error in errorDictList], setSize)"
   ]
  },
  {
   "cell_type": "code",
   "execution_count": null,
   "metadata": {},
   "outputs": [],
   "source": [
    "errorDictList = list()\n",
    "for setS in setSize:\n",
    "    Anorm, Bnorm = getSynteticData(np.random.normal, mean=0, setN=setS,sampleN=50)\n",
    "    %time dataDict = getPrediction(Anorm, Bnorm)\n",
    "    errorDict = relError(dataDict)\n",
    "    errorDictList.append(errorDict)"
   ]
  },
  {
   "cell_type": "code",
   "execution_count": null,
   "metadata": {},
   "outputs": [],
   "source": [
    "preparePandas([error[\"eList\"] for error in errorDictList], setSize)"
   ]
  },
  {
   "cell_type": "code",
   "execution_count": null,
   "metadata": {},
   "outputs": [],
   "source": [
    "errorDict"
   ]
  },
  {
   "cell_type": "code",
   "execution_count": null,
   "metadata": {},
   "outputs": [],
   "source": []
  },
  {
   "cell_type": "code",
   "execution_count": null,
   "metadata": {},
   "outputs": [],
   "source": []
  },
  {
   "cell_type": "code",
   "execution_count": null,
   "metadata": {},
   "outputs": [],
   "source": []
  },
  {
   "cell_type": "code",
   "execution_count": null,
   "metadata": {},
   "outputs": [],
   "source": []
  },
  {
   "cell_type": "code",
   "execution_count": null,
   "metadata": {},
   "outputs": [],
   "source": []
  },
  {
   "cell_type": "code",
   "execution_count": null,
   "metadata": {},
   "outputs": [],
   "source": [
    "from significance_of_mean_cuda import significance_of_mean_cuda\n",
    "from utils import significance_of_mean, getdf, my_scatter_plot, ttests, MW\n",
    "import numpy as np\n",
    "import time\n",
    "import multiprocessing\n",
    "import concurrent.futures as cf\n",
    "import matplotlib.pyplot as plt\n",
    "import numpy as np\n",
    "from scipy.stats import truncnorm\n",
    "import matplotlib.pyplot as plt\n",
    "from IPython.display import Image\n",
    "\n",
    "import time\n",
    "from scipy.stats import ttest_ind, ttest_rel, chisquare, ks_2samp\n",
    "import pandas as pd\n",
    "import seaborn as sns\n",
    "\n",
    "import matplotlib as mpl\n",
    "\n",
    "mpl.rcParams['text.usetex'] = False  # not really needed\n",
    "\n",
    "from scipy import stats\n",
    "from scipy.stats import mannwhitneyu"
   ]
  },
  {
   "cell_type": "code",
   "execution_count": null,
   "metadata": {},
   "outputs": [],
   "source": [
    "def p_value_calc(args):\n",
    "    a,b, bins = args\n",
    "    p=significance_of_mean(a,b, bins)[0]\n",
    "    return p"
   ]
  },
  {
   "cell_type": "markdown",
   "metadata": {},
   "source": [
    "### Load data from MC approximation of permutation test"
   ]
  },
  {
   "cell_type": "code",
   "execution_count": null,
   "metadata": {},
   "outputs": [],
   "source": [
    "def loadMcResult(sampleShape, mean):\n",
    "    X_list = list()\n",
    "    y_list = list()\n",
    "    p_val_list = list()\n",
    "    time_listMc = list()\n",
    "    for S in sampleShape:\n",
    "        X = pd.read_csv(\"dataFastPerm/data_{}/X_{}.csv\".format(mean, S))\n",
    "        Y = pd.read_csv(\"dataFastPerm/data_{}/y_{}.csv\".format(mean, S))\n",
    "        p_val = pd.read_csv(\"dataFastPerm/data_{}/error_{}.csv\".format(mean, S))\n",
    "        timeMc = pd.read_csv(\"dataFastPerm/data_{}/Time_{}.csv\".format(mean, S))\n",
    "    \n",
    "    \n",
    "        X.columns = range(X.shape[1])\n",
    "        Y.columns = range(Y.shape[1])\n",
    "        p_val.columns = range(p_val.shape[1])\n",
    "        timeMc.columns = range(timeMc.shape[1])\n",
    "    \n",
    "    \n",
    "        X_list.append([np.array(x.split(\" \")[1:]).astype(float) for x in X[0].values])\n",
    "        y_list.append([np.array(y.split(\" \")[1:]).astype(float) for y in Y[0].values])\n",
    "        p_val_list.append(np.array([float(p[0].split(\" \")[1]) for p in p_val.values]))\n",
    "        time_listMc.append([float(t[0].split(\" \")[1]) for t in timeMc.values])\n",
    "    \n",
    "    return X_list, y_list, p_val_list, time_listMc"
   ]
  },
  {
   "cell_type": "markdown",
   "metadata": {},
   "source": [
    "### Get p-value for the the parallelized permutation test"
   ]
  },
  {
   "cell_type": "code",
   "execution_count": null,
   "metadata": {},
   "outputs": [],
   "source": [
    "def run_test(X,Y,bins, parallel=True, midP=False):\n",
    "\n",
    "    \n",
    "    \n",
    "    if parallel:\n",
    "        #Exact test\n",
    "        SGM = significance_of_mean_cuda(bins, dtype_v=np.uint32,dtype_A=np.float64)\n",
    "        SGM.run(X.reshape(1,-1),Y.reshape(1,-1), midP)\n",
    "        p_val = SGM.p_values[0]\n",
    "    else:\n",
    "        p_val = p_value_calc([list(X), list(Y), bins])\n",
    "    #print(p_val)\n",
    "    #p_val = [min(2*p, 2*(1-p)) for p in p_val]\n",
    "    return p_val"
   ]
  },
  {
   "cell_type": "markdown",
   "metadata": {},
   "source": [
    "### Get all p-values from the prallelized exact test from the same data as the MC version"
   ]
  },
  {
   "cell_type": "code",
   "execution_count": null,
   "metadata": {},
   "outputs": [],
   "source": [
    "def shiftMethod(X_list, y_list, bins, parallel=True, midP=False):\n",
    "    pe_list = list()\n",
    "    TIME = list()\n",
    "\n",
    "    for Xp, yp in zip(X_list, y_list):\n",
    "        Xp = np.asarray(Xp).T\n",
    "        yp = np.asarray(yp).T\n",
    "        \n",
    "        p_e = list()\n",
    "        time_list = list()\n",
    "    \n",
    "        for x, y in zip(Xp, yp):\n",
    "            \n",
    "            start = time.time()\n",
    "            p_e.append(run_test(y, x, bins, parallel, midP))\n",
    "            end = time.time()\n",
    "        \n",
    "            time_list.append(end - start)\n",
    "        p_e = [min(2*p, 2*(1-p)) for p in p_e]\n",
    "        pe_list.append(p_e)\n",
    "        TIME.append(time_list)\n",
    "    \n",
    "    return pe_list, TIME\n",
    "    "
   ]
  },
  {
   "cell_type": "code",
   "execution_count": null,
   "metadata": {},
   "outputs": [],
   "source": [
    "def ttest(X_list, y_list):\n",
    "    pt_list = list()\n",
    "\n",
    "    for Xp, yp in zip(X_list, y_list):\n",
    "        Xp = np.asarray(Xp).T\n",
    "        yp = np.asarray(yp).T\n",
    "        \n",
    "\n",
    "    \n",
    "        p_t = ttests(Xp, yp)\n",
    "        \n",
    "        pt_list.append(p_t)\n",
    "\n",
    "    \n",
    "    return pt_list\n",
    "    "
   ]
  },
  {
   "cell_type": "code",
   "execution_count": null,
   "metadata": {},
   "outputs": [],
   "source": [
    "def mannWhitney(X_list, y_list, alternative=\"two-tail\"):\n",
    "    assert alternative in [\"less\",\"greater\",\"two-tail\"]\n",
    "    pmw_list = list()\n",
    "\n",
    "    for Xp, yp in zip(X_list, y_list):\n",
    "        Xp = np.asarray(Xp).T\n",
    "        yp = np.asarray(yp).T\n",
    "        \n",
    "        p_mw = MW(Xp, yp)\n",
    "    \n",
    "            \n",
    "        pmw_list.append(p_mw)\n",
    "\n",
    "    \n",
    "    return pmw_list"
   ]
  },
  {
   "cell_type": "markdown",
   "metadata": {},
   "source": [
    "### Compare parallelized and MC version"
   ]
  },
  {
   "cell_type": "code",
   "execution_count": null,
   "metadata": {},
   "outputs": [],
   "source": [
    "def compare(p_val_list, pe_list, pt_list, pmw_list):\n",
    "    PE_err = list()\n",
    "    PAE_err = list()\n",
    "    PMW_err = list()\n",
    "    \n",
    "    for P_ae, P_e, P_t, P_mw in zip(p_val_list, pe_list, pt_list, pmw_list):\n",
    "        P_ae_error = list()\n",
    "        P_e_error = list()\n",
    "        P_mw_error = list()\n",
    "        \n",
    "        for ae, e, t, mw in zip(P_ae, P_e, P_t, P_mw):\n",
    "            P_ae_error.append((ae - t) / t)\n",
    "            P_e_error.append((e - t) / t)\n",
    "            P_mw_error.append((mw - t) / t)\n",
    "            \n",
    "        PE_err.append(P_e_error)\n",
    "        PAE_err.append(P_ae_error)\n",
    "        PMW_err.append(P_mw_error)\n",
    "    \n",
    "    return PE_err, PAE_err, PMW_err\n"
   ]
  },
  {
   "cell_type": "markdown",
   "metadata": {},
   "source": [
    "### Boxplot"
   ]
  },
  {
   "cell_type": "code",
   "execution_count": null,
   "metadata": {},
   "outputs": [],
   "source": [
    "def boxPlot(error, Bin, log=False, path=None):\n",
    "    my_dict = dict()\n",
    "    for d, b in zip(error, Bin):\n",
    "        my_dict[str(b)] = d\n",
    "    \n",
    "    fig, ax = plt.subplots()\n",
    "    ax.boxplot(my_dict.values())\n",
    "    ax.set_xticklabels(my_dict.keys())\n",
    "    \n",
    "    plt.ylabel(r\"$|\\frac{p_{*}-p_{t}}{p_{t}}|$\",fontsize=20)\n",
    "        \n",
    "        \n",
    "    plt.xlabel(\"Sample size\",fontsize=15)\n",
    "    \n",
    "    #if MAX and MIN:\n",
    "    #    RANGE = np.arange(np.floor(MIN), np.ceil(MAX))\n",
    "    #    ax.set_yticks(RANGE)\n",
    "    #    ax.set_yticklabels(10.0**RANGE)\n",
    "    if log:\n",
    "        RANGE = np.arange(np.floor(np.min(error)), np.ceil(np.max(error)))\n",
    "        ax.set_yticks(RANGE)\n",
    "        ax.set_yticklabels(10.0**RANGE)\n",
    "\n",
    "    \n",
    "    if path:\n",
    "        fig.savefig(path+\".jpg\", bbox_inches='tight')\n",
    "        \n",
    "    "
   ]
  },
  {
   "cell_type": "code",
   "execution_count": null,
   "metadata": {},
   "outputs": [],
   "source": [
    "def SNSboxPlot(error, Bin, log=False, path=None):\n",
    "    \n",
    "    data = preparePandas(error, Bin)\n",
    "    pdData = pd.DataFrame(data, columns=['error','bins'])\n",
    "    \n",
    "    snsPlot = sns.boxplot(x=\"bins\", y=\"error\", data=pdData)\n",
    "\n",
    "    #plt.ylabel(r\"$\\frac{p^{*}-p_{t}}{p_{t}}$\",fontsize=20)\n",
    "    \n",
    "    plt.ylabel(r\"Relative error ($|\\frac{p^{*}-p_{t}}{p_{t}}|$)\",fontsize=20)\n",
    "        \n",
    "        \n",
    "    plt.xlabel(r\"$n$\",fontsize=15)\n",
    "    \n",
    "    plt.tight_layout()\n",
    "    \n",
    "    \n",
    "    if log:\n",
    "        \n",
    "        RANGE = np.arange(np.floor(np.min(error)), np.ceil(np.max(error)))\n",
    "        plt.yticks(RANGE, 10.0**RANGE)\n",
    "    \n",
    "\n",
    "    \n",
    "    if path:\n",
    "        fig = snsPlot.get_figure()\n",
    "        print(fig)\n",
    "\n",
    "        fig.savefig(path)\n",
    "        \n",
    "    "
   ]
  },
  {
   "cell_type": "code",
   "execution_count": null,
   "metadata": {},
   "outputs": [],
   "source": []
  },
  {
   "cell_type": "code",
   "execution_count": null,
   "metadata": {},
   "outputs": [],
   "source": [
    "def SNSMultipleboxPlot(errorParallel, errorFastApprox,errorMW, Bin, log=False, path=None):\n",
    "    \n",
    "    dataParallel = preparePandas(errorParallel, Bin, \"Parallel shift method\")\n",
    "    dataFastApprox = preparePandas(errorFastApprox, Bin, \"Fast approx\")\n",
    "    MannWhitneyApprox = preparePandas(errorMW, Bin, \"Mann–Whitney U-test\")\n",
    "    \n",
    "    data = dataParallel + dataFastApprox + MannWhitneyApprox\n",
    "    \n",
    "    pdData = pd.DataFrame(data, columns=['error','bins', 'Method'])\n",
    "    snsPlot = sns.boxplot(x=\"bins\", y=\"error\", data=pdData, hue=\"Method\")\n",
    "    \n",
    "    \n",
    "    plt.ylabel(r\"Relative error ($|\\frac{p^{*}-p_{t}}{p_{t}}|$)\",fontsize=20)\n",
    "        \n",
    "        \n",
    "    plt.xlabel(r\"$n$\",fontsize=15)\n",
    "    \n",
    "    plt.tight_layout()\n",
    "    plt.tick_params(labelsize=6) \n",
    "    \n",
    "    \n",
    "\n",
    "\n",
    "\n",
    "    \n",
    "    if log:\n",
    "        MAX = max(np.max(errorParallel), np.max(errorFastApprox), np.max(errorMW))\n",
    "        MIN = min(np.min(errorParallel), np.min(errorFastApprox), np.min(errorMW))\n",
    "        \n",
    "        RANGE = np.arange(np.floor(MIN), np.ceil(MAX))\n",
    "        plt.yticks(RANGE, 10.0**RANGE)\n",
    "        \n",
    "    \n",
    "\n",
    "    \n",
    "    if path:\n",
    "        fig = snsPlot.get_figure()\n",
    "        fig.savefig(path)"
   ]
  },
  {
   "cell_type": "code",
   "execution_count": null,
   "metadata": {},
   "outputs": [],
   "source": [
    "def preparePandas(timeData, sampleSizes, label=None):\n",
    "    preparePd = list()\n",
    "    for time, sample in zip(timeData, sampleSizes):\n",
    "        for t in time:\n",
    "            if label:\n",
    "                preparePd.append([t, sample, label])\n",
    "            else:\n",
    "                preparePd.append([t, sample])\n",
    "    return preparePd\n",
    "    "
   ]
  },
  {
   "cell_type": "markdown",
   "metadata": {},
   "source": [
    "### Time-plot"
   ]
  },
  {
   "cell_type": "code",
   "execution_count": null,
   "metadata": {},
   "outputs": [],
   "source": [
    "def timePlot(TIMEParallel, TIME_MC, sampleShape, path=None, log=False, TIMEsingleThred=None):\n",
    "    plt.plot(sampleShape, np.mean(TIMEParallel,axis=1), 'r-', label='Parallelization of P-value')\n",
    "    plt.plot(sampleShape, np.mean(TIME_MC,axis=1), 'g-', label='Approximation of P-value')\n",
    "    if np.any(TIMEsingleThred):\n",
    "        plt.plot(sampleShape, np.mean(TIMEsingleThred,axis=1), 'y-', label='Single thread shift method of P-value')\n",
    "        \n",
    "    plt.legend(loc='upper left')\n",
    "    plt.xlabel(r\"Sample size\")\n",
    "    if log:        \n",
    "        MAX = max(np.max(TIMEParallel), np.max(TIME_MC))\n",
    "        MIN = min(np.min(TIMEParallel), np.min(TIME_MC))\n",
    "        if np.any(TIMEsingleThred):\n",
    "            MAX = max(np.max(TIMEParallel), np.max(TIME_MC), np.max(TIMEsingleThred))\n",
    "            MIN = min(np.min(TIMEParallel), np.min(TIME_MC), np.min(TIMEsingleThred))\n",
    "            \n",
    "        \n",
    "        RANGE = np.arange(np.floor(MIN), np.ceil(MAX))\n",
    "        plt.yticks(RANGE, 10.0**RANGE)\n",
    "            \n",
    "    plt.ylabel(\"Time(s)\")\n",
    "    plt.tight_layout()\n",
    "    if path:\n",
    "        plt.savefig(path)\n",
    "    plt.show()"
   ]
  },
  {
   "cell_type": "code",
   "execution_count": null,
   "metadata": {},
   "outputs": [],
   "source": [
    "def getPATH(path, suffix, prefix):\n",
    "    return path + '/'+ suffix + '/' + prefix"
   ]
  },
  {
   "cell_type": "code",
   "execution_count": null,
   "metadata": {},
   "outputs": [],
   "source": [
    "path = \"figures/paralellVsFastApprox\""
   ]
  },
  {
   "cell_type": "markdown",
   "metadata": {},
   "source": [
    "## Sample sizes of X and Y"
   ]
  },
  {
   "cell_type": "code",
   "execution_count": null,
   "metadata": {},
   "outputs": [],
   "source": [
    "sampleShape = [10,50,100,150,200,250,300]"
   ]
  },
  {
   "cell_type": "markdown",
   "metadata": {},
   "source": [
    "# Experiment 1: with $X \\sim N(5.0,1)$ and $Y\\sim N(5.2,1)$"
   ]
  },
  {
   "cell_type": "code",
   "execution_count": null,
   "metadata": {},
   "outputs": [],
   "source": [
    "mean = 5.2"
   ]
  },
  {
   "cell_type": "code",
   "execution_count": null,
   "metadata": {},
   "outputs": [],
   "source": [
    "X_list5_2, y_list5_2, p_val_list5_2, time_listMc5_2 = loadMcResult(sampleShape, mean)"
   ]
  },
  {
   "cell_type": "code",
   "execution_count": null,
   "metadata": {},
   "outputs": [],
   "source": [
    "pe_list5_2, TIME5_2 = shiftMethod(np.asarray(X_list5_2), np.asarray(y_list5_2), 40)\n",
    "pt_list5_2 = ttest(np.asarray(X_list5_2), np.asarray(y_list5_2))\n",
    "pmw_list5_2 = mannWhitney(np.asarray(X_list5_2), np.asarray(y_list5_2))"
   ]
  },
  {
   "cell_type": "code",
   "execution_count": null,
   "metadata": {},
   "outputs": [],
   "source": [
    "PE_err5_2, PAE_err5_2, PMW_err5_2 = compare(p_val_list5_2, pe_list5_2, pt_list5_2, pmw_list5_2)"
   ]
  },
  {
   "cell_type": "markdown",
   "metadata": {},
   "source": [
    "## Approximation of P-value"
   ]
  },
  {
   "cell_type": "code",
   "execution_count": null,
   "metadata": {},
   "outputs": [],
   "source": [
    "SNSboxPlot(PAE_err5_2, sampleShape,path=getPATH(path, str(mean),\"SNSfastPermBox\"))"
   ]
  },
  {
   "cell_type": "code",
   "execution_count": null,
   "metadata": {},
   "outputs": [],
   "source": [
    "SNSboxPlot(np.log10(np.abs(PAE_err5_2)), sampleShape, \n",
    "        path=getPATH(path, str(mean),\"SNSfastPermBoxLog\"), \n",
    "        log=True)"
   ]
  },
  {
   "cell_type": "markdown",
   "metadata": {},
   "source": [
    "## Parallelization of P-value"
   ]
  },
  {
   "cell_type": "code",
   "execution_count": null,
   "metadata": {},
   "outputs": [],
   "source": [
    "SNSboxPlot(PE_err5_2, sampleShape, path=getPATH(path, str(mean),\"SNSparallelBox\"))"
   ]
  },
  {
   "cell_type": "code",
   "execution_count": null,
   "metadata": {},
   "outputs": [],
   "source": [
    "SNSboxPlot(np.log10(np.abs(PE_err5_2)), sampleShape, \n",
    "        path=getPATH(path, str(mean),\"SNSparallelBoxLog\"), \n",
    "log=True)"
   ]
  },
  {
   "cell_type": "markdown",
   "metadata": {},
   "source": [
    "## MannWhitney"
   ]
  },
  {
   "cell_type": "code",
   "execution_count": null,
   "metadata": {},
   "outputs": [],
   "source": [
    "SNSboxPlot(PMW_err5_2, sampleShape, path=getPATH(path, str(mean),\"SNSMannWhitneyBox\"))"
   ]
  },
  {
   "cell_type": "code",
   "execution_count": null,
   "metadata": {},
   "outputs": [],
   "source": [
    "SNSboxPlot(np.log10(np.abs(PMW_err5_2)), sampleShape, \n",
    "        path=getPATH(path, str(mean),\"SNSMannWhitneyBoxLog\"), \n",
    "log=True)"
   ]
  },
  {
   "cell_type": "markdown",
   "metadata": {},
   "source": [
    "## Multiple boxplot"
   ]
  },
  {
   "cell_type": "code",
   "execution_count": null,
   "metadata": {},
   "outputs": [],
   "source": [
    "mean = 5.2"
   ]
  },
  {
   "cell_type": "code",
   "execution_count": null,
   "metadata": {},
   "outputs": [],
   "source": [
    "SNSMultipleboxPlot(np.log10(np.abs(PE_err5_2)), np.log10(np.abs(PAE_err5_2)), \n",
    "                   np.log10(np.abs(PMW_err5_2)), sampleShape, log=True,\n",
    "                  path=getPATH(path, str(mean),\"SNSfastPermMultipleBox\"))"
   ]
  },
  {
   "cell_type": "markdown",
   "metadata": {},
   "source": [
    "# Experiment 2: with $X \\sim N(5.0,1)$ and $Y\\sim N(5.4,1)$"
   ]
  },
  {
   "cell_type": "code",
   "execution_count": null,
   "metadata": {},
   "outputs": [],
   "source": [
    "mean = 5.4\n",
    "X_list5_4, y_list5_4, p_val_list5_4, time_listMc5_4 = loadMcResult(sampleShape, mean)"
   ]
  },
  {
   "cell_type": "code",
   "execution_count": null,
   "metadata": {},
   "outputs": [],
   "source": [
    "pe_list5_4, TIME5_4 = shiftMethod(np.asarray(X_list5_4), np.asarray(y_list5_4), 40)\n",
    "\n",
    "\n",
    "pt_list5_4 = ttest(np.asarray(X_list5_4), np.asarray(y_list5_4))\n",
    "pmw_list5_4 = mannWhitney(np.asarray(X_list5_4), np.asarray(y_list5_4))\n",
    "PE_err5_4, PAE_err5_4, PMW_err5_4 = compare(p_val_list5_4, pe_list5_4, pt_list5_4, pmw_list5_4)"
   ]
  },
  {
   "cell_type": "markdown",
   "metadata": {},
   "source": [
    "## Approximation of P-value"
   ]
  },
  {
   "cell_type": "code",
   "execution_count": null,
   "metadata": {},
   "outputs": [],
   "source": [
    "SNSboxPlot(PAE_err5_4, sampleShape, path=getPATH(path, str(mean),\"SNSfastPermBox\"))"
   ]
  },
  {
   "cell_type": "code",
   "execution_count": null,
   "metadata": {},
   "outputs": [],
   "source": [
    "SNSboxPlot(np.log10(np.abs(PAE_err5_4)), sampleShape, path=getPATH(path, str(mean),\"SNSfastPermBoxLog\"), log=True,\n",
    "       )"
   ]
  },
  {
   "cell_type": "markdown",
   "metadata": {},
   "source": [
    "## Parallelization of P-value"
   ]
  },
  {
   "cell_type": "code",
   "execution_count": null,
   "metadata": {},
   "outputs": [],
   "source": [
    "SNSboxPlot(PE_err5_4, sampleShape, path=getPATH(path, str(mean),\"SNSparallelBox\"),\n",
    "       )"
   ]
  },
  {
   "cell_type": "code",
   "execution_count": null,
   "metadata": {},
   "outputs": [],
   "source": [
    "SNSboxPlot(np.log10(np.abs(PE_err5_4)), sampleShape, path=getPATH(path, str(mean),\"SNSparallelBoxLog\"), log=True,\n",
    "       )"
   ]
  },
  {
   "cell_type": "markdown",
   "metadata": {},
   "source": [
    "## MannWhitney"
   ]
  },
  {
   "cell_type": "code",
   "execution_count": null,
   "metadata": {},
   "outputs": [],
   "source": [
    "SNSboxPlot(PMW_err5_4, sampleShape, path=getPATH(path, str(mean),\"SNSMannWhitneyBox\"))"
   ]
  },
  {
   "cell_type": "code",
   "execution_count": null,
   "metadata": {},
   "outputs": [],
   "source": [
    "SNSboxPlot(np.log10(np.abs(PMW_err5_4)), sampleShape, path=getPATH(path, str(mean),\"SNSMannWhitneyBoxLog\"), log=True)"
   ]
  },
  {
   "cell_type": "markdown",
   "metadata": {},
   "source": [
    "## Multiple boxplot"
   ]
  },
  {
   "cell_type": "code",
   "execution_count": null,
   "metadata": {},
   "outputs": [],
   "source": [
    "mean=5.4"
   ]
  },
  {
   "cell_type": "code",
   "execution_count": null,
   "metadata": {},
   "outputs": [],
   "source": [
    "SNSMultipleboxPlot(np.log10(np.abs(PE_err5_4)), np.log10(np.abs(PAE_err5_4)), \n",
    "                   np.log10(np.abs(PMW_err5_4)), sampleShape, log=True,\n",
    "                  path=getPATH(path, str(mean),\"SNSfastPermMultipleBox\"))"
   ]
  },
  {
   "cell_type": "markdown",
   "metadata": {},
   "source": [
    "# Experiment 3: with $X \\sim N(5.0,1)$ and $Y\\sim N(5.6,1)$"
   ]
  },
  {
   "cell_type": "code",
   "execution_count": null,
   "metadata": {},
   "outputs": [],
   "source": [
    "mean=5.6\n",
    "X_list5_6, y_list5_6, p_val_list5_6, time_listMc5_6 = loadMcResult(sampleShape, mean)"
   ]
  },
  {
   "cell_type": "code",
   "execution_count": null,
   "metadata": {},
   "outputs": [],
   "source": [
    "pe_list5_6, TIME5_4 = shiftMethod(np.asarray(X_list5_6), np.asarray(y_list5_6), 40)\n",
    "\n",
    "\n",
    "pt_list5_6 = ttest(np.asarray(X_list5_6), np.asarray(y_list5_6))\n",
    "pmw_list5_6 = mannWhitney(np.asarray(X_list5_6), np.asarray(y_list5_6))\n",
    "PE_err5_6, PAE_err5_6, PMW_err5_6 = compare(p_val_list5_6, pe_list5_6, pt_list5_6, pmw_list5_6)"
   ]
  },
  {
   "cell_type": "markdown",
   "metadata": {},
   "source": [
    "## Approximation of P-value"
   ]
  },
  {
   "cell_type": "code",
   "execution_count": null,
   "metadata": {},
   "outputs": [],
   "source": [
    "SNSboxPlot(PAE_err5_6, sampleShape, path=getPATH(path, str(mean),\"SNSfastPermBox\"))"
   ]
  },
  {
   "cell_type": "code",
   "execution_count": null,
   "metadata": {},
   "outputs": [],
   "source": [
    "SNSboxPlot(np.log10(np.abs(PAE_err5_6)), sampleShape, path=getPATH(path, str(mean),\"SNSfastPermBoxLog\"), log=True)"
   ]
  },
  {
   "cell_type": "markdown",
   "metadata": {},
   "source": [
    "## Parallelization of P-value"
   ]
  },
  {
   "cell_type": "code",
   "execution_count": null,
   "metadata": {},
   "outputs": [],
   "source": [
    "SNSboxPlot(PE_err5_6, sampleShape, path=getPATH(path, str(mean),\"SNSparallelBox\"))"
   ]
  },
  {
   "cell_type": "code",
   "execution_count": null,
   "metadata": {},
   "outputs": [],
   "source": [
    "SNSboxPlot(np.log10(np.abs(PE_err5_6)), sampleShape, path=getPATH(path, str(mean),\"SNSboxPlot\"), log=True)"
   ]
  },
  {
   "cell_type": "markdown",
   "metadata": {},
   "source": [
    "## MannWhitney"
   ]
  },
  {
   "cell_type": "code",
   "execution_count": null,
   "metadata": {},
   "outputs": [],
   "source": [
    "SNSboxPlot(PMW_err5_6, sampleShape, path=getPATH(path, str(mean),\"SNSMannWhitneyBox\"))"
   ]
  },
  {
   "cell_type": "code",
   "execution_count": null,
   "metadata": {},
   "outputs": [],
   "source": [
    "SNSboxPlot(np.log10(np.abs(PMW_err5_6)), sampleShape, path=getPATH(path, str(mean),\"SNSMannWhitneyBoxLog\"), log=True)"
   ]
  },
  {
   "cell_type": "markdown",
   "metadata": {},
   "source": [
    "## Multiple boxplot"
   ]
  },
  {
   "cell_type": "code",
   "execution_count": null,
   "metadata": {},
   "outputs": [],
   "source": [
    "mean=5.6"
   ]
  },
  {
   "cell_type": "code",
   "execution_count": null,
   "metadata": {},
   "outputs": [],
   "source": [
    "SNSMultipleboxPlot(np.log10(np.abs(PE_err5_6)), np.log10(np.abs(PAE_err5_6)), \n",
    "                   np.log10(np.abs(PMW_err5_6)), sampleShape, log=True,\n",
    "                  path=getPATH(path, str(mean),\"SNSfastPermMultipleBox\"))"
   ]
  },
  {
   "cell_type": "markdown",
   "metadata": {},
   "source": [
    "# Experiment 4: with $X \\sim N(5.0,1)$ and $Y\\sim N(5.8,1)$"
   ]
  },
  {
   "cell_type": "code",
   "execution_count": null,
   "metadata": {},
   "outputs": [],
   "source": [
    "mean=5.8\n",
    "X_list5_8, y_list5_8, p_val_list5_8, time_listMc5_8 = loadMcResult(sampleShape, mean)"
   ]
  },
  {
   "cell_type": "code",
   "execution_count": null,
   "metadata": {},
   "outputs": [],
   "source": [
    "pe_list5_8, TIME5_8 = shiftMethod(np.asarray(X_list5_8), np.asarray(y_list5_8), 40)\n",
    "pt_list5_8 = ttest(np.asarray(X_list5_8), np.asarray(y_list5_8))\n",
    "pmw_list5_8 = mannWhitney(np.asarray(X_list5_8), np.asarray(y_list5_8))\n",
    "PE_err5_8, PAE_err5_8, PMW_err5_8 = compare(p_val_list5_8, pe_list5_8, pt_list5_8, pmw_list5_8)"
   ]
  },
  {
   "cell_type": "markdown",
   "metadata": {},
   "source": [
    "## Approximation of P-value"
   ]
  },
  {
   "cell_type": "code",
   "execution_count": null,
   "metadata": {},
   "outputs": [],
   "source": [
    "SNSboxPlot(PAE_err5_8, sampleShape, path=getPATH(path, str(mean),\"SNSfastPermBox\"))"
   ]
  },
  {
   "cell_type": "code",
   "execution_count": null,
   "metadata": {},
   "outputs": [],
   "source": [
    "SNSboxPlot(np.log10(np.abs(PAE_err5_8)), sampleShape, path=getPATH(path, str(mean),\"SNSfastPermBoxLog\"), log=True)"
   ]
  },
  {
   "cell_type": "markdown",
   "metadata": {},
   "source": [
    "## Parallelization of mid P-value"
   ]
  },
  {
   "cell_type": "code",
   "execution_count": null,
   "metadata": {},
   "outputs": [],
   "source": [
    "SNSboxPlot(PE_err5_8, sampleShape, path=getPATH(path, str(mean),\"SNSparallelBox\"))"
   ]
  },
  {
   "cell_type": "code",
   "execution_count": null,
   "metadata": {},
   "outputs": [],
   "source": [
    "SNSboxPlot(np.log10(np.abs(PE_err5_8)), sampleShape, path=getPATH(path, str(mean),\"SNSparallelBoxLog\"), log=True)"
   ]
  },
  {
   "cell_type": "markdown",
   "metadata": {},
   "source": [
    "## MannWhitney"
   ]
  },
  {
   "cell_type": "code",
   "execution_count": null,
   "metadata": {},
   "outputs": [],
   "source": [
    "SNSboxPlot(PMW_err5_8, sampleShape, path=getPATH(path, str(mean),\"SNSMannWhitneyBox\"))"
   ]
  },
  {
   "cell_type": "code",
   "execution_count": null,
   "metadata": {},
   "outputs": [],
   "source": [
    "SNSboxPlot(np.log10(np.abs(PMW_err5_8)), sampleShape, path=getPATH(path, str(mean),\"SNSMannWhitneyBoxLog\"), log=True)"
   ]
  },
  {
   "cell_type": "markdown",
   "metadata": {},
   "source": [
    "## Multiple boxplot"
   ]
  },
  {
   "cell_type": "code",
   "execution_count": null,
   "metadata": {},
   "outputs": [],
   "source": [
    "mean=5.8"
   ]
  },
  {
   "cell_type": "code",
   "execution_count": null,
   "metadata": {},
   "outputs": [],
   "source": [
    "SNSMultipleboxPlot(np.log10(np.abs(PE_err5_8)), np.log10(np.abs(PAE_err5_8)), np.log10(np.abs(PMW_err5_8)), \n",
    "                   sampleShape, log=True,\n",
    "                  path=getPATH(path, str(mean),\"SNSfastPermMultipleBox\"))"
   ]
  },
  {
   "cell_type": "markdown",
   "metadata": {},
   "source": [
    "# Experiment 5: with $X \\sim N(5.0,1)$ and $Y\\sim N(6.0,1)$"
   ]
  },
  {
   "cell_type": "code",
   "execution_count": null,
   "metadata": {},
   "outputs": [],
   "source": [
    "mean=6.0\n",
    "X_list6_0, y_list6_0, p_val_list6_0, time_listMc6_0 = loadMcResult(sampleShape, int(mean))"
   ]
  },
  {
   "cell_type": "code",
   "execution_count": null,
   "metadata": {},
   "outputs": [],
   "source": [
    "pe_list6_0, TIME5_8 = shiftMethod(np.asarray(X_list6_0), np.asarray(y_list6_0), 40)\n",
    "pt_list6_0 = ttest(np.asarray(X_list6_0), np.asarray(y_list6_0))\n",
    "pmw_list6_0 = mannWhitney(np.asarray(X_list6_0), np.asarray(y_list6_0))\n",
    "PE_err6_0, PAE_err6_0, PMW_err6_0 = compare(p_val_list6_0, pe_list6_0, pt_list6_0, pmw_list6_0)"
   ]
  },
  {
   "cell_type": "markdown",
   "metadata": {},
   "source": [
    "## Approximation of P-value"
   ]
  },
  {
   "cell_type": "code",
   "execution_count": null,
   "metadata": {},
   "outputs": [],
   "source": [
    "SNSboxPlot(PAE_err6_0, sampleShape, path=getPATH(path, str(mean),\"SNSfastPermBox\"))"
   ]
  },
  {
   "cell_type": "code",
   "execution_count": null,
   "metadata": {},
   "outputs": [],
   "source": [
    "SNSboxPlot(np.log10(np.abs(PAE_err6_0)), sampleShape, path=getPATH(path, str(mean),\"SNSfastPermBoxLog\"), log=True)"
   ]
  },
  {
   "cell_type": "markdown",
   "metadata": {},
   "source": [
    "## Parallelization of P-value"
   ]
  },
  {
   "cell_type": "code",
   "execution_count": null,
   "metadata": {},
   "outputs": [],
   "source": [
    "SNSboxPlot(PE_err6_0, sampleShape, path=getPATH(path, str(mean),\"SNSparallelBox\"))"
   ]
  },
  {
   "cell_type": "code",
   "execution_count": null,
   "metadata": {},
   "outputs": [],
   "source": [
    "SNSboxPlot(np.log10(np.abs(PE_err6_0)), sampleShape, path=getPATH(path, str(mean),\"SNSparallelBoxLog\"), log=True)"
   ]
  },
  {
   "cell_type": "markdown",
   "metadata": {},
   "source": [
    "## MannWhitney"
   ]
  },
  {
   "cell_type": "code",
   "execution_count": null,
   "metadata": {},
   "outputs": [],
   "source": [
    "SNSboxPlot(PMW_err6_0, sampleShape, path=getPATH(path, str(mean),\"SNSMannWhitneyBox\"))"
   ]
  },
  {
   "cell_type": "code",
   "execution_count": null,
   "metadata": {},
   "outputs": [],
   "source": [
    "SNSboxPlot(np.log10(np.abs(PMW_err6_0)), sampleShape, path=getPATH(path, str(mean),\"SNSMannWhitneyBoxLog\"), log=True)"
   ]
  },
  {
   "cell_type": "markdown",
   "metadata": {},
   "source": [
    "## Multiple boxplot"
   ]
  },
  {
   "cell_type": "code",
   "execution_count": null,
   "metadata": {},
   "outputs": [],
   "source": [
    "mean = 6.0"
   ]
  },
  {
   "cell_type": "code",
   "execution_count": null,
   "metadata": {},
   "outputs": [],
   "source": [
    "SNSMultipleboxPlot(np.log10(np.abs(PE_err6_0)), np.log10(np.abs(PAE_err6_0)), \n",
    "                   np.log10(np.abs(PMW_err6_0)), sampleShape, log=True,\n",
    "                  path=getPATH(path, str(mean),\"SNSfastPermMultipleBox\"))"
   ]
  },
  {
   "cell_type": "code",
   "execution_count": null,
   "metadata": {},
   "outputs": [],
   "source": []
  },
  {
   "cell_type": "code",
   "execution_count": null,
   "metadata": {},
   "outputs": [],
   "source": []
  }
 ],
 "metadata": {
  "kernelspec": {
   "display_name": "Python (my-r-env)",
   "language": "python",
   "name": "my-r-env"
  },
  "language_info": {
   "codemirror_mode": {
    "name": "ipython",
    "version": 3
   },
   "file_extension": ".py",
   "mimetype": "text/x-python",
   "name": "python",
   "nbconvert_exporter": "python",
   "pygments_lexer": "ipython3",
   "version": "3.7.6"
  }
 },
 "nbformat": 4,
 "nbformat_minor": 2
}
