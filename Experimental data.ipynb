{
 "cells": [
  {
   "cell_type": "code",
   "execution_count": 134,
   "metadata": {},
   "outputs": [],
   "source": [
    "import pandas as pd\n",
    "import numpy as np\n",
    "from significance_of_mean_cuda import significance_of_mean_cuda\n",
    "import time\n",
    "from utils import MW, ttests, qvalues\n",
    "import sklearn\n",
    "import seaborn as sns"
   ]
  },
  {
   "cell_type": "code",
   "execution_count": 2,
   "metadata": {},
   "outputs": [
    {
     "name": "stderr",
     "output_type": "stream",
     "text": [
      "/home/ekvall/anaconda3/envs/my-r-env/lib/python3.7/site-packages/rpy2/robjects/pandas2ri.py:14: FutureWarning: pandas.core.index is deprecated and will be removed in a future version.  The public classes are available in the top-level namespace.\n",
      "  from pandas.core.index import Index as PandasIndex\n",
      "/home/ekvall/anaconda3/envs/my-r-env/lib/python3.7/site-packages/rpy2/robjects/pandas2ri.py:34: UserWarning: pandas >= 1.0 is not supported.\n",
      "  warnings.warn('pandas >= 1.0 is not supported.')\n"
     ]
    }
   ],
   "source": [
    "%load_ext cython\n",
    "%load_ext rpy2.ipython"
   ]
  },
  {
   "cell_type": "code",
   "execution_count": 3,
   "metadata": {},
   "outputs": [
    {
     "name": "stderr",
     "output_type": "stream",
     "text": [
      "R[write to console]: Loading required package: ggplot2\n",
      "\n",
      "R[write to console]: Installing package into ‘/usr/local/lib/R/site-library’\n",
      "(as ‘lib’ is unspecified)\n",
      "\n",
      "R[write to console]: trying URL 'https://cloud.r-project.org/src/contrib/devtools_2.2.2.tar.gz'\n",
      "\n",
      "R[write to console]: Content type 'application/x-gzip'\n",
      "R[write to console]:  length 375464 bytes (366 KB)\n",
      "\n",
      "R[write to console]: =\n",
      "R[write to console]: =\n",
      "R[write to console]: =\n",
      "R[write to console]: =\n",
      "R[write to console]: =\n",
      "R[write to console]: =\n",
      "R[write to console]: =\n",
      "R[write to console]: =\n",
      "R[write to console]: =\n",
      "R[write to console]: =\n",
      "R[write to console]: =\n",
      "R[write to console]: =\n",
      "R[write to console]: =\n",
      "R[write to console]: =\n",
      "R[write to console]: =\n",
      "R[write to console]: =\n",
      "R[write to console]: =\n",
      "R[write to console]: =\n",
      "R[write to console]: =\n",
      "R[write to console]: =\n",
      "R[write to console]: =\n",
      "R[write to console]: =\n",
      "R[write to console]: =\n",
      "R[write to console]: =\n",
      "R[write to console]: =\n",
      "R[write to console]: =\n",
      "R[write to console]: =\n",
      "R[write to console]: =\n",
      "R[write to console]: =\n",
      "R[write to console]: =\n",
      "R[write to console]: =\n",
      "R[write to console]: =\n",
      "R[write to console]: =\n",
      "R[write to console]: =\n",
      "R[write to console]: =\n",
      "R[write to console]: =\n",
      "R[write to console]: =\n",
      "R[write to console]: =\n",
      "R[write to console]: =\n",
      "R[write to console]: =\n",
      "R[write to console]: =\n",
      "R[write to console]: =\n",
      "R[write to console]: =\n",
      "R[write to console]: =\n",
      "R[write to console]: =\n",
      "R[write to console]: =\n",
      "R[write to console]: =\n",
      "R[write to console]: =\n",
      "R[write to console]: =\n",
      "R[write to console]: =\n",
      "R[write to console]: \n",
      "\n",
      "R[write to console]: downloaded 366 KB\n",
      "\n",
      "\n",
      "R[write to console]: \n",
      "\n",
      "R[write to console]: \n",
      "R[write to console]: The downloaded source packages are in\n",
      "\t‘/tmp/RtmpkVX70C/downloaded_packages’\n",
      "R[write to console]: \n",
      "R[write to console]: \n",
      "\n",
      "R[write to console]: Loading required package: usethis\n",
      "\n",
      "R[write to console]: Skipping install of 'fastPerm' from a github remote, the SHA1 (639f37e1) has not changed since last install.\n",
      "  Use `force = TRUE` to force installation\n",
      "\n"
     ]
    }
   ],
   "source": [
    "%%R\n",
    "\n",
    "require(ggplot2)\n",
    "install.packages(\"devtools\")\n",
    "library(\"devtools\")\n",
    "install_github(\"bdsegal/fastPerm\")\n",
    "\n",
    "library(fastPerm)"
   ]
  },
  {
   "cell_type": "code",
   "execution_count": 4,
   "metadata": {},
   "outputs": [
    {
     "name": "stdout",
     "output_type": "stream",
     "text": [
      "CPTAC_BC_SupplementaryTable01.xlsx  CPTAC_BC_SupplementaryTable03.xlsx\r\n"
     ]
    }
   ],
   "source": [
    "!ls \"./data/nature18003-s2/\""
   ]
  },
  {
   "cell_type": "code",
   "execution_count": 5,
   "metadata": {},
   "outputs": [],
   "source": [
    "path = \"./data/nature18003-s2/\""
   ]
  },
  {
   "cell_type": "code",
   "execution_count": 6,
   "metadata": {},
   "outputs": [],
   "source": [
    "T1 = pd.read_excel(path + \"CPTAC_BC_SupplementaryTable01.xlsx\")\n",
    "T3 = pd.read_excel(path + \"CPTAC_BC_SupplementaryTable03.xlsx\")"
   ]
  },
  {
   "cell_type": "markdown",
   "metadata": {},
   "source": [
    "## Extract important column headings"
   ]
  },
  {
   "cell_type": "code",
   "execution_count": 7,
   "metadata": {},
   "outputs": [],
   "source": [
    "paiteint_id = T1.columns[0]\n",
    "stats_col = T1.columns[5: 5 + 3]"
   ]
  },
  {
   "cell_type": "markdown",
   "metadata": {},
   "source": [
    "### Patient column  "
   ]
  },
  {
   "cell_type": "code",
   "execution_count": 8,
   "metadata": {},
   "outputs": [
    {
     "data": {
      "text/plain": [
       "'Sample ID'"
      ]
     },
     "execution_count": 8,
     "metadata": {},
     "output_type": "execute_result"
    }
   ],
   "source": [
    "paiteint_id"
   ]
  },
  {
   "cell_type": "markdown",
   "metadata": {},
   "source": [
    "### Cancer phenotype coulmns"
   ]
  },
  {
   "cell_type": "code",
   "execution_count": 9,
   "metadata": {},
   "outputs": [
    {
     "data": {
      "text/plain": [
       "Index(['ER Status', 'PR Status', 'HER2 Status'], dtype='object')"
      ]
     },
     "execution_count": 9,
     "metadata": {},
     "output_type": "execute_result"
    }
   ],
   "source": [
    "stats_col"
   ]
  },
  {
   "cell_type": "markdown",
   "metadata": {},
   "source": [
    "### Check viable phenotype status"
   ]
  },
  {
   "cell_type": "code",
   "execution_count": 10,
   "metadata": {},
   "outputs": [],
   "source": [
    "all_lab = list()\n",
    "for r in T1[stats_col].iterrows():\n",
    "    all_lab += list(r[1].values)"
   ]
  },
  {
   "cell_type": "code",
   "execution_count": 11,
   "metadata": {},
   "outputs": [
    {
     "data": {
      "text/plain": [
       "['Negative', 'Equivocal', 'Positive', 'Indeterminate']"
      ]
     },
     "execution_count": 11,
     "metadata": {},
     "output_type": "execute_result"
    }
   ],
   "source": [
    "list(set(all_lab))"
   ]
  },
  {
   "cell_type": "markdown",
   "metadata": {},
   "source": [
    "### Let's drop patient with \"Equivocal\" and \"Indeterminate\" status"
   ]
  },
  {
   "cell_type": "code",
   "execution_count": 12,
   "metadata": {},
   "outputs": [],
   "source": [
    "drop_label = ['Indeterminate', 'Equivocal']"
   ]
  },
  {
   "cell_type": "code",
   "execution_count": 13,
   "metadata": {},
   "outputs": [
    {
     "data": {
      "text/html": [
       "<div>\n",
       "<style scoped>\n",
       "    .dataframe tbody tr th:only-of-type {\n",
       "        vertical-align: middle;\n",
       "    }\n",
       "\n",
       "    .dataframe tbody tr th {\n",
       "        vertical-align: top;\n",
       "    }\n",
       "\n",
       "    .dataframe thead th {\n",
       "        text-align: right;\n",
       "    }\n",
       "</style>\n",
       "<table border=\"1\" class=\"dataframe\">\n",
       "  <thead>\n",
       "    <tr style=\"text-align: right;\">\n",
       "      <th></th>\n",
       "      <th>Sample ID</th>\n",
       "      <th>TCGA ID</th>\n",
       "      <th>Biospecimen Barcode Side</th>\n",
       "      <th>UIUD</th>\n",
       "      <th>PAM50</th>\n",
       "      <th>ER Status</th>\n",
       "      <th>PR Status</th>\n",
       "      <th>HER2 Status</th>\n",
       "      <th>QC Status</th>\n",
       "      <th>Proteome Cluster (see Fig. 3b)</th>\n",
       "      <th>...</th>\n",
       "      <th>iTRAQReporterIon</th>\n",
       "      <th>CommonControl</th>\n",
       "      <th>GATA3 Mutation</th>\n",
       "      <th>PIK3CA Mutation</th>\n",
       "      <th>TP53 Mutation</th>\n",
       "      <th>PIK3CA missense mutation in helical domain all tumors</th>\n",
       "      <th>PIK3CA missense mutation in kinase domain all tumors</th>\n",
       "      <th>TP53 Nonsense/Frameshift all tumors</th>\n",
       "      <th>TP53 Missense mutation all tumors</th>\n",
       "      <th>TP53 missense mutations in DNA binding domain all tumors</th>\n",
       "    </tr>\n",
       "  </thead>\n",
       "  <tbody>\n",
       "    <tr>\n",
       "      <th>0</th>\n",
       "      <td>A2-A0CM</td>\n",
       "      <td>TCGA-A2-A0CM</td>\n",
       "      <td>TCGA-A2-A0CM-01A-11-A21V-30</td>\n",
       "      <td>330F7598-824C-4CD6-9303-A27FE74A6695</td>\n",
       "      <td>Basal</td>\n",
       "      <td>Negative</td>\n",
       "      <td>Negative</td>\n",
       "      <td>Negative</td>\n",
       "      <td>pass</td>\n",
       "      <td>1.0</td>\n",
       "      <td>...</td>\n",
       "      <td>116</td>\n",
       "      <td>YES</td>\n",
       "      <td>NaN</td>\n",
       "      <td>NaN</td>\n",
       "      <td>Frame_Shift_Del|Somatic|p.E204fs</td>\n",
       "      <td>0.0</td>\n",
       "      <td>0.0</td>\n",
       "      <td>1.0</td>\n",
       "      <td>NaN</td>\n",
       "      <td>NaN</td>\n",
       "    </tr>\n",
       "    <tr>\n",
       "      <th>1</th>\n",
       "      <td>A2-A0D2</td>\n",
       "      <td>TCGA-A2-A0D2</td>\n",
       "      <td>TCGA-A2-A0D2-01A-12-A21W-30</td>\n",
       "      <td>308CCD79-C164-4397-92BC-A1CD243C8E7D</td>\n",
       "      <td>Basal</td>\n",
       "      <td>Negative</td>\n",
       "      <td>Negative</td>\n",
       "      <td>Negative</td>\n",
       "      <td>pass</td>\n",
       "      <td>1.0</td>\n",
       "      <td>...</td>\n",
       "      <td>114</td>\n",
       "      <td>NO</td>\n",
       "      <td>NaN</td>\n",
       "      <td>NaN</td>\n",
       "      <td>Frame_Shift_Del|Somatic|p.P318fs</td>\n",
       "      <td>0.0</td>\n",
       "      <td>0.0</td>\n",
       "      <td>1.0</td>\n",
       "      <td>NaN</td>\n",
       "      <td>NaN</td>\n",
       "    </tr>\n",
       "    <tr>\n",
       "      <th>2</th>\n",
       "      <td>A2-A0EQ</td>\n",
       "      <td>TCGA-A2-A0EQ</td>\n",
       "      <td>TCGA-A2-A0EQ-01A-41-A21W-30</td>\n",
       "      <td>04217F65-2907-478B-B0C5-EB65370198DA</td>\n",
       "      <td>Her2</td>\n",
       "      <td>Negative</td>\n",
       "      <td>Negative</td>\n",
       "      <td>Positive</td>\n",
       "      <td>pass</td>\n",
       "      <td>1.0</td>\n",
       "      <td>...</td>\n",
       "      <td>116</td>\n",
       "      <td>NO</td>\n",
       "      <td>NaN</td>\n",
       "      <td>Missense_Mutation|Somatic|p.H1047R</td>\n",
       "      <td>In_Frame_Del|Somatic|p.IY162in_frame_delN</td>\n",
       "      <td>NaN</td>\n",
       "      <td>1.0</td>\n",
       "      <td>NaN</td>\n",
       "      <td>NaN</td>\n",
       "      <td>NaN</td>\n",
       "    </tr>\n",
       "    <tr>\n",
       "      <th>3</th>\n",
       "      <td>A2-A0EV</td>\n",
       "      <td>TCGA-A2-A0EV</td>\n",
       "      <td>TCGA-A2-A0EV-01A-41-A21V-30</td>\n",
       "      <td>38F98E5F-7FA4-4C89-8D81-516CF865BEEB</td>\n",
       "      <td>LumA</td>\n",
       "      <td>Positive</td>\n",
       "      <td>Positive</td>\n",
       "      <td>Negative</td>\n",
       "      <td>pass</td>\n",
       "      <td>3.0</td>\n",
       "      <td>...</td>\n",
       "      <td>114</td>\n",
       "      <td>NO</td>\n",
       "      <td>NaN</td>\n",
       "      <td>In_Frame_Ins|Somatic|p.E469in_frame_insDK</td>\n",
       "      <td>NaN</td>\n",
       "      <td>NaN</td>\n",
       "      <td>NaN</td>\n",
       "      <td>0.0</td>\n",
       "      <td>0.0</td>\n",
       "      <td>0.0</td>\n",
       "    </tr>\n",
       "    <tr>\n",
       "      <th>4</th>\n",
       "      <td>A2-A0EX</td>\n",
       "      <td>TCGA-A2-A0EX</td>\n",
       "      <td>TCGA-A2-A0EX-01A-41-A21V-30</td>\n",
       "      <td>78271500-147B-40C5-B789-0CF0C7CDBCE2</td>\n",
       "      <td>LumA</td>\n",
       "      <td>Positive</td>\n",
       "      <td>Positive</td>\n",
       "      <td>Negative</td>\n",
       "      <td>pass</td>\n",
       "      <td>3.0</td>\n",
       "      <td>...</td>\n",
       "      <td>116</td>\n",
       "      <td>NO</td>\n",
       "      <td>NaN</td>\n",
       "      <td>Missense_Mutation|Somatic|p.E545K</td>\n",
       "      <td>NaN</td>\n",
       "      <td>1.0</td>\n",
       "      <td>NaN</td>\n",
       "      <td>0.0</td>\n",
       "      <td>0.0</td>\n",
       "      <td>0.0</td>\n",
       "    </tr>\n",
       "  </tbody>\n",
       "</table>\n",
       "<p>5 rows × 24 columns</p>\n",
       "</div>"
      ],
      "text/plain": [
       "  Sample ID       TCGA ID     Biospecimen Barcode Side  \\\n",
       "0   A2-A0CM  TCGA-A2-A0CM  TCGA-A2-A0CM-01A-11-A21V-30   \n",
       "1   A2-A0D2  TCGA-A2-A0D2  TCGA-A2-A0D2-01A-12-A21W-30   \n",
       "2   A2-A0EQ  TCGA-A2-A0EQ  TCGA-A2-A0EQ-01A-41-A21W-30   \n",
       "3   A2-A0EV  TCGA-A2-A0EV  TCGA-A2-A0EV-01A-41-A21V-30   \n",
       "4   A2-A0EX  TCGA-A2-A0EX  TCGA-A2-A0EX-01A-41-A21V-30   \n",
       "\n",
       "                                   UIUD  PAM50 ER Status PR Status  \\\n",
       "0  330F7598-824C-4CD6-9303-A27FE74A6695  Basal  Negative  Negative   \n",
       "1  308CCD79-C164-4397-92BC-A1CD243C8E7D  Basal  Negative  Negative   \n",
       "2  04217F65-2907-478B-B0C5-EB65370198DA   Her2  Negative  Negative   \n",
       "3  38F98E5F-7FA4-4C89-8D81-516CF865BEEB   LumA  Positive  Positive   \n",
       "4  78271500-147B-40C5-B789-0CF0C7CDBCE2   LumA  Positive  Positive   \n",
       "\n",
       "  HER2 Status QC Status  Proteome Cluster (see Fig. 3b)  ...  \\\n",
       "0    Negative      pass                             1.0  ...   \n",
       "1    Negative      pass                             1.0  ...   \n",
       "2    Positive      pass                             1.0  ...   \n",
       "3    Negative      pass                             3.0  ...   \n",
       "4    Negative      pass                             3.0  ...   \n",
       "\n",
       "   iTRAQReporterIon  CommonControl GATA3 Mutation  \\\n",
       "0               116            YES            NaN   \n",
       "1               114             NO            NaN   \n",
       "2               116             NO            NaN   \n",
       "3               114             NO            NaN   \n",
       "4               116             NO            NaN   \n",
       "\n",
       "                             PIK3CA Mutation  \\\n",
       "0                                        NaN   \n",
       "1                                        NaN   \n",
       "2         Missense_Mutation|Somatic|p.H1047R   \n",
       "3  In_Frame_Ins|Somatic|p.E469in_frame_insDK   \n",
       "4          Missense_Mutation|Somatic|p.E545K   \n",
       "\n",
       "                               TP53 Mutation  \\\n",
       "0           Frame_Shift_Del|Somatic|p.E204fs   \n",
       "1           Frame_Shift_Del|Somatic|p.P318fs   \n",
       "2  In_Frame_Del|Somatic|p.IY162in_frame_delN   \n",
       "3                                        NaN   \n",
       "4                                        NaN   \n",
       "\n",
       "  PIK3CA missense mutation in helical domain all tumors  \\\n",
       "0                                                0.0      \n",
       "1                                                0.0      \n",
       "2                                                NaN      \n",
       "3                                                NaN      \n",
       "4                                                1.0      \n",
       "\n",
       "  PIK3CA missense mutation in kinase domain all tumors  \\\n",
       "0                                                0.0     \n",
       "1                                                0.0     \n",
       "2                                                1.0     \n",
       "3                                                NaN     \n",
       "4                                                NaN     \n",
       "\n",
       "  TP53 Nonsense/Frameshift all tumors TP53 Missense mutation all tumors  \\\n",
       "0                                 1.0                               NaN   \n",
       "1                                 1.0                               NaN   \n",
       "2                                 NaN                               NaN   \n",
       "3                                 0.0                               0.0   \n",
       "4                                 0.0                               0.0   \n",
       "\n",
       "   TP53 missense mutations in DNA binding domain all tumors  \n",
       "0                                                NaN         \n",
       "1                                                NaN         \n",
       "2                                                NaN         \n",
       "3                                                0.0         \n",
       "4                                                0.0         \n",
       "\n",
       "[5 rows x 24 columns]"
      ]
     },
     "execution_count": 13,
     "metadata": {},
     "output_type": "execute_result"
    }
   ],
   "source": [
    "T1.head()"
   ]
  },
  {
   "cell_type": "code",
   "execution_count": 14,
   "metadata": {},
   "outputs": [],
   "source": [
    "mask1 = [True if (len(set(r[1].values) & set(drop_label)) == 0) else False for r in T1[stats_col].iterrows()]\n",
    "T1 = T1[mask1]\n",
    "T1.reset_index(drop=True, inplace=True)"
   ]
  },
  {
   "cell_type": "markdown",
   "metadata": {},
   "source": [
    "### Let's divide the dataframe into two dataframes with triple negative (TN) and non-triple negative (NTN)"
   ]
  },
  {
   "cell_type": "code",
   "execution_count": 15,
   "metadata": {},
   "outputs": [],
   "source": [
    "mask2 = [all([True if v=='Negative' else False for v in r[1].values] ) for r in T1[stats_col].iterrows()]\n",
    "\n",
    "T1_TNP = T1[np.array(mask2)]\n",
    "T1_TNP.reset_index(drop=True, inplace=True)\n",
    "\n",
    "T1_not_TNP = T1[~np.array(mask2)]\n",
    "T1_not_TNP.reset_index(drop=True, inplace=True)\n",
    "\n"
   ]
  },
  {
   "cell_type": "markdown",
   "metadata": {},
   "source": [
    "### Obtain patient ids for NT and NTN"
   ]
  },
  {
   "cell_type": "code",
   "execution_count": 16,
   "metadata": {},
   "outputs": [],
   "source": [
    "TNPpateintIds = T1_TNP[paiteint_id].values\n",
    "NotTNPpateintIds = T1_not_TNP[paiteint_id].values"
   ]
  },
  {
   "cell_type": "markdown",
   "metadata": {},
   "source": [
    "### Remove genes (rows) containing NaN for both TN and NTN i.e., make sure all patients have same the gene when comparing."
   ]
  },
  {
   "cell_type": "code",
   "execution_count": 17,
   "metadata": {},
   "outputs": [],
   "source": [
    "def getpatientId(ids):\n",
    "    patitentList = list()\n",
    "    for i in ids:\n",
    "        p_id = T3[T3.columns[[i in c for c in T3.columns]]].columns\n",
    "        patitentList += list(p_id)\n",
    "    return patitentList"
   ]
  },
  {
   "cell_type": "code",
   "execution_count": 18,
   "metadata": {},
   "outputs": [],
   "source": [
    "only_patientDf = T3[getpatientId(NotTNPpateintIds) + getpatientId(TNPpateintIds)]"
   ]
  },
  {
   "cell_type": "code",
   "execution_count": 19,
   "metadata": {},
   "outputs": [
    {
     "name": "stderr",
     "output_type": "stream",
     "text": [
      "/home/ekvall/anaconda3/envs/my-r-env/lib/python3.7/site-packages/ipykernel_launcher.py:1: SettingWithCopyWarning: \n",
      "A value is trying to be set on a copy of a slice from a DataFrame\n",
      "\n",
      "See the caveats in the documentation: https://pandas.pydata.org/pandas-docs/stable/user_guide/indexing.html#returning-a-view-versus-a-copy\n",
      "  \"\"\"Entry point for launching an IPython kernel.\n"
     ]
    }
   ],
   "source": [
    "only_patientDf.dropna(inplace=True)"
   ]
  },
  {
   "cell_type": "code",
   "execution_count": 20,
   "metadata": {},
   "outputs": [],
   "source": [
    "NotTNP_df =  only_patientDf[getpatientId(NotTNPpateintIds)]\n",
    "TNP_df =  only_patientDf[getpatientId(TNPpateintIds)]"
   ]
  },
  {
   "cell_type": "code",
   "execution_count": 21,
   "metadata": {},
   "outputs": [],
   "source": [
    "NotTNP_Arr, TNP_Arr =NotTNP_df.values, TNP_df.values"
   ]
  },
  {
   "cell_type": "code",
   "execution_count": 22,
   "metadata": {},
   "outputs": [
    {
     "data": {
      "text/plain": [
       "(8051, 80)"
      ]
     },
     "execution_count": 22,
     "metadata": {},
     "output_type": "execute_result"
    }
   ],
   "source": [
    "NotTNP_Arr.shape"
   ]
  },
  {
   "cell_type": "code",
   "execution_count": 23,
   "metadata": {},
   "outputs": [
    {
     "data": {
      "text/plain": [
       "(8051, 26)"
      ]
     },
     "execution_count": 23,
     "metadata": {},
     "output_type": "execute_result"
    }
   ],
   "source": [
    "TNP_Arr.shape"
   ]
  },
  {
   "cell_type": "markdown",
   "metadata": {},
   "source": [
    "### There are 80 patients without triple negative (NTN) and 26 patients with triple negtive (TN), and with a total of 8051 quantified genes."
   ]
  },
  {
   "cell_type": "markdown",
   "metadata": {},
   "source": [
    "# Experiment time"
   ]
  },
  {
   "cell_type": "markdown",
   "metadata": {},
   "source": [
    "## Let's start with a rather small binsize=6."
   ]
  },
  {
   "cell_type": "code",
   "execution_count": 170,
   "metadata": {},
   "outputs": [
    {
     "name": "stdout",
     "output_type": "stream",
     "text": [
      "1.982856035232544\n"
     ]
    }
   ],
   "source": [
    "start = time.time()\n",
    "\n",
    "SGM = significance_of_mean_cuda(6, dtype_v=np.uint32,dtype_A=np.float64)\n",
    "SGM.run(TNP_Arr, NotTNP_Arr)\n",
    "P_e_list = list(1 - SGM.p_values)\n",
    "\n",
    "end = time.time()\n",
    "print(end - start)"
   ]
  },
  {
   "cell_type": "code",
   "execution_count": 27,
   "metadata": {},
   "outputs": [],
   "source": [
    "x = pd.DataFrame(TNP_Arr, columns=list(range(TNP_Arr.shape[1]))).T\n",
    "y = pd.DataFrame(NotTNP_Arr, columns=list(range(NotTNP_Arr.shape[1]))).T\n",
    "n_samples = x.shape[1]\n",
    "outputDf = pd.DataFrame(n_samples * [0], columns=[\"output\"]).T"
   ]
  },
  {
   "cell_type": "code",
   "execution_count": 196,
   "metadata": {},
   "outputs": [],
   "source": [
    "%R -i x\n",
    "%R -i y\n",
    "%R -i outputDf\n",
    "%R -i n_samples"
   ]
  },
  {
   "cell_type": "code",
   "execution_count": 197,
   "metadata": {},
   "outputs": [],
   "source": [
    "%%R\n",
    "runFastPerm <- function(x,y,output, n_samples) {\n",
    "    e <- list(mode=\"vector\",length=n_samples)\n",
    "        for (i in 1:n_samples) {\n",
    "      \n",
    "            mStopDiffMean(x[[i]], y[[i]])\n",
    "            valX = fastPerm(x[[i]], y[[i]], testStat = diffMean)\n",
    "            \n",
    "            print(valX)\n",
    "            valX <-unlist(valX)\n",
    "\n",
    "      \n",
    "            output[[i]] <- as.numeric(valX[1])\n",
    "      \n",
    "            }\n",
    "    \n",
    "\n",
    "    return(output)\n",
    "\n",
    "\n",
    "}\n"
   ]
  },
  {
   "cell_type": "code",
   "execution_count": 198,
   "metadata": {},
   "outputs": [
    {
     "name": "stdout",
     "output_type": "stream",
     "text": [
      "    fastPerm Two Sample Test   \n",
      "\n",
      "difference of means\n",
      "1,000 iterations within partitions\n",
      "\n",
      "observed statistic = 0.0769\n",
      "p-value = 0.797\n",
      "mStop = 20, deviance = 193, AIC = 375\n",
      "    fastPerm Two Sample Test   \n",
      "\n",
      "difference of means\n",
      "1,000 iterations within partitions\n",
      "\n",
      "observed statistic = 0.0734\n",
      "p-value = 0.811\n",
      "mStop = 20, deviance = 231, AIC = 413\n",
      "    fastPerm Two Sample Test   \n",
      "\n",
      "difference of means\n",
      "1,000 iterations within partitions\n",
      "\n",
      "observed statistic = 0.0706\n",
      "p-value = 0.81\n",
      "mStop = 20, deviance = 171, AIC = 352\n",
      "    fastPerm Two Sample Test   \n",
      "\n",
      "difference of means\n",
      "1,000 iterations within partitions\n",
      "\n",
      "observed statistic = 0.076\n",
      "p-value = 0.798\n",
      "mStop = 20, deviance = 185, AIC = 367\n",
      "    fastPerm Two Sample Test   \n",
      "\n",
      "difference of means\n",
      "1,000 iterations within partitions\n",
      "\n",
      "observed statistic = 0.0742\n",
      "p-value = 0.812\n",
      "mStop = 20, deviance = 208, AIC = 390\n",
      "    fastPerm Two Sample Test   \n",
      "\n",
      "difference of means\n",
      "1,000 iterations within partitions\n",
      "\n",
      "observed statistic = 0.073\n",
      "p-value = 0.804\n",
      "mStop = 20, deviance = 198, AIC = 380\n",
      "    fastPerm Two Sample Test   \n",
      "\n",
      "difference of means\n",
      "1,000 iterations within partitions\n",
      "\n",
      "observed statistic = 0.0741\n",
      "p-value = 0.798\n",
      "mStop = 20, deviance = 189, AIC = 370\n",
      "    fastPerm Two Sample Test   \n",
      "\n",
      "difference of means\n",
      "1,000 iterations within partitions\n",
      "\n",
      "observed statistic = 0.0742\n",
      "p-value = 0.8\n",
      "mStop = 20, deviance = 212, AIC = 394\n",
      "    fastPerm Two Sample Test   \n",
      "\n",
      "difference of means\n",
      "1,000 iterations within partitions\n",
      "\n",
      "observed statistic = 0.0865\n",
      "p-value = 0.853\n",
      "mStop = 20, deviance = 104, AIC = 288\n",
      "    fastPerm Two Sample Test   \n",
      "\n",
      "difference of means\n",
      "1,000 iterations within partitions\n",
      "\n",
      "observed statistic = 1.56\n",
      "p-value = 1.12e-07\n",
      "mStop = 10, deviance = 140, AIC = 195\n",
      "4.158608913421631\n"
     ]
    }
   ],
   "source": [
    "start = time.time()\n",
    "%R out <- runFastPerm(x,y, outputDf, 10)\n",
    "end = time.time()\n",
    "print(end - start)"
   ]
  },
  {
   "cell_type": "code",
   "execution_count": 171,
   "metadata": {},
   "outputs": [
    {
     "data": {
      "text/plain": [
       "45.63333333333333"
      ]
     },
     "execution_count": 171,
     "metadata": {},
     "output_type": "execute_result"
    }
   ],
   "source": [
    "2738 / 60"
   ]
  },
  {
   "cell_type": "code",
   "execution_count": 31,
   "metadata": {},
   "outputs": [],
   "source": [
    "%R -o out"
   ]
  },
  {
   "cell_type": "code",
   "execution_count": 33,
   "metadata": {},
   "outputs": [],
   "source": [
    "outT = out.T"
   ]
  },
  {
   "cell_type": "code",
   "execution_count": 39,
   "metadata": {},
   "outputs": [],
   "source": [
    "P_fp_list =list(outT.values.ravel())"
   ]
  },
  {
   "cell_type": "markdown",
   "metadata": {},
   "source": [
    "### Parallelized exact test takes ~3s"
   ]
  },
  {
   "cell_type": "code",
   "execution_count": 41,
   "metadata": {},
   "outputs": [
    {
     "name": "stdout",
     "output_type": "stream",
     "text": [
      "1.4578099250793457\n"
     ]
    }
   ],
   "source": [
    "start = time.time()\n",
    "\n",
    "P_mw_list = MW(TNP_Arr, NotTNP_Arr)\n",
    "\n",
    "end = time.time()\n",
    "print(end - start)"
   ]
  },
  {
   "cell_type": "markdown",
   "metadata": {},
   "source": [
    "### Mann-Whitney exact test takes ~1s"
   ]
  },
  {
   "cell_type": "code",
   "execution_count": 143,
   "metadata": {},
   "outputs": [
    {
     "name": "stdout",
     "output_type": "stream",
     "text": [
      "1.3899211883544922\n"
     ]
    }
   ],
   "source": [
    "start = time.time()\n",
    "\n",
    "P_t_list = ttests(TNP_Arr, NotTNP_Arr)\n",
    "\n",
    "end = time.time()\n",
    "print(end - start)"
   ]
  },
  {
   "cell_type": "code",
   "execution_count": 184,
   "metadata": {},
   "outputs": [
    {
     "data": {
      "text/html": [
       "<div>\n",
       "<style scoped>\n",
       "    .dataframe tbody tr th:only-of-type {\n",
       "        vertical-align: middle;\n",
       "    }\n",
       "\n",
       "    .dataframe tbody tr th {\n",
       "        vertical-align: top;\n",
       "    }\n",
       "\n",
       "    .dataframe thead th {\n",
       "        text-align: right;\n",
       "    }\n",
       "</style>\n",
       "<table border=\"1\" class=\"dataframe\">\n",
       "  <thead>\n",
       "    <tr style=\"text-align: right;\">\n",
       "      <th></th>\n",
       "      <th>p</th>\n",
       "      <th>q</th>\n",
       "    </tr>\n",
       "  </thead>\n",
       "  <tbody>\n",
       "    <tr>\n",
       "      <th>6813</th>\n",
       "      <td>4.888208e-13</td>\n",
       "      <td>3.342369e-09</td>\n",
       "    </tr>\n",
       "    <tr>\n",
       "      <th>6814</th>\n",
       "      <td>3.764270e-12</td>\n",
       "      <td>1.286932e-08</td>\n",
       "    </tr>\n",
       "    <tr>\n",
       "      <th>2323</th>\n",
       "      <td>3.099803e-11</td>\n",
       "      <td>6.768449e-08</td>\n",
       "    </tr>\n",
       "    <tr>\n",
       "      <th>2322</th>\n",
       "      <td>3.959537e-11</td>\n",
       "      <td>6.768449e-08</td>\n",
       "    </tr>\n",
       "    <tr>\n",
       "      <th>1369</th>\n",
       "      <td>3.377987e-10</td>\n",
       "      <td>4.424156e-07</td>\n",
       "    </tr>\n",
       "    <tr>\n",
       "      <th>...</th>\n",
       "      <td>...</td>\n",
       "      <td>...</td>\n",
       "    </tr>\n",
       "    <tr>\n",
       "      <th>3754</th>\n",
       "      <td>1.000000e+00</td>\n",
       "      <td>8.492878e-01</td>\n",
       "    </tr>\n",
       "    <tr>\n",
       "      <th>4768</th>\n",
       "      <td>1.000000e+00</td>\n",
       "      <td>8.492878e-01</td>\n",
       "    </tr>\n",
       "    <tr>\n",
       "      <th>1940</th>\n",
       "      <td>1.000000e+00</td>\n",
       "      <td>8.492878e-01</td>\n",
       "    </tr>\n",
       "    <tr>\n",
       "      <th>584</th>\n",
       "      <td>1.000000e+00</td>\n",
       "      <td>8.492878e-01</td>\n",
       "    </tr>\n",
       "    <tr>\n",
       "      <th>585</th>\n",
       "      <td>1.000000e+00</td>\n",
       "      <td>8.492878e-01</td>\n",
       "    </tr>\n",
       "  </tbody>\n",
       "</table>\n",
       "<p>8051 rows × 2 columns</p>\n",
       "</div>"
      ],
      "text/plain": [
       "                 p             q\n",
       "6813  4.888208e-13  3.342369e-09\n",
       "6814  3.764270e-12  1.286932e-08\n",
       "2323  3.099803e-11  6.768449e-08\n",
       "2322  3.959537e-11  6.768449e-08\n",
       "1369  3.377987e-10  4.424156e-07\n",
       "...            ...           ...\n",
       "3754  1.000000e+00  8.492878e-01\n",
       "4768  1.000000e+00  8.492878e-01\n",
       "1940  1.000000e+00  8.492878e-01\n",
       "584   1.000000e+00  8.492878e-01\n",
       "585   1.000000e+00  8.492878e-01\n",
       "\n",
       "[8051 rows x 2 columns]"
      ]
     },
     "execution_count": 184,
     "metadata": {},
     "output_type": "execute_result"
    }
   ],
   "source": [
    "df_mw"
   ]
  },
  {
   "cell_type": "code",
   "execution_count": 177,
   "metadata": {},
   "outputs": [],
   "source": [
    "df_e = pd.DataFrame({\"p\":P_e_list})\n",
    "df_mw = pd.DataFrame({\"p\":P_mw_list})\n",
    "df_tt = pd.DataFrame({\"p\":P_t_list})\n",
    "df_fp = pd.DataFrame({\"p\":list(np.array(P_fp_list) / 2)})"
   ]
  },
  {
   "cell_type": "code",
   "execution_count": 178,
   "metadata": {},
   "outputs": [],
   "source": [
    "df_e = qvalues(df_e, pi0=None)\n",
    "df_mw = qvalues(df_mw, pi0=None)\n",
    "df_tt = qvalues(df_tt, pi0=None)\n",
    "df_fp = qvalues(df_fp, pi0=None)"
   ]
  },
  {
   "cell_type": "code",
   "execution_count": 179,
   "metadata": {},
   "outputs": [
    {
     "data": {
      "text/plain": [
       "(394,)"
      ]
     },
     "execution_count": 179,
     "metadata": {},
     "output_type": "execute_result"
    }
   ],
   "source": [
    "df_e[\"q\"][df_e[\"q\"]<0.01].shape\n"
   ]
  },
  {
   "cell_type": "code",
   "execution_count": 180,
   "metadata": {},
   "outputs": [
    {
     "data": {
      "text/plain": [
       "(421,)"
      ]
     },
     "execution_count": 180,
     "metadata": {},
     "output_type": "execute_result"
    }
   ],
   "source": [
    "df_mw[\"q\"][df_mw[\"q\"]<0.01].shape"
   ]
  },
  {
   "cell_type": "code",
   "execution_count": 181,
   "metadata": {},
   "outputs": [
    {
     "data": {
      "text/plain": [
       "(351,)"
      ]
     },
     "execution_count": 181,
     "metadata": {},
     "output_type": "execute_result"
    }
   ],
   "source": [
    "df_tt[\"q\"][df_tt[\"q\"]<0.01].shape"
   ]
  },
  {
   "cell_type": "code",
   "execution_count": 182,
   "metadata": {},
   "outputs": [
    {
     "data": {
      "text/plain": [
       "(8051,)"
      ]
     },
     "execution_count": 182,
     "metadata": {},
     "output_type": "execute_result"
    }
   ],
   "source": [
    "df_fp[\"q\"][df_fp[\"q\"]<0.01].shape"
   ]
  },
  {
   "cell_type": "code",
   "execution_count": 183,
   "metadata": {},
   "outputs": [],
   "source": [
    "data_e = df_e[\"q\"][df_e[\"q\"]<0.1]\n",
    "data_mw = df_mw[\"q\"][df_mw[\"q\"]<0.1]\n",
    "data_tt = df_tt[\"q\"][df_tt[\"q\"]<0.1]\n",
    "data_fp = df_fp[\"q\"][df_fp[\"q\"]<0.1]\n"
   ]
  },
  {
   "cell_type": "code",
   "execution_count": null,
   "metadata": {},
   "outputs": [],
   "source": []
  },
  {
   "cell_type": "code",
   "execution_count": null,
   "metadata": {},
   "outputs": [],
   "source": []
  },
  {
   "cell_type": "code",
   "execution_count": 160,
   "metadata": {},
   "outputs": [],
   "source": [
    "def preparePandas(q_values, cumulative, test=\"parallelized shift\"):\n",
    "    preparePd = list()\n",
    "    for q, cum in zip(q_values, cumulative):\n",
    "        preparePd.append([q, cum, test])\n",
    "    return preparePd"
   ]
  },
  {
   "cell_type": "code",
   "execution_count": 161,
   "metadata": {},
   "outputs": [],
   "source": [
    "\n",
    "values, base = np.histogram(data_e, bins=40)\n",
    "cumulative = np.cumsum(values)\n",
    "exactData = preparePandas(base[:-1], cumulative)\n",
    "\n",
    "values, base = np.histogram(data_mw, bins=40)\n",
    "cumulative = np.cumsum(values)\n",
    "mwuData = preparePandas(base[:-1], cumulative, \"MWU\")\n",
    "\n",
    "values, base = np.histogram(data_tt, bins=40)\n",
    "cumulative = np.cumsum(values)\n",
    "ttData = preparePandas(base[:-1], cumulative, \"t test\")\n",
    "\n",
    "values, base = np.histogram(data_fp, bins=40)\n",
    "cumulative = np.cumsum(values)\n",
    "fpData = preparePandas(base[:-1], cumulative, \"fastPerm\")"
   ]
  },
  {
   "cell_type": "code",
   "execution_count": null,
   "metadata": {},
   "outputs": [],
   "source": []
  },
  {
   "cell_type": "code",
   "execution_count": 164,
   "metadata": {},
   "outputs": [],
   "source": [
    "D = exactData +  mwuData + ttData + fpData"
   ]
  },
  {
   "cell_type": "code",
   "execution_count": 165,
   "metadata": {},
   "outputs": [],
   "source": [
    "pdData = pd.DataFrame(D, columns=['%','n', 'Method'])"
   ]
  },
  {
   "cell_type": "code",
   "execution_count": 167,
   "metadata": {},
   "outputs": [
    {
     "data": {
      "image/png": "[encoded data removed]",
      "text/plain": [
       "<Figure size 842.4x595.44 with 1 Axes>"
      ]
     },
     "metadata": {},
     "output_type": "display_data"
    }
   ],
   "source": [
    "a4_dims = (11.7, 8.27)\n",
    "\n",
    "fig, ax = plt.subplots(figsize=a4_dims)\n",
    "\n",
    "sns.set(style=\"white\")\n",
    "sns.set_context(\"talk\")\n",
    "\n",
    "snsPlot = sns.lineplot(x=\"%\", y=\"n\",\n",
    "             hue=\"Method\",\n",
    "             data=pdData, ax=ax)\n",
    "\n",
    "plt.ylabel(r\"$n_{proteins}$\",fontsize=20)\n",
    "        \n",
    "        \n",
    "plt.xlabel(r\"$q-value\\ (\\%)$\",fontsize=15)\n",
    "\n",
    "sns.set_style(\"ticks\")\n",
    "sns.despine()\n",
    "plt.tight_layout()\n",
    "plt.savefig(\"figures/experiment/n_proteins\")\n"
   ]
  },
  {
   "cell_type": "code",
   "execution_count": 169,
   "metadata": {},
   "outputs": [
    {
     "name": "stdout",
     "output_type": "stream",
     "text": [
      "n_proteins.png\r\n"
     ]
    }
   ],
   "source": [
    "!ls \"figures/experiment/\""
   ]
  },
  {
   "cell_type": "code",
   "execution_count": 195,
   "metadata": {},
   "outputs": [
    {
     "data": {
      "image/png": "[encoded data removed]"
     },
     "metadata": {},
     "output_type": "display_data"
    }
   ],
   "source": [
    "%%R\n",
    "# dummy data\n",
    "set.seed(1)\n",
    "x <- runif(20)\n",
    "y <- 0.5 * x\n",
    "y <- y + rnorm(20)\n",
    "\n",
    "## set up for the permutation, compute observed R\n",
    "nullR <- numeric(length = 1000)\n",
    "nullR[1] <- cor(x, y) ## obsered R in [1]\n",
    "N <- length(x)\n",
    "\n",
    "\n",
    "## permutation test\n",
    "for(i in seq_len(999) + 1) {\n",
    "    nullR[i] <- cor(x[sample(N)], y)\n",
    "}\n",
    "\n",
    "hist(nullR)"
   ]
  },
  {
   "cell_type": "code",
   "execution_count": 188,
   "metadata": {},
   "outputs": [
    {
     "data": {
      "text/html": [
       "<div>\n",
       "<style scoped>\n",
       "    .dataframe tbody tr th:only-of-type {\n",
       "        vertical-align: middle;\n",
       "    }\n",
       "\n",
       "    .dataframe tbody tr th {\n",
       "        vertical-align: top;\n",
       "    }\n",
       "\n",
       "    .dataframe thead th {\n",
       "        text-align: right;\n",
       "    }\n",
       "</style>\n",
       "<table border=\"1\" class=\"dataframe\">\n",
       "  <thead>\n",
       "    <tr style=\"text-align: right;\">\n",
       "      <th></th>\n",
       "      <th>0</th>\n",
       "      <th>1</th>\n",
       "      <th>2</th>\n",
       "      <th>3</th>\n",
       "      <th>4</th>\n",
       "      <th>5</th>\n",
       "      <th>6</th>\n",
       "      <th>7</th>\n",
       "      <th>8</th>\n",
       "      <th>9</th>\n",
       "      <th>...</th>\n",
       "      <th>8041</th>\n",
       "      <th>8042</th>\n",
       "      <th>8043</th>\n",
       "      <th>8044</th>\n",
       "      <th>8045</th>\n",
       "      <th>8046</th>\n",
       "      <th>8047</th>\n",
       "      <th>8048</th>\n",
       "      <th>8049</th>\n",
       "      <th>8050</th>\n",
       "    </tr>\n",
       "  </thead>\n",
       "  <tbody>\n",
       "    <tr>\n",
       "      <th>0</th>\n",
       "      <td>0.683404</td>\n",
       "      <td>0.694424</td>\n",
       "      <td>0.698098</td>\n",
       "      <td>0.687077</td>\n",
       "      <td>0.687077</td>\n",
       "      <td>0.698098</td>\n",
       "      <td>0.698098</td>\n",
       "      <td>0.698098</td>\n",
       "      <td>-2.652150</td>\n",
       "      <td>-0.984373</td>\n",
       "      <td>...</td>\n",
       "      <td>-0.187220</td>\n",
       "      <td>0.617280</td>\n",
       "      <td>-1.502339</td>\n",
       "      <td>2.130769</td>\n",
       "      <td>1.098511</td>\n",
       "      <td>-0.819065</td>\n",
       "      <td>-0.675798</td>\n",
       "      <td>0.014823</td>\n",
       "      <td>1.550354</td>\n",
       "      <td>-0.216608</td>\n",
       "    </tr>\n",
       "    <tr>\n",
       "      <th>1</th>\n",
       "      <td>0.107491</td>\n",
       "      <td>0.104164</td>\n",
       "      <td>0.107491</td>\n",
       "      <td>0.097512</td>\n",
       "      <td>0.104164</td>\n",
       "      <td>0.104164</td>\n",
       "      <td>0.104164</td>\n",
       "      <td>0.104164</td>\n",
       "      <td>-0.880454</td>\n",
       "      <td>-1.512473</td>\n",
       "      <td>...</td>\n",
       "      <td>-0.541160</td>\n",
       "      <td>2.136604</td>\n",
       "      <td>2.322883</td>\n",
       "      <td>1.225166</td>\n",
       "      <td>1.777351</td>\n",
       "      <td>1.062172</td>\n",
       "      <td>-2.759878</td>\n",
       "      <td>0.154061</td>\n",
       "      <td>0.237221</td>\n",
       "      <td>0.270485</td>\n",
       "    </tr>\n",
       "    <tr>\n",
       "      <th>2</th>\n",
       "      <td>-0.398560</td>\n",
       "      <td>-0.392601</td>\n",
       "      <td>-0.392601</td>\n",
       "      <td>-0.392601</td>\n",
       "      <td>-0.395581</td>\n",
       "      <td>-0.392601</td>\n",
       "      <td>-0.392601</td>\n",
       "      <td>-0.392601</td>\n",
       "      <td>-2.504862</td>\n",
       "      <td>0.694810</td>\n",
       "      <td>...</td>\n",
       "      <td>-0.663710</td>\n",
       "      <td>-0.273433</td>\n",
       "      <td>-1.631953</td>\n",
       "      <td>0.536912</td>\n",
       "      <td>4.978915</td>\n",
       "      <td>4.323489</td>\n",
       "      <td>-4.792895</td>\n",
       "      <td>-0.294287</td>\n",
       "      <td>0.724603</td>\n",
       "      <td>-1.745163</td>\n",
       "    </tr>\n",
       "    <tr>\n",
       "      <th>3</th>\n",
       "      <td>0.655850</td>\n",
       "      <td>0.658143</td>\n",
       "      <td>0.655850</td>\n",
       "      <td>0.655850</td>\n",
       "      <td>0.651264</td>\n",
       "      <td>0.658143</td>\n",
       "      <td>0.655850</td>\n",
       "      <td>0.655850</td>\n",
       "      <td>-1.969534</td>\n",
       "      <td>1.307036</td>\n",
       "      <td>...</td>\n",
       "      <td>0.039057</td>\n",
       "      <td>1.394167</td>\n",
       "      <td>-0.974410</td>\n",
       "      <td>2.588774</td>\n",
       "      <td>1.680781</td>\n",
       "      <td>3.145951</td>\n",
       "      <td>-2.462510</td>\n",
       "      <td>-0.109983</td>\n",
       "      <td>1.894022</td>\n",
       "      <td>1.135068</td>\n",
       "    </tr>\n",
       "    <tr>\n",
       "      <th>4</th>\n",
       "      <td>-1.123173</td>\n",
       "      <td>-1.123173</td>\n",
       "      <td>-1.116861</td>\n",
       "      <td>-1.129486</td>\n",
       "      <td>-1.129486</td>\n",
       "      <td>-1.120017</td>\n",
       "      <td>-1.123173</td>\n",
       "      <td>-1.123173</td>\n",
       "      <td>2.244584</td>\n",
       "      <td>-2.575065</td>\n",
       "      <td>...</td>\n",
       "      <td>0.499158</td>\n",
       "      <td>2.585463</td>\n",
       "      <td>0.259280</td>\n",
       "      <td>0.764286</td>\n",
       "      <td>0.041497</td>\n",
       "      <td>-0.113161</td>\n",
       "      <td>-0.583448</td>\n",
       "      <td>-0.233100</td>\n",
       "      <td>0.729567</td>\n",
       "      <td>1.045196</td>\n",
       "    </tr>\n",
       "    <tr>\n",
       "      <th>5</th>\n",
       "      <td>0.323663</td>\n",
       "      <td>0.326973</td>\n",
       "      <td>0.326973</td>\n",
       "      <td>0.330283</td>\n",
       "      <td>0.326973</td>\n",
       "      <td>0.326973</td>\n",
       "      <td>0.326973</td>\n",
       "      <td>0.326973</td>\n",
       "      <td>1.932290</td>\n",
       "      <td>-1.910542</td>\n",
       "      <td>...</td>\n",
       "      <td>-1.996601</td>\n",
       "      <td>-2.069419</td>\n",
       "      <td>-3.472831</td>\n",
       "      <td>-3.724386</td>\n",
       "      <td>-2.542740</td>\n",
       "      <td>0.356762</td>\n",
       "      <td>1.399391</td>\n",
       "      <td>-2.092589</td>\n",
       "      <td>-2.185267</td>\n",
       "      <td>0.621557</td>\n",
       "    </tr>\n",
       "    <tr>\n",
       "      <th>6</th>\n",
       "      <td>2.455138</td>\n",
       "      <td>2.480137</td>\n",
       "      <td>2.480137</td>\n",
       "      <td>2.461956</td>\n",
       "      <td>2.477864</td>\n",
       "      <td>2.471046</td>\n",
       "      <td>2.480137</td>\n",
       "      <td>2.480137</td>\n",
       "      <td>3.959607</td>\n",
       "      <td>-1.858279</td>\n",
       "      <td>...</td>\n",
       "      <td>3.311912</td>\n",
       "      <td>3.277823</td>\n",
       "      <td>-0.940144</td>\n",
       "      <td>1.566547</td>\n",
       "      <td>-2.724144</td>\n",
       "      <td>1.768809</td>\n",
       "      <td>-0.056098</td>\n",
       "      <td>0.523418</td>\n",
       "      <td>0.180254</td>\n",
       "      <td>-0.481076</td>\n",
       "    </tr>\n",
       "    <tr>\n",
       "      <th>7</th>\n",
       "      <td>0.831132</td>\n",
       "      <td>0.856540</td>\n",
       "      <td>0.856540</td>\n",
       "      <td>0.836778</td>\n",
       "      <td>0.865009</td>\n",
       "      <td>0.856540</td>\n",
       "      <td>0.850894</td>\n",
       "      <td>0.850894</td>\n",
       "      <td>-0.967196</td>\n",
       "      <td>2.838370</td>\n",
       "      <td>...</td>\n",
       "      <td>-1.720969</td>\n",
       "      <td>0.317324</td>\n",
       "      <td>5.480811</td>\n",
       "      <td>1.686537</td>\n",
       "      <td>0.574228</td>\n",
       "      <td>0.263685</td>\n",
       "      <td>-4.690892</td>\n",
       "      <td>0.051950</td>\n",
       "      <td>2.694391</td>\n",
       "      <td>-0.475973</td>\n",
       "    </tr>\n",
       "    <tr>\n",
       "      <th>8</th>\n",
       "      <td>-0.106680</td>\n",
       "      <td>-0.106680</td>\n",
       "      <td>-0.106680</td>\n",
       "      <td>-0.106680</td>\n",
       "      <td>-0.106680</td>\n",
       "      <td>-0.106680</td>\n",
       "      <td>-0.106680</td>\n",
       "      <td>-0.106680</td>\n",
       "      <td>0.025189</td>\n",
       "      <td>-1.177327</td>\n",
       "      <td>...</td>\n",
       "      <td>0.916871</td>\n",
       "      <td>1.224565</td>\n",
       "      <td>-1.130231</td>\n",
       "      <td>2.044034</td>\n",
       "      <td>1.431787</td>\n",
       "      <td>-2.059591</td>\n",
       "      <td>-3.620036</td>\n",
       "      <td>1.494581</td>\n",
       "      <td>-0.269946</td>\n",
       "      <td>-0.605897</td>\n",
       "    </tr>\n",
       "    <tr>\n",
       "      <th>9</th>\n",
       "      <td>-1.947792</td>\n",
       "      <td>-1.952718</td>\n",
       "      <td>-1.955180</td>\n",
       "      <td>-1.947792</td>\n",
       "      <td>-1.957643</td>\n",
       "      <td>-1.955180</td>\n",
       "      <td>-1.955180</td>\n",
       "      <td>-1.955180</td>\n",
       "      <td>-1.004611</td>\n",
       "      <td>-2.551133</td>\n",
       "      <td>...</td>\n",
       "      <td>-0.696784</td>\n",
       "      <td>-1.248410</td>\n",
       "      <td>-0.662307</td>\n",
       "      <td>-1.896077</td>\n",
       "      <td>-2.989479</td>\n",
       "      <td>-0.645069</td>\n",
       "      <td>0.539449</td>\n",
       "      <td>-0.709097</td>\n",
       "      <td>-1.918241</td>\n",
       "      <td>-1.312438</td>\n",
       "    </tr>\n",
       "    <tr>\n",
       "      <th>10</th>\n",
       "      <td>-0.033221</td>\n",
       "      <td>-0.030216</td>\n",
       "      <td>-0.027212</td>\n",
       "      <td>-0.030216</td>\n",
       "      <td>-0.030216</td>\n",
       "      <td>-0.030216</td>\n",
       "      <td>-0.030216</td>\n",
       "      <td>-0.030216</td>\n",
       "      <td>-2.551331</td>\n",
       "      <td>-2.100595</td>\n",
       "      <td>...</td>\n",
       "      <td>0.925343</td>\n",
       "      <td>-0.562084</td>\n",
       "      <td>0.745049</td>\n",
       "      <td>0.438549</td>\n",
       "      <td>2.274545</td>\n",
       "      <td>-1.439517</td>\n",
       "      <td>-1.589762</td>\n",
       "      <td>0.988446</td>\n",
       "      <td>0.101999</td>\n",
       "      <td>-1.887247</td>\n",
       "    </tr>\n",
       "    <tr>\n",
       "      <th>11</th>\n",
       "      <td>0.350536</td>\n",
       "      <td>0.367405</td>\n",
       "      <td>0.367405</td>\n",
       "      <td>0.360657</td>\n",
       "      <td>0.370779</td>\n",
       "      <td>0.367405</td>\n",
       "      <td>0.360657</td>\n",
       "      <td>0.360657</td>\n",
       "      <td>-1.650206</td>\n",
       "      <td>0.401145</td>\n",
       "      <td>...</td>\n",
       "      <td>-2.358732</td>\n",
       "      <td>1.082679</td>\n",
       "      <td>1.234506</td>\n",
       "      <td>-3.711679</td>\n",
       "      <td>4.618560</td>\n",
       "      <td>-0.975420</td>\n",
       "      <td>-3.927611</td>\n",
       "      <td>-0.128563</td>\n",
       "      <td>3.592885</td>\n",
       "      <td>-0.013849</td>\n",
       "    </tr>\n",
       "    <tr>\n",
       "      <th>12</th>\n",
       "      <td>0.195341</td>\n",
       "      <td>0.215413</td>\n",
       "      <td>0.215413</td>\n",
       "      <td>0.205377</td>\n",
       "      <td>0.215413</td>\n",
       "      <td>0.215413</td>\n",
       "      <td>0.215413</td>\n",
       "      <td>0.215413</td>\n",
       "      <td>-1.035760</td>\n",
       "      <td>-0.517226</td>\n",
       "      <td>...</td>\n",
       "      <td>-1.658001</td>\n",
       "      <td>0.707184</td>\n",
       "      <td>2.008538</td>\n",
       "      <td>2.149044</td>\n",
       "      <td>3.811698</td>\n",
       "      <td>-0.329884</td>\n",
       "      <td>-8.716757</td>\n",
       "      <td>1.700762</td>\n",
       "      <td>2.353112</td>\n",
       "      <td>0.422827</td>\n",
       "    </tr>\n",
       "    <tr>\n",
       "      <th>13</th>\n",
       "      <td>0.673905</td>\n",
       "      <td>0.688718</td>\n",
       "      <td>0.688718</td>\n",
       "      <td>0.677608</td>\n",
       "      <td>0.688718</td>\n",
       "      <td>0.688718</td>\n",
       "      <td>0.688718</td>\n",
       "      <td>0.688718</td>\n",
       "      <td>-2.733053</td>\n",
       "      <td>-2.133132</td>\n",
       "      <td>...</td>\n",
       "      <td>0.962755</td>\n",
       "      <td>-2.073881</td>\n",
       "      <td>1.151619</td>\n",
       "      <td>0.718343</td>\n",
       "      <td>4.132707</td>\n",
       "      <td>-0.788865</td>\n",
       "      <td>-0.629627</td>\n",
       "      <td>-0.103770</td>\n",
       "      <td>-0.766646</td>\n",
       "      <td>-3.818095</td>\n",
       "    </tr>\n",
       "    <tr>\n",
       "      <th>14</th>\n",
       "      <td>2.609943</td>\n",
       "      <td>2.650422</td>\n",
       "      <td>2.650422</td>\n",
       "      <td>2.646374</td>\n",
       "      <td>2.646374</td>\n",
       "      <td>2.646374</td>\n",
       "      <td>2.650422</td>\n",
       "      <td>2.650422</td>\n",
       "      <td>3.909313</td>\n",
       "      <td>-1.045294</td>\n",
       "      <td>...</td>\n",
       "      <td>0.812684</td>\n",
       "      <td>-0.442159</td>\n",
       "      <td>2.468267</td>\n",
       "      <td>1.039365</td>\n",
       "      <td>1.176993</td>\n",
       "      <td>-0.049515</td>\n",
       "      <td>0.715535</td>\n",
       "      <td>1.144610</td>\n",
       "      <td>-0.166903</td>\n",
       "      <td>1.059605</td>\n",
       "    </tr>\n",
       "    <tr>\n",
       "      <th>15</th>\n",
       "      <td>2.707250</td>\n",
       "      <td>2.733832</td>\n",
       "      <td>2.737629</td>\n",
       "      <td>2.733832</td>\n",
       "      <td>2.752819</td>\n",
       "      <td>2.737629</td>\n",
       "      <td>2.737629</td>\n",
       "      <td>2.737629</td>\n",
       "      <td>4.089502</td>\n",
       "      <td>-1.120524</td>\n",
       "      <td>...</td>\n",
       "      <td>1.146521</td>\n",
       "      <td>-0.569902</td>\n",
       "      <td>1.708535</td>\n",
       "      <td>1.066775</td>\n",
       "      <td>2.046503</td>\n",
       "      <td>0.398434</td>\n",
       "      <td>1.059181</td>\n",
       "      <td>1.883215</td>\n",
       "      <td>0.326283</td>\n",
       "      <td>1.025004</td>\n",
       "    </tr>\n",
       "    <tr>\n",
       "      <th>16</th>\n",
       "      <td>0.140182</td>\n",
       "      <td>0.126054</td>\n",
       "      <td>0.133118</td>\n",
       "      <td>0.111926</td>\n",
       "      <td>0.126054</td>\n",
       "      <td>0.126054</td>\n",
       "      <td>0.115458</td>\n",
       "      <td>0.115458</td>\n",
       "      <td>-0.725161</td>\n",
       "      <td>-2.360481</td>\n",
       "      <td>...</td>\n",
       "      <td>-0.862909</td>\n",
       "      <td>-2.099112</td>\n",
       "      <td>0.426275</td>\n",
       "      <td>-2.854962</td>\n",
       "      <td>0.857180</td>\n",
       "      <td>-0.866441</td>\n",
       "      <td>1.090292</td>\n",
       "      <td>-1.315006</td>\n",
       "      <td>-1.668207</td>\n",
       "      <td>-2.176817</td>\n",
       "    </tr>\n",
       "    <tr>\n",
       "      <th>17</th>\n",
       "      <td>0.538596</td>\n",
       "      <td>0.542211</td>\n",
       "      <td>0.542211</td>\n",
       "      <td>0.534981</td>\n",
       "      <td>0.542211</td>\n",
       "      <td>0.542211</td>\n",
       "      <td>0.542211</td>\n",
       "      <td>0.542211</td>\n",
       "      <td>-0.148205</td>\n",
       "      <td>0.267490</td>\n",
       "      <td>...</td>\n",
       "      <td>-1.326610</td>\n",
       "      <td>1.756763</td>\n",
       "      <td>4.352147</td>\n",
       "      <td>2.259212</td>\n",
       "      <td>1.247085</td>\n",
       "      <td>0.835004</td>\n",
       "      <td>-1.149488</td>\n",
       "      <td>2.204991</td>\n",
       "      <td>4.070197</td>\n",
       "      <td>2.251983</td>\n",
       "    </tr>\n",
       "    <tr>\n",
       "      <th>18</th>\n",
       "      <td>-1.086529</td>\n",
       "      <td>-1.095492</td>\n",
       "      <td>-1.095492</td>\n",
       "      <td>-1.095492</td>\n",
       "      <td>-1.095492</td>\n",
       "      <td>-1.093252</td>\n",
       "      <td>-1.093252</td>\n",
       "      <td>-1.093252</td>\n",
       "      <td>0.096627</td>\n",
       "      <td>-1.149272</td>\n",
       "      <td>...</td>\n",
       "      <td>-0.235015</td>\n",
       "      <td>1.358213</td>\n",
       "      <td>0.338637</td>\n",
       "      <td>2.301601</td>\n",
       "      <td>-0.371705</td>\n",
       "      <td>1.909456</td>\n",
       "      <td>0.018198</td>\n",
       "      <td>-0.031100</td>\n",
       "      <td>0.282616</td>\n",
       "      <td>-0.400836</td>\n",
       "    </tr>\n",
       "    <tr>\n",
       "      <th>19</th>\n",
       "      <td>-2.579532</td>\n",
       "      <td>-2.536336</td>\n",
       "      <td>-2.557934</td>\n",
       "      <td>-2.570892</td>\n",
       "      <td>-2.557934</td>\n",
       "      <td>-2.557934</td>\n",
       "      <td>-2.557934</td>\n",
       "      <td>-2.557934</td>\n",
       "      <td>-1.719942</td>\n",
       "      <td>-1.648669</td>\n",
       "      <td>...</td>\n",
       "      <td>0.126664</td>\n",
       "      <td>-4.331107</td>\n",
       "      <td>-0.797719</td>\n",
       "      <td>-4.521167</td>\n",
       "      <td>2.651438</td>\n",
       "      <td>-9.572876</td>\n",
       "      <td>-9.911961</td>\n",
       "      <td>-2.182133</td>\n",
       "      <td>-2.629206</td>\n",
       "      <td>-5.966055</td>\n",
       "    </tr>\n",
       "    <tr>\n",
       "      <th>20</th>\n",
       "      <td>-0.642941</td>\n",
       "      <td>-0.600538</td>\n",
       "      <td>-0.600538</td>\n",
       "      <td>-0.632964</td>\n",
       "      <td>-0.600538</td>\n",
       "      <td>-0.600538</td>\n",
       "      <td>-0.600538</td>\n",
       "      <td>-0.600538</td>\n",
       "      <td>-0.810059</td>\n",
       "      <td>-1.486012</td>\n",
       "      <td>...</td>\n",
       "      <td>1.459746</td>\n",
       "      <td>-0.498273</td>\n",
       "      <td>-2.127045</td>\n",
       "      <td>0.733907</td>\n",
       "      <td>1.349997</td>\n",
       "      <td>-4.681199</td>\n",
       "      <td>-3.860577</td>\n",
       "      <td>0.344798</td>\n",
       "      <td>1.108051</td>\n",
       "      <td>-0.316189</td>\n",
       "    </tr>\n",
       "    <tr>\n",
       "      <th>21</th>\n",
       "      <td>-2.367201</td>\n",
       "      <td>-2.312576</td>\n",
       "      <td>-2.293667</td>\n",
       "      <td>-2.293667</td>\n",
       "      <td>-2.293667</td>\n",
       "      <td>-2.312576</td>\n",
       "      <td>-2.312576</td>\n",
       "      <td>-2.312576</td>\n",
       "      <td>-0.083469</td>\n",
       "      <td>-2.245346</td>\n",
       "      <td>...</td>\n",
       "      <td>-0.518366</td>\n",
       "      <td>-1.846165</td>\n",
       "      <td>-1.512115</td>\n",
       "      <td>-3.274811</td>\n",
       "      <td>1.103567</td>\n",
       "      <td>-7.491415</td>\n",
       "      <td>-6.499767</td>\n",
       "      <td>-0.747369</td>\n",
       "      <td>0.275793</td>\n",
       "      <td>-1.575143</td>\n",
       "    </tr>\n",
       "    <tr>\n",
       "      <th>22</th>\n",
       "      <td>-2.316136</td>\n",
       "      <td>-2.280216</td>\n",
       "      <td>-2.260010</td>\n",
       "      <td>-2.280216</td>\n",
       "      <td>-2.242050</td>\n",
       "      <td>-2.260010</td>\n",
       "      <td>-2.280216</td>\n",
       "      <td>-2.280216</td>\n",
       "      <td>-0.248446</td>\n",
       "      <td>0.672023</td>\n",
       "      <td>...</td>\n",
       "      <td>0.512625</td>\n",
       "      <td>-4.080745</td>\n",
       "      <td>-3.613775</td>\n",
       "      <td>-4.561185</td>\n",
       "      <td>3.503030</td>\n",
       "      <td>-5.093262</td>\n",
       "      <td>-5.315522</td>\n",
       "      <td>-0.232731</td>\n",
       "      <td>-0.524587</td>\n",
       "      <td>-4.004413</td>\n",
       "    </tr>\n",
       "    <tr>\n",
       "      <th>23</th>\n",
       "      <td>0.500384</td>\n",
       "      <td>0.520345</td>\n",
       "      <td>0.530325</td>\n",
       "      <td>0.497888</td>\n",
       "      <td>0.530325</td>\n",
       "      <td>0.527830</td>\n",
       "      <td>0.527830</td>\n",
       "      <td>0.527830</td>\n",
       "      <td>1.630676</td>\n",
       "      <td>0.355666</td>\n",
       "      <td>...</td>\n",
       "      <td>-0.991702</td>\n",
       "      <td>0.547791</td>\n",
       "      <td>0.572742</td>\n",
       "      <td>0.597693</td>\n",
       "      <td>1.817810</td>\n",
       "      <td>-0.929324</td>\n",
       "      <td>-4.602150</td>\n",
       "      <td>0.922060</td>\n",
       "      <td>-1.832560</td>\n",
       "      <td>-0.357940</td>\n",
       "    </tr>\n",
       "    <tr>\n",
       "      <th>24</th>\n",
       "      <td>-1.446040</td>\n",
       "      <td>-1.380212</td>\n",
       "      <td>-1.380212</td>\n",
       "      <td>-1.451525</td>\n",
       "      <td>-1.451525</td>\n",
       "      <td>-1.380212</td>\n",
       "      <td>-1.402154</td>\n",
       "      <td>-1.402154</td>\n",
       "      <td>-2.630938</td>\n",
       "      <td>-0.765820</td>\n",
       "      <td>...</td>\n",
       "      <td>1.121241</td>\n",
       "      <td>-4.745653</td>\n",
       "      <td>-7.055108</td>\n",
       "      <td>-3.261787</td>\n",
       "      <td>-13.018001</td>\n",
       "      <td>-5.936037</td>\n",
       "      <td>-13.020744</td>\n",
       "      <td>-0.922161</td>\n",
       "      <td>1.442151</td>\n",
       "      <td>-5.571242</td>\n",
       "    </tr>\n",
       "    <tr>\n",
       "      <th>25</th>\n",
       "      <td>-1.463032</td>\n",
       "      <td>-1.404991</td>\n",
       "      <td>-1.404991</td>\n",
       "      <td>-1.419001</td>\n",
       "      <td>-1.419001</td>\n",
       "      <td>-1.406993</td>\n",
       "      <td>-1.406993</td>\n",
       "      <td>-1.406993</td>\n",
       "      <td>0.590412</td>\n",
       "      <td>-0.600426</td>\n",
       "      <td>...</td>\n",
       "      <td>-1.563103</td>\n",
       "      <td>-5.423817</td>\n",
       "      <td>-4.861421</td>\n",
       "      <td>-7.575330</td>\n",
       "      <td>1.054738</td>\n",
       "      <td>-6.934879</td>\n",
       "      <td>-7.353173</td>\n",
       "      <td>-4.246989</td>\n",
       "      <td>-1.545090</td>\n",
       "      <td>-4.883437</td>\n",
       "    </tr>\n",
       "  </tbody>\n",
       "</table>\n",
       "<p>26 rows × 8051 columns</p>\n",
       "</div>"
      ],
      "text/plain": [
       "        0         1         2         3         4         5         6     \\\n",
       "0   0.683404  0.694424  0.698098  0.687077  0.687077  0.698098  0.698098   \n",
       "1   0.107491  0.104164  0.107491  0.097512  0.104164  0.104164  0.104164   \n",
       "2  -0.398560 -0.392601 -0.392601 -0.392601 -0.395581 -0.392601 -0.392601   \n",
       "3   0.655850  0.658143  0.655850  0.655850  0.651264  0.658143  0.655850   \n",
       "4  -1.123173 -1.123173 -1.116861 -1.129486 -1.129486 -1.120017 -1.123173   \n",
       "5   0.323663  0.326973  0.326973  0.330283  0.326973  0.326973  0.326973   \n",
       "6   2.455138  2.480137  2.480137  2.461956  2.477864  2.471046  2.480137   \n",
       "7   0.831132  0.856540  0.856540  0.836778  0.865009  0.856540  0.850894   \n",
       "8  -0.106680 -0.106680 -0.106680 -0.106680 -0.106680 -0.106680 -0.106680   \n",
       "9  -1.947792 -1.952718 -1.955180 -1.947792 -1.957643 -1.955180 -1.955180   \n",
       "10 -0.033221 -0.030216 -0.027212 -0.030216 -0.030216 -0.030216 -0.030216   \n",
       "11  0.350536  0.367405  0.367405  0.360657  0.370779  0.367405  0.360657   \n",
       "12  0.195341  0.215413  0.215413  0.205377  0.215413  0.215413  0.215413   \n",
       "13  0.673905  0.688718  0.688718  0.677608  0.688718  0.688718  0.688718   \n",
       "14  2.609943  2.650422  2.650422  2.646374  2.646374  2.646374  2.650422   \n",
       "15  2.707250  2.733832  2.737629  2.733832  2.752819  2.737629  2.737629   \n",
       "16  0.140182  0.126054  0.133118  0.111926  0.126054  0.126054  0.115458   \n",
       "17  0.538596  0.542211  0.542211  0.534981  0.542211  0.542211  0.542211   \n",
       "18 -1.086529 -1.095492 -1.095492 -1.095492 -1.095492 -1.093252 -1.093252   \n",
       "19 -2.579532 -2.536336 -2.557934 -2.570892 -2.557934 -2.557934 -2.557934   \n",
       "20 -0.642941 -0.600538 -0.600538 -0.632964 -0.600538 -0.600538 -0.600538   \n",
       "21 -2.367201 -2.312576 -2.293667 -2.293667 -2.293667 -2.312576 -2.312576   \n",
       "22 -2.316136 -2.280216 -2.260010 -2.280216 -2.242050 -2.260010 -2.280216   \n",
       "23  0.500384  0.520345  0.530325  0.497888  0.530325  0.527830  0.527830   \n",
       "24 -1.446040 -1.380212 -1.380212 -1.451525 -1.451525 -1.380212 -1.402154   \n",
       "25 -1.463032 -1.404991 -1.404991 -1.419001 -1.419001 -1.406993 -1.406993   \n",
       "\n",
       "        7         8         9     ...      8041      8042      8043      8044  \\\n",
       "0   0.698098 -2.652150 -0.984373  ... -0.187220  0.617280 -1.502339  2.130769   \n",
       "1   0.104164 -0.880454 -1.512473  ... -0.541160  2.136604  2.322883  1.225166   \n",
       "2  -0.392601 -2.504862  0.694810  ... -0.663710 -0.273433 -1.631953  0.536912   \n",
       "3   0.655850 -1.969534  1.307036  ...  0.039057  1.394167 -0.974410  2.588774   \n",
       "4  -1.123173  2.244584 -2.575065  ...  0.499158  2.585463  0.259280  0.764286   \n",
       "5   0.326973  1.932290 -1.910542  ... -1.996601 -2.069419 -3.472831 -3.724386   \n",
       "6   2.480137  3.959607 -1.858279  ...  3.311912  3.277823 -0.940144  1.566547   \n",
       "7   0.850894 -0.967196  2.838370  ... -1.720969  0.317324  5.480811  1.686537   \n",
       "8  -0.106680  0.025189 -1.177327  ...  0.916871  1.224565 -1.130231  2.044034   \n",
       "9  -1.955180 -1.004611 -2.551133  ... -0.696784 -1.248410 -0.662307 -1.896077   \n",
       "10 -0.030216 -2.551331 -2.100595  ...  0.925343 -0.562084  0.745049  0.438549   \n",
       "11  0.360657 -1.650206  0.401145  ... -2.358732  1.082679  1.234506 -3.711679   \n",
       "12  0.215413 -1.035760 -0.517226  ... -1.658001  0.707184  2.008538  2.149044   \n",
       "13  0.688718 -2.733053 -2.133132  ...  0.962755 -2.073881  1.151619  0.718343   \n",
       "14  2.650422  3.909313 -1.045294  ...  0.812684 -0.442159  2.468267  1.039365   \n",
       "15  2.737629  4.089502 -1.120524  ...  1.146521 -0.569902  1.708535  1.066775   \n",
       "16  0.115458 -0.725161 -2.360481  ... -0.862909 -2.099112  0.426275 -2.854962   \n",
       "17  0.542211 -0.148205  0.267490  ... -1.326610  1.756763  4.352147  2.259212   \n",
       "18 -1.093252  0.096627 -1.149272  ... -0.235015  1.358213  0.338637  2.301601   \n",
       "19 -2.557934 -1.719942 -1.648669  ...  0.126664 -4.331107 -0.797719 -4.521167   \n",
       "20 -0.600538 -0.810059 -1.486012  ...  1.459746 -0.498273 -2.127045  0.733907   \n",
       "21 -2.312576 -0.083469 -2.245346  ... -0.518366 -1.846165 -1.512115 -3.274811   \n",
       "22 -2.280216 -0.248446  0.672023  ...  0.512625 -4.080745 -3.613775 -4.561185   \n",
       "23  0.527830  1.630676  0.355666  ... -0.991702  0.547791  0.572742  0.597693   \n",
       "24 -1.402154 -2.630938 -0.765820  ...  1.121241 -4.745653 -7.055108 -3.261787   \n",
       "25 -1.406993  0.590412 -0.600426  ... -1.563103 -5.423817 -4.861421 -7.575330   \n",
       "\n",
       "         8045      8046       8047      8048      8049      8050  \n",
       "0    1.098511 -0.819065  -0.675798  0.014823  1.550354 -0.216608  \n",
       "1    1.777351  1.062172  -2.759878  0.154061  0.237221  0.270485  \n",
       "2    4.978915  4.323489  -4.792895 -0.294287  0.724603 -1.745163  \n",
       "3    1.680781  3.145951  -2.462510 -0.109983  1.894022  1.135068  \n",
       "4    0.041497 -0.113161  -0.583448 -0.233100  0.729567  1.045196  \n",
       "5   -2.542740  0.356762   1.399391 -2.092589 -2.185267  0.621557  \n",
       "6   -2.724144  1.768809  -0.056098  0.523418  0.180254 -0.481076  \n",
       "7    0.574228  0.263685  -4.690892  0.051950  2.694391 -0.475973  \n",
       "8    1.431787 -2.059591  -3.620036  1.494581 -0.269946 -0.605897  \n",
       "9   -2.989479 -0.645069   0.539449 -0.709097 -1.918241 -1.312438  \n",
       "10   2.274545 -1.439517  -1.589762  0.988446  0.101999 -1.887247  \n",
       "11   4.618560 -0.975420  -3.927611 -0.128563  3.592885 -0.013849  \n",
       "12   3.811698 -0.329884  -8.716757  1.700762  2.353112  0.422827  \n",
       "13   4.132707 -0.788865  -0.629627 -0.103770 -0.766646 -3.818095  \n",
       "14   1.176993 -0.049515   0.715535  1.144610 -0.166903  1.059605  \n",
       "15   2.046503  0.398434   1.059181  1.883215  0.326283  1.025004  \n",
       "16   0.857180 -0.866441   1.090292 -1.315006 -1.668207 -2.176817  \n",
       "17   1.247085  0.835004  -1.149488  2.204991  4.070197  2.251983  \n",
       "18  -0.371705  1.909456   0.018198 -0.031100  0.282616 -0.400836  \n",
       "19   2.651438 -9.572876  -9.911961 -2.182133 -2.629206 -5.966055  \n",
       "20   1.349997 -4.681199  -3.860577  0.344798  1.108051 -0.316189  \n",
       "21   1.103567 -7.491415  -6.499767 -0.747369  0.275793 -1.575143  \n",
       "22   3.503030 -5.093262  -5.315522 -0.232731 -0.524587 -4.004413  \n",
       "23   1.817810 -0.929324  -4.602150  0.922060 -1.832560 -0.357940  \n",
       "24 -13.018001 -5.936037 -13.020744 -0.922161  1.442151 -5.571242  \n",
       "25   1.054738 -6.934879  -7.353173 -4.246989 -1.545090 -4.883437  \n",
       "\n",
       "[26 rows x 8051 columns]"
      ]
     },
     "execution_count": 188,
     "metadata": {},
     "output_type": "execute_result"
    }
   ],
   "source": [
    "\n",
    "\n",
    "x"
   ]
  },
  {
   "cell_type": "code",
   "execution_count": null,
   "metadata": {},
   "outputs": [],
   "source": []
  }
 ],
 "metadata": {
  "kernelspec": {
   "display_name": "Python (my-r-env)",
   "language": "python",
   "name": "my-r-env"
  },
  "language_info": {
   "codemirror_mode": {
    "name": "ipython",
    "version": 3
   },
   "file_extension": ".py",
   "mimetype": "text/x-python",
   "name": "python",
   "nbconvert_exporter": "python",
   "pygments_lexer": "ipython3",
   "version": "3.7.6"
  }
 },
 "nbformat": 4,
 "nbformat_minor": 2
}
