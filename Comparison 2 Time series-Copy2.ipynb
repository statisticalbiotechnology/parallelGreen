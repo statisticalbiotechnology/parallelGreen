{
 "cells": [
  {
   "cell_type": "code",
   "execution_count": 1,
   "metadata": {},
   "outputs": [],
   "source": [
    "from significance_of_mean_cuda import significance_of_mean_cuda\n",
    "from utils import significance_of_mean, getdf, my_scatter_plot\n",
    "import numpy as np\n",
    "import time\n",
    "import multiprocessing\n",
    "import concurrent.futures as cf\n",
    "import matplotlib.pyplot as plt\n",
    "import numpy as np\n",
    "from scipy.stats import truncnorm\n",
    "import matplotlib.pyplot as plt\n",
    "from IPython.display import Image\n",
    "\n",
    "import seaborn as sns\n",
    "import time\n",
    "from scipy.stats import ttest_ind, ttest_rel, chisquare, ks_2samp\n",
    "import pandas as pd\n",
    "import seaborn as sns\n",
    "\n",
    "import matplotlib as mpl\n",
    "\n",
    "mpl.rcParams['text.usetex'] = False  # not really needed\n",
    "\n",
    "from scipy import stats"
   ]
  },
  {
   "cell_type": "code",
   "execution_count": 2,
   "metadata": {},
   "outputs": [
    {
     "name": "stderr",
     "output_type": "stream",
     "text": [
      "R[write to console]: Warning:\n",
      "R[write to console]:  namespace ‘pbdZMQ’ is not available and has been replaced\n",
      "by .GlobalEnv when processing object ‘.pbd_env’\n",
      "\n",
      "/home/ekvall/anaconda3/envs/my-r-env/lib/python3.7/site-packages/rpy2/robjects/pandas2ri.py:14: FutureWarning: pandas.core.index is deprecated and will be removed in a future version.  The public classes are available in the top-level namespace.\n",
      "  from pandas.core.index import Index as PandasIndex\n",
      "/home/ekvall/anaconda3/envs/my-r-env/lib/python3.7/site-packages/rpy2/robjects/pandas2ri.py:34: UserWarning: pandas >= 1.0 is not supported.\n",
      "  warnings.warn('pandas >= 1.0 is not supported.')\n"
     ]
    }
   ],
   "source": [
    "%load_ext cython\n",
    "%load_ext rpy2.ipython\n"
   ]
  },
  {
   "cell_type": "code",
   "execution_count": 3,
   "metadata": {},
   "outputs": [
    {
     "name": "stderr",
     "output_type": "stream",
     "text": [
      "R[write to console]: Loading required package: ggplot2\n",
      "\n",
      "R[write to console]: Installing package into ‘/usr/local/lib/R/site-library’\n",
      "(as ‘lib’ is unspecified)\n",
      "\n",
      "R[write to console]: trying URL 'https://cloud.r-project.org/src/contrib/devtools_2.3.0.tar.gz'\n",
      "\n",
      "R[write to console]: Content type 'application/x-gzip'\n",
      "R[write to console]:  length 375227 bytes (366 KB)\n",
      "\n",
      "R[write to console]: =\n",
      "R[write to console]: =\n",
      "R[write to console]: =\n",
      "R[write to console]: =\n",
      "R[write to console]: =\n",
      "R[write to console]: =\n",
      "R[write to console]: =\n",
      "R[write to console]: =\n",
      "R[write to console]: =\n",
      "R[write to console]: =\n",
      "R[write to console]: =\n",
      "R[write to console]: =\n",
      "R[write to console]: =\n",
      "R[write to console]: =\n",
      "R[write to console]: =\n",
      "R[write to console]: =\n",
      "R[write to console]: =\n",
      "R[write to console]: =\n",
      "R[write to console]: =\n",
      "R[write to console]: =\n",
      "R[write to console]: =\n",
      "R[write to console]: =\n",
      "R[write to console]: =\n",
      "R[write to console]: =\n",
      "R[write to console]: =\n",
      "R[write to console]: =\n",
      "R[write to console]: =\n",
      "R[write to console]: =\n",
      "R[write to console]: =\n",
      "R[write to console]: =\n",
      "R[write to console]: =\n",
      "R[write to console]: =\n",
      "R[write to console]: =\n",
      "R[write to console]: =\n",
      "R[write to console]: =\n",
      "R[write to console]: =\n",
      "R[write to console]: =\n",
      "R[write to console]: =\n",
      "R[write to console]: =\n",
      "R[write to console]: =\n",
      "R[write to console]: =\n",
      "R[write to console]: =\n",
      "R[write to console]: =\n",
      "R[write to console]: =\n",
      "R[write to console]: =\n",
      "R[write to console]: =\n",
      "R[write to console]: =\n",
      "R[write to console]: =\n",
      "R[write to console]: =\n",
      "R[write to console]: =\n",
      "R[write to console]: \n",
      "\n",
      "R[write to console]: downloaded 366 KB\n",
      "\n",
      "\n",
      "R[write to console]: \n",
      "\n",
      "R[write to console]: \n",
      "R[write to console]: The downloaded source packages are in\n",
      "\t‘/tmp/RtmpIbq8UK/downloaded_packages’\n",
      "R[write to console]: \n",
      "R[write to console]: \n",
      "\n",
      "R[write to console]: Loading required package: usethis\n",
      "\n",
      "R[write to console]: Skipping install of 'fastPerm' from a github remote, the SHA1 (639f37e1) has not changed since last install.\n",
      "  Use `force = TRUE` to force installation\n",
      "\n"
     ]
    }
   ],
   "source": [
    "%%R\n",
    "\n",
    "require(ggplot2)\n",
    "install.packages(\"devtools\")\n",
    "library(\"devtools\")\n",
    "install_github(\"bdsegal/fastPerm\")\n",
    "\n",
    "library(fastPerm)"
   ]
  },
  {
   "cell_type": "code",
   "execution_count": 4,
   "metadata": {},
   "outputs": [],
   "source": [
    "%%R\n",
    "    runFastPerm <- function(x,y,output, n_samples) {\n",
    "        e <- list(mode=\"vector\",length=n_samples)\n",
    "        for (i in 1:n_samples) {\n",
    "      \n",
    "            mStopDiffMean(x[[i]], y[[i]])\n",
    "            valX = fastPerm(x[[i]], y[[i]], testStat = diffMean)\n",
    "            \n",
    "            valX <-unlist(valX)\n",
    "\n",
    "      \n",
    "            output[[i]] <- as.numeric(valX[1])\n",
    "      \n",
    "            }\n",
    "    \n",
    "\n",
    "    return(output)\n",
    "\n",
    "\n",
    "    }"
   ]
  },
  {
   "cell_type": "code",
   "execution_count": 5,
   "metadata": {},
   "outputs": [],
   "source": [
    "def fastPerm(A,B):\n",
    "    x = pd.DataFrame(A, columns=list(range(A.shape[1]))).T\n",
    "    y = pd.DataFrame(B, columns=list(range(B.shape[1]))).T\n",
    "    n_samples = x.shape[1]\n",
    "    outputDf = pd.DataFrame(n_samples * [0], columns=[\"output\"]).T\n",
    "    \n",
    "    %R -i x\n",
    "    %R -i y\n",
    "    %R -i outputDf\n",
    "    %R -i n_samples\n",
    "    \n",
    "    \n",
    "    %R out <- runFastPerm(x,y, outputDf, n_samples)\n",
    "    \n",
    "    \n",
    "    %R -o out\n",
    "    return list(out.T[\"output\"].values)\n",
    "\n",
    "def runFastPerm(X_list, y_list):\n",
    "    pfp_list = list()\n",
    "    TIME = list()\n",
    "    \n",
    "    for Xp, yp in zip(X_list, y_list):\n",
    "\n",
    "        p_fp = list()\n",
    "        time_list = list()\n",
    "        \n",
    "        for x, y in zip(Xp, yp):\n",
    "           \n",
    "            start = time.time()\n",
    "            p_fp.append(fastPerm(np.array(y)[np.newaxis,...], np.array(x)[np.newaxis,...]))\n",
    "            end = time.time()\n",
    "        \n",
    "            time_list.append(end - start)\n",
    "        \n",
    "        pfp_list.append(p_fp)\n",
    "        TIME.append(time_list)\n",
    "        \n",
    "    return pfp_list, TIME"
   ]
  },
  {
   "cell_type": "code",
   "execution_count": 17,
   "metadata": {},
   "outputs": [],
   "source": [
    "def p_value_calc(args):\n",
    "    a,b, bins = args\n",
    "    p=significance_of_mean(a,b, bins)[0]\n",
    "    return p"
   ]
  },
  {
   "cell_type": "markdown",
   "metadata": {},
   "source": [
    "### Load data from MC approximation of permutation test"
   ]
  },
  {
   "cell_type": "code",
   "execution_count": null,
   "metadata": {},
   "outputs": [],
   "source": [
    "def loadMcResult(sampleShape, mean):\n",
    "    X_list = list()\n",
    "    y_list = list()\n",
    "    p_val_list = list()\n",
    "    time_listMc = list()\n",
    "    for S in sampleShape:\n",
    "        X = pd.read_csv(\"dataFastPerm/data_{}/X_{}.csv\".format(mean, S))\n",
    "        Y = pd.read_csv(\"dataFastPerm/data_{}/y_{}.csv\".format(mean, S))\n",
    "        p_val = pd.read_csv(\"dataFastPerm/data_{}/error_{}.csv\".format(mean, S))\n",
    "        timeMc = pd.read_csv(\"dataFastPerm/data_{}/Time_{}.csv\".format(mean, S))\n",
    "    \n",
    "    \n",
    "        X.columns = range(X.shape[1])\n",
    "        Y.columns = range(Y.shape[1])\n",
    "        p_val.columns = range(p_val.shape[1])\n",
    "        timeMc.columns = range(timeMc.shape[1])\n",
    "    \n",
    "    \n",
    "        X_list.append([np.array(x.split(\" \")[1:]).astype(float) for x in X[0].values])\n",
    "        y_list.append([np.array(y.split(\" \")[1:]).astype(float) for y in Y[0].values])\n",
    "        p_val_list.append(np.array([float(p[0].split(\" \")[1]) for p in p_val.values]))\n",
    "        time_listMc.append([float(t[0].split(\" \")[1]) for t in timeMc.values])\n",
    "    \n",
    "    return X_list, y_list, p_val_list, time_listMc"
   ]
  },
  {
   "cell_type": "markdown",
   "metadata": {},
   "source": [
    "### Get p-value for the the parallelized permutation test"
   ]
  },
  {
   "cell_type": "code",
   "execution_count": 6,
   "metadata": {},
   "outputs": [],
   "source": [
    "def run_test(X,Y,bins, parallel=True, midP=False):\n",
    "    if parallel:\n",
    "        #Exact test\n",
    "        SGM = significance_of_mean_cuda(bins, dtype_v=np.uint32,dtype_A=np.float64)\n",
    "        SGM.run(X.reshape(1,-1),Y.reshape(1,-1), midP)\n",
    "        p_val = [2 * min( p, (1-p)) for p in SGM.get_p_values()][0]\n",
    "    else:\n",
    "        p_val = p_value_calc([list(X), list(Y), bins])\n",
    "\n",
    "    return p_val"
   ]
  },
  {
   "cell_type": "markdown",
   "metadata": {},
   "source": [
    "### Get all p-values from the prallelized exact test from the same data as the MC version"
   ]
  },
  {
   "cell_type": "code",
   "execution_count": 7,
   "metadata": {},
   "outputs": [],
   "source": [
    "def shiftMethod(X_list, y_list, bins, parallel=True, midP=False):\n",
    "    pt_list = list()\n",
    "    pe_list = list()\n",
    "    TIME = list()\n",
    "\n",
    "    for Xp, yp in zip(X_list, y_list):\n",
    "        p_t = list()\n",
    "        p_e = list()\n",
    "        time_list = list()\n",
    "    \n",
    "        for x, y in zip(Xp, yp):\n",
    "            \n",
    "            \n",
    "            t, p = ttest_ind(y, x)\n",
    "            \n",
    "       \n",
    "            p_t.append(p)\n",
    "        \n",
    "            start = time.time()\n",
    "            p_e.append(run_test(y, x, bins, parallel, midP))\n",
    "            end = time.time()\n",
    "        \n",
    "            time_list.append(end - start)\n",
    "    \n",
    "        pt_list.append(p_t)\n",
    "        pe_list.append(p_e)\n",
    "        TIME.append(time_list)\n",
    "    \n",
    "    return pt_list, pe_list, TIME\n",
    "    "
   ]
  },
  {
   "cell_type": "code",
   "execution_count": 8,
   "metadata": {},
   "outputs": [],
   "source": [
    "\n",
    "\n",
    "    "
   ]
  },
  {
   "cell_type": "code",
   "execution_count": null,
   "metadata": {},
   "outputs": [],
   "source": []
  },
  {
   "cell_type": "markdown",
   "metadata": {},
   "source": [
    "### Compare parallelized and MC version"
   ]
  },
  {
   "cell_type": "code",
   "execution_count": null,
   "metadata": {},
   "outputs": [],
   "source": [
    "def compare(p_val_list, pe_list, pt_list):\n",
    "    PE_err = list()\n",
    "    PAE_err = list()\n",
    "    \n",
    "    for P_ae, P_e, P_t in zip(p_val_list, pe_list, pt_list):\n",
    "        P_ae_error = list()\n",
    "        P_e_error = list()\n",
    "        \n",
    "        for ae, e, t in zip(P_ae, P_e, P_t):\n",
    "            P_ae_error.append((ae - t) / t)\n",
    "            P_e_error.append((e - t) / t)\n",
    "            \n",
    "        PE_err.append(P_e_error)\n",
    "        PAE_err.append(P_ae_error)\n",
    "    \n",
    "    return PE_err, PAE_err\n"
   ]
  },
  {
   "cell_type": "markdown",
   "metadata": {},
   "source": [
    "### Boxplot"
   ]
  },
  {
   "cell_type": "code",
   "execution_count": null,
   "metadata": {},
   "outputs": [],
   "source": [
    "def boxPlot(error, Bin, log=False, path=None):\n",
    "    my_dict = dict()\n",
    "    for d, b in zip(error, Bin):\n",
    "        my_dict[str(b)] = d\n",
    "    \n",
    "    fig, ax = plt.subplots()\n",
    "    ax.boxplot(my_dict.values())\n",
    "    ax.set_xticklabels(my_dict.keys())\n",
    "    \n",
    "    plt.ylabel(r\"$\\frac{p_{e}-p_{t}}{p_{t}}$\",fontsize=20)\n",
    "        \n",
    "        \n",
    "    plt.xlabel(\"Sample size\",fontsize=15)\n",
    "   \n",
    "    if log:\n",
    "        RANGE = np.arange(np.floor(np.min(error)), np.ceil(np.max(error)))\n",
    "        ax.set_yticks(RANGE)\n",
    "        ax.set_yticklabels(10.0**RANGE)\n",
    "\n",
    "    \n",
    "    if path:\n",
    "        fig.savefig(path+\".jpg\", bbox_inches='tight')\n",
    "        \n",
    "    "
   ]
  },
  {
   "cell_type": "markdown",
   "metadata": {},
   "source": [
    "### Time-plot"
   ]
  },
  {
   "cell_type": "code",
   "execution_count": 44,
   "metadata": {},
   "outputs": [],
   "source": [
    "def preparePandas(timeData, sampleSizes, test=\"Parallel\"):\n",
    "    preparePd = list()\n",
    "    for time, sample in zip(timeData, sampleSizes):\n",
    "        for t in time:\n",
    "        \n",
    "            preparePd.append([str(test),t, sample])\n",
    "    return preparePd\n",
    "    \n",
    "    "
   ]
  },
  {
   "cell_type": "code",
   "execution_count": 45,
   "metadata": {},
   "outputs": [],
   "source": [
    "def timePlotSNSFastperm(TIMEParallel, TIME_MC, sampleShape, log=False, TIMEsingleThred=False, path=None):\n",
    "\n",
    "    sns.set(style=\"white\")\n",
    "    sns.set_context(\"talk\")\n",
    "    \n",
    "    preparePdParallel = preparePandas(TIMEParallel, sampleShape, \"Parallel Green\")\n",
    "    preparePdMc = preparePandas(TIME_MC, sampleShape, 'FastPerm')\n",
    "    \n",
    "    if np.any(TIMEsingleThred):\n",
    "        preparePdSingle = preparePandas(TIMEsingleThred, sampleShape, 'Single thread Green')\n",
    "        data = preparePdMc + preparePdParallel + preparePdSingle\n",
    "    else:\n",
    "        data = preparePdMc + preparePdParallel\n",
    "        \n",
    "    pdData = pd.DataFrame(data, columns=['Method', 'time(s)','n'])\n",
    "    \n",
    "    if log:        \n",
    "        MAX = max(np.max(TIMEParallel), np.max(TIME_MC))\n",
    "        MIN = min(np.min(TIMEParallel), np.min(TIME_MC))\n",
    "        if np.any(TIMEsingleThred):\n",
    "            MAX = max(np.max(TIMEParallel), np.max(TIME_MC), np.max(TIMEsingleThred))\n",
    "            MIN = min(np.min(TIMEParallel), np.min(TIME_MC), np.min(TIMEsingleThred))\n",
    "            \n",
    "        \n",
    "        RANGE = np.arange(np.floor(MIN), np.ceil(MAX))\n",
    "        \n",
    "        snsPlot = sns.lineplot(x=\"n\", y=\"time(s)\",\n",
    "             hue=\"Method\",\n",
    "             data=pdData)\n",
    "        plt.yticks(RANGE, 10.0**RANGE)\n",
    "        \n",
    "        \n",
    "    else:\n",
    "        snsPlot = sns.lineplot(x=\"n\", y=\"time(s)\",\n",
    "             hue=\"Method\",\n",
    "             data=pdData)\n",
    "        \n",
    "        \n",
    "    h,l = snsPlot.get_legend_handles_labels()\n",
    "    plt.legend(h[1:],l[1:])\n",
    "\n",
    "    plt.ylabel(\"time(s)\",fontsize=20)\n",
    "        \n",
    "        \n",
    "    plt.xlabel(r\"$n$\",fontsize=15)\n",
    "\n",
    "    plt.tight_layout()\n",
    "    if path:\n",
    "        \n",
    "        fig = snsPlot.get_figure()\n",
    "\n",
    "\n",
    "        fig.savefig(path)\n",
    "\n",
    "\n"
   ]
  },
  {
   "cell_type": "code",
   "execution_count": null,
   "metadata": {},
   "outputs": [],
   "source": [
    "def timePlot(TIMEParallel, TIME_MC, sampleShape, path=None, log=False, TIMEsingleThred=None):\n",
    "    plt.plot(sampleShape, np.mean(TIMEParallel,axis=1), 'r-', label='Parallelization of P-value')\n",
    "    plt.plot(sampleShape, np.mean(TIME_MC,axis=1), 'g-', label='Approximation of P-value')\n",
    "    if np.any(TIMEsingleThred):\n",
    "        plt.plot(sampleShape, np.mean(TIMEsingleThred,axis=1), 'y-', label='Single thread shift method of P-value')\n",
    "        \n",
    "    plt.legend(loc='upper left')\n",
    "    plt.xlabel(r\"Sample size\")\n",
    "    if log:        \n",
    "        MAX = max(np.max(TIMEParallel), np.max(TIME_MC))\n",
    "        MIN = min(np.min(TIMEParallel), np.min(TIME_MC))\n",
    "        if np.any(TIMEsingleThred):\n",
    "            MAX = max(np.max(TIMEParallel), np.max(TIME_MC), np.max(TIMEsingleThred))\n",
    "            MIN = min(np.min(TIMEParallel), np.min(TIME_MC), np.min(TIMEsingleThred))\n",
    "            \n",
    "        \n",
    "        RANGE = np.arange(np.floor(MIN), np.ceil(MAX))\n",
    "        plt.yticks(RANGE, 10.0**RANGE)\n",
    "            \n",
    "    plt.ylabel(\"Time(s)\")\n",
    "    plt.tight_layout()\n",
    "    if path:\n",
    "        plt.savefig(path)\n",
    "    plt.show()"
   ]
  },
  {
   "cell_type": "code",
   "execution_count": 36,
   "metadata": {},
   "outputs": [],
   "source": [
    "def getPATH(path, suffix, prefix):\n",
    "    return path + '/'+ suffix + '_' + prefix + \".png\""
   ]
  },
  {
   "cell_type": "code",
   "execution_count": 37,
   "metadata": {},
   "outputs": [],
   "source": [
    "path = \"figures/paralellVsFastApprox\""
   ]
  },
  {
   "cell_type": "markdown",
   "metadata": {},
   "source": [
    "## Sample sizes of X and Y"
   ]
  },
  {
   "cell_type": "code",
   "execution_count": 38,
   "metadata": {},
   "outputs": [],
   "source": [
    "#sampleShape = [10,50,100,150,200,250,300]\n",
    "sampleShape = [10,50]"
   ]
  },
  {
   "cell_type": "code",
   "execution_count": 39,
   "metadata": {},
   "outputs": [],
   "source": [
    "mean =0.2"
   ]
  },
  {
   "cell_type": "code",
   "execution_count": 40,
   "metadata": {},
   "outputs": [],
   "source": [
    "A_data,B_data = getAllSynthticData(sampleShape, mean)"
   ]
  },
  {
   "cell_type": "markdown",
   "metadata": {},
   "source": [
    "# Experiment 1: with $X \\sim N(5.0,1)$ and $Y\\sim N(5.2,1)$"
   ]
  },
  {
   "cell_type": "code",
   "execution_count": 24,
   "metadata": {},
   "outputs": [
    {
     "name": "stdout",
     "output_type": "stream",
     "text": [
      "This data requires 0.045144 MiB on the GPU.\n",
      "This data requires 0.052008 MiB on the GPU.\n",
      "This data requires 0.053239999999999996 MiB on the GPU.\n",
      "This data requires 0.044615999999999996 MiB on the GPU.\n",
      "This data requires 0.047608 MiB on the GPU.\n",
      "This data requires 0.054824 MiB on the GPU.\n",
      "This data requires 0.038279999999999995 MiB on the GPU.\n",
      "This data requires 0.049367999999999995 MiB on the GPU.\n",
      "This data requires 0.052184 MiB on the GPU.\n",
      "This data requires 0.046904 MiB on the GPU.\n",
      "This data requires 0.049192 MiB on the GPU.\n",
      "This data requires 0.057464 MiB on the GPU.\n",
      "This data requires 0.051831999999999996 MiB on the GPU.\n",
      "This data requires 0.052711999999999995 MiB on the GPU.\n",
      "This data requires 0.06274400000000001 MiB on the GPU.\n",
      "This data requires 0.048664 MiB on the GPU.\n",
      "This data requires 0.046551999999999996 MiB on the GPU.\n",
      "This data requires 0.040743999999999995 MiB on the GPU.\n",
      "This data requires 0.041976 MiB on the GPU.\n",
      "This data requires 0.04972 MiB on the GPU.\n",
      "This data requires 0.04444 MiB on the GPU.\n",
      "This data requires 0.054472 MiB on the GPU.\n",
      "This data requires 0.043559999999999995 MiB on the GPU.\n",
      "This data requires 0.042151999999999995 MiB on the GPU.\n",
      "This data requires 0.040392 MiB on the GPU.\n",
      "This data requires 0.050072 MiB on the GPU.\n",
      "This data requires 0.052711999999999995 MiB on the GPU.\n",
      "This data requires 0.056408 MiB on the GPU.\n",
      "This data requires 0.054824 MiB on the GPU.\n",
      "This data requires 0.059224 MiB on the GPU.\n",
      "This data requires 0.045144 MiB on the GPU.\n",
      "This data requires 0.036343999999999994 MiB on the GPU.\n",
      "This data requires 0.050248 MiB on the GPU.\n",
      "This data requires 0.050952 MiB on the GPU.\n",
      "This data requires 0.043736 MiB on the GPU.\n",
      "This data requires 0.034584 MiB on the GPU.\n",
      "This data requires 0.057991999999999995 MiB on the GPU.\n",
      "This data requires 0.049895999999999996 MiB on the GPU.\n",
      "This data requires 0.042679999999999996 MiB on the GPU.\n",
      "This data requires 0.050424 MiB on the GPU.\n",
      "This data requires 0.051128 MiB on the GPU.\n",
      "This data requires 0.049192 MiB on the GPU.\n",
      "This data requires 0.037576 MiB on the GPU.\n",
      "This data requires 0.054472 MiB on the GPU.\n",
      "This data requires 0.053944 MiB on the GPU.\n",
      "This data requires 0.054647999999999995 MiB on the GPU.\n",
      "This data requires 0.0418 MiB on the GPU.\n",
      "This data requires 0.046728 MiB on the GPU.\n",
      "This data requires 0.04708 MiB on the GPU.\n",
      "This data requires 0.053416 MiB on the GPU.\n",
      "This data requires 1.014696 MiB on the GPU.\n",
      "This data requires 1.081608 MiB on the GPU.\n",
      "This data requires 1.0742639999999999 MiB on the GPU.\n",
      "This data requires 1.00572 MiB on the GPU.\n",
      "This data requires 1.023672 MiB on the GPU.\n",
      "This data requires 1.101192 MiB on the GPU.\n",
      "This data requires 0.906168 MiB on the GPU.\n",
      "This data requires 1.0914 MiB on the GPU.\n",
      "This data requires 1.084056 MiB on the GPU.\n",
      "This data requires 1.153416 MiB on the GPU.\n",
      "This data requires 0.9167759999999999 MiB on the GPU.\n",
      "This data requires 0.8776079999999999 MiB on the GPU.\n",
      "This data requires 1.09548 MiB on the GPU.\n",
      "This data requires 1.059576 MiB on the GPU.\n",
      "This data requires 0.858024 MiB on the GPU.\n",
      "This data requires 1.073448 MiB on the GPU.\n",
      "This data requires 0.992664 MiB on the GPU.\n",
      "This data requires 1.049784 MiB on the GPU.\n",
      "This data requires 1.077528 MiB on the GPU.\n",
      "This data requires 1.018776 MiB on the GPU.\n",
      "This data requires 1.0016399999999999 MiB on the GPU.\n",
      "This data requires 0.955128 MiB on the GPU.\n",
      "This data requires 1.028568 MiB on the GPU.\n",
      "This data requires 1.119144 MiB on the GPU.\n",
      "This data requires 0.973896 MiB on the GPU.\n",
      "This data requires 1.0693679999999999 MiB on the GPU.\n",
      "This data requires 0.906984 MiB on the GPU.\n",
      "This data requires 0.9934799999999999 MiB on the GPU.\n",
      "This data requires 1.080792 MiB on the GPU.\n",
      "This data requires 1.10364 MiB on the GPU.\n",
      "This data requires 1.165656 MiB on the GPU.\n",
      "This data requires 1.0922159999999999 MiB on the GPU.\n",
      "This data requires 0.845784 MiB on the GPU.\n",
      "This data requires 1.072632 MiB on the GPU.\n",
      "This data requires 1.060392 MiB on the GPU.\n",
      "This data requires 1.139544 MiB on the GPU.\n",
      "This data requires 1.171368 MiB on the GPU.\n",
      "This data requires 1.048968 MiB on the GPU.\n",
      "This data requires 1.093032 MiB on the GPU.\n",
      "This data requires 1.013064 MiB on the GPU.\n",
      "This data requires 1.1044559999999999 MiB on the GPU.\n",
      "This data requires 1.004904 MiB on the GPU.\n",
      "This data requires 1.019592 MiB on the GPU.\n",
      "This data requires 1.047336 MiB on the GPU.\n",
      "This data requires 0.8727119999999999 MiB on the GPU.\n",
      "This data requires 1.146072 MiB on the GPU.\n",
      "This data requires 1.067736 MiB on the GPU.\n",
      "This data requires 0.754392 MiB on the GPU.\n",
      "This data requires 1.236648 MiB on the GPU.\n",
      "This data requires 1.1297519999999999 MiB on the GPU.\n"
     ]
    }
   ],
   "source": [
    "X_list5_2,y_list5_2= getAllSynthticData(sampleShape, mean)\n",
    "pt_list5_2, pe_list5_2, parallel_TIME = shiftMethod(np.asarray(X_list5_2), np.asarray(y_list5_2), 40)"
   ]
  },
  {
   "cell_type": "code",
   "execution_count": 46,
   "metadata": {},
   "outputs": [],
   "source": [
    "\n",
    "p_val_list5_2, TIME_MC5_2 = runFastPerm(np.asarray(X_list5_2), np.asarray(y_list5_2))"
   ]
  },
  {
   "cell_type": "code",
   "execution_count": 47,
   "metadata": {},
   "outputs": [],
   "source": [
    "singleT_pt_list5_2, singleT_pe_list5_2, singleThreadTime = shiftMethod(np.asarray(X_list5_2), np.asarray(y_list5_2), 40, False)"
   ]
  },
  {
   "cell_type": "code",
   "execution_count": 48,
   "metadata": {},
   "outputs": [
    {
     "name": "stdout",
     "output_type": "stream",
     "text": [
      "True\n",
      "True\n"
     ]
    }
   ],
   "source": [
    "for st_l, para_l in zip(singleT_pt_list5_2,pt_list5_2):\n",
    "    st_a = np.array(st_l)\n",
    "    para_a = np.array(para_l)\n",
    "    print(np.allclose(st_a, para_a))"
   ]
  },
  {
   "cell_type": "code",
   "execution_count": 49,
   "metadata": {},
   "outputs": [
    {
     "data": {
      "image/png": "[encoded data removed]",
      "text/plain": [
       "<Figure size 432x288 with 1 Axes>"
      ]
     },
     "metadata": {},
     "output_type": "display_data"
    }
   ],
   "source": [
    "timePlotSNSFastperm(np.log10(parallel_TIME), np.log10(TIME_MC5_2), \n",
    "            sampleShape, path=getPATH(path, str(mean),\"SNSruntimeLogSingleThread\"),log=True, \n",
    "            TIMEsingleThred=np.log10(singleThreadTime))"
   ]
  },
  {
   "cell_type": "code",
   "execution_count": 50,
   "metadata": {},
   "outputs": [
    {
     "data": {
      "image/png": "[encoded data removed]",
      "text/plain": [
       "<Figure size 432x288 with 1 Axes>"
      ]
     },
     "metadata": {},
     "output_type": "display_data"
    }
   ],
   "source": [
    "timePlotSNSFastperm(parallel_TIME, TIME_MC5_2, sampleShape, \n",
    "            path=getPATH(path, str(mean),\"SNSruntimeSingleThread\"),log=False, \n",
    "            TIMEsingleThred=singleThreadTime)\n",
    "\n",
    "\n"
   ]
  },
  {
   "cell_type": "code",
   "execution_count": null,
   "metadata": {},
   "outputs": [],
   "source": []
  },
  {
   "cell_type": "markdown",
   "metadata": {},
   "source": [
    "# Runtime comparison"
   ]
  },
  {
   "cell_type": "code",
   "execution_count": null,
   "metadata": {},
   "outputs": [],
   "source": [
    "TIMEParallel5_2 = np.asarray([np.array(T) for T in TIME5_2])\n",
    "TIME_MC5_2 = np.asarray([np.array(Tmc) for Tmc in time_listMc5_2])"
   ]
  },
  {
   "cell_type": "code",
   "execution_count": null,
   "metadata": {},
   "outputs": [],
   "source": [
    "timePlotSNS(TIMEParallel5_2, TIME_MC5_2, sampleShape, path=getPATH(path, str(mean),\"SNSruntime\"))"
   ]
  },
  {
   "cell_type": "code",
   "execution_count": null,
   "metadata": {},
   "outputs": [],
   "source": [
    "timePlotSNS(np.log10(TIMEParallel5_2), np.log10(TIME_MC5_2), sampleShape, \n",
    "                    path=getPATH(path, str(mean),\"SNSruntimeLog\"), log=True)"
   ]
  },
  {
   "cell_type": "markdown",
   "metadata": {},
   "source": [
    "# Experiment 2: with $X \\sim N(5.0,1)$ and $Y\\sim N(5.4,1)$"
   ]
  },
  {
   "cell_type": "code",
   "execution_count": null,
   "metadata": {},
   "outputs": [],
   "source": [
    "mean = 0.4"
   ]
  },
  {
   "cell_type": "code",
   "execution_count": null,
   "metadata": {},
   "outputs": [],
   "source": [
    "X_list5_4, y_list5_4 = getAllSynthticData(sampleShape, mean)\n",
    "pt_list5_4, pe_list5_4, TIME5_4 = shiftMethod(np.asarray(X_list5_4), np.asarray(y_list5_4), 40)\n",
    "\n"
   ]
  },
  {
   "cell_type": "code",
   "execution_count": null,
   "metadata": {},
   "outputs": [],
   "source": [
    "p_val_list5_4, time_listMc5_4 = runFastPerm(np.asarray(X_list5_4), np.asarray(y_list5_4))"
   ]
  },
  {
   "cell_type": "markdown",
   "metadata": {},
   "source": [
    "# Runtime comparison"
   ]
  },
  {
   "cell_type": "code",
   "execution_count": null,
   "metadata": {},
   "outputs": [],
   "source": [
    "TIMEParallel5_4 = np.asarray([np.array(T) for T in TIME5_4])\n",
    "TIME_MC5_4 = np.asarray([np.array(Tmc) for Tmc in time_listMc5_4])\n"
   ]
  },
  {
   "cell_type": "code",
   "execution_count": null,
   "metadata": {},
   "outputs": [],
   "source": [
    "timePlotSNS(TIMEParallel5_4, TIME_MC5_4, sampleShape, path=getPATH(path, str(mean),\"SNSruntime\"))"
   ]
  },
  {
   "cell_type": "code",
   "execution_count": null,
   "metadata": {},
   "outputs": [],
   "source": [
    "timePlotSNS(np.log10(TIMEParallel5_4), np.log(TIME_MC5_4), sampleShape, path=getPATH(path, str(mean),\"SNSruntimeLog\"), log=True)"
   ]
  },
  {
   "cell_type": "markdown",
   "metadata": {},
   "source": [
    "# Experiment 3: with $X \\sim N(5.0,1)$ and $Y\\sim N(5.6,1)$"
   ]
  },
  {
   "cell_type": "code",
   "execution_count": null,
   "metadata": {},
   "outputs": [],
   "source": [
    "mean=0.6"
   ]
  },
  {
   "cell_type": "code",
   "execution_count": null,
   "metadata": {},
   "outputs": [],
   "source": [
    "X_list5_6, y_list5_6 = getAllSynthticData(sampleShape, mean)\n",
    "p_val_list5_6, time_listMc5_6 = runFastPerm(np.asarray(X_list5_6), np.asarray(y_list5_6))\n",
    "pt_list5_6, pe_list5_6, TIME5_6 = shiftMethod(np.asarray(X_list5_6), np.asarray(y_list5_6), 40)\n",
    "PE_err5_6, PAE_err5_6 = compare(p_val_list5_6, pe_list5_6, pt_list5_6)"
   ]
  },
  {
   "cell_type": "code",
   "execution_count": null,
   "metadata": {},
   "outputs": [],
   "source": [
    "pt_list5_6midP, pe_list5_6midP, TIME5_6midP = shiftMethod(np.asarray(X_list5_6), np.asarray(y_list5_6), 40, midP=True)\n",
    "PE_err5_6midP, PAE_err5_6midP = compare(p_val_list5_6, pe_list5_6midP, pt_list5_6midP)"
   ]
  },
  {
   "cell_type": "markdown",
   "metadata": {},
   "source": [
    "# Runtime comparison"
   ]
  },
  {
   "cell_type": "code",
   "execution_count": null,
   "metadata": {},
   "outputs": [],
   "source": [
    "TIMEParallel5_6 = np.asarray([np.array(T) for T in TIME5_6])\n",
    "TIME_MC5_6 = np.asarray([np.array(Tmc) for Tmc in time_listMc5_6])\n"
   ]
  },
  {
   "cell_type": "code",
   "execution_count": null,
   "metadata": {},
   "outputs": [],
   "source": [
    "timePlotSNS(TIMEParallel5_6, TIME_MC5_6, sampleShape, path=getPATH(path, str(mean),\"SNSruntime\"))"
   ]
  },
  {
   "cell_type": "code",
   "execution_count": null,
   "metadata": {},
   "outputs": [],
   "source": [
    "timePlotSNS(np.log10(TIMEParallel5_6), np.log10(TIME_MC5_6), sampleShape, path=getPATH(path, str(mean),\"SNSruntimeLog\"), log=True)"
   ]
  },
  {
   "cell_type": "markdown",
   "metadata": {},
   "source": [
    "# Experiment 4: with $X \\sim N(5.0,1)$ and $Y\\sim N(5.8,1)$"
   ]
  },
  {
   "cell_type": "code",
   "execution_count": null,
   "metadata": {},
   "outputs": [],
   "source": [
    "mean=0.8"
   ]
  },
  {
   "cell_type": "code",
   "execution_count": null,
   "metadata": {},
   "outputs": [],
   "source": [
    "X_list5_8, y_list5_8 = getAllSynthticData(sampleShape, mean)\n",
    "p_val_list5_8, time_listMc5_8 = runFastPerm(np.asarray(X_list5_8), np.asarray(y_list5_8))\n",
    "pt_list5_8, pe_list5_8, TIME5_8 = shiftMethod(np.asarray(X_list5_8), np.asarray(y_list5_8), 40)\n",
    "PE_err5_8, PAE_err5_8 = compare(p_val_list5_8, pe_list5_8, pt_list5_8)"
   ]
  },
  {
   "cell_type": "code",
   "execution_count": null,
   "metadata": {},
   "outputs": [],
   "source": [
    "pt_list5_8midP, pe_list5_8midP, TIME5_8 = shiftMethod(np.asarray(X_list5_8), np.asarray(y_list5_8), 40, midP=True)\n",
    "PE_err5_8midP, PAE_err5_8midP = compare(p_val_list5_8, pe_list5_8midP, pt_list5_8midP)"
   ]
  },
  {
   "cell_type": "markdown",
   "metadata": {},
   "source": [
    "# Runtime comparison"
   ]
  },
  {
   "cell_type": "code",
   "execution_count": null,
   "metadata": {},
   "outputs": [],
   "source": [
    "TIMEParallel5_8 = np.asarray([np.array(T) for T in TIME5_8])\n",
    "TIME_MC5_8 = np.asarray([np.array(Tmc) for Tmc in time_listMc5_8])"
   ]
  },
  {
   "cell_type": "code",
   "execution_count": null,
   "metadata": {},
   "outputs": [],
   "source": [
    "timePlotSNS(TIMEParallel5_8, TIME_MC5_8, sampleShape, path=getPATH(path, str(mean),\"SNSruntime\"))"
   ]
  },
  {
   "cell_type": "code",
   "execution_count": null,
   "metadata": {},
   "outputs": [],
   "source": [
    "timePlotSNS(np.log10(TIMEParallel5_8), np.log10(TIME_MC5_8), sampleShape, path=getPATH(path, str(mean),\"SNSruntimeLog\"), log=True)"
   ]
  },
  {
   "cell_type": "markdown",
   "metadata": {},
   "source": [
    "# Experiment 5: with $X \\sim N(5.0,1)$ and $Y\\sim N(6.0,1)$"
   ]
  },
  {
   "cell_type": "code",
   "execution_count": null,
   "metadata": {},
   "outputs": [],
   "source": [
    "mean=1.0"
   ]
  },
  {
   "cell_type": "code",
   "execution_count": null,
   "metadata": {},
   "outputs": [],
   "source": [
    "X_list6_0, y_list6_0 = getAllSynthticData(sampleShape, int(mean))\n",
    "p_val_list6_0, time_listMc6_0 = runFastPerm(np.asarray(X_list6_0), np.asarray(y_list6_0))\n",
    "pt_list6_0, pe_list6_0, TIME6_0 = shiftMethod(np.asarray(X_list6_0), np.asarray(y_list6_0), 40)\n",
    "PE_err6_0, PAE_err6_0 = compare(p_val_list6_0, pe_list6_0, pt_list6_0)"
   ]
  },
  {
   "cell_type": "code",
   "execution_count": null,
   "metadata": {},
   "outputs": [],
   "source": [
    "pt_list6_0midP, pe_list6_0midP, TIME6_0midP = shiftMethod(np.asarray(X_list6_0), np.asarray(y_list6_0), 40, midP=True)\n",
    "PE_err6_0midP, PAE_err6_0midP = compare(p_val_list6_0, pe_list6_0midP, pt_list6_0midP)"
   ]
  },
  {
   "cell_type": "markdown",
   "metadata": {},
   "source": [
    "# Runtime comparison"
   ]
  },
  {
   "cell_type": "code",
   "execution_count": null,
   "metadata": {},
   "outputs": [],
   "source": [
    "TIMEParallel6_0 = np.asarray([np.array(T) for T in TIME6_0])\n",
    "TIME_MC6_0 = np.asarray([np.array(Tmc) for Tmc in time_listMc6_0])"
   ]
  },
  {
   "cell_type": "code",
   "execution_count": null,
   "metadata": {},
   "outputs": [],
   "source": [
    "timePlotSNS(TIMEParallel6_0, TIME_MC6_0, sampleShape, path=getPATH(path, str(mean),\"SNSruntime\"))"
   ]
  },
  {
   "cell_type": "code",
   "execution_count": null,
   "metadata": {},
   "outputs": [],
   "source": [
    "timePlotSNS(np.log10(TIMEParallel6_0), np.log10(TIME_MC6_0), sampleShape, \n",
    "            path=getPATH(path, str(mean),\"SNSruntimeLog\"),log=True)"
   ]
  },
  {
   "cell_type": "markdown",
   "metadata": {},
   "source": [
    "# Timeseries comparison with shiftMethod single thread"
   ]
  },
  {
   "cell_type": "code",
   "execution_count": null,
   "metadata": {},
   "outputs": [],
   "source": [
    "singleT_pt_list5_2, singleT_pe_list5_2, singleT_TIME5_2 = shiftMethod(np.asarray(X_list5_2), np.asarray(y_list5_2), 40, False)"
   ]
  },
  {
   "cell_type": "markdown",
   "metadata": {},
   "source": [
    "### Ensure that the single thread and parallelized version yield the same p-values"
   ]
  },
  {
   "cell_type": "code",
   "execution_count": null,
   "metadata": {},
   "outputs": [],
   "source": [
    "for st_l, para_l in zip(singleT_pt_list5_2,pt_list5_2):\n",
    "    st_a = np.array(st_l)\n",
    "    para_a = np.array(para_l)\n",
    "    print(np.allclose(st_a, para_a))"
   ]
  },
  {
   "cell_type": "markdown",
   "metadata": {},
   "source": [
    "### Recall that the runtime for the shift method will be invaraint between all these experiemnts since all hyperparameter is constant (only different types of data)."
   ]
  },
  {
   "cell_type": "code",
   "execution_count": null,
   "metadata": {},
   "outputs": [],
   "source": [
    "#parallel_TIME, singleThreadTime = TIMEParallel6_0, singleT_TIME6_0\n",
    "parallel_TIME, singleThreadTime = TIMEParallel5_2, singleT_TIME5_2"
   ]
  },
  {
   "cell_type": "markdown",
   "metadata": {},
   "source": [
    "# Runtime for experiment 1: with $X \\sim N(5.0,1)$ and $Y\\sim N(5.2,1)$"
   ]
  },
  {
   "cell_type": "code",
   "execution_count": null,
   "metadata": {},
   "outputs": [],
   "source": [
    "mean = 0.2"
   ]
  },
  {
   "cell_type": "code",
   "execution_count": null,
   "metadata": {},
   "outputs": [],
   "source": [
    "timePlotSNS(parallel_TIME, TIME_MC5_2, sampleShape, \n",
    "            path=getPATH(path, str(mean),\"SNSruntimeSingleThread\"),log=False, \n",
    "            TIMEsingleThred=singleThreadTime)\n",
    "\n",
    "\n"
   ]
  },
  {
   "cell_type": "code",
   "execution_count": null,
   "metadata": {},
   "outputs": [],
   "source": [
    "timePlotSNS(np.log10(parallel_TIME), np.log10(TIME_MC5_2), \n",
    "            sampleShape, path=getPATH(path, str(mean),\"SNSruntimeLogSingleThread\"),log=True, \n",
    "            TIMEsingleThred=np.log10(singleThreadTime))"
   ]
  },
  {
   "cell_type": "markdown",
   "metadata": {},
   "source": [
    "# Runtime for experiment 2: with $X \\sim N(5.0,1)$ and $Y\\sim N(5.4,1)$"
   ]
  },
  {
   "cell_type": "code",
   "execution_count": null,
   "metadata": {},
   "outputs": [],
   "source": [
    "mean = 0.4"
   ]
  },
  {
   "cell_type": "code",
   "execution_count": null,
   "metadata": {},
   "outputs": [],
   "source": [
    "timePlotSNS(parallel_TIME, TIME_MC5_4, sampleShape, \n",
    "         path=getPATH(path, str(mean),\"SNSruntimeSingleThread\"),\n",
    "         log=False, TIMEsingleThred=singleThreadTime)\n"
   ]
  },
  {
   "cell_type": "code",
   "execution_count": null,
   "metadata": {},
   "outputs": [],
   "source": [
    "timePlotSNS(np.log10(parallel_TIME), np.log10(TIME_MC5_4), \n",
    "            sampleShape, path=getPATH(path, str(mean),\"SNSruntimeLogSingleThread\"),\n",
    "            log=True, TIMEsingleThred=np.log10(singleThreadTime))\n"
   ]
  },
  {
   "cell_type": "code",
   "execution_count": null,
   "metadata": {},
   "outputs": [],
   "source": [
    "TIME_MC5_2[-1]"
   ]
  },
  {
   "cell_type": "code",
   "execution_count": null,
   "metadata": {},
   "outputs": [],
   "source": [
    "parallel_TIME[-1]"
   ]
  },
  {
   "cell_type": "code",
   "execution_count": null,
   "metadata": {},
   "outputs": [],
   "source": [
    "sampleShape[2]"
   ]
  },
  {
   "cell_type": "code",
   "execution_count": null,
   "metadata": {},
   "outputs": [],
   "source": [
    "x = np.mean(parallel_TIME,1)[2]\n",
    "y = np.mean(TIME_MC5_2,1)[2]\n",
    "y/x"
   ]
  },
  {
   "cell_type": "code",
   "execution_count": null,
   "metadata": {},
   "outputs": [],
   "source": [
    "x = np.mean(parallel_TIME,1)[-1]\n",
    "y = np.mean(TIME_MC5_2,1)[-1]\n",
    "y/x"
   ]
  },
  {
   "cell_type": "markdown",
   "metadata": {},
   "source": [
    "# Runtime for experiment 3: with $X \\sim N(5.0,1)$ and $Y\\sim N(5.6,1)$"
   ]
  },
  {
   "cell_type": "code",
   "execution_count": null,
   "metadata": {},
   "outputs": [],
   "source": [
    "mean = 0.6"
   ]
  },
  {
   "cell_type": "code",
   "execution_count": null,
   "metadata": {},
   "outputs": [],
   "source": [
    "timePlotSNS(parallel_TIME, TIME_MC5_6, sampleShape, \n",
    "         path=getPATH(path, str(mean),\"SNSruntimeSingleThread\"),log=False, \n",
    "         TIMEsingleThred=singleThreadTime)"
   ]
  },
  {
   "cell_type": "code",
   "execution_count": null,
   "metadata": {},
   "outputs": [],
   "source": [
    "timePlotSNS(np.log10(parallel_TIME), np.log10(TIME_MC5_6), \n",
    "         sampleShape, path=getPATH(path, str(mean),\"SNSruntimeLogSingleThread\"),log=True, \n",
    "         TIMEsingleThred=np.log10(singleThreadTime))\n"
   ]
  },
  {
   "cell_type": "markdown",
   "metadata": {},
   "source": [
    "# Runtime for experiment 4: with $X \\sim N(5.0,1)$ and $Y\\sim N(5.8,1)$"
   ]
  },
  {
   "cell_type": "code",
   "execution_count": null,
   "metadata": {},
   "outputs": [],
   "source": [
    "mean = 0.8"
   ]
  },
  {
   "cell_type": "code",
   "execution_count": null,
   "metadata": {},
   "outputs": [],
   "source": [
    "timePlotSNS(parallel_TIME, TIME_MC5_8, \n",
    "         sampleShape, path=getPATH(path, str(mean),\"SNSruntimeSingleThread\"),\n",
    "         log=False, TIMEsingleThred=singleThreadTime)\n"
   ]
  },
  {
   "cell_type": "code",
   "execution_count": null,
   "metadata": {},
   "outputs": [],
   "source": [
    "timePlotSNS(np.log10(parallel_TIME), np.log10(TIME_MC5_8), \n",
    "         sampleShape, path=getPATH(path, str(mean),\"SNSruntimeLogSingleThread\"),\n",
    "         log=True, TIMEsingleThred=np.log10(singleThreadTime))\n"
   ]
  },
  {
   "cell_type": "markdown",
   "metadata": {},
   "source": [
    "# Runtime for experiment 5: with $X \\sim N(5.0,1)$ and $Y\\sim N(6.0,1)$"
   ]
  },
  {
   "cell_type": "code",
   "execution_count": null,
   "metadata": {},
   "outputs": [],
   "source": [
    "mean = 1.0"
   ]
  },
  {
   "cell_type": "code",
   "execution_count": null,
   "metadata": {},
   "outputs": [],
   "source": [
    "timePlotSNS(parallel_TIME, TIME_MC6_0, \n",
    "         sampleShape, path=getPATH(path, str(mean),\"SNSruntimeSingleThread\"),\n",
    "         log=False, TIMEsingleThred=singleThreadTime)"
   ]
  },
  {
   "cell_type": "code",
   "execution_count": null,
   "metadata": {},
   "outputs": [],
   "source": [
    "timePlotSNS(np.log10(parallel_TIME), np.log10(TIME_MC6_0), sampleShape, \n",
    "         path=getPATH(path, str(mean),\"SNSruntimeLogSingleThread\"),\n",
    "         log=True, TIMEsingleThred=np.log10(singleThreadTime))"
   ]
  },
  {
   "cell_type": "code",
   "execution_count": null,
   "metadata": {},
   "outputs": [],
   "source": [
    "np.mean(parallel_TIME,axis=1)[-1]"
   ]
  },
  {
   "cell_type": "code",
   "execution_count": null,
   "metadata": {},
   "outputs": [],
   "source": [
    "np.mean(TIME_MC6_0, axis=1)[-1]"
   ]
  },
  {
   "cell_type": "code",
   "execution_count": null,
   "metadata": {},
   "outputs": [],
   "source": [
    "np.mean(TIME_MC6_0, axis=1)[-1] / np.mean(parallel_TIME,axis=1)[-1]"
   ]
  },
  {
   "cell_type": "code",
   "execution_count": null,
   "metadata": {},
   "outputs": [],
   "source": [
    "1.269431604 * 20_000 / 3600"
   ]
  },
  {
   "cell_type": "code",
   "execution_count": null,
   "metadata": {},
   "outputs": [],
   "source": [
    "0.2782923173904419 * 20_000 / 3600"
   ]
  },
  {
   "cell_type": "code",
   "execution_count": null,
   "metadata": {},
   "outputs": [],
   "source": []
  }
 ],
 "metadata": {
  "kernelspec": {
   "display_name": "Python (my-r-env)",
   "language": "python",
   "name": "my-r-env"
  },
  "language_info": {
   "codemirror_mode": {
    "name": "ipython",
    "version": 3
   },
   "file_extension": ".py",
   "mimetype": "text/x-python",
   "name": "python",
   "nbconvert_exporter": "python",
   "pygments_lexer": "ipython3",
   "version": "3.7.6"
  }
 },
 "nbformat": 4,
 "nbformat_minor": 2
}
