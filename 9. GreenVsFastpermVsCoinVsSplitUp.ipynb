{
 "cells": [
  {
   "cell_type": "code",
   "execution_count": 85,
   "metadata": {},
   "outputs": [],
   "source": [
    "from utils2 import *\n",
    "from significance_of_mean_cuda import significance_of_mean_cuda"
   ]
  },
  {
   "cell_type": "code",
   "execution_count": 86,
   "metadata": {
    "scrolled": true
   },
   "outputs": [
    {
     "name": "stdout",
     "output_type": "stream",
     "text": [
      "The cython extension is already loaded. To reload it, use:\n",
      "  %reload_ext cython\n",
      "The rpy2.ipython extension is already loaded. To reload it, use:\n",
      "  %reload_ext rpy2.ipython\n"
     ]
    }
   ],
   "source": [
    "%load_ext cython\n",
    "%load_ext rpy2.ipython\n"
   ]
  },
  {
   "cell_type": "code",
   "execution_count": 223,
   "metadata": {},
   "outputs": [
    {
     "name": "stdout",
     "output_type": "stream",
     "text": [
      "[1] 0.1675708\n",
      "CPU times: user 35.7 s, sys: 10.8 ms, total: 35.7 s\n",
      "Wall time: 35.7 s\n"
     ]
    }
   ],
   "source": [
    "%%time\n",
    "%%R\n",
    "x1 <- c(169,  16, 494,  73,  23, 300, 467,  76, 361, 264, 163, 434,  96,\n",
    "        76, 214,  48, 320, 288, 219, 405, 125, 117, 294, 168, 196, 103,\n",
    "       261, 427, 364,  52, 360,  39, 491,  34,  59, 381, 256, 324, 326,\n",
    "        89, 197, 303, 455, 352, 212, 122,  32, 451,  81,  53, 239, 461,\n",
    "        51, 133, 219, 320, 208,  50, 296, 431, 137, 435, 494, 272, 234,\n",
    "       494, 393, 248, 402, 407, 249, 374,  74, 186, 362, 367, 253, 475,\n",
    "       447,  84,  97,  44, 289,  27, 499, 393,  77, 255, 139, 297,  35,\n",
    "       317, 138, 247, 486, 327,  87, 455,  20,  57, 467, 386, 325, 169,\n",
    "        82,  62, 455, 126, 486,  98, 403, 469, 475, 344, 407, 300, 309,\n",
    "       230, 459, 457, 219, 484, 476, 225,  17, 312, 124, 150,  44, 478,\n",
    "       209, 425, 327, 203, 422,  60, 274, 144, 159, 462,  27, 296, 492,\n",
    "       320, 240, 149, 407, 188, 178, 357, 251, 256,  28,   1,  63, 425,\n",
    "       443, 246,  93, 293,  64,  76, 111,  51, 202, 136, 434, 250, 339,\n",
    "       386, 208, 220, 239, 225, 488,  50, 297, 365,  47, 444, 330, 492,\n",
    "        79, 479, 111,  96, 289, 376, 273, 406, 428,  59, 483,  22, 235,\n",
    "       434, 192, 212, 349,  52,  98,   9, 108,  87,  89, 368, 140, 258,\n",
    "       428, 198, 316,  64, 136, 337, 362, 349, 208, 123, 146, 422, 314,\n",
    "       416, 291, 465, 299,  49,  37,  23,  20,  96, 402,  46, 329, 294,\n",
    "        10, 150, 421, 243, 424, 489, 488, 340, 347,  37, 297, 359,  20,\n",
    "       185, 393, 381, 207, 374,  50,  52, 116, 412, 196,  80, 387, 279,\n",
    "       262, 134, 211, 358, 350, 141, 221, 391, 114,  45,   6, 401, 198,\n",
    "       309, 377, 319, 411, 340, 360, 102, 154, 126,  37, 144, 214, 275,\n",
    "       279,  94, 271,  65, 454,  88, 290, 359,  72,  97, 498,  83, 478,\n",
    "        80, 494, 413, 405, 347, 209, 263, 423, 409, 254, 391, 428, 186,\n",
    "       406, 242, 342, 106, 165, 234,  64, 105, 212,   5, 311, 253, 419,\n",
    "       123, 461, 256, 464, 112,  40, 191,  86, 258, 436, 302, 157, 280,\n",
    "       165, 338, 211,  93,  92, 244, 363, 423,  75, 283, 447, 238,  34,\n",
    "       387, 444,  58, 423, 225, 128, 470, 461, 383,  20, 182,  83, 379,\n",
    "         9,  12, 426, 443, 408, 284, 187, 116, 317, 145, 261, 304, 333,\n",
    "       375, 190,  99, 280, 106, 404, 354, 288,  82, 218, 202, 188, 385,\n",
    "         9, 369, 395, 265, 230, 100, 246, 361, 175, 292, 463, 208, 311,\n",
    "       306, 365,   7, 482,  99,  96,  50, 414, 163, 439, 119, 188, 354,\n",
    "       356, 270, 379, 397, 304, 340, 494, 187, 429, 253, 451, 416,  36,\n",
    "       307, 253,  91, 395, 220, 255, 171, 300, 164,  43, 260,  94, 449,\n",
    "       493, 390, 139,  12, 351, 107, 338, 211, 450, 384,  87, 419, 399,\n",
    "       495, 498, 493, 484, 239, 112, 215, 286, 148, 170, 321, 351, 229,\n",
    "       355, 396, 120, 278, 278,  28, 381, 468, 202,  18, 425,  80, 496,\n",
    "       267, 434, 197, 231, 270, 287, 467, 391, 216,  22, 219, 337, 146,\n",
    "       384, 422,  71,  58, 127,  30)\n",
    "y1 <- c(176, 185, 163, 279, 364, 257, 407, 155, 385, 325, 436, 180, 152,\n",
    "       176, 192, 413, 465, 496, 330, 499, 431, 191, 115, 235, 116,  55,\n",
    "       209,  55,  49, 308, 136,  52, 105, 125, 192, 321, 473, 381, 374,\n",
    "       248, 438, 376, 178, 332, 304, 145, 167, 431,  60, 344, 217, 309,\n",
    "        26,   3, 255,  72, 294,  10, 267, 468,  55, 141,  96,   5, 449,\n",
    "       480, 359, 155, 203,  79, 370, 384, 361,  15,  70, 370, 145, 255,\n",
    "       476,   6, 481, 202,   9, 115, 271, 119, 461, 348, 426, 256,  94,\n",
    "        48,  74, 169, 243,  77, 354, 338, 451, 239, 255, 355, 189, 215,\n",
    "       223, 248, 490, 396, 217, 272, 340,  92,  26, 101, 174, 201, 293,\n",
    "       417, 353, 476, 389, 269,  24, 382, 134, 218, 243,  95, 347,  42,\n",
    "       151, 225, 244, 444,  28, 295,  25,  51, 155, 349, 416, 242, 225,\n",
    "       168, 300, 174, 126, 134, 264, 224, 263, 330, 340, 145, 149, 202,\n",
    "       113, 243, 412, 465, 236, 459, 160,  77, 111, 394, 277, 104, 245,\n",
    "       407, 390, 266,  22,  29, 374, 426, 435, 247, 240, 303, 235, 211,\n",
    "       378,  53, 225, 202, 361,  67, 450, 379, 359, 146,  26,  36, 282,\n",
    "        99, 451, 235, 137, 195,  54, 403, 379, 250, 471,  39,   6, 417,\n",
    "       342,  80, 139, 315, 132, 395, 298, 113, 408, 215, 301, 416, 363,\n",
    "       166, 136, 353,  61,  80, 402, 490, 140, 354, 156, 135, 241, 115,\n",
    "       402, 160,   7, 390, 141, 326, 351, 118, 409, 266, 491, 238, 162,\n",
    "       181, 162, 124, 358, 174, 315, 447, 218, 106, 262,  52, 172, 269,\n",
    "       222, 321, 388, 326, 378, 264, 121, 167, 226, 387,  65, 286, 462,\n",
    "       124, 378, 207,  77, 290,  49, 114,  53,  51, 329, 223, 322,  42,\n",
    "       297, 343, 446, 391, 421, 270, 430, 131, 191, 387,   4, 223, 267,\n",
    "       448, 152, 373, 468, 145, 383, 335, 447, 163, 384, 157, 382, 146,\n",
    "       454, 211, 451,  33, 372, 445, 204,   6, 226, 329, 499, 393,  50,\n",
    "       145, 122,  30,  51, 477, 374, 307, 229, 215,  22, 484,   7,  79,\n",
    "       190, 490,  52, 128, 204,  17, 301, 141, 409,  59, 229, 177, 179,\n",
    "        93, 382,  50, 246,  54, 475, 397, 373,  41, 160, 217, 345, 327,\n",
    "       150, 489, 464,  56, 341, 354, 354, 269, 211, 136, 490, 215, 169,\n",
    "        27,  74, 295, 368,  56, 360, 424, 196, 460, 222, 300, 414,  28,\n",
    "       367, 395, 217,  43, 300,  37, 305, 154, 309, 347, 300, 341, 371,\n",
    "       417, 133, 211, 347, 182,  54, 235, 354, 109,  65, 304, 209, 425,\n",
    "        50, 482, 448,  13, 379,  43,   4,  17,   3,  73,  26, 481, 182,\n",
    "       339, 234,  40, 489, 131,  52, 221, 483, 435,  58, 345, 112, 164,\n",
    "        65, 127, 112,  91, 130, 239, 255, 456,  25, 118, 495, 145, 104,\n",
    "        27, 309, 476, 460,  35, 249, 484,  14, 413, 211, 276, 178, 120,\n",
    "        84, 128, 203, 470, 328,  77, 283, 175, 128, 205, 280, 410, 117,\n",
    "       199,  36,   5, 476, 137,   4, 314, 391, 432, 470, 496, 258, 126,\n",
    "       334, 169, 355, 158, 249, 459)\n",
    "\n",
    "DV <- c(x1, y1)\n",
    "IV <- factor(rep(c(\"A\", \"B\"), c(length(x1), length(y1))))\n",
    "\n",
    "pvalue(oneway_test(DV ~ IV, distribution=exact(c(\"shift\"))))\n",
    "#x = DV ~ IV\n",
    "\n",
    "#terms(x)"
   ]
  },
  {
   "cell_type": "code",
   "execution_count": null,
   "metadata": {},
   "outputs": [],
   "source": [
    "1 - 0.5849288"
   ]
  },
  {
   "cell_type": "code",
   "execution_count": 3,
   "metadata": {},
   "outputs": [
    {
     "name": "stderr",
     "output_type": "stream",
     "text": [
      "R[write to console]: Loading required package: ggplot2\n",
      "\n",
      "R[write to console]: Installing package into ‘/home/ekvall/R/x86_64-pc-linux-gnu-library/4.0’\n",
      "(as ‘lib’ is unspecified)\n",
      "\n",
      "R[write to console]: trying URL 'https://cloud.r-project.org/src/contrib/devtools_2.3.1.tar.gz'\n",
      "\n",
      "R[write to console]: Content type 'application/x-gzip'\n",
      "R[write to console]:  length 373604 bytes (364 KB)\n",
      "\n",
      "R[write to console]: =\n",
      "R[write to console]: =\n",
      "R[write to console]: =\n",
      "R[write to console]: =\n",
      "R[write to console]: =\n",
      "R[write to console]: =\n",
      "R[write to console]: =\n",
      "R[write to console]: =\n",
      "R[write to console]: =\n",
      "R[write to console]: =\n",
      "R[write to console]: =\n",
      "R[write to console]: =\n",
      "R[write to console]: =\n",
      "R[write to console]: =\n",
      "R[write to console]: =\n",
      "R[write to console]: =\n",
      "R[write to console]: =\n",
      "R[write to console]: =\n",
      "R[write to console]: =\n",
      "R[write to console]: =\n",
      "R[write to console]: =\n",
      "R[write to console]: =\n",
      "R[write to console]: =\n",
      "R[write to console]: =\n",
      "R[write to console]: =\n",
      "R[write to console]: =\n",
      "R[write to console]: =\n",
      "R[write to console]: =\n",
      "R[write to console]: =\n",
      "R[write to console]: =\n",
      "R[write to console]: =\n",
      "R[write to console]: =\n",
      "R[write to console]: =\n",
      "R[write to console]: =\n",
      "R[write to console]: =\n",
      "R[write to console]: =\n",
      "R[write to console]: =\n",
      "R[write to console]: =\n",
      "R[write to console]: =\n",
      "R[write to console]: =\n",
      "R[write to console]: =\n",
      "R[write to console]: =\n",
      "R[write to console]: =\n",
      "R[write to console]: =\n",
      "R[write to console]: =\n",
      "R[write to console]: =\n",
      "R[write to console]: =\n",
      "R[write to console]: =\n",
      "R[write to console]: =\n",
      "R[write to console]: =\n",
      "R[write to console]: \n",
      "\n",
      "R[write to console]: downloaded 364 KB\n",
      "\n",
      "\n",
      "R[write to console]: \n",
      "\n",
      "R[write to console]: \n",
      "R[write to console]: The downloaded source packages are in\n",
      "\t‘/tmp/RtmpWH5fvZ/downloaded_packages’\n",
      "R[write to console]: \n",
      "R[write to console]: \n",
      "\n",
      "R[write to console]: Loading required package: usethis\n",
      "\n",
      "R[write to console]: Skipping install of 'fastPerm' from a github remote, the SHA1 (639f37e1) has not changed since last install.\n",
      "  Use `force = TRUE` to force installation\n",
      "\n"
     ]
    }
   ],
   "source": [
    "%%R\n",
    "\n",
    "require(ggplot2)\n",
    "install.packages(\"devtools\")\n",
    "library(\"devtools\")\n",
    "install_github(\"bdsegal/fastPerm\")\n",
    "\n",
    "library(fastPerm)"
   ]
  },
  {
   "cell_type": "code",
   "execution_count": 4,
   "metadata": {},
   "outputs": [
    {
     "name": "stderr",
     "output_type": "stream",
     "text": [
      "R[write to console]: Installing package into ‘/home/ekvall/R/x86_64-pc-linux-gnu-library/4.0’\n",
      "(as ‘lib’ is unspecified)\n",
      "\n",
      "R[write to console]: trying URL 'https://cloud.r-project.org/src/contrib/coin_1.3-1.tar.gz'\n",
      "\n",
      "R[write to console]: Content type 'application/x-gzip'\n",
      "R[write to console]:  length 1263884 bytes (1.2 MB)\n",
      "\n",
      "R[write to console]: =\n",
      "R[write to console]: =\n",
      "R[write to console]: =\n",
      "R[write to console]: =\n",
      "R[write to console]: =\n",
      "R[write to console]: =\n",
      "R[write to console]: =\n",
      "R[write to console]: =\n",
      "R[write to console]: =\n",
      "R[write to console]: =\n",
      "R[write to console]: =\n",
      "R[write to console]: =\n",
      "R[write to console]: =\n",
      "R[write to console]: =\n",
      "R[write to console]: =\n",
      "R[write to console]: =\n",
      "R[write to console]: =\n",
      "R[write to console]: =\n",
      "R[write to console]: =\n",
      "R[write to console]: =\n",
      "R[write to console]: =\n",
      "R[write to console]: =\n",
      "R[write to console]: =\n",
      "R[write to console]: =\n",
      "R[write to console]: =\n",
      "R[write to console]: =\n",
      "R[write to console]: =\n",
      "R[write to console]: =\n",
      "R[write to console]: =\n",
      "R[write to console]: =\n",
      "R[write to console]: =\n",
      "R[write to console]: =\n",
      "R[write to console]: =\n",
      "R[write to console]: =\n",
      "R[write to console]: =\n",
      "R[write to console]: =\n",
      "R[write to console]: =\n",
      "R[write to console]: =\n",
      "R[write to console]: =\n",
      "R[write to console]: =\n",
      "R[write to console]: =\n",
      "R[write to console]: =\n",
      "R[write to console]: =\n",
      "R[write to console]: =\n",
      "R[write to console]: =\n",
      "R[write to console]: =\n",
      "R[write to console]: =\n",
      "R[write to console]: =\n",
      "R[write to console]: =\n",
      "R[write to console]: =\n",
      "R[write to console]: \n",
      "\n",
      "R[write to console]: downloaded 1.2 MB\n",
      "\n",
      "\n",
      "R[write to console]: \n",
      "\n",
      "R[write to console]: \n",
      "R[write to console]: The downloaded source packages are in\n",
      "\t‘/tmp/RtmpWH5fvZ/downloaded_packages’\n",
      "R[write to console]: \n",
      "R[write to console]: \n",
      "\n",
      "R[write to console]: Installing package into ‘/home/ekvall/R/x86_64-pc-linux-gnu-library/4.0’\n",
      "(as ‘lib’ is unspecified)\n",
      "\n",
      "R[write to console]: trying URL 'https://cloud.r-project.org/src/contrib/ggplot2_3.3.2.tar.gz'\n",
      "\n",
      "R[write to console]: Content type 'application/x-gzip'\n",
      "R[write to console]:  length 3054431 bytes (2.9 MB)\n",
      "\n",
      "R[write to console]: =\n",
      "R[write to console]: =\n",
      "R[write to console]: =\n",
      "R[write to console]: =\n",
      "R[write to console]: =\n",
      "R[write to console]: =\n",
      "R[write to console]: =\n",
      "R[write to console]: =\n",
      "R[write to console]: =\n",
      "R[write to console]: =\n",
      "R[write to console]: =\n",
      "R[write to console]: =\n",
      "R[write to console]: =\n",
      "R[write to console]: =\n",
      "R[write to console]: =\n",
      "R[write to console]: =\n",
      "R[write to console]: =\n",
      "R[write to console]: =\n",
      "R[write to console]: =\n",
      "R[write to console]: =\n",
      "R[write to console]: =\n",
      "R[write to console]: =\n",
      "R[write to console]: =\n",
      "R[write to console]: =\n",
      "R[write to console]: =\n",
      "R[write to console]: =\n",
      "R[write to console]: =\n",
      "R[write to console]: =\n",
      "R[write to console]: =\n",
      "R[write to console]: =\n",
      "R[write to console]: =\n",
      "R[write to console]: =\n",
      "R[write to console]: =\n",
      "R[write to console]: =\n",
      "R[write to console]: =\n",
      "R[write to console]: =\n",
      "R[write to console]: =\n",
      "R[write to console]: =\n",
      "R[write to console]: =\n",
      "R[write to console]: =\n",
      "R[write to console]: =\n",
      "R[write to console]: =\n",
      "R[write to console]: =\n",
      "R[write to console]: =\n",
      "R[write to console]: =\n",
      "R[write to console]: =\n",
      "R[write to console]: =\n",
      "R[write to console]: =\n",
      "R[write to console]: =\n",
      "R[write to console]: =\n",
      "R[write to console]: \n",
      "\n",
      "R[write to console]: downloaded 2.9 MB\n",
      "\n",
      "\n",
      "R[write to console]: \n",
      "\n",
      "R[write to console]: \n",
      "R[write to console]: The downloaded source packages are in\n",
      "\t‘/tmp/RtmpWH5fvZ/downloaded_packages’\n",
      "R[write to console]: \n",
      "R[write to console]: \n",
      "\n",
      "R[write to console]: Installing package into ‘/home/ekvall/R/x86_64-pc-linux-gnu-library/4.0’\n",
      "(as ‘lib’ is unspecified)\n",
      "\n",
      "R[write to console]: trying URL 'https://cloud.r-project.org/src/contrib/perm_1.0-0.0.tar.gz'\n",
      "\n",
      "R[write to console]: Content type 'application/x-gzip'\n",
      "R[write to console]:  length 16297 bytes (15 KB)\n",
      "\n",
      "R[write to console]: =\n",
      "R[write to console]: =\n",
      "R[write to console]: =\n",
      "R[write to console]: =\n",
      "R[write to console]: =\n",
      "R[write to console]: =\n",
      "R[write to console]: =\n",
      "R[write to console]: =\n",
      "R[write to console]: =\n",
      "R[write to console]: =\n",
      "R[write to console]: =\n",
      "R[write to console]: =\n",
      "R[write to console]: =\n",
      "R[write to console]: =\n",
      "R[write to console]: =\n",
      "R[write to console]: =\n",
      "R[write to console]: =\n",
      "R[write to console]: =\n",
      "R[write to console]: =\n",
      "R[write to console]: =\n",
      "R[write to console]: =\n",
      "R[write to console]: =\n",
      "R[write to console]: =\n",
      "R[write to console]: =\n",
      "R[write to console]: =\n",
      "R[write to console]: =\n",
      "R[write to console]: =\n",
      "R[write to console]: =\n",
      "R[write to console]: =\n",
      "R[write to console]: =\n",
      "R[write to console]: =\n",
      "R[write to console]: =\n",
      "R[write to console]: =\n",
      "R[write to console]: =\n",
      "R[write to console]: =\n",
      "R[write to console]: =\n",
      "R[write to console]: =\n",
      "R[write to console]: =\n",
      "R[write to console]: =\n",
      "R[write to console]: =\n",
      "R[write to console]: =\n",
      "R[write to console]: =\n",
      "R[write to console]: =\n",
      "R[write to console]: =\n",
      "R[write to console]: =\n",
      "R[write to console]: =\n",
      "R[write to console]: =\n",
      "R[write to console]: =\n",
      "R[write to console]: =\n",
      "R[write to console]: =\n",
      "R[write to console]: \n",
      "\n",
      "R[write to console]: downloaded 15 KB\n",
      "\n",
      "\n",
      "R[write to console]: \n",
      "\n",
      "R[write to console]: \n",
      "R[write to console]: The downloaded source packages are in\n",
      "\t‘/tmp/RtmpWH5fvZ/downloaded_packages’\n",
      "R[write to console]: \n",
      "R[write to console]: \n",
      "\n",
      "R[write to console]: Installing package into ‘/home/ekvall/R/x86_64-pc-linux-gnu-library/4.0’\n",
      "(as ‘lib’ is unspecified)\n",
      "\n",
      "R[write to console]: trying URL 'https://cloud.r-project.org/src/contrib/exactRankTests_0.8-31.tar.gz'\n",
      "\n",
      "R[write to console]: Content type 'application/x-gzip'\n",
      "R[write to console]:  length 56109 bytes (54 KB)\n",
      "\n",
      "R[write to console]: =\n",
      "R[write to console]: =\n",
      "R[write to console]: =\n",
      "R[write to console]: =\n",
      "R[write to console]: =\n",
      "R[write to console]: =\n",
      "R[write to console]: =\n",
      "R[write to console]: =\n",
      "R[write to console]: =\n",
      "R[write to console]: =\n",
      "R[write to console]: =\n",
      "R[write to console]: =\n",
      "R[write to console]: =\n",
      "R[write to console]: =\n",
      "R[write to console]: =\n",
      "R[write to console]: =\n",
      "R[write to console]: =\n",
      "R[write to console]: =\n",
      "R[write to console]: =\n",
      "R[write to console]: =\n",
      "R[write to console]: =\n",
      "R[write to console]: =\n",
      "R[write to console]: =\n",
      "R[write to console]: =\n",
      "R[write to console]: =\n",
      "R[write to console]: =\n",
      "R[write to console]: =\n",
      "R[write to console]: =\n",
      "R[write to console]: =\n",
      "R[write to console]: =\n",
      "R[write to console]: =\n",
      "R[write to console]: =\n",
      "R[write to console]: =\n",
      "R[write to console]: =\n",
      "R[write to console]: =\n",
      "R[write to console]: =\n",
      "R[write to console]: =\n",
      "R[write to console]: =\n",
      "R[write to console]: =\n",
      "R[write to console]: =\n",
      "R[write to console]: =\n",
      "R[write to console]: =\n",
      "R[write to console]: =\n",
      "R[write to console]: =\n",
      "R[write to console]: =\n",
      "R[write to console]: =\n",
      "R[write to console]: =\n",
      "R[write to console]: =\n",
      "R[write to console]: =\n",
      "R[write to console]: =\n",
      "R[write to console]: \n",
      "\n",
      "R[write to console]: downloaded 54 KB\n",
      "\n",
      "\n",
      "R[write to console]: \n",
      "\n",
      "R[write to console]: \n",
      "R[write to console]: The downloaded source packages are in\n",
      "\t‘/tmp/RtmpWH5fvZ/downloaded_packages’\n",
      "R[write to console]: \n",
      "R[write to console]: \n",
      "\n",
      "R[write to console]: Loading required package: survival\n",
      "\n"
     ]
    }
   ],
   "source": [
    "%%R\n",
    "\n",
    "install.packages(\"coin\")\n",
    "\n",
    "install.packages(\"ggplot2\")\n",
    "\n",
    "install.packages(\"perm\")\n",
    "\n",
    "install.packages(\"exactRankTests\")\n",
    "\n",
    "\n",
    "library(ggplot2)\n",
    "library(coin)"
   ]
  },
  {
   "cell_type": "markdown",
   "metadata": {},
   "source": [
    "# Coin Split Up"
   ]
  },
  {
   "cell_type": "code",
   "execution_count": 5,
   "metadata": {},
   "outputs": [],
   "source": [
    "%%R\n",
    "    runSplitUpCoin <- function(x,y,output,n_samples) {\n",
    "       e <- list(mode=\"vector\",length=n_samples)\n",
    "        for (i in 1:n_samples) {\n",
    "            \n",
    "            DV <- c(x[[i]], y[[i]])\n",
    "            IV <- factor(rep(c(\"A\", \"B\"), c(length(x[[i]]), length(y[[i]]))))\n",
    "            library(coin)                    # for oneway_test(), pvalue()\n",
    "            output[[i]] <- pvalue(oneway_test(DV ~ IV, distribution=exact(c(\"split-up\"))))\n",
    "            #output[[i]] <- pvalue(oneway_test(DV ~ IV, distribution=\"split-up\"\"))\n",
    "      \n",
    "            \n",
    "      \n",
    "            \n",
    "            }\n",
    "    \n",
    "\n",
    "    return(output)\n",
    "        \n",
    "    }"
   ]
  },
  {
   "cell_type": "code",
   "execution_count": 6,
   "metadata": {},
   "outputs": [],
   "source": [
    "def coinSplitUp(A,B):\n",
    "    x = pd.DataFrame(A, columns=list(range(A.shape[1]))).T\n",
    "    y = pd.DataFrame(B, columns=list(range(B.shape[1]))).T\n",
    "    n_samples = x.shape[1]\n",
    "    outputDf = pd.DataFrame(n_samples * [0], columns=[\"output\"]).T\n",
    "    \n",
    "    %R -i x\n",
    "    %R -i y\n",
    "    %R -i outputDf\n",
    "    %R -i n_samples\n",
    "    \n",
    "    \n",
    "    %R out <- runSplitUpCoin(x,y, outputDf, n_samples)\n",
    "    \n",
    "    \n",
    "    %R -o out\n",
    "    return list(out.T[\"output\"].values)\n",
    "\n",
    "def runCoinSplitUp(X_list, y_list):\n",
    "    pfp_list = list()\n",
    "    TIME = list()\n",
    "    \n",
    "    for Xp, yp in zip(X_list, y_list):\n",
    "\n",
    "        p_fp = list()\n",
    "        time_list = list()\n",
    "        \n",
    "        for x, y in zip(Xp, yp):\n",
    "           \n",
    "            start = time.time()\n",
    "            p_fp.append(coinSplitUp(np.array(y)[np.newaxis,...], np.array(x)[np.newaxis,...]))\n",
    "            end = time.time()\n",
    "        \n",
    "            time_list.append(end - start)\n",
    "        \n",
    "        pfp_list.append(p_fp)\n",
    "        TIME.append(time_list)\n",
    "        \n",
    "    return pfp_list, TIME"
   ]
  },
  {
   "cell_type": "markdown",
   "metadata": {},
   "source": [
    "# Coin Exact"
   ]
  },
  {
   "cell_type": "code",
   "execution_count": 131,
   "metadata": {},
   "outputs": [
    {
     "name": "stdout",
     "output_type": "stream",
     "text": [
      "  [1] 1.376346e-28 6.936783e-27 1.284406e-25 1.387327e-24 1.082647e-23\n",
      "  [6] 6.729148e-23 3.531675e-22 1.625487e-21 6.730534e-21 2.553368e-20\n",
      " [11] 8.994484e-20 2.972063e-19 9.285424e-19 2.760289e-18 7.847815e-18\n",
      " [16] 2.143033e-17 5.640787e-17 1.435461e-16 3.540841e-16 8.485093e-16\n",
      " [21] 1.979199e-15 4.501427e-15 9.997658e-15 2.171305e-14 4.616825e-14\n",
      " [26] 9.621421e-14 1.967143e-13 3.949311e-13 7.792007e-13 1.511971e-12\n",
      " [31] 2.887354e-12 5.429908e-12 1.006173e-11 1.838120e-11 3.312166e-11\n",
      " [36] 5.889637e-11 1.033929e-10 1.792640e-10 3.070856e-10 5.199278e-10\n",
      " [41] 8.703373e-10 1.440882e-09 2.359894e-09 3.824724e-09 6.135701e-09\n",
      " [46] 9.745225e-09 1.532796e-08 2.388018e-08 3.685891e-08 5.637485e-08\n",
      " [51] 8.545712e-08 1.284130e-07 1.913119e-07 2.826297e-07 4.140986e-07\n",
      " [56] 6.018166e-07 8.676817e-07 1.241227e-06 1.761945e-06 2.482203e-06\n",
      " [61] 3.470863e-06 4.817723e-06 6.638918e-06 9.083411e-06 1.234070e-05\n",
      " [66] 1.664989e-05 2.231017e-05 2.969291e-05 3.925522e-05 5.155512e-05\n",
      " [71] 6.726817e-05 8.720535e-05 1.123320e-04 1.437872e-04 1.829035e-04\n",
      " [76] 2.312259e-04 2.905294e-04 3.628341e-04 4.504171e-04 5.558196e-04\n",
      " [81] 6.818480e-04 8.315676e-04 1.008288e-03 1.215538e-03 1.457030e-03\n",
      " [86] 1.736612e-03 2.058207e-03 2.425739e-03 2.843046e-03 3.313783e-03\n",
      " [91] 3.841309e-03 4.428572e-03 5.077978e-03 5.791265e-03 6.569373e-03\n",
      " [96] 7.412316e-03 8.319065e-03 9.287446e-03 1.031405e-02 1.139417e-02\n",
      "[101] 1.252178e-02 1.368949e-02 1.488863e-02 1.610925e-02 1.734028e-02\n",
      "[106] 1.856966e-02 1.978447e-02 2.097120e-02 2.211594e-02 2.320468e-02\n",
      "[111] 2.422355e-02 2.515914e-02 2.599878e-02 2.673079e-02 2.734482e-02\n",
      "[116] 2.783200e-02 2.818522e-02 2.839927e-02 2.847098e-02 2.839927e-02\n",
      "[121] 2.818522e-02 2.783200e-02 2.734482e-02 2.673079e-02 2.599878e-02\n",
      "[126] 2.515914e-02 2.422355e-02 2.320468e-02 2.211594e-02 2.097120e-02\n",
      "[131] 1.978447e-02 1.856966e-02 1.734028e-02 1.610925e-02 1.488863e-02\n",
      "[136] 1.368949e-02 1.252178e-02 1.139417e-02 1.031405e-02 9.287446e-03\n",
      "[141] 8.319065e-03 7.412316e-03 6.569373e-03 5.791265e-03 5.077978e-03\n",
      "[146] 4.428572e-03 3.841309e-03 3.313783e-03 2.843046e-03 2.425739e-03\n",
      "[151] 2.058207e-03 1.736612e-03 1.457030e-03 1.215538e-03 1.008288e-03\n",
      "[156] 8.315676e-04 6.818480e-04 5.558196e-04 4.504171e-04 3.628341e-04\n",
      "[161] 2.905294e-04 2.312259e-04 1.829035e-04 1.437872e-04 1.123320e-04\n",
      "[166] 8.720535e-05 6.726817e-05 5.155512e-05 3.925522e-05 2.969291e-05\n",
      "[171] 2.231017e-05 1.664989e-05 1.234070e-05 9.083411e-06 6.638918e-06\n",
      "[176] 4.817723e-06 3.470863e-06 2.482203e-06 1.761945e-06 1.241227e-06\n",
      "[181] 8.676817e-07 6.018166e-07 4.140986e-07 2.826297e-07 1.913119e-07\n",
      "[186] 1.284130e-07 8.545712e-08 5.637485e-08 3.685891e-08 2.388018e-08\n",
      "[191] 1.532796e-08 9.745225e-09 6.135701e-09 3.824724e-09 2.359894e-09\n",
      "[196] 1.440882e-09 8.703373e-10 5.199278e-10 3.070856e-10 1.792640e-10\n",
      "[201] 1.033929e-10 5.889637e-11 3.312166e-11 1.838120e-11 1.006173e-11\n",
      "[206] 5.429908e-12 2.887354e-12 1.511971e-12 7.792007e-13 3.949311e-13\n",
      "[211] 1.967143e-13 9.621421e-14 4.616825e-14 2.171305e-14 9.997658e-15\n",
      "[216] 4.501427e-15 1.979199e-15 8.485093e-16 3.540841e-16 1.435461e-16\n",
      "[221] 5.640787e-17 2.143033e-17 7.847815e-18 2.760289e-18 9.285424e-19\n",
      "[226] 2.972063e-19 8.994484e-20 2.553368e-20 6.730534e-21 1.625487e-21\n",
      "[231] 3.531675e-22 6.729148e-23 1.082647e-23 1.387327e-24 1.284406e-25\n",
      "[236] 6.936783e-27 1.376346e-28\n"
     ]
    }
   ],
   "source": [
    "%%R\n",
    "\n",
    "y1 <- c(0,  0,  0,  0,  0,  0,  1,  1,  1,  1,  1,  1,  1,  1,  3,  3,  3,\n",
    "          3,  3,  4,  4,  4,  4,  5,  5,  5,  5,  6,  6,  6,  6,  6,  7,  7,\n",
    "          7,  7,  7,  7,  8,  8,  8,  8,  8,  8,  8,  9,  9,  9,  9,  9,  9)\n",
    "\n",
    "x1 <- c(0,  0,  0,  0,  0,  0,  0,  0,  0,  0,  1,  1,  1,  2,  2,  2,  2,\n",
    "          2,  2,  3,  3,  3,  3,  3,  3,  3,  3,  3,  3,  3,  4,  4,  4,  4,\n",
    "          4,  4,  4,  5,  5,  5,  5,  5,  5,  5,  5,  6,  6,  6,  6,  6,  7)\n",
    "\n",
    "DV <- c(x1, y1)\n",
    "IV <- factor(rep(c(\"A\", \"B\"), c(length(x1), length(y1))))\n",
    "\n",
    "\n",
    "at <- oneway_test(DV ~ IV, distribution=exact(c(\"shift\")))\n",
    "\n",
    "supp <- support(at)\n",
    "\n",
    "dens <- dperm(at, x = supp)\n",
    "\n",
    "dens\n",
    "#pvalue(oneway_test(DV ~ IV, distribution=exact(c(\"shift\"))))"
   ]
  },
  {
   "cell_type": "code",
   "execution_count": null,
   "metadata": {},
   "outputs": [],
   "source": [
    "1 - 0.9285714"
   ]
  },
  {
   "cell_type": "code",
   "execution_count": 203,
   "metadata": {},
   "outputs": [],
   "source": [
    "A = np.array([[ 41, 16, 73, 23, 44, 83, 76,  8, 35, 50, 96, 76, 86, 48, 64, 32, 91,\n",
    "       21, 38, 40, 68,  5, 43, 52, 39, 34, 59, 68, 70, 89, 69, 47, 71, 96,\n",
    "       84, 32, 67, 81, 53, 77, 51,  5, 91, 64, 80, 50, 40, 47,  9, 51, 16,\n",
    "        9, 18, 23, 74, 58, 91, 63, 84, 97, 44, 33, 27,  9, 77, 11, 41, 35,\n",
    "       61, 10, 71, 87, 71, 20, 57, 83,  2, 69, 41, 82, 62, 71, 98, 19, 85,\n",
    "       91, 88, 23, 44, 53, 75, 73, 91, 92, 97, 17, 56, 22, 44, 94]])\n",
    "B = np.array([[81, 41, 71, 75, 38, 60, 18, 16, 31, 78, 27, 40, 64, 21, 23, 60, 50,\n",
    "       28,  1, 63, 41, 59, 93, 37, 64, 76, 51, 74,  8, 50, 83,  2, 80, 92,\n",
    "       97, 50, 41, 47, 60, 74, 79, 95, 96, 33, 17, 22, 44, 59, 99, 22, 50,\n",
    "       64, 84, 93, 52, 98,  9, 87, 89, 12,  2, 44, 70, 60, 64,  8, 81, 93,\n",
    "       80, 18, 38, 58, 32, 35, 81, 43, 49, 37, 23, 20, 96, 18, 46, 73, 38,\n",
    "       10, 22, 37, 40, 84, 91, 37, 41, 20, 57,  9, 79, 50, 52, 28]])"
   ]
  },
  {
   "cell_type": "code",
   "execution_count": 211,
   "metadata": {},
   "outputs": [],
   "source": [
    "A = [[np.array([ 41, 16, 73, 23, 44, 83, 76,  8, 35, 50, 96, 76, 86, 48, 64, 32, 91,\n",
    "       21, 38, 40, 68,  5, 43, 52, 39, 34, 59, 68, 70, 89, 69, 47, 71, 96,\n",
    "       84, 32, 67, 81, 53, 77, 51,  5, 91, 64, 80, 50, 40, 47,  9, 51, 16,\n",
    "        9, 18, 23, 74, 58, 91, 63, 84, 97, 44, 33, 27,  9, 77, 11, 41, 35,\n",
    "       61, 10, 71, 87, 71, 20, 57, 83,  2, 69, 41, 82, 62, 71, 98, 19, 85,\n",
    "       91, 88, 23, 44, 53, 75, 73, 91, 92, 97, 17, 56, 22, 44, 94])]]\n",
    "\n",
    "B = [[np.array([ 81, 41, 71, 75, 38, 60, 18, 16, 31, 78, 27, 40, 64, 21, 23, 60, 50,\n",
    "       28,  1, 63, 41, 59, 93, 37, 64, 76, 51, 74,  8, 50, 83,  2, 80, 92,\n",
    "       97, 50, 41, 47, 60, 74, 79, 95, 96, 33, 17, 22, 44, 59, 99, 22, 50,\n",
    "       64, 84, 93, 52, 98,  9, 87, 89, 12,  2, 44, 70, 60, 64,  8, 81, 93,\n",
    "       80, 18, 38, 58, 32, 35, 81, 43, 49, 37, 23, 20, 96, 18, 46, 73, 38,\n",
    "       10, 22, 37, 40, 84, 91, 37, 41, 20, 57,  9, 79, 50, 52, 28])]]"
   ]
  },
  {
   "cell_type": "code",
   "execution_count": null,
   "metadata": {},
   "outputs": [],
   "source": []
  },
  {
   "cell_type": "code",
   "execution_count": 204,
   "metadata": {},
   "outputs": [
    {
     "name": "stdout",
     "output_type": "stream",
     "text": [
      "This data requires 12.086802 MiB on the GPU.\n"
     ]
    }
   ],
   "source": [
    "SGM = significance_of_mean_cuda(dtype_v=np.uint16,dtype_A=np.float64)\n",
    "SGM.run(A,B)"
   ]
  },
  {
   "cell_type": "code",
   "execution_count": 205,
   "metadata": {},
   "outputs": [
    {
     "data": {
      "text/plain": [
       "[array([0.00000000e+00, 0.00000000e+00, 0.00000000e+00, ...,\n",
       "        3.97576925e-58, 9.93942312e-59, 1.10438035e-59])]"
      ]
     },
     "execution_count": 205,
     "metadata": {},
     "output_type": "execute_result"
    }
   ],
   "source": [
    "SGM.dperm"
   ]
  },
  {
   "cell_type": "code",
   "execution_count": 206,
   "metadata": {},
   "outputs": [
    {
     "data": {
      "text/plain": [
       "array([1.10438035e-59, 9.93942312e-59, 3.97576925e-58, ...,\n",
       "       3.97576925e-58, 9.93942312e-59, 1.10438035e-59])"
      ]
     },
     "execution_count": 206,
     "metadata": {},
     "output_type": "execute_result"
    }
   ],
   "source": [
    "SGM.dperm[0][SGM.dperm[0]!=0]"
   ]
  },
  {
   "cell_type": "code",
   "execution_count": 207,
   "metadata": {},
   "outputs": [
    {
     "ename": "IndexError",
     "evalue": "tuple index out of range",
     "output_type": "error",
     "traceback": [
      "\u001b[0;31m---------------------------------------------------------------------------\u001b[0m",
      "\u001b[0;31mIndexError\u001b[0m                                Traceback (most recent call last)",
      "\u001b[0;32m<ipython-input-207-0afc25fd9dfb>\u001b[0m in \u001b[0;36m<module>\u001b[0;34m\u001b[0m\n\u001b[0;32m----> 1\u001b[0;31m \u001b[0mp_val_list5_2_coin\u001b[0m\u001b[0;34m,\u001b[0m \u001b[0mTIME_coin_2\u001b[0m \u001b[0;34m=\u001b[0m \u001b[0mrunCoinExact\u001b[0m\u001b[0;34m(\u001b[0m\u001b[0mA\u001b[0m\u001b[0;34m,\u001b[0m\u001b[0mB\u001b[0m\u001b[0;34m)\u001b[0m\u001b[0;34m\u001b[0m\u001b[0;34m\u001b[0m\u001b[0m\n\u001b[0m",
      "\u001b[0;32m<ipython-input-24-87077637a2c9>\u001b[0m in \u001b[0;36mrunCoinExact\u001b[0;34m(X_list, y_list)\u001b[0m\n\u001b[1;32m     29\u001b[0m \u001b[0;34m\u001b[0m\u001b[0m\n\u001b[1;32m     30\u001b[0m             \u001b[0mstart\u001b[0m \u001b[0;34m=\u001b[0m \u001b[0mtime\u001b[0m\u001b[0;34m.\u001b[0m\u001b[0mtime\u001b[0m\u001b[0;34m(\u001b[0m\u001b[0;34m)\u001b[0m\u001b[0;34m\u001b[0m\u001b[0;34m\u001b[0m\u001b[0m\n\u001b[0;32m---> 31\u001b[0;31m             \u001b[0mp_fp\u001b[0m\u001b[0;34m.\u001b[0m\u001b[0mappend\u001b[0m\u001b[0;34m(\u001b[0m\u001b[0mcoinExact\u001b[0m\u001b[0;34m(\u001b[0m\u001b[0mnp\u001b[0m\u001b[0;34m.\u001b[0m\u001b[0marray\u001b[0m\u001b[0;34m(\u001b[0m\u001b[0my\u001b[0m\u001b[0;34m)\u001b[0m\u001b[0;34m[\u001b[0m\u001b[0mnp\u001b[0m\u001b[0;34m.\u001b[0m\u001b[0mnewaxis\u001b[0m\u001b[0;34m,\u001b[0m\u001b[0;34m...\u001b[0m\u001b[0;34m]\u001b[0m\u001b[0;34m,\u001b[0m \u001b[0mnp\u001b[0m\u001b[0;34m.\u001b[0m\u001b[0marray\u001b[0m\u001b[0;34m(\u001b[0m\u001b[0mx\u001b[0m\u001b[0;34m)\u001b[0m\u001b[0;34m[\u001b[0m\u001b[0mnp\u001b[0m\u001b[0;34m.\u001b[0m\u001b[0mnewaxis\u001b[0m\u001b[0;34m,\u001b[0m\u001b[0;34m...\u001b[0m\u001b[0;34m]\u001b[0m\u001b[0;34m)\u001b[0m\u001b[0;34m)\u001b[0m\u001b[0;34m\u001b[0m\u001b[0;34m\u001b[0m\u001b[0m\n\u001b[0m\u001b[1;32m     32\u001b[0m             \u001b[0mend\u001b[0m \u001b[0;34m=\u001b[0m \u001b[0mtime\u001b[0m\u001b[0;34m.\u001b[0m\u001b[0mtime\u001b[0m\u001b[0;34m(\u001b[0m\u001b[0;34m)\u001b[0m\u001b[0;34m\u001b[0m\u001b[0;34m\u001b[0m\u001b[0m\n\u001b[1;32m     33\u001b[0m \u001b[0;34m\u001b[0m\u001b[0m\n",
      "\u001b[0;32m<ipython-input-24-87077637a2c9>\u001b[0m in \u001b[0;36mcoinExact\u001b[0;34m(A, B)\u001b[0m\n\u001b[1;32m      1\u001b[0m \u001b[0;32mdef\u001b[0m \u001b[0mcoinExact\u001b[0m\u001b[0;34m(\u001b[0m\u001b[0mA\u001b[0m\u001b[0;34m,\u001b[0m\u001b[0mB\u001b[0m\u001b[0;34m)\u001b[0m\u001b[0;34m:\u001b[0m\u001b[0;34m\u001b[0m\u001b[0;34m\u001b[0m\u001b[0m\n\u001b[0;32m----> 2\u001b[0;31m     \u001b[0mx\u001b[0m \u001b[0;34m=\u001b[0m \u001b[0mpd\u001b[0m\u001b[0;34m.\u001b[0m\u001b[0mDataFrame\u001b[0m\u001b[0;34m(\u001b[0m\u001b[0mA\u001b[0m\u001b[0;34m,\u001b[0m \u001b[0mcolumns\u001b[0m\u001b[0;34m=\u001b[0m\u001b[0mlist\u001b[0m\u001b[0;34m(\u001b[0m\u001b[0mrange\u001b[0m\u001b[0;34m(\u001b[0m\u001b[0mA\u001b[0m\u001b[0;34m.\u001b[0m\u001b[0mshape\u001b[0m\u001b[0;34m[\u001b[0m\u001b[0;36m1\u001b[0m\u001b[0;34m]\u001b[0m\u001b[0;34m)\u001b[0m\u001b[0;34m)\u001b[0m\u001b[0;34m)\u001b[0m\u001b[0;34m.\u001b[0m\u001b[0mT\u001b[0m\u001b[0;34m\u001b[0m\u001b[0;34m\u001b[0m\u001b[0m\n\u001b[0m\u001b[1;32m      3\u001b[0m     \u001b[0my\u001b[0m \u001b[0;34m=\u001b[0m \u001b[0mpd\u001b[0m\u001b[0;34m.\u001b[0m\u001b[0mDataFrame\u001b[0m\u001b[0;34m(\u001b[0m\u001b[0mB\u001b[0m\u001b[0;34m,\u001b[0m \u001b[0mcolumns\u001b[0m\u001b[0;34m=\u001b[0m\u001b[0mlist\u001b[0m\u001b[0;34m(\u001b[0m\u001b[0mrange\u001b[0m\u001b[0;34m(\u001b[0m\u001b[0mB\u001b[0m\u001b[0;34m.\u001b[0m\u001b[0mshape\u001b[0m\u001b[0;34m[\u001b[0m\u001b[0;36m1\u001b[0m\u001b[0;34m]\u001b[0m\u001b[0;34m)\u001b[0m\u001b[0;34m)\u001b[0m\u001b[0;34m)\u001b[0m\u001b[0;34m.\u001b[0m\u001b[0mT\u001b[0m\u001b[0;34m\u001b[0m\u001b[0;34m\u001b[0m\u001b[0m\n\u001b[1;32m      4\u001b[0m     \u001b[0mn_samples\u001b[0m \u001b[0;34m=\u001b[0m \u001b[0mx\u001b[0m\u001b[0;34m.\u001b[0m\u001b[0mshape\u001b[0m\u001b[0;34m[\u001b[0m\u001b[0;36m1\u001b[0m\u001b[0;34m]\u001b[0m\u001b[0;34m\u001b[0m\u001b[0;34m\u001b[0m\u001b[0m\n\u001b[1;32m      5\u001b[0m     \u001b[0moutputDf\u001b[0m \u001b[0;34m=\u001b[0m \u001b[0mpd\u001b[0m\u001b[0;34m.\u001b[0m\u001b[0mDataFrame\u001b[0m\u001b[0;34m(\u001b[0m\u001b[0mn_samples\u001b[0m \u001b[0;34m*\u001b[0m \u001b[0;34m[\u001b[0m\u001b[0;36m0\u001b[0m\u001b[0;34m]\u001b[0m\u001b[0;34m,\u001b[0m \u001b[0mcolumns\u001b[0m\u001b[0;34m=\u001b[0m\u001b[0;34m[\u001b[0m\u001b[0;34m\"output\"\u001b[0m\u001b[0;34m]\u001b[0m\u001b[0;34m)\u001b[0m\u001b[0;34m.\u001b[0m\u001b[0mT\u001b[0m\u001b[0;34m\u001b[0m\u001b[0;34m\u001b[0m\u001b[0m\n",
      "\u001b[0;31mIndexError\u001b[0m: tuple index out of range"
     ]
    }
   ],
   "source": [
    "p_val_list5_2_coin, TIME_coin_2 = runCoinExact(A,B)"
   ]
  },
  {
   "cell_type": "code",
   "execution_count": 201,
   "metadata": {},
   "outputs": [
    {
     "data": {
      "text/plain": [
       "[[[0.35577111200452116]]]"
      ]
     },
     "execution_count": 201,
     "metadata": {},
     "output_type": "execute_result"
    }
   ],
   "source": [
    "p_val_list5_2_coin"
   ]
  },
  {
   "cell_type": "code",
   "execution_count": 202,
   "metadata": {},
   "outputs": [
    {
     "data": {
      "text/plain": [
       "[[0.06528186798095703]]"
      ]
     },
     "execution_count": 202,
     "metadata": {},
     "output_type": "execute_result"
    }
   ],
   "source": [
    "TIME_coin_2"
   ]
  },
  {
   "cell_type": "code",
   "execution_count": 23,
   "metadata": {},
   "outputs": [],
   "source": [
    "%%R\n",
    "    runExactCoin <- function(x,y,output,n_samples) {\n",
    "       e <- list(mode=\"vector\",length=n_samples)\n",
    "        for (i in 1:n_samples) {\n",
    "            \n",
    "            DV <- c(x[[i]], y[[i]])\n",
    "            IV <- factor(rep(c(\"A\", \"B\"), c(length(x[[i]]), length(y[[i]]))))\n",
    "            library(coin)                    # for oneway_test(), pvalue()\n",
    "            output[[i]] <- pvalue(oneway_test(DV ~ IV, distribution=exact(c(\"shift\"))))\n",
    "            }\n",
    "    \n",
    "\n",
    "    return(output)\n",
    "        \n",
    "    }"
   ]
  },
  {
   "cell_type": "code",
   "execution_count": 24,
   "metadata": {},
   "outputs": [],
   "source": [
    "def coinExact(A,B):\n",
    "    x = pd.DataFrame(A, columns=list(range(A.shape[1]))).T\n",
    "    y = pd.DataFrame(B, columns=list(range(B.shape[1]))).T\n",
    "    n_samples = x.shape[1]\n",
    "    outputDf = pd.DataFrame(n_samples * [0], columns=[\"output\"]).T\n",
    "    \n",
    "    %R -i x\n",
    "    %R -i y\n",
    "    %R -i outputDf\n",
    "    %R -i n_samples\n",
    "    \n",
    "    \n",
    "    %R out <- runExactCoin(x,y, outputDf, n_samples)\n",
    "    \n",
    "    \n",
    "    %R -o out\n",
    "    return list(out.T[\"output\"].values)\n",
    "\n",
    "def runCoinExact(X_list, y_list):\n",
    "    pfp_list = list()\n",
    "    TIME = list()\n",
    "    \n",
    "    for Xp, yp in zip(X_list, y_list):\n",
    "\n",
    "        p_fp = list()\n",
    "        time_list = list()\n",
    "        \n",
    "        for x, y in zip(Xp, yp):\n",
    "           \n",
    "            start = time.time()\n",
    "            p_fp.append(coinExact(np.array(y)[np.newaxis,...], np.array(x)[np.newaxis,...]))\n",
    "            end = time.time()\n",
    "        \n",
    "            time_list.append(end - start)\n",
    "        \n",
    "        pfp_list.append(p_fp)\n",
    "        TIME.append(time_list)\n",
    "        \n",
    "    return pfp_list, TIME"
   ]
  },
  {
   "cell_type": "code",
   "execution_count": null,
   "metadata": {},
   "outputs": [],
   "source": []
  },
  {
   "cell_type": "code",
   "execution_count": null,
   "metadata": {},
   "outputs": [],
   "source": [
    "%%R\n",
    "    runFastPerm <- function(x,y,output, n_samples) {\n",
    "        e <- list(mode=\"vector\",length=n_samples)\n",
    "        for (i in 1:n_samples) {\n",
    "      \n",
    "            mStopDiffMean(x[[i]], y[[i]])\n",
    "            valX = fastPerm(x[[i]], y[[i]], testStat = diffMean)\n",
    "            \n",
    "            valX <-unlist(valX)\n",
    "\n",
    "      \n",
    "            output[[i]] <- as.numeric(valX[1])\n",
    "      \n",
    "            }\n",
    "    \n",
    "\n",
    "    return(output)\n",
    "\n",
    "\n",
    "    }"
   ]
  },
  {
   "cell_type": "code",
   "execution_count": null,
   "metadata": {},
   "outputs": [],
   "source": [
    "def fastPerm(A,B):\n",
    "    x = pd.DataFrame(A, columns=list(range(A.shape[1]))).T\n",
    "    y = pd.DataFrame(B, columns=list(range(B.shape[1]))).T\n",
    "    n_samples = x.shape[1]\n",
    "    outputDf = pd.DataFrame(n_samples * [0], columns=[\"output\"]).T\n",
    "    \n",
    "    %R -i x\n",
    "    %R -i y\n",
    "    %R -i outputDf\n",
    "    %R -i n_samples\n",
    "    \n",
    "    \n",
    "    %R out <- runFastPerm(x,y, outputDf, n_samples)\n",
    "    \n",
    "    \n",
    "    %R -o out\n",
    "    return list(out.T[\"output\"].values)\n",
    "\n",
    "def runFastPerm(X_list, y_list):\n",
    "    pfp_list = list()\n",
    "    TIME = list()\n",
    "    \n",
    "    for Xp, yp in zip(X_list, y_list):\n",
    "\n",
    "        p_fp = list()\n",
    "        time_list = list()\n",
    "        \n",
    "        for x, y in zip(Xp, yp):\n",
    "           \n",
    "            start = time.time()\n",
    "            p_fp.append(fastPerm(np.array(y)[np.newaxis,...], np.array(x)[np.newaxis,...]))\n",
    "            end = time.time()\n",
    "        \n",
    "            time_list.append(end - start)\n",
    "        \n",
    "        pfp_list.append(p_fp)\n",
    "        TIME.append(time_list)\n",
    "        \n",
    "    return pfp_list, TIME"
   ]
  },
  {
   "cell_type": "code",
   "execution_count": null,
   "metadata": {},
   "outputs": [],
   "source": []
  },
  {
   "cell_type": "code",
   "execution_count": 26,
   "metadata": {},
   "outputs": [],
   "source": [
    "def getSynteticIntegerData(setN=20, sampleN=2_000,seed=1, k=30.):\n",
    "    \"\"\"Generate synthetic data\"\"\"\n",
    "    np.random.seed(seed)\n",
    "    AN, BN = [getMutiData(setN, k) for i in range(sampleN)], [getMutiData(setN, k) for i in range(sampleN)]\n",
    "    return AN, BN\n",
    "\n",
    "def getMutiData(sizeN, k):\n",
    "    return np.array([v for i, n in enumerate(np.random.multinomial(sizeN, [1/float(k)]*int(k), size=1)[0]) for v in [i]*n])\n",
    "\n",
    "\n",
    "def getAllSynthticIntegerData(sampleRange,sampleN=50, k=30):\n",
    "    \"\"\"Get all synthetic data\"\"\"\n",
    "    A_data, B_data = list(), list()\n",
    "    for setS in sampleRange:\n",
    "        Anorm0, Bnorm0 = getSynteticIntegerData(setN=setS,sampleN=sampleN)\n",
    "        A_data.append(Anorm0)\n",
    "        B_data.append(Bnorm0)\n",
    "    return A_data, B_data"
   ]
  },
  {
   "cell_type": "code",
   "execution_count": 187,
   "metadata": {},
   "outputs": [],
   "source": [
    "k=10\n",
    "sampleShape = [10]\n",
    "sampleN = 1"
   ]
  },
  {
   "cell_type": "code",
   "execution_count": 188,
   "metadata": {},
   "outputs": [],
   "source": [
    "A,B = getAllSynthticIntegerData(sampleShape,sampleN=sampleN, k=k)"
   ]
  },
  {
   "cell_type": "code",
   "execution_count": 189,
   "metadata": {},
   "outputs": [
    {
     "data": {
      "text/plain": [
       "[array([ 1, 11, 13, 15, 20, 21, 21, 23, 24, 25])]"
      ]
     },
     "execution_count": 189,
     "metadata": {},
     "output_type": "execute_result"
    }
   ],
   "source": [
    "A[0]"
   ]
  },
  {
   "cell_type": "code",
   "execution_count": 190,
   "metadata": {},
   "outputs": [
    {
     "data": {
      "text/plain": [
       "[array([ 3,  6,  6, 11, 13, 14, 14, 17, 20, 29])]"
      ]
     },
     "execution_count": 190,
     "metadata": {},
     "output_type": "execute_result"
    }
   ],
   "source": [
    "B[0]"
   ]
  },
  {
   "cell_type": "code",
   "execution_count": 156,
   "metadata": {},
   "outputs": [],
   "source": [
    "A =np.array([[ 0,  0,  0,  0,  0,  0,  1,  1,  1,  1,  1,  1,  1,  1,  3,  3,  3,\n",
    "          3,  3,  4,  4,  4,  4,  5,  5,  5,  5,  6,  6,  6,  6,  6,  7,  7,\n",
    "          7,  7,  7,  7,  8,  8,  8,  8,  8,  8,  8,  9,  9,  9,  9,  9,  9,\n",
    "          9, 10, 10, 10, 10, 10, 10, 10, 11, 11, 11, 11, 11, 11, 11, 11, 11,\n",
    "         12, 12, 12, 12, 12, 13, 13, 13, 13, 13, 13, 13, 13, 13, 13, 13, 14,\n",
    "         14, 14, 15, 15, 15, 15, 15, 15, 15, 15, 15, 16, 16, 16, 16, 16, 16,\n",
    "         16, 17, 17, 17, 17, 17, 17, 17, 17, 18, 18, 18, 18, 18, 19, 19, 19,\n",
    "         19, 19, 20, 20, 20, 20, 20, 20, 20, 20, 20, 20, 21, 21, 21, 21, 21,\n",
    "         21, 21, 21, 21, 21, 21, 21, 21, 22, 22, 22, 22, 22, 22, 23, 23, 23,\n",
    "         23, 23, 23, 23, 23, 24, 24, 24, 24, 24, 24, 24, 24, 24, 24, 25, 25,\n",
    "         25, 25, 25, 25, 25, 25, 25, 26, 26, 26, 27, 27, 27, 28, 28, 28, 28,\n",
    "         28, 28, 28, 29, 29, 29, 29, 29, 29, 29, 29, 29, 29]])\n",
    "B = np.array([[0,  0,  0,  0,  0,  0,  0,  0,  0,  0,  1,  1,  1,  2,  2,  2,  2,\n",
    "          2,  2,  3,  3,  3,  3,  3,  3,  3,  3,  3,  3,  3,  4,  4,  4,  4,\n",
    "          4,  4,  4,  5,  5,  5,  5,  5,  5,  5,  5,  6,  6,  6,  6,  6,  7,\n",
    "          7,  7,  7,  7,  7,  7,  7,  8,  8,  8,  8,  8,  8,  8,  8,  8,  9,\n",
    "          9, 10, 10, 10, 10, 10, 10, 10, 10, 11, 11, 11, 11, 11, 11, 11, 11,\n",
    "         11, 11, 11, 11, 11, 12, 12, 12, 12, 12, 12, 12, 12, 13, 13, 13, 13,\n",
    "         13, 14, 14, 14, 14, 14, 14, 14, 14, 15, 15, 15, 16, 16, 16, 16, 16,\n",
    "         16, 17, 17, 17, 17, 17, 17, 17, 17, 17, 18, 18, 18, 18, 18, 19, 19,\n",
    "         19, 19, 19, 20, 20, 20, 20, 21, 21, 22, 22, 22, 22, 22, 22, 22, 22,\n",
    "         23, 23, 23, 23, 23, 24, 24, 24, 24, 24, 25, 25, 25, 25, 25, 25, 25,\n",
    "         26, 26, 26, 26, 27, 27, 27, 27, 27, 27, 27, 27, 27, 28, 28, 28, 28,\n",
    "         28, 28, 29, 29, 29, 29, 29, 29, 29, 29, 29, 29, 29]])"
   ]
  },
  {
   "cell_type": "code",
   "execution_count": 208,
   "metadata": {},
   "outputs": [
    {
     "name": "stdout",
     "output_type": "stream",
     "text": [
      "This data requires 12.086802 MiB on the GPU.\n"
     ]
    }
   ],
   "source": [
    "SGM = significance_of_mean_cuda(dtype_v=np.uint16,dtype_A=np.float64)\n",
    "SGM.run(A,B)"
   ]
  },
  {
   "cell_type": "code",
   "execution_count": 158,
   "metadata": {},
   "outputs": [
    {
     "data": {
      "text/plain": [
       "[array([0.00000000e+000, 0.00000000e+000, 0.00000000e+000, ...,\n",
       "        3.93045336e-115, 2.50212476e-116, 6.41072338e-118])]"
      ]
     },
     "execution_count": 158,
     "metadata": {},
     "output_type": "execute_result"
    }
   ],
   "source": [
    "SGM.dperm"
   ]
  },
  {
   "cell_type": "code",
   "execution_count": 161,
   "metadata": {},
   "outputs": [],
   "source": [
    "A =[[A[0]]]\n",
    "B = [[B[0]]]"
   ]
  },
  {
   "cell_type": "code",
   "execution_count": 162,
   "metadata": {},
   "outputs": [
    {
     "data": {
      "text/plain": [
       "[[array([ 0,  0,  0,  0,  0,  0,  1,  1,  1,  1,  1,  1,  1,  1,  3,  3,  3,\n",
       "          3,  3,  4,  4,  4,  4,  5,  5,  5,  5,  6,  6,  6,  6,  6,  7,  7,\n",
       "          7,  7,  7,  7,  8,  8,  8,  8,  8,  8,  8,  9,  9,  9,  9,  9,  9,\n",
       "          9, 10, 10, 10, 10, 10, 10, 10, 11, 11, 11, 11, 11, 11, 11, 11, 11,\n",
       "         12, 12, 12, 12, 12, 13, 13, 13, 13, 13, 13, 13, 13, 13, 13, 13, 14,\n",
       "         14, 14, 15, 15, 15, 15, 15, 15, 15, 15, 15, 16, 16, 16, 16, 16, 16,\n",
       "         16, 17, 17, 17, 17, 17, 17, 17, 17, 18, 18, 18, 18, 18, 19, 19, 19,\n",
       "         19, 19, 20, 20, 20, 20, 20, 20, 20, 20, 20, 20, 21, 21, 21, 21, 21,\n",
       "         21, 21, 21, 21, 21, 21, 21, 21, 22, 22, 22, 22, 22, 22, 23, 23, 23,\n",
       "         23, 23, 23, 23, 23, 24, 24, 24, 24, 24, 24, 24, 24, 24, 24, 25, 25,\n",
       "         25, 25, 25, 25, 25, 25, 25, 26, 26, 26, 27, 27, 27, 28, 28, 28, 28,\n",
       "         28, 28, 28, 29, 29, 29, 29, 29, 29, 29, 29, 29, 29])]]"
      ]
     },
     "execution_count": 162,
     "metadata": {},
     "output_type": "execute_result"
    }
   ],
   "source": [
    "A"
   ]
  },
  {
   "cell_type": "code",
   "execution_count": 171,
   "metadata": {},
   "outputs": [
    {
     "data": {
      "text/plain": [
       "[[array([ 0,  0,  0,  0,  0,  0,  0,  0,  0,  0,  1,  1,  1,  2,  2,  2,  2,\n",
       "          2,  2,  3,  3,  3,  3,  3,  3,  3,  3,  3,  3,  3,  4,  4,  4,  4,\n",
       "          4,  4,  4,  5,  5,  5,  5,  5,  5,  5,  5,  6,  6,  6,  6,  6,  7,\n",
       "          7,  7,  7,  7,  7,  7,  7,  8,  8,  8,  8,  8,  8,  8,  8,  8,  9,\n",
       "          9, 10, 10, 10, 10, 10, 10, 10, 10, 11, 11, 11, 11, 11, 11, 11, 11,\n",
       "         11, 11, 11, 11, 11, 12, 12, 12, 12, 12, 12, 12, 12, 13, 13, 13, 13,\n",
       "         13, 14, 14, 14, 14, 14, 14, 14, 14, 15, 15, 15, 16, 16, 16, 16, 16,\n",
       "         16, 17, 17, 17, 17, 17, 17, 17, 17, 17, 18, 18, 18, 18, 18, 19, 19,\n",
       "         19, 19, 19, 20, 20, 20, 20, 21, 21, 22, 22, 22, 22, 22, 22, 22, 22,\n",
       "         23, 23, 23, 23, 23, 24, 24, 24, 24, 24, 25, 25, 25, 25, 25, 25, 25,\n",
       "         26, 26, 26, 26, 27, 27, 27, 27, 27, 27, 27, 27, 27, 28, 28, 28, 28,\n",
       "         28, 28, 29, 29, 29, 29, 29, 29, 29, 29, 29, 29, 29])]]"
      ]
     },
     "execution_count": 171,
     "metadata": {},
     "output_type": "execute_result"
    }
   ],
   "source": [
    "B"
   ]
  },
  {
   "cell_type": "code",
   "execution_count": 212,
   "metadata": {},
   "outputs": [],
   "source": [
    "pt_list5_2, pe_list5_2, parallel_TIME = shiftMethod(np.asarray(A), np.asarray(B), bins=False)"
   ]
  },
  {
   "cell_type": "code",
   "execution_count": 213,
   "metadata": {},
   "outputs": [
    {
     "data": {
      "text/plain": [
       "[[0.055288076400756836]]"
      ]
     },
     "execution_count": 213,
     "metadata": {},
     "output_type": "execute_result"
    }
   ],
   "source": [
    "parallel_TIME"
   ]
  },
  {
   "cell_type": "code",
   "execution_count": 214,
   "metadata": {},
   "outputs": [
    {
     "data": {
      "text/plain": [
       "[[0.3549073061125604]]"
      ]
     },
     "execution_count": 214,
     "metadata": {},
     "output_type": "execute_result"
    }
   ],
   "source": [
    "pt_list5_2"
   ]
  },
  {
   "cell_type": "code",
   "execution_count": 215,
   "metadata": {},
   "outputs": [
    {
     "data": {
      "text/plain": [
       "array([0.05528808])"
      ]
     },
     "execution_count": 215,
     "metadata": {},
     "output_type": "execute_result"
    }
   ],
   "source": [
    "pT= np.mean(parallel_TIME,1);pT"
   ]
  },
  {
   "cell_type": "code",
   "execution_count": 216,
   "metadata": {},
   "outputs": [],
   "source": [
    "p_val_list5_2_coin, TIME_coin_2 = runCoinExact(np.asarray(A), np.asarray(B))"
   ]
  },
  {
   "cell_type": "code",
   "execution_count": 217,
   "metadata": {},
   "outputs": [
    {
     "data": {
      "text/plain": [
       "[[[0.35577111200452116]]]"
      ]
     },
     "execution_count": 217,
     "metadata": {},
     "output_type": "execute_result"
    }
   ],
   "source": [
    "p_val_list5_2_coin"
   ]
  },
  {
   "cell_type": "code",
   "execution_count": 218,
   "metadata": {},
   "outputs": [
    {
     "data": {
      "text/plain": [
       "array([0.06492805])"
      ]
     },
     "execution_count": 218,
     "metadata": {},
     "output_type": "execute_result"
    }
   ],
   "source": [
    "cT = np.mean(TIME_coin_2,1);cT"
   ]
  },
  {
   "cell_type": "code",
   "execution_count": null,
   "metadata": {},
   "outputs": [],
   "source": [
    "singleT_pt_list5_2, singleT_pe_list5_2, singleThreadTime = shiftMethod(np.asarray(A), np.asarray(B), False, False)\n"
   ]
  },
  {
   "cell_type": "code",
   "execution_count": null,
   "metadata": {},
   "outputs": [],
   "source": [
    "singleGrennT = np.mean(singleThreadTime,1);singleGrennT"
   ]
  },
  {
   "cell_type": "code",
   "execution_count": null,
   "metadata": {},
   "outputs": [],
   "source": []
  },
  {
   "cell_type": "code",
   "execution_count": null,
   "metadata": {},
   "outputs": [],
   "source": [
    "plt.plot(sampleShape, pT, label='Parallel Green Shift')\n",
    "plt.plot(sampleShape, cT, label='Coin Shift')\n",
    "plt.plot(sampleShape, singleGrennT, label='Single Thread Green Shift')\n",
    "plt.xlabel(\"N\")\n",
    "plt.ylabel(\"Time(s)\")\n",
    "plt.legend()"
   ]
  },
  {
   "cell_type": "code",
   "execution_count": null,
   "metadata": {},
   "outputs": [],
   "source": []
  },
  {
   "cell_type": "code",
   "execution_count": null,
   "metadata": {},
   "outputs": [],
   "source": [
    "k=100\n",
    "sampleShape = [10,50,100,150,200,250,300,350,400,450,500]\n",
    "sampleN = 50"
   ]
  },
  {
   "cell_type": "code",
   "execution_count": null,
   "metadata": {},
   "outputs": [],
   "source": [
    "A,B = getAllSynthticIntegerData(sampleShape,sampleN=sampleN, k=k)"
   ]
  },
  {
   "cell_type": "code",
   "execution_count": null,
   "metadata": {},
   "outputs": [],
   "source": [
    "pt_list5_2, pe_list5_2, parallel_TIME = shiftMethod(np.asarray(A), np.asarray(B), bins=False)"
   ]
  },
  {
   "cell_type": "code",
   "execution_count": null,
   "metadata": {},
   "outputs": [],
   "source": [
    "pT= np.mean(parallel_TIME,1)"
   ]
  },
  {
   "cell_type": "code",
   "execution_count": null,
   "metadata": {},
   "outputs": [],
   "source": [
    "p_val_list5_2_coin, TIME_coin_2 = runCoinExact(np.asarray(A), np.asarray(B))"
   ]
  },
  {
   "cell_type": "code",
   "execution_count": null,
   "metadata": {},
   "outputs": [],
   "source": [
    "cT = np.mean(TIME_coin_2,1)"
   ]
  },
  {
   "cell_type": "code",
   "execution_count": null,
   "metadata": {},
   "outputs": [],
   "source": [
    "plt.plot(sampleShape, pT, label='Parallel Shift')\n",
    "plt.plot(sampleShape, cT, label='Coin Shift')\n",
    "plt.xlabel(\"N\")\n",
    "plt.ylabel(\"Time(s)\")\n",
    "plt.legend()"
   ]
  },
  {
   "cell_type": "code",
   "execution_count": null,
   "metadata": {},
   "outputs": [],
   "source": []
  },
  {
   "cell_type": "code",
   "execution_count": null,
   "metadata": {},
   "outputs": [],
   "source": []
  },
  {
   "cell_type": "code",
   "execution_count": null,
   "metadata": {},
   "outputs": [],
   "source": []
  },
  {
   "cell_type": "code",
   "execution_count": null,
   "metadata": {},
   "outputs": [],
   "source": [
    "len(A[0][0])"
   ]
  },
  {
   "cell_type": "code",
   "execution_count": null,
   "metadata": {},
   "outputs": [],
   "source": [
    "len(X_list5_2[0][0])"
   ]
  },
  {
   "cell_type": "code",
   "execution_count": null,
   "metadata": {},
   "outputs": [],
   "source": []
  },
  {
   "cell_type": "code",
   "execution_count": null,
   "metadata": {},
   "outputs": [],
   "source": []
  },
  {
   "cell_type": "code",
   "execution_count": null,
   "metadata": {},
   "outputs": [],
   "source": [
    "np.mean([abs((p_coin- p_exact)/p_exact)*100 for p_coin, p_exact in zip(p_val_list5_2_coin[0], pe_list5_2[0])])"
   ]
  },
  {
   "cell_type": "code",
   "execution_count": null,
   "metadata": {},
   "outputs": [],
   "source": [
    "p_val_list5_2_coin[0]"
   ]
  },
  {
   "cell_type": "code",
   "execution_count": null,
   "metadata": {},
   "outputs": [],
   "source": [
    "pe_list5_2[0]"
   ]
  },
  {
   "cell_type": "code",
   "execution_count": null,
   "metadata": {},
   "outputs": [],
   "source": []
  },
  {
   "cell_type": "code",
   "execution_count": null,
   "metadata": {},
   "outputs": [],
   "source": [
    "singleT_pe_list5_2"
   ]
  },
  {
   "cell_type": "code",
   "execution_count": null,
   "metadata": {},
   "outputs": [],
   "source": [
    "p_val_list5_2_coin"
   ]
  },
  {
   "cell_type": "code",
   "execution_count": null,
   "metadata": {},
   "outputs": [],
   "source": [
    "def getPATH(path, suffix, prefix):\n",
    "    return path + '/'+ suffix + '_' + prefix + \".png\""
   ]
  },
  {
   "cell_type": "code",
   "execution_count": null,
   "metadata": {},
   "outputs": [],
   "source": [
    "path = \"figures/GreenVsFastperm\""
   ]
  },
  {
   "cell_type": "code",
   "execution_count": null,
   "metadata": {},
   "outputs": [],
   "source": [
    "sampleShape = [10]\n",
    "#sampleShape = [2,4,6,8,10,12,14,16,18,20]\n",
    "#sampleShape = [2,4,6,8,10,12]\n"
   ]
  },
  {
   "cell_type": "code",
   "execution_count": null,
   "metadata": {},
   "outputs": [],
   "source": [
    "mean =0.2"
   ]
  },
  {
   "cell_type": "code",
   "execution_count": null,
   "metadata": {},
   "outputs": [],
   "source": [
    "X_list5_2"
   ]
  },
  {
   "cell_type": "code",
   "execution_count": null,
   "metadata": {},
   "outputs": [],
   "source": [
    "X_list5_2[0].shape"
   ]
  },
  {
   "cell_type": "markdown",
   "metadata": {},
   "source": [
    "# Sample from $X \\sim N(5.0,1)$ and $Y\\sim N(5.2,1)$"
   ]
  },
  {
   "cell_type": "code",
   "execution_count": null,
   "metadata": {},
   "outputs": [],
   "source": [
    "X_list5_2,y_list5_2= getAllSynthticData(sampleShape, mean, 50)"
   ]
  },
  {
   "cell_type": "code",
   "execution_count": null,
   "metadata": {},
   "outputs": [],
   "source": [
    "\n",
    "pt_list5_2, pe_list5_2, parallel_TIME = shiftMethod(np.asarray(X_list5_2), np.asarray(y_list5_2), 40)"
   ]
  },
  {
   "cell_type": "code",
   "execution_count": null,
   "metadata": {},
   "outputs": [],
   "source": [
    "\n",
    "p_val_list5_2, TIME_MC5_2 = runFastPerm(np.asarray(X_list5_2), np.asarray(y_list5_2))"
   ]
  },
  {
   "cell_type": "code",
   "execution_count": null,
   "metadata": {},
   "outputs": [],
   "source": [
    "singleT_pt_list5_2, singleT_pe_list5_2, singleThreadTime = shiftMethod(np.asarray(X_list5_2), np.asarray(y_list5_2), 40, False)"
   ]
  },
  {
   "cell_type": "code",
   "execution_count": null,
   "metadata": {},
   "outputs": [],
   "source": [
    "p_val_list5_2_coin, TIME_coin_2 = runCoin(np.asarray(X_list5_2), np.asarray(y_list5_2))"
   ]
  },
  {
   "cell_type": "code",
   "execution_count": null,
   "metadata": {},
   "outputs": [],
   "source": [
    "timePlotSNSFastpermCoinFastPerm(np.log10(parallel_TIME), np.log10(TIME_MC5_2),np.log10(singleThreadTime), np.log10(TIME_coin_2), \n",
    "            sampleShape, path=getPATH(path, str(mean),\"SNSruntimeLogSingleThreadCoinLog\"),log=True)"
   ]
  },
  {
   "cell_type": "code",
   "execution_count": null,
   "metadata": {},
   "outputs": [],
   "source": [
    "timePlotSNSFastpermCoinFastPerm(parallel_TIME, TIME_MC5_2, singleThreadTime, TIME_coin_2, \n",
    "            sampleShape, path=getPATH(path, str(mean),\"SNSruntimeLogSingleThreadCoin\"),log=False)"
   ]
  },
  {
   "cell_type": "code",
   "execution_count": null,
   "metadata": {},
   "outputs": [],
   "source": []
  }
 ],
 "metadata": {
  "kernelspec": {
   "display_name": "Python (terran3)",
   "language": "python",
   "name": "terran3"
  },
  "language_info": {
   "codemirror_mode": {
    "name": "ipython",
    "version": 3
   },
   "file_extension": ".py",
   "mimetype": "text/x-python",
   "name": "python",
   "nbconvert_exporter": "python",
   "pygments_lexer": "ipython3",
   "version": "3.6.10"
  }
 },
 "nbformat": 4,
 "nbformat_minor": 2
}
