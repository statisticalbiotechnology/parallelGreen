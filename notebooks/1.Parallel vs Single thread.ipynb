{
 "cells": [
  {
   "cell_type": "code",
   "execution_count": 1,
   "metadata": {},
   "outputs": [],
   "source": [
    "from permutationTestC import GrennPdistOpenMP, GrennPdist, coinShiftPdist\n",
    "from permutationTest import GreenIntCuda, GreenFloatCuda, getDataGreen, PreProcessoinShift, get_p\n"
   ]
  },
  {
   "cell_type": "code",
   "execution_count": 4,
   "metadata": {},
   "outputs": [],
   "source": [
    "#from utils2 import *\n",
    "import time\n",
    "#from significance_of_mean_cuda import significance_of_mean_cuda"
   ]
  },
  {
   "cell_type": "code",
   "execution_count": 5,
   "metadata": {},
   "outputs": [],
   "source": [
    "def timePlotSNS(TIMEParallel, TIMEsingleThred, sampleShape,binVar=False, log=False, path=None):\n",
    "    \"\"\"Create SNS timeseries-plot\"\"\"\n",
    "    fig, ax = plt.subplots()\n",
    "    \n",
    "    sns.set(style=\"white\")\n",
    "    sns.set_context(\"talk\")\n",
    "    \n",
    "    preparePdParallel = preparePandas(TIMEParallel, sampleShape)\n",
    "    preparePdSingle = preparePandas(TIMEsingleThred, sampleShape, 'Single thread')\n",
    "    \n",
    "    data = preparePdParallel + preparePdSingle\n",
    "    \n",
    "    pdData = pd.DataFrame(data, columns=['Method', 'time(s)','bins'])\n",
    "    \n",
    "    if log:        \n",
    "        MAX = max(max(TIMEParallel), max(TIMEsingleThred))\n",
    "        MIN = min(min(TIMEParallel), min(TIMEsingleThred))\n",
    "\n",
    "        RANGE = np.arange(np.floor(MIN), np.ceil(MAX))\n",
    "        snsPlot = sns.lineplot(x=\"bins\", y=\"time(s)\",\n",
    "             hue=\"Method\",\n",
    "             data=pdData)#.set(yticks = RANGE, yticklabels=10**RANGE)\n",
    "        plt.yticks(RANGE, 10.0**RANGE)\n",
    "        \n",
    "        \n",
    "    else:\n",
    "        snsPlot = sns.lineplot(x=\"bins\", y=\"time(s)\",\n",
    "             hue=\"Method\",\n",
    "             data=pdData,)\n",
    "    \n",
    "    if binVar:\n",
    "        plt.xlabel(r\"$n$\", fontsize=20)\n",
    "        \n",
    "    else:\n",
    "        plt.xlabel(r\"$n_{w}$\", fontsize=20)\n",
    "    \n",
    "    plt.ylabel(r\"$time(s)$\", fontsize=20)\n",
    "    \n",
    "    \n",
    "    \n",
    "    handles, labels = ax.get_legend_handles_labels()\n",
    "    ax.legend(handles=handles[1:], labels=labels[1:])\n",
    "    \n",
    "    plt.setp(snsPlot.get_legend().get_texts(), fontsize=20)\n",
    "    plt.xticks(size = 20)\n",
    "    plt.yticks(size = 20)\n",
    "    plt.tight_layout()\n",
    "    \n",
    "    if path:   \n",
    "        fig = snsPlot.get_figure()\n",
    "        fig.savefig(path)"
   ]
  },
  {
   "cell_type": "markdown",
   "metadata": {},
   "source": [
    "### Get synthetic data"
   ]
  },
  {
   "cell_type": "code",
   "execution_count": null,
   "metadata": {},
   "outputs": [],
   "source": [
    "num_examples = 1\n",
    "N = [50,100, 150, 200, 250]\n",
    "s =  [10, 50, 100, 200]\n",
    "path = \"figures/parallelVsSingleThread\""
   ]
  },
  {
   "cell_type": "code",
   "execution_count": null,
   "metadata": {},
   "outputs": [],
   "source": [
    "np.random.seed(3)\n",
    "n = 10\n",
    "m = n\n",
    "n_samples = 5\n",
    "A = np.asarray([np.random.randint(0,n,m,dtype=np.int32) for _ in range(n_samples)])\n",
    "B = np.asarray([np.random.randint(0,n,n,dtype=np.int32) for _ in range(n_samples)])"
   ]
  },
  {
   "cell_type": "code",
   "execution_count": null,
   "metadata": {},
   "outputs": [],
   "source": [
    "def runExperiment():\n",
    "    cpu1 = list()\n",
    "    gpu1 = list()\n",
    "    n = N[1]\n",
    "    for bins in s:\n",
    "        np.random.seed(42)\n",
    "        A = np.asarray([np.random.randint(0,n,m,dtype=np.int32) for _ in range(n_samples)])\n",
    "        B = np.asarray([np.random.randint(0,n,n,dtype=np.int32) for _ in range(n_samples)])\n",
    "\n",
    "        start = time.time()\n",
    "        SGM = significance_of_mean_cuda(bins,dtype_v=np.uint16,dtype_A=np.float64)\n",
    "        SGM.run(A,B)\n",
    "        p = SGM.get_p_values()\n",
    "        end = time.time()\n",
    "        t_gpu = end - start\n",
    "        gpu1.append(t_gpu)\n",
    "        print(\"GPU: \", t_gpu)\n",
    "    \n",
    "    \n",
    "        start = time.time()\n",
    "        P = calibration_test(A,B,bins)\n",
    "        end = time.time()\n",
    "        t_cpu = end - start\n",
    "        cpu1.append(t_cpu)\n",
    "        print(\"CPU1: \",t_cpu)\n",
    "    \n",
    "        print(np.allclose(p,P))\n",
    "    return cpu1, gpu1\n",
    "    "
   ]
  },
  {
   "cell_type": "code",
   "execution_count": null,
   "metadata": {},
   "outputs": [],
   "source": [
    "if __name__==\"__main__\":\n",
    "    cpu1, gpu1 = runExperiment()\n",
    "    timePlotSNS(np.array(gpu1), np.array(cpu1), np.array(s), log=False, path=getPATH(path, \"nonLog\"))\n",
    "    timePlotSNS(np.log10(np.array(gpu1)), np.log10(np.array(cpu1)), np.array(s), log=True, path=getPATH(path, \"Log\"))"
   ]
  },
  {
   "cell_type": "code",
   "execution_count": null,
   "metadata": {},
   "outputs": [],
   "source": []
  }
 ],
 "metadata": {
  "kernelspec": {
   "display_name": "Python (terran3)",
   "language": "python",
   "name": "terran3"
  },
  "language_info": {
   "codemirror_mode": {
    "name": "ipython",
    "version": 3
   },
   "file_extension": ".py",
   "mimetype": "text/x-python",
   "name": "python",
   "nbconvert_exporter": "python",
   "pygments_lexer": "ipython3",
   "version": "3.6.10"
  }
 },
 "nbformat": 4,
 "nbformat_minor": 2
}
