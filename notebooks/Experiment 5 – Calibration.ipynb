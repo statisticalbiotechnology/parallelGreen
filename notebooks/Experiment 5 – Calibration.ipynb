{
 "cells": [
  {
   "cell_type": "code",
   "execution_count": 56,
   "metadata": {},
   "outputs": [],
   "source": [
    "#from utils2 import getSynteticData, exactTest, MWU, ttests, multiple_plot, getdf\n",
    "import numpy as np\n",
    "import pandas as pd\n",
    "import time\n",
    "import permutationTest as pt\n",
    "from scipy.stats import ttest_ind, mannwhitneyu"
   ]
  },
  {
   "cell_type": "code",
   "execution_count": 102,
   "metadata": {},
   "outputs": [
    {
     "name": "stdout",
     "output_type": "stream",
     "text": [
      "The cython extension is already loaded. To reload it, use:\n",
      "  %reload_ext cython\n",
      "The rpy2.ipython extension is already loaded. To reload it, use:\n",
      "  %reload_ext rpy2.ipython\n"
     ]
    }
   ],
   "source": [
    "%load_ext cython\n",
    "%load_ext rpy2.ipython\n",
    "\n"
   ]
  },
  {
   "cell_type": "code",
   "execution_count": 103,
   "metadata": {},
   "outputs": [],
   "source": [
    "%%R\n",
    "    runMcCoin <- function(x,y,batches,output,n_samples) {\n",
    "       e <- list(mode=\"vector\",length=n_samples)\n",
    "        for (i in 1:n_samples) {\n",
    "            \n",
    "            DV <- c(x[[i]], y[[i]])\n",
    "            IV <- factor(rep(c(\"A\", \"B\"), c(length(x[[i]]), length(y[[i]]))))\n",
    "            library(coin)                    # for oneway_test(), pvalue()\n",
    "            output[[i]] <- pvalue(oneway_test(DV ~ IV, distribution=approximate(batches)))\n",
    "            #output[[i]] <- pvalue(oneway_test(DV ~ IV, distribution=\"split-up\"\"))\n",
    "      \n",
    "            \n",
    "      \n",
    "            \n",
    "            }\n",
    "    \n",
    "\n",
    "    return(output)\n",
    "        \n",
    "    }"
   ]
  },
  {
   "cell_type": "code",
   "execution_count": 114,
   "metadata": {},
   "outputs": [],
   "source": [
    "def McCoin(A,B, batches):\n",
    "    x = pd.DataFrame(A, columns=list(range(A.shape[1]))).T\n",
    "    y = pd.DataFrame(B, columns=list(range(B.shape[1]))).T\n",
    "    n_samples = x.shape[1]\n",
    "    outputDf = pd.DataFrame(n_samples * [0], columns=[\"output\"]).T\n",
    "    \n",
    "    %R -i x\n",
    "    %R -i y\n",
    "    %R -i batches\n",
    "    %R -i outputDf\n",
    "    %R -i n_samples\n",
    "    \n",
    "    \n",
    "    %R out <- runMcCoin(x,y, batches, outputDf, n_samples)\n",
    "    \n",
    "    \n",
    "    %R -o out\n",
    "    return list(out.T[\"output\"].values)\n",
    "\n"
   ]
  },
  {
   "cell_type": "code",
   "execution_count": 115,
   "metadata": {},
   "outputs": [],
   "source": [
    "A = [np.array([ 41, 16, 73, 23, 44, 83, 76,  8, 35, 50, 96, 76, 86, 48, 64, 32, 91,\n",
    "       21, 38, 40, 68,  5, 43, 52, 39, 34, 59, 68, 70, 89, 69, 47, 71, 96,\n",
    "       84, 32, 67, 81, 53, 77, 51,  5, 91, 64, 80, 50, 40, 47,  9, 51, 16,\n",
    "        9, 18, 23, 74, 58, 91, 63, 84, 97, 44, 33, 27,  9, 77, 11, 41, 35,\n",
    "       61, 10, 71, 87, 71, 20, 57, 83,  2, 69, 41, 82, 62, 71, 98, 19, 85,\n",
    "       91, 88, 23, 44, 53, 75, 73, 91, 92, 97, 17, 56, 22, 44, 94])]\n",
    "\n",
    "B = [np.array([ 81, 41, 71, 75, 38, 60, 18, 16, 31, 78, 27, 40, 64, 21, 23, 60, 50,\n",
    "       28,  1, 63, 41, 59, 93, 37, 64, 76, 51, 74,  8, 50, 83,  2, 80, 92,\n",
    "       97, 50, 41, 47, 60, 74, 79, 95, 96, 33, 17, 22, 44, 59, 99, 22, 50,\n",
    "       64, 84, 93, 52, 98,  9, 87, 89, 12,  2, 44, 70, 60, 64,  8, 81, 93,\n",
    "       80, 18, 38, 58, 32, 35, 81, 43, 49, 37, 23, 20, 96, 18, 46, 73, 38,\n",
    "       10, 22, 37, 40, 84, 91, 37, 41, 20, 57,  9, 79, 50, 52, 28])]"
   ]
  },
  {
   "cell_type": "code",
   "execution_count": 116,
   "metadata": {},
   "outputs": [],
   "source": [
    "A,B = np.asarray(A), np.asarray(B)"
   ]
  },
  {
   "cell_type": "code",
   "execution_count": 117,
   "metadata": {},
   "outputs": [
    {
     "data": {
      "text/plain": [
       "(1, 100)"
      ]
     },
     "execution_count": 117,
     "metadata": {},
     "output_type": "execute_result"
    }
   ],
   "source": [
    "A.shape"
   ]
  },
  {
   "cell_type": "code",
   "execution_count": 118,
   "metadata": {},
   "outputs": [],
   "source": [
    "p_val_list5_2_coin = McCoin(A,B,100)"
   ]
  },
  {
   "cell_type": "code",
   "execution_count": 137,
   "metadata": {},
   "outputs": [],
   "source": [
    "def exactTest(A,B, batches, bins=10, one_side=False):\n",
    "    return pt.GreenFloatCuda(A,B,bins, batch_size=batches)\n",
    "    \n",
    "    \n",
    "def MWU(A, B, one_side=False):\n",
    "    p_mw = list()\n",
    "    for a,b in zip(A, B):\n",
    "        if one_side:\n",
    "            p_mw.append(mannwhitneyu(a,b, alternative=\"less\")[1])\n",
    "        else:\n",
    "            p_mw.append(mannwhitneyu(a,b, alternative=\"two-sided\")[1])\n",
    "    return p_mw\n",
    "\n",
    "def ttests(A,B, one_side=False):\n",
    "    p_t = list()\n",
    "    for x, y in zip(A, B):\n",
    "        t, p = ttest_ind(y, x)\n",
    "        if one_side:\n",
    "            p = p/2\n",
    "            if t<0:\n",
    "                p = 1-p\n",
    "        p_t.append(p)\n",
    "    return p_t"
   ]
  },
  {
   "cell_type": "code",
   "execution_count": 161,
   "metadata": {},
   "outputs": [],
   "source": [
    "def getPrediction(A,B):\n",
    "    Data = dict()\n",
    "    A,B = np.array(A), np.array(B)\n",
    "    Data[\"eList\"] = exactTest(A,B, int(A.shape[0]/200), 100, False)\n",
    "    Data[\"MC_1_000\"] = McCoin(A,B, 1_000)\n",
    "    Data[\"MC_10_000\"] = McCoin(A,B, 10_000)\n",
    "    Data[\"MC_100_000\"] = McCoin(A,B, 100_000)\n",
    "    Data[\"mwuList\"] = MWU(A, B, False)\n",
    "    Data[\"ttList\"] = ttests(A, B, False)\n",
    "    \n",
    "    \n",
    "                                                      \n",
    "    return Data\n",
    "\n",
    "    \n",
    "\n",
    "    "
   ]
  },
  {
   "cell_type": "markdown",
   "metadata": {},
   "source": [
    "# $A \\sim N(0,1)\\ and B \\sim N(0,1)$. $ |A|=20$ and $|B|=20$ with $2000$ samples."
   ]
  },
  {
   "cell_type": "code",
   "execution_count": 162,
   "metadata": {},
   "outputs": [],
   "source": [
    "def getSynteticData(func, setN=20, sampleN=2_000, mean=0, std=1,seed=1):\n",
    "    \"\"\"Generate synthetic data\"\"\"\n",
    "    np.random.seed(seed)\n",
    "    AN, BN = [func(mean,std,setN) for i in range(sampleN)], [func(0,std,setN) for i in range(sampleN)]\n",
    "    return AN, BN"
   ]
  },
  {
   "cell_type": "code",
   "execution_count": 163,
   "metadata": {},
   "outputs": [],
   "source": [
    "np.random.seed(10)\n",
    "S = 2_000_000"
   ]
  },
  {
   "cell_type": "code",
   "execution_count": null,
   "metadata": {},
   "outputs": [
    {
     "name": "stdout",
     "output_type": "stream",
     "text": [
      "(2000000, 20)\n"
     ]
    }
   ],
   "source": [
    "AN, BN = getSynteticData(np.random.normal,mean=0,sampleN=S)\n",
    "%time DataNormNoDiff = getPrediction(AN, BN)"
   ]
  },
  {
   "cell_type": "code",
   "execution_count": 159,
   "metadata": {},
   "outputs": [],
   "source": [
    "def getdf(P, num_examples, test=None):\n",
    "    P.sort()\n",
    "    p_arr = np.array(P)\n",
    "    offset = 1.0/float(num_examples)\n",
    "    ideal_arr = np.linspace(offset,1.0-offset,num_examples)\n",
    "    if test:\n",
    "        Pdf = pd.DataFrame({'Observed p-value':p_arr,'Theoretical p-value':ideal_arr, \"Test\":[test]*ideal_arr.shape[0]})\n",
    "    return Pdf"
   ]
  },
  {
   "cell_type": "code",
   "execution_count": 160,
   "metadata": {},
   "outputs": [
    {
     "ename": "ValueError",
     "evalue": "arrays must all be same length",
     "output_type": "error",
     "traceback": [
      "\u001b[0;31m---------------------------------------------------------------------------\u001b[0m",
      "\u001b[0;31mValueError\u001b[0m                                Traceback (most recent call last)",
      "\u001b[0;32m<ipython-input-160-5cb08d0b91a4>\u001b[0m in \u001b[0;36m<module>\u001b[0;34m\u001b[0m\n\u001b[0;32m----> 1\u001b[0;31m \u001b[0mnormMC_1_000_Df\u001b[0m \u001b[0;34m=\u001b[0m \u001b[0mgetdf\u001b[0m\u001b[0;34m(\u001b[0m\u001b[0mDataNormNoDiff\u001b[0m\u001b[0;34m[\u001b[0m\u001b[0;34m\"MC_1_000\"\u001b[0m\u001b[0;34m]\u001b[0m\u001b[0;34m,\u001b[0m \u001b[0mS\u001b[0m\u001b[0;34m,\u001b[0m \u001b[0;34m\"Coin Monte Carlo, b=1000\"\u001b[0m\u001b[0;34m)\u001b[0m\u001b[0;34m\u001b[0m\u001b[0;34m\u001b[0m\u001b[0m\n\u001b[0m\u001b[1;32m      2\u001b[0m \u001b[0mnormMC_10_000_Df\u001b[0m \u001b[0;34m=\u001b[0m \u001b[0mgetdf\u001b[0m\u001b[0;34m(\u001b[0m\u001b[0mDataNormNoDiff\u001b[0m\u001b[0;34m[\u001b[0m\u001b[0;34m\"MC_10_000\"\u001b[0m\u001b[0;34m]\u001b[0m\u001b[0;34m,\u001b[0m \u001b[0mS\u001b[0m\u001b[0;34m,\u001b[0m \u001b[0;34m\"Coin Monte Carlo, b=10000\"\u001b[0m\u001b[0;34m)\u001b[0m\u001b[0;34m\u001b[0m\u001b[0;34m\u001b[0m\u001b[0m\n\u001b[1;32m      3\u001b[0m \u001b[0mnormMC_100_000_Df\u001b[0m \u001b[0;34m=\u001b[0m \u001b[0mgetdf\u001b[0m\u001b[0;34m(\u001b[0m\u001b[0mDataNormNoDiff\u001b[0m\u001b[0;34m[\u001b[0m\u001b[0;34m\"MC_100_000\"\u001b[0m\u001b[0;34m]\u001b[0m\u001b[0;34m,\u001b[0m \u001b[0mS\u001b[0m\u001b[0;34m,\u001b[0m \u001b[0;34m\"Coin Monte Carlo, b=100000\"\u001b[0m\u001b[0;34m)\u001b[0m\u001b[0;34m\u001b[0m\u001b[0;34m\u001b[0m\u001b[0m\n\u001b[1;32m      4\u001b[0m \u001b[0mnormexactDf\u001b[0m \u001b[0;34m=\u001b[0m \u001b[0mgetdf\u001b[0m\u001b[0;34m(\u001b[0m\u001b[0mDataNormNoDiff\u001b[0m\u001b[0;34m[\u001b[0m\u001b[0;34m\"eList\"\u001b[0m\u001b[0;34m]\u001b[0m\u001b[0;34m,\u001b[0m \u001b[0mS\u001b[0m\u001b[0;34m,\u001b[0m \u001b[0;34m\"Parallel Green\"\u001b[0m\u001b[0;34m)\u001b[0m\u001b[0;34m\u001b[0m\u001b[0;34m\u001b[0m\u001b[0m\n\u001b[1;32m      5\u001b[0m \u001b[0mnormttDf\u001b[0m \u001b[0;34m=\u001b[0m \u001b[0mgetdf\u001b[0m\u001b[0;34m(\u001b[0m\u001b[0mDataNormNoDiff\u001b[0m\u001b[0;34m[\u001b[0m\u001b[0;34m\"ttList\"\u001b[0m\u001b[0;34m]\u001b[0m\u001b[0;34m,\u001b[0m \u001b[0mS\u001b[0m\u001b[0;34m,\u001b[0m \u001b[0;34m\"$\\it{T}$ test\"\u001b[0m\u001b[0;34m)\u001b[0m\u001b[0;34m\u001b[0m\u001b[0;34m\u001b[0m\u001b[0m\n",
      "\u001b[0;32m<ipython-input-159-ba010fa26727>\u001b[0m in \u001b[0;36mgetdf\u001b[0;34m(P, num_examples, test)\u001b[0m\n\u001b[1;32m      5\u001b[0m     \u001b[0mideal_arr\u001b[0m \u001b[0;34m=\u001b[0m \u001b[0mnp\u001b[0m\u001b[0;34m.\u001b[0m\u001b[0mlinspace\u001b[0m\u001b[0;34m(\u001b[0m\u001b[0moffset\u001b[0m\u001b[0;34m,\u001b[0m\u001b[0;36m1.0\u001b[0m\u001b[0;34m-\u001b[0m\u001b[0moffset\u001b[0m\u001b[0;34m,\u001b[0m\u001b[0mnum_examples\u001b[0m\u001b[0;34m)\u001b[0m\u001b[0;34m\u001b[0m\u001b[0;34m\u001b[0m\u001b[0m\n\u001b[1;32m      6\u001b[0m     \u001b[0;32mif\u001b[0m \u001b[0mtest\u001b[0m\u001b[0;34m:\u001b[0m\u001b[0;34m\u001b[0m\u001b[0;34m\u001b[0m\u001b[0m\n\u001b[0;32m----> 7\u001b[0;31m         \u001b[0mPdf\u001b[0m \u001b[0;34m=\u001b[0m \u001b[0mpd\u001b[0m\u001b[0;34m.\u001b[0m\u001b[0mDataFrame\u001b[0m\u001b[0;34m(\u001b[0m\u001b[0;34m{\u001b[0m\u001b[0;34m'Observed p-value'\u001b[0m\u001b[0;34m:\u001b[0m\u001b[0mp_arr\u001b[0m\u001b[0;34m,\u001b[0m\u001b[0;34m'Theoretical p-value'\u001b[0m\u001b[0;34m:\u001b[0m\u001b[0mideal_arr\u001b[0m\u001b[0;34m,\u001b[0m \u001b[0;34m\"Test\"\u001b[0m\u001b[0;34m:\u001b[0m\u001b[0;34m[\u001b[0m\u001b[0mtest\u001b[0m\u001b[0;34m]\u001b[0m\u001b[0;34m*\u001b[0m\u001b[0mideal_arr\u001b[0m\u001b[0;34m.\u001b[0m\u001b[0mshape\u001b[0m\u001b[0;34m[\u001b[0m\u001b[0;36m0\u001b[0m\u001b[0;34m]\u001b[0m\u001b[0;34m}\u001b[0m\u001b[0;34m)\u001b[0m\u001b[0;34m\u001b[0m\u001b[0;34m\u001b[0m\u001b[0m\n\u001b[0m\u001b[1;32m      8\u001b[0m     \u001b[0;32mreturn\u001b[0m \u001b[0mPdf\u001b[0m\u001b[0;34m\u001b[0m\u001b[0;34m\u001b[0m\u001b[0m\n",
      "\u001b[0;32m~/anaconda3/envs/terran3/lib/python3.6/site-packages/pandas/core/frame.py\u001b[0m in \u001b[0;36m__init__\u001b[0;34m(self, data, index, columns, dtype, copy)\u001b[0m\n\u001b[1;32m    433\u001b[0m             )\n\u001b[1;32m    434\u001b[0m         \u001b[0;32melif\u001b[0m \u001b[0misinstance\u001b[0m\u001b[0;34m(\u001b[0m\u001b[0mdata\u001b[0m\u001b[0;34m,\u001b[0m \u001b[0mdict\u001b[0m\u001b[0;34m)\u001b[0m\u001b[0;34m:\u001b[0m\u001b[0;34m\u001b[0m\u001b[0;34m\u001b[0m\u001b[0m\n\u001b[0;32m--> 435\u001b[0;31m             \u001b[0mmgr\u001b[0m \u001b[0;34m=\u001b[0m \u001b[0minit_dict\u001b[0m\u001b[0;34m(\u001b[0m\u001b[0mdata\u001b[0m\u001b[0;34m,\u001b[0m \u001b[0mindex\u001b[0m\u001b[0;34m,\u001b[0m \u001b[0mcolumns\u001b[0m\u001b[0;34m,\u001b[0m \u001b[0mdtype\u001b[0m\u001b[0;34m=\u001b[0m\u001b[0mdtype\u001b[0m\u001b[0;34m)\u001b[0m\u001b[0;34m\u001b[0m\u001b[0;34m\u001b[0m\u001b[0m\n\u001b[0m\u001b[1;32m    436\u001b[0m         \u001b[0;32melif\u001b[0m \u001b[0misinstance\u001b[0m\u001b[0;34m(\u001b[0m\u001b[0mdata\u001b[0m\u001b[0;34m,\u001b[0m \u001b[0mma\u001b[0m\u001b[0;34m.\u001b[0m\u001b[0mMaskedArray\u001b[0m\u001b[0;34m)\u001b[0m\u001b[0;34m:\u001b[0m\u001b[0;34m\u001b[0m\u001b[0;34m\u001b[0m\u001b[0m\n\u001b[1;32m    437\u001b[0m             \u001b[0;32mimport\u001b[0m \u001b[0mnumpy\u001b[0m\u001b[0;34m.\u001b[0m\u001b[0mma\u001b[0m\u001b[0;34m.\u001b[0m\u001b[0mmrecords\u001b[0m \u001b[0;32mas\u001b[0m \u001b[0mmrecords\u001b[0m\u001b[0;34m\u001b[0m\u001b[0;34m\u001b[0m\u001b[0m\n",
      "\u001b[0;32m~/anaconda3/envs/terran3/lib/python3.6/site-packages/pandas/core/internals/construction.py\u001b[0m in \u001b[0;36minit_dict\u001b[0;34m(data, index, columns, dtype)\u001b[0m\n\u001b[1;32m    252\u001b[0m             \u001b[0marr\u001b[0m \u001b[0;32mif\u001b[0m \u001b[0;32mnot\u001b[0m \u001b[0mis_datetime64tz_dtype\u001b[0m\u001b[0;34m(\u001b[0m\u001b[0marr\u001b[0m\u001b[0;34m)\u001b[0m \u001b[0;32melse\u001b[0m \u001b[0marr\u001b[0m\u001b[0;34m.\u001b[0m\u001b[0mcopy\u001b[0m\u001b[0;34m(\u001b[0m\u001b[0;34m)\u001b[0m \u001b[0;32mfor\u001b[0m \u001b[0marr\u001b[0m \u001b[0;32min\u001b[0m \u001b[0marrays\u001b[0m\u001b[0;34m\u001b[0m\u001b[0;34m\u001b[0m\u001b[0m\n\u001b[1;32m    253\u001b[0m         ]\n\u001b[0;32m--> 254\u001b[0;31m     \u001b[0;32mreturn\u001b[0m \u001b[0marrays_to_mgr\u001b[0m\u001b[0;34m(\u001b[0m\u001b[0marrays\u001b[0m\u001b[0;34m,\u001b[0m \u001b[0mdata_names\u001b[0m\u001b[0;34m,\u001b[0m \u001b[0mindex\u001b[0m\u001b[0;34m,\u001b[0m \u001b[0mcolumns\u001b[0m\u001b[0;34m,\u001b[0m \u001b[0mdtype\u001b[0m\u001b[0;34m=\u001b[0m\u001b[0mdtype\u001b[0m\u001b[0;34m)\u001b[0m\u001b[0;34m\u001b[0m\u001b[0;34m\u001b[0m\u001b[0m\n\u001b[0m\u001b[1;32m    255\u001b[0m \u001b[0;34m\u001b[0m\u001b[0m\n\u001b[1;32m    256\u001b[0m \u001b[0;34m\u001b[0m\u001b[0m\n",
      "\u001b[0;32m~/anaconda3/envs/terran3/lib/python3.6/site-packages/pandas/core/internals/construction.py\u001b[0m in \u001b[0;36marrays_to_mgr\u001b[0;34m(arrays, arr_names, index, columns, dtype)\u001b[0m\n\u001b[1;32m     62\u001b[0m     \u001b[0;31m# figure out the index, if necessary\u001b[0m\u001b[0;34m\u001b[0m\u001b[0;34m\u001b[0m\u001b[0;34m\u001b[0m\u001b[0m\n\u001b[1;32m     63\u001b[0m     \u001b[0;32mif\u001b[0m \u001b[0mindex\u001b[0m \u001b[0;32mis\u001b[0m \u001b[0;32mNone\u001b[0m\u001b[0;34m:\u001b[0m\u001b[0;34m\u001b[0m\u001b[0;34m\u001b[0m\u001b[0m\n\u001b[0;32m---> 64\u001b[0;31m         \u001b[0mindex\u001b[0m \u001b[0;34m=\u001b[0m \u001b[0mextract_index\u001b[0m\u001b[0;34m(\u001b[0m\u001b[0marrays\u001b[0m\u001b[0;34m)\u001b[0m\u001b[0;34m\u001b[0m\u001b[0;34m\u001b[0m\u001b[0m\n\u001b[0m\u001b[1;32m     65\u001b[0m     \u001b[0;32melse\u001b[0m\u001b[0;34m:\u001b[0m\u001b[0;34m\u001b[0m\u001b[0;34m\u001b[0m\u001b[0m\n\u001b[1;32m     66\u001b[0m         \u001b[0mindex\u001b[0m \u001b[0;34m=\u001b[0m \u001b[0mensure_index\u001b[0m\u001b[0;34m(\u001b[0m\u001b[0mindex\u001b[0m\u001b[0;34m)\u001b[0m\u001b[0;34m\u001b[0m\u001b[0;34m\u001b[0m\u001b[0m\n",
      "\u001b[0;32m~/anaconda3/envs/terran3/lib/python3.6/site-packages/pandas/core/internals/construction.py\u001b[0m in \u001b[0;36mextract_index\u001b[0;34m(data)\u001b[0m\n\u001b[1;32m    363\u001b[0m             \u001b[0mlengths\u001b[0m \u001b[0;34m=\u001b[0m \u001b[0mlist\u001b[0m\u001b[0;34m(\u001b[0m\u001b[0mset\u001b[0m\u001b[0;34m(\u001b[0m\u001b[0mraw_lengths\u001b[0m\u001b[0;34m)\u001b[0m\u001b[0;34m)\u001b[0m\u001b[0;34m\u001b[0m\u001b[0;34m\u001b[0m\u001b[0m\n\u001b[1;32m    364\u001b[0m             \u001b[0;32mif\u001b[0m \u001b[0mlen\u001b[0m\u001b[0;34m(\u001b[0m\u001b[0mlengths\u001b[0m\u001b[0;34m)\u001b[0m \u001b[0;34m>\u001b[0m \u001b[0;36m1\u001b[0m\u001b[0;34m:\u001b[0m\u001b[0;34m\u001b[0m\u001b[0;34m\u001b[0m\u001b[0m\n\u001b[0;32m--> 365\u001b[0;31m                 \u001b[0;32mraise\u001b[0m \u001b[0mValueError\u001b[0m\u001b[0;34m(\u001b[0m\u001b[0;34m\"arrays must all be same length\"\u001b[0m\u001b[0;34m)\u001b[0m\u001b[0;34m\u001b[0m\u001b[0;34m\u001b[0m\u001b[0m\n\u001b[0m\u001b[1;32m    366\u001b[0m \u001b[0;34m\u001b[0m\u001b[0m\n\u001b[1;32m    367\u001b[0m             \u001b[0;32mif\u001b[0m \u001b[0mhave_dicts\u001b[0m\u001b[0;34m:\u001b[0m\u001b[0;34m\u001b[0m\u001b[0;34m\u001b[0m\u001b[0m\n",
      "\u001b[0;31mValueError\u001b[0m: arrays must all be same length"
     ]
    }
   ],
   "source": [
    "normMC_1_000_Df = getdf(DataNormNoDiff[\"MC_1_000\"], S, \"Coin Monte Carlo, b=1000\")\n",
    "normMC_10_000_Df = getdf(DataNormNoDiff[\"MC_10_000\"], S, \"Coin Monte Carlo, b=10000\")\n",
    "normMC_100_000_Df = getdf(DataNormNoDiff[\"MC_100_000\"], S, \"Coin Monte Carlo, b=100000\")\n",
    "normexactDf = getdf(DataNormNoDiff[\"eList\"], S, \"Parallel Green\")\n",
    "normttDf = getdf(DataNormNoDiff[\"ttList\"], S, \"$\\it{T}$ test\")\n",
    "normmwuDf = getdf(DataNormNoDiff[\"mwuList\"], S, \"Mann–Whitney $\\it{U}$ test\")"
   ]
  },
  {
   "cell_type": "code",
   "execution_count": null,
   "metadata": {},
   "outputs": [],
   "source": [
    "def multiple_plot(df, save_name):\n",
    "    sns.set(style=\"white\")\n",
    "    sns.set_context(\"talk\")\n",
    "    low = min(df[\"Theoretical p-value\"])/2\n",
    "    hi = max(df[\"Theoretical p-value\"])\n",
    "    g=sns.lmplot(x='Theoretical p-value', y ='Observed p-value', data=df, \n",
    "                  fit_reg=False, height=7, truncate=True, scatter_kws={\"s\": 15}, hue=\"Test\")\n",
    "    \n",
    "    g.set(xscale=\"log\", yscale=\"log\")\n",
    "    g._legend.remove()\n",
    "\n",
    "\n",
    "    plt.xlabel(r'Theoretical $\\it{p}$ value', fontsize=24)\n",
    "    plt.ylabel(r'Observed $\\it{p}$ value', fontsize=24)\n",
    "    \n",
    "    axes = g.axes\n",
    "    g.set(ylim=(low,hi), xlim=(low,hi))\n",
    "    plt.plot([low,hi],[low,hi], \"k\", linewidth=1)\n",
    "    plt.plot([2 * low,2 * hi],[low,hi], \"--k\", linewidth=1)\n",
    "    plt.plot([low / 2,hi / 2],[low,hi], \"--k\", linewidth=1)\n",
    "    sns.set_style(\"ticks\")\n",
    "    sns.despine()\n",
    "    g.fig.tight_layout()\n",
    "    \n",
    "    \n",
    "    plt.legend().set_title('')\n",
    "    plt.legend(loc=2,prop={'size': 24})\n",
    "    plt.xticks(size = 24)\n",
    "    plt.yticks(size = 24)\n",
    "\n",
    "\n",
    "    \n",
    "    g.savefig(save_name)"
   ]
  },
  {
   "cell_type": "code",
   "execution_count": null,
   "metadata": {},
   "outputs": [],
   "source": [
    "import seaborn as sns\n",
    "import matplotlib.pyplot as plt"
   ]
  },
  {
   "cell_type": "code",
   "execution_count": null,
   "metadata": {},
   "outputs": [],
   "source": [
    "multiple_plot(pd.concat((normMC_1_000_Df, normMC_10_000_Df, normMC_100_000_Df,normexactDf, normttDf, normmwuDf)), \"./figures/experiemnt5/allTests_0_1_50\")\n",
    "              \n",
    "              "
   ]
  },
  {
   "cell_type": "markdown",
   "metadata": {},
   "source": [
    "# $A \\sim logN(0,1)\\ and B \\sim logN(0,1)$. $ |A|=20$ and $|B|=20$ with $2000$ samples."
   ]
  },
  {
   "cell_type": "code",
   "execution_count": null,
   "metadata": {},
   "outputs": [],
   "source": [
    "AN, BN = getSynteticData(np.random.lognormal, mean=0, sampleN=S)\n",
    "DataLogNormNonDiff = getPrediction(AN, BN)"
   ]
  },
  {
   "cell_type": "code",
   "execution_count": null,
   "metadata": {},
   "outputs": [],
   "source": [
    "logfpDf = getdf(DataLogNormNonDiff[\"fpList\"], S, \"FastPerm\")\n",
    "logexactDf = getdf(DataLogNormNonDiff[\"eList\"], S, \"Parallel Green\")\n",
    "logttDf = getdf(DataLogNormNonDiff[\"ttList\"], S, \"$\\it{T}$ test\")\n",
    "logmwuDf = getdf(DataLogNormNonDiff[\"mwuList\"], S, \"Mann–Whitney $\\it{U}$ test\")"
   ]
  },
  {
   "cell_type": "code",
   "execution_count": null,
   "metadata": {},
   "outputs": [],
   "source": [
    "multiple_plot(pd.concat((logfpDf, logexactDf, logttDf, logmwuDf)), \"figures/calibration/allTestsLog_0_1_50\")\n"
   ]
  },
  {
   "cell_type": "code",
   "execution_count": null,
   "metadata": {},
   "outputs": [],
   "source": []
  }
 ],
 "metadata": {
  "kernelspec": {
   "display_name": "Python (terran3)",
   "language": "python",
   "name": "terran3"
  },
  "language_info": {
   "codemirror_mode": {
    "name": "ipython",
    "version": 3
   },
   "file_extension": ".py",
   "mimetype": "text/x-python",
   "name": "python",
   "nbconvert_exporter": "python",
   "pygments_lexer": "ipython3",
   "version": "3.6.10"
  }
 },
 "nbformat": 4,
 "nbformat_minor": 2
}
