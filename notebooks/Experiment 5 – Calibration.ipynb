{
 "cells": [
  {
   "cell_type": "code",
   "execution_count": 1,
   "metadata": {},
   "outputs": [],
   "source": [
    "import numpy as np\n",
    "import pandas as pd\n",
    "import time\n",
    "import permutationTest as ppt\n",
    "from scipy.stats import ttest_ind, mannwhitneyu"
   ]
  },
  {
   "cell_type": "code",
   "execution_count": null,
   "metadata": {},
   "outputs": [],
   "source": [
    "%load_ext cython\n",
    "%load_ext rpy2.ipython"
   ]
  },
  {
   "cell_type": "code",
   "execution_count": null,
   "metadata": {},
   "outputs": [],
   "source": [
    "%%R\n",
    "\n",
    "install.packages(\"coin\")\n",
    "\n",
    "install.packages(\"ggplot2\")\n",
    "\n",
    "install.packages(\"perm\")\n",
    "\n",
    "install.packages(\"exactRankTests\")\n",
    "\n",
    "\n",
    "library(ggplot2)\n",
    "library(coin)"
   ]
  },
  {
   "cell_type": "code",
   "execution_count": null,
   "metadata": {},
   "outputs": [],
   "source": [
    "%%R\n",
    "    runMcCoin <- function(x,y,batches,output,n_samples) {\n",
    "       e <- list(mode=\"vector\",length=n_samples)\n",
    "        for (i in 1:n_samples) {\n",
    "            \n",
    "            DV <- c(x[[i]], y[[i]])\n",
    "            IV <- factor(rep(c(\"A\", \"B\"), c(length(x[[i]]), length(y[[i]]))))\n",
    "                    # for oneway_test(), pvalue()\n",
    "            output[[i]] <- pvalue(oneway_test(DV ~ IV, distribution=approximate(batches)))\n",
    "            #output[[i]] <- pvalue(oneway_test(DV ~ IV, distribution=\"split-up\"\"))\n",
    "      \n",
    "            \n",
    "      \n",
    "            \n",
    "            }\n",
    "    \n",
    "\n",
    "    return(output)\n",
    "        \n",
    "    }"
   ]
  },
  {
   "cell_type": "code",
   "execution_count": null,
   "metadata": {},
   "outputs": [],
   "source": [
    "def McCoin(A,B, batches):\n",
    "    x = pd.DataFrame(A, columns=list(range(A.shape[1]))).T\n",
    "    y = pd.DataFrame(B, columns=list(range(B.shape[1]))).T\n",
    "    n_samples = x.shape[1]\n",
    "    outputDf = pd.DataFrame(n_samples * [0], columns=[\"output\"]).T\n",
    "    \n",
    "    %R -i x\n",
    "    %R -i y\n",
    "    %R -i batches\n",
    "    %R -i outputDf\n",
    "    %R -i n_samples\n",
    "    \n",
    "    \n",
    "    %R out <- runMcCoin(x,y, batches, outputDf, n_samples)\n",
    "    \n",
    "    \n",
    "    %R -o out\n",
    "    return list(out.T[\"output\"].values)\n",
    "\n"
   ]
  },
  {
   "cell_type": "code",
   "execution_count": null,
   "metadata": {},
   "outputs": [],
   "source": [
    "def exactTest(A,B, batches, bins=10, one_side=False):\n",
    "    return pt.GreenFloatCuda(A,B,bins, batch_size=batches)\n",
    "    \n",
    "    \n",
    "def MWU(A, B, one_side=False):\n",
    "    p_mw = list()\n",
    "    for a,b in zip(A, B):\n",
    "        if one_side:\n",
    "            p_mw.append(mannwhitneyu(a,b, alternative=\"less\")[1])\n",
    "        else:\n",
    "            p_mw.append(mannwhitneyu(a,b, alternative=\"two-sided\")[1])\n",
    "    return p_mw\n",
    "\n",
    "def ttests(A,B, one_side=False):\n",
    "    p_t = list()\n",
    "    for x, y in zip(A, B):\n",
    "        t, p = ttest_ind(y, x)\n",
    "        if one_side:\n",
    "            p = p/2\n",
    "            if t<0:\n",
    "                p = 1-p\n",
    "        p_t.append(p)\n",
    "    return p_t"
   ]
  },
  {
   "cell_type": "code",
   "execution_count": null,
   "metadata": {},
   "outputs": [],
   "source": [
    "def getPrediction(A,B):\n",
    "    Data = dict()\n",
    "    A,B = np.array(A), np.array(B)\n",
    "    Data[\"eList\"] = exactTest(A,B, int(A.shape[0]/500), 100, False)\n",
    "    Data[\"MC_1_000\"] = McCoin(A,B, 1_000)\n",
    "    Data[\"MC_10_000\"] = McCoin(A,B, 10_000)\n",
    "    Data[\"MC_100_000\"] = McCoin(A,B, 100_000)\n",
    "    Data[\"MC_200_000\"] = McCoin(A,B, 200_000)\n",
    "    Data[\"mwuList\"] = MWU(A, B, False)\n",
    "    Data[\"ttList\"] = ttests(A, B, False)\n",
    "    \n",
    "    \n",
    "                                                      \n",
    "    return Data\n",
    "\n",
    "    \n",
    "\n",
    "    "
   ]
  },
  {
   "cell_type": "markdown",
   "metadata": {},
   "source": [
    "# $A \\sim N(0,1)\\ and B \\sim N(0,1)$. $ |A|=20$ and $|B|=20$ with $2000$ samples."
   ]
  },
  {
   "cell_type": "code",
   "execution_count": null,
   "metadata": {},
   "outputs": [],
   "source": [
    "def getSynteticData(func, setN=20, sampleN=2_000, mean=0, std=1,seed=1):\n",
    "    \"\"\"Generate synthetic data\"\"\"\n",
    "    np.random.seed(seed)\n",
    "    AN, BN = [func(mean,std,setN) for i in range(sampleN)], [func(0,std,setN) for i in range(sampleN)]\n",
    "    return AN, BN"
   ]
  },
  {
   "cell_type": "code",
   "execution_count": null,
   "metadata": {},
   "outputs": [],
   "source": [
    "S = 200_000"
   ]
  },
  {
   "cell_type": "code",
   "execution_count": null,
   "metadata": {},
   "outputs": [],
   "source": [
    "AN, BN = getSynteticData(np.random.normal,mean=0,sampleN=S)\n",
    "%time DataNormNoDiff = getPrediction(AN, BN)"
   ]
  },
  {
   "cell_type": "code",
   "execution_count": null,
   "metadata": {},
   "outputs": [],
   "source": [
    "def getdf(P, num_examples, test=None):\n",
    "    P.sort()\n",
    "    p_arr = np.array(P)\n",
    "    offset = 1.0/float(num_examples)\n",
    "    ideal_arr = np.linspace(offset,1.0-offset,num_examples)\n",
    "    if test:\n",
    "        Pdf = pd.DataFrame({'Observed p-value':p_arr,'Theoretical p-value':ideal_arr, \"Test\":[test]*ideal_arr.shape[0]})\n",
    "    return Pdf"
   ]
  },
  {
   "cell_type": "code",
   "execution_count": null,
   "metadata": {},
   "outputs": [],
   "source": [
    "normMC_1_000_Df = getdf(DataNormNoDiff[\"MC_1_000\"], S, \"Coin Monte Carlo, b=1000\")\n",
    "normMC_10_000_Df = getdf(DataNormNoDiff[\"MC_10_000\"], S, \"Coin Monte Carlo, b=10000\")\n",
    "normMC_100_000_Df = getdf(DataNormNoDiff[\"MC_100_000\"], S, \"Coin Monte Carlo, b=100000\")\n",
    "normMC_200_000_Df = getdf(DataNormNoDiff[\"MC_100_000\"], S, \"Coin Monte Carlo, b=200000\")\n",
    "normexactDf = getdf(DataNormNoDiff[\"eList\"], S, \"Parallel Green\")\n",
    "normttDf = getdf(DataNormNoDiff[\"ttList\"], S, \"$\\it{T}$ test\")\n",
    "normmwuDf = getdf(DataNormNoDiff[\"mwuList\"], S, \"Mann–Whitney $\\it{U}$ test\")"
   ]
  },
  {
   "cell_type": "code",
   "execution_count": null,
   "metadata": {},
   "outputs": [],
   "source": [
    "def multiple_plot(df, save_name):\n",
    "    sns.set(style=\"white\")\n",
    "    sns.set_context(\"talk\")\n",
    "    low = min(df[\"Theoretical p-value\"])/2\n",
    "    hi = max(df[\"Theoretical p-value\"])\n",
    "    g=sns.lmplot(x='Theoretical p-value', y ='Observed p-value', data=df, \n",
    "                  fit_reg=False, height=7, truncate=True, scatter_kws={\"s\": 15}, hue=\"Test\")\n",
    "    \n",
    "    g.set(xscale=\"log\", yscale=\"log\")\n",
    "    g._legend.remove()\n",
    "\n",
    "\n",
    "    plt.xlabel(r'Theoretical $\\it{p}$ value', fontsize=24)\n",
    "    plt.ylabel(r'Observed $\\it{p}$ value', fontsize=24)\n",
    "    \n",
    "    axes = g.axes\n",
    "    g.set(ylim=(low,hi), xlim=(low,hi))\n",
    "    plt.plot([low,hi],[low,hi], \"k\", linewidth=1)\n",
    "    plt.plot([2 * low,2 * hi],[low,hi], \"--k\", linewidth=1)\n",
    "    plt.plot([low / 2,hi / 2],[low,hi], \"--k\", linewidth=1)\n",
    "    sns.set_style(\"ticks\")\n",
    "    sns.despine()\n",
    "    g.fig.tight_layout()\n",
    "    \n",
    "    \n",
    "    plt.legend().set_title('')\n",
    "    plt.legend(loc=2,prop={'size': 24})\n",
    "    plt.xticks(size = 24)\n",
    "    plt.yticks(size = 24)\n",
    "\n",
    "\n",
    "    \n",
    "    g.savefig(save_name)"
   ]
  },
  {
   "cell_type": "code",
   "execution_count": null,
   "metadata": {},
   "outputs": [],
   "source": [
    "import seaborn as sns\n",
    "import matplotlib.pyplot as plt"
   ]
  },
  {
   "cell_type": "code",
   "execution_count": null,
   "metadata": {},
   "outputs": [],
   "source": [
    "multiple_plot(pd.concat((normMC_1_000_Df, normMC_10_000_Df, normMC_100_000_Df,normexactDf, normttDf, normmwuDf)), \"./figures/experiemnt5/allTests_0_1_50\")\n",
    "              \n",
    "              "
   ]
  },
  {
   "cell_type": "markdown",
   "metadata": {},
   "source": [
    "# $A \\sim logN(0,1)\\ and B \\sim logN(0,1)$. $ |A|=20$ and $|B|=20$ with $2000$ samples."
   ]
  },
  {
   "cell_type": "code",
   "execution_count": null,
   "metadata": {},
   "outputs": [],
   "source": [
    "AN, BN = getSynteticData(np.random.lognormal, mean=0, sampleN=S)\n",
    "DataLogNormNonDiff = getPrediction(AN, BN)"
   ]
  },
  {
   "cell_type": "code",
   "execution_count": null,
   "metadata": {},
   "outputs": [],
   "source": [
    "logfpDf = getdf(DataLogNormNonDiff[\"fpList\"], S, \"FastPerm\")\n",
    "logexactDf = getdf(DataLogNormNonDiff[\"eList\"], S, \"Parallel Green\")\n",
    "logttDf = getdf(DataLogNormNonDiff[\"ttList\"], S, \"$\\it{T}$ test\")\n",
    "logmwuDf = getdf(DataLogNormNonDiff[\"mwuList\"], S, \"Mann–Whitney $\\it{U}$ test\")"
   ]
  },
  {
   "cell_type": "code",
   "execution_count": null,
   "metadata": {},
   "outputs": [],
   "source": [
    "multiple_plot(pd.concat((logfpDf, logexactDf, logttDf, logmwuDf)), \"figures/calibration/allTestsLog_0_1_50\")\n"
   ]
  },
  {
   "cell_type": "code",
   "execution_count": null,
   "metadata": {},
   "outputs": [],
   "source": []
  }
 ],
 "metadata": {
  "kernelspec": {
   "display_name": "Python (gensim)",
   "language": "python",
   "name": "gensim"
  },
  "language_info": {
   "codemirror_mode": {
    "name": "ipython",
    "version": 3
   },
   "file_extension": ".py",
   "mimetype": "text/x-python",
   "name": "python",
   "nbconvert_exporter": "python",
   "pygments_lexer": "ipython3",
   "version": "3.6.10"
  }
 },
 "nbformat": 4,
 "nbformat_minor": 2
}
