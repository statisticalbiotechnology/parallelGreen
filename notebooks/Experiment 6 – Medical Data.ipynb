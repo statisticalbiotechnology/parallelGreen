{
 "cells": [
  {
   "cell_type": "code",
   "execution_count": 1,
   "metadata": {},
   "outputs": [],
   "source": [
    "import numpy as np\n",
    "import pandas as pd\n",
    "import time\n",
    "import parallelPermutationTest as ppt\n",
    "from scipy.stats import ttest_ind, mannwhitneyu"
   ]
  },
  {
   "cell_type": "code",
   "execution_count": null,
   "metadata": {},
   "outputs": [],
   "source": [
    "%load_ext cython\n",
    "%load_ext rpy2.ipython"
   ]
  },
  {
   "cell_type": "code",
   "execution_count": null,
   "metadata": {},
   "outputs": [],
   "source": [
    "%%R\n",
    "\n",
    "install.packages(\"coin\")\n",
    "\n",
    "install.packages(\"ggplot2\")\n",
    "\n",
    "install.packages(\"perm\")\n",
    "\n",
    "install.packages(\"exactRankTests\")\n",
    "\n",
    "\n",
    "library(ggplot2)\n",
    "library(coin)"
   ]
  },
  {
   "cell_type": "code",
   "execution_count": null,
   "metadata": {},
   "outputs": [],
   "source": [
    "url = \"https://static-content.springer.com/esm/art%3A10.1038%2Fnature18003/MediaObjects/41586_2016_BFnature18003_MOESM111_ESM.zip\"\n",
    "!mkdir \"data/\"\n",
    "!wget -P \"data/\" \"https://static-content.springer.com/esm/art%3A10.1038%2Fnature18003/MediaObjects/41586_2016_BFnature18003_MOESM111_ESM.zip\"\n",
    "!unzip \"./data/41586_2016_BFnature18003_MOESM111_ESM.zip\" -d \"./data/\""
   ]
  },
  {
   "cell_type": "code",
   "execution_count": null,
   "metadata": {},
   "outputs": [],
   "source": [
    "path = \"./data/nature18003-s2/\"\n",
    "T1 = pd.read_excel(path + \"CPTAC_BC_SupplementaryTable01.xlsx\")\n",
    "T3 = pd.read_excel(path + \"CPTAC_BC_SupplementaryTable03.xlsx\")"
   ]
  },
  {
   "cell_type": "markdown",
   "metadata": {},
   "source": [
    "## Extract important column headings"
   ]
  },
  {
   "cell_type": "code",
   "execution_count": null,
   "metadata": {},
   "outputs": [],
   "source": [
    "paiteint_id = T1.columns[0]\n",
    "stats_col = T1.columns[5: 5 + 3]"
   ]
  },
  {
   "cell_type": "markdown",
   "metadata": {},
   "source": [
    "### Patient column  "
   ]
  },
  {
   "cell_type": "code",
   "execution_count": null,
   "metadata": {},
   "outputs": [],
   "source": [
    "paiteint_id"
   ]
  },
  {
   "cell_type": "markdown",
   "metadata": {},
   "source": [
    "### Cancer phenotype coulmns"
   ]
  },
  {
   "cell_type": "code",
   "execution_count": null,
   "metadata": {},
   "outputs": [],
   "source": [
    "stats_col"
   ]
  },
  {
   "cell_type": "markdown",
   "metadata": {},
   "source": [
    "### Check viable phenotype status"
   ]
  },
  {
   "cell_type": "code",
   "execution_count": null,
   "metadata": {},
   "outputs": [],
   "source": [
    "all_lab = list()\n",
    "for r in T1[stats_col].iterrows():\n",
    "    all_lab += list(r[1].values)"
   ]
  },
  {
   "cell_type": "code",
   "execution_count": null,
   "metadata": {},
   "outputs": [],
   "source": [
    "list(set(all_lab))"
   ]
  },
  {
   "cell_type": "markdown",
   "metadata": {},
   "source": [
    "### Let's drop patient with \"Equivocal\" and \"Indeterminate\" status"
   ]
  },
  {
   "cell_type": "code",
   "execution_count": null,
   "metadata": {},
   "outputs": [],
   "source": [
    "drop_label = ['Indeterminate', 'Equivocal']"
   ]
  },
  {
   "cell_type": "code",
   "execution_count": null,
   "metadata": {},
   "outputs": [],
   "source": [
    "T1.head()"
   ]
  },
  {
   "cell_type": "code",
   "execution_count": null,
   "metadata": {},
   "outputs": [],
   "source": [
    "mask1 = [True if (len(set(r[1].values) & set(drop_label)) == 0) else False for r in T1[stats_col].iterrows()]\n",
    "T1 = T1[mask1]\n",
    "T1.reset_index(drop=True, inplace=True)"
   ]
  },
  {
   "cell_type": "markdown",
   "metadata": {},
   "source": [
    "### Let's divide the dataframe into two dataframes with triple negative (TN) and non-triple negative (NTN)"
   ]
  },
  {
   "cell_type": "code",
   "execution_count": null,
   "metadata": {},
   "outputs": [],
   "source": [
    "mask2 = [all([True if v=='Negative' else False for v in r[1].values] ) for r in T1[stats_col].iterrows()]\n",
    "\n",
    "T1_TNP = T1[np.array(mask2)]\n",
    "T1_TNP.reset_index(drop=True, inplace=True)\n",
    "\n",
    "T1_not_TNP = T1[~np.array(mask2)]\n",
    "T1_not_TNP.reset_index(drop=True, inplace=True)\n",
    "\n"
   ]
  },
  {
   "cell_type": "markdown",
   "metadata": {},
   "source": [
    "### Obtain patient ids for NT and NTN"
   ]
  },
  {
   "cell_type": "code",
   "execution_count": null,
   "metadata": {},
   "outputs": [],
   "source": [
    "TNPpateintIds = T1_TNP[paiteint_id].values\n",
    "NotTNPpateintIds = T1_not_TNP[paiteint_id].values"
   ]
  },
  {
   "cell_type": "markdown",
   "metadata": {},
   "source": [
    "### Remove genes (rows) containing NaN for both TN and NTN i.e., make sure all patients have same the gene when comparing."
   ]
  },
  {
   "cell_type": "code",
   "execution_count": null,
   "metadata": {},
   "outputs": [],
   "source": [
    "def getpatientId(ids):\n",
    "    patitentList = list()\n",
    "    for i in ids:\n",
    "        p_id = T3[T3.columns[[i in c for c in T3.columns]]].columns\n",
    "        patitentList += list(p_id)\n",
    "    return patitentList"
   ]
  },
  {
   "cell_type": "code",
   "execution_count": null,
   "metadata": {},
   "outputs": [],
   "source": [
    "only_patientDf = T3[getpatientId(NotTNPpateintIds) + getpatientId(TNPpateintIds)]"
   ]
  },
  {
   "cell_type": "code",
   "execution_count": null,
   "metadata": {},
   "outputs": [],
   "source": [
    "only_patientDf.dropna(inplace=True)"
   ]
  },
  {
   "cell_type": "code",
   "execution_count": null,
   "metadata": {},
   "outputs": [],
   "source": [
    "NotTNP_df =  only_patientDf[getpatientId(NotTNPpateintIds)]\n",
    "TNP_df =  only_patientDf[getpatientId(TNPpateintIds)]"
   ]
  },
  {
   "cell_type": "code",
   "execution_count": null,
   "metadata": {},
   "outputs": [],
   "source": [
    "NotTNP_df.to_csv(\"experiment_data/experiment6/notTNPdf\", index=False)\n",
    "TNP_df.to_csv(\"experiment_data/experiment6/TNPdf\", index=False)"
   ]
  },
  {
   "cell_type": "code",
   "execution_count": 2,
   "metadata": {},
   "outputs": [],
   "source": [
    "NotTNP_df = pd.read_csv(\"experiment_data/experiment6/notTNPdf\")\n",
    "TNP_df = pd.read_csv(\"experiment_data/experiment6/TNPdf\")"
   ]
  },
  {
   "cell_type": "markdown",
   "metadata": {},
   "source": [
    "### There are 80 patients without triple negative (NTN) and 26 patients with triple negtive (TN), and with a total of 8051 quantified genes."
   ]
  },
  {
   "cell_type": "markdown",
   "metadata": {},
   "source": [
    "# Experiment time"
   ]
  },
  {
   "cell_type": "markdown",
   "metadata": {},
   "source": [
    "## Let's start with a rather small binsize=6."
   ]
  },
  {
   "cell_type": "code",
   "execution_count": 3,
   "metadata": {},
   "outputs": [],
   "source": [
    "n_bins = 100\n",
    "batch_size = int(TNP_df.shape[0] / 4)"
   ]
  },
  {
   "cell_type": "code",
   "execution_count": 4,
   "metadata": {},
   "outputs": [
    {
     "name": "stdout",
     "output_type": "stream",
     "text": [
      "CPU times: user 4.22 s, sys: 632 ms, total: 4.86 s\n",
      "Wall time: 4.87 s\n"
     ]
    }
   ],
   "source": [
    "%time p_values, dperm = ppt.GreenFloatCuda(NotTNP_df.values, TNP_df.values, 100, return_dperm=True,batch_size=batch_size)"
   ]
  },
  {
   "cell_type": "code",
   "execution_count": null,
   "metadata": {},
   "outputs": [],
   "source": [
    "p_values[6813]"
   ]
  },
  {
   "cell_type": "code",
   "execution_count": null,
   "metadata": {},
   "outputs": [],
   "source": [
    "p_values[6813]"
   ]
  },
  {
   "cell_type": "code",
   "execution_count": null,
   "metadata": {},
   "outputs": [],
   "source": [
    "np.argmin(p_values)"
   ]
  },
  {
   "cell_type": "code",
   "execution_count": 5,
   "metadata": {},
   "outputs": [
    {
     "name": "stdout",
     "output_type": "stream",
     "text": [
      "CPU times: user 1.27 ms, sys: 292 µs, total: 1.56 ms\n",
      "Wall time: 1.09 ms\n"
     ]
    }
   ],
   "source": [
    "%time p_values, dperm = ppt.GreenFloat(NotTNP_df.values[6813], TNP_df.values[6813], 5, return_dperm=True)"
   ]
  },
  {
   "cell_type": "code",
   "execution_count": 6,
   "metadata": {},
   "outputs": [
    {
     "data": {
      "text/plain": [
       "array([4.87531746e-17])"
      ]
     },
     "execution_count": 6,
     "metadata": {},
     "output_type": "execute_result"
    }
   ],
   "source": [
    "p_values"
   ]
  },
  {
   "cell_type": "code",
   "execution_count": 9,
   "metadata": {},
   "outputs": [
    {
     "name": "stdout",
     "output_type": "stream",
     "text": [
      "CPU times: user 639 µs, sys: 0 ns, total: 639 µs\n",
      "Wall time: 395 µs\n"
     ]
    }
   ],
   "source": [
    "%time p_values, dperm = ppt.CoinShiftFloat(NotTNP_df.values[6813],TNP_df.values[6813], 5, return_dperm=True)"
   ]
  },
  {
   "cell_type": "code",
   "execution_count": 10,
   "metadata": {},
   "outputs": [
    {
     "data": {
      "text/plain": [
       "array([4.87531746e-17])"
      ]
     },
     "execution_count": 10,
     "metadata": {},
     "output_type": "execute_result"
    }
   ],
   "source": [
    "p_values"
   ]
  },
  {
   "cell_type": "code",
   "execution_count": null,
   "metadata": {},
   "outputs": [],
   "source": [
    "%time p_values, dperm = ppt.GreenFloat(TNP_df.values[6813], NotTNP_df.values[6813], 100, return_dperm=True)"
   ]
  },
  {
   "cell_type": "code",
   "execution_count": null,
   "metadata": {},
   "outputs": [],
   "source": [
    "p_values"
   ]
  },
  {
   "cell_type": "code",
   "execution_count": null,
   "metadata": {},
   "outputs": [],
   "source": [
    "%time p_values, dperm = ppt.GreenFloatMultiThread(TNP_df.values[6813], NotTNP_df.values[6813], 100, return_dperm=True)"
   ]
  },
  {
   "cell_type": "code",
   "execution_count": null,
   "metadata": {},
   "outputs": [],
   "source": [
    "p_values"
   ]
  },
  {
   "cell_type": "code",
   "execution_count": null,
   "metadata": {},
   "outputs": [],
   "source": [
    "p_values"
   ]
  },
  {
   "cell_type": "code",
   "execution_count": null,
   "metadata": {},
   "outputs": [],
   "source": [
    "a =\"[2 3 2 3 2 2 1 3 2 2 2 3 2 2 2 3 2 2 3 3 2 3 2 2 2 3 3 2 3 3 2 2 3 4 2 3 3 2 2 3 3 2 2 2 2 2 1 2 2 2 2 2 2 2 2 2 3 3 2 3 1 1 1 1 1 2 1 1 1 1 0 1 1 2 1 1 2 1 1 1]\"\n",
    "a.replace(\"  \",\",\").replace(\" \",\",\")"
   ]
  },
  {
   "cell_type": "code",
   "execution_count": null,
   "metadata": {},
   "outputs": [],
   "source": [
    "b =\"[2 2 2 3 2 3 3 2 2 3 2 2 2 3 3 3 2 3 3 1 2 1 1 2 1 0]\"\n",
    "b.replace(\"  \",\",\").replace(\" \",\",\")"
   ]
  },
  {
   "cell_type": "code",
   "execution_count": null,
   "metadata": {},
   "outputs": [],
   "source": [
    "b = [2,3,2,3,2,2,1,3,2,2,2,3,2,2,2,3,2,2,3,3,2,3,2,2,2,3,3,2,3,3,2,2,3,4,2,3,3,2,2,3,3,2,2,2,2,2,1,2,2,2,2,2,2,2,2,2,3,3,2,3,1,1,1,1,1,2,1,1,1,1,0,1,1,2,1,1,2,1,1,1]"
   ]
  },
  {
   "cell_type": "code",
   "execution_count": null,
   "metadata": {},
   "outputs": [],
   "source": [
    "a = [2,2,2,3,2,3,3,2,2,3,2,2,2,3,3,3,2,3,3,1,2,1,1,2,1,0]"
   ]
  },
  {
   "cell_type": "code",
   "execution_count": null,
   "metadata": {},
   "outputs": [],
   "source": [
    "sum(a)"
   ]
  },
  {
   "cell_type": "code",
   "execution_count": null,
   "metadata": {},
   "outputs": [],
   "source": [
    "score = sum(a)"
   ]
  },
  {
   "cell_type": "code",
   "execution_count": null,
   "metadata": {},
   "outputs": [],
   "source": [
    "NN = dperm"
   ]
  },
  {
   "cell_type": "code",
   "execution_count": null,
   "metadata": {},
   "outputs": [],
   "source": [
    "NN.shape"
   ]
  },
  {
   "cell_type": "code",
   "execution_count": null,
   "metadata": {},
   "outputs": [],
   "source": [
    "if len(a)>len(b):\n",
    "    score = sum(b)\n",
    "else:\n",
    "    score = sum(a)"
   ]
  },
  {
   "cell_type": "code",
   "execution_count": null,
   "metadata": {},
   "outputs": [],
   "source": [
    "score"
   ]
  },
  {
   "cell_type": "code",
   "execution_count": null,
   "metadata": {},
   "outputs": [],
   "source": [
    "sum(a)"
   ]
  },
  {
   "cell_type": "code",
   "execution_count": null,
   "metadata": {},
   "outputs": [],
   "source": [
    "NN.shape"
   ]
  },
  {
   "cell_type": "code",
   "execution_count": null,
   "metadata": {},
   "outputs": [],
   "source": [
    "NN[59]"
   ]
  },
  {
   "cell_type": "code",
   "execution_count": null,
   "metadata": {},
   "outputs": [],
   "source": [
    "one_side = NN[score]\n",
    "\n",
    "one_side += min(np.sum(NN[score+1:]), np.sum(NN[:score]))\n",
    "p=one_side/float(np.sum(NN))"
   ]
  },
  {
   "cell_type": "code",
   "execution_count": null,
   "metadata": {},
   "outputs": [],
   "source": [
    "one_side"
   ]
  },
  {
   "cell_type": "code",
   "execution_count": null,
   "metadata": {},
   "outputs": [],
   "source": [
    "p"
   ]
  },
  {
   "cell_type": "code",
   "execution_count": null,
   "metadata": {},
   "outputs": [],
   "source": [
    "p = 0.3567760297255399"
   ]
  },
  {
   "cell_type": "code",
   "execution_count": null,
   "metadata": {},
   "outputs": [],
   "source": [
    "p = np.sum(np.divide(dperm,np.sum(dperm))[sum(a):])"
   ]
  },
  {
   "cell_type": "code",
   "execution_count": null,
   "metadata": {},
   "outputs": [],
   "source": [
    "p"
   ]
  },
  {
   "cell_type": "code",
   "execution_count": null,
   "metadata": {},
   "outputs": [],
   "source": [
    "perm = np.divide(dperm,np.sum(dperm))"
   ]
  },
  {
   "cell_type": "code",
   "execution_count": null,
   "metadata": {},
   "outputs": [],
   "source": [
    "2*min(p,1-p)"
   ]
  },
  {
   "cell_type": "code",
   "execution_count": null,
   "metadata": {},
   "outputs": [],
   "source": [
    "p"
   ]
  },
  {
   "cell_type": "code",
   "execution_count": null,
   "metadata": {},
   "outputs": [],
   "source": [
    "dperm"
   ]
  },
  {
   "cell_type": "code",
   "execution_count": null,
   "metadata": {},
   "outputs": [],
   "source": [
    "dperm.shape"
   ]
  },
  {
   "cell_type": "code",
   "execution_count": null,
   "metadata": {},
   "outputs": [],
   "source": [
    "p"
   ]
  },
  {
   "cell_type": "code",
   "execution_count": null,
   "metadata": {},
   "outputs": [],
   "source": [
    "2*min(p,1-p)"
   ]
  },
  {
   "cell_type": "code",
   "execution_count": null,
   "metadata": {},
   "outputs": [],
   "source": [
    "dperm.shape"
   ]
  },
  {
   "cell_type": "code",
   "execution_count": null,
   "metadata": {},
   "outputs": [],
   "source": [
    "%%time\n",
    "%%R\n",
    "x1 <- c(2,3,2,3,2,2,1,3,2,2,2,3,2,2,2,3,2,2,3,3,2,3,2,2,2,3,3,2,3,3,2,2,3,4,2,3,3,2,2,3,3,2,2,2,2,2,1,2,2,2,2,2,2,2,2,2,3,3,2,3,1,1,1,1,1,2,1,1,1,1,0,1,1,2,1,1,2,1,1,1)\n",
    "y1 <- c(2,2,2,3,2,3,3,2,2,3,2,2,2,3,3,3,2,3,3,1,2,1,1,2,1,0)\n",
    "\n",
    "DV <- c(x1, y1)\n",
    "IV <- factor(rep(c(\"A\", \"B\"), c(length(x1), length(y1))))\n",
    "\n",
    "pvalue(oneway_test(DV ~ IV, distribution=exact(c(\"shift\"))))\n"
   ]
  },
  {
   "cell_type": "code",
   "execution_count": null,
   "metadata": {},
   "outputs": [],
   "source": [
    "perm[perm!=0]"
   ]
  },
  {
   "cell_type": "code",
   "execution_count": null,
   "metadata": {},
   "outputs": [],
   "source": [
    "perm[sum(a):79:]"
   ]
  },
  {
   "cell_type": "code",
   "execution_count": null,
   "metadata": {},
   "outputs": [],
   "source": [
    "Z = [ 0,  3,  6,  8, 14, 18, 18, 19, 20, 21, 25, 25, 26, 27, 33, 33, 38, 39, 39, 39, 40, 42, 42, 44,\n",
    " 48, 50, 52, 54, 54, 54, 55, 58, 59, 59, 59, 59, 60, 60, 60, 61, 61, 61, 63, 63, 63, 63, 63, 63,\n",
    " 64, 65, 65, 66, 66, 67, 67, 67, 68, 68, 68, 69, 69, 69, 70, 70,71, 71, 71, 71, 72, 72, 73, 73,\n",
    " 73, 74, 76, 78, 78, 78, 79, 80, 80, 80, 82, 82, 82, 83, 83, 83, 84, 84, 84, 84, 85, 85, 86, 86,\n",
    " 87, 89, 90, 90, 91, 92, 95, 95, 95, 99]"
   ]
  },
  {
   "cell_type": "code",
   "execution_count": null,
   "metadata": {},
   "outputs": [],
   "source": [
    "sum(Z[26:])"
   ]
  },
  {
   "cell_type": "code",
   "execution_count": null,
   "metadata": {},
   "outputs": [],
   "source": [
    "a_ = [20,0,  6, 33, 21, 27, 39, 65, 19, 25, 42, 39, 8, 14, 63, 44, 18, 25, 40, 33, 26, 39, 54, 38, 18, 42]\n",
    "s = 5828"
   ]
  },
  {
   "cell_type": "code",
   "execution_count": null,
   "metadata": {},
   "outputs": [],
   "source": [
    "p = np.sum(dperm[int(sum(a_)) : (int(s) + 1)])"
   ]
  },
  {
   "cell_type": "code",
   "execution_count": null,
   "metadata": {},
   "outputs": [],
   "source": [
    "1 - np.sum(dperm)"
   ]
  },
  {
   "cell_type": "code",
   "execution_count": null,
   "metadata": {},
   "outputs": [],
   "source": [
    "ix"
   ]
  },
  {
   "cell_type": "code",
   "execution_count": null,
   "metadata": {},
   "outputs": [],
   "source": [
    "sum(dperm)"
   ]
  },
  {
   "cell_type": "code",
   "execution_count": null,
   "metadata": {},
   "outputs": [],
   "source": [
    "p_values[ix]"
   ]
  },
  {
   "cell_type": "code",
   "execution_count": null,
   "metadata": {},
   "outputs": [],
   "source": [
    "dperm"
   ]
  },
  {
   "cell_type": "code",
   "execution_count": null,
   "metadata": {},
   "outputs": [],
   "source": [
    "ix = np.argmin(p_values)"
   ]
  },
  {
   "cell_type": "code",
   "execution_count": null,
   "metadata": {},
   "outputs": [],
   "source": [
    "ix"
   ]
  },
  {
   "cell_type": "code",
   "execution_count": null,
   "metadata": {},
   "outputs": [],
   "source": [
    "p_values[ix[0]]"
   ]
  },
  {
   "cell_type": "code",
   "execution_count": null,
   "metadata": {},
   "outputs": [],
   "source": [
    "np.float(1.3322676295501878e-15)\n"
   ]
  },
  {
   "cell_type": "code",
   "execution_count": null,
   "metadata": {},
   "outputs": [],
   "source": [
    "%%time \n",
    "p_val_list = list()\n",
    "for A,B in zip(TNP_Arr,NotTNP_Arr):\n",
    "    pval, pdist = GreenFloatCuda(A, B,40,return_dperm=True)\n",
    "    p_val_list.append(pval)"
   ]
  },
  {
   "cell_type": "code",
   "execution_count": null,
   "metadata": {},
   "outputs": [],
   "source": [
    "pval, pdist = GreenFloatCuda(A, B,40,return_dperm=True)"
   ]
  },
  {
   "cell_type": "code",
   "execution_count": null,
   "metadata": {},
   "outputs": [],
   "source": [
    "pdist[0][pdist[0]!=0]"
   ]
  },
  {
   "cell_type": "code",
   "execution_count": null,
   "metadata": {},
   "outputs": [],
   "source": [
    "from significance_of_mean_cuda import significance_of_mean_cuda\n"
   ]
  },
  {
   "cell_type": "code",
   "execution_count": null,
   "metadata": {},
   "outputs": [],
   "source": [
    "%%time\n",
    "\n",
    "SGM = significance_of_mean_cuda(20, dtype_v=np.uint32,dtype_A=np.float64)\n",
    "SGM.run(TNP_Arr, NotTNP_Arr)\n"
   ]
  },
  {
   "cell_type": "code",
   "execution_count": null,
   "metadata": {},
   "outputs": [],
   "source": [
    "A,B = dpermTNP_Arr[0], NotTNP_Arr[0]"
   ]
  },
  {
   "cell_type": "code",
   "execution_count": null,
   "metadata": {},
   "outputs": [],
   "source": [
    "A,B = A[np.newaxis,:], B[np.newaxis,:]"
   ]
  },
  {
   "cell_type": "code",
   "execution_count": null,
   "metadata": {},
   "outputs": [],
   "source": [
    "pval, pdist = GreenFloatCuda(A, B,20,return_dperm=True)"
   ]
  },
  {
   "cell_type": "code",
   "execution_count": null,
   "metadata": {},
   "outputs": [],
   "source": [
    "pval"
   ]
  },
  {
   "cell_type": "code",
   "execution_count": null,
   "metadata": {},
   "outputs": [],
   "source": [
    "SGM = significance_of_mean_cuda(20, dtype_v=np.uint32,dtype_A=np.float64)\n",
    "SGM.run( A[,:], B[:,np.newaxis])\n"
   ]
  },
  {
   "cell_type": "code",
   "execution_count": null,
   "metadata": {},
   "outputs": [],
   "source": []
  },
  {
   "cell_type": "code",
   "execution_count": null,
   "metadata": {},
   "outputs": [],
   "source": [
    "SGM.digitized"
   ]
  },
  {
   "cell_type": "code",
   "execution_count": null,
   "metadata": {},
   "outputs": [],
   "source": [
    "NN = SGM.numerator.ravel()"
   ]
  },
  {
   "cell_type": "code",
   "execution_count": null,
   "metadata": {},
   "outputs": [],
   "source": [
    "NN= NN[NN!=0]"
   ]
  },
  {
   "cell_type": "code",
   "execution_count": null,
   "metadata": {},
   "outputs": [],
   "source": [
    "NN / NN.sum()"
   ]
  },
  {
   "cell_type": "code",
   "execution_count": null,
   "metadata": {},
   "outputs": [],
   "source": [
    "pdist[pdist!=0]"
   ]
  },
  {
   "cell_type": "code",
   "execution_count": null,
   "metadata": {},
   "outputs": [],
   "source": []
  },
  {
   "cell_type": "code",
   "execution_count": null,
   "metadata": {},
   "outputs": [],
   "source": [
    "np.array(P_e_list)"
   ]
  },
  {
   "cell_type": "code",
   "execution_count": null,
   "metadata": {},
   "outputs": [],
   "source": []
  },
  {
   "cell_type": "code",
   "execution_count": null,
   "metadata": {},
   "outputs": [],
   "source": [
    "x = pd.DataFrame(TNP_Arr, columns=list(range(TNP_Arr.shape[1]))).T\n",
    "y = pd.DataFrame(NotTNP_Arr, columns=list(range(NotTNP_Arr.shape[1]))).T\n",
    "n_samples = x.shape[1]\n",
    "outputDf = pd.DataFrame(n_samples * [0], columns=[\"output\"]).T"
   ]
  },
  {
   "cell_type": "code",
   "execution_count": null,
   "metadata": {},
   "outputs": [],
   "source": [
    "%R -i x\n",
    "%R -i y\n",
    "%R -i outputDf\n",
    "%R -i n_samples"
   ]
  },
  {
   "cell_type": "code",
   "execution_count": null,
   "metadata": {},
   "outputs": [],
   "source": [
    "%%R\n",
    "runFastPerm <- function(x,y,output, n_samples) {\n",
    "    e <- list(mode=\"vector\",length=n_samples)\n",
    "        for (i in 1:n_samples) {\n",
    "      \n",
    "            mStopDiffMean(x[[i]], y[[i]])\n",
    "            valX = fastPerm(x[[i]], y[[i]], testStat = diffMean)\n",
    "            \n",
    "            print(valX)\n",
    "            valX <-unlist(valX)\n",
    "\n",
    "      \n",
    "            output[[i]] <- as.numeric(valX[1])\n",
    "      \n",
    "            }\n",
    "    \n",
    "\n",
    "    return(output)\n",
    "\n",
    "\n",
    "}\n"
   ]
  },
  {
   "cell_type": "code",
   "execution_count": null,
   "metadata": {},
   "outputs": [],
   "source": [
    "start = time.time()\n",
    "%R out <- runFastPerm(x,y, outputDf, n_samples)\n",
    "end = time.time()\n",
    "print(end - start)"
   ]
  },
  {
   "cell_type": "code",
   "execution_count": null,
   "metadata": {},
   "outputs": [],
   "source": [
    "2738 / 60"
   ]
  },
  {
   "cell_type": "code",
   "execution_count": null,
   "metadata": {},
   "outputs": [],
   "source": [
    "%R -o out"
   ]
  },
  {
   "cell_type": "code",
   "execution_count": null,
   "metadata": {},
   "outputs": [],
   "source": [
    "outT = out.T"
   ]
  },
  {
   "cell_type": "code",
   "execution_count": null,
   "metadata": {},
   "outputs": [],
   "source": [
    "P_fp_list =list(outT.values.ravel())"
   ]
  },
  {
   "cell_type": "markdown",
   "metadata": {},
   "source": [
    "### Parallelized exact test takes ~3s"
   ]
  },
  {
   "cell_type": "code",
   "execution_count": null,
   "metadata": {},
   "outputs": [],
   "source": [
    "start = time.time()\n",
    "\n",
    "P_mw_list = MWU(TNP_Arr, NotTNP_Arr)\n",
    "\n",
    "end = time.time()\n",
    "print(end - start)"
   ]
  },
  {
   "cell_type": "markdown",
   "metadata": {},
   "source": [
    "### Mann-Whitney exact test takes ~1s"
   ]
  },
  {
   "cell_type": "code",
   "execution_count": null,
   "metadata": {},
   "outputs": [],
   "source": [
    "start = time.time()\n",
    "\n",
    "P_t_list = ttests(TNP_Arr, NotTNP_Arr, True)\n",
    "\n",
    "end = time.time()\n",
    "print(end - start)"
   ]
  },
  {
   "cell_type": "code",
   "execution_count": null,
   "metadata": {},
   "outputs": [],
   "source": [
    "df_e = pd.DataFrame({\"p\":P_e_list})\n",
    "df_mw = pd.DataFrame({\"p\":P_mw_list})\n",
    "df_tt = pd.DataFrame({\"p\":P_t_list})\n",
    "df_fp = pd.DataFrame({\"p\":list(np.array(P_fp_list) )})"
   ]
  },
  {
   "cell_type": "code",
   "execution_count": null,
   "metadata": {},
   "outputs": [],
   "source": [
    "df_e = qvalues(df_e, pi0=None)\n",
    "df_mw = qvalues(df_mw, pi0=None)\n",
    "df_tt = qvalues(df_tt, pi0=None)\n",
    "df_fp = qvalues(df_fp, pi0=None)"
   ]
  },
  {
   "cell_type": "code",
   "execution_count": null,
   "metadata": {},
   "outputs": [],
   "source": [
    "df_e[\"q\"][df_e[\"q\"]<0.01].shape[0]\n"
   ]
  },
  {
   "cell_type": "code",
   "execution_count": null,
   "metadata": {},
   "outputs": [],
   "source": [
    "df_mw[\"q\"][df_mw[\"q\"]<0.01].shape[0]"
   ]
  },
  {
   "cell_type": "code",
   "execution_count": null,
   "metadata": {},
   "outputs": [],
   "source": [
    "df_tt[\"q\"][df_tt[\"q\"]<0.01].shape[0]"
   ]
  },
  {
   "cell_type": "code",
   "execution_count": null,
   "metadata": {},
   "outputs": [],
   "source": [
    "df_fp[\"q\"][df_fp[\"q\"]<0.01].shape[0]"
   ]
  }
 ],
 "metadata": {
  "kernelspec": {
   "display_name": "Python (terran3)",
   "language": "python",
   "name": "terran3"
  },
  "language_info": {
   "codemirror_mode": {
    "name": "ipython",
    "version": 3
   },
   "file_extension": ".py",
   "mimetype": "text/x-python",
   "name": "python",
   "nbconvert_exporter": "python",
   "pygments_lexer": "ipython3",
   "version": "3.6.10"
  }
 },
 "nbformat": 4,
 "nbformat_minor": 2
}
