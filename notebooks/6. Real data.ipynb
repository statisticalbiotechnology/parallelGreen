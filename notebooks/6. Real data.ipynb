{
 "cells": [
  {
   "cell_type": "code",
   "execution_count": null,
   "metadata": {},
   "outputs": [],
   "source": [
    "18446744071961288304 / 10000"
   ]
  },
  {
   "cell_type": "code",
   "execution_count": 5,
   "metadata": {},
   "outputs": [],
   "source": [
    "\n",
    "\n",
    "import numpy as np\n",
    "import time\n",
    "import pandas as pd\n",
    "\n",
    "\n",
    "#from permutationTest import GreenFloatCuda, GreenIntCuda\n",
    "#from significance_of_mean_cuda import significance_of_mean_cuda\n"
   ]
  },
  {
   "cell_type": "code",
   "execution_count": 4,
   "metadata": {},
   "outputs": [],
   "source": [
    "np.random.seed(3)\n",
    "n = 100\n",
    "m = n\n",
    "n_samples = 5\n",
    "A = np.asarray([np.random.randint(0,n,m,dtype=np.int32) for _ in range(n_samples)])\n",
    "B = np.asarray([np.random.randint(0,n,n,dtype=np.int32) for _ in range(n_samples)])"
   ]
  },
  {
   "cell_type": "code",
   "execution_count": 6,
   "metadata": {},
   "outputs": [
    {
     "name": "stdout",
     "output_type": "stream",
     "text": [
      "CPU times: user 6.65 ms, sys: 98 µs, total: 6.74 ms\n",
      "Wall time: 5.55 ms\n"
     ]
    },
    {
     "data": {
      "text/plain": [
       "array([0.66979217, 0.29138066, 0.82909381, 0.93644416, 0.06874465])"
      ]
     },
     "execution_count": 6,
     "metadata": {},
     "output_type": "execute_result"
    }
   ],
   "source": [
    "%time GreenFloatCuda(A,B,10)"
   ]
  },
  {
   "cell_type": "code",
   "execution_count": 9,
   "metadata": {},
   "outputs": [
    {
     "name": "stdout",
     "output_type": "stream",
     "text": [
      "CPU times: user 36.3 ms, sys: 1e+03 ns, total: 36.3 ms\n",
      "Wall time: 35.5 ms\n"
     ]
    },
    {
     "data": {
      "text/plain": [
       "array([0.73329517, 0.43525231, 0.70439175, 0.85663162, 0.08082237])"
      ]
     },
     "execution_count": 9,
     "metadata": {},
     "output_type": "execute_result"
    }
   ],
   "source": [
    "\n",
    "%time GreenIntCuda(A,B)"
   ]
  },
  {
   "cell_type": "code",
   "execution_count": 10,
   "metadata": {},
   "outputs": [
    {
     "name": "stdout",
     "output_type": "stream",
     "text": [
      "CPU times: user 55.1 ms, sys: 596 µs, total: 55.7 ms\n",
      "Wall time: 52.7 ms\n"
     ]
    },
    {
     "data": {
      "text/plain": [
       "array([0.73329517, 0.43525231, 0.70439175, 0.85663162, 0.08082237])"
      ]
     },
     "execution_count": 10,
     "metadata": {},
     "output_type": "execute_result"
    }
   ],
   "source": [
    "%time GreenIntCuda(A,B, batch_size=1)"
   ]
  },
  {
   "cell_type": "code",
   "execution_count": null,
   "metadata": {},
   "outputs": [],
   "source": []
  },
  {
   "cell_type": "code",
   "execution_count": null,
   "metadata": {},
   "outputs": [],
   "source": [
    "GreenIntDataPreProcess(A[0][np.newaxis,:],B[0][np.newaxis,:])"
   ]
  },
  {
   "cell_type": "code",
   "execution_count": null,
   "metadata": {},
   "outputs": [],
   "source": [
    "%%time \n",
    "SGM = significance_of_mean_cuda(dtype_v=np.uint32,dtype_A=np.float64)\n",
    "SGM.run(A,B)"
   ]
  },
  {
   "cell_type": "code",
   "execution_count": null,
   "metadata": {},
   "outputs": [],
   "source": [
    "SGM.p_values"
   ]
  },
  {
   "cell_type": "code",
   "execution_count": null,
   "metadata": {},
   "outputs": [],
   "source": [
    "%time x = GreenIntCuda(A,B,return_dperm=True)[0]"
   ]
  },
  {
   "cell_type": "code",
   "execution_count": null,
   "metadata": {},
   "outputs": [],
   "source": [
    "batches = 2 \n",
    "BATCH_SIZE = np.ceil(A / batches)"
   ]
  },
  {
   "cell_type": "code",
   "execution_count": null,
   "metadata": {},
   "outputs": [],
   "source": [
    "for b in batches:\n",
    "    A[b*BATCH_SIZE:b*BATCH_SIZE+BATCH_SIZE,:]"
   ]
  },
  {
   "cell_type": "code",
   "execution_count": null,
   "metadata": {},
   "outputs": [],
   "source": [
    "allPval = list()\n",
    "size = len(A)\n",
    "sample_n = 2000\n",
    "for j in range(0, 2, size):\n",
    "    Abatch_div = A[j:j+sample_n,:]\n",
    "    Bbatch_div = B[j:j+sample_n,:]\n",
    "    print(Abatch_div.shape)\n",
    "    \n",
    "    "
   ]
  },
  {
   "cell_type": "code",
   "execution_count": null,
   "metadata": {},
   "outputs": [],
   "source": [
    "def batch(Arr, n=1):\n",
    "    l = Arr.shape[0]\n",
    "    for ndx in range(0, l, n):\n",
    "        yield Arr[ndx:min(ndx + n, l),:]\n",
    "\n"
   ]
  },
  {
   "cell_type": "code",
   "execution_count": null,
   "metadata": {},
   "outputs": [],
   "source": [
    "%%time\n",
    "p_val_list = list()\n",
    "for i, (a,b) in enumerate(zip(batch(A,2), batch(B,2))):\n",
    "    if i ==0:\n",
    "        p_val_arr = GreenIntCuda(a,b,return_dperm=True)[1]\n",
    "    else:\n",
    "        p_val_arr = np.concatenate((p_val_arr, GreenIntCuda(a,b,return_dperm=True)[1]))\n"
   ]
  },
  {
   "cell_type": "code",
   "execution_count": null,
   "metadata": {},
   "outputs": [],
   "source": [
    "p_val_arr"
   ]
  },
  {
   "cell_type": "code",
   "execution_count": null,
   "metadata": {},
   "outputs": [],
   "source": [
    "GreenIntCuda(A,B,return_dperm=True)[0]"
   ]
  },
  {
   "cell_type": "code",
   "execution_count": null,
   "metadata": {},
   "outputs": [],
   "source": [
    "np.array(p_val_list).flatten() == GreenIntCuda(A,B,return_dperm=True)[0]"
   ]
  },
  {
   "cell_type": "code",
   "execution_count": null,
   "metadata": {},
   "outputs": [],
   "source": []
  },
  {
   "cell_type": "code",
   "execution_count": null,
   "metadata": {},
   "outputs": [],
   "source": [
    "\n",
    "def runTestInBatch(Abatch, Bbatch, sample_n, w):\n",
    "    allPval = list()\n",
    "    batchSize = len(Abatch)\n",
    "    for j in range(0, batchSize, sample_n):\n",
    "        Abatch_div = Abatch[j:j+sample_n]\n",
    "        Bbatch_div = Bbatch[j:j+sample_n]\n",
    "        pExactListNorm = exactTest(Abatch_div, Bbatch_div, w, True)\n",
    "        allPval.append(pExactListNorm)\n",
    "    return allPval"
   ]
  },
  {
   "cell_type": "code",
   "execution_count": null,
   "metadata": {},
   "outputs": [],
   "source": [
    "%time x = GreenFloatCuda(A,B, 10, return_dperm=True)[0]"
   ]
  },
  {
   "cell_type": "code",
   "execution_count": null,
   "metadata": {},
   "outputs": [],
   "source": [
    "x"
   ]
  },
  {
   "cell_type": "code",
   "execution_count": null,
   "metadata": {},
   "outputs": [],
   "source": [
    "%time x = GreenFloatCuda(A[2][np.newaxis,:],B[2][np.newaxis,:], 10, return_dperm=True)[0]"
   ]
  },
  {
   "cell_type": "code",
   "execution_count": null,
   "metadata": {},
   "outputs": [],
   "source": [
    "x"
   ]
  },
  {
   "cell_type": "code",
   "execution_count": null,
   "metadata": {},
   "outputs": [],
   "source": [
    "GreenFloatDataPreProcess(A[2][np.newaxis,:],B[2][np.newaxis,:],10)"
   ]
  },
  {
   "cell_type": "code",
   "execution_count": null,
   "metadata": {},
   "outputs": [],
   "source": [
    "GreenFloatDataPreProcess(A[0][np.newaxis,:],B[0][np.newaxis,:],10)"
   ]
  },
  {
   "cell_type": "code",
   "execution_count": null,
   "metadata": {
    "scrolled": false
   },
   "outputs": [],
   "source": [
    "dperm2 = GreenIntCuda(,return_dperm=True)[1]"
   ]
  },
  {
   "cell_type": "code",
   "execution_count": null,
   "metadata": {},
   "outputs": [],
   "source": [
    "dperm2"
   ]
  },
  {
   "cell_type": "code",
   "execution_count": null,
   "metadata": {},
   "outputs": [],
   "source": [
    "dperm1 == dperm2"
   ]
  },
  {
   "cell_type": "code",
   "execution_count": null,
   "metadata": {},
   "outputs": [],
   "source": []
  },
  {
   "cell_type": "code",
   "execution_count": null,
   "metadata": {},
   "outputs": [],
   "source": [
    "a,b = A[2][np.newaxis,:], B[2][np.newaxis,:]\n",
    "GreenIntDataPreProcess(a,b)"
   ]
  },
  {
   "cell_type": "code",
   "execution_count": null,
   "metadata": {},
   "outputs": [],
   "source": [
    "A = a\n",
    "B = b\n",
    "for i in range(20000):\n",
    "    A = np.r_[A,a]\n",
    "    B = np.r_[B,a]"
   ]
  },
  {
   "cell_type": "code",
   "execution_count": null,
   "metadata": {},
   "outputs": [],
   "source": [
    "GreenIntCuda(A,B)"
   ]
  },
  {
   "cell_type": "code",
   "execution_count": null,
   "metadata": {},
   "outputs": [],
   "source": []
  },
  {
   "cell_type": "code",
   "execution_count": null,
   "metadata": {},
   "outputs": [],
   "source": []
  },
  {
   "cell_type": "code",
   "execution_count": null,
   "metadata": {
    "scrolled": false
   },
   "outputs": [],
   "source": [
    "x.shape"
   ]
  },
  {
   "cell_type": "code",
   "execution_count": null,
   "metadata": {},
   "outputs": [],
   "source": [
    "GreenIntCuda(A,B,return_dperm=True)"
   ]
  },
  {
   "cell_type": "code",
   "execution_count": null,
   "metadata": {},
   "outputs": [],
   "source": [
    "a,b = A[0][np.newaxis,:], B[0][np.newaxis,:]"
   ]
  },
  {
   "cell_type": "code",
   "execution_count": null,
   "metadata": {},
   "outputs": [],
   "source": [
    "GreenIntCuda(a,b, return_dperm=True)"
   ]
  },
  {
   "cell_type": "code",
   "execution_count": null,
   "metadata": {},
   "outputs": [],
   "source": [
    "GreenIntDataPreProcess(a,b)"
   ]
  },
  {
   "cell_type": "code",
   "execution_count": null,
   "metadata": {},
   "outputs": [],
   "source": [
    "str(z).replace(\"  \",\" \")"
   ]
  },
  {
   "cell_type": "code",
   "execution_count": null,
   "metadata": {},
   "outputs": [],
   "source": []
  },
  {
   "cell_type": "code",
   "execution_count": null,
   "metadata": {},
   "outputs": [],
   "source": [
    "%%time \n",
    "p_val_list = list()\n",
    "for a,b in zip(A,B):\n",
    "    pval, pdist = GreenFloatCuda(a,b,100,return_dperm=True)\n",
    "    p_val_list.append(pval[0])"
   ]
  },
  {
   "cell_type": "code",
   "execution_count": null,
   "metadata": {},
   "outputs": [],
   "source": [
    "p_val_arr = np.array(p_val_list)"
   ]
  },
  {
   "cell_type": "code",
   "execution_count": null,
   "metadata": {},
   "outputs": [],
   "source": [
    "SGM = significance_of_mean_cuda(100, dtype_v=np.uint32,dtype_A=np.float64)\n",
    "SGM.run(A,B)\n"
   ]
  },
  {
   "cell_type": "code",
   "execution_count": null,
   "metadata": {},
   "outputs": [],
   "source": [
    "SGM.p_values"
   ]
  },
  {
   "cell_type": "code",
   "execution_count": null,
   "metadata": {},
   "outputs": [],
   "source": [
    "p_val_arr"
   ]
  },
  {
   "cell_type": "code",
   "execution_count": null,
   "metadata": {},
   "outputs": [],
   "source": [
    "NotTNP_Arr = np.load(\"permutationTestCuda/data/notTNP.npy\")\n",
    "TNPdf = np.load(\"permutationTestCuda/data/TNPdf.npy\")"
   ]
  },
  {
   "cell_type": "code",
   "execution_count": null,
   "metadata": {},
   "outputs": [],
   "source": [
    "0.001165628433227539 * 1000"
   ]
  },
  {
   "cell_type": "code",
   "execution_count": null,
   "metadata": {},
   "outputs": [],
   "source": [
    "k = 2"
   ]
  },
  {
   "cell_type": "code",
   "execution_count": null,
   "metadata": {},
   "outputs": [],
   "source": [
    "6.72 * 3000"
   ]
  },
  {
   "cell_type": "code",
   "execution_count": null,
   "metadata": {},
   "outputs": [],
   "source": [
    "%time pval, pdist = GreenFloatCuda(TNPdf[:4000],NotTNP_Arr[:4000],100,return_dperm=True)"
   ]
  },
  {
   "cell_type": "code",
   "execution_count": null,
   "metadata": {},
   "outputs": [],
   "source": [
    "pval"
   ]
  },
  {
   "cell_type": "code",
   "execution_count": null,
   "metadata": {},
   "outputs": [],
   "source": []
  },
  {
   "cell_type": "code",
   "execution_count": null,
   "metadata": {},
   "outputs": [],
   "source": [
    "%%time \n",
    "p_val_list = list()\n",
    "for A,B in zip(TNPdf,NotTNP_Arr):\n",
    "    pval, pdist = GreenFloatCuda(TNPdf,NotTNP_Arr,6,return_dperm=True)\n",
    "    p_val_list.append(pval[0])"
   ]
  },
  {
   "cell_type": "code",
   "execution_count": null,
   "metadata": {},
   "outputs": [],
   "source": [
    "TNPdf.shape"
   ]
  },
  {
   "cell_type": "code",
   "execution_count": null,
   "metadata": {},
   "outputs": [],
   "source": [
    "%%time\n",
    "SGM = significance_of_mean_cuda(100, dtype_v=np.uint32,dtype_A=np.float64)\n",
    "SGM.run(TNPdf[:300],NotTNP_Arr[:300])\n"
   ]
  },
  {
   "cell_type": "code",
   "execution_count": null,
   "metadata": {},
   "outputs": [],
   "source": [
    "pval"
   ]
  },
  {
   "cell_type": "code",
   "execution_count": null,
   "metadata": {},
   "outputs": [],
   "source": [
    "SGM.p_values"
   ]
  },
  {
   "cell_type": "code",
   "execution_count": null,
   "metadata": {},
   "outputs": [],
   "source": [
    "3880 - 450\n"
   ]
  },
  {
   "cell_type": "code",
   "execution_count": null,
   "metadata": {},
   "outputs": [],
   "source": []
  },
  {
   "cell_type": "code",
   "execution_count": null,
   "metadata": {},
   "outputs": [],
   "source": [
    "np.array(p_val_list)"
   ]
  },
  {
   "cell_type": "code",
   "execution_count": null,
   "metadata": {},
   "outputs": [],
   "source": [
    "np.allclose(SGM.p_values, np.array(p_val_list))"
   ]
  },
  {
   "cell_type": "code",
   "execution_count": null,
   "metadata": {},
   "outputs": [],
   "source": [
    "GreenFloatDataPreProcess(TNPdf[8][np.newaxis,:],NotTNP_Arr[8][np.newaxis,:],100)"
   ]
  },
  {
   "cell_type": "code",
   "execution_count": null,
   "metadata": {},
   "outputs": [],
   "source": [
    "GreenFloatDataPreProcess(TNPdf[8][np.newaxis,:],NotTNP_Arr[8][np.newaxis,:],6)"
   ]
  },
  {
   "cell_type": "code",
   "execution_count": null,
   "metadata": {},
   "outputs": [],
   "source": [
    "TNPdf[8]"
   ]
  },
  {
   "cell_type": "code",
   "execution_count": null,
   "metadata": {},
   "outputs": [],
   "source": [
    "SGM.pdist[11]"
   ]
  },
  {
   "cell_type": "code",
   "execution_count": null,
   "metadata": {},
   "outputs": [],
   "source": [
    "GreenFloatCuda(TNPdf[8], NotTNP_Arr[8],6,return_dperm=True)"
   ]
  },
  {
   "cell_type": "code",
   "execution_count": null,
   "metadata": {},
   "outputs": [],
   "source": [
    "GreenFloatCuda(TNPdf[8], NotTNP_Arr[8],6,return_dperm=True)"
   ]
  },
  {
   "cell_type": "code",
   "execution_count": 1,
   "metadata": {},
   "outputs": [
    {
     "name": "stdout",
     "output_type": "stream",
     "text": [
      "--2020-09-01 17:19:11--  https://static-content.springer.com/esm/art%3A10.1038%2Fnature18003/MediaObjects/41586_2016_BFnature18003_MOESM111_ESM.zip\n",
      "Resolving static-content.springer.com (static-content.springer.com)... 151.101.84.95\n",
      "Connecting to static-content.springer.com (static-content.springer.com)|151.101.84.95|:443... connected.\n",
      "HTTP request sent, awaiting response... 200 OK\n",
      "Length: 138716400 (132M) [application/zip]\n",
      "Saving to: ‘data/41586_2016_BFnature18003_MOESM111_ESM.zip’\n",
      "\n",
      "41586_2016_BFnature 100%[===================>] 132,29M  72,0MB/s    in 1,8s    \n",
      "\n",
      "2020-09-01 17:19:15 (72,0 MB/s) - ‘data/41586_2016_BFnature18003_MOESM111_ESM.zip’ saved [138716400/138716400]\n",
      "\n",
      "Archive:  ./data/41586_2016_BFnature18003_MOESM111_ESM.zip\n",
      "   creating: ./data/nature18003-s2/\n",
      "  inflating: ./data/nature18003-s2/CPTAC_BC_SupplementaryTable01.xlsx  \n",
      "   creating: ./data/__MACOSX/\n",
      "   creating: ./data/__MACOSX/nature18003-s2/\n",
      "  inflating: ./data/__MACOSX/nature18003-s2/._CPTAC_BC_SupplementaryTable01.xlsx  \n",
      "  inflating: ./data/nature18003-s2/CPTAC_BC_SupplementaryTable02.xlsx  \n",
      "  inflating: ./data/__MACOSX/nature18003-s2/._CPTAC_BC_SupplementaryTable02.xlsx  \n",
      "  inflating: ./data/nature18003-s2/CPTAC_BC_SupplementaryTable03.xlsx  \n",
      "  inflating: ./data/__MACOSX/nature18003-s2/._CPTAC_BC_SupplementaryTable03.xlsx  \n",
      "  inflating: ./data/nature18003-s2/CPTAC_BC_SupplementaryTable04.xlsx  \n",
      "  inflating: ./data/__MACOSX/nature18003-s2/._CPTAC_BC_SupplementaryTable04.xlsx  \n",
      "  inflating: ./data/nature18003-s2/CPTAC_BC_SupplementaryTable05.xlsx  \n",
      "  inflating: ./data/__MACOSX/nature18003-s2/._CPTAC_BC_SupplementaryTable05.xlsx  \n",
      "  inflating: ./data/nature18003-s2/CPTAC_BC_SupplementaryTable06.xlsx  \n",
      "  inflating: ./data/__MACOSX/nature18003-s2/._CPTAC_BC_SupplementaryTable06.xlsx  \n",
      "  inflating: ./data/nature18003-s2/CPTAC_BC_SupplementaryTable07.xlsx  \n",
      "  inflating: ./data/__MACOSX/nature18003-s2/._CPTAC_BC_SupplementaryTable07.xlsx  \n",
      "  inflating: ./data/nature18003-s2/CPTAC_BC_SupplementaryTable08.xlsx  \n",
      "  inflating: ./data/__MACOSX/nature18003-s2/._CPTAC_BC_SupplementaryTable08.xlsx  \n",
      "  inflating: ./data/nature18003-s2/CPTAC_BC_SupplementaryTable09.xlsx  \n",
      "  inflating: ./data/__MACOSX/nature18003-s2/._CPTAC_BC_SupplementaryTable09.xlsx  \n",
      "  inflating: ./data/nature18003-s2/CPTAC_BC_SupplementaryTable10.xlsx  \n",
      "  inflating: ./data/__MACOSX/nature18003-s2/._CPTAC_BC_SupplementaryTable10.xlsx  \n",
      "  inflating: ./data/nature18003-s2/CPTAC_BC_SupplementaryTable11.xlsx  \n",
      "  inflating: ./data/__MACOSX/nature18003-s2/._CPTAC_BC_SupplementaryTable11.xlsx  \n",
      "  inflating: ./data/nature18003-s2/CPTAC_BC_SupplementaryTable12.xlsx  \n",
      "  inflating: ./data/__MACOSX/nature18003-s2/._CPTAC_BC_SupplementaryTable12.xlsx  \n",
      "  inflating: ./data/nature18003-s2/CPTAC_BC_SupplementaryTable13.xlsx  \n",
      "  inflating: ./data/__MACOSX/nature18003-s2/._CPTAC_BC_SupplementaryTable13.xlsx  \n",
      "  inflating: ./data/nature18003-s2/CPTAC_BC_SupplementaryTable14.xlsx  \n",
      "  inflating: ./data/__MACOSX/nature18003-s2/._CPTAC_BC_SupplementaryTable14.xlsx  \n",
      "  inflating: ./data/nature18003-s2/CPTAC_BC_SupplementaryTable15.xlsx  \n",
      "  inflating: ./data/__MACOSX/nature18003-s2/._CPTAC_BC_SupplementaryTable15.xlsx  \n",
      "  inflating: ./data/nature18003-s2/CPTAC_BC_SupplementaryTable16.xlsx  \n",
      "  inflating: ./data/__MACOSX/nature18003-s2/._CPTAC_BC_SupplementaryTable16.xlsx  \n",
      "  inflating: ./data/nature18003-s2/CPTAC_BC_SupplementaryTable17.xlsx  \n",
      "  inflating: ./data/__MACOSX/nature18003-s2/._CPTAC_BC_SupplementaryTable17.xlsx  \n",
      "  inflating: ./data/nature18003-s2/CPTAC_BC_SupplementaryTable18.xlsx  \n",
      "  inflating: ./data/__MACOSX/nature18003-s2/._CPTAC_BC_SupplementaryTable18.xlsx  \n",
      "  inflating: ./data/nature18003-s2/CPTAC_BC_SupplementaryTable19.xlsx  \n",
      "  inflating: ./data/__MACOSX/nature18003-s2/._CPTAC_BC_SupplementaryTable19.xlsx  \n"
     ]
    }
   ],
   "source": [
    "url = \"https://static-content.springer.com/esm/art%3A10.1038%2Fnature18003/MediaObjects/41586_2016_BFnature18003_MOESM111_ESM.zip\"\n",
    "!mkdir \"data/\"\n",
    "!wget -P \"data/\" \"https://static-content.springer.com/esm/art%3A10.1038%2Fnature18003/MediaObjects/41586_2016_BFnature18003_MOESM111_ESM.zip\"\n",
    "!unzip \"./data/41586_2016_BFnature18003_MOESM111_ESM.zip\" -d \"./data/\""
   ]
  },
  {
   "cell_type": "code",
   "execution_count": 6,
   "metadata": {},
   "outputs": [],
   "source": [
    "path = \"./data/nature18003-s2/\"\n",
    "T1 = pd.read_excel(path + \"CPTAC_BC_SupplementaryTable01.xlsx\")\n",
    "T3 = pd.read_excel(path + \"CPTAC_BC_SupplementaryTable03.xlsx\")"
   ]
  },
  {
   "cell_type": "markdown",
   "metadata": {},
   "source": [
    "## Extract important column headings"
   ]
  },
  {
   "cell_type": "code",
   "execution_count": 7,
   "metadata": {},
   "outputs": [],
   "source": [
    "paiteint_id = T1.columns[0]\n",
    "stats_col = T1.columns[5: 5 + 3]"
   ]
  },
  {
   "cell_type": "markdown",
   "metadata": {},
   "source": [
    "### Patient column  "
   ]
  },
  {
   "cell_type": "code",
   "execution_count": 8,
   "metadata": {},
   "outputs": [
    {
     "data": {
      "text/plain": [
       "'Sample ID'"
      ]
     },
     "execution_count": 8,
     "metadata": {},
     "output_type": "execute_result"
    }
   ],
   "source": [
    "paiteint_id"
   ]
  },
  {
   "cell_type": "markdown",
   "metadata": {},
   "source": [
    "### Cancer phenotype coulmns"
   ]
  },
  {
   "cell_type": "code",
   "execution_count": 9,
   "metadata": {},
   "outputs": [
    {
     "data": {
      "text/plain": [
       "Index(['ER Status', 'PR Status', 'HER2 Status'], dtype='object')"
      ]
     },
     "execution_count": 9,
     "metadata": {},
     "output_type": "execute_result"
    }
   ],
   "source": [
    "stats_col"
   ]
  },
  {
   "cell_type": "markdown",
   "metadata": {},
   "source": [
    "### Check viable phenotype status"
   ]
  },
  {
   "cell_type": "code",
   "execution_count": 10,
   "metadata": {},
   "outputs": [],
   "source": [
    "all_lab = list()\n",
    "for r in T1[stats_col].iterrows():\n",
    "    all_lab += list(r[1].values)"
   ]
  },
  {
   "cell_type": "code",
   "execution_count": 11,
   "metadata": {},
   "outputs": [
    {
     "data": {
      "text/plain": [
       "['Indeterminate', 'Equivocal', 'Positive', 'Negative']"
      ]
     },
     "execution_count": 11,
     "metadata": {},
     "output_type": "execute_result"
    }
   ],
   "source": [
    "list(set(all_lab))"
   ]
  },
  {
   "cell_type": "markdown",
   "metadata": {},
   "source": [
    "### Let's drop patient with \"Equivocal\" and \"Indeterminate\" status"
   ]
  },
  {
   "cell_type": "code",
   "execution_count": 12,
   "metadata": {},
   "outputs": [],
   "source": [
    "drop_label = ['Indeterminate', 'Equivocal']"
   ]
  },
  {
   "cell_type": "code",
   "execution_count": 13,
   "metadata": {},
   "outputs": [
    {
     "data": {
      "text/html": [
       "<div>\n",
       "<style scoped>\n",
       "    .dataframe tbody tr th:only-of-type {\n",
       "        vertical-align: middle;\n",
       "    }\n",
       "\n",
       "    .dataframe tbody tr th {\n",
       "        vertical-align: top;\n",
       "    }\n",
       "\n",
       "    .dataframe thead th {\n",
       "        text-align: right;\n",
       "    }\n",
       "</style>\n",
       "<table border=\"1\" class=\"dataframe\">\n",
       "  <thead>\n",
       "    <tr style=\"text-align: right;\">\n",
       "      <th></th>\n",
       "      <th>Sample ID</th>\n",
       "      <th>TCGA ID</th>\n",
       "      <th>Biospecimen Barcode Side</th>\n",
       "      <th>UIUD</th>\n",
       "      <th>PAM50</th>\n",
       "      <th>ER Status</th>\n",
       "      <th>PR Status</th>\n",
       "      <th>HER2 Status</th>\n",
       "      <th>QC Status</th>\n",
       "      <th>Proteome Cluster (see Fig. 3b)</th>\n",
       "      <th>...</th>\n",
       "      <th>iTRAQReporterIon</th>\n",
       "      <th>CommonControl</th>\n",
       "      <th>GATA3 Mutation</th>\n",
       "      <th>PIK3CA Mutation</th>\n",
       "      <th>TP53 Mutation</th>\n",
       "      <th>PIK3CA missense mutation in helical domain all tumors</th>\n",
       "      <th>PIK3CA missense mutation in kinase domain all tumors</th>\n",
       "      <th>TP53 Nonsense/Frameshift all tumors</th>\n",
       "      <th>TP53 Missense mutation all tumors</th>\n",
       "      <th>TP53 missense mutations in DNA binding domain all tumors</th>\n",
       "    </tr>\n",
       "  </thead>\n",
       "  <tbody>\n",
       "    <tr>\n",
       "      <th>0</th>\n",
       "      <td>A2-A0CM</td>\n",
       "      <td>TCGA-A2-A0CM</td>\n",
       "      <td>TCGA-A2-A0CM-01A-11-A21V-30</td>\n",
       "      <td>330F7598-824C-4CD6-9303-A27FE74A6695</td>\n",
       "      <td>Basal</td>\n",
       "      <td>Negative</td>\n",
       "      <td>Negative</td>\n",
       "      <td>Negative</td>\n",
       "      <td>pass</td>\n",
       "      <td>1.0</td>\n",
       "      <td>...</td>\n",
       "      <td>116</td>\n",
       "      <td>YES</td>\n",
       "      <td>NaN</td>\n",
       "      <td>NaN</td>\n",
       "      <td>Frame_Shift_Del|Somatic|p.E204fs</td>\n",
       "      <td>0.0</td>\n",
       "      <td>0.0</td>\n",
       "      <td>1.0</td>\n",
       "      <td>NaN</td>\n",
       "      <td>NaN</td>\n",
       "    </tr>\n",
       "    <tr>\n",
       "      <th>1</th>\n",
       "      <td>A2-A0D2</td>\n",
       "      <td>TCGA-A2-A0D2</td>\n",
       "      <td>TCGA-A2-A0D2-01A-12-A21W-30</td>\n",
       "      <td>308CCD79-C164-4397-92BC-A1CD243C8E7D</td>\n",
       "      <td>Basal</td>\n",
       "      <td>Negative</td>\n",
       "      <td>Negative</td>\n",
       "      <td>Negative</td>\n",
       "      <td>pass</td>\n",
       "      <td>1.0</td>\n",
       "      <td>...</td>\n",
       "      <td>114</td>\n",
       "      <td>NO</td>\n",
       "      <td>NaN</td>\n",
       "      <td>NaN</td>\n",
       "      <td>Frame_Shift_Del|Somatic|p.P318fs</td>\n",
       "      <td>0.0</td>\n",
       "      <td>0.0</td>\n",
       "      <td>1.0</td>\n",
       "      <td>NaN</td>\n",
       "      <td>NaN</td>\n",
       "    </tr>\n",
       "    <tr>\n",
       "      <th>2</th>\n",
       "      <td>A2-A0EQ</td>\n",
       "      <td>TCGA-A2-A0EQ</td>\n",
       "      <td>TCGA-A2-A0EQ-01A-41-A21W-30</td>\n",
       "      <td>04217F65-2907-478B-B0C5-EB65370198DA</td>\n",
       "      <td>Her2</td>\n",
       "      <td>Negative</td>\n",
       "      <td>Negative</td>\n",
       "      <td>Positive</td>\n",
       "      <td>pass</td>\n",
       "      <td>1.0</td>\n",
       "      <td>...</td>\n",
       "      <td>116</td>\n",
       "      <td>NO</td>\n",
       "      <td>NaN</td>\n",
       "      <td>Missense_Mutation|Somatic|p.H1047R</td>\n",
       "      <td>In_Frame_Del|Somatic|p.IY162in_frame_delN</td>\n",
       "      <td>NaN</td>\n",
       "      <td>1.0</td>\n",
       "      <td>NaN</td>\n",
       "      <td>NaN</td>\n",
       "      <td>NaN</td>\n",
       "    </tr>\n",
       "    <tr>\n",
       "      <th>3</th>\n",
       "      <td>A2-A0EV</td>\n",
       "      <td>TCGA-A2-A0EV</td>\n",
       "      <td>TCGA-A2-A0EV-01A-41-A21V-30</td>\n",
       "      <td>38F98E5F-7FA4-4C89-8D81-516CF865BEEB</td>\n",
       "      <td>LumA</td>\n",
       "      <td>Positive</td>\n",
       "      <td>Positive</td>\n",
       "      <td>Negative</td>\n",
       "      <td>pass</td>\n",
       "      <td>3.0</td>\n",
       "      <td>...</td>\n",
       "      <td>114</td>\n",
       "      <td>NO</td>\n",
       "      <td>NaN</td>\n",
       "      <td>In_Frame_Ins|Somatic|p.E469in_frame_insDK</td>\n",
       "      <td>NaN</td>\n",
       "      <td>NaN</td>\n",
       "      <td>NaN</td>\n",
       "      <td>0.0</td>\n",
       "      <td>0.0</td>\n",
       "      <td>0.0</td>\n",
       "    </tr>\n",
       "    <tr>\n",
       "      <th>4</th>\n",
       "      <td>A2-A0EX</td>\n",
       "      <td>TCGA-A2-A0EX</td>\n",
       "      <td>TCGA-A2-A0EX-01A-41-A21V-30</td>\n",
       "      <td>78271500-147B-40C5-B789-0CF0C7CDBCE2</td>\n",
       "      <td>LumA</td>\n",
       "      <td>Positive</td>\n",
       "      <td>Positive</td>\n",
       "      <td>Negative</td>\n",
       "      <td>pass</td>\n",
       "      <td>3.0</td>\n",
       "      <td>...</td>\n",
       "      <td>116</td>\n",
       "      <td>NO</td>\n",
       "      <td>NaN</td>\n",
       "      <td>Missense_Mutation|Somatic|p.E545K</td>\n",
       "      <td>NaN</td>\n",
       "      <td>1.0</td>\n",
       "      <td>NaN</td>\n",
       "      <td>0.0</td>\n",
       "      <td>0.0</td>\n",
       "      <td>0.0</td>\n",
       "    </tr>\n",
       "  </tbody>\n",
       "</table>\n",
       "<p>5 rows × 24 columns</p>\n",
       "</div>"
      ],
      "text/plain": [
       "  Sample ID       TCGA ID     Biospecimen Barcode Side  \\\n",
       "0   A2-A0CM  TCGA-A2-A0CM  TCGA-A2-A0CM-01A-11-A21V-30   \n",
       "1   A2-A0D2  TCGA-A2-A0D2  TCGA-A2-A0D2-01A-12-A21W-30   \n",
       "2   A2-A0EQ  TCGA-A2-A0EQ  TCGA-A2-A0EQ-01A-41-A21W-30   \n",
       "3   A2-A0EV  TCGA-A2-A0EV  TCGA-A2-A0EV-01A-41-A21V-30   \n",
       "4   A2-A0EX  TCGA-A2-A0EX  TCGA-A2-A0EX-01A-41-A21V-30   \n",
       "\n",
       "                                   UIUD  PAM50 ER Status PR Status  \\\n",
       "0  330F7598-824C-4CD6-9303-A27FE74A6695  Basal  Negative  Negative   \n",
       "1  308CCD79-C164-4397-92BC-A1CD243C8E7D  Basal  Negative  Negative   \n",
       "2  04217F65-2907-478B-B0C5-EB65370198DA   Her2  Negative  Negative   \n",
       "3  38F98E5F-7FA4-4C89-8D81-516CF865BEEB   LumA  Positive  Positive   \n",
       "4  78271500-147B-40C5-B789-0CF0C7CDBCE2   LumA  Positive  Positive   \n",
       "\n",
       "  HER2 Status QC Status  Proteome Cluster (see Fig. 3b)  ...  \\\n",
       "0    Negative      pass                             1.0  ...   \n",
       "1    Negative      pass                             1.0  ...   \n",
       "2    Positive      pass                             1.0  ...   \n",
       "3    Negative      pass                             3.0  ...   \n",
       "4    Negative      pass                             3.0  ...   \n",
       "\n",
       "   iTRAQReporterIon  CommonControl GATA3 Mutation  \\\n",
       "0               116            YES            NaN   \n",
       "1               114             NO            NaN   \n",
       "2               116             NO            NaN   \n",
       "3               114             NO            NaN   \n",
       "4               116             NO            NaN   \n",
       "\n",
       "                             PIK3CA Mutation  \\\n",
       "0                                        NaN   \n",
       "1                                        NaN   \n",
       "2         Missense_Mutation|Somatic|p.H1047R   \n",
       "3  In_Frame_Ins|Somatic|p.E469in_frame_insDK   \n",
       "4          Missense_Mutation|Somatic|p.E545K   \n",
       "\n",
       "                               TP53 Mutation  \\\n",
       "0           Frame_Shift_Del|Somatic|p.E204fs   \n",
       "1           Frame_Shift_Del|Somatic|p.P318fs   \n",
       "2  In_Frame_Del|Somatic|p.IY162in_frame_delN   \n",
       "3                                        NaN   \n",
       "4                                        NaN   \n",
       "\n",
       "  PIK3CA missense mutation in helical domain all tumors  \\\n",
       "0                                                0.0      \n",
       "1                                                0.0      \n",
       "2                                                NaN      \n",
       "3                                                NaN      \n",
       "4                                                1.0      \n",
       "\n",
       "  PIK3CA missense mutation in kinase domain all tumors  \\\n",
       "0                                                0.0     \n",
       "1                                                0.0     \n",
       "2                                                1.0     \n",
       "3                                                NaN     \n",
       "4                                                NaN     \n",
       "\n",
       "  TP53 Nonsense/Frameshift all tumors TP53 Missense mutation all tumors  \\\n",
       "0                                 1.0                               NaN   \n",
       "1                                 1.0                               NaN   \n",
       "2                                 NaN                               NaN   \n",
       "3                                 0.0                               0.0   \n",
       "4                                 0.0                               0.0   \n",
       "\n",
       "   TP53 missense mutations in DNA binding domain all tumors  \n",
       "0                                                NaN         \n",
       "1                                                NaN         \n",
       "2                                                NaN         \n",
       "3                                                0.0         \n",
       "4                                                0.0         \n",
       "\n",
       "[5 rows x 24 columns]"
      ]
     },
     "execution_count": 13,
     "metadata": {},
     "output_type": "execute_result"
    }
   ],
   "source": [
    "T1.head()"
   ]
  },
  {
   "cell_type": "code",
   "execution_count": 14,
   "metadata": {},
   "outputs": [],
   "source": [
    "mask1 = [True if (len(set(r[1].values) & set(drop_label)) == 0) else False for r in T1[stats_col].iterrows()]\n",
    "T1 = T1[mask1]\n",
    "T1.reset_index(drop=True, inplace=True)"
   ]
  },
  {
   "cell_type": "markdown",
   "metadata": {},
   "source": [
    "### Let's divide the dataframe into two dataframes with triple negative (TN) and non-triple negative (NTN)"
   ]
  },
  {
   "cell_type": "code",
   "execution_count": 15,
   "metadata": {},
   "outputs": [],
   "source": [
    "mask2 = [all([True if v=='Negative' else False for v in r[1].values] ) for r in T1[stats_col].iterrows()]\n",
    "\n",
    "T1_TNP = T1[np.array(mask2)]\n",
    "T1_TNP.reset_index(drop=True, inplace=True)\n",
    "\n",
    "T1_not_TNP = T1[~np.array(mask2)]\n",
    "T1_not_TNP.reset_index(drop=True, inplace=True)\n",
    "\n"
   ]
  },
  {
   "cell_type": "markdown",
   "metadata": {},
   "source": [
    "### Obtain patient ids for NT and NTN"
   ]
  },
  {
   "cell_type": "code",
   "execution_count": 16,
   "metadata": {},
   "outputs": [],
   "source": [
    "TNPpateintIds = T1_TNP[paiteint_id].values\n",
    "NotTNPpateintIds = T1_not_TNP[paiteint_id].values"
   ]
  },
  {
   "cell_type": "markdown",
   "metadata": {},
   "source": [
    "### Remove genes (rows) containing NaN for both TN and NTN i.e., make sure all patients have same the gene when comparing."
   ]
  },
  {
   "cell_type": "code",
   "execution_count": 17,
   "metadata": {},
   "outputs": [],
   "source": [
    "def getpatientId(ids):\n",
    "    patitentList = list()\n",
    "    for i in ids:\n",
    "        p_id = T3[T3.columns[[i in c for c in T3.columns]]].columns\n",
    "        patitentList += list(p_id)\n",
    "    return patitentList"
   ]
  },
  {
   "cell_type": "code",
   "execution_count": 18,
   "metadata": {},
   "outputs": [],
   "source": [
    "only_patientDf = T3[getpatientId(NotTNPpateintIds) + getpatientId(TNPpateintIds)]"
   ]
  },
  {
   "cell_type": "code",
   "execution_count": 19,
   "metadata": {},
   "outputs": [
    {
     "name": "stderr",
     "output_type": "stream",
     "text": [
      "/home/ekvall/anaconda3/envs/terran3/lib/python3.6/site-packages/ipykernel_launcher.py:1: SettingWithCopyWarning: \n",
      "A value is trying to be set on a copy of a slice from a DataFrame\n",
      "\n",
      "See the caveats in the documentation: https://pandas.pydata.org/pandas-docs/stable/user_guide/indexing.html#returning-a-view-versus-a-copy\n",
      "  \"\"\"Entry point for launching an IPython kernel.\n"
     ]
    }
   ],
   "source": [
    "only_patientDf.dropna(inplace=True)"
   ]
  },
  {
   "cell_type": "code",
   "execution_count": 20,
   "metadata": {},
   "outputs": [],
   "source": [
    "NotTNP_df =  only_patientDf[getpatientId(NotTNPpateintIds)]\n",
    "TNP_df =  only_patientDf[getpatientId(TNPpateintIds)]"
   ]
  },
  {
   "cell_type": "code",
   "execution_count": 22,
   "metadata": {},
   "outputs": [],
   "source": [
    "NotTNP_df.to_csv(\"experiment_data/experiment6/notTNPdf\", index=False)\n",
    "TNP_df.to_csv(\"experiment_data/experiment6/TNPdf\", index=False)"
   ]
  },
  {
   "cell_type": "markdown",
   "metadata": {},
   "source": [
    "### There are 80 patients without triple negative (NTN) and 26 patients with triple negtive (TN), and with a total of 8051 quantified genes."
   ]
  },
  {
   "cell_type": "markdown",
   "metadata": {},
   "source": [
    "# Experiment time"
   ]
  },
  {
   "cell_type": "markdown",
   "metadata": {},
   "source": [
    "## Let's start with a rather small binsize=6."
   ]
  },
  {
   "cell_type": "code",
   "execution_count": null,
   "metadata": {},
   "outputs": [],
   "source": [
    "%%time \n",
    "p_val_list = list()\n",
    "for A,B in zip(TNP_Arr,NotTNP_Arr):\n",
    "    pval, pdist = GreenFloatCuda(A, B,40,return_dperm=True)\n",
    "    p_val_list.append(pval)"
   ]
  },
  {
   "cell_type": "code",
   "execution_count": null,
   "metadata": {},
   "outputs": [],
   "source": [
    "pval, pdist = GreenFloatCuda(A, B,40,return_dperm=True)"
   ]
  },
  {
   "cell_type": "code",
   "execution_count": null,
   "metadata": {},
   "outputs": [],
   "source": [
    "pdist[0][pdist[0]!=0]"
   ]
  },
  {
   "cell_type": "code",
   "execution_count": null,
   "metadata": {},
   "outputs": [],
   "source": [
    "from significance_of_mean_cuda import significance_of_mean_cuda\n"
   ]
  },
  {
   "cell_type": "code",
   "execution_count": null,
   "metadata": {},
   "outputs": [],
   "source": [
    "%%time\n",
    "\n",
    "SGM = significance_of_mean_cuda(20, dtype_v=np.uint32,dtype_A=np.float64)\n",
    "SGM.run(TNP_Arr, NotTNP_Arr)\n"
   ]
  },
  {
   "cell_type": "code",
   "execution_count": null,
   "metadata": {},
   "outputs": [],
   "source": [
    "A,B = dpermTNP_Arr[0], NotTNP_Arr[0]"
   ]
  },
  {
   "cell_type": "code",
   "execution_count": null,
   "metadata": {},
   "outputs": [],
   "source": [
    "A,B = A[np.newaxis,:], B[np.newaxis,:]"
   ]
  },
  {
   "cell_type": "code",
   "execution_count": null,
   "metadata": {},
   "outputs": [],
   "source": [
    "pval, pdist = GreenFloatCuda(A, B,20,return_dperm=True)"
   ]
  },
  {
   "cell_type": "code",
   "execution_count": null,
   "metadata": {},
   "outputs": [],
   "source": [
    "pval"
   ]
  },
  {
   "cell_type": "code",
   "execution_count": null,
   "metadata": {},
   "outputs": [],
   "source": [
    "SGM = significance_of_mean_cuda(20, dtype_v=np.uint32,dtype_A=np.float64)\n",
    "SGM.run( A[,:], B[:,np.newaxis])\n"
   ]
  },
  {
   "cell_type": "code",
   "execution_count": null,
   "metadata": {},
   "outputs": [],
   "source": []
  },
  {
   "cell_type": "code",
   "execution_count": null,
   "metadata": {},
   "outputs": [],
   "source": [
    "SGM.digitized"
   ]
  },
  {
   "cell_type": "code",
   "execution_count": null,
   "metadata": {},
   "outputs": [],
   "source": [
    "NN = SGM.numerator.ravel()"
   ]
  },
  {
   "cell_type": "code",
   "execution_count": null,
   "metadata": {},
   "outputs": [],
   "source": [
    "NN= NN[NN!=0]"
   ]
  },
  {
   "cell_type": "code",
   "execution_count": null,
   "metadata": {},
   "outputs": [],
   "source": [
    "NN / NN.sum()"
   ]
  },
  {
   "cell_type": "code",
   "execution_count": null,
   "metadata": {},
   "outputs": [],
   "source": [
    "pdist[pdist!=0]"
   ]
  },
  {
   "cell_type": "code",
   "execution_count": null,
   "metadata": {},
   "outputs": [],
   "source": []
  },
  {
   "cell_type": "code",
   "execution_count": null,
   "metadata": {},
   "outputs": [],
   "source": [
    "np.array(P_e_list)"
   ]
  },
  {
   "cell_type": "code",
   "execution_count": null,
   "metadata": {},
   "outputs": [],
   "source": []
  },
  {
   "cell_type": "code",
   "execution_count": null,
   "metadata": {},
   "outputs": [],
   "source": [
    "x = pd.DataFrame(TNP_Arr, columns=list(range(TNP_Arr.shape[1]))).T\n",
    "y = pd.DataFrame(NotTNP_Arr, columns=list(range(NotTNP_Arr.shape[1]))).T\n",
    "n_samples = x.shape[1]\n",
    "outputDf = pd.DataFrame(n_samples * [0], columns=[\"output\"]).T"
   ]
  },
  {
   "cell_type": "code",
   "execution_count": null,
   "metadata": {},
   "outputs": [],
   "source": [
    "%R -i x\n",
    "%R -i y\n",
    "%R -i outputDf\n",
    "%R -i n_samples"
   ]
  },
  {
   "cell_type": "code",
   "execution_count": null,
   "metadata": {},
   "outputs": [],
   "source": [
    "%%R\n",
    "runFastPerm <- function(x,y,output, n_samples) {\n",
    "    e <- list(mode=\"vector\",length=n_samples)\n",
    "        for (i in 1:n_samples) {\n",
    "      \n",
    "            mStopDiffMean(x[[i]], y[[i]])\n",
    "            valX = fastPerm(x[[i]], y[[i]], testStat = diffMean)\n",
    "            \n",
    "            print(valX)\n",
    "            valX <-unlist(valX)\n",
    "\n",
    "      \n",
    "            output[[i]] <- as.numeric(valX[1])\n",
    "      \n",
    "            }\n",
    "    \n",
    "\n",
    "    return(output)\n",
    "\n",
    "\n",
    "}\n"
   ]
  },
  {
   "cell_type": "code",
   "execution_count": null,
   "metadata": {},
   "outputs": [],
   "source": [
    "start = time.time()\n",
    "%R out <- runFastPerm(x,y, outputDf, n_samples)\n",
    "end = time.time()\n",
    "print(end - start)"
   ]
  },
  {
   "cell_type": "code",
   "execution_count": null,
   "metadata": {},
   "outputs": [],
   "source": [
    "2738 / 60"
   ]
  },
  {
   "cell_type": "code",
   "execution_count": null,
   "metadata": {},
   "outputs": [],
   "source": [
    "%R -o out"
   ]
  },
  {
   "cell_type": "code",
   "execution_count": null,
   "metadata": {},
   "outputs": [],
   "source": [
    "outT = out.T"
   ]
  },
  {
   "cell_type": "code",
   "execution_count": null,
   "metadata": {},
   "outputs": [],
   "source": [
    "P_fp_list =list(outT.values.ravel())"
   ]
  },
  {
   "cell_type": "markdown",
   "metadata": {},
   "source": [
    "### Parallelized exact test takes ~3s"
   ]
  },
  {
   "cell_type": "code",
   "execution_count": null,
   "metadata": {},
   "outputs": [],
   "source": [
    "start = time.time()\n",
    "\n",
    "P_mw_list = MWU(TNP_Arr, NotTNP_Arr)\n",
    "\n",
    "end = time.time()\n",
    "print(end - start)"
   ]
  },
  {
   "cell_type": "markdown",
   "metadata": {},
   "source": [
    "### Mann-Whitney exact test takes ~1s"
   ]
  },
  {
   "cell_type": "code",
   "execution_count": null,
   "metadata": {},
   "outputs": [],
   "source": [
    "start = time.time()\n",
    "\n",
    "P_t_list = ttests(TNP_Arr, NotTNP_Arr, True)\n",
    "\n",
    "end = time.time()\n",
    "print(end - start)"
   ]
  },
  {
   "cell_type": "code",
   "execution_count": null,
   "metadata": {},
   "outputs": [],
   "source": [
    "df_e = pd.DataFrame({\"p\":P_e_list})\n",
    "df_mw = pd.DataFrame({\"p\":P_mw_list})\n",
    "df_tt = pd.DataFrame({\"p\":P_t_list})\n",
    "df_fp = pd.DataFrame({\"p\":list(np.array(P_fp_list) )})"
   ]
  },
  {
   "cell_type": "code",
   "execution_count": null,
   "metadata": {},
   "outputs": [],
   "source": [
    "df_e = qvalues(df_e, pi0=None)\n",
    "df_mw = qvalues(df_mw, pi0=None)\n",
    "df_tt = qvalues(df_tt, pi0=None)\n",
    "df_fp = qvalues(df_fp, pi0=None)"
   ]
  },
  {
   "cell_type": "code",
   "execution_count": null,
   "metadata": {},
   "outputs": [],
   "source": [
    "df_e[\"q\"][df_e[\"q\"]<0.01].shape[0]\n"
   ]
  },
  {
   "cell_type": "code",
   "execution_count": null,
   "metadata": {},
   "outputs": [],
   "source": [
    "df_mw[\"q\"][df_mw[\"q\"]<0.01].shape[0]"
   ]
  },
  {
   "cell_type": "code",
   "execution_count": null,
   "metadata": {},
   "outputs": [],
   "source": [
    "df_tt[\"q\"][df_tt[\"q\"]<0.01].shape[0]"
   ]
  },
  {
   "cell_type": "code",
   "execution_count": null,
   "metadata": {},
   "outputs": [],
   "source": [
    "df_fp[\"q\"][df_fp[\"q\"]<0.01].shape[0]"
   ]
  }
 ],
 "metadata": {
  "kernelspec": {
   "display_name": "Python (terran3)",
   "language": "python",
   "name": "terran3"
  },
  "language_info": {
   "codemirror_mode": {
    "name": "ipython",
    "version": 3
   },
   "file_extension": ".py",
   "mimetype": "text/x-python",
   "name": "python",
   "nbconvert_exporter": "python",
   "pygments_lexer": "ipython3",
   "version": "3.6.10"
  }
 },
 "nbformat": 4,
 "nbformat_minor": 2
}
