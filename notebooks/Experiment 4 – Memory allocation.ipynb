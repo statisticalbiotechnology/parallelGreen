{
 "cells": [
  {
   "cell_type": "code",
   "execution_count": 2,
   "metadata": {},
   "outputs": [],
   "source": [
    "import parallelPermutationTest as ppt\n",
    "import numpy as np\n",
    "from plots import timePlotSNS"
   ]
  },
  {
   "cell_type": "markdown",
   "metadata": {},
   "source": [
    "### Get synthetic data"
   ]
  },
  {
   "cell_type": "code",
   "execution_count": null,
   "metadata": {},
   "outputs": [],
   "source": [
    "path = \"figures/memoryAllocation\""
   ]
  },
  {
   "cell_type": "code",
   "execution_count": null,
   "metadata": {},
   "outputs": [],
   "source": [
    "import matplotlib.pyplot as plt\n",
    "import seaborn as sns\n",
    "import pandas as pd"
   ]
  },
  {
   "cell_type": "code",
   "execution_count": null,
   "metadata": {},
   "outputs": [],
   "source": [
    "def preparePandas(timeData, sampleSizes, name):\n",
    "    \"\"\"Create DF for sns-plots\"\"\"\n",
    "    preparePd = list()\n",
    "    for time, sample in zip(timeData, sampleSizes):\n",
    "        preparePd.append([str(name),time, sample])\n",
    "        \n",
    "            \n",
    "    return preparePd\n",
    "\n",
    "def timePlotSNS(TimeList_list, NameList, sampleShape, y_label , x_label ,log=False, path=None):\n",
    "    \"\"\"Create SNS timeseries-plot\"\"\"\n",
    "    a4_dims = (11.7/1.5, 8.27/1.5)\n",
    "    fig, ax = plt.subplots(figsize=a4_dims)\n",
    "    \n",
    "\n",
    "    \n",
    "    sns.set(style=\"white\")\n",
    "    sns.set_context(\"talk\")\n",
    "    \n",
    "    for i, (time_list, name) in enumerate(zip(TimeList_list, NameList)):\n",
    "        if log:\n",
    "            df = preparePandas(np.log10(time_list), sampleShape, name)\n",
    "        else:\n",
    "            df = preparePandas(time_list, sampleShape, name)\n",
    "            \n",
    "        if i ==0:\n",
    "            data = df\n",
    "        else:\n",
    "            data += df\n",
    "            \n",
    "    pdData = pd.DataFrame(data, columns=['Method', y_label,'bins'])\n",
    "    \n",
    "\n",
    "    if log:        \n",
    "        MAX = max(pdData[y_label])\n",
    "        MIN = min(pdData[y_label])\n",
    "\n",
    "        RANGE = np.arange(np.floor(MIN), np.ceil(MAX))\n",
    "        snsPlot = sns.lineplot(x=\"bins\", y=y_label,\n",
    "             hue=\"Method\",\n",
    "             data=pdData)#.set(yticks = RANGE, yticklabels=10**RANGE)\n",
    "        plt.yticks(RANGE, 10.0**RANGE)\n",
    "        \n",
    "        \n",
    "    else:\n",
    "        snsPlot = sns.lineplot(x=\"bins\", y=y_label,\n",
    "             hue=\"Method\",\n",
    "             data=pdData,)\n",
    "    \n",
    "\n",
    "    plt.xlabel(x_label, fontsize=20)\n",
    "    plt.ylabel(y_label, fontsize=20)\n",
    "    \n",
    "    \n",
    "    \n",
    "    handles, labels = ax.get_legend_handles_labels()\n",
    "    ax.legend(handles=handles[1:], labels=labels[1:])\n",
    "    \n",
    "    plt.setp(snsPlot.get_legend().get_texts(), fontsize=20)\n",
    "    plt.xticks(size = 20)\n",
    "    plt.yticks(size = 20)\n",
    "    plt.tight_layout()\n",
    "    \n",
    "    \n",
    "    \n",
    "    if path:   \n",
    "        fig = snsPlot.get_figure()\n",
    "        fig.savefig(path)"
   ]
  },
  {
   "cell_type": "code",
   "execution_count": null,
   "metadata": {},
   "outputs": [],
   "source": [
    "N = list(range(10,150,10))\n",
    "bins = [10,20,30]\n",
    "n_samples  = 1_000\n",
    "mean = 0\n",
    "std = 1\n",
    "\n",
    "variables = (N, bins, n_samples, mean, std)\n",
    "\n",
    "data_generator = lambda mean, std, size ,n_samples : [np.random.normal(mean, std, size) for _ in range(n_samples)]"
   ]
  },
  {
   "cell_type": "code",
   "execution_count": null,
   "metadata": {},
   "outputs": [],
   "source": [
    "def memoryAllocation_N(variables, data_generator):\n",
    "    N, bins, n_samples, mean, std = variables\n",
    "    allMemNList = list()\n",
    "    for b in bins:\n",
    "        memList = list()\n",
    "        for n in N:\n",
    "            A = np.asarray(data_generator(mean, std, n, n_samples))\n",
    "            B = np.asarray(data_generator(mean, std, n, n_samples))\n",
    "        \n",
    "            memList.append(pt.GreenFloatCuda_memcheck(A,B, b))\n",
    "        \n",
    "        allMemNList.append(memList)\n",
    "    \n",
    "    return allMemNList"
   ]
  },
  {
   "cell_type": "code",
   "execution_count": null,
   "metadata": {},
   "outputs": [],
   "source": [
    "allMemNList = memoryAllocation_N(variables, data_generator)"
   ]
  },
  {
   "cell_type": "code",
   "execution_count": null,
   "metadata": {},
   "outputs": [],
   "source": [
    "namesList= [r\"$n_{w}=10$\", r\"$n_{w}=20$\", r\"$n_{w}=30$\"]"
   ]
  },
  {
   "cell_type": "code",
   "execution_count": null,
   "metadata": {},
   "outputs": [],
   "source": [
    "timePlotSNS(allMemNList,namesList,N, \"Memory Alloc.(MiB)\",r\"$n$\", path=\"./figures/experiemnt4/MemAlloc_N\")"
   ]
  },
  {
   "cell_type": "code",
   "execution_count": null,
   "metadata": {},
   "outputs": [],
   "source": [
    "N = [100, 120, 140]\n",
    "bins = list(range(10,30,2))\n",
    "n_samples  = 1_000\n",
    "mean = 0\n",
    "std = 1\n",
    "\n",
    "variables = (N, bins, n_samples, mean, std)\n",
    "\n",
    "data_generator = lambda mean, std, size ,n_samples : [np.random.normal(mean, std, size) for _ in range(n_samples)]"
   ]
  },
  {
   "cell_type": "code",
   "execution_count": null,
   "metadata": {},
   "outputs": [],
   "source": [
    "def memoryAllocation_Bins(variables, data_generator):\n",
    "    N, bins, n_samples, mean, std = variables\n",
    "    allMemSList = list()\n",
    "    for n in N:\n",
    "        memList = list()\n",
    "        for b in bins:\n",
    "            A = np.asarray(data_generator(mean, std, n, n_samples))\n",
    "            B = np.asarray(data_generator(mean, std, n, n_samples))\n",
    "        \n",
    "            memList.append(pt.GreenFloatCuda_memcheck(A,B, b))\n",
    "        \n",
    "        allMemSList.append(memList)\n",
    "    return allMemSList\n",
    "        "
   ]
  },
  {
   "cell_type": "code",
   "execution_count": null,
   "metadata": {},
   "outputs": [],
   "source": [
    "allMemSList = memoryAllocation_Bins(variables, data_generator)"
   ]
  },
  {
   "cell_type": "code",
   "execution_count": null,
   "metadata": {},
   "outputs": [],
   "source": [
    "nameList = [r\"$n=100$\", r\"$n=120$\", r\"$n=140$\"]"
   ]
  },
  {
   "cell_type": "code",
   "execution_count": null,
   "metadata": {},
   "outputs": [],
   "source": [
    "timePlotSNS(allMemSList,nameList,bins, \"Memory Alloc.(MiB)\",r\"$n_{w}$\", path=\"./figures/experiemnt4/MemAlloc_Bins\")"
   ]
  }
 ],
 "metadata": {
  "kernelspec": {
   "display_name": "Python (terran3)",
   "language": "python",
   "name": "terran3"
  },
  "language_info": {
   "codemirror_mode": {
    "name": "ipython",
    "version": 3
   },
   "file_extension": ".py",
   "mimetype": "text/x-python",
   "name": "python",
   "nbconvert_exporter": "python",
   "pygments_lexer": "ipython3",
   "version": "3.6.10"
  }
 },
 "nbformat": 4,
 "nbformat_minor": 2
}
