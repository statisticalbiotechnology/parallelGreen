{
 "cells": [
  {
   "cell_type": "markdown",
   "metadata": {},
   "source": [
    "# Tutorial"
   ]
  },
  {
   "cell_type": "markdown",
   "metadata": {},
   "source": [
    "Import necessary packages"
   ]
  },
  {
   "cell_type": "code",
   "execution_count": 1,
   "metadata": {},
   "outputs": [],
   "source": [
    "import parallelPermutationTest as ppt\n",
    "import numpy as np\n",
    "import pandas as pd"
   ]
  },
  {
   "cell_type": "markdown",
   "metadata": {},
   "source": [
    "# Synthetic data: Integer data"
   ]
  },
  {
   "cell_type": "markdown",
   "metadata": {},
   "source": [
    "The permutation test only works on integer data, so when one has an integer dataset, one does not have to pre-process the data with a binning-procedure. Hence, one can use ppt.GreenIntCuda method."
   ]
  },
  {
   "cell_type": "markdown",
   "metadata": {},
   "source": [
    "Let's construct a synthetic dataset with integers ranging from 0 to 500, and with sample sizes of 500 elements."
   ]
  },
  {
   "cell_type": "code",
   "execution_count": 7,
   "metadata": {},
   "outputs": [],
   "source": [
    "n_samples = 1\n",
    "n = m =  500"
   ]
  },
  {
   "cell_type": "code",
   "execution_count": 8,
   "metadata": {},
   "outputs": [],
   "source": [
    "data = lambda n,n_samples : np.asarray([np.random.randint(0,n,n,dtype=np.int32) for _ in range(n_samples)])"
   ]
  },
  {
   "cell_type": "code",
   "execution_count": 9,
   "metadata": {},
   "outputs": [],
   "source": [
    "np.random.seed(1)\n",
    "A,B = data(n,1), data(n,1)"
   ]
  },
  {
   "cell_type": "markdown",
   "metadata": {},
   "source": [
    "The shift-algorithm implemented in the R-package Coin(https://cran.r-project.org/web/packages/coin/index.html) is probably the fastest version permutation test today. We have implemented a slightly speeded-up version of their version into Python."
   ]
  },
  {
   "cell_type": "code",
   "execution_count": 10,
   "metadata": {},
   "outputs": [
    {
     "name": "stdout",
     "output_type": "stream",
     "text": [
      "CPU times: user 24.3 s, sys: 253 ms, total: 24.6 s\n",
      "Wall time: 24.4 s\n"
     ]
    }
   ],
   "source": [
    "%time p_shift = ppt.CoinShiftInt(A,B)"
   ]
  },
  {
   "cell_type": "markdown",
   "metadata": {},
   "source": [
    "Greens algorithm is a slight variation of the shift-algorithm. Unfortunately, on a single thread, it's prolonged compared to the shift-algorithm.  However, it has the perk of being parallelizable. Let's check the available thread version."
   ]
  },
  {
   "cell_type": "code",
   "execution_count": 11,
   "metadata": {},
   "outputs": [
    {
     "name": "stdout",
     "output_type": "stream",
     "text": [
      "CPU times: user 1min 12s, sys: 388 ms, total: 1min 12s\n",
      "Wall time: 1min 12s\n"
     ]
    }
   ],
   "source": [
    "%time p_green = ppt.GreenInt(A,B)"
   ]
  },
  {
   "cell_type": "markdown",
   "metadata": {},
   "source": [
    "So when only a single thread is accessible, we would recommend using ppt.CoinShiftInt rather than ppt.GreenInt. However, when one has several threads, the Greens algorithm starts to shine. Let us take a look at a multithreaded version of the Greens algorithm. Here we are using an Intel(R) Core(TM) i7-9700K CPU @ 3.60GHz, which has eight threads."
   ]
  },
  {
   "cell_type": "code",
   "execution_count": 12,
   "metadata": {},
   "outputs": [
    {
     "name": "stdout",
     "output_type": "stream",
     "text": [
      "CPU times: user 3min 16s, sys: 782 ms, total: 3min 17s\n",
      "Wall time: 25 s\n"
     ]
    }
   ],
   "source": [
    "%time p_green_mt = ppt.GreenIntMultiThread(A,B)"
   ]
  },
  {
   "cell_type": "markdown",
   "metadata": {},
   "source": [
    "Quite a large speed-up, but still only on par with ppt.CoinShiftInt. Let us use more threads! We can use GPU for this. Here we use GeForce RTX 2070."
   ]
  },
  {
   "cell_type": "code",
   "execution_count": 13,
   "metadata": {},
   "outputs": [
    {
     "name": "stdout",
     "output_type": "stream",
     "text": [
      "CPU times: user 4.73 s, sys: 96.1 ms, total: 4.82 s\n",
      "Wall time: 4.83 s\n"
     ]
    }
   ],
   "source": [
    "%time p_green_gpu = ppt.GreenIntCuda(A,B)"
   ]
  },
  {
   "cell_type": "markdown",
   "metadata": {},
   "source": [
    "Great! We have essentially improved the run-time five times compared to ppt.CoinShiftInt."
   ]
  },
  {
   "cell_type": "markdown",
   "metadata": {},
   "source": [
    "Let us ensure that they all yield the same result."
   ]
  },
  {
   "cell_type": "code",
   "execution_count": 14,
   "metadata": {},
   "outputs": [
    {
     "data": {
      "text/plain": [
       "True"
      ]
     },
     "execution_count": 14,
     "metadata": {},
     "output_type": "execute_result"
    }
   ],
   "source": [
    "np.allclose(p_shift, p_green, p_green_mt, p_green_gpu)"
   ]
  },
  {
   "cell_type": "markdown",
   "metadata": {},
   "source": [
    "# Real data: Finance"
   ]
  },
  {
   "cell_type": "markdown",
   "metadata": {},
   "source": [
    "This is example is based on https://www.datacamp.com/community/tutorials/stocks-significance-testing-p-hacking."
   ]
  },
  {
   "cell_type": "markdown",
   "metadata": {},
   "source": [
    "### The claim is: \"Over the past 32 years, October has been the most volatile month on average for the S&P500 and December the least volatile\". \n"
   ]
  },
  {
   "cell_type": "markdown",
   "metadata": {},
   "source": [
    "### Let's check if this is statistically significant."
   ]
  },
  {
   "cell_type": "markdown",
   "metadata": {},
   "source": [
    "We have to download and pre-process the data."
   ]
  },
  {
   "cell_type": "code",
   "execution_count": 15,
   "metadata": {},
   "outputs": [],
   "source": [
    "#Daily S&P500 data from 1986==>\n",
    "url = \"https://raw.githubusercontent.com/Patrick-David/Stocks_Significance_PHacking/master/spx.csv\"\n",
    "df = pd.read_csv(url,index_col='date', parse_dates=True)\n",
    "\n"
   ]
  },
  {
   "cell_type": "code",
   "execution_count": 16,
   "metadata": {},
   "outputs": [],
   "source": [
    "#To model returns we will use daily % change\n",
    "daily_ret = df['close'].pct_change()\n",
    "#drop the 1st value - nan\n",
    "daily_ret.dropna(inplace=True)\n"
   ]
  },
  {
   "cell_type": "code",
   "execution_count": 17,
   "metadata": {},
   "outputs": [],
   "source": [
    "mnthly_annu = daily_ret.resample('M').std()* np.sqrt(12)"
   ]
  },
  {
   "cell_type": "code",
   "execution_count": 18,
   "metadata": {},
   "outputs": [],
   "source": [
    "dec_vol = mnthly_annu[mnthly_annu.index.month==12]\n",
    "rest_vol = mnthly_annu[mnthly_annu.index.month!=12]"
   ]
  },
  {
   "cell_type": "code",
   "execution_count": 19,
   "metadata": {},
   "outputs": [
    {
     "data": {
      "text/plain": [
       "date\n",
       "1986-12-31    0.026474\n",
       "1987-12-31    0.061435\n",
       "Name: close, dtype: float64"
      ]
     },
     "execution_count": 19,
     "metadata": {},
     "output_type": "execute_result"
    }
   ],
   "source": [
    "dec_vol.head(2)"
   ]
  },
  {
   "cell_type": "code",
   "execution_count": 20,
   "metadata": {},
   "outputs": [
    {
     "data": {
      "text/plain": [
       "((32,), (358,))"
      ]
     },
     "execution_count": 20,
     "metadata": {},
     "output_type": "execute_result"
    }
   ],
   "source": [
    "(dec_vol.values.shape, rest_vol.values.shape)"
   ]
  },
  {
   "cell_type": "markdown",
   "metadata": {},
   "source": [
    "Here we have float data, i.e., real values. So we can not use ppt.GreenIntCuda. We have to pre-process the data with a binning procedure. Let us take 500 bins. This procedure will map all values into 500 integer bins. "
   ]
  },
  {
   "cell_type": "code",
   "execution_count": 21,
   "metadata": {},
   "outputs": [],
   "source": [
    "n_bins = 500"
   ]
  },
  {
   "cell_type": "code",
   "execution_count": 22,
   "metadata": {},
   "outputs": [
    {
     "name": "stdout",
     "output_type": "stream",
     "text": [
      "CPU times: user 5.08 ms, sys: 7 µs, total: 5.08 ms\n",
      "Wall time: 4.37 ms\n"
     ]
    }
   ],
   "source": [
    "%time p = ppt.GreenFloatCuda(dec_vol.values, rest_vol.values, n_bins)"
   ]
  },
  {
   "cell_type": "code",
   "execution_count": 23,
   "metadata": {},
   "outputs": [
    {
     "data": {
      "text/plain": [
       "array([0.36120981])"
      ]
     },
     "execution_count": 23,
     "metadata": {},
     "output_type": "execute_result"
    }
   ],
   "source": [
    "p"
   ]
  },
  {
   "cell_type": "markdown",
   "metadata": {},
   "source": [
    "That December is the least volatile month seems not to be statistically significant."
   ]
  },
  {
   "cell_type": "markdown",
   "metadata": {},
   "source": [
    "# Real data: Biomedical data"
   ]
  },
  {
   "cell_type": "markdown",
   "metadata": {},
   "source": [
    "### We want to see if there are any significant genes in breast cancer patients."
   ]
  },
  {
   "cell_type": "markdown",
   "metadata": {},
   "source": [
    "Let import the pre-processed from the Experiment 6 notebook."
   ]
  },
  {
   "cell_type": "code",
   "execution_count": 24,
   "metadata": {},
   "outputs": [],
   "source": [
    "NotTNP_df = pd.read_csv(\"experiment_data/experiment6/notTNPdf\")\n",
    "TNP_df = pd.read_csv(\"experiment_data/experiment6/TNPdf\")"
   ]
  },
  {
   "cell_type": "code",
   "execution_count": 25,
   "metadata": {},
   "outputs": [
    {
     "data": {
      "text/plain": [
       "((8051, 26), (8051, 80))"
      ]
     },
     "execution_count": 25,
     "metadata": {},
     "output_type": "execute_result"
    }
   ],
   "source": [
    "(TNP_df.shape, NotTNP_df.shape)"
   ]
  },
  {
   "cell_type": "code",
   "execution_count": 26,
   "metadata": {},
   "outputs": [
    {
     "data": {
      "text/html": [
       "<div>\n",
       "<style scoped>\n",
       "    .dataframe tbody tr th:only-of-type {\n",
       "        vertical-align: middle;\n",
       "    }\n",
       "\n",
       "    .dataframe tbody tr th {\n",
       "        vertical-align: top;\n",
       "    }\n",
       "\n",
       "    .dataframe thead th {\n",
       "        text-align: right;\n",
       "    }\n",
       "</style>\n",
       "<table border=\"1\" class=\"dataframe\">\n",
       "  <thead>\n",
       "    <tr style=\"text-align: right;\">\n",
       "      <th></th>\n",
       "      <th>A2-A0CM.07TCGA</th>\n",
       "      <th>A2-A0D2.31TCGA</th>\n",
       "      <th>A2-A0SX.36TCGA</th>\n",
       "      <th>A2-A0YM.36TCGA</th>\n",
       "      <th>A7-A0CE.13TCGA</th>\n",
       "      <th>AN-A0AL.28TCGA</th>\n",
       "      <th>AN-A0FL.19TCGA</th>\n",
       "      <th>AO-A0J6.11TCGA</th>\n",
       "      <th>AO-A0JL.35TCGA</th>\n",
       "      <th>AO-A12F.22TCGA</th>\n",
       "      <th>...</th>\n",
       "      <th>C8-A134.32TCGA</th>\n",
       "      <th>D8-A142.18TCGA</th>\n",
       "      <th>E2-A158.29TCGA</th>\n",
       "      <th>A2-A0D0.06TCGA</th>\n",
       "      <th>A2-A0T2.21TCGA</th>\n",
       "      <th>AR-A1AQ.34TCGA</th>\n",
       "      <th>BH-A0E0.10TCGA</th>\n",
       "      <th>BH-A18V.12TCGA</th>\n",
       "      <th>E2-A150.27TCGA</th>\n",
       "      <th>E2-A159.24TCGA</th>\n",
       "    </tr>\n",
       "  </thead>\n",
       "  <tbody>\n",
       "    <tr>\n",
       "      <th>0</th>\n",
       "      <td>0.683404</td>\n",
       "      <td>0.107491</td>\n",
       "      <td>-0.398560</td>\n",
       "      <td>0.655850</td>\n",
       "      <td>-1.123173</td>\n",
       "      <td>0.323663</td>\n",
       "      <td>2.455138</td>\n",
       "      <td>0.831132</td>\n",
       "      <td>-0.10668</td>\n",
       "      <td>-1.947792</td>\n",
       "      <td>...</td>\n",
       "      <td>0.140182</td>\n",
       "      <td>0.538596</td>\n",
       "      <td>-1.086529</td>\n",
       "      <td>-2.579532</td>\n",
       "      <td>-0.642941</td>\n",
       "      <td>-2.367201</td>\n",
       "      <td>-2.316136</td>\n",
       "      <td>0.500384</td>\n",
       "      <td>-1.446040</td>\n",
       "      <td>-1.463032</td>\n",
       "    </tr>\n",
       "    <tr>\n",
       "      <th>1</th>\n",
       "      <td>0.694424</td>\n",
       "      <td>0.104164</td>\n",
       "      <td>-0.392601</td>\n",
       "      <td>0.658143</td>\n",
       "      <td>-1.123173</td>\n",
       "      <td>0.326973</td>\n",
       "      <td>2.480137</td>\n",
       "      <td>0.856540</td>\n",
       "      <td>-0.10668</td>\n",
       "      <td>-1.952718</td>\n",
       "      <td>...</td>\n",
       "      <td>0.126054</td>\n",
       "      <td>0.542211</td>\n",
       "      <td>-1.095492</td>\n",
       "      <td>-2.536336</td>\n",
       "      <td>-0.600538</td>\n",
       "      <td>-2.312576</td>\n",
       "      <td>-2.280216</td>\n",
       "      <td>0.520345</td>\n",
       "      <td>-1.380212</td>\n",
       "      <td>-1.404991</td>\n",
       "    </tr>\n",
       "  </tbody>\n",
       "</table>\n",
       "<p>2 rows × 26 columns</p>\n",
       "</div>"
      ],
      "text/plain": [
       "   A2-A0CM.07TCGA  A2-A0D2.31TCGA  A2-A0SX.36TCGA  A2-A0YM.36TCGA  \\\n",
       "0        0.683404        0.107491       -0.398560        0.655850   \n",
       "1        0.694424        0.104164       -0.392601        0.658143   \n",
       "\n",
       "   A7-A0CE.13TCGA  AN-A0AL.28TCGA  AN-A0FL.19TCGA  AO-A0J6.11TCGA  \\\n",
       "0       -1.123173        0.323663        2.455138        0.831132   \n",
       "1       -1.123173        0.326973        2.480137        0.856540   \n",
       "\n",
       "   AO-A0JL.35TCGA  AO-A12F.22TCGA  ...  C8-A134.32TCGA  D8-A142.18TCGA  \\\n",
       "0        -0.10668       -1.947792  ...        0.140182        0.538596   \n",
       "1        -0.10668       -1.952718  ...        0.126054        0.542211   \n",
       "\n",
       "   E2-A158.29TCGA  A2-A0D0.06TCGA  A2-A0T2.21TCGA  AR-A1AQ.34TCGA  \\\n",
       "0       -1.086529       -2.579532       -0.642941       -2.367201   \n",
       "1       -1.095492       -2.536336       -0.600538       -2.312576   \n",
       "\n",
       "   BH-A0E0.10TCGA  BH-A18V.12TCGA  E2-A150.27TCGA  E2-A159.24TCGA  \n",
       "0       -2.316136        0.500384       -1.446040       -1.463032  \n",
       "1       -2.280216        0.520345       -1.380212       -1.404991  \n",
       "\n",
       "[2 rows x 26 columns]"
      ]
     },
     "execution_count": 26,
     "metadata": {},
     "output_type": "execute_result"
    }
   ],
   "source": [
    "TNP_df.head(2)"
   ]
  },
  {
   "cell_type": "markdown",
   "metadata": {},
   "source": [
    "This dataset is quite large (8051 experiments) with floating values. Let us take 100 bins. However, we have to be careful, so we do not overload the GPU. Let us make a memory check."
   ]
  },
  {
   "cell_type": "code",
   "execution_count": 27,
   "metadata": {},
   "outputs": [],
   "source": [
    "n_bins = 100"
   ]
  },
  {
   "cell_type": "code",
   "execution_count": 28,
   "metadata": {},
   "outputs": [
    {
     "name": "stdout",
     "output_type": "stream",
     "text": [
      "Warning: The data requires 23503.55Mib, and the GPU has 7639Mib available, so there is 15864.55Mib too little memory. Consider dividing the data into batches.\n"
     ]
    }
   ],
   "source": [
    "ppt.GreenFloatCuda_memcheck(TNP_df.values, NotTNP_df.values, n_bins)"
   ]
  },
  {
   "cell_type": "markdown",
   "metadata": {},
   "source": [
    "We need to divide our data into batches."
   ]
  },
  {
   "cell_type": "code",
   "execution_count": 29,
   "metadata": {},
   "outputs": [],
   "source": [
    "batch_size = int(TNP_df.shape[0] / 4)"
   ]
  },
  {
   "cell_type": "code",
   "execution_count": 30,
   "metadata": {},
   "outputs": [
    {
     "name": "stdout",
     "output_type": "stream",
     "text": [
      "CPU times: user 4.21 s, sys: 524 ms, total: 4.74 s\n",
      "Wall time: 4.72 s\n"
     ]
    }
   ],
   "source": [
    "%time p_values = ppt.GreenFloatCuda(TNP_df.values, NotTNP_df.values, 100, batch_size=batch_size)"
   ]
  }
 ],
 "metadata": {
  "kernelspec": {
   "display_name": "Python (terran3)",
   "language": "python",
   "name": "terran3"
  },
  "language_info": {
   "codemirror_mode": {
    "name": "ipython",
    "version": 3
   },
   "file_extension": ".py",
   "mimetype": "text/x-python",
   "name": "python",
   "nbconvert_exporter": "python",
   "pygments_lexer": "ipython3",
   "version": "3.6.10"
  }
 },
 "nbformat": 4,
 "nbformat_minor": 2
}
