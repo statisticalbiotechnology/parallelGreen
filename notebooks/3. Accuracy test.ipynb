{
 "cells": [
  {
   "cell_type": "code",
   "execution_count": 1,
   "metadata": {},
   "outputs": [],
   "source": [
    "import permutationTest as pt"
   ]
  },
  {
   "cell_type": "code",
   "execution_count": 2,
   "metadata": {},
   "outputs": [
    {
     "ename": "ModuleNotFoundError",
     "evalue": "No module named 'pandas'",
     "output_type": "error",
     "traceback": [
      "\u001b[0;31m---------------------------------------------------------------------------\u001b[0m",
      "\u001b[0;31mModuleNotFoundError\u001b[0m                       Traceback (most recent call last)",
      "\u001b[0;32m<ipython-input-2-8dc0dd8d74bb>\u001b[0m in \u001b[0;36m<module>\u001b[0;34m\u001b[0m\n\u001b[1;32m      3\u001b[0m \u001b[0;32mfrom\u001b[0m \u001b[0mscipy\u001b[0m\u001b[0;34m.\u001b[0m\u001b[0mstats\u001b[0m \u001b[0;32mimport\u001b[0m \u001b[0mmannwhitneyu\u001b[0m\u001b[0;34m,\u001b[0m \u001b[0mttest_ind\u001b[0m\u001b[0;34m\u001b[0m\u001b[0;34m\u001b[0m\u001b[0m\n\u001b[1;32m      4\u001b[0m \u001b[0;32mimport\u001b[0m \u001b[0mpermutationTest\u001b[0m \u001b[0;32mas\u001b[0m \u001b[0mpt\u001b[0m\u001b[0;34m\u001b[0m\u001b[0;34m\u001b[0m\u001b[0m\n\u001b[0;32m----> 5\u001b[0;31m \u001b[0;32mimport\u001b[0m \u001b[0mpandas\u001b[0m \u001b[0;32mas\u001b[0m \u001b[0mpd\u001b[0m\u001b[0;34m\u001b[0m\u001b[0;34m\u001b[0m\u001b[0m\n\u001b[0m",
      "\u001b[0;31mModuleNotFoundError\u001b[0m: No module named 'pandas'"
     ]
    }
   ],
   "source": [
    "#from utils2 import getSynteticData, SNSMultipleboxPlot, ttests, MWU, exactTest, getErrors\n",
    "import numpy as np\n",
    "from scipy.stats import mannwhitneyu, ttest_ind\n",
    "import permutationTest as pt\n",
    "import pandas as pd"
   ]
  },
  {
   "cell_type": "code",
   "execution_count": null,
   "metadata": {},
   "outputs": [],
   "source": [
    "%load_ext cython\n",
    "%load_ext rpy2.ipython\n"
   ]
  },
  {
   "cell_type": "code",
   "execution_count": null,
   "metadata": {},
   "outputs": [],
   "source": [
    "%%R\n",
    "\n",
    "install.packages(\"coin\")\n",
    "\n",
    "install.packages(\"ggplot2\")\n",
    "\n",
    "install.packages(\"perm\")\n",
    "\n",
    "install.packages(\"exactRankTests\")\n",
    "\n",
    "\n",
    "library(ggplot2)\n",
    "library(coin)"
   ]
  },
  {
   "cell_type": "code",
   "execution_count": null,
   "metadata": {},
   "outputs": [],
   "source": [
    "%%R\n",
    "    runMcCoin <- function(x,y,batches,output,n_samples) {\n",
    "       e <- list(mode=\"vector\",length=n_samples)\n",
    "        for (i in 1:n_samples) {\n",
    "            \n",
    "            DV <- c(x[[i]], y[[i]])\n",
    "            IV <- factor(rep(c(\"A\", \"B\"), c(length(x[[i]]), length(y[[i]]))))\n",
    "                    # for oneway_test(), pvalue()\n",
    "            output[[i]] <- pvalue(oneway_test(DV ~ IV, distribution=\"approximate\"))\n",
    "            #output[[i]] <- pvalue(oneway_test(DV ~ IV, distribution=\"split-up\"\"))\n",
    "      \n",
    "            \n",
    "      \n",
    "            \n",
    "            }\n",
    "    \n",
    "\n",
    "    return(output)\n",
    "        \n",
    "    }"
   ]
  },
  {
   "cell_type": "code",
   "execution_count": null,
   "metadata": {},
   "outputs": [],
   "source": [
    "def McCoin(A,B, batches):\n",
    "    x = pd.DataFrame(A, columns=list(range(A.shape[1]))).T\n",
    "    y = pd.DataFrame(B, columns=list(range(B.shape[1]))).T\n",
    "    n_samples = x.shape[1]\n",
    "    outputDf = pd.DataFrame(n_samples * [0], columns=[\"output\"]).T\n",
    "    \n",
    "    %R -i x\n",
    "    %R -i y\n",
    "    %R -i batches\n",
    "    %R -i outputDf\n",
    "    %R -i n_samples\n",
    "    \n",
    "    \n",
    "    %R out <- runMcCoin(x,y, batches, outputDf, n_samples)\n",
    "    \n",
    "    \n",
    "    %R -o out\n",
    "    return list(out.T[\"output\"].values)\n",
    "\n"
   ]
  },
  {
   "cell_type": "code",
   "execution_count": null,
   "metadata": {},
   "outputs": [],
   "source": [
    "def getSynteticData(func, setN=10, sampleN=2_000, mean=0, std=1,seed=1):\n",
    "    \"\"\"Generate synthetic data\"\"\"\n",
    "    np.random.seed(seed)\n",
    "    AN, BN = [func(mean,std,setN) for i in range(sampleN)], [func(0,std,setN) for i in range(sampleN)]\n",
    "    return AN, BN\n",
    "\n",
    "def getErrors(pValList, pTtestList, rel=True):\n",
    "    relatvieErrorList = list()\n",
    "    for pv, pt in zip(pValList, pTtestList):\n",
    "        if rel:\n",
    "            relatvieErrorList.append(relError(pv, pt))\n",
    "        else:\n",
    "            relatvieErrorList.append(frac(pv, pt))\n",
    "            \n",
    "    return relatvieErrorList\n",
    "\n",
    "def relError(x,y):\n",
    "    return frac((x - y), y) \n",
    "def frac(x,y):\n",
    "    return x / y"
   ]
  },
  {
   "cell_type": "code",
   "execution_count": null,
   "metadata": {},
   "outputs": [],
   "source": [
    "def exactTest(A,B, bins=10, one_side=False):\n",
    "    return pt.GreenFloatCuda(A,B,bins)\n",
    "    \n",
    "    \n",
    "def MWU(A, B, one_side=False):\n",
    "    p_mw = list()\n",
    "    for a,b in zip(A, B):\n",
    "        if one_side:\n",
    "            p_mw.append(mannwhitneyu(a,b, alternative=\"less\")[1])\n",
    "        else:\n",
    "            p_mw.append(mannwhitneyu(a,b, alternative=\"two-sided\")[1])\n",
    "    return p_mw\n",
    "\n",
    "def ttests(A,B, one_side=False):\n",
    "    p_t = list()\n",
    "    for x, y in zip(A, B):\n",
    "        t, p = ttest_ind(y, x)\n",
    "        if one_side:\n",
    "            p = p/2\n",
    "            if t<0:\n",
    "                p = 1-p\n",
    "        p_t.append(p)\n",
    "    return p_t"
   ]
  },
  {
   "cell_type": "code",
   "execution_count": null,
   "metadata": {},
   "outputs": [],
   "source": [
    "999999+1"
   ]
  },
  {
   "cell_type": "code",
   "execution_count": null,
   "metadata": {},
   "outputs": [],
   "source": [
    "100000"
   ]
  },
  {
   "cell_type": "code",
   "execution_count": null,
   "metadata": {},
   "outputs": [],
   "source": [
    "10**-6"
   ]
  },
  {
   "cell_type": "code",
   "execution_count": null,
   "metadata": {},
   "outputs": [],
   "source": [
    "def getPvalues(mean=0.2):\n",
    "    allFracList1 = list()\n",
    "    allFracMWUList1 = list()\n",
    "    allFracFPList1 = list()\n",
    "    for setS in setSize:\n",
    "        Anorm0, Bnorm0 = getSynteticData(np.random.normal, mean=mean, setN=setS,sampleN=50)\n",
    "        \n",
    "        ptTest  = ttests(Anorm0, Bnorm0)\n",
    "        \n",
    "        peList = exactTest(np.asarray(Anorm0), np.asarray(Bnorm0), bins=30)\n",
    "\n",
    "        ExactFracList = getErrors(peList, ptTest, False) \n",
    "        allFracList1.append(np.log10(ExactFracList))\n",
    "    \n",
    "        pmwList = MWU(Anorm0, Bnorm0)\n",
    "        MWUFracList = getErrors(pmwList, ptTest, False) \n",
    "        allFracMWUList1.append(np.log10(np.abs(MWUFracList)))\n",
    "    \n",
    "\n",
    "        ptfp = McCoin(np.array(Anorm0), np.array(Bnorm0),999999)\n",
    "        FPFracList = getErrors(ptfp, ptTest, False)\n",
    "        allFracFPList1.append(np.log10(FPFracList))\n",
    "    \n",
    "    #return allFracList1, allFracMWUList1, allFracFPList1\n",
    "    return ptTest, peList, pmwList, ptfp\n",
    "\n",
    "def getNwPlot(setSize, mean=0.1):\n",
    "    N_w = list(range(5, 105,5))\n",
    "    allEerrorNw, allEerrorNwFrac = list(), list()\n",
    "    for n_w in N_w:\n",
    "        Anorm0, Bnorm0 = getSynteticData(np.random.normal, mean=mean, setN=setSize,sampleN=50)\n",
    "        ptTest  = ttests(Anorm0, Bnorm0)\n",
    "    \n",
    "        peList = exactTest(Anorm0, Bnorm0, bins=n_w)\n",
    "        ExactErrorList = getErrors(peList, ptTest)\n",
    "        ExactFracList = getErrors(peList, ptTest, False) \n",
    "        allEerrorNw.append(np.log10(np.abs(ExactErrorList)))\n",
    "        allEerrorNwFrac.append(np.log10(ExactFracList))\n",
    "    return allEerrorNwFrac, N_w\n",
    "    \n",
    "    "
   ]
  },
  {
   "cell_type": "code",
   "execution_count": null,
   "metadata": {},
   "outputs": [],
   "source": [
    "import matplotlib.pyplot as plt\n",
    "import seaborn as sns\n",
    "\n",
    "def prepareBoxPandas(timeData, sampleSizes,label=None):\n",
    "    preparePd = list()\n",
    "    for time, sample in zip(timeData, sampleSizes):\n",
    "        for t in time:\n",
    "            if label:\n",
    "                preparePd.append([t, sample, label])\n",
    "            else:\n",
    "                preparePd.append([t, sample])\n",
    "    return preparePd\n",
    "\n",
    "def SNSMultipleboxPlot(allEerrorList, Bin, allMWUList=None, allFPList=None, log=True, \n",
    "                       path=None, test_type=\"setSize\", relError=True, dashed=False,\n",
    "                       ylim=False):\n",
    "    \n",
    "    plt.figure(figsize=(16, 10))\n",
    "    \n",
    "    dataParallel = prepareBoxPandas(allEerrorList, Bin, \"Parallel Green\")\n",
    "    \n",
    "    data= dataParallel\n",
    "    \n",
    "    if allFPList:\n",
    "        dataFastApprox = prepareBoxPandas(allFPList, Bin, \"FastPerm\")\n",
    "        data += dataFastApprox\n",
    "    if allMWUList:\n",
    "        MannWhitneyApprox = prepareBoxPandas(allMWUList, Bin, \"Mann–Whitney $\\it{U}$ test\")\n",
    "        data += MannWhitneyApprox\n",
    "    \n",
    "    sns.set(style=\"white\")\n",
    "    sns.set_context(\"talk\")\n",
    "    \n",
    "    pdData = pd.DataFrame(data, columns=['error','bins', 'Method'])\n",
    "    \n",
    "    if test_type==\"setSize\":\n",
    "        snsPlot = sns.boxplot(x=\"bins\", y=\"error\", data=pdData, hue=\"Method\")\n",
    "    else:\n",
    "        snsPlot = sns.boxplot(x=\"bins\", y=\"error\", data=pdData, color=\"skyblue\")\n",
    "        \n",
    "    \n",
    "    if relError:\n",
    "        plt.ylabel(r\"Relative error $\\big(|\\frac{p_{*}-p_{t}}{p_{t}}|)$\",fontsize=25)\n",
    "    else:\n",
    "        plt.ylabel(r\"$\\frac{p_{*}}{p_{t}}$\",fontsize=45)\n",
    "        \n",
    "    if test_type==\"windowSize\":\n",
    "        plt.xlabel(r\"$n_{w}$\",fontsize=45)\n",
    "    else:\n",
    "        plt.xlabel(r\"$n$\",fontsize=45)\n",
    "    \n",
    "    sns.set_style(\"ticks\")\n",
    "    sns.despine()\n",
    "    plt.tight_layout()\n",
    "    plt.gcf().subplots_adjust(left=0.30)\n",
    "    \n",
    "     \n",
    "    \n",
    "    if log:\n",
    "        if allFPList and allMWUList:\n",
    "            MAX = max(np.max(allEerrorList), np.max(allFPList), np.max(allMWUList))\n",
    "            MIN = min(np.min(allEerrorList), np.min(allFPList), np.min(allMWUList))\n",
    "        elif allFPList:\n",
    "            MAX = max(np.max(allEerrorList), np.max(allFPList))\n",
    "            MIN = min(np.min(allEerrorList), np.min(allFPList))\n",
    "        elif allMWUList:\n",
    "            MAX = max(np.max(allEerrorList), np.max(allMWUList))\n",
    "            MIN = min(np.min(allEerrorList), np.min(allMWUList))\n",
    "        else:\n",
    "            MAX = np.max(allEerrorList)\n",
    "            MIN = np.min(allEerrorList)\n",
    "         \n",
    "\n",
    "        if dashed:\n",
    "            plt.axhline(0, ls=':', color=\"black\", linewidth=3)\n",
    "        \n",
    "            \n",
    "        #RANGE = np.arange(np.floor(MIN), np.ceil(MAX), 100)\n",
    "        RANGE = np.arange(np.floor(MIN), np.ceil(MAX))\n",
    "        \n",
    "        if not relError:\n",
    "            if ylim and ylim[1]<10:\n",
    "                RANGE = np.array(sorted(list(RANGE) + [np.log10(0.5), np.log10(2)]))\n",
    "            else:\n",
    "                RANGE = np.array(sorted(list(RANGE)))\n",
    "\n",
    "        plt.yticks(RANGE, 10.0**RANGE)\n",
    "\n",
    "        \n",
    "        \n",
    "    if test_type==\"setSize\":\n",
    "        plt.legend().set_title('')\n",
    "    \n",
    "    #€plt.yticks([0.5, 1, 2])\n",
    "    \n",
    "    \n",
    "    if ylim:\n",
    "        plt.ylim(np.log10(ylim[0]) ,np.log10(ylim[1]))\n",
    "        path += \"_zoom\"\n",
    "        \n",
    "        plt.xticks(size = 32)\n",
    "        plt.yticks(size = 32)\n",
    "    else:\n",
    "        plt.xticks(size = 32)\n",
    "        plt.yticks(size = 25)\n",
    "        \n",
    "    \n",
    "\n",
    "    \n",
    "    if path:\n",
    "        fig = snsPlot.get_figure()\n",
    "        fig.savefig(path)"
   ]
  },
  {
   "cell_type": "code",
   "execution_count": null,
   "metadata": {},
   "outputs": [],
   "source": [
    "setSize = [10,50,100,150,200,250,300]"
   ]
  },
  {
   "cell_type": "code",
   "execution_count": null,
   "metadata": {},
   "outputs": [],
   "source": [
    "ptTest, peList, pmwList, ptfp = getPvalues()"
   ]
  },
  {
   "cell_type": "code",
   "execution_count": null,
   "metadata": {},
   "outputs": [],
   "source": [
    "ptTest"
   ]
  },
  {
   "cell_type": "code",
   "execution_count": null,
   "metadata": {},
   "outputs": [],
   "source": [
    "ptfp"
   ]
  },
  {
   "cell_type": "code",
   "execution_count": null,
   "metadata": {},
   "outputs": [],
   "source": [
    "ptfp"
   ]
  },
  {
   "cell_type": "code",
   "execution_count": null,
   "metadata": {},
   "outputs": [],
   "source": [
    "for pv, pt in zip(ptTest, peList):\n",
    "    print(np.log10(pv / pt))"
   ]
  },
  {
   "cell_type": "code",
   "execution_count": null,
   "metadata": {},
   "outputs": [],
   "source": [
    "ptTest"
   ]
  },
  {
   "cell_type": "code",
   "execution_count": null,
   "metadata": {},
   "outputs": [],
   "source": [
    "!ls \"./figures/accuracy/accuracy/\""
   ]
  },
  {
   "cell_type": "code",
   "execution_count": null,
   "metadata": {},
   "outputs": [],
   "source": [
    "SNSMultipleboxPlot(allFracList1, setSize, allFracMWUList1, \n",
    "                   allFracFPList1, \n",
    "                   relError=False,\n",
    "                   path=\"./figures/accuracy/02\",\n",
    "                  dashed=True,ylim=[0.4, 2.1])"
   ]
  },
  {
   "cell_type": "code",
   "execution_count": null,
   "metadata": {},
   "outputs": [],
   "source": [
    "allFracList2, allFracMWUList2, allFracFPList2 = getPvalues(1)"
   ]
  },
  {
   "cell_type": "code",
   "execution_count": null,
   "metadata": {},
   "outputs": [],
   "source": [
    "SNSMultipleboxPlot(allFracList2, setSize, allFracMWUList2, \n",
    "                   allFracFPList2, relError=False,path=\"./figures/accuracy/comparison/1\", \n",
    "                   dashed=True, ylim=[10**-3, 10**3])\n",
    "\n"
   ]
  },
  {
   "cell_type": "markdown",
   "metadata": {},
   "source": [
    "# |A|=|B|=150 $\\mu = 1$"
   ]
  },
  {
   "cell_type": "code",
   "execution_count": null,
   "metadata": {},
   "outputs": [],
   "source": [
    "n3 = setSize[3]; n3"
   ]
  },
  {
   "cell_type": "code",
   "execution_count": null,
   "metadata": {},
   "outputs": [],
   "source": [
    "allEerrorNwFrac3_m_1, N_w = getNwPlot(n3, 1)\n",
    "\n",
    "SNSMultipleboxPlot(allEerrorNwFrac3_m_1[1:], N_w[1:], test_type=\"windowSize\", \n",
    "                   relError=False,path=\"./figures/accuracy/windowSize/1_\" + str(n3),\n",
    "                  dashed=True)"
   ]
  },
  {
   "cell_type": "code",
   "execution_count": null,
   "metadata": {},
   "outputs": [],
   "source": [
    "SNSMultipleboxPlot(allEerrorNwFrac3_m_1[1:], N_w[1:], test_type=\"windowSize\", \n",
    "                   relError=False,path=\"./figures/accuracy/windowSize/1_\" + str(n3),\n",
    "                  dashed=True, ylim=[0.4, 2.1])"
   ]
  },
  {
   "cell_type": "markdown",
   "metadata": {},
   "source": [
    "# |A|=|B|=150 $\\mu = 0.2$"
   ]
  },
  {
   "cell_type": "code",
   "execution_count": null,
   "metadata": {},
   "outputs": [],
   "source": [
    "allEerrorNwFrac3_m_02, N_w = getNwPlot(n3, 0.2)\n",
    "\n",
    "SNSMultipleboxPlot(allEerrorNwFrac3_m_02[1:], N_w[1:], test_type=\"windowSize\", \n",
    "                   relError=False,path=\"./figures/accuracy/windowSize/02_\" + str(n3),\n",
    "                  dashed=True)"
   ]
  },
  {
   "cell_type": "code",
   "execution_count": null,
   "metadata": {},
   "outputs": [],
   "source": [
    "SNSMultipleboxPlot(allEerrorNwFrac3_m_02[1:], N_w[1:], test_type=\"windowSize\", \n",
    "                   relError=False,path=\"./figures/accuracy/windowSize/02_\" + str(n3),\n",
    "                  dashed=True, ylim=[0.4, 2.1])"
   ]
  }
 ],
 "metadata": {
  "kernelspec": {
   "display_name": "Python (gnnEnv)",
   "language": "python",
   "name": "gnnenv"
  },
  "language_info": {
   "codemirror_mode": {
    "name": "ipython",
    "version": 3
   },
   "file_extension": ".py",
   "mimetype": "text/x-python",
   "name": "python",
   "nbconvert_exporter": "python",
   "pygments_lexer": "ipython3",
   "version": "3.6.10"
  }
 },
 "nbformat": 4,
 "nbformat_minor": 2
}
