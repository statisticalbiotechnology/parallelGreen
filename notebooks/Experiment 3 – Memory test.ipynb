{
 "cells": [
  {
   "cell_type": "code",
   "execution_count": 1,
   "metadata": {},
   "outputs": [],
   "source": [
    "import numpy as np\n",
    "import time\n",
    "import pickle\n",
    "import pandas as pd\n",
    "import matplotlib.pyplot as plt\n",
    "import seaborn as sns\n",
    "import permutationTest as pt"
   ]
  },
  {
   "cell_type": "code",
   "execution_count": 2,
   "metadata": {},
   "outputs": [],
   "source": [
    "class memoryAllocationTest:\n",
    "    def runTestInBatch(self, Abatch, Bbatch, sample_n, w):\n",
    "        \n",
    "        allPval = list()\n",
    "        batchSize = len(Abatch)\n",
    "        \n",
    "        for j in range(0, batchSize, sample_n):\n",
    "            \n",
    "            Abatch_div = Abatch[j:j+sample_n][0]\n",
    "            Bbatch_div = Bbatch[j:j+sample_n][0]\n",
    "            \n",
    "            pExactListNorm = pt.GreenFloatCuda(Abatch_div.reshape(1,-1), Bbatch_div.reshape(1,-1), w)\n",
    "            allPval.append(pExactListNorm)\n",
    "            \n",
    "        return allPval\n",
    "\n",
    "    def getTimeSeries(self, experiemnt_var, data_generator):\n",
    "        \n",
    "        ALLTimeList = list()\n",
    "        \n",
    "        setNList, sampleNList, NwList, batchsize, sampleRangeMax, mean, std = experiemnt_var\n",
    "        \n",
    "        for set_n, sample_n, w in zip(setNList, sampleNList, NwList):\n",
    "            \n",
    "            allTimes = list()\n",
    "            \n",
    "            AN, BN = [data_generator(mean, std, set_n, sampleRangeMax) , data_generator(mean, std,set_n,sampleRangeMax)]\n",
    "            \n",
    "            for i in range(0, len(AN), batchsize):\n",
    "                \n",
    "                Abatch = AN[:i+batchsize]\n",
    "                Bbatch = BN[:i+batchsize]\n",
    "                print(\"Batch len {}\".format(len(Abatch)))\n",
    "        \n",
    "                start = time.time()\n",
    "                allPval = self.runTestInBatch(Abatch, Bbatch, sample_n, w)\n",
    "                end = time.time()\n",
    "                dt = end - start\n",
    "                allTimes.append(dt)\n",
    "                print(\"------------\")\n",
    "                \n",
    "            ALLTimeList.append(allTimes)\n",
    "        return ALLTimeList"
   ]
  },
  {
   "cell_type": "code",
   "execution_count": 72,
   "metadata": {},
   "outputs": [],
   "source": [
    "def preparePandas(timeData, sampleSizes, test=\"Parallel\"):\n",
    "    \"\"\"Create DF for sns-plots\"\"\"\n",
    "    \n",
    "    preparePd = list()\n",
    "    \n",
    "    for time, sample in zip(timeData, sampleSizes):\n",
    "        preparePd.append([str(test),time, sample])\n",
    "              \n",
    "    return preparePd\n",
    "\n",
    "def memoryPlotSNS(ALLTimeList, names, variables, binVar=False, log=False, path=None, colors= [\"r\", \"g\", \"b\"]):\n",
    "    \"\"\" Create memory plit\"\"\"\n",
    "    \n",
    "    def getXrangeData(setSize, maxRange, batchS):\n",
    "        \"\"\"Get range of data\"\"\"\n",
    "        \n",
    "        AN, BN = [np.random.normal(0,1,setSize) for i in range(maxRange)], [np.random.normal(0,1,setSize) for i in range(maxRange)]\n",
    "        \n",
    "        batchList = list()\n",
    "        \n",
    "        for i in range(0, len(AN), batchS):\n",
    "            \n",
    "            Abatch = AN[:i+batchS]\n",
    "            batchList.append(len(Abatch))\n",
    "\n",
    "        return batchList\n",
    "    \n",
    "    def getScatterData(sN,tList, maxRange, batchSize):\n",
    "        y=list()\n",
    "        x=list()\n",
    "        for i, j in enumerate(range(0, maxRange, batchSize)):\n",
    "            if j % sN ==0 and j!=0:\n",
    "                y.append(j)\n",
    "                x.append(tList[i-1])\n",
    "        return x, y\n",
    "    \n",
    "    \n",
    "    a4_dims = (11.7/1.5, 8.27/1.5)\n",
    "    fig, ax = plt.subplots(figsize=a4_dims)\n",
    "    sns.set(style=\"white\")\n",
    "    sns.set_context(\"talk\")\n",
    "    \n",
    "    \n",
    "    setN, sampleNList, sampleRangeMax, batchsize = variables\n",
    "    batchList = getXrangeData(setN, sampleRangeMax, batchsize)\n",
    "    \n",
    "    \n",
    "    for i, (time_list, name) in enumerate(zip(ALLTimeList, names)):\n",
    "        if log:\n",
    "            df = preparePandas(np.log10(time_list), batchList, name)\n",
    "        else:\n",
    "            df = preparePandas(time_list, batchList, name)\n",
    "            \n",
    "        if i ==0:\n",
    "            data = df\n",
    "        else:\n",
    "            data += df\n",
    "            \n",
    "    df = pd.DataFrame(data, columns=['Experiment', 'time(s)',\"Sample size\"])\n",
    "    \n",
    "    palette = dict(zip(set(df.Experiment), colors))\n",
    "    \n",
    "    x = df[\"time(s)\"].values\n",
    "    \n",
    "    if log:        \n",
    "        MAX = max(x)\n",
    "        MIN = min(x)\n",
    "        \n",
    "\n",
    "\n",
    "        RANGE = np.arange(np.floor(MIN), np.ceil(MAX))\n",
    "        snsPlot = sns.lineplot(x=\"Sample size\", y=\"time(s)\",\n",
    "             hue=\"Experiment\",\n",
    "             data=df, palette=palette)#.set(yticks = RANGE, yticklabels=10**RANGE)\n",
    "        plt.yticks(RANGE, 10.0**RANGE)\n",
    "        \n",
    "        \n",
    "    else:\n",
    "        snsPlot = sns.lineplot(x=\"Sample size\", y=\"time(s)\",\n",
    "             hue=\"Experiment\",\n",
    "             data=df,palette=palette)\n",
    "    \n",
    "    if binVar:\n",
    "        plt.xlabel(r\"$n$\")\n",
    "        \n",
    "    else:\n",
    "        plt.xlabel(r\"$n$\")\n",
    "    \n",
    "    \n",
    "    \n",
    "    plt.legend(loc='upper left')\n",
    "    handles, labels = ax.get_legend_handles_labels()\n",
    "    ax.legend(handles=handles[1:], labels=labels[1:])\n",
    "    \n",
    "\n",
    "    plt.setp(snsPlot.get_legend().get_texts(), fontsize='12')\n",
    "    \n",
    "    sns.despine()\n",
    "    plt.tight_layout()\n",
    "    plt.gcf().subplots_adjust(left=0.30)\n",
    "    \n",
    "    for N, Time, c in zip(sampleNList, ALLTimeList, colors):\n",
    "        x, y = getScatterData(N,Time, sampleRangeMax, batchsize)\n",
    "        plt.scatter(y, x, marker=\"o\", color=c)"
   ]
  },
  {
   "cell_type": "code",
   "execution_count": 4,
   "metadata": {},
   "outputs": [],
   "source": [
    "memTest = memoryAllocationTest()\n",
    "\n",
    "data_generator = lambda mean, std, size ,n_samples : [np.random.normal(mean, std, size) for _ in range(n_samples)]"
   ]
  },
  {
   "cell_type": "code",
   "execution_count": null,
   "metadata": {},
   "outputs": [],
   "source": [
    "def getPATH(path, suffix, prefix):\n",
    "    return path + '/'+ suffix + '/' + prefix"
   ]
  },
  {
   "cell_type": "code",
   "execution_count": null,
   "metadata": {},
   "outputs": [],
   "source": [
    "path = \"figures/paralellVsFastApprox\""
   ]
  },
  {
   "cell_type": "markdown",
   "metadata": {},
   "source": [
    "# Set size 500 and sample size up to 24"
   ]
  },
  {
   "cell_type": "code",
   "execution_count": 91,
   "metadata": {},
   "outputs": [],
   "source": [
    "setNList = [500,500,500]\n",
    "sampleNList = [2,20,4]\n",
    "NwList = [2000,200,1000]\n",
    "batchsize = 1\n",
    "sampleRangeMax =24\n",
    "mean = 0\n",
    "std = 1\n",
    "\n",
    "experiemnt_var = (setNList, sampleNList, NwList, batchsize, sampleRangeMax, mean, std)"
   ]
  },
  {
   "cell_type": "code",
   "execution_count": 92,
   "metadata": {},
   "outputs": [],
   "source": [
    "#LargeSetSize_N = memTest.getTimeSeries(experiemnt_var, data_generator)"
   ]
  },
  {
   "cell_type": "code",
   "execution_count": 93,
   "metadata": {},
   "outputs": [],
   "source": [
    "#pickle.dump(LargeSetSize_N, open(\"./experiment_data/experiment3/LargeSetSize\", \"wb\"))\n",
    "LargeSetSize = pickle.load(open(\"./experiment_data/experiment3/LargeSetSize\", \"rb\"))"
   ]
  },
  {
   "cell_type": "code",
   "execution_count": 94,
   "metadata": {},
   "outputs": [],
   "source": [
    "variables = (setNList[0], sampleNList, sampleRangeMax, batchsize)\n",
    "names = [\"$n_{w}=2000$\", \"$n_{w}=200$\", \"$n_{w}=1000$\"]"
   ]
  },
  {
   "cell_type": "code",
   "execution_count": 95,
   "metadata": {},
   "outputs": [],
   "source": [
    "sortVar = np.asarray(LargeSetSize).mean(1)\n",
    "sortVar, names, LargeSetSize, sampleNList = (list(t) for t in zip(*sorted(zip(sortVar, names,LargeSetSize, sampleNList))))"
   ]
  },
  {
   "cell_type": "code",
   "execution_count": 96,
   "metadata": {},
   "outputs": [],
   "source": [
    "variables = (setNList[0], sampleNList, sampleRangeMax, batchsize)"
   ]
  },
  {
   "cell_type": "code",
   "execution_count": 97,
   "metadata": {},
   "outputs": [
    {
     "data": {
      "image/png": "[encoded data removed]",
      "text/plain": [
       "<Figure size 561.6x396.96 with 1 Axes>"
      ]
     },
     "metadata": {},
     "output_type": "display_data"
    }
   ],
   "source": [
    "memoryPlotSNS(LargeSetSize, names,variables, log=False)"
   ]
  },
  {
   "cell_type": "markdown",
   "metadata": {},
   "source": [
    "# Set size 40 and sample size up to 2700\n"
   ]
  },
  {
   "cell_type": "code",
   "execution_count": 84,
   "metadata": {},
   "outputs": [],
   "source": [
    "batchsize = 100\n",
    "setNList = [40,40,40]\n",
    "sampleNList = [400,2500,600]\n",
    "NwList = [1250,200,800]\n",
    "sampleRangeMax= 2700\n",
    "mean = 0\n",
    "std = 1\n",
    "\n",
    "experiemnt_var = (setNList, sampleNList, NwList, batchsize, sampleRangeMax, mean, std)"
   ]
  },
  {
   "cell_type": "code",
   "execution_count": 85,
   "metadata": {},
   "outputs": [],
   "source": [
    "#ALLTimeList = memTest.getTimeSeries(experiemnt_var, data_generator)"
   ]
  },
  {
   "cell_type": "code",
   "execution_count": 86,
   "metadata": {},
   "outputs": [],
   "source": [
    "#pickle.dump(ALLTimeList, open(\"./experiment_data/experiment3/smallSetSize.pkl\", \"wb\"))\n",
    "ALLTimeList = pickle.load(open(\"./experiment_data/experiment3/smallSetSize.pkl\", \"rb\"))"
   ]
  },
  {
   "cell_type": "code",
   "execution_count": 87,
   "metadata": {},
   "outputs": [],
   "source": [
    "names = [\"$n_{w}=1250$\", \"$n_{w}=200$\", \"$n_{w}=800$\"]"
   ]
  },
  {
   "cell_type": "code",
   "execution_count": 88,
   "metadata": {},
   "outputs": [],
   "source": [
    "sortVar = np.asarray(ALLTimeList).mean(1)\n",
    "sortVar, names, ALLTimeList, sampleNList, setNList = (list(t) for t in zip(*sorted(zip(sortVar, names,ALLTimeList, sampleNList, setNList))))"
   ]
  },
  {
   "cell_type": "code",
   "execution_count": 89,
   "metadata": {},
   "outputs": [],
   "source": [
    "variables = (setNList[0], sampleNList, sampleRangeMax, batchsize)\n",
    "names = [\"$n_{w}=1250$\", \"$n_{w}=200$\", \"$n_{w}=800$\"]\n"
   ]
  },
  {
   "cell_type": "code",
   "execution_count": 90,
   "metadata": {},
   "outputs": [
    {
     "data": {
      "image/png": "[encoded data removed]",
      "text/plain": [
       "<Figure size 561.6x396.96 with 1 Axes>"
      ]
     },
     "metadata": {},
     "output_type": "display_data"
    }
   ],
   "source": [
    "memoryPlotSNS(ALLTimeList, names,variables, log=False)"
   ]
  },
  {
   "cell_type": "code",
   "execution_count": null,
   "metadata": {},
   "outputs": [],
   "source": []
  }
 ],
 "metadata": {
  "kernelspec": {
   "display_name": "Python (terran3)",
   "language": "python",
   "name": "terran3"
  },
  "language_info": {
   "codemirror_mode": {
    "name": "ipython",
    "version": 3
   },
   "file_extension": ".py",
   "mimetype": "text/x-python",
   "name": "python",
   "nbconvert_exporter": "python",
   "pygments_lexer": "ipython3",
   "version": "3.6.10"
  }
 },
 "nbformat": 4,
 "nbformat_minor": 2
}
