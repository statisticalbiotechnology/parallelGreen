{
 "cells": [
  {
   "cell_type": "code",
   "execution_count": 1,
   "metadata": {},
   "outputs": [],
   "source": [
    "import permutationTest as pt \n",
    "import numpy as np\n",
    "import matplotlib.pyplot as plt\n",
    "import seaborn as sns\n",
    "import pandas as pd\n",
    "import time\n",
    "import pickle"
   ]
  },
  {
   "cell_type": "code",
   "execution_count": 2,
   "metadata": {},
   "outputs": [],
   "source": [
    "sampleShape = [10,50,100,150,200,250,300,400,500]\n",
    "n_samples = 1\n",
    "bins =  500\n",
    "mean =0.2\n",
    "std = 1\n",
    "\n",
    "data_variables = (sampleShape, n_samples, bins, mean, std)"
   ]
  },
  {
   "cell_type": "code",
   "execution_count": 3,
   "metadata": {},
   "outputs": [],
   "source": [
    "data_generator = lambda mean, std, size ,n_samples : [np.random.normal(mean, std, size) for _ in range(n_samples)]\n"
   ]
  },
  {
   "cell_type": "code",
   "execution_count": 4,
   "metadata": {},
   "outputs": [],
   "source": [
    "def runExperiment(method_list, names_list, data_generator, data_variables):\n",
    "    sampleShape, n_samples, bins, mean, std = data_variables\n",
    "    \n",
    "    method_dict = dict()\n",
    "    \n",
    "    for method, name in zip(method_list, names_list):\n",
    "        \n",
    "        method_dict[name] = dict()\n",
    "        method_dict[name][\"p_values\"] = list()\n",
    "        method_dict[name][\"time\"] = list()\n",
    "        \n",
    "        for size in sampleShape:\n",
    "            \n",
    "            np.random.seed(42)\n",
    "            A = np.asarray(data_generator(mean, std, size ,n_samples))\n",
    "            B = np.asarray(data_generator(mean, std, size ,n_samples))\n",
    "        \n",
    "            start = time.time()\n",
    "            method_dict[name][\"p_values\"].append(method(A,B,bins)[0])\n",
    "            end = time.time()\n",
    "            method_dict[name][\"time\"].append(end - start)\n",
    "            \n",
    "    return method_dict\n",
    "    "
   ]
  },
  {
   "cell_type": "code",
   "execution_count": 5,
   "metadata": {},
   "outputs": [],
   "source": [
    "method_list = [pt.GreenFloatCuda]\n",
    "names_list = [\"RTX2060\"]\n",
    "RTX2060_dict = runExperiment(method_list, names_list, data_generator, data_variables)"
   ]
  },
  {
   "cell_type": "code",
   "execution_count": 13,
   "metadata": {},
   "outputs": [],
   "source": [
    "pickle.dump(RTX2060_dict,open(\"/home/ekvall/parallelGreen/notebooks/data/experiment2/RTX2060_dict.pkl\", \"wb\"))"
   ]
  }
 ],
 "metadata": {
  "kernelspec": {
   "display_name": "Python 3",
   "language": "python",
   "name": "python3"
  },
  "language_info": {
   "codemirror_mode": {
    "name": "ipython",
    "version": 3
   },
   "file_extension": ".py",
   "mimetype": "text/x-python",
   "name": "python",
   "nbconvert_exporter": "python",
   "pygments_lexer": "ipython3",
   "version": "3.7.3"
  }
 },
 "nbformat": 4,
 "nbformat_minor": 2
}
