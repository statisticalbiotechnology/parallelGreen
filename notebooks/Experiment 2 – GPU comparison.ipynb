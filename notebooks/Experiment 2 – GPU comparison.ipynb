{
 "cells": [
  {
   "cell_type": "code",
   "execution_count": 20,
   "metadata": {},
   "outputs": [],
   "source": [
    "import permutationTest as pt \n",
    "import numpy as np\n",
    "import matplotlib.pyplot as plt\n",
    "import seaborn as sns\n",
    "import pandas as pd\n",
    "import time\n",
    "import pickle"
   ]
  },
  {
   "cell_type": "code",
   "execution_count": 21,
   "metadata": {},
   "outputs": [],
   "source": [
    "sampleShape = [10,50,100,150,200,250,300,400,500]\n",
    "n_samples = 5\n",
    "bins =  500\n",
    "mean =0.2\n",
    "std = 1\n",
    "\n",
    "data_variables = (sampleShape, n_samples, bins, mean, std)"
   ]
  },
  {
   "cell_type": "code",
   "execution_count": 22,
   "metadata": {},
   "outputs": [],
   "source": [
    "data_generator = lambda mean, std, size ,n_samples : [np.random.normal(mean, std, size) for _ in range(n_samples)]\n"
   ]
  },
  {
   "cell_type": "code",
   "execution_count": 11,
   "metadata": {},
   "outputs": [],
   "source": [
    "def runExperiment(method_list, names_list, data_generator, data_variables):\n",
    "    sampleShape, n_samples, bins, mean, std = data_variables\n",
    "    \n",
    "    method_dict = dict()\n",
    "    \n",
    "    for method, name in zip(method_list, names_list):\n",
    "        \n",
    "        method_dict[name] = dict()\n",
    "        method_dict[name][\"p_values\"] = list()\n",
    "        method_dict[name][\"time\"] = list()\n",
    "        \n",
    "        for i in range(n_samples):\n",
    "            \n",
    "            np.random.seed(i)\n",
    "            \n",
    "            for size in sampleShape:\n",
    "                \n",
    "                A = np.asarray(data_generator(mean, std, size ,1))\n",
    "                B = np.asarray(data_generator(mean, std, size ,1))\n",
    "        \n",
    "                start = time.time()\n",
    "                method_dict[name][\"p_values\"].append(method(A,B,bins)[0])\n",
    "                end = time.time()\n",
    "                method_dict[name][\"time\"].append(end - start)\n",
    "            \n",
    "    return method_dict\n",
    "    "
   ]
  },
  {
   "cell_type": "code",
   "execution_count": 5,
   "metadata": {},
   "outputs": [],
   "source": [
    "#method_list = [pt.GreenFloatCuda]\n",
    "#names_list = [\"RTX2060\"]\n",
    "#RTX2060_dict = runExperiment(method_list, names_list, data_generator, data_variables)"
   ]
  },
  {
   "cell_type": "code",
   "execution_count": 13,
   "metadata": {},
   "outputs": [],
   "source": [
    "#pickle.dump(RTX2060_dict,open(\"/home/ekvall/parallelGreen/notebooks/data/experiment2/RTX2060_dict.pkl\", \"wb\"))"
   ]
  },
  {
   "cell_type": "code",
   "execution_count": 14,
   "metadata": {},
   "outputs": [
    {
     "name": "stdout",
     "output_type": "stream",
     "text": [
      "RTX2060_dict.pkl  RTX2070_dict.pkl  TITANX_dict.pkl\r\n"
     ]
    }
   ],
   "source": [
    "!ls \"experiment_data/experiment2\""
   ]
  },
  {
   "cell_type": "code",
   "execution_count": 16,
   "metadata": {},
   "outputs": [],
   "source": [
    "RTX2060_dict = pickle.load(open(\"experiment_data/experiment2/RTX2060_dict.pkl\", \"rb\"))\n",
    "RTX2070_dict = pickle.load(open(\"experiment_data/experiment2/RTX2070_dict.pkl\", \"rb\"))\n",
    "TITANX_dict = pickle.load(open(\"experiment_data/experiment2/TITANX_dict.pkl\", \"rb\"))"
   ]
  },
  {
   "cell_type": "code",
   "execution_count": 17,
   "metadata": {},
   "outputs": [
    {
     "data": {
      "text/plain": [
       "{'RTX2060': {'p_values': [0.0017320141159150445,\n",
       "   0.18059790722454183,\n",
       "   0.3379455426075024,\n",
       "   0.17633717783936032,\n",
       "   0.18898194825724413,\n",
       "   0.8370886299259832,\n",
       "   0.8398739182931415,\n",
       "   0.38444432823163427,\n",
       "   0.684816478765337],\n",
       "  'time': [0.2706897258758545,\n",
       "   0.0073282718658447266,\n",
       "   0.03447294235229492,\n",
       "   0.09827828407287598,\n",
       "   0.22852325439453125,\n",
       "   0.4421679973602295,\n",
       "   0.7910983562469482,\n",
       "   2.282680034637451,\n",
       "   4.7808918952941895]}}"
      ]
     },
     "execution_count": 17,
     "metadata": {},
     "output_type": "execute_result"
    }
   ],
   "source": [
    "RTX2060_dict"
   ]
  },
  {
   "cell_type": "code",
   "execution_count": 18,
   "metadata": {},
   "outputs": [
    {
     "data": {
      "text/plain": [
       "{'RTX2070': {'p_values': [0.0017320141159150445,\n",
       "   0.18059790722454183,\n",
       "   0.3379455426075024,\n",
       "   0.17633717783936032,\n",
       "   0.18898194825724413,\n",
       "   0.8370886299259832,\n",
       "   0.8398739182931415,\n",
       "   0.38444432823163427,\n",
       "   0.684816478765337],\n",
       "  'time': [0.17877483367919922,\n",
       "   0.016103744506835938,\n",
       "   0.035025596618652344,\n",
       "   0.07882094383239746,\n",
       "   0.17618536949157715,\n",
       "   0.33985161781311035,\n",
       "   0.5744216442108154,\n",
       "   1.4501307010650635,\n",
       "   3.4015181064605713]}}"
      ]
     },
     "execution_count": 18,
     "metadata": {},
     "output_type": "execute_result"
    }
   ],
   "source": [
    "RTX2070_dict"
   ]
  },
  {
   "cell_type": "code",
   "execution_count": 19,
   "metadata": {},
   "outputs": [
    {
     "data": {
      "text/plain": [
       "{'TITANX': {'p_values': [0.0017320141159150445,\n",
       "   0.18059790722454183,\n",
       "   0.3379455426075024,\n",
       "   0.17633717783936032,\n",
       "   0.18898194825724413,\n",
       "   0.8370886299259832,\n",
       "   0.8398739182931415,\n",
       "   0.38444432823163427,\n",
       "   0.684816478765337],\n",
       "  'time': [0.5060014724731445,\n",
       "   0.015324592590332031,\n",
       "   0.03958487510681152,\n",
       "   0.0922079086303711,\n",
       "   0.20738720893859863,\n",
       "   0.4067049026489258,\n",
       "   0.738079309463501,\n",
       "   1.9861230850219727,\n",
       "   4.203988075256348]}}"
      ]
     },
     "execution_count": 19,
     "metadata": {},
     "output_type": "execute_result"
    }
   ],
   "source": [
    "TITANX_dict"
   ]
  },
  {
   "cell_type": "code",
   "execution_count": null,
   "metadata": {},
   "outputs": [],
   "source": []
  }
 ],
 "metadata": {
  "kernelspec": {
   "display_name": "Python (terran3)",
   "language": "python",
   "name": "terran3"
  },
  "language_info": {
   "codemirror_mode": {
    "name": "ipython",
    "version": 3
   },
   "file_extension": ".py",
   "mimetype": "text/x-python",
   "name": "python",
   "nbconvert_exporter": "python",
   "pygments_lexer": "ipython3",
   "version": "3.6.10"
  }
 },
 "nbformat": 4,
 "nbformat_minor": 2
}
