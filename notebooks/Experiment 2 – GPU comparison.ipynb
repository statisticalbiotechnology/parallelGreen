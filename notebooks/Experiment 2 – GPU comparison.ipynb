{
 "cells": [
  {
   "cell_type": "code",
   "execution_count": 39,
   "metadata": {},
   "outputs": [],
   "source": [
    "import permutationTest as pt \n",
    "import numpy as np\n",
    "import matplotlib.pyplot as plt\n",
    "import seaborn as sns\n",
    "import pandas as pd\n",
    "import time\n",
    "import pickle"
   ]
  },
  {
   "cell_type": "code",
   "execution_count": 35,
   "metadata": {},
   "outputs": [],
   "source": [
    "sampleShape = [10,50,100,150,200,250,300,400,500]\n",
    "n_samples = 1\n",
    "bins =  500\n",
    "mean =0.2\n",
    "std = 1\n",
    "\n",
    "data_variables = (sampleShape, n_samples, bins, mean, std)"
   ]
  },
  {
   "cell_type": "code",
   "execution_count": 36,
   "metadata": {},
   "outputs": [],
   "source": [
    "data_generator = lambda mean, std, size ,n_samples : [np.random.normal(mean, std, size) for _ in range(n_samples)]\n"
   ]
  },
  {
   "cell_type": "code",
   "execution_count": 37,
   "metadata": {},
   "outputs": [],
   "source": [
    "def runExperiment(method_list, names_list, data_generator, data_variables):\n",
    "    sampleShape, n_samples, bins, mean, std = data_variables\n",
    "    \n",
    "    method_dict = dict()\n",
    "    \n",
    "    for method, name in zip(method_list, names_list):\n",
    "        \n",
    "        method_dict[name] = dict()\n",
    "        method_dict[name][\"p_values\"] = list()\n",
    "        method_dict[name][\"time\"] = list()\n",
    "        \n",
    "        for size in sampleShape:\n",
    "            \n",
    "            np.random.seed(42)\n",
    "            A = np.asarray(data_generator(mean, std, size ,n_samples))\n",
    "            B = np.asarray(data_generator(mean, std, size ,n_samples))\n",
    "        \n",
    "            start = time.time()\n",
    "            method_dict[name][\"p_values\"].append(method(A,B,bins)[0])\n",
    "            end = time.time()\n",
    "            method_dict[name][\"time\"].append(end - start)\n",
    "            \n",
    "    return method_dict\n",
    "    "
   ]
  },
  {
   "cell_type": "code",
   "execution_count": 40,
   "metadata": {},
   "outputs": [],
   "source": [
    "method_list = [pt.GreenFloatCuda]\n",
    "names_list = [\"RTX20170\"]\n",
    "RTX20170_dict = runExperiment(method_list, names_list, data_generator, data_variables)"
   ]
  },
  {
   "cell_type": "code",
   "execution_count": 42,
   "metadata": {},
   "outputs": [],
   "source": [
    "pickle.dump(RTX20170_dict,open(\"./data/experiment2/RTX20170_dict.pkl\", \"wb\"))"
   ]
  },
  {
   "cell_type": "code",
   "execution_count": null,
   "metadata": {},
   "outputs": [],
   "source": []
  },
  {
   "cell_type": "code",
   "execution_count": null,
   "metadata": {},
   "outputs": [],
   "source": []
  },
  {
   "cell_type": "code",
   "execution_count": 19,
   "metadata": {},
   "outputs": [
    {
     "data": {
      "text/plain": [
       "[array([ 1.87336657, -0.06767134, -0.15160338,  1.15279127,  0.14945245,\n",
       "         0.1325056 , -0.821861  , -0.41059903,  1.04042678,  0.66131615])]"
      ]
     },
     "execution_count": 19,
     "metadata": {},
     "output_type": "execute_result"
    }
   ],
   "source": [
    "data(mean,std,10,n_samples)"
   ]
  },
  {
   "cell_type": "code",
   "execution_count": 13,
   "metadata": {},
   "outputs": [],
   "source": [
    "data = lambda n,n_samples : [np.random.randint(0,n,n,dtype=np.int32) for _ in range(n_samples)]"
   ]
  },
  {
   "cell_type": "code",
   "execution_count": 14,
   "metadata": {},
   "outputs": [
    {
     "data": {
      "text/plain": [
       "[array([7, 7, 5, 4, 2, 6, 8, 8, 1, 2], dtype=int32)]"
      ]
     },
     "execution_count": 14,
     "metadata": {},
     "output_type": "execute_result"
    }
   ],
   "source": [
    "data(10,1)"
   ]
  },
  {
   "cell_type": "code",
   "execution_count": null,
   "metadata": {},
   "outputs": [],
   "source": []
  }
 ],
 "metadata": {
  "kernelspec": {
   "display_name": "Python (terran3)",
   "language": "python",
   "name": "terran3"
  },
  "language_info": {
   "codemirror_mode": {
    "name": "ipython",
    "version": 3
   },
   "file_extension": ".py",
   "mimetype": "text/x-python",
   "name": "python",
   "nbconvert_exporter": "python",
   "pygments_lexer": "ipython3",
   "version": "3.6.10"
  }
 },
 "nbformat": 4,
 "nbformat_minor": 2
}
