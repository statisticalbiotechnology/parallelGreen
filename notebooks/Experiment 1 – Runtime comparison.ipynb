{
 "cells": [
  {
   "cell_type": "code",
   "execution_count": 1,
   "metadata": {},
   "outputs": [],
   "source": [
    "import permutationTest as pt \n",
    "import numpy as np\n",
    "import matplotlib.pyplot as plt\n",
    "import seaborn as sns\n",
    "import pandas as pd\n",
    "from plots import timePlotSNS"
   ]
  },
  {
   "cell_type": "code",
   "execution_count": null,
   "metadata": {},
   "outputs": [],
   "source": [
    "#from utils2 import *\n",
    "import time\n",
    "#from significance_of_mean_cuda import significance_of_mean_cuda"
   ]
  },
  {
   "cell_type": "markdown",
   "metadata": {},
   "source": [
    "### Get synthetic data"
   ]
  },
  {
   "cell_type": "code",
   "execution_count": null,
   "metadata": {},
   "outputs": [],
   "source": [
    "n_samples = 5\n",
    "n = m =  500\n",
    "bins =  [50, 100, 200,250,300,350,400,450,500]\n",
    "data_variables = (n, n_samples, bins)"
   ]
  },
  {
   "cell_type": "code",
   "execution_count": null,
   "metadata": {},
   "outputs": [],
   "source": [
    "data = lambda n,n_samples : [np.random.randint(0,n,n,dtype=np.int32) for _ in range(n_samples)]"
   ]
  },
  {
   "cell_type": "code",
   "execution_count": null,
   "metadata": {},
   "outputs": [],
   "source": [
    "def runExperiment(method_list, names_list, data, data_variables):\n",
    "    \n",
    "    n, n_samples, bins = data_variables\n",
    "    \n",
    "    method_dict = dict()\n",
    "    \n",
    "    for method, name in zip(method_list, names_list):\n",
    "        method_dict[name] = dict()\n",
    "        method_dict[name][\"p_values\"] = list()\n",
    "        method_dict[name][\"time\"] = list()\n",
    "        for i in range(n_samples):\n",
    "            \n",
    "            np.random.seed(i)\n",
    "            \n",
    "            for b in bins:\n",
    "                \n",
    "                A = np.asarray(data(n, 1))\n",
    "                B = np.asarray(data(n, 1))\n",
    "        \n",
    "                start = time.time()\n",
    "                method_dict[name][\"p_values\"].append(method(A,B,b)[0])\n",
    "                end = time.time()\n",
    "                method_dict[name][\"time\"].append(end - start)\n",
    "    return method_dict\n",
    "    "
   ]
  },
  {
   "cell_type": "code",
   "execution_count": null,
   "metadata": {},
   "outputs": [],
   "source": [
    "method_list = [pt.GreenFloat, pt.GreenFloatMultiThread, pt.GreenFloatCuda, pt.CoinShiftFloat]\n",
    "names_list = [\"GreenFloat\", \"GreenFloatMultiThread\", \"GreenFloatCuda\", \"CoinShiftFloat\"]\n",
    "method_dict = runExperiment(method_list, names_list, data, data_variables)\n",
    "    \n"
   ]
  },
  {
   "cell_type": "code",
   "execution_count": null,
   "metadata": {},
   "outputs": [],
   "source": [
    "np.allclose(np.asarray(method_dict[\"GreenFloat\"][\"p_values\"]),\n",
    "                np.asarray(method_dict[\"GreenFloatMultiThread\"][\"p_values\"]),\n",
    "                np.asarray(method_dict[\"GreenFloatCuda\"][\"p_values\"]),\n",
    "                np.asarray(method_dict[\"CoinShiftFloat\"][\"p_values\"]))\n",
    "             \n",
    "    "
   ]
  },
  {
   "cell_type": "code",
   "execution_count": null,
   "metadata": {},
   "outputs": [],
   "source": [
    "def preparePandas(timeData, sampleSizes, name):\n",
    "    \"\"\"Create DF for sns-plots\"\"\"\n",
    "    preparePd = list()\n",
    "    for time, sample in zip(timeData, sampleSizes):\n",
    "        preparePd.append([str(name),time, sample])\n",
    "        \n",
    "            \n",
    "    return preparePd\n",
    "\n",
    "def timePlotSNS(TimeList_list, NameList, sampleShape, y_label , x_label ,log=False, path=None):\n",
    "    \"\"\"Create SNS timeseries-plot\"\"\"\n",
    "    a4_dims = (11.7/1.5, 8.27/1.5)\n",
    "    fig, ax = plt.subplots(figsize=a4_dims)\n",
    "    \n",
    "\n",
    "    \n",
    "    sns.set(style=\"white\")\n",
    "    sns.set_context(\"talk\")\n",
    "    \n",
    "    for i, (time_list, name) in enumerate(zip(TimeList_list, NameList)):\n",
    "        if log:\n",
    "            df = preparePandas(np.log10(time_list), sampleShape, name)\n",
    "        else:\n",
    "            df = preparePandas(time_list, sampleShape, name)\n",
    "            \n",
    "        if i ==0:\n",
    "            data = df\n",
    "        else:\n",
    "            data += df\n",
    "            \n",
    "    pdData = pd.DataFrame(data, columns=['Method', y_label,'bins'])\n",
    "    \n",
    "\n",
    "    if log:        \n",
    "        MAX = max(pdData[y_label])\n",
    "        MIN = min(pdData[y_label])\n",
    "\n",
    "        RANGE = np.arange(np.floor(MIN), np.ceil(MAX))\n",
    "        snsPlot = sns.lineplot(x=\"bins\", y=y_label,\n",
    "             hue=\"Method\",\n",
    "             data=pdData)#.set(yticks = RANGE, yticklabels=10**RANGE)\n",
    "        plt.yticks(RANGE, 10.0**RANGE)\n",
    "        \n",
    "        \n",
    "    else:\n",
    "        snsPlot = sns.lineplot(x=\"bins\", y=y_label,\n",
    "             hue=\"Method\",\n",
    "             data=pdData,)\n",
    "    \n",
    "\n",
    "    plt.xlabel(x_label, fontsize=20)\n",
    "    plt.ylabel(y_label, fontsize=20)\n",
    "    \n",
    "    \n",
    "    \n",
    "    handles, labels = ax.get_legend_handles_labels()\n",
    "    ax.legend(handles=handles[1:], labels=labels[1:])\n",
    "    \n",
    "    plt.setp(snsPlot.get_legend().get_texts(), fontsize=20)\n",
    "    plt.xticks(size = 20)\n",
    "    plt.yticks(size = 20)\n",
    "    plt.tight_layout()\n",
    "    \n",
    "    \n",
    "    \n",
    "    if path:   \n",
    "        fig = snsPlot.get_figure()\n",
    "        fig.savefig(path)"
   ]
  },
  {
   "cell_type": "code",
   "execution_count": null,
   "metadata": {},
   "outputs": [],
   "source": [
    "TimeList_list = [method_dict[\"GreenFloat\"][\"time\"], \n",
    "                 method_dict[\"GreenFloatMultiThread\"][\"time\"],\n",
    "                 method_dict[\"GreenFloatCuda\"][\"time\"],\n",
    "                 method_dict[\"CoinShiftFloat\"][\"time\"]]\n",
    "NameList = [\"Green\", \"Green Multithreading\", \"Green Cuda\", \"Coin Shift\"]"
   ]
  },
  {
   "cell_type": "code",
   "execution_count": null,
   "metadata": {},
   "outputs": [],
   "source": [
    "rep_bins = bins * n_samples"
   ]
  },
  {
   "cell_type": "code",
   "execution_count": null,
   "metadata": {},
   "outputs": [],
   "source": [
    "timePlotSNS(TimeList_list, NameList, rep_bins, 'time(s)',  r\"$n_{w}$\", log=False, path=\"./figures/experiemnt1/TimeVsbins_linear\")\n"
   ]
  },
  {
   "cell_type": "code",
   "execution_count": null,
   "metadata": {},
   "outputs": [],
   "source": [
    "timePlotSNS(TimeList_list, NameList, rep_bins, 'time(s)',  r\"$n_{w}$\", log=True, path=\"./figures/experiemnt1/TimeVsbins_log\")"
   ]
  },
  {
   "cell_type": "code",
   "execution_count": null,
   "metadata": {},
   "outputs": [],
   "source": []
  },
  {
   "cell_type": "code",
   "execution_count": null,
   "metadata": {},
   "outputs": [],
   "source": [
    "n_samples = 5\n",
    "N_list = [50, 100, 200,250,300,350,400,450,500]\n",
    "data_variables = (N_list, n_samples, bins)"
   ]
  },
  {
   "cell_type": "code",
   "execution_count": null,
   "metadata": {},
   "outputs": [],
   "source": [
    "data = lambda n,n_samples : [np.random.randint(0,n,n,dtype=np.int32) for _ in range(n_samples)]"
   ]
  },
  {
   "cell_type": "code",
   "execution_count": null,
   "metadata": {},
   "outputs": [],
   "source": [
    "def runExperiment(method_list, names_list, data, data_variables):\n",
    "    \n",
    "    N_list, n_samples, bins = data_variables\n",
    "    \n",
    "    method_dict = dict()\n",
    "    \n",
    "    for method, name in zip(method_list, names_list):\n",
    "        method_dict[name] = dict()\n",
    "        method_dict[name][\"p_values\"] = list()\n",
    "        method_dict[name][\"time\"] = list()\n",
    "        for i in range(n_samples):\n",
    "            \n",
    "            np.random.seed(i)\n",
    "            \n",
    "            for n in N_list:\n",
    "                \n",
    "                A = np.asarray(data(n, 1))\n",
    "                B = np.asarray(data(n, 1))\n",
    "        \n",
    "                start = time.time()\n",
    "                method_dict[name][\"p_values\"].append(method(A,B)[0])\n",
    "                end = time.time()\n",
    "                method_dict[name][\"time\"].append(end - start)\n",
    "    return method_dict\n",
    "    "
   ]
  },
  {
   "cell_type": "code",
   "execution_count": null,
   "metadata": {},
   "outputs": [],
   "source": [
    "method_list = [pt.GreenInt, pt.GreenIntMultiThread, pt.GreenIntCuda, pt.CoinShiftInt]\n",
    "names_list = [\"GreenInt\", \"GreenIntMultiThread\", \"GreenIntCuda\", \"CoinShiftInt\"]\n",
    "method_dict = runExperiment(method_list, names_list, data, data_variables)\n",
    "    "
   ]
  },
  {
   "cell_type": "code",
   "execution_count": null,
   "metadata": {},
   "outputs": [],
   "source": [
    "TimeList_list_N = [method_dict[\"GreenInt\"][\"time\"], \n",
    "                 method_dict[\"GreenIntMultiThread\"][\"time\"],\n",
    "                 method_dict[\"GreenIntCuda\"][\"time\"],\n",
    "                 method_dict[\"CoinShiftInt\"][\"time\"]]\n",
    "NameList_N = [\"Green\", \"Green Multithreading\", \"Green Cuda\", \"Coin Shift\"]"
   ]
  },
  {
   "cell_type": "code",
   "execution_count": null,
   "metadata": {},
   "outputs": [],
   "source": [
    "timePlotSNS(TimeList_list_N, NameList_N, rep_bins, 'time(s)',  r\"$n$\", log=False, path=\"./figures/experiemnt1/TimeVSetSize_linear\")\n"
   ]
  },
  {
   "cell_type": "code",
   "execution_count": null,
   "metadata": {},
   "outputs": [],
   "source": [
    "timePlotSNS(TimeList_list_N, NameList_N, rep_bins, 'time(s)',  r\"$n$\", log=True, path=\"./figures/experiemnt1/TimeVSetSize_log\")"
   ]
  },
  {
   "cell_type": "code",
   "execution_count": null,
   "metadata": {},
   "outputs": [],
   "source": []
  }
 ],
 "metadata": {
  "kernelspec": {
   "display_name": "Python (gnnEnv)",
   "language": "python",
   "name": "gnnenv"
  },
  "language_info": {
   "codemirror_mode": {
    "name": "ipython",
    "version": 3
   },
   "file_extension": ".py",
   "mimetype": "text/x-python",
   "name": "python",
   "nbconvert_exporter": "python",
   "pygments_lexer": "ipython3",
   "version": "3.6.10"
  }
 },
 "nbformat": 4,
 "nbformat_minor": 2
}
