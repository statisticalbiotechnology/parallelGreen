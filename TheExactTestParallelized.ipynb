{
 "cells": [
  {
   "cell_type": "code",
   "execution_count": 1,
   "metadata": {},
   "outputs": [],
   "source": [
    "import numpy as np\n",
    "from numba import cuda\n",
    "import time\n",
    "import matplotlib.pyplot as plt\n",
    "from utils import significance_of_mean"
   ]
  },
  {
   "cell_type": "markdown",
   "metadata": {},
   "source": [
    "### Synthetic data"
   ]
  },
  {
   "cell_type": "markdown",
   "metadata": {},
   "source": [
    "Generating some random data."
   ]
  },
  {
   "cell_type": "code",
   "execution_count": 2,
   "metadata": {},
   "outputs": [],
   "source": [
    "np.random.seed(1)\n",
    "A = np.asarray([np.random.randint(0,5,5) for _ in range(1)])\n",
    "B = np.asarray([np.random.randint(0,5,5) for _ in range(1)])\n",
    "\n"
   ]
  },
  {
   "cell_type": "code",
   "execution_count": 3,
   "metadata": {},
   "outputs": [],
   "source": [
    "x = list(A[0])\n",
    "y = list(B[0])\n"
   ]
  },
  {
   "cell_type": "markdown",
   "metadata": {},
   "source": [
    "$\\bf{x}=[3, 4, 0, 1, 3]$, $\\bf{y}=[0, 0, 1, 4, 4]$, and $\\bf{z}=[0, 0, 0, 1, 1, 3, 3, 4, 4, 4]$ with sizes $m=5$, $n=5$, and $m+n=10$, respecitvely. The possible sums $s$ of a $m$-combination from $z$ ranges between $0\\leq s \\leq 18$."
   ]
  },
  {
   "cell_type": "markdown",
   "metadata": {},
   "source": [
    "# \\# $j$-combinations s.t. their elements sum is equal to $s$."
   ]
  },
  {
   "cell_type": "markdown",
   "metadata": {},
   "source": [
    "Here is the exact algorithm outline in the article."
   ]
  },
  {
   "cell_type": "code",
   "execution_count": 5,
   "metadata": {},
   "outputs": [],
   "source": [
    "def getNumerator(x, y, dtype):\n",
    "    x = [0] + x \n",
    "    m = len(x)\n",
    "    n = len(y)\n",
    "    z = x + y;z.sort()\n",
    "    S = sum(z[m:])\n",
    "    dtype = np.uint16\n",
    "    \n",
    "\n",
    "    N = np.zeros([S + 1, m ], dtype)\n",
    "    N_old = N.copy()\n",
    "    \n",
    "    for i in range(1,(m+n)+1):\n",
    "        for j in range(1,m +1):\n",
    "            for s in range( S+1):\n",
    "                if s==0 and j-1==0:\n",
    "                    N[s,j-1] = 1\n",
    "                elif i < j:\n",
    "                    N[s,j-1] = 0\n",
    "                elif j > 1 and z[i-1] <= s:\n",
    "                    N[s,j-1] = N_old[s - z[i -1], j-2] + N_old[s,j-1]\n",
    "                elif j > 1 and z[i-1] > s:\n",
    "                    N[s,j-1] = N_old[s,j-1]\n",
    "        \n",
    "        N_old = N.copy()\n",
    "        \n",
    "    return N_old[:,-1]"
   ]
  },
  {
   "cell_type": "code",
   "execution_count": 6,
   "metadata": {},
   "outputs": [
    {
     "ename": "TypeError",
     "evalue": "'float' object cannot be interpreted as an integer",
     "output_type": "error",
     "traceback": [
      "\u001b[0;31m---------------------------------------------------------------------------\u001b[0m",
      "\u001b[0;31mTypeError\u001b[0m                                 Traceback (most recent call last)",
      "\u001b[0;32m<ipython-input-6-46c31abbbb27>\u001b[0m in \u001b[0;36m<module>\u001b[0;34m\u001b[0m\n\u001b[0;32m----> 1\u001b[0;31m \u001b[0mNsm\u001b[0m \u001b[0;34m=\u001b[0m \u001b[0mgetNumerator\u001b[0m\u001b[0;34m(\u001b[0m\u001b[0mx\u001b[0m\u001b[0;34m,\u001b[0m\u001b[0my\u001b[0m\u001b[0;34m,\u001b[0m \u001b[0mnp\u001b[0m\u001b[0;34m.\u001b[0m\u001b[0mfloat64\u001b[0m\u001b[0;34m)\u001b[0m\u001b[0;34m\u001b[0m\u001b[0;34m\u001b[0m\u001b[0m\n\u001b[0m",
      "\u001b[0;32m<ipython-input-5-ef156c538740>\u001b[0m in \u001b[0;36mgetNumerator\u001b[0;34m(x, y, dtype)\u001b[0m\n\u001b[1;32m      8\u001b[0m \u001b[0;34m\u001b[0m\u001b[0m\n\u001b[1;32m      9\u001b[0m \u001b[0;34m\u001b[0m\u001b[0m\n\u001b[0;32m---> 10\u001b[0;31m     \u001b[0mN\u001b[0m \u001b[0;34m=\u001b[0m \u001b[0mnp\u001b[0m\u001b[0;34m.\u001b[0m\u001b[0mzeros\u001b[0m\u001b[0;34m(\u001b[0m\u001b[0;34m[\u001b[0m\u001b[0mS\u001b[0m \u001b[0;34m+\u001b[0m \u001b[0;36m1\u001b[0m\u001b[0;34m,\u001b[0m \u001b[0mm\u001b[0m \u001b[0;34m]\u001b[0m\u001b[0;34m,\u001b[0m \u001b[0mdtype\u001b[0m\u001b[0;34m)\u001b[0m\u001b[0;34m\u001b[0m\u001b[0;34m\u001b[0m\u001b[0m\n\u001b[0m\u001b[1;32m     11\u001b[0m     \u001b[0mN_old\u001b[0m \u001b[0;34m=\u001b[0m \u001b[0mN\u001b[0m\u001b[0;34m.\u001b[0m\u001b[0mcopy\u001b[0m\u001b[0;34m(\u001b[0m\u001b[0;34m)\u001b[0m\u001b[0;34m\u001b[0m\u001b[0;34m\u001b[0m\u001b[0m\n\u001b[1;32m     12\u001b[0m \u001b[0;34m\u001b[0m\u001b[0m\n",
      "\u001b[0;31mTypeError\u001b[0m: 'float' object cannot be interpreted as an integer"
     ]
    }
   ],
   "source": [
    "Nsm = getNumerator(x,y, np.float64)"
   ]
  },
  {
   "cell_type": "markdown",
   "metadata": {},
   "source": [
    "From the calculated $N(s,m)$ the sought of $p$-value can be calculated: $P(s_{\\text{obs}} \\leq S |x, y)=\\sum _{s=s_{obs}}^{\\mathcal{S}}\\frac{N(s,m)}{{m+n \\choose m}}$"
   ]
  },
  {
   "cell_type": "code",
   "execution_count": null,
   "metadata": {},
   "outputs": [],
   "source": [
    "def pValue(Numerator, sample):\n",
    "    return np.round((Numerator / np.sum(Numerator))[sum(sample):].sum(), 3)"
   ]
  },
  {
   "cell_type": "code",
   "execution_count": null,
   "metadata": {},
   "outputs": [],
   "source": [
    "pValue(Nsm, x)"
   ]
  },
  {
   "cell_type": "markdown",
   "metadata": {},
   "source": [
    "The $p-value=0.464$"
   ]
  },
  {
   "cell_type": "markdown",
   "metadata": {},
   "source": [
    "# Parallelization of algorithm"
   ]
  },
  {
   "cell_type": "markdown",
   "metadata": {},
   "source": [
    "It is the two inner for-loops that can parallelized i.e., by keeping $i$ constant, $j$ and $s$ is paralellizible. Let's write those two loops in Numba."
   ]
  },
  {
   "cell_type": "code",
   "execution_count": null,
   "metadata": {},
   "outputs": [],
   "source": [
    "@cuda.jit(\"(u8[:,:], u8[:,:], u8, u8[:],u8)\")\n",
    "def fill_array_u4_v_u2(X1,X2, i_, z_,S):\n",
    "    n = X1.shape[0]\n",
    "    m = X1.shape[1]\n",
    "\n",
    "    s, j = cuda.grid(2)\n",
    "    \n",
    "    if j >= m + 1 or s > S or j < 1:\n",
    "        return\n",
    "    \n",
    "    if s==0 and int(j-1)==0:\n",
    "        X2[s,j -1] = 1\n",
    "    \n",
    "    if i_ < j:\n",
    "        X2[s, j - 1] = 0\n",
    "        \n",
    "    elif j>1 and z_[i_ - 1] <= s:\n",
    "        X2[s, j - 1] = X1[s - int(z_[i_ - 1]), j - 2] + X1[s, j - 1]\n",
    "    \n",
    "    elif j>1 and z_[i_ - 1] > s:\n",
    "        X2[s, j-1] = X1[s,j-1]\n",
    "    "
   ]
  },
  {
   "cell_type": "markdown",
   "metadata": {},
   "source": [
    "The getNumerator can now be rewritten with this new function to get it parallelized."
   ]
  },
  {
   "cell_type": "code",
   "execution_count": null,
   "metadata": {},
   "outputs": [],
   "source": [
    "def getNumeratorParallelized(A0, A1, dA0, dA1, m, n, S, dz, threadsperblock, blockspergrid, stream):\n",
    "    for i in range(1, (m+n) + 1):\n",
    "        fill_array_u4_v_u2[blockspergrid, threadsperblock, stream](dA0, dA1, np.uint64(i), dz, S)\n",
    "        \n",
    "        \n",
    "        tmp = dA0\n",
    "        dA0 = dA1\n",
    "        dA1 = tmp\n",
    "        \n",
    "        \n",
    "        \n",
    "    dA0.to_host(stream)\n",
    "\n",
    "    \n",
    "    return A1[:,-1]"
   ]
  },
  {
   "cell_type": "markdown",
   "metadata": {},
   "source": [
    "Here is some necessary initial step to use the GPU: Initiate array to write, and threadblocks and blockgrids on the GPU."
   ]
  },
  {
   "cell_type": "code",
   "execution_count": null,
   "metadata": {},
   "outputs": [],
   "source": [
    "def runParalellized(x, y):\n",
    "    x = [0] + x \n",
    "    m = len(x)\n",
    "    n = len(y)\n",
    "    z = x + y;z.sort()\n",
    "    S = sum(z[m:])\n",
    "    dtype = np.uint64\n",
    "    \n",
    "    z = np.array(z, dtype)\n",
    "    \n",
    "    A0 = np.zeros([int(S) + 1, m], np.uint64)\n",
    "    NN, NM = A0[:, :].shape\n",
    "        \n",
    "    threadsperblock = (64, 4)\n",
    "    blockspergrid = (int(np.ceil((NN)/ threadsperblock[0])),\n",
    "                     int(np.ceil(NM/threadsperblock[1] + 1))\n",
    "                    )\n",
    "            \n",
    "    A1 = np.zeros([int(S) + 1, m], np.uint64)\n",
    "    \n",
    "    stream = cuda.stream()\n",
    "    dz, dA0, dA1 = cuda.to_device(z, stream), cuda.to_device(A0, stream), cuda.to_device(A1, stream)\n",
    "    \n",
    "    return getNumeratorParallelized(A0,A1, dA0, dA1, m, n, S, dz, threadsperblock, blockspergrid, stream)\n",
    "    "
   ]
  },
  {
   "cell_type": "code",
   "execution_count": null,
   "metadata": {},
   "outputs": [],
   "source": [
    "NsmP = runParalellized(x,y)"
   ]
  },
  {
   "cell_type": "markdown",
   "metadata": {},
   "source": [
    "Verify so they yield the same answer."
   ]
  },
  {
   "cell_type": "code",
   "execution_count": null,
   "metadata": {},
   "outputs": [],
   "source": [
    "np.allclose(NsmP, Nsm2)"
   ]
  },
  {
   "cell_type": "code",
   "execution_count": null,
   "metadata": {},
   "outputs": [],
   "source": []
  }
 ],
 "metadata": {
  "kernelspec": {
   "display_name": "Python kth-cluster",
   "language": "python",
   "name": "kth-cluster"
  },
  "language_info": {
   "codemirror_mode": {
    "name": "ipython",
    "version": 3
   },
   "file_extension": ".py",
   "mimetype": "text/x-python",
   "name": "python",
   "nbconvert_exporter": "python",
   "pygments_lexer": "ipython3",
   "version": "3.6.9"
  }
 },
 "nbformat": 4,
 "nbformat_minor": 2
}
