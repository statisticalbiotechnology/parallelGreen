{
 "cells": [
  {
   "cell_type": "code",
   "execution_count": 18,
   "metadata": {},
   "outputs": [],
   "source": [
    "import numpy as np\n",
    "from numba import cuda\n",
    "import time\n",
    "import matplotlib.pyplot as plt"
   ]
  },
  {
   "cell_type": "markdown",
   "metadata": {},
   "source": [
    "### Synthetic data"
   ]
  },
  {
   "cell_type": "markdown",
   "metadata": {},
   "source": [
    "Generating some random data."
   ]
  },
  {
   "cell_type": "code",
   "execution_count": 19,
   "metadata": {},
   "outputs": [],
   "source": [
    "np.random.seed(1)\n",
    "A = np.asarray([np.random.randint(0,5,5) for _ in range(1)])\n",
    "B = np.asarray([np.random.randint(0,5,5) for _ in range(1)])\n"
   ]
  },
  {
   "cell_type": "code",
   "execution_count": 20,
   "metadata": {},
   "outputs": [],
   "source": [
    "x = list(A[0])\n",
    "y = list(B[0])\n",
    "m = len(x)\n",
    "n = len(y)\n",
    "z = x + y;z.sort()\n",
    "S = sum(z[m:])\n",
    "dtype = np.uint16\n"
   ]
  },
  {
   "cell_type": "code",
   "execution_count": 21,
   "metadata": {},
   "outputs": [
    {
     "data": {
      "text/plain": [
       "(18, 5, 5, 10)"
      ]
     },
     "execution_count": 21,
     "metadata": {},
     "output_type": "execute_result"
    }
   ],
   "source": [
    "S, m, n, m+n"
   ]
  },
  {
   "cell_type": "code",
   "execution_count": 22,
   "metadata": {},
   "outputs": [
    {
     "data": {
      "text/plain": [
       "([3, 4, 0, 1, 3], [0, 0, 1, 4, 4], [0, 0, 0, 1, 1, 3, 3, 4, 4, 4])"
      ]
     },
     "execution_count": 22,
     "metadata": {},
     "output_type": "execute_result"
    }
   ],
   "source": [
    "x, y, z "
   ]
  },
  {
   "cell_type": "markdown",
   "metadata": {},
   "source": [
    "$\\bf{x}=[3, 4, 0, 1, 3]$, $\\bf{y}=[0, 0, 1, 4, 4]$, and $\\bf{z}=[0, 0, 0, 1, 1, 3, 3, 4, 4, 4]$ with sizes $m=5$, $n=5$, and $m+n=10$, respecitvely. The possible sums $s$ of a $m$-combination from $z$ ranges between $0\\leq s \\leq 18$."
   ]
  },
  {
   "cell_type": "markdown",
   "metadata": {},
   "source": [
    "# \\# $j$-combinations s.t. their elements sum is equal to $s$."
   ]
  },
  {
   "cell_type": "markdown",
   "metadata": {},
   "source": [
    "Here is the exact algorithm outline in the article."
   ]
  },
  {
   "cell_type": "code",
   "execution_count": 23,
   "metadata": {},
   "outputs": [],
   "source": [
    "def getNumerator(m, n, S, z, dtype):\n",
    "    N = np.zeros([S + 1, m], dtype)\n",
    "    N_old = N.copy()\n",
    "    \n",
    "    for i in range(1,(m+n)+1):\n",
    "        for j in range(1, m +1):\n",
    "            for s in range(S+1):\n",
    "                if i < j:\n",
    "                    N[s,j-1] = 0\n",
    "                elif j == 1 and z[i-1] == s:\n",
    "                    N[s,j-1] = N_old[s,j-1] + 1\n",
    "                elif j == 1 and z[i-1] != s:\n",
    "                    N[s,j-1] = N_old[s,j-1]\n",
    "                elif j > 1 and z[i-1] <= s:\n",
    "                    N[s,j-1] = N_old[s - z[i -1], j-2] + N_old[s,j-1]\n",
    "                elif j > 1 and z[i-1] > s:\n",
    "                    N[s,j-1] = N_old[s,j-1]\n",
    "    \n",
    "        N_old = N.copy()\n",
    "        \n",
    "    return N_old[:,-1]"
   ]
  },
  {
   "cell_type": "code",
   "execution_count": 24,
   "metadata": {},
   "outputs": [],
   "source": [
    "Nsm = getNumerator(m, n, S, list(z), np.float64)"
   ]
  },
  {
   "cell_type": "code",
   "execution_count": 25,
   "metadata": {},
   "outputs": [
    {
     "data": {
      "text/plain": [
       "array([ 0.,  0.,  1.,  0.,  4., 12., 10., 12., 42., 36., 18., 36., 42.,\n",
       "       12., 10., 12.,  4.,  0.,  1.])"
      ]
     },
     "execution_count": 25,
     "metadata": {},
     "output_type": "execute_result"
    }
   ],
   "source": [
    "Nsm"
   ]
  },
  {
   "cell_type": "markdown",
   "metadata": {},
   "source": [
    "From the calculated $N(s,m)$ the sought of $p$-value can be calculated: $P(s_{\\text{obs}} \\leq S |x, y)=\\sum _{s=s_{obs}}^{\\mathcal{S}}\\frac{N(s,m)}{{m+n \\choose m}}$"
   ]
  },
  {
   "cell_type": "code",
   "execution_count": 9,
   "metadata": {},
   "outputs": [],
   "source": [
    "def pValue(Numerator, sample):\n",
    "    return np.round((Numerator / np.sum(Numerator))[sum(sample):].sum(), 3)"
   ]
  },
  {
   "cell_type": "code",
   "execution_count": 10,
   "metadata": {},
   "outputs": [
    {
     "data": {
      "text/plain": [
       "0.464"
      ]
     },
     "execution_count": 10,
     "metadata": {},
     "output_type": "execute_result"
    }
   ],
   "source": [
    "pValue(Nsm, x)"
   ]
  },
  {
   "cell_type": "markdown",
   "metadata": {},
   "source": [
    "The $p-value=0.464$"
   ]
  },
  {
   "cell_type": "markdown",
   "metadata": {},
   "source": [
    "# Parallelization of algorithm"
   ]
  },
  {
   "cell_type": "markdown",
   "metadata": {},
   "source": [
    "It is the two inner for-loops that can parallelized i.e., by keeping $i$ constant, $j$ and $s$ is paralellizible. Let's write those two loops in Numba."
   ]
  },
  {
   "cell_type": "code",
   "execution_count": 11,
   "metadata": {},
   "outputs": [],
   "source": [
    "@cuda.jit(\"(u4[:,:],u4[:,:], u2, u2[:],u2)\")\n",
    "def fill_array_u4_v_u2(X1,X2, i_, z_,S):\n",
    "    n = X1.shape[0]\n",
    "    m = X1.shape[1]\n",
    "\n",
    "    s, j = cuda.grid(2)\n",
    "    \n",
    "    if j >= m + 1 or s > S:\n",
    "        return\n",
    "    \n",
    "    if i_ < j:\n",
    "        X2[s, j - 1] = 0\n",
    "        \n",
    "    elif j==1 and  s == z_[i_ - 1]:\n",
    "        X2[s, j - 1]= X1[s, j - 1] + 1\n",
    "    \n",
    "    elif j==1 and  s != z_[i_ - 1]:\n",
    "        X2[s, j - 1]= X1[s, j - 1]\n",
    "    \n",
    "    elif j>1 and z_[i_ - 1] <= s:\n",
    "        X2[s, j - 1] = X1[s - int(z_[i_ - 1]), j - 2] + X1[s, j - 1]\n",
    "    \n",
    "    elif j>1 and z_[i_ - 1] > s:\n",
    "        X2[s, j-1] = X1[s,j-1]"
   ]
  },
  {
   "cell_type": "markdown",
   "metadata": {},
   "source": [
    "The getNumerator can now be rewritten with this new function to get it parallelized."
   ]
  },
  {
   "cell_type": "code",
   "execution_count": 12,
   "metadata": {},
   "outputs": [],
   "source": [
    "def getNumeratorParallelized(A0, dA0, dA1, m, n, S, dz):\n",
    "    for i in range(1, (m+n) + 1):\n",
    "        fill_array_u4_v_u2[blockspergrid, threadsperblock, stream](dA0, dA1, np.uint16(i), dz, S)\n",
    "        tmp = dA0\n",
    "        dA0 = dA1\n",
    "        dA1 = tmp\n",
    "        \n",
    "    dA0.to_host(stream)\n",
    "    stream.synchronize()\n",
    "    return A0[:,-1]"
   ]
  },
  {
   "cell_type": "markdown",
   "metadata": {},
   "source": [
    "Here is some necessary initial step to use the GPU: Initiate array to write, and threadblocks and blockgrids on the GPU."
   ]
  },
  {
   "cell_type": "code",
   "execution_count": 13,
   "metadata": {},
   "outputs": [],
   "source": [
    "\n",
    "A0 = np.zeros([int(S) + 1, m], np.uint32)\n",
    "\n",
    "NN, NM = A0[:, :].shape\n",
    "        \n",
    "threadsperblock = (64, 3)\n",
    "blockspergrid = (int(np.ceil((NN)/ threadsperblock[0])),\n",
    "                 int(np.ceil(NM/threadsperblock[1] + 1))\n",
    "                )\n",
    "            \n",
    "A1 = np.zeros([int(S) + 1, m], np.uint32)"
   ]
  },
  {
   "cell_type": "markdown",
   "metadata": {},
   "source": [
    "Load the arrays onto the GPU."
   ]
  },
  {
   "cell_type": "code",
   "execution_count": 14,
   "metadata": {},
   "outputs": [],
   "source": [
    "stream = cuda.stream()\n",
    "dz, dA0, dA1 = cuda.to_device(z, stream), cuda.to_device(A0, stream), cuda.to_device(A1, stream)"
   ]
  },
  {
   "cell_type": "code",
   "execution_count": 15,
   "metadata": {},
   "outputs": [],
   "source": [
    "NsmP = getNumeratorParallelized(A0, dA0, dA1, m, n, S, dz)"
   ]
  },
  {
   "cell_type": "markdown",
   "metadata": {},
   "source": [
    "Verify so they yield the same answer."
   ]
  },
  {
   "cell_type": "code",
   "execution_count": 17,
   "metadata": {},
   "outputs": [
    {
     "data": {
      "text/plain": [
       "True"
      ]
     },
     "execution_count": 17,
     "metadata": {},
     "output_type": "execute_result"
    }
   ],
   "source": [
    "np.allclose(NsmP, Nsm)"
   ]
  },
  {
   "cell_type": "code",
   "execution_count": null,
   "metadata": {},
   "outputs": [],
   "source": []
  }
 ],
 "metadata": {
  "kernelspec": {
   "display_name": "Python 3",
   "language": "python",
   "name": "python3"
  },
  "language_info": {
   "codemirror_mode": {
    "name": "ipython",
    "version": 3
   },
   "file_extension": ".py",
   "mimetype": "text/x-python",
   "name": "python",
   "nbconvert_exporter": "python",
   "pygments_lexer": "ipython3",
   "version": "3.6.9"
  }
 },
 "nbformat": 4,
 "nbformat_minor": 2
}
